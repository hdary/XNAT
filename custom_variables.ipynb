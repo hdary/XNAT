{
 "cells": [
  {
   "cell_type": "code",
   "execution_count": 2,
   "metadata": {},
   "outputs": [],
   "source": [
    "import xnat\n",
    "import pyxnat\n",
    "from pyxnat import Interface\n",
    "import xnat\n",
    "import os\n",
    "import pydicom\n",
    "import tempfile\n",
    "from tqdm import tqdm\n"
   ]
  },
  {
   "cell_type": "code",
   "execution_count": null,
   "metadata": {},
   "outputs": [],
   "source": [
    "# #The URL of your XNAT\n",
    "# xnat_host = os.environ['XNAT_HOST']\n",
    "\n",
    "# #A temporary token which can be used as a username\n",
    "# user = os.environ['XNAT_USER']\n",
    "\n",
    "# #A temporary token which can be used as a password\n",
    "# pwd = os.environ['XNAT_PASS']"
   ]
  },
  {
   "cell_type": "code",
   "execution_count": null,
   "metadata": {},
   "outputs": [],
   "source": [
    "# session = xnat.connect(xnat_host, user=user, password=pwd)"
   ]
  },
  {
   "cell_type": "code",
   "execution_count": 60,
   "metadata": {},
   "outputs": [],
   "source": [
    "session = xnat.connect('https://xnat.crmbm.univ-amu.fr', user='hdary')"
   ]
  },
  {
   "cell_type": "code",
   "execution_count": 61,
   "metadata": {},
   "outputs": [],
   "source": [
    "my_project = session.projects[\"VIDA_BRAIN_EPINOV\"]"
   ]
  },
  {
   "cell_type": "markdown",
   "metadata": {},
   "source": [
    "check tag dicom for gender"
   ]
  },
  {
   "cell_type": "markdown",
   "metadata": {},
   "source": [
    "check tag dicom for age"
   ]
  },
  {
   "cell_type": "code",
   "execution_count": 62,
   "metadata": {},
   "outputs": [
    {
     "data": {
      "text/plain": [
       "<XNATListing {(XNAT_CRMBM_S00019, 01_47_Q-M): <SubjectData 01_47_Q-M (XNAT_CRMBM_S00019)>, (XNAT_CRMBM_S00020, 01_39_DT): <SubjectData 01_39_DT (XNAT_CRMBM_S00020)>, (XNAT_CRMBM_S00021, 01-68-P-N): <SubjectData 01-68-P-N (XNAT_CRMBM_S00021)>, (XNAT_CRMBM_S00040, 01-38-F-G): <SubjectData 01-38-F-G (XNAT_CRMBM_S00040)>, (XNAT_CRMBM_S00004, 01-86-pl): <SubjectData 01-86-pl (XNAT_CRMBM_S00004)>, (XNAT_CRMBM_S00008, 01-85-g-s): <SubjectData 01-85-g-s (XNAT_CRMBM_S00008)>, (XNAT_CRMBM_S00009, 01-75-rs): <SubjectData 01-75-rs (XNAT_CRMBM_S00009)>, (XNAT_CRMBM_S00010, 01-72-m-v): <SubjectData 01-72-m-v (XNAT_CRMBM_S00010)>, (XNAT_CRMBM_S00011, 01-42-A-S): <SubjectData 01-42-A-S (XNAT_CRMBM_S00011)>, (XNAT_CRMBM_S00012, 01_73_A-M): <SubjectData 01_73_A-M (XNAT_CRMBM_S00012)>, (XNAT_CRMBM_S00013, 01-61-B-L): <SubjectData 01-61-B-L (XNAT_CRMBM_S00013)>, (XNAT_CRMBM_S00014, 01-64-B-A): <SubjectData 01-64-B-A (XNAT_CRMBM_S00014)>, (XNAT_CRMBM_S00015, 01_41_CL): <SubjectData 01_41_CL (XNAT_CRMBM_S00015)>, (XNAT_CRMBM_S00016, 01-74-G-M): <SubjectData 01-74-G-M (XNAT_CRMBM_S00016)>, (XNAT_CRMBM_S00017, 01-71-D-C): <SubjectData 01-71-D-C (XNAT_CRMBM_S00017)>, (XNAT_CRMBM_S00018, 01_35_Z-J): <SubjectData 01_35_Z-J (XNAT_CRMBM_S00018)>, (XNAT_CRMBM_S00022, 01_46_L-J): <SubjectData 01_46_L-J (XNAT_CRMBM_S00022)>, (XNAT_CRMBM_S00023, 01_80_V_T): <SubjectData 01_80_V_T (XNAT_CRMBM_S00023)>, (XNAT_CRMBM_S00024, 01-82_B-A): <SubjectData 01-82_B-A (XNAT_CRMBM_S00024)>, (XNAT_CRMBM_S00025, 01_70_L-E): <SubjectData 01_70_L-E (XNAT_CRMBM_S00025)>, (XNAT_CRMBM_S00026, 01_62_T-E): <SubjectData 01_62_T-E (XNAT_CRMBM_S00026)>, (XNAT_CRMBM_S00027, 01-83-P-G): <SubjectData 01-83-P-G (XNAT_CRMBM_S00027)>, (XNAT_CRMBM_S00028, 01_60_L-N): <SubjectData 01_60_L-N (XNAT_CRMBM_S00028)>, (XNAT_CRMBM_S00029, 01-51_L-L): <SubjectData 01-51_L-L (XNAT_CRMBM_S00029)>, (XNAT_CRMBM_S00030, 01_48_G-L): <SubjectData 01_48_G-L (XNAT_CRMBM_S00030)>, (XNAT_CRMBM_S00031, 01-54-D-R): <SubjectData 01-54-D-R (XNAT_CRMBM_S00031)>, (XNAT_CRMBM_S00032, 01-79-G-S): <SubjectData 01-79-G-S (XNAT_CRMBM_S00032)>, (XNAT_CRMBM_S00033, 01_84_G-M): <SubjectData 01_84_G-M (XNAT_CRMBM_S00033)>, (XNAT_CRMBM_S00034, 01_45_B-N): <SubjectData 01_45_B-N (XNAT_CRMBM_S00034)>, (XNAT_CRMBM_S00035, 01_37_WM): <SubjectData 01_37_WM (XNAT_CRMBM_S00035)>, (XNAT_CRMBM_S00036, 01_58_T-A): <SubjectData 01_58_T-A (XNAT_CRMBM_S00036)>, (XNAT_CRMBM_S00037, 01_76_T_D): <SubjectData 01_76_T_D (XNAT_CRMBM_S00037)>, (XNAT_CRMBM_S00038, FANTOME_ACR_P): <SubjectData FANTOME_ACR_P (XNAT_CRMBM_S00038)>, (XNAT_CRMBM_S00039, 01_49_RD): <SubjectData 01_49_RD (XNAT_CRMBM_S00039)>, (XNAT_CRMBM_S00041, 01-65-S-F): <SubjectData 01-65-S-F (XNAT_CRMBM_S00041)>, (XNAT_CRMBM_S00042, 01-66-L-Q): <SubjectData 01-66-L-Q (XNAT_CRMBM_S00042)>, (XNAT_CRMBM_S00044, 01_36_NS): <SubjectData 01_36_NS (XNAT_CRMBM_S00044)>, (XNAT_CRMBM_S00045, 01_59_P-V): <SubjectData 01_59_P-V (XNAT_CRMBM_S00045)>, (XNAT_CRMBM_S00046, 01_67_T-M): <SubjectData 01_67_T-M (XNAT_CRMBM_S00046)>, (XNAT_CRMBM_S00047, 01_77_B-B): <SubjectData 01_77_B-B (XNAT_CRMBM_S00047)>, (XNAT_CRMBM_S00048, 01_78_M-C): <SubjectData 01_78_M-C (XNAT_CRMBM_S00048)>, (XNAT_CRMBM_S00049, 01_44_FM): <SubjectData 01_44_FM (XNAT_CRMBM_S00049)>, (XNAT_CRMBM_S00050, 01-50-D-A): <SubjectData 01-50-D-A (XNAT_CRMBM_S00050)>, (XNAT_CRMBM_S00051, 01_52_B-L): <SubjectData 01_52_B-L (XNAT_CRMBM_S00051)>, (XNAT_CRMBM_S00052, 01_40_F-L): <SubjectData 01_40_F-L (XNAT_CRMBM_S00052)>, (XNAT_CRMBM_S00053, 01_33_D-S): <SubjectData 01_33_D-S (XNAT_CRMBM_S00053)>, (XNAT_CRMBM_S00054, 01-57-F-C): <SubjectData 01-57-F-C (XNAT_CRMBM_S00054)>, (XNAT_CRMBM_S00055, 01-43-SH): <SubjectData 01-43-SH (XNAT_CRMBM_S00055)>, (XNAT_CRMBM_S00056, 01_55_L_M): <SubjectData 01_55_L_M (XNAT_CRMBM_S00056)>, (XNAT_CRMBM_S00057, 01-63-B-K): <SubjectData 01-63-B-K (XNAT_CRMBM_S00057)>, (XNAT_CRMBM_S00058, 01_53_GL): <SubjectData 01_53_GL (XNAT_CRMBM_S00058)>, (XNAT_CRMBM_S00059, 01-56-C-D): <SubjectData 01-56-C-D (XNAT_CRMBM_S00059)>}>"
      ]
     },
     "execution_count": 62,
     "metadata": {},
     "output_type": "execute_result"
    }
   ],
   "source": [
    "my_project.subjects"
   ]
  },
  {
   "cell_type": "code",
   "execution_count": 63,
   "metadata": {},
   "outputs": [],
   "source": [
    "subject = my_project.subjects['01-38-F-G']\n",
    "experiment = subject.experiments['202011161412']\n",
    "scan = experiment.scans[0]"
   ]
  },
  {
   "cell_type": "code",
   "execution_count": null,
   "metadata": {},
   "outputs": [],
   "source": [
    "scan.dicom_dump()"
   ]
  },
  {
   "cell_type": "code",
   "execution_count": 7,
   "metadata": {},
   "outputs": [],
   "source": [
    "file_obj = scan.resources['DICOM'].files[0]"
   ]
  },
  {
   "cell_type": "code",
   "execution_count": 8,
   "metadata": {},
   "outputs": [],
   "source": [
    "with file_obj.open() as fin:\n",
    "    data = pydicom.dcmread(fin, stop_before_pixels=True)\n",
    "    patient_birth_date = data[0x010,0x030].value\n",
    "    sex = data[0x010,0x040].value\n",
    "    age = data[0x010,0x1010].value\n",
    "    size = data[0x010,0x1020].value\n",
    "    weight = data[0x010,0x1030].value\n",
    "    unique_id = data[0x008,0x050].value\n"
   ]
  },
  {
   "cell_type": "code",
   "execution_count": 9,
   "metadata": {},
   "outputs": [
    {
     "name": "stdout",
     "output_type": "stream",
     "text": [
      "19820913\n",
      "M\n",
      "038Y\n",
      "1.82\n",
      "86\n",
      "\n"
     ]
    }
   ],
   "source": [
    "print(patient_birth_date)\n",
    "print(sex)\n",
    "print(age)\n",
    "print(size)\n",
    "print(weight)\n",
    "print(unique_id)"
   ]
  },
  {
   "cell_type": "code",
   "execution_count": 64,
   "metadata": {},
   "outputs": [
    {
     "data": {
      "text/plain": [
       "<CustomVariableGroup default {patient_unique_id (string): None}>"
      ]
     },
     "execution_count": 64,
     "metadata": {},
     "output_type": "execute_result"
    }
   ],
   "source": [
    "subject.custom_variables['default']['patient_unique_id'] = unique_id"
   ]
  },
  {
   "cell_type": "code",
   "execution_count": 65,
   "metadata": {},
   "outputs": [
    {
     "name": "stderr",
     "output_type": "stream",
     "text": [
      "Exception in thread XNATpyKeepAliveThread:\n",
      "Traceback (most recent call last):\n",
      "  File \"/home/hdary/miniconda3/lib/python3.8/site-packages/urllib3/connection.py\", line 159, in _new_conn\n",
      "    conn = connection.create_connection(\n",
      "  File \"/home/hdary/miniconda3/lib/python3.8/site-packages/urllib3/util/connection.py\", line 61, in create_connection\n",
      "    for res in socket.getaddrinfo(host, port, family, socket.SOCK_STREAM):\n",
      "  File \"/home/hdary/miniconda3/lib/python3.8/socket.py\", line 918, in getaddrinfo\n",
      "    for res in _socket.getaddrinfo(host, port, family, type, proto, flags):\n",
      "socket.gaierror: [Errno -3] Temporary failure in name resolution\n",
      "\n",
      "During handling of the above exception, another exception occurred:\n",
      "\n",
      "Traceback (most recent call last):\n",
      "  File \"/home/hdary/miniconda3/lib/python3.8/site-packages/urllib3/connectionpool.py\", line 670, in urlopen\n",
      "    httplib_response = self._make_request(\n",
      "  File \"/home/hdary/miniconda3/lib/python3.8/site-packages/urllib3/connectionpool.py\", line 381, in _make_request\n",
      "    self._validate_conn(conn)\n",
      "  File \"/home/hdary/miniconda3/lib/python3.8/site-packages/urllib3/connectionpool.py\", line 976, in _validate_conn\n",
      "    conn.connect()\n",
      "  File \"/home/hdary/miniconda3/lib/python3.8/site-packages/urllib3/connection.py\", line 308, in connect\n",
      "    conn = self._new_conn()\n",
      "  File \"/home/hdary/miniconda3/lib/python3.8/site-packages/urllib3/connection.py\", line 171, in _new_conn\n",
      "    raise NewConnectionError(\n",
      "urllib3.exceptions.NewConnectionError: <urllib3.connection.HTTPSConnection object at 0x7fddeb3e9700>: Failed to establish a new connection: [Errno -3] Temporary failure in name resolution\n",
      "\n",
      "During handling of the above exception, another exception occurred:\n",
      "\n",
      "Traceback (most recent call last):\n",
      "  File \"/home/hdary/miniconda3/lib/python3.8/site-packages/requests/adapters.py\", line 439, in send\n",
      "    resp = conn.urlopen(\n",
      "  File \"/home/hdary/miniconda3/lib/python3.8/site-packages/urllib3/connectionpool.py\", line 724, in urlopen\n",
      "    retries = retries.increment(\n",
      "  File \"/home/hdary/miniconda3/lib/python3.8/site-packages/urllib3/util/retry.py\", line 439, in increment\n",
      "    raise MaxRetryError(_pool, url, error or ResponseError(cause))\n",
      "urllib3.exceptions.MaxRetryError: HTTPSConnectionPool(host='xnat.crmbm.univ-amu.fr', port=443): Max retries exceeded with url: /data/JSESSION (Caused by NewConnectionError('<urllib3.connection.HTTPSConnection object at 0x7fddeb3e9700>: Failed to establish a new connection: [Errno -3] Temporary failure in name resolution'))\n",
      "\n",
      "During handling of the above exception, another exception occurred:\n",
      "\n",
      "Traceback (most recent call last):\n",
      "  File \"/home/hdary/miniconda3/lib/python3.8/threading.py\", line 932, in _bootstrap_inner\n",
      "    self.run()\n",
      "  File \"/home/hdary/miniconda3/lib/python3.8/threading.py\", line 870, in run\n",
      "    self._target(*self._args, **self._kwargs)\n",
      "  File \"/home/hdary/miniconda3/lib/python3.8/site-packages/xnat/session.py\", line 258, in _keepalive_thread_run\n",
      "    self.heartbeat()\n",
      "  File \"/home/hdary/miniconda3/lib/python3.8/site-packages/xnat/session.py\", line 249, in heartbeat\n",
      "    self.get('/data/JSESSION', timeout=10)\n",
      "  File \"/home/hdary/miniconda3/lib/python3.8/site-packages/xnat/session.py\", line 382, in get\n",
      "    response = self.interface.get(uri, timeout=timeout, headers=headers)\n",
      "  File \"/home/hdary/miniconda3/lib/python3.8/site-packages/requests/sessions.py\", line 543, in get\n",
      "    return self.request('GET', url, **kwargs)\n",
      "  File \"/home/hdary/miniconda3/lib/python3.8/site-packages/requests/sessions.py\", line 530, in request\n",
      "    resp = self.send(prep, **send_kwargs)\n",
      "  File \"/home/hdary/miniconda3/lib/python3.8/site-packages/requests/sessions.py\", line 643, in send\n",
      "    r = adapter.send(request, **kwargs)\n",
      "  File \"/home/hdary/miniconda3/lib/python3.8/site-packages/requests/adapters.py\", line 516, in send\n",
      "    raise ConnectionError(e, request=request)\n",
      "requests.exceptions.ConnectionError: HTTPSConnectionPool(host='xnat.crmbm.univ-amu.fr', port=443): Max retries exceeded with url: /data/JSESSION (Caused by NewConnectionError('<urllib3.connection.HTTPSConnection object at 0x7fddeb3e9700>: Failed to establish a new connection: [Errno -3] Temporary failure in name resolution'))\n",
      "Exception in thread XNATpyKeepAliveThread:\n",
      "Traceback (most recent call last):\n",
      "  File \"/home/hdary/miniconda3/lib/python3.8/site-packages/urllib3/connection.py\", line 159, in _new_conn\n",
      "    conn = connection.create_connection(\n",
      "  File \"/home/hdary/miniconda3/lib/python3.8/site-packages/urllib3/util/connection.py\", line 61, in create_connection\n",
      "    for res in socket.getaddrinfo(host, port, family, socket.SOCK_STREAM):\n",
      "  File \"/home/hdary/miniconda3/lib/python3.8/socket.py\", line 918, in getaddrinfo\n",
      "    for res in _socket.getaddrinfo(host, port, family, type, proto, flags):\n",
      "socket.gaierror: [Errno -3] Temporary failure in name resolution\n",
      "\n",
      "During handling of the above exception, another exception occurred:\n",
      "\n",
      "Traceback (most recent call last):\n",
      "  File \"/home/hdary/miniconda3/lib/python3.8/site-packages/urllib3/connectionpool.py\", line 670, in urlopen\n",
      "    httplib_response = self._make_request(\n",
      "  File \"/home/hdary/miniconda3/lib/python3.8/site-packages/urllib3/connectionpool.py\", line 381, in _make_request\n",
      "    self._validate_conn(conn)\n",
      "  File \"/home/hdary/miniconda3/lib/python3.8/site-packages/urllib3/connectionpool.py\", line 976, in _validate_conn\n",
      "    conn.connect()\n",
      "  File \"/home/hdary/miniconda3/lib/python3.8/site-packages/urllib3/connection.py\", line 308, in connect\n",
      "    conn = self._new_conn()\n",
      "  File \"/home/hdary/miniconda3/lib/python3.8/site-packages/urllib3/connection.py\", line 171, in _new_conn\n",
      "    raise NewConnectionError(\n",
      "urllib3.exceptions.NewConnectionError: <urllib3.connection.HTTPSConnection object at 0x7fdde878df70>: Failed to establish a new connection: [Errno -3] Temporary failure in name resolution\n",
      "\n",
      "During handling of the above exception, another exception occurred:\n",
      "\n",
      "Traceback (most recent call last):\n",
      "  File \"/home/hdary/miniconda3/lib/python3.8/site-packages/requests/adapters.py\", line 439, in send\n",
      "    resp = conn.urlopen(\n",
      "  File \"/home/hdary/miniconda3/lib/python3.8/site-packages/urllib3/connectionpool.py\", line 724, in urlopen\n",
      "    retries = retries.increment(\n",
      "  File \"/home/hdary/miniconda3/lib/python3.8/site-packages/urllib3/util/retry.py\", line 439, in increment\n",
      "    raise MaxRetryError(_pool, url, error or ResponseError(cause))\n",
      "urllib3.exceptions.MaxRetryError: HTTPSConnectionPool(host='xnat.crmbm.univ-amu.fr', port=443): Max retries exceeded with url: /data/JSESSION (Caused by NewConnectionError('<urllib3.connection.HTTPSConnection object at 0x7fdde878df70>: Failed to establish a new connection: [Errno -3] Temporary failure in name resolution'))\n",
      "\n",
      "During handling of the above exception, another exception occurred:\n",
      "\n",
      "Traceback (most recent call last):\n",
      "  File \"/home/hdary/miniconda3/lib/python3.8/threading.py\", line 932, in _bootstrap_inner\n",
      "    self.run()\n",
      "  File \"/home/hdary/miniconda3/lib/python3.8/threading.py\", line 870, in run\n",
      "    self._target(*self._args, **self._kwargs)\n",
      "  File \"/home/hdary/miniconda3/lib/python3.8/site-packages/xnat/session.py\", line 258, in _keepalive_thread_run\n",
      "    self.heartbeat()\n",
      "  File \"/home/hdary/miniconda3/lib/python3.8/site-packages/xnat/session.py\", line 249, in heartbeat\n",
      "    self.get('/data/JSESSION', timeout=10)\n",
      "  File \"/home/hdary/miniconda3/lib/python3.8/site-packages/xnat/session.py\", line 382, in get\n",
      "    response = self.interface.get(uri, timeout=timeout, headers=headers)\n",
      "  File \"/home/hdary/miniconda3/lib/python3.8/site-packages/requests/sessions.py\", line 543, in get\n",
      "    return self.request('GET', url, **kwargs)\n",
      "  File \"/home/hdary/miniconda3/lib/python3.8/site-packages/requests/sessions.py\", line 530, in request\n",
      "    resp = self.send(prep, **send_kwargs)\n",
      "  File \"/home/hdary/miniconda3/lib/python3.8/site-packages/requests/sessions.py\", line 643, in send\n",
      "    r = adapter.send(request, **kwargs)\n",
      "  File \"/home/hdary/miniconda3/lib/python3.8/site-packages/requests/adapters.py\", line 516, in send\n",
      "    raise ConnectionError(e, request=request)\n",
      "requests.exceptions.ConnectionError: HTTPSConnectionPool(host='xnat.crmbm.univ-amu.fr', port=443): Max retries exceeded with url: /data/JSESSION (Caused by NewConnectionError('<urllib3.connection.HTTPSConnection object at 0x7fdde878df70>: Failed to establish a new connection: [Errno -3] Temporary failure in name resolution'))\n",
      "Exception in thread XNATpyKeepAliveThread:\n",
      "Traceback (most recent call last):\n",
      "  File \"/home/hdary/miniconda3/lib/python3.8/site-packages/urllib3/connection.py\", line 159, in _new_conn\n",
      "    conn = connection.create_connection(\n",
      "  File \"/home/hdary/miniconda3/lib/python3.8/site-packages/urllib3/util/connection.py\", line 61, in create_connection\n",
      "    for res in socket.getaddrinfo(host, port, family, socket.SOCK_STREAM):\n",
      "  File \"/home/hdary/miniconda3/lib/python3.8/socket.py\", line 918, in getaddrinfo\n",
      "    for res in _socket.getaddrinfo(host, port, family, type, proto, flags):\n",
      "socket.gaierror: [Errno -3] Temporary failure in name resolution\n",
      "\n",
      "During handling of the above exception, another exception occurred:\n",
      "\n",
      "Traceback (most recent call last):\n",
      "  File \"/home/hdary/miniconda3/lib/python3.8/site-packages/urllib3/connectionpool.py\", line 670, in urlopen\n",
      "    httplib_response = self._make_request(\n",
      "  File \"/home/hdary/miniconda3/lib/python3.8/site-packages/urllib3/connectionpool.py\", line 381, in _make_request\n",
      "    self._validate_conn(conn)\n",
      "  File \"/home/hdary/miniconda3/lib/python3.8/site-packages/urllib3/connectionpool.py\", line 976, in _validate_conn\n",
      "    conn.connect()\n",
      "  File \"/home/hdary/miniconda3/lib/python3.8/site-packages/urllib3/connection.py\", line 308, in connect\n",
      "    conn = self._new_conn()\n",
      "  File \"/home/hdary/miniconda3/lib/python3.8/site-packages/urllib3/connection.py\", line 171, in _new_conn\n",
      "    raise NewConnectionError(\n",
      "urllib3.exceptions.NewConnectionError: <urllib3.connection.HTTPSConnection object at 0x7fdde9ff8730>: Failed to establish a new connection: [Errno -3] Temporary failure in name resolution\n",
      "\n",
      "During handling of the above exception, another exception occurred:\n",
      "\n",
      "Traceback (most recent call last):\n",
      "  File \"/home/hdary/miniconda3/lib/python3.8/site-packages/requests/adapters.py\", line 439, in send\n",
      "    resp = conn.urlopen(\n",
      "  File \"/home/hdary/miniconda3/lib/python3.8/site-packages/urllib3/connectionpool.py\", line 724, in urlopen\n",
      "    retries = retries.increment(\n",
      "  File \"/home/hdary/miniconda3/lib/python3.8/site-packages/urllib3/util/retry.py\", line 439, in increment\n",
      "    raise MaxRetryError(_pool, url, error or ResponseError(cause))\n",
      "urllib3.exceptions.MaxRetryError: HTTPSConnectionPool(host='xnat.crmbm.univ-amu.fr', port=443): Max retries exceeded with url: /data/JSESSION (Caused by NewConnectionError('<urllib3.connection.HTTPSConnection object at 0x7fdde9ff8730>: Failed to establish a new connection: [Errno -3] Temporary failure in name resolution'))\n",
      "\n",
      "During handling of the above exception, another exception occurred:\n",
      "\n",
      "Traceback (most recent call last):\n",
      "  File \"/home/hdary/miniconda3/lib/python3.8/threading.py\", line 932, in _bootstrap_inner\n",
      "    self.run()\n",
      "  File \"/home/hdary/miniconda3/lib/python3.8/threading.py\", line 870, in run\n",
      "Exception in thread XNATpyKeepAliveThread:\n",
      "Traceback (most recent call last):\n",
      "  File \"/home/hdary/miniconda3/lib/python3.8/site-packages/urllib3/connection.py\", line 159, in _new_conn\n",
      "    self._target(*self._args, **self._kwargs)\n",
      "  File \"/home/hdary/miniconda3/lib/python3.8/site-packages/xnat/session.py\", line 258, in _keepalive_thread_run\n",
      "    self.heartbeat()\n",
      "  File \"/home/hdary/miniconda3/lib/python3.8/site-packages/xnat/session.py\", line 249, in heartbeat\n",
      "    self.get('/data/JSESSION', timeout=10)\n",
      "  File \"/home/hdary/miniconda3/lib/python3.8/site-packages/xnat/session.py\", line 382, in get\n",
      "    conn = connection.create_connection(\n",
      "  File \"/home/hdary/miniconda3/lib/python3.8/site-packages/urllib3/util/connection.py\", line 61, in create_connection\n",
      "    for res in socket.getaddrinfo(host, port, family, socket.SOCK_STREAM):\n",
      "  File \"/home/hdary/miniconda3/lib/python3.8/socket.py\", line 918, in getaddrinfo\n",
      "    for res in _socket.getaddrinfo(host, port, family, type, proto, flags):\n",
      "socket.gaierror: [Errno -3] Temporary failure in name resolution\n",
      "\n",
      "During handling of the above exception, another exception occurred:\n",
      "\n",
      "Traceback (most recent call last):\n",
      "  File \"/home/hdary/miniconda3/lib/python3.8/site-packages/urllib3/connectionpool.py\", line 670, in urlopen\n",
      "    response = self.interface.get(uri, timeout=timeout, headers=headers)\n",
      "  File \"/home/hdary/miniconda3/lib/python3.8/site-packages/requests/sessions.py\", line 543, in get\n",
      "    return self.request('GET', url, **kwargs)\n",
      "  File \"/home/hdary/miniconda3/lib/python3.8/site-packages/requests/sessions.py\", line 530, in request\n",
      "    resp = self.send(prep, **send_kwargs)\n",
      "  File \"/home/hdary/miniconda3/lib/python3.8/site-packages/requests/sessions.py\", line 643, in send\n",
      "    httplib_response = self._make_request(\n",
      "  File \"/home/hdary/miniconda3/lib/python3.8/site-packages/urllib3/connectionpool.py\", line 381, in _make_request\n",
      "    r = adapter.send(request, **kwargs)\n",
      "  File \"/home/hdary/miniconda3/lib/python3.8/site-packages/requests/adapters.py\", line 516, in send\n",
      "    raise ConnectionError(e, request=request)\n",
      "requests.exceptions.ConnectionError: HTTPSConnectionPool(host='xnat.crmbm.univ-amu.fr', port=443): Max retries exceeded with url: /data/JSESSION (Caused by NewConnectionError('<urllib3.connection.HTTPSConnection object at 0x7fdde9ff8730>: Failed to establish a new connection: [Errno -3] Temporary failure in name resolution'))\n",
      "    self._validate_conn(conn)\n",
      "  File \"/home/hdary/miniconda3/lib/python3.8/site-packages/urllib3/connectionpool.py\", line 976, in _validate_conn\n",
      "    conn.connect()\n",
      "  File \"/home/hdary/miniconda3/lib/python3.8/site-packages/urllib3/connection.py\", line 308, in connect\n",
      "    conn = self._new_conn()\n",
      "  File \"/home/hdary/miniconda3/lib/python3.8/site-packages/urllib3/connection.py\", line 171, in _new_conn\n",
      "    raise NewConnectionError(\n",
      "urllib3.exceptions.NewConnectionError: <urllib3.connection.HTTPSConnection object at 0x7fddea8db9d0>: Failed to establish a new connection: [Errno -3] Temporary failure in name resolution\n",
      "\n",
      "During handling of the above exception, another exception occurred:\n",
      "\n",
      "Traceback (most recent call last):\n",
      "  File \"/home/hdary/miniconda3/lib/python3.8/site-packages/requests/adapters.py\", line 439, in send\n",
      "    resp = conn.urlopen(\n",
      "  File \"/home/hdary/miniconda3/lib/python3.8/site-packages/urllib3/connectionpool.py\", line 724, in urlopen\n",
      "    retries = retries.increment(\n",
      "  File \"/home/hdary/miniconda3/lib/python3.8/site-packages/urllib3/util/retry.py\", line 439, in increment\n",
      "    raise MaxRetryError(_pool, url, error or ResponseError(cause))\n",
      "urllib3.exceptions.MaxRetryError: HTTPSConnectionPool(host='xnat.crmbm.univ-amu.fr', port=443): Max retries exceeded with url: /data/JSESSION (Caused by NewConnectionError('<urllib3.connection.HTTPSConnection object at 0x7fddea8db9d0>: Failed to establish a new connection: [Errno -3] Temporary failure in name resolution'))\n",
      "\n",
      "During handling of the above exception, another exception occurred:\n",
      "\n",
      "Traceback (most recent call last):\n",
      "  File \"/home/hdary/miniconda3/lib/python3.8/threading.py\", line 932, in _bootstrap_inner\n",
      "    self.run()\n",
      "  File \"/home/hdary/miniconda3/lib/python3.8/threading.py\", line 870, in run\n",
      "    self._target(*self._args, **self._kwargs)\n",
      "  File \"/home/hdary/miniconda3/lib/python3.8/site-packages/xnat/session.py\", line 258, in _keepalive_thread_run\n",
      "    self.heartbeat()\n",
      "  File \"/home/hdary/miniconda3/lib/python3.8/site-packages/xnat/session.py\", line 249, in heartbeat\n",
      "    self.get('/data/JSESSION', timeout=10)\n",
      "  File \"/home/hdary/miniconda3/lib/python3.8/site-packages/xnat/session.py\", line 382, in get\n",
      "    response = self.interface.get(uri, timeout=timeout, headers=headers)\n",
      "  File \"/home/hdary/miniconda3/lib/python3.8/site-packages/requests/sessions.py\", line 543, in get\n",
      "    return self.request('GET', url, **kwargs)\n",
      "  File \"/home/hdary/miniconda3/lib/python3.8/site-packages/requests/sessions.py\", line 530, in request\n",
      "    resp = self.send(prep, **send_kwargs)\n",
      "  File \"/home/hdary/miniconda3/lib/python3.8/site-packages/requests/sessions.py\", line 643, in send\n",
      "    r = adapter.send(request, **kwargs)\n",
      "  File \"/home/hdary/miniconda3/lib/python3.8/site-packages/requests/adapters.py\", line 516, in send\n",
      "    raise ConnectionError(e, request=request)\n",
      "requests.exceptions.ConnectionError: HTTPSConnectionPool(host='xnat.crmbm.univ-amu.fr', port=443): Max retries exceeded with url: /data/JSESSION (Caused by NewConnectionError('<urllib3.connection.HTTPSConnection object at 0x7fddea8db9d0>: Failed to establish a new connection: [Errno -3] Temporary failure in name resolution'))\n"
     ]
    }
   ],
   "source": [
    "experiment.custom_variables['default']['patient_unique_id'] = unique_id"
   ]
  },
  {
   "cell_type": "code",
   "execution_count": 94,
   "metadata": {},
   "outputs": [],
   "source": [
    "subject.demographics.age = int(age.replace('Y',''))\n",
    "# subject.demographics.height = size\n",
    "# subject.demographics.weight = weight\n",
    "subject.demographics.yob = patient_birth_date\n",
    "subject.demographics.gender = sex.replace('M','male').replace('F','female')\n"
   ]
  },
  {
   "cell_type": "markdown",
   "metadata": {},
   "source": [
    "script "
   ]
  },
  {
   "cell_type": "code",
   "execution_count": 95,
   "metadata": {},
   "outputs": [
    {
     "name": "stderr",
     "output_type": "stream",
     "text": [
      "  0%|          | 0/52 [00:00<?, ?it/s]"
     ]
    },
    {
     "name": "stdout",
     "output_type": "stream",
     "text": [
      "XNAT_CRMBM_S00019 01_47_Q-M\n"
     ]
    },
    {
     "name": "stderr",
     "output_type": "stream",
     "text": [
      "  2%|▏         | 1/52 [00:05<04:15,  5.01s/it]"
     ]
    },
    {
     "name": "stdout",
     "output_type": "stream",
     "text": [
      "XNAT_CRMBM_S00020 01_39_DT\n"
     ]
    },
    {
     "name": "stderr",
     "output_type": "stream",
     "text": [
      "  4%|▍         | 2/52 [00:09<03:53,  4.67s/it]"
     ]
    },
    {
     "name": "stdout",
     "output_type": "stream",
     "text": [
      "XNAT_CRMBM_S00021 01-68-P-N\n"
     ]
    },
    {
     "name": "stderr",
     "output_type": "stream",
     "text": [
      "  6%|▌         | 3/52 [00:13<03:42,  4.53s/it]"
     ]
    },
    {
     "name": "stdout",
     "output_type": "stream",
     "text": [
      "XNAT_CRMBM_S00044 01_36_NS\n"
     ]
    },
    {
     "name": "stderr",
     "output_type": "stream",
     "text": [
      "  8%|▊         | 4/52 [00:17<03:27,  4.32s/it]"
     ]
    },
    {
     "name": "stdout",
     "output_type": "stream",
     "text": [
      "XNAT_CRMBM_S00045 01_59_P-V\n"
     ]
    },
    {
     "name": "stderr",
     "output_type": "stream",
     "text": [
      " 10%|▉         | 5/52 [00:22<03:21,  4.29s/it]"
     ]
    },
    {
     "name": "stdout",
     "output_type": "stream",
     "text": [
      "XNAT_CRMBM_S00046 01_67_T-M\n"
     ]
    },
    {
     "name": "stderr",
     "output_type": "stream",
     "text": [
      " 12%|█▏        | 6/52 [00:26<03:12,  4.18s/it]"
     ]
    },
    {
     "name": "stdout",
     "output_type": "stream",
     "text": [
      "XNAT_CRMBM_S00047 01_77_B-B\n"
     ]
    },
    {
     "name": "stderr",
     "output_type": "stream",
     "text": [
      " 13%|█▎        | 7/52 [00:30<03:09,  4.21s/it]"
     ]
    },
    {
     "name": "stdout",
     "output_type": "stream",
     "text": [
      "XNAT_CRMBM_S00048 01_78_M-C\n"
     ]
    },
    {
     "name": "stderr",
     "output_type": "stream",
     "text": [
      " 15%|█▌        | 8/52 [00:34<03:02,  4.14s/it]"
     ]
    },
    {
     "name": "stdout",
     "output_type": "stream",
     "text": [
      "XNAT_CRMBM_S00049 01_44_FM\n"
     ]
    },
    {
     "name": "stderr",
     "output_type": "stream",
     "text": [
      " 17%|█▋        | 9/52 [00:38<02:56,  4.10s/it]"
     ]
    },
    {
     "name": "stdout",
     "output_type": "stream",
     "text": [
      "XNAT_CRMBM_S00050 01-50-D-A\n"
     ]
    },
    {
     "name": "stderr",
     "output_type": "stream",
     "text": [
      " 19%|█▉        | 10/52 [00:42<02:51,  4.09s/it]"
     ]
    },
    {
     "name": "stdout",
     "output_type": "stream",
     "text": [
      "XNAT_CRMBM_S00051 01_52_B-L\n"
     ]
    },
    {
     "name": "stderr",
     "output_type": "stream",
     "text": [
      " 21%|██        | 11/52 [00:46<02:48,  4.11s/it]"
     ]
    },
    {
     "name": "stdout",
     "output_type": "stream",
     "text": [
      "XNAT_CRMBM_S00052 01_40_F-L\n"
     ]
    },
    {
     "name": "stderr",
     "output_type": "stream",
     "text": [
      " 23%|██▎       | 12/52 [00:50<02:46,  4.15s/it]"
     ]
    },
    {
     "name": "stdout",
     "output_type": "stream",
     "text": [
      "XNAT_CRMBM_S00053 01_33_D-S\n"
     ]
    },
    {
     "name": "stderr",
     "output_type": "stream",
     "text": [
      " 25%|██▌       | 13/52 [00:54<02:41,  4.13s/it]"
     ]
    },
    {
     "name": "stdout",
     "output_type": "stream",
     "text": [
      "XNAT_CRMBM_S00054 01-57-F-C\n"
     ]
    },
    {
     "name": "stderr",
     "output_type": "stream",
     "text": [
      " 27%|██▋       | 14/52 [00:58<02:37,  4.14s/it]"
     ]
    },
    {
     "name": "stdout",
     "output_type": "stream",
     "text": [
      "XNAT_CRMBM_S00055 01-43-SH\n"
     ]
    },
    {
     "name": "stderr",
     "output_type": "stream",
     "text": [
      " 29%|██▉       | 15/52 [01:03<02:33,  4.15s/it]"
     ]
    },
    {
     "name": "stdout",
     "output_type": "stream",
     "text": [
      "XNAT_CRMBM_S00056 01_55_L_M\n"
     ]
    },
    {
     "name": "stderr",
     "output_type": "stream",
     "text": [
      " 31%|███       | 16/52 [01:08<02:38,  4.40s/it]"
     ]
    },
    {
     "name": "stdout",
     "output_type": "stream",
     "text": [
      "XNAT_CRMBM_S00057 01-63-B-K\n"
     ]
    },
    {
     "name": "stderr",
     "output_type": "stream",
     "text": [
      " 33%|███▎      | 17/52 [01:12<02:29,  4.28s/it]"
     ]
    },
    {
     "name": "stdout",
     "output_type": "stream",
     "text": [
      "XNAT_CRMBM_S00058 01_53_GL\n"
     ]
    },
    {
     "name": "stderr",
     "output_type": "stream",
     "text": [
      " 35%|███▍      | 18/52 [01:16<02:22,  4.20s/it]"
     ]
    },
    {
     "name": "stdout",
     "output_type": "stream",
     "text": [
      "XNAT_CRMBM_S00059 01-56-C-D\n"
     ]
    },
    {
     "name": "stderr",
     "output_type": "stream",
     "text": [
      " 37%|███▋      | 19/52 [01:20<02:17,  4.17s/it]"
     ]
    },
    {
     "name": "stdout",
     "output_type": "stream",
     "text": [
      "XNAT_CRMBM_S00040 01-38-F-G\n"
     ]
    },
    {
     "name": "stderr",
     "output_type": "stream",
     "text": [
      " 38%|███▊      | 20/52 [01:24<02:14,  4.20s/it]"
     ]
    },
    {
     "name": "stdout",
     "output_type": "stream",
     "text": [
      "XNAT_CRMBM_S00004 01-86-pl\n"
     ]
    },
    {
     "name": "stderr",
     "output_type": "stream",
     "text": [
      " 40%|████      | 21/52 [01:28<02:12,  4.26s/it]"
     ]
    },
    {
     "name": "stdout",
     "output_type": "stream",
     "text": [
      "XNAT_CRMBM_S00008 01-85-g-s\n"
     ]
    },
    {
     "name": "stderr",
     "output_type": "stream",
     "text": [
      " 42%|████▏     | 22/52 [01:33<02:14,  4.47s/it]"
     ]
    },
    {
     "name": "stdout",
     "output_type": "stream",
     "text": [
      "XNAT_CRMBM_S00009 01-75-rs\n"
     ]
    },
    {
     "name": "stderr",
     "output_type": "stream",
     "text": [
      " 44%|████▍     | 23/52 [01:38<02:08,  4.43s/it]"
     ]
    },
    {
     "name": "stdout",
     "output_type": "stream",
     "text": [
      "XNAT_CRMBM_S00010 01-72-m-v\n"
     ]
    },
    {
     "name": "stderr",
     "output_type": "stream",
     "text": [
      " 46%|████▌     | 24/52 [01:42<02:03,  4.42s/it]"
     ]
    },
    {
     "name": "stdout",
     "output_type": "stream",
     "text": [
      "XNAT_CRMBM_S00011 01-42-A-S\n"
     ]
    },
    {
     "name": "stderr",
     "output_type": "stream",
     "text": [
      " 48%|████▊     | 25/52 [01:47<02:02,  4.53s/it]"
     ]
    },
    {
     "name": "stdout",
     "output_type": "stream",
     "text": [
      "XNAT_CRMBM_S00012 01_73_A-M\n"
     ]
    },
    {
     "name": "stderr",
     "output_type": "stream",
     "text": [
      " 50%|█████     | 26/52 [01:51<01:56,  4.46s/it]"
     ]
    },
    {
     "name": "stdout",
     "output_type": "stream",
     "text": [
      "XNAT_CRMBM_S00013 01-61-B-L\n"
     ]
    },
    {
     "name": "stderr",
     "output_type": "stream",
     "text": [
      " 52%|█████▏    | 27/52 [01:55<01:49,  4.40s/it]"
     ]
    },
    {
     "name": "stdout",
     "output_type": "stream",
     "text": [
      "XNAT_CRMBM_S00014 01-64-B-A\n"
     ]
    },
    {
     "name": "stderr",
     "output_type": "stream",
     "text": [
      " 54%|█████▍    | 28/52 [02:00<01:45,  4.41s/it]"
     ]
    },
    {
     "name": "stdout",
     "output_type": "stream",
     "text": [
      "XNAT_CRMBM_S00015 01_41_CL\n"
     ]
    },
    {
     "name": "stderr",
     "output_type": "stream",
     "text": [
      " 56%|█████▌    | 29/52 [02:04<01:40,  4.39s/it]"
     ]
    },
    {
     "name": "stdout",
     "output_type": "stream",
     "text": [
      "XNAT_CRMBM_S00016 01-74-G-M\n"
     ]
    },
    {
     "name": "stderr",
     "output_type": "stream",
     "text": [
      " 58%|█████▊    | 30/52 [02:09<01:37,  4.45s/it]"
     ]
    },
    {
     "name": "stdout",
     "output_type": "stream",
     "text": [
      "XNAT_CRMBM_S00017 01-71-D-C\n"
     ]
    },
    {
     "name": "stderr",
     "output_type": "stream",
     "text": [
      " 60%|█████▉    | 31/52 [02:13<01:32,  4.39s/it]"
     ]
    },
    {
     "name": "stdout",
     "output_type": "stream",
     "text": [
      "XNAT_CRMBM_S00018 01_35_Z-J\n"
     ]
    },
    {
     "name": "stderr",
     "output_type": "stream",
     "text": [
      " 62%|██████▏   | 32/52 [02:18<01:28,  4.44s/it]"
     ]
    },
    {
     "name": "stdout",
     "output_type": "stream",
     "text": [
      "XNAT_CRMBM_S00022 01_46_L-J\n"
     ]
    },
    {
     "name": "stderr",
     "output_type": "stream",
     "text": [
      " 63%|██████▎   | 33/52 [02:22<01:24,  4.46s/it]"
     ]
    },
    {
     "name": "stdout",
     "output_type": "stream",
     "text": [
      "XNAT_CRMBM_S00023 01_80_V_T\n"
     ]
    },
    {
     "name": "stderr",
     "output_type": "stream",
     "text": [
      " 65%|██████▌   | 34/52 [02:27<01:20,  4.48s/it]"
     ]
    },
    {
     "name": "stdout",
     "output_type": "stream",
     "text": [
      "XNAT_CRMBM_S00024 01-82_B-A\n"
     ]
    },
    {
     "name": "stderr",
     "output_type": "stream",
     "text": [
      " 67%|██████▋   | 35/52 [02:33<01:23,  4.93s/it]"
     ]
    },
    {
     "name": "stdout",
     "output_type": "stream",
     "text": [
      "XNAT_CRMBM_S00025 01_70_L-E\n"
     ]
    },
    {
     "name": "stderr",
     "output_type": "stream",
     "text": [
      " 69%|██████▉   | 36/52 [02:37<01:16,  4.76s/it]"
     ]
    },
    {
     "name": "stdout",
     "output_type": "stream",
     "text": [
      "XNAT_CRMBM_S00026 01_62_T-E\n"
     ]
    },
    {
     "name": "stderr",
     "output_type": "stream",
     "text": [
      " 71%|███████   | 37/52 [02:41<01:09,  4.63s/it]"
     ]
    },
    {
     "name": "stdout",
     "output_type": "stream",
     "text": [
      "XNAT_CRMBM_S00027 01-83-P-G\n"
     ]
    },
    {
     "name": "stderr",
     "output_type": "stream",
     "text": [
      " 73%|███████▎  | 38/52 [02:46<01:04,  4.60s/it]"
     ]
    },
    {
     "name": "stdout",
     "output_type": "stream",
     "text": [
      "XNAT_CRMBM_S00028 01_60_L-N\n"
     ]
    },
    {
     "name": "stderr",
     "output_type": "stream",
     "text": [
      " 75%|███████▌  | 39/52 [02:50<00:59,  4.54s/it]"
     ]
    },
    {
     "name": "stdout",
     "output_type": "stream",
     "text": [
      "XNAT_CRMBM_S00029 01-51_L-L\n"
     ]
    },
    {
     "name": "stderr",
     "output_type": "stream",
     "text": [
      " 77%|███████▋  | 40/52 [02:55<00:53,  4.48s/it]"
     ]
    },
    {
     "name": "stdout",
     "output_type": "stream",
     "text": [
      "XNAT_CRMBM_S00030 01_48_G-L\n"
     ]
    },
    {
     "name": "stderr",
     "output_type": "stream",
     "text": [
      " 79%|███████▉  | 41/52 [02:59<00:49,  4.47s/it]"
     ]
    },
    {
     "name": "stdout",
     "output_type": "stream",
     "text": [
      "XNAT_CRMBM_S00031 01-54-D-R\n"
     ]
    },
    {
     "name": "stderr",
     "output_type": "stream",
     "text": [
      " 81%|████████  | 42/52 [03:03<00:43,  4.39s/it]"
     ]
    },
    {
     "name": "stdout",
     "output_type": "stream",
     "text": [
      "XNAT_CRMBM_S00032 01-79-G-S\n"
     ]
    },
    {
     "name": "stderr",
     "output_type": "stream",
     "text": [
      " 83%|████████▎ | 43/52 [03:08<00:39,  4.41s/it]"
     ]
    },
    {
     "name": "stdout",
     "output_type": "stream",
     "text": [
      "XNAT_CRMBM_S00033 01_84_G-M\n"
     ]
    },
    {
     "name": "stderr",
     "output_type": "stream",
     "text": [
      " 85%|████████▍ | 44/52 [03:12<00:35,  4.42s/it]"
     ]
    },
    {
     "name": "stdout",
     "output_type": "stream",
     "text": [
      "XNAT_CRMBM_S00034 01_45_B-N\n"
     ]
    },
    {
     "name": "stderr",
     "output_type": "stream",
     "text": [
      " 87%|████████▋ | 45/52 [03:17<00:30,  4.39s/it]"
     ]
    },
    {
     "name": "stdout",
     "output_type": "stream",
     "text": [
      "XNAT_CRMBM_S00035 01_37_WM\n"
     ]
    },
    {
     "name": "stderr",
     "output_type": "stream",
     "text": [
      " 88%|████████▊ | 46/52 [03:21<00:25,  4.32s/it]"
     ]
    },
    {
     "name": "stdout",
     "output_type": "stream",
     "text": [
      "XNAT_CRMBM_S00036 01_58_T-A\n"
     ]
    },
    {
     "name": "stderr",
     "output_type": "stream",
     "text": [
      " 90%|█████████ | 47/52 [03:26<00:22,  4.51s/it]"
     ]
    },
    {
     "name": "stdout",
     "output_type": "stream",
     "text": [
      "XNAT_CRMBM_S00037 01_76_T_D\n"
     ]
    },
    {
     "name": "stderr",
     "output_type": "stream",
     "text": [
      " 92%|█████████▏| 48/52 [03:30<00:17,  4.44s/it]"
     ]
    },
    {
     "name": "stdout",
     "output_type": "stream",
     "text": [
      "XNAT_CRMBM_S00038 FANTOME_ACR_P\n",
      "Error setting age: invalid literal for int() with base 10: '001D'\n"
     ]
    },
    {
     "name": "stderr",
     "output_type": "stream",
     "text": [
      " 94%|█████████▍| 49/52 [03:32<00:11,  3.81s/it]"
     ]
    },
    {
     "name": "stdout",
     "output_type": "stream",
     "text": [
      "Error setting gender: gender has to be one of: \"male\", \"female\", \"other\", \"unknown\", \"M\", \"F\"\n",
      "XNAT_CRMBM_S00039 01_49_RD\n"
     ]
    },
    {
     "name": "stderr",
     "output_type": "stream",
     "text": [
      " 96%|█████████▌| 50/52 [03:36<00:07,  3.89s/it]"
     ]
    },
    {
     "name": "stdout",
     "output_type": "stream",
     "text": [
      "XNAT_CRMBM_S00041 01-65-S-F\n"
     ]
    },
    {
     "name": "stderr",
     "output_type": "stream",
     "text": [
      " 98%|█████████▊| 51/52 [03:41<00:04,  4.02s/it]"
     ]
    },
    {
     "name": "stdout",
     "output_type": "stream",
     "text": [
      "XNAT_CRMBM_S00042 01-66-L-Q\n"
     ]
    },
    {
     "name": "stderr",
     "output_type": "stream",
     "text": [
      "100%|██████████| 52/52 [03:45<00:00,  4.34s/it]\n"
     ]
    }
   ],
   "source": [
    "my_project = session.projects[\"VIDA_BRAIN_EPINOV\"]\n",
    "\n",
    "for s in tqdm(my_project.subjects.values()):\n",
    "    print(s.id, s.label)\n",
    "\n",
    "    # if s.demographics.yob != None:\n",
    "    #     continue\n",
    "    \n",
    "    e = s.experiments[0]\n",
    "    scan = e.scans[0]\n",
    "    file_obj = scan.resources['DICOM'].files[0]\n",
    "\n",
    "    with file_obj.open() as fin:\n",
    "        data = pydicom.dcmread(fin, stop_before_pixels=True)\n",
    "        patient_birth_date = data[0x010,0x030].value\n",
    "        sex = data[0x010,0x040].value\n",
    "        age = data[0x010,0x1010].value\n",
    "        size = data[0x010,0x1020].value\n",
    "        weight = data[0x010,0x1030].value\n",
    "\n",
    "        try:\n",
    "            s.demographics.age = int(age.replace('Y',''))\n",
    "        except ValueError as e:\n",
    "            print('Error setting age:', e)\n",
    "\n",
    "        # try:\n",
    "        #     # s.demographics.height = size\n",
    "        #     pass\n",
    "        # except Exception as e:\n",
    "        #     print('Error setting height:', e)\n",
    "\n",
    "        # try:\n",
    "        #     # s.demographics.weight = weight\n",
    "        #     pass\n",
    "        # except Exception as e:\n",
    "        #     print('Error setting weight:', e)\n",
    "\n",
    "        try:\n",
    "            s.demographics.yob = patient_birth_date\n",
    "        except ValueError as e:\n",
    "            print('Error setting year of birth:', e)\n",
    "\n",
    "        try:\n",
    "            s.demographics.gender = sex.replace('M','male').replace('F','female')\n",
    "        except ValueError as e:\n",
    "            print('Error setting gender:', e)"
   ]
  }
 ],
 "metadata": {
  "kernelspec": {
   "display_name": "base",
   "language": "python",
   "name": "python3"
  },
  "language_info": {
   "codemirror_mode": {
    "name": "ipython",
    "version": 3
   },
   "file_extension": ".py",
   "mimetype": "text/x-python",
   "name": "python",
   "nbconvert_exporter": "python",
   "pygments_lexer": "ipython3",
   "version": "3.8.13"
  }
 },
 "nbformat": 4,
 "nbformat_minor": 2
}
