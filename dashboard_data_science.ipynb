{
 "cells": [
  {
   "cell_type": "code",
   "execution_count": 22,
   "metadata": {
    "vscode": {
     "languageId": "shellscript"
    }
   },
   "outputs": [],
   "source": [
    "# import nisnap\n",
    "import pyxnat\n",
    "import xnat\n",
    "from pyxnat import Interface\n",
    "import pandas as pd\n",
    "import nibabel as nib\n",
    "from tqdm import tqdm\n"
   ]
  },
  {
   "cell_type": "code",
   "execution_count": 14,
   "metadata": {
    "vscode": {
     "languageId": "shellscript"
    }
   },
   "outputs": [],
   "source": [
    "my_pyxnat = Interface(server=\"https://xnat.crmbm.univ-amu.fr\",\n",
    "                    user='hdary')"
   ]
  },
  {
   "cell_type": "code",
   "execution_count": 15,
   "metadata": {
    "vscode": {
     "languageId": "shellscript"
    }
   },
   "outputs": [],
   "source": [
    "project = 'TERRA_BRAIN_EPINOV'"
   ]
  },
  {
   "cell_type": "code",
   "execution_count": 28,
   "metadata": {
    "vscode": {
     "languageId": "shellscript"
    }
   },
   "outputs": [
    {
     "ename": "AttributeError",
     "evalue": "'Search' object has no attribute 'array'",
     "output_type": "error",
     "traceback": [
      "\u001b[0;31m---------------------------------------------------------------------------\u001b[0m",
      "\u001b[0;31mAttributeError\u001b[0m                            Traceback (most recent call last)",
      "Cell \u001b[0;32mIn[28], line 1\u001b[0m\n\u001b[0;32m----> 1\u001b[0m \u001b[43mmy_pyxnat\u001b[49m\u001b[38;5;241;43m.\u001b[39;49m\u001b[43mselect\u001b[49m\u001b[43m(\u001b[49m\u001b[38;5;124;43m'\u001b[39;49m\u001b[38;5;124;43mxnat:projectData\u001b[39;49m\u001b[38;5;124;43m'\u001b[39;49m\u001b[43m)\u001b[49m\u001b[38;5;241;43m.\u001b[39;49m\u001b[43marray\u001b[49m\u001b[38;5;241m.\u001b[39mexperiments(columns\u001b[38;5;241m=\u001b[39m[\u001b[38;5;124m'\u001b[39m\u001b[38;5;124mID\u001b[39m\u001b[38;5;124m'\u001b[39m, \u001b[38;5;124m'\u001b[39m\u001b[38;5;124mproject\u001b[39m\u001b[38;5;124m'\u001b[39m])\u001b[38;5;241m.\u001b[39mdata\n",
      "\u001b[0;31mAttributeError\u001b[0m: 'Search' object has no attribute 'array'"
     ]
    }
   ],
   "source": [
    "my_pyxnat.select('xnat:projectData').array.experiments(columns=['ID', 'project']).data\n"
   ]
  },
  {
   "cell_type": "code",
   "execution_count": 43,
   "metadata": {
    "vscode": {
     "languageId": "shellscript"
    }
   },
   "outputs": [],
   "source": [
    "def get_resources(my_pyxnat, project):\n",
    "\n",
    "    resources = []\n",
    "    experiments = my_pyxnat.array.experiments(project_id=project, columns=['ID', 'project', 'label', 'subject_ID']).data\n",
    "    # For each experiments fetch all the resources associated with it\n",
    "    for exp in tqdm(experiments):\n",
    "        j = my_pyxnat.get('{}/{}'.format(exp['URI'], 'resources')).json()\n",
    "        exp_res = j['ResultSet']['Result']\n",
    "\n",
    "        if exp_res:\n",
    "            resources.extend([[exp['project'], exp['ID'], exp['label'], exp['subject_ID'],\n",
    "                               r['xnat_abstractresource_id'],\n",
    "                               r['label']] for r in exp_res])\n",
    "        else:\n",
    "            resources.append([exp['project'], exp['ID'],  exp['label'], exp['subject_ID'],\n",
    "                              'No Data', 'No Data'])\n",
    "    return resources"
   ]
  },
  {
   "cell_type": "code",
   "execution_count": null,
   "metadata": {
    "vscode": {
     "languageId": "shellscript"
    }
   },
   "outputs": [],
   "source": [
    "def get_resources(my_pyxnat, project):\n",
    "for sub in my_pyxnat.select.project(project).subjects():\n",
    "\n"
   ]
  },
  {
   "cell_type": "code",
   "execution_count": 45,
   "metadata": {
    "vscode": {
     "languageId": "shellscript"
    }
   },
   "outputs": [
    {
     "name": "stderr",
     "output_type": "stream",
     "text": [
      "  0%|          | 0/34 [00:00<?, ?it/s]"
     ]
    },
    {
     "name": "stderr",
     "output_type": "stream",
     "text": [
      "100%|██████████| 34/34 [00:00<00:00, 65.63it/s]\n"
     ]
    }
   ],
   "source": [
    "resources = get_resources(my_pyxnat, project)"
   ]
  },
  {
   "cell_type": "code",
   "execution_count": 46,
   "metadata": {
    "vscode": {
     "languageId": "shellscript"
    }
   },
   "outputs": [
    {
     "data": {
      "text/plain": [
       "[['TERRA_BRAIN_EPINOV',\n",
       "  'XNAT_CRMBM_E00111',\n",
       "  '202201140838',\n",
       "  'XNAT_CRMBM_S00106',\n",
       "  'No Data',\n",
       "  'No Data'],\n",
       " ['TERRA_BRAIN_EPINOV',\n",
       "  'XNAT_CRMBM_E00112',\n",
       "  '202304280912',\n",
       "  'XNAT_CRMBM_S00113',\n",
       "  'No Data',\n",
       "  'No Data'],\n",
       " ['TERRA_BRAIN_EPINOV',\n",
       "  'XNAT_CRMBM_E00113',\n",
       "  '202304071208',\n",
       "  'XNAT_CRMBM_S00123',\n",
       "  'No Data',\n",
       "  'No Data'],\n",
       " ['TERRA_BRAIN_EPINOV',\n",
       "  'XNAT_CRMBM_E00114',\n",
       "  '202306291315',\n",
       "  'XNAT_CRMBM_S00111',\n",
       "  'No Data',\n",
       "  'No Data'],\n",
       " ['TERRA_BRAIN_EPINOV',\n",
       "  'XNAT_CRMBM_E00115',\n",
       "  '202107020849',\n",
       "  'XNAT_CRMBM_S00107',\n",
       "  'No Data',\n",
       "  'No Data'],\n",
       " ['TERRA_BRAIN_EPINOV',\n",
       "  'XNAT_CRMBM_E00116',\n",
       "  '202308220902',\n",
       "  'XNAT_CRMBM_S00110',\n",
       "  'No Data',\n",
       "  'No Data'],\n",
       " ['TERRA_BRAIN_EPINOV',\n",
       "  'XNAT_CRMBM_E00117',\n",
       "  '202204131119',\n",
       "  'XNAT_CRMBM_S00109',\n",
       "  '24167',\n",
       "  'FREESURFER'],\n",
       " ['TERRA_BRAIN_EPINOV',\n",
       "  'XNAT_CRMBM_E00117',\n",
       "  '202204131119',\n",
       "  'XNAT_CRMBM_S00109',\n",
       "  '24169',\n",
       "  'Atlas'],\n",
       " ['TERRA_BRAIN_EPINOV',\n",
       "  'XNAT_CRMBM_E00117',\n",
       "  '202204131119',\n",
       "  'XNAT_CRMBM_S00109',\n",
       "  '24170',\n",
       "  'FASTSURFER'],\n",
       " ['TERRA_BRAIN_EPINOV',\n",
       "  'XNAT_CRMBM_E00118',\n",
       "  '202211080928',\n",
       "  'XNAT_CRMBM_S00114',\n",
       "  '24165',\n",
       "  'FREESURFER'],\n",
       " ['TERRA_BRAIN_EPINOV',\n",
       "  'XNAT_CRMBM_E00119',\n",
       "  '202306090849',\n",
       "  'XNAT_CRMBM_S00108',\n",
       "  'No Data',\n",
       "  'No Data'],\n",
       " ['TERRA_BRAIN_EPINOV',\n",
       "  'XNAT_CRMBM_E00120',\n",
       "  '202111050958',\n",
       "  'XNAT_CRMBM_S00119',\n",
       "  'No Data',\n",
       "  'No Data'],\n",
       " ['TERRA_BRAIN_EPINOV',\n",
       "  'XNAT_CRMBM_E00121',\n",
       "  '202110131329',\n",
       "  'XNAT_CRMBM_S00115',\n",
       "  'No Data',\n",
       "  'No Data'],\n",
       " ['TERRA_BRAIN_EPINOV',\n",
       "  'XNAT_CRMBM_E00123',\n",
       "  '202304210904',\n",
       "  'XNAT_CRMBM_S00116',\n",
       "  'No Data',\n",
       "  'No Data'],\n",
       " ['TERRA_BRAIN_EPINOV',\n",
       "  'XNAT_CRMBM_E00124',\n",
       "  '202208110904',\n",
       "  'XNAT_CRMBM_S00118',\n",
       "  'No Data',\n",
       "  'No Data'],\n",
       " ['TERRA_BRAIN_EPINOV',\n",
       "  'XNAT_CRMBM_E00125',\n",
       "  '202210280903',\n",
       "  'XNAT_CRMBM_S00117',\n",
       "  'No Data',\n",
       "  'No Data'],\n",
       " ['TERRA_BRAIN_EPINOV',\n",
       "  'XNAT_CRMBM_E00126',\n",
       "  '202303031323',\n",
       "  'XNAT_CRMBM_S00120',\n",
       "  'No Data',\n",
       "  'No Data'],\n",
       " ['TERRA_BRAIN_EPINOV',\n",
       "  'XNAT_CRMBM_E00127',\n",
       "  '202303030852',\n",
       "  'XNAT_CRMBM_S00122',\n",
       "  'No Data',\n",
       "  'No Data'],\n",
       " ['TERRA_BRAIN_EPINOV',\n",
       "  'XNAT_CRMBM_E00131',\n",
       "  '202109090853',\n",
       "  'XNAT_CRMBM_S00136',\n",
       "  '24164',\n",
       "  'FREESURFER'],\n",
       " ['TERRA_BRAIN_EPINOV',\n",
       "  'XNAT_CRMBM_E00132',\n",
       "  '202302100929',\n",
       "  'XNAT_CRMBM_S00138',\n",
       "  'No Data',\n",
       "  'No Data'],\n",
       " ['TERRA_BRAIN_EPINOV',\n",
       "  'XNAT_CRMBM_E00135',\n",
       "  '202201070933',\n",
       "  'XNAT_CRMBM_S00137',\n",
       "  'No Data',\n",
       "  'No Data'],\n",
       " ['TERRA_BRAIN_EPINOV',\n",
       "  'XNAT_CRMBM_E00136',\n",
       "  '202109100911',\n",
       "  'XNAT_CRMBM_S00133',\n",
       "  'No Data',\n",
       "  'No Data'],\n",
       " ['TERRA_BRAIN_EPINOV',\n",
       "  'XNAT_CRMBM_E00138',\n",
       "  '202106180909',\n",
       "  'XNAT_CRMBM_S00134',\n",
       "  'No Data',\n",
       "  'No Data'],\n",
       " ['TERRA_BRAIN_EPINOV',\n",
       "  'XNAT_CRMBM_E00141',\n",
       "  '202109171116',\n",
       "  'XNAT_CRMBM_S00135',\n",
       "  'No Data',\n",
       "  'No Data'],\n",
       " ['TERRA_BRAIN_EPINOV',\n",
       "  'XNAT_CRMBM_E00142',\n",
       "  '202108261322',\n",
       "  'XNAT_CRMBM_S00131',\n",
       "  'No Data',\n",
       "  'No Data'],\n",
       " ['TERRA_BRAIN_EPINOV',\n",
       "  'XNAT_CRMBM_E00143',\n",
       "  '202110150908',\n",
       "  'XNAT_CRMBM_S00129',\n",
       "  'No Data',\n",
       "  'No Data'],\n",
       " ['TERRA_BRAIN_EPINOV',\n",
       "  'XNAT_CRMBM_E00144',\n",
       "  '202304070918',\n",
       "  'XNAT_CRMBM_S00132',\n",
       "  'No Data',\n",
       "  'No Data'],\n",
       " ['TERRA_BRAIN_EPINOV',\n",
       "  'XNAT_CRMBM_E00145',\n",
       "  '202306160853',\n",
       "  'XNAT_CRMBM_S00130',\n",
       "  'No Data',\n",
       "  'No Data'],\n",
       " ['TERRA_BRAIN_EPINOV',\n",
       "  'XNAT_CRMBM_E00147',\n",
       "  '202205020920',\n",
       "  'XNAT_CRMBM_S00127',\n",
       "  'No Data',\n",
       "  'No Data'],\n",
       " ['TERRA_BRAIN_EPINOV',\n",
       "  'XNAT_CRMBM_E00150',\n",
       "  '202303011104',\n",
       "  'XNAT_CRMBM_S00125',\n",
       "  'No Data',\n",
       "  'No Data'],\n",
       " ['TERRA_BRAIN_EPINOV',\n",
       "  'XNAT_CRMBM_E00153',\n",
       "  '202204261345',\n",
       "  'XNAT_CRMBM_S00147',\n",
       "  'No Data',\n",
       "  'No Data'],\n",
       " ['TERRA_BRAIN_EPINOV',\n",
       "  'XNAT_CRMBM_E00146',\n",
       "  '202108120952',\n",
       "  'XNAT_CRMBM_S00128',\n",
       "  'No Data',\n",
       "  'No Data'],\n",
       " ['TERRA_BRAIN_EPINOV',\n",
       "  'XNAT_CRMBM_E00148',\n",
       "  '202112150855',\n",
       "  'XNAT_CRMBM_S00126',\n",
       "  'No Data',\n",
       "  'No Data'],\n",
       " ['TERRA_BRAIN_EPINOV',\n",
       "  'XNAT_CRMBM_E00149',\n",
       "  '202301060848',\n",
       "  'XNAT_CRMBM_S00124',\n",
       "  'No Data',\n",
       "  'No Data'],\n",
       " ['TERRA_BRAIN_EPINOV',\n",
       "  'XNAT_CRMBM_E00151',\n",
       "  '202301301518',\n",
       "  'XNAT_CRMBM_S00145',\n",
       "  'No Data',\n",
       "  'No Data'],\n",
       " ['TERRA_BRAIN_EPINOV',\n",
       "  'XNAT_CRMBM_E00602',\n",
       "  'BRAIN_EPINOV',\n",
       "  'XNAT_CRMBM_S00107',\n",
       "  'No Data',\n",
       "  'No Data']]"
      ]
     },
     "execution_count": 46,
     "metadata": {},
     "output_type": "execute_result"
    }
   ],
   "source": [
    "resources"
   ]
  },
  {
   "cell_type": "code",
   "execution_count": null,
   "metadata": {
    "vscode": {
     "languageId": "shellscript"
    }
   },
   "outputs": [],
   "source": [
    "dico_resources = {}\n",
    "freesurfer_res_list = []\n",
    "atlas_res_list = []\n",
    "\n",
    "for sub in my_pyxnat.select.project(project).subjects():\n",
    "    for exp in sub.experiments():\n",
    "        for res in exp.resources():\n",
    "            if not os.path.exists()\n",
    "            if res.label() == 'FREESURFER':\n",
    "                freesurfer_res_list.append(res)\n",
    "            if res.label() == 'Atlas':\n",
    "                neudorfer_res_list.append(res)"
   ]
  },
  {
   "cell_type": "code",
   "execution_count": null,
   "metadata": {
    "vscode": {
     "languageId": "shellscript"
    }
   },
   "outputs": [
    {
     "data": {
      "text/plain": [
       "[<Resource Object> 24167 `FREESURFER` (346 files 396.10 MB),\n",
       " <Resource Object> 24165 `FREESURFER` (320 files 352.46 MB),\n",
       " <Resource Object> 24164 `FREESURFER` (264 files 349.32 MB)]"
      ]
     },
     "execution_count": 5,
     "metadata": {},
     "output_type": "execute_result"
    }
   ],
   "source": [
    "freesurfer_list"
   ]
  },
  {
   "cell_type": "code",
   "execution_count": null,
   "metadata": {
    "vscode": {
     "languageId": "shellscript"
    }
   },
   "outputs": [
    {
     "data": {
      "text/html": [
       "<div>\n",
       "<style scoped>\n",
       "    .dataframe tbody tr th:only-of-type {\n",
       "        vertical-align: middle;\n",
       "    }\n",
       "\n",
       "    .dataframe tbody tr th {\n",
       "        vertical-align: top;\n",
       "    }\n",
       "\n",
       "    .dataframe thead th {\n",
       "        text-align: right;\n",
       "    }\n",
       "</style>\n",
       "<table border=\"1\" class=\"dataframe\">\n",
       "  <thead>\n",
       "    <tr style=\"text-align: right;\">\n",
       "      <th></th>\n",
       "      <th>measurement</th>\n",
       "      <th>region</th>\n",
       "      <th>value</th>\n",
       "    </tr>\n",
       "  </thead>\n",
       "  <tbody>\n",
       "    <tr>\n",
       "      <th>0</th>\n",
       "      <td>Volume_mm3</td>\n",
       "      <td>BrainSegVol</td>\n",
       "      <td>1022580.374364</td>\n",
       "    </tr>\n",
       "    <tr>\n",
       "      <th>1</th>\n",
       "      <td>Volume_mm3</td>\n",
       "      <td>BrainSegVolNotVent</td>\n",
       "      <td>980107.281317</td>\n",
       "    </tr>\n",
       "    <tr>\n",
       "      <th>2</th>\n",
       "      <td>Volume_mm3</td>\n",
       "      <td>VentricleChoroidVol</td>\n",
       "      <td>36647.69615</td>\n",
       "    </tr>\n",
       "    <tr>\n",
       "      <th>3</th>\n",
       "      <td>Volume_mm3</td>\n",
       "      <td>lhCortexVol</td>\n",
       "      <td>204580.125985</td>\n",
       "    </tr>\n",
       "    <tr>\n",
       "      <th>4</th>\n",
       "      <td>Volume_mm3</td>\n",
       "      <td>rhCortexVol</td>\n",
       "      <td>213219.579237</td>\n",
       "    </tr>\n",
       "    <tr>\n",
       "      <th>...</th>\n",
       "      <td>...</td>\n",
       "      <td>...</td>\n",
       "      <td>...</td>\n",
       "    </tr>\n",
       "    <tr>\n",
       "      <th>419</th>\n",
       "      <td>normRange</td>\n",
       "      <td>CC_Posterior</td>\n",
       "      <td>98.0000</td>\n",
       "    </tr>\n",
       "    <tr>\n",
       "      <th>420</th>\n",
       "      <td>normRange</td>\n",
       "      <td>CC_Mid_Posterior</td>\n",
       "      <td>69.0000</td>\n",
       "    </tr>\n",
       "    <tr>\n",
       "      <th>421</th>\n",
       "      <td>normRange</td>\n",
       "      <td>CC_Central</td>\n",
       "      <td>96.0000</td>\n",
       "    </tr>\n",
       "    <tr>\n",
       "      <th>422</th>\n",
       "      <td>normRange</td>\n",
       "      <td>CC_Mid_Anterior</td>\n",
       "      <td>110.0000</td>\n",
       "    </tr>\n",
       "    <tr>\n",
       "      <th>423</th>\n",
       "      <td>normRange</td>\n",
       "      <td>CC_Anterior</td>\n",
       "      <td>96.0000</td>\n",
       "    </tr>\n",
       "  </tbody>\n",
       "</table>\n",
       "<p>424 rows × 3 columns</p>\n",
       "</div>"
      ],
      "text/plain": [
       "    measurement               region           value\n",
       "0    Volume_mm3          BrainSegVol  1022580.374364\n",
       "1    Volume_mm3   BrainSegVolNotVent   980107.281317\n",
       "2    Volume_mm3  VentricleChoroidVol     36647.69615\n",
       "3    Volume_mm3          lhCortexVol   204580.125985\n",
       "4    Volume_mm3          rhCortexVol   213219.579237\n",
       "..          ...                  ...             ...\n",
       "419   normRange         CC_Posterior         98.0000\n",
       "420   normRange     CC_Mid_Posterior         69.0000\n",
       "421   normRange           CC_Central         96.0000\n",
       "422   normRange      CC_Mid_Anterior        110.0000\n",
       "423   normRange          CC_Anterior         96.0000\n",
       "\n",
       "[424 rows x 3 columns]"
      ]
     },
     "execution_count": 12,
     "metadata": {},
     "output_type": "execute_result"
    }
   ],
   "source": [
    "freesurfer_list[0].aseg()"
   ]
  },
  {
   "cell_type": "code",
   "execution_count": null,
   "metadata": {
    "vscode": {
     "languageId": "shellscript"
    }
   },
   "outputs": [
    {
     "data": {
      "text/html": [
       "<div>\n",
       "<style scoped>\n",
       "    .dataframe tbody tr th:only-of-type {\n",
       "        vertical-align: middle;\n",
       "    }\n",
       "\n",
       "    .dataframe tbody tr th {\n",
       "        vertical-align: top;\n",
       "    }\n",
       "\n",
       "    .dataframe thead th {\n",
       "        text-align: right;\n",
       "    }\n",
       "</style>\n",
       "<table border=\"1\" class=\"dataframe\">\n",
       "  <thead>\n",
       "    <tr style=\"text-align: right;\">\n",
       "      <th></th>\n",
       "      <th>side</th>\n",
       "      <th>measurement</th>\n",
       "      <th>region</th>\n",
       "      <th>value</th>\n",
       "    </tr>\n",
       "  </thead>\n",
       "  <tbody>\n",
       "    <tr>\n",
       "      <th>0</th>\n",
       "      <td>None</td>\n",
       "      <td>Volume_mm3</td>\n",
       "      <td>BrainSegVol</td>\n",
       "      <td>1022580.374364</td>\n",
       "    </tr>\n",
       "    <tr>\n",
       "      <th>1</th>\n",
       "      <td>None</td>\n",
       "      <td>Volume_mm3</td>\n",
       "      <td>BrainSegVolNotVent</td>\n",
       "      <td>980107.281317</td>\n",
       "    </tr>\n",
       "    <tr>\n",
       "      <th>2</th>\n",
       "      <td>None</td>\n",
       "      <td>Volume_mm3</td>\n",
       "      <td>BrainSegVolNotVentSurf</td>\n",
       "      <td>980107.281317</td>\n",
       "    </tr>\n",
       "    <tr>\n",
       "      <th>3</th>\n",
       "      <td>None</td>\n",
       "      <td>Volume_mm3</td>\n",
       "      <td>CortexVol</td>\n",
       "      <td>417799.705223</td>\n",
       "    </tr>\n",
       "    <tr>\n",
       "      <th>4</th>\n",
       "      <td>None</td>\n",
       "      <td>Volume_mm3</td>\n",
       "      <td>SupraTentorialVol</td>\n",
       "      <td>907305.992304</td>\n",
       "    </tr>\n",
       "    <tr>\n",
       "      <th>...</th>\n",
       "      <td>...</td>\n",
       "      <td>...</td>\n",
       "      <td>...</td>\n",
       "      <td>...</td>\n",
       "    </tr>\n",
       "    <tr>\n",
       "      <th>627</th>\n",
       "      <td>right</td>\n",
       "      <td>CurvInd</td>\n",
       "      <td>supramarginal</td>\n",
       "      <td>6.3</td>\n",
       "    </tr>\n",
       "    <tr>\n",
       "      <th>628</th>\n",
       "      <td>right</td>\n",
       "      <td>CurvInd</td>\n",
       "      <td>frontalpole</td>\n",
       "      <td>0.8</td>\n",
       "    </tr>\n",
       "    <tr>\n",
       "      <th>629</th>\n",
       "      <td>right</td>\n",
       "      <td>CurvInd</td>\n",
       "      <td>temporalpole</td>\n",
       "      <td>1.0</td>\n",
       "    </tr>\n",
       "    <tr>\n",
       "      <th>630</th>\n",
       "      <td>right</td>\n",
       "      <td>CurvInd</td>\n",
       "      <td>transversetemporal</td>\n",
       "      <td>0.4</td>\n",
       "    </tr>\n",
       "    <tr>\n",
       "      <th>631</th>\n",
       "      <td>right</td>\n",
       "      <td>CurvInd</td>\n",
       "      <td>insula</td>\n",
       "      <td>2.9</td>\n",
       "    </tr>\n",
       "  </tbody>\n",
       "</table>\n",
       "<p>632 rows × 4 columns</p>\n",
       "</div>"
      ],
      "text/plain": [
       "      side measurement                  region           value\n",
       "0     None  Volume_mm3             BrainSegVol  1022580.374364\n",
       "1     None  Volume_mm3      BrainSegVolNotVent   980107.281317\n",
       "2     None  Volume_mm3  BrainSegVolNotVentSurf   980107.281317\n",
       "3     None  Volume_mm3               CortexVol   417799.705223\n",
       "4     None  Volume_mm3       SupraTentorialVol   907305.992304\n",
       "..     ...         ...                     ...             ...\n",
       "627  right     CurvInd           supramarginal             6.3\n",
       "628  right     CurvInd             frontalpole             0.8\n",
       "629  right     CurvInd            temporalpole             1.0\n",
       "630  right     CurvInd      transversetemporal             0.4\n",
       "631  right     CurvInd                  insula             2.9\n",
       "\n",
       "[632 rows x 4 columns]"
      ]
     },
     "execution_count": 7,
     "metadata": {},
     "output_type": "execute_result"
    }
   ],
   "source": [
    "freesurfer_list[0].aparc()"
   ]
  },
  {
   "cell_type": "code",
   "execution_count": null,
   "metadata": {
    "vscode": {
     "languageId": "shellscript"
    }
   },
   "outputs": [],
   "source": [
    "def extract_qmri(lut, subject, my_roi, t1, stats=None, r2s='', qsm='', na='', diff=''):\n",
    "\n",
    "    # Load ROI labels and names\n",
    "    lut = pd.read_csv(lut)\n",
    "\n",
    "\n",
    "    # Load aseg stats output for eTIV\n",
    "    try:\n",
    "        aseg = pd.read_csv(stats,delimiter=\"\\t\")\n",
    "        aseg = aseg.set_index('Measure:volume')\n",
    "        etiv = aseg.loc['sub-{}'.format(subject)]['EstimatedTotalIntraCranialVol']\n",
    "    except:\n",
    "        etiv = -999\n",
    "\n",
    "    # Load thalamic parcellation\n",
    "    seg_file = nib.load(my_roi) \n",
    "    seg_img = seg_file.get_fdata()\n",
    "\n",
    "    # Load T1 data\n",
    "    t1_file = nib.load(t1)  \n",
    "    t1_img = t1_file.get_fdata() \n",
    "\n",
    "    if ((r2s != '')) & (qsm != ''):\n",
    "        megre = True\n",
    "\n",
    "        # Load R2s data\n",
    "        r2s_file = nib.load(r2s)\n",
    "        r2s_img = r2s_file.get_fdata()\n",
    "\n",
    "        # Load QSM data\n",
    "        qsm_file = nib.load(qsm)  \n",
    "        qsm_img = qsm_file.get_fdata()    \n",
    "    else:\n",
    "        megre = False   \n",
    "\n",
    "    # Get voxel volume\n",
    "    zooms = seg_file.header.get_zooms()\n",
    "    voxel_mm3 = np.prod(zooms)    \n",
    "\n",
    "    # Compute volume, mean R2s and T1 for each ROI\n",
    "    d = []\n",
    "    for l in range(0,len(lut)):\n",
    "        volume_mm   = np.sum(np.isin(seg_img, lut.iloc[l]['label'], assume_unique=True)) * voxel_mm3\n",
    "        volume_perc = (volume_mm / etiv) * 100\n",
    "        t1     = np.nanmean(t1_img[np.isin(seg_img, lut.iloc[l]['label'], assume_unique=True)])\n",
    "\n",
    "        if megre == True:\n",
    "            r2s    = np.nanmean(r2s_img[np.isin(seg_img, lut.iloc[l]['label'], assume_unique=True)])\n",
    "            qsm    = np.nanmean(qsm_img[np.isin(seg_img, lut.iloc[l]['label'], assume_unique=True)])\n",
    "        else:\n",
    "            r2s = -999\n",
    "            qsm = -999\n",
    "\n",
    "        data = ['sub-'+ subject,\n",
    "                etiv,    \n",
    "                lut.iloc[l]['label'],\n",
    "                lut.iloc[l]['roi'],\n",
    "                volume_mm,\n",
    "                volume_perc,\n",
    "                t1,\n",
    "                r2s,\n",
    "                qsm]\n",
    "\n",
    "        columns=['Subject', 'eTIV', 'Label', 'ROI', 'Volume (mm)', 'Volume (%)', 'T1', 'R2s', 'QSM']\n",
    "        # columns=['Subject', 'Label', 'ROI', 'Hemisphere', 'Volume (mm)', 'T1', 'R2s', 'QSM']\n",
    "\n",
    "        if 'side' in subject_info.iloc[0]:\n",
    "            data.append(subject_info.iloc[0]['side'])\n",
    "            columns.append('Side')\n",
    "        if 'type' in subject_info.iloc[0]:\n",
    "            data.append(subject_info.iloc[0]['type'])\n",
    "            columns.append('Type')\n",
    "        if 'sex' in subject_info.iloc[0]:\n",
    "            data.append(subject_info.iloc[0]['sex'])\n",
    "            columns.append('Sex')\n",
    "        if 'age' in subject_info.iloc[0]:\n",
    "            data.append(subject_info.iloc[0]['age'])\n",
    "            columns.append('Age')\n",
    "\n",
    "        d.append(data)\n",
    "\n",
    "    # Convert to Pandas dataframe\n",
    "    df = pd.DataFrame(d, columns=columns)\n",
    "\n",
    "    # Save to file\n",
    "    df.to_pickle(pkl_path)\n",
    "    df.to_csv(csv_path)"
   ]
  },
  {
   "cell_type": "code",
   "execution_count": null,
   "metadata": {
    "vscode": {
     "languageId": "shellscript"
    }
   },
   "outputs": [
    {
     "ename": "NameError",
     "evalue": "name 'snakemake' is not defined",
     "output_type": "error",
     "traceback": [
      "\u001b[0;31m---------------------------------------------------------------------------\u001b[0m",
      "\u001b[0;31mNameError\u001b[0m                                 Traceback (most recent call last)",
      "Cell \u001b[0;32mIn[9], line 4\u001b[0m\n\u001b[1;32m      1\u001b[0m \u001b[38;5;28;01mimport\u001b[39;00m \u001b[38;5;21;01mpandas\u001b[39;00m \u001b[38;5;28;01mas\u001b[39;00m \u001b[38;5;21;01mpd\u001b[39;00m\n\u001b[1;32m      3\u001b[0m df_concat \u001b[38;5;241m=\u001b[39m []\n\u001b[0;32m----> 4\u001b[0m \u001b[38;5;28;01mfor\u001b[39;00m s \u001b[38;5;129;01min\u001b[39;00m \u001b[38;5;28mrange\u001b[39m(\u001b[38;5;241m0\u001b[39m,\u001b[38;5;28mlen\u001b[39m(\u001b[43msnakemake\u001b[49m\u001b[38;5;241m.\u001b[39minput)):\n\u001b[1;32m      5\u001b[0m     df \u001b[38;5;241m=\u001b[39m pd\u001b[38;5;241m.\u001b[39mread_pickle(snakemake\u001b[38;5;241m.\u001b[39minput[s])\n\u001b[1;32m      6\u001b[0m     df_concat\u001b[38;5;241m.\u001b[39mappend(df)\n",
      "\u001b[0;31mNameError\u001b[0m: name 'snakemake' is not defined"
     ]
    }
   ],
   "source": [
    "import pandas as pd\n",
    "\n",
    "df_concat = []\n",
    "for s in range(0,len(snakemake.input)):\n",
    "    df = pd.read_pickle(snakemake.input[s])\n",
    "    df_concat.append(df)\n",
    "\n",
    "df_concat = pd.concat(df_concat)\n",
    "\n",
    "# Save to file\n",
    "df_concat.to_pickle(snakemake.output.pkl)\n",
    "df_concat.to_csv(snakemake.output.csv)"
   ]
  }
 ],
 "metadata": {
  "kernelspec": {
   "display_name": "base",
   "language": "python",
   "name": "python3"
  },
  "language_info": {
   "codemirror_mode": {
    "name": "ipython",
    "version": 3
   },
   "file_extension": ".py",
   "mimetype": "text/x-python",
   "name": "python",
   "nbconvert_exporter": "python",
   "pygments_lexer": "ipython3",
   "version": "3.10.4"
  }
 },
 "nbformat": 4,
 "nbformat_minor": 2
}
