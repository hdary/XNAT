{
 "cells": [
  {
   "cell_type": "code",
   "execution_count": null,
   "metadata": {},
   "outputs": [],
   "source": [
    "import os"
   ]
  },
  {
   "cell_type": "code",
   "execution_count": null,
   "metadata": {},
   "outputs": [],
   "source": [
    "#The URL of your XNAT\n",
    "XNAT_HOST = os.environ['XNAT_HOST']\n",
    "\n",
    "#A temporary token which can be used as a username\n",
    "XNAT_USER = os.environ['XNAT_USER']\n",
    "\n",
    "#A temporary token which can be used as a password\n",
    "XNAT_PASS = os.environ['XNAT_PASS']\n",
    "\n",
    "#The XSI type of the XNAT item from where we started Jupyter\n",
    "XNAT_XSI_TYPE = os.environ['XNAT_HOST']\n",
    "\n",
    "#The ID of the XNAT item\n",
    "XNAT_ITEM_ID = os.environ['XNAT_ITEM_ID']\n",
    "\n",
    "#The location of the mounted XNAT data. Used by XNATpy to locate mounted XNAT data \n",
    "XNAT_DATA = os.environ['XNAT_DATA']"
   ]
  }
 ],
 "metadata": {
  "language_info": {
   "name": "python"
  },
  "orig_nbformat": 4
 },
 "nbformat": 4,
 "nbformat_minor": 2
}
