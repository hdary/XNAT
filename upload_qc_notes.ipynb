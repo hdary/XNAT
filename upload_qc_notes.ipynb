{
 "cells": [
  {
   "cell_type": "code",
   "execution_count": 10,
   "metadata": {},
   "outputs": [],
   "source": [
    "import xnat\n",
    "import pyxnat\n",
    "from pyxnat import Interface\n",
    "import xnat\n",
    "import os\n",
    "import pydicom\n",
    "import tempfile\n",
    "from tqdm import tqdm\n"
   ]
  },
  {
   "cell_type": "code",
   "execution_count": null,
   "metadata": {},
   "outputs": [],
   "source": [
    "# #The URL of your XNAT\n",
    "# xnat_host = os.environ['XNAT_HOST']\n",
    "\n",
    "# #A temporary token which can be used as a username\n",
    "# user = os.environ['XNAT_USER']\n",
    "\n",
    "# #A temporary token which can be used as a password\n",
    "# pwd = os.environ['XNAT_PASS']"
   ]
  },
  {
   "cell_type": "code",
   "execution_count": null,
   "metadata": {},
   "outputs": [],
   "source": [
    "# session = xnat.connect(xnat_host, user=user, password=pwd)"
   ]
  },
  {
   "cell_type": "code",
   "execution_count": 11,
   "metadata": {},
   "outputs": [],
   "source": [
    "session = xnat.connect('https://xnat.crmbm.univ-amu.fr', user='hdary')"
   ]
  },
  {
   "cell_type": "code",
   "execution_count": 12,
   "metadata": {},
   "outputs": [],
   "source": [
    "my_project = session.projects[\"TERRA_BRAIN_EPINOV\"]"
   ]
  },
  {
   "cell_type": "markdown",
   "metadata": {},
   "source": [
    "check tag dicom for gender"
   ]
  },
  {
   "cell_type": "markdown",
   "metadata": {},
   "source": [
    "check tag dicom for age"
   ]
  },
  {
   "cell_type": "code",
   "execution_count": 13,
   "metadata": {},
   "outputs": [
    {
     "data": {
      "text/plain": [
       "<XNATListing {(XNAT_CRMBM_S00106, 01_55_L_M): <SubjectData 01_55_L_M (XNAT_CRMBM_S00106)>, (XNAT_CRMBM_S00107, 01_45_B-N): <SubjectData 01_45_B-N (XNAT_CRMBM_S00107)>, (XNAT_CRMBM_S00108, 01_85_G-S): <SubjectData 01_85_G-S (XNAT_CRMBM_S00108)>, (XNAT_CRMBM_S00109, 01-59-P-V): <SubjectData 01-59-P-V (XNAT_CRMBM_S00109)>, (XNAT_CRMBM_S00114, 01-68-P-N): <SubjectData 01-68-P-N (XNAT_CRMBM_S00114)>, (XNAT_CRMBM_S00125, 01-75-R-S): <SubjectData 01-75-R-S (XNAT_CRMBM_S00125)>, (XNAT_CRMBM_S00127, 01-63-B-K): <SubjectData 01-63-B-K (XNAT_CRMBM_S00127)>, (XNAT_CRMBM_S00110, 01_77_B_B): <SubjectData 01_77_B_B (XNAT_CRMBM_S00110)>, (XNAT_CRMBM_S00111, 01_86_P-L): <SubjectData 01_86_P-L (XNAT_CRMBM_S00111)>, (XNAT_CRMBM_S00116, 01-83-P-G): <SubjectData 01-83-P-G (XNAT_CRMBM_S00116)>, (XNAT_CRMBM_S00122, 01_71_D-C): <SubjectData 01_71_D-C (XNAT_CRMBM_S00122)>, (XNAT_CRMBM_S00126, 01_57_FC): <SubjectData 01_57_FC (XNAT_CRMBM_S00126)>, (XNAT_CRMBM_S00113, 01_80_V_T): <SubjectData 01_80_V_T (XNAT_CRMBM_S00113)>, (XNAT_CRMBM_S00117, 01-64-B-A): <SubjectData 01-64-B-A (XNAT_CRMBM_S00117)>, (XNAT_CRMBM_S00115, 01-54-D-R): <SubjectData 01-54-D-R (XNAT_CRMBM_S00115)>, (XNAT_CRMBM_S00118, 01-61-B-L): <SubjectData 01-61-B-L (XNAT_CRMBM_S00118)>, (XNAT_CRMBM_S00119, 01-49-R-D): <SubjectData 01-49-R-D (XNAT_CRMBM_S00119)>, (XNAT_CRMBM_S00120, 01-70-L-E): <SubjectData 01-70-L-E (XNAT_CRMBM_S00120)>, (XNAT_CRMBM_S00123, 01-79-G-S): <SubjectData 01-79-G-S (XNAT_CRMBM_S00123)>, (XNAT_CRMBM_S00145, 01_72_M-V): <SubjectData 01_72_M-V (XNAT_CRMBM_S00145)>, (XNAT_CRMBM_S00146, 01_53_GL): <SubjectData 01_53_GL (XNAT_CRMBM_S00146)>, (XNAT_CRMBM_S00147, 01_62_T-E): <SubjectData 01_62_T-E (XNAT_CRMBM_S00147)>, (XNAT_CRMBM_S00148, AS_T46): <SubjectData AS_T46 (XNAT_CRMBM_S00148)>, (XNAT_CRMBM_S00124, 01_69_CO): <SubjectData 01_69_CO (XNAT_CRMBM_S00124)>, (XNAT_CRMBM_S00128, 01_47_Q-M): <SubjectData 01_47_Q-M (XNAT_CRMBM_S00128)>, (XNAT_CRMBM_S00129, 01-56-C-D): <SubjectData 01-56-C-D (XNAT_CRMBM_S00129)>, (XNAT_CRMBM_S00130, 01_84_GM): <SubjectData 01_84_GM (XNAT_CRMBM_S00130)>, (XNAT_CRMBM_S00131, 01-46_L-J): <SubjectData 01-46_L-J (XNAT_CRMBM_S00131)>, (XNAT_CRMBM_S00132, 01-78-M-C): <SubjectData 01-78-M-C (XNAT_CRMBM_S00132)>, (XNAT_CRMBM_S00133, 01_52_B-L): <SubjectData 01_52_B-L (XNAT_CRMBM_S00133)>, (XNAT_CRMBM_S00134, 01_41_CL): <SubjectData 01_41_CL (XNAT_CRMBM_S00134)>, (XNAT_CRMBM_S00135, 01_50_D-A): <SubjectData 01_50_D-A (XNAT_CRMBM_S00135)>, (XNAT_CRMBM_S00136, 01-66-L-Q): <SubjectData 01-66-L-Q (XNAT_CRMBM_S00136)>, (XNAT_CRMBM_S00137, 01_58_T_A): <SubjectData 01_58_T_A (XNAT_CRMBM_S00137)>, (XNAT_CRMBM_S00138, 01_73_A_M): <SubjectData 01_73_A_M (XNAT_CRMBM_S00138)>}>"
      ]
     },
     "execution_count": 13,
     "metadata": {},
     "output_type": "execute_result"
    }
   ],
   "source": [
    "my_project.subjects"
   ]
  },
  {
   "cell_type": "code",
   "execution_count": 6,
   "metadata": {},
   "outputs": [
    {
     "ename": "KeyError",
     "evalue": "'Could not find ID/label 01-38-F-G in collection!'",
     "output_type": "error",
     "traceback": [
      "\u001b[0;31m---------------------------------------------------------------------------\u001b[0m",
      "\u001b[0;31mKeyError\u001b[0m                                  Traceback (most recent call last)",
      "File \u001b[0;32m~/miniconda3/lib/python3.8/site-packages/xnat/core.py:818\u001b[0m, in \u001b[0;36mXNATBaseListing.__getitem__\u001b[0;34m(self, item)\u001b[0m\n\u001b[1;32m    817\u001b[0m \u001b[39mtry\u001b[39;00m:\n\u001b[0;32m--> 818\u001b[0m     \u001b[39mreturn\u001b[39;00m \u001b[39mself\u001b[39;49m\u001b[39m.\u001b[39;49mdata[item]\n\u001b[1;32m    819\u001b[0m \u001b[39mexcept\u001b[39;00m \u001b[39mKeyError\u001b[39;00m:\n",
      "\u001b[0;31mKeyError\u001b[0m: '01-38-F-G'",
      "\nDuring handling of the above exception, another exception occurred:\n",
      "\u001b[0;31mKeyError\u001b[0m                                  Traceback (most recent call last)",
      "File \u001b[0;32m~/miniconda3/lib/python3.8/site-packages/xnat/core.py:825\u001b[0m, in \u001b[0;36mXNATBaseListing.__getitem__\u001b[0;34m(self, item)\u001b[0m\n\u001b[1;32m    824\u001b[0m \u001b[39mtry\u001b[39;00m:\n\u001b[0;32m--> 825\u001b[0m     \u001b[39mreturn\u001b[39;00m \u001b[39mself\u001b[39;49m\u001b[39m.\u001b[39;49mkey_map[item]\n\u001b[1;32m    826\u001b[0m \u001b[39mexcept\u001b[39;00m \u001b[39mKeyError\u001b[39;00m:\n",
      "\u001b[0;31mKeyError\u001b[0m: '01-38-F-G'",
      "\nDuring handling of the above exception, another exception occurred:\n",
      "\u001b[0;31mKeyError\u001b[0m                                  Traceback (most recent call last)",
      "\u001b[1;32m/home/hdary/programmation/xnat_tuto/XNAT/custom_variables.ipynb Cellule 9\u001b[0m line \u001b[0;36m1\n\u001b[0;32m----> <a href='vscode-notebook-cell://wsl%2Bubuntu-20.04/home/hdary/programmation/xnat_tuto/XNAT/custom_variables.ipynb#X11sdnNjb2RlLXJlbW90ZQ%3D%3D?line=0'>1</a>\u001b[0m subject \u001b[39m=\u001b[39m my_project\u001b[39m.\u001b[39;49msubjects[\u001b[39m'\u001b[39;49m\u001b[39m01-38-F-G\u001b[39;49m\u001b[39m'\u001b[39;49m]\n\u001b[1;32m      <a href='vscode-notebook-cell://wsl%2Bubuntu-20.04/home/hdary/programmation/xnat_tuto/XNAT/custom_variables.ipynb#X11sdnNjb2RlLXJlbW90ZQ%3D%3D?line=1'>2</a>\u001b[0m experiment \u001b[39m=\u001b[39m subject\u001b[39m.\u001b[39mexperiments[\u001b[39m'\u001b[39m\u001b[39m202011161412\u001b[39m\u001b[39m'\u001b[39m]\n\u001b[1;32m      <a href='vscode-notebook-cell://wsl%2Bubuntu-20.04/home/hdary/programmation/xnat_tuto/XNAT/custom_variables.ipynb#X11sdnNjb2RlLXJlbW90ZQ%3D%3D?line=2'>3</a>\u001b[0m scan \u001b[39m=\u001b[39m experiment\u001b[39m.\u001b[39mscans[\u001b[39m0\u001b[39m]\n",
      "File \u001b[0;32m~/miniconda3/lib/python3.8/site-packages/xnat/core.py:827\u001b[0m, in \u001b[0;36mXNATBaseListing.__getitem__\u001b[0;34m(self, item)\u001b[0m\n\u001b[1;32m    825\u001b[0m     \u001b[39mreturn\u001b[39;00m \u001b[39mself\u001b[39m\u001b[39m.\u001b[39mkey_map[item]\n\u001b[1;32m    826\u001b[0m \u001b[39mexcept\u001b[39;00m \u001b[39mKeyError\u001b[39;00m:\n\u001b[0;32m--> 827\u001b[0m     \u001b[39mraise\u001b[39;00m \u001b[39mKeyError\u001b[39;00m(\u001b[39m'\u001b[39m\u001b[39mCould not find ID/label \u001b[39m\u001b[39m{}\u001b[39;00m\u001b[39m in collection!\u001b[39m\u001b[39m'\u001b[39m\u001b[39m.\u001b[39mformat(item))\n",
      "\u001b[0;31mKeyError\u001b[0m: 'Could not find ID/label 01-38-F-G in collection!'"
     ]
    }
   ],
   "source": [
    "subject = my_project.subjects['01-38-F-G']\n",
    "experiment = subject.experiments['202011161412']\n",
    "scan = experiment.scans[0]"
   ]
  },
  {
   "cell_type": "code",
   "execution_count": null,
   "metadata": {},
   "outputs": [],
   "source": [
    "scan.dicom_dump()"
   ]
  },
  {
   "cell_type": "code",
   "execution_count": 7,
   "metadata": {},
   "outputs": [],
   "source": [
    "file_obj = scan.resources['DICOM'].files[0]"
   ]
  },
  {
   "cell_type": "code",
   "execution_count": 8,
   "metadata": {},
   "outputs": [],
   "source": [
    "with file_obj.open() as fin:\n",
    "    data = pydicom.dcmread(fin, stop_before_pixels=True)\n",
    "    patient_birth_date = data[0x010,0x030].value\n",
    "    sex = data[0x010,0x040].value\n",
    "    age = data[0x010,0x1010].value\n",
    "    size = data[0x010,0x1020].value\n",
    "    weight = data[0x010,0x1030].value\n",
    "    unique_id = data[0x008,0x050].value\n"
   ]
  },
  {
   "cell_type": "code",
   "execution_count": 9,
   "metadata": {},
   "outputs": [
    {
     "name": "stdout",
     "output_type": "stream",
     "text": [
      "19820913\n",
      "M\n",
      "038Y\n",
      "1.82\n",
      "86\n",
      "\n"
     ]
    }
   ],
   "source": [
    "print(patient_birth_date)\n",
    "print(sex)\n",
    "print(age)\n",
    "print(size)\n",
    "print(weight)\n",
    "print(unique_id)"
   ]
  },
  {
   "cell_type": "code",
   "execution_count": 64,
   "metadata": {},
   "outputs": [
    {
     "data": {
      "text/plain": [
       "<CustomVariableGroup default {patient_unique_id (string): None}>"
      ]
     },
     "execution_count": 64,
     "metadata": {},
     "output_type": "execute_result"
    }
   ],
   "source": [
    "subject.custom_variables['default']['patient_unique_id'] = unique_id"
   ]
  },
  {
   "cell_type": "code",
   "execution_count": 65,
   "metadata": {},
   "outputs": [
    {
     "name": "stderr",
     "output_type": "stream",
     "text": [
      "Exception in thread XNATpyKeepAliveThread:\n",
      "Traceback (most recent call last):\n",
      "  File \"/home/hdary/miniconda3/lib/python3.8/site-packages/urllib3/connection.py\", line 159, in _new_conn\n",
      "    conn = connection.create_connection(\n",
      "  File \"/home/hdary/miniconda3/lib/python3.8/site-packages/urllib3/util/connection.py\", line 61, in create_connection\n",
      "    for res in socket.getaddrinfo(host, port, family, socket.SOCK_STREAM):\n",
      "  File \"/home/hdary/miniconda3/lib/python3.8/socket.py\", line 918, in getaddrinfo\n",
      "    for res in _socket.getaddrinfo(host, port, family, type, proto, flags):\n",
      "socket.gaierror: [Errno -3] Temporary failure in name resolution\n",
      "\n",
      "During handling of the above exception, another exception occurred:\n",
      "\n",
      "Traceback (most recent call last):\n",
      "  File \"/home/hdary/miniconda3/lib/python3.8/site-packages/urllib3/connectionpool.py\", line 670, in urlopen\n",
      "    httplib_response = self._make_request(\n",
      "  File \"/home/hdary/miniconda3/lib/python3.8/site-packages/urllib3/connectionpool.py\", line 381, in _make_request\n",
      "    self._validate_conn(conn)\n",
      "  File \"/home/hdary/miniconda3/lib/python3.8/site-packages/urllib3/connectionpool.py\", line 976, in _validate_conn\n",
      "    conn.connect()\n",
      "  File \"/home/hdary/miniconda3/lib/python3.8/site-packages/urllib3/connection.py\", line 308, in connect\n",
      "    conn = self._new_conn()\n",
      "  File \"/home/hdary/miniconda3/lib/python3.8/site-packages/urllib3/connection.py\", line 171, in _new_conn\n",
      "    raise NewConnectionError(\n",
      "urllib3.exceptions.NewConnectionError: <urllib3.connection.HTTPSConnection object at 0x7fddeb3e9700>: Failed to establish a new connection: [Errno -3] Temporary failure in name resolution\n",
      "\n",
      "During handling of the above exception, another exception occurred:\n",
      "\n",
      "Traceback (most recent call last):\n",
      "  File \"/home/hdary/miniconda3/lib/python3.8/site-packages/requests/adapters.py\", line 439, in send\n",
      "    resp = conn.urlopen(\n",
      "  File \"/home/hdary/miniconda3/lib/python3.8/site-packages/urllib3/connectionpool.py\", line 724, in urlopen\n",
      "    retries = retries.increment(\n",
      "  File \"/home/hdary/miniconda3/lib/python3.8/site-packages/urllib3/util/retry.py\", line 439, in increment\n",
      "    raise MaxRetryError(_pool, url, error or ResponseError(cause))\n",
      "urllib3.exceptions.MaxRetryError: HTTPSConnectionPool(host='xnat.crmbm.univ-amu.fr', port=443): Max retries exceeded with url: /data/JSESSION (Caused by NewConnectionError('<urllib3.connection.HTTPSConnection object at 0x7fddeb3e9700>: Failed to establish a new connection: [Errno -3] Temporary failure in name resolution'))\n",
      "\n",
      "During handling of the above exception, another exception occurred:\n",
      "\n",
      "Traceback (most recent call last):\n",
      "  File \"/home/hdary/miniconda3/lib/python3.8/threading.py\", line 932, in _bootstrap_inner\n",
      "    self.run()\n",
      "  File \"/home/hdary/miniconda3/lib/python3.8/threading.py\", line 870, in run\n",
      "    self._target(*self._args, **self._kwargs)\n",
      "  File \"/home/hdary/miniconda3/lib/python3.8/site-packages/xnat/session.py\", line 258, in _keepalive_thread_run\n",
      "    self.heartbeat()\n",
      "  File \"/home/hdary/miniconda3/lib/python3.8/site-packages/xnat/session.py\", line 249, in heartbeat\n",
      "    self.get('/data/JSESSION', timeout=10)\n",
      "  File \"/home/hdary/miniconda3/lib/python3.8/site-packages/xnat/session.py\", line 382, in get\n",
      "    response = self.interface.get(uri, timeout=timeout, headers=headers)\n",
      "  File \"/home/hdary/miniconda3/lib/python3.8/site-packages/requests/sessions.py\", line 543, in get\n",
      "    return self.request('GET', url, **kwargs)\n",
      "  File \"/home/hdary/miniconda3/lib/python3.8/site-packages/requests/sessions.py\", line 530, in request\n",
      "    resp = self.send(prep, **send_kwargs)\n",
      "  File \"/home/hdary/miniconda3/lib/python3.8/site-packages/requests/sessions.py\", line 643, in send\n",
      "    r = adapter.send(request, **kwargs)\n",
      "  File \"/home/hdary/miniconda3/lib/python3.8/site-packages/requests/adapters.py\", line 516, in send\n",
      "    raise ConnectionError(e, request=request)\n",
      "requests.exceptions.ConnectionError: HTTPSConnectionPool(host='xnat.crmbm.univ-amu.fr', port=443): Max retries exceeded with url: /data/JSESSION (Caused by NewConnectionError('<urllib3.connection.HTTPSConnection object at 0x7fddeb3e9700>: Failed to establish a new connection: [Errno -3] Temporary failure in name resolution'))\n",
      "Exception in thread XNATpyKeepAliveThread:\n",
      "Traceback (most recent call last):\n",
      "  File \"/home/hdary/miniconda3/lib/python3.8/site-packages/urllib3/connection.py\", line 159, in _new_conn\n",
      "    conn = connection.create_connection(\n",
      "  File \"/home/hdary/miniconda3/lib/python3.8/site-packages/urllib3/util/connection.py\", line 61, in create_connection\n",
      "    for res in socket.getaddrinfo(host, port, family, socket.SOCK_STREAM):\n",
      "  File \"/home/hdary/miniconda3/lib/python3.8/socket.py\", line 918, in getaddrinfo\n",
      "    for res in _socket.getaddrinfo(host, port, family, type, proto, flags):\n",
      "socket.gaierror: [Errno -3] Temporary failure in name resolution\n",
      "\n",
      "During handling of the above exception, another exception occurred:\n",
      "\n",
      "Traceback (most recent call last):\n",
      "  File \"/home/hdary/miniconda3/lib/python3.8/site-packages/urllib3/connectionpool.py\", line 670, in urlopen\n",
      "    httplib_response = self._make_request(\n",
      "  File \"/home/hdary/miniconda3/lib/python3.8/site-packages/urllib3/connectionpool.py\", line 381, in _make_request\n",
      "    self._validate_conn(conn)\n",
      "  File \"/home/hdary/miniconda3/lib/python3.8/site-packages/urllib3/connectionpool.py\", line 976, in _validate_conn\n",
      "    conn.connect()\n",
      "  File \"/home/hdary/miniconda3/lib/python3.8/site-packages/urllib3/connection.py\", line 308, in connect\n",
      "    conn = self._new_conn()\n",
      "  File \"/home/hdary/miniconda3/lib/python3.8/site-packages/urllib3/connection.py\", line 171, in _new_conn\n",
      "    raise NewConnectionError(\n",
      "urllib3.exceptions.NewConnectionError: <urllib3.connection.HTTPSConnection object at 0x7fdde878df70>: Failed to establish a new connection: [Errno -3] Temporary failure in name resolution\n",
      "\n",
      "During handling of the above exception, another exception occurred:\n",
      "\n",
      "Traceback (most recent call last):\n",
      "  File \"/home/hdary/miniconda3/lib/python3.8/site-packages/requests/adapters.py\", line 439, in send\n",
      "    resp = conn.urlopen(\n",
      "  File \"/home/hdary/miniconda3/lib/python3.8/site-packages/urllib3/connectionpool.py\", line 724, in urlopen\n",
      "    retries = retries.increment(\n",
      "  File \"/home/hdary/miniconda3/lib/python3.8/site-packages/urllib3/util/retry.py\", line 439, in increment\n",
      "    raise MaxRetryError(_pool, url, error or ResponseError(cause))\n",
      "urllib3.exceptions.MaxRetryError: HTTPSConnectionPool(host='xnat.crmbm.univ-amu.fr', port=443): Max retries exceeded with url: /data/JSESSION (Caused by NewConnectionError('<urllib3.connection.HTTPSConnection object at 0x7fdde878df70>: Failed to establish a new connection: [Errno -3] Temporary failure in name resolution'))\n",
      "\n",
      "During handling of the above exception, another exception occurred:\n",
      "\n",
      "Traceback (most recent call last):\n",
      "  File \"/home/hdary/miniconda3/lib/python3.8/threading.py\", line 932, in _bootstrap_inner\n",
      "    self.run()\n",
      "  File \"/home/hdary/miniconda3/lib/python3.8/threading.py\", line 870, in run\n",
      "    self._target(*self._args, **self._kwargs)\n",
      "  File \"/home/hdary/miniconda3/lib/python3.8/site-packages/xnat/session.py\", line 258, in _keepalive_thread_run\n",
      "    self.heartbeat()\n",
      "  File \"/home/hdary/miniconda3/lib/python3.8/site-packages/xnat/session.py\", line 249, in heartbeat\n",
      "    self.get('/data/JSESSION', timeout=10)\n",
      "  File \"/home/hdary/miniconda3/lib/python3.8/site-packages/xnat/session.py\", line 382, in get\n",
      "    response = self.interface.get(uri, timeout=timeout, headers=headers)\n",
      "  File \"/home/hdary/miniconda3/lib/python3.8/site-packages/requests/sessions.py\", line 543, in get\n",
      "    return self.request('GET', url, **kwargs)\n",
      "  File \"/home/hdary/miniconda3/lib/python3.8/site-packages/requests/sessions.py\", line 530, in request\n",
      "    resp = self.send(prep, **send_kwargs)\n",
      "  File \"/home/hdary/miniconda3/lib/python3.8/site-packages/requests/sessions.py\", line 643, in send\n",
      "    r = adapter.send(request, **kwargs)\n",
      "  File \"/home/hdary/miniconda3/lib/python3.8/site-packages/requests/adapters.py\", line 516, in send\n",
      "    raise ConnectionError(e, request=request)\n",
      "requests.exceptions.ConnectionError: HTTPSConnectionPool(host='xnat.crmbm.univ-amu.fr', port=443): Max retries exceeded with url: /data/JSESSION (Caused by NewConnectionError('<urllib3.connection.HTTPSConnection object at 0x7fdde878df70>: Failed to establish a new connection: [Errno -3] Temporary failure in name resolution'))\n",
      "Exception in thread XNATpyKeepAliveThread:\n",
      "Traceback (most recent call last):\n",
      "  File \"/home/hdary/miniconda3/lib/python3.8/site-packages/urllib3/connection.py\", line 159, in _new_conn\n",
      "    conn = connection.create_connection(\n",
      "  File \"/home/hdary/miniconda3/lib/python3.8/site-packages/urllib3/util/connection.py\", line 61, in create_connection\n",
      "    for res in socket.getaddrinfo(host, port, family, socket.SOCK_STREAM):\n",
      "  File \"/home/hdary/miniconda3/lib/python3.8/socket.py\", line 918, in getaddrinfo\n",
      "    for res in _socket.getaddrinfo(host, port, family, type, proto, flags):\n",
      "socket.gaierror: [Errno -3] Temporary failure in name resolution\n",
      "\n",
      "During handling of the above exception, another exception occurred:\n",
      "\n",
      "Traceback (most recent call last):\n",
      "  File \"/home/hdary/miniconda3/lib/python3.8/site-packages/urllib3/connectionpool.py\", line 670, in urlopen\n",
      "    httplib_response = self._make_request(\n",
      "  File \"/home/hdary/miniconda3/lib/python3.8/site-packages/urllib3/connectionpool.py\", line 381, in _make_request\n",
      "    self._validate_conn(conn)\n",
      "  File \"/home/hdary/miniconda3/lib/python3.8/site-packages/urllib3/connectionpool.py\", line 976, in _validate_conn\n",
      "    conn.connect()\n",
      "  File \"/home/hdary/miniconda3/lib/python3.8/site-packages/urllib3/connection.py\", line 308, in connect\n",
      "    conn = self._new_conn()\n",
      "  File \"/home/hdary/miniconda3/lib/python3.8/site-packages/urllib3/connection.py\", line 171, in _new_conn\n",
      "    raise NewConnectionError(\n",
      "urllib3.exceptions.NewConnectionError: <urllib3.connection.HTTPSConnection object at 0x7fdde9ff8730>: Failed to establish a new connection: [Errno -3] Temporary failure in name resolution\n",
      "\n",
      "During handling of the above exception, another exception occurred:\n",
      "\n",
      "Traceback (most recent call last):\n",
      "  File \"/home/hdary/miniconda3/lib/python3.8/site-packages/requests/adapters.py\", line 439, in send\n",
      "    resp = conn.urlopen(\n",
      "  File \"/home/hdary/miniconda3/lib/python3.8/site-packages/urllib3/connectionpool.py\", line 724, in urlopen\n",
      "    retries = retries.increment(\n",
      "  File \"/home/hdary/miniconda3/lib/python3.8/site-packages/urllib3/util/retry.py\", line 439, in increment\n",
      "    raise MaxRetryError(_pool, url, error or ResponseError(cause))\n",
      "urllib3.exceptions.MaxRetryError: HTTPSConnectionPool(host='xnat.crmbm.univ-amu.fr', port=443): Max retries exceeded with url: /data/JSESSION (Caused by NewConnectionError('<urllib3.connection.HTTPSConnection object at 0x7fdde9ff8730>: Failed to establish a new connection: [Errno -3] Temporary failure in name resolution'))\n",
      "\n",
      "During handling of the above exception, another exception occurred:\n",
      "\n",
      "Traceback (most recent call last):\n",
      "  File \"/home/hdary/miniconda3/lib/python3.8/threading.py\", line 932, in _bootstrap_inner\n",
      "    self.run()\n",
      "  File \"/home/hdary/miniconda3/lib/python3.8/threading.py\", line 870, in run\n",
      "Exception in thread XNATpyKeepAliveThread:\n",
      "Traceback (most recent call last):\n",
      "  File \"/home/hdary/miniconda3/lib/python3.8/site-packages/urllib3/connection.py\", line 159, in _new_conn\n",
      "    self._target(*self._args, **self._kwargs)\n",
      "  File \"/home/hdary/miniconda3/lib/python3.8/site-packages/xnat/session.py\", line 258, in _keepalive_thread_run\n",
      "    self.heartbeat()\n",
      "  File \"/home/hdary/miniconda3/lib/python3.8/site-packages/xnat/session.py\", line 249, in heartbeat\n",
      "    self.get('/data/JSESSION', timeout=10)\n",
      "  File \"/home/hdary/miniconda3/lib/python3.8/site-packages/xnat/session.py\", line 382, in get\n",
      "    conn = connection.create_connection(\n",
      "  File \"/home/hdary/miniconda3/lib/python3.8/site-packages/urllib3/util/connection.py\", line 61, in create_connection\n",
      "    for res in socket.getaddrinfo(host, port, family, socket.SOCK_STREAM):\n",
      "  File \"/home/hdary/miniconda3/lib/python3.8/socket.py\", line 918, in getaddrinfo\n",
      "    for res in _socket.getaddrinfo(host, port, family, type, proto, flags):\n",
      "socket.gaierror: [Errno -3] Temporary failure in name resolution\n",
      "\n",
      "During handling of the above exception, another exception occurred:\n",
      "\n",
      "Traceback (most recent call last):\n",
      "  File \"/home/hdary/miniconda3/lib/python3.8/site-packages/urllib3/connectionpool.py\", line 670, in urlopen\n",
      "    response = self.interface.get(uri, timeout=timeout, headers=headers)\n",
      "  File \"/home/hdary/miniconda3/lib/python3.8/site-packages/requests/sessions.py\", line 543, in get\n",
      "    return self.request('GET', url, **kwargs)\n",
      "  File \"/home/hdary/miniconda3/lib/python3.8/site-packages/requests/sessions.py\", line 530, in request\n",
      "    resp = self.send(prep, **send_kwargs)\n",
      "  File \"/home/hdary/miniconda3/lib/python3.8/site-packages/requests/sessions.py\", line 643, in send\n",
      "    httplib_response = self._make_request(\n",
      "  File \"/home/hdary/miniconda3/lib/python3.8/site-packages/urllib3/connectionpool.py\", line 381, in _make_request\n",
      "    r = adapter.send(request, **kwargs)\n",
      "  File \"/home/hdary/miniconda3/lib/python3.8/site-packages/requests/adapters.py\", line 516, in send\n",
      "    raise ConnectionError(e, request=request)\n",
      "requests.exceptions.ConnectionError: HTTPSConnectionPool(host='xnat.crmbm.univ-amu.fr', port=443): Max retries exceeded with url: /data/JSESSION (Caused by NewConnectionError('<urllib3.connection.HTTPSConnection object at 0x7fdde9ff8730>: Failed to establish a new connection: [Errno -3] Temporary failure in name resolution'))\n",
      "    self._validate_conn(conn)\n",
      "  File \"/home/hdary/miniconda3/lib/python3.8/site-packages/urllib3/connectionpool.py\", line 976, in _validate_conn\n",
      "    conn.connect()\n",
      "  File \"/home/hdary/miniconda3/lib/python3.8/site-packages/urllib3/connection.py\", line 308, in connect\n",
      "    conn = self._new_conn()\n",
      "  File \"/home/hdary/miniconda3/lib/python3.8/site-packages/urllib3/connection.py\", line 171, in _new_conn\n",
      "    raise NewConnectionError(\n",
      "urllib3.exceptions.NewConnectionError: <urllib3.connection.HTTPSConnection object at 0x7fddea8db9d0>: Failed to establish a new connection: [Errno -3] Temporary failure in name resolution\n",
      "\n",
      "During handling of the above exception, another exception occurred:\n",
      "\n",
      "Traceback (most recent call last):\n",
      "  File \"/home/hdary/miniconda3/lib/python3.8/site-packages/requests/adapters.py\", line 439, in send\n",
      "    resp = conn.urlopen(\n",
      "  File \"/home/hdary/miniconda3/lib/python3.8/site-packages/urllib3/connectionpool.py\", line 724, in urlopen\n",
      "    retries = retries.increment(\n",
      "  File \"/home/hdary/miniconda3/lib/python3.8/site-packages/urllib3/util/retry.py\", line 439, in increment\n",
      "    raise MaxRetryError(_pool, url, error or ResponseError(cause))\n",
      "urllib3.exceptions.MaxRetryError: HTTPSConnectionPool(host='xnat.crmbm.univ-amu.fr', port=443): Max retries exceeded with url: /data/JSESSION (Caused by NewConnectionError('<urllib3.connection.HTTPSConnection object at 0x7fddea8db9d0>: Failed to establish a new connection: [Errno -3] Temporary failure in name resolution'))\n",
      "\n",
      "During handling of the above exception, another exception occurred:\n",
      "\n",
      "Traceback (most recent call last):\n",
      "  File \"/home/hdary/miniconda3/lib/python3.8/threading.py\", line 932, in _bootstrap_inner\n",
      "    self.run()\n",
      "  File \"/home/hdary/miniconda3/lib/python3.8/threading.py\", line 870, in run\n",
      "    self._target(*self._args, **self._kwargs)\n",
      "  File \"/home/hdary/miniconda3/lib/python3.8/site-packages/xnat/session.py\", line 258, in _keepalive_thread_run\n",
      "    self.heartbeat()\n",
      "  File \"/home/hdary/miniconda3/lib/python3.8/site-packages/xnat/session.py\", line 249, in heartbeat\n",
      "    self.get('/data/JSESSION', timeout=10)\n",
      "  File \"/home/hdary/miniconda3/lib/python3.8/site-packages/xnat/session.py\", line 382, in get\n",
      "    response = self.interface.get(uri, timeout=timeout, headers=headers)\n",
      "  File \"/home/hdary/miniconda3/lib/python3.8/site-packages/requests/sessions.py\", line 543, in get\n",
      "    return self.request('GET', url, **kwargs)\n",
      "  File \"/home/hdary/miniconda3/lib/python3.8/site-packages/requests/sessions.py\", line 530, in request\n",
      "    resp = self.send(prep, **send_kwargs)\n",
      "  File \"/home/hdary/miniconda3/lib/python3.8/site-packages/requests/sessions.py\", line 643, in send\n",
      "    r = adapter.send(request, **kwargs)\n",
      "  File \"/home/hdary/miniconda3/lib/python3.8/site-packages/requests/adapters.py\", line 516, in send\n",
      "    raise ConnectionError(e, request=request)\n",
      "requests.exceptions.ConnectionError: HTTPSConnectionPool(host='xnat.crmbm.univ-amu.fr', port=443): Max retries exceeded with url: /data/JSESSION (Caused by NewConnectionError('<urllib3.connection.HTTPSConnection object at 0x7fddea8db9d0>: Failed to establish a new connection: [Errno -3] Temporary failure in name resolution'))\n"
     ]
    }
   ],
   "source": [
    "experiment.custom_variables['default']['patient_unique_id'] = unique_id"
   ]
  },
  {
   "cell_type": "code",
   "execution_count": 94,
   "metadata": {},
   "outputs": [],
   "source": [
    "subject.demographics.age = int(age.replace('Y',''))\n",
    "# subject.demographics.height = size\n",
    "# subject.demographics.weight = weight\n",
    "subject.demographics.yob = patient_birth_date\n",
    "subject.demographics.gender = sex.replace('M','male').replace('F','female')\n"
   ]
  },
  {
   "cell_type": "markdown",
   "metadata": {},
   "source": [
    "script "
   ]
  },
  {
   "cell_type": "code",
   "execution_count": 15,
   "metadata": {},
   "outputs": [
    {
     "name": "stderr",
     "output_type": "stream",
     "text": [
      "  0%|          | 0/3 [00:00<?, ?it/s]"
     ]
    },
    {
     "name": "stdout",
     "output_type": "stream",
     "text": [
      "XNAT_CRMBM_S00151 SF_T002\n",
      "XNAT_CRMBM_S00074 AC_T022\n"
     ]
    },
    {
     "name": "stderr",
     "output_type": "stream",
     "text": [
      " 67%|██████▋   | 2/3 [00:07<00:03,  3.68s/it]"
     ]
    },
    {
     "name": "stdout",
     "output_type": "stream",
     "text": [
      "XNAT_CRMBM_S00149 ED_T025\n"
     ]
    },
    {
     "name": "stderr",
     "output_type": "stream",
     "text": [
      "100%|██████████| 3/3 [00:08<00:00,  2.70s/it]\n"
     ]
    },
    {
     "name": "stderr",
     "output_type": "stream",
     "text": [
      "Exception in thread XNATpyKeepAliveThread:\n",
      "Traceback (most recent call last):\n",
      "  File \"/home/hdary/miniconda3/lib/python3.8/site-packages/urllib3/connectionpool.py\", line 426, in _make_request\n",
      "    six.raise_from(e, None)\n",
      "  File \"<string>\", line 3, in raise_from\n",
      "  File \"/home/hdary/miniconda3/lib/python3.8/site-packages/urllib3/connectionpool.py\", line 421, in _make_request\n",
      "    httplib_response = conn.getresponse()\n",
      "  File \"/home/hdary/miniconda3/lib/python3.8/http/client.py\", line 1348, in getresponse\n",
      "    response.begin()\n",
      "  File \"/home/hdary/miniconda3/lib/python3.8/http/client.py\", line 316, in begin\n",
      "    version, status, reason = self._read_status()\n",
      "  File \"/home/hdary/miniconda3/lib/python3.8/http/client.py\", line 277, in _read_status\n",
      "    line = str(self.fp.readline(_MAXLINE + 1), \"iso-8859-1\")\n",
      "  File \"/home/hdary/miniconda3/lib/python3.8/socket.py\", line 669, in readinto\n",
      "    return self._sock.recv_into(b)\n",
      "  File \"/home/hdary/miniconda3/lib/python3.8/ssl.py\", line 1241, in recv_into\n",
      "    return self.read(nbytes, buffer)\n",
      "  File \"/home/hdary/miniconda3/lib/python3.8/ssl.py\", line 1099, in read\n",
      "    return self._sslobj.read(len, buffer)\n",
      "socket.timeout: The read operation timed out\n",
      "\n",
      "During handling of the above exception, another exception occurred:\n",
      "\n",
      "Traceback (most recent call last):\n",
      "  File \"/home/hdary/miniconda3/lib/python3.8/site-packages/requests/adapters.py\", line 439, in send\n",
      "    resp = conn.urlopen(\n",
      "  File \"/home/hdary/miniconda3/lib/python3.8/site-packages/urllib3/connectionpool.py\", line 724, in urlopen\n",
      "    retries = retries.increment(\n",
      "  File \"/home/hdary/miniconda3/lib/python3.8/site-packages/urllib3/util/retry.py\", line 403, in increment\n",
      "    raise six.reraise(type(error), error, _stacktrace)\n",
      "  File \"/home/hdary/miniconda3/lib/python3.8/site-packages/urllib3/packages/six.py\", line 735, in reraise\n",
      "    raise value\n",
      "  File \"/home/hdary/miniconda3/lib/python3.8/site-packages/urllib3/connectionpool.py\", line 670, in urlopen\n",
      "    httplib_response = self._make_request(\n",
      "  File \"/home/hdary/miniconda3/lib/python3.8/site-packages/urllib3/connectionpool.py\", line 428, in _make_request\n",
      "    self._raise_timeout(err=e, url=url, timeout_value=read_timeout)\n",
      "  File \"/home/hdary/miniconda3/lib/python3.8/site-packages/urllib3/connectionpool.py\", line 335, in _raise_timeout\n",
      "    raise ReadTimeoutError(\n",
      "urllib3.exceptions.ReadTimeoutError: HTTPSConnectionPool(host='xnat.crmbm.univ-amu.fr', port=443): Read timed out. (read timeout=10)\n",
      "\n",
      "During handling of the above exception, another exception occurred:\n",
      "\n",
      "Traceback (most recent call last):\n",
      "  File \"/home/hdary/miniconda3/lib/python3.8/threading.py\", line 932, in _bootstrap_inner\n",
      "    self.run()\n",
      "  File \"/home/hdary/miniconda3/lib/python3.8/threading.py\", line 870, in run\n",
      "    self._target(*self._args, **self._kwargs)\n",
      "  File \"/home/hdary/miniconda3/lib/python3.8/site-packages/xnat/session.py\", line 258, in _keepalive_thread_run\n",
      "    self.heartbeat()\n",
      "  File \"/home/hdary/miniconda3/lib/python3.8/site-packages/xnat/session.py\", line 249, in heartbeat\n",
      "    self.get('/data/JSESSION', timeout=10)\n",
      "  File \"/home/hdary/miniconda3/lib/python3.8/site-packages/xnat/session.py\", line 382, in get\n",
      "    response = self.interface.get(uri, timeout=timeout, headers=headers)\n",
      "  File \"/home/hdary/miniconda3/lib/python3.8/site-packages/requests/sessions.py\", line 543, in get\n",
      "    return self.request('GET', url, **kwargs)\n",
      "  File \"/home/hdary/miniconda3/lib/python3.8/site-packages/requests/sessions.py\", line 530, in request\n",
      "    resp = self.send(prep, **send_kwargs)\n",
      "  File \"/home/hdary/miniconda3/lib/python3.8/site-packages/requests/sessions.py\", line 643, in send\n",
      "    r = adapter.send(request, **kwargs)\n",
      "  File \"/home/hdary/miniconda3/lib/python3.8/site-packages/requests/adapters.py\", line 529, in send\n",
      "    raise ReadTimeout(e, request=request)\n",
      "requests.exceptions.ReadTimeout: HTTPSConnectionPool(host='xnat.crmbm.univ-amu.fr', port=443): Read timed out. (read timeout=10)\n",
      "Exception in thread XNATpyKeepAliveThread:\n",
      "Traceback (most recent call last):\n",
      "  File \"/home/hdary/miniconda3/lib/python3.8/site-packages/urllib3/connectionpool.py\", line 426, in _make_request\n",
      "    six.raise_from(e, None)\n",
      "  File \"<string>\", line 3, in raise_from\n",
      "  File \"/home/hdary/miniconda3/lib/python3.8/site-packages/urllib3/connectionpool.py\", line 421, in _make_request\n",
      "    httplib_response = conn.getresponse()\n",
      "  File \"/home/hdary/miniconda3/lib/python3.8/http/client.py\", line 1348, in getresponse\n",
      "    response.begin()\n",
      "  File \"/home/hdary/miniconda3/lib/python3.8/http/client.py\", line 316, in begin\n",
      "    version, status, reason = self._read_status()\n",
      "  File \"/home/hdary/miniconda3/lib/python3.8/http/client.py\", line 277, in _read_status\n",
      "    line = str(self.fp.readline(_MAXLINE + 1), \"iso-8859-1\")\n",
      "  File \"/home/hdary/miniconda3/lib/python3.8/socket.py\", line 669, in readinto\n",
      "    return self._sock.recv_into(b)\n",
      "  File \"/home/hdary/miniconda3/lib/python3.8/ssl.py\", line 1241, in recv_into\n",
      "    return self.read(nbytes, buffer)\n",
      "  File \"/home/hdary/miniconda3/lib/python3.8/ssl.py\", line 1099, in read\n",
      "    return self._sslobj.read(len, buffer)\n",
      "socket.timeout: The read operation timed out\n",
      "\n",
      "During handling of the above exception, another exception occurred:\n",
      "\n",
      "Traceback (most recent call last):\n",
      "  File \"/home/hdary/miniconda3/lib/python3.8/site-packages/requests/adapters.py\", line 439, in send\n",
      "    resp = conn.urlopen(\n",
      "  File \"/home/hdary/miniconda3/lib/python3.8/site-packages/urllib3/connectionpool.py\", line 724, in urlopen\n",
      "    retries = retries.increment(\n",
      "  File \"/home/hdary/miniconda3/lib/python3.8/site-packages/urllib3/util/retry.py\", line 403, in increment\n",
      "    raise six.reraise(type(error), error, _stacktrace)\n",
      "  File \"/home/hdary/miniconda3/lib/python3.8/site-packages/urllib3/packages/six.py\", line 735, in reraise\n",
      "    raise value\n",
      "  File \"/home/hdary/miniconda3/lib/python3.8/site-packages/urllib3/connectionpool.py\", line 670, in urlopen\n",
      "    httplib_response = self._make_request(\n",
      "  File \"/home/hdary/miniconda3/lib/python3.8/site-packages/urllib3/connectionpool.py\", line 428, in _make_request\n",
      "    self._raise_timeout(err=e, url=url, timeout_value=read_timeout)\n",
      "  File \"/home/hdary/miniconda3/lib/python3.8/site-packages/urllib3/connectionpool.py\", line 335, in _raise_timeout\n",
      "    raise ReadTimeoutError(\n",
      "urllib3.exceptions.ReadTimeoutError: HTTPSConnectionPool(host='xnat.crmbm.univ-amu.fr', port=443): Read timed out. (read timeout=10)\n",
      "\n",
      "During handling of the above exception, another exception occurred:\n",
      "\n",
      "Traceback (most recent call last):\n",
      "  File \"/home/hdary/miniconda3/lib/python3.8/threading.py\", line 932, in _bootstrap_inner\n",
      "    self.run()\n",
      "  File \"/home/hdary/miniconda3/lib/python3.8/threading.py\", line 870, in run\n",
      "    self._target(*self._args, **self._kwargs)\n",
      "  File \"/home/hdary/miniconda3/lib/python3.8/site-packages/xnat/session.py\", line 258, in _keepalive_thread_run\n",
      "    self.heartbeat()\n",
      "  File \"/home/hdary/miniconda3/lib/python3.8/site-packages/xnat/session.py\", line 249, in heartbeat\n",
      "    self.get('/data/JSESSION', timeout=10)\n",
      "  File \"/home/hdary/miniconda3/lib/python3.8/site-packages/xnat/session.py\", line 382, in get\n",
      "    response = self.interface.get(uri, timeout=timeout, headers=headers)\n",
      "  File \"/home/hdary/miniconda3/lib/python3.8/site-packages/requests/sessions.py\", line 543, in get\n",
      "    return self.request('GET', url, **kwargs)\n",
      "  File \"/home/hdary/miniconda3/lib/python3.8/site-packages/requests/sessions.py\", line 530, in request\n",
      "    resp = self.send(prep, **send_kwargs)\n",
      "  File \"/home/hdary/miniconda3/lib/python3.8/site-packages/requests/sessions.py\", line 643, in send\n",
      "    r = adapter.send(request, **kwargs)\n",
      "  File \"/home/hdary/miniconda3/lib/python3.8/site-packages/requests/adapters.py\", line 529, in send\n",
      "    raise ReadTimeout(e, request=request)\n",
      "requests.exceptions.ReadTimeout: HTTPSConnectionPool(host='xnat.crmbm.univ-amu.fr', port=443): Read timed out. (read timeout=10)\n"
     ]
    }
   ],
   "source": [
    "my_project = session.projects[\"TERRA_BRAIN_HBP-MOBILE\"]\n",
    "\n",
    "for s in tqdm(my_project.subjects.values()):\n",
    "    print(s.id, s.label)\n",
    "\n",
    "    if s.label == 'SF_T002':\n",
    "        continue\n",
    "\n",
    "    if s.demographics.yob != None:\n",
    "        continue\n",
    "    \n",
    "    e = s.experiments[0]\n",
    "    scan = e.scans[0]\n",
    "    file_obj = scan.resources['DICOM'].files[0]\n",
    "\n",
    "    with file_obj.open() as fin:\n",
    "        data = pydicom.dcmread(fin, stop_before_pixels=True)\n",
    "        patient_birth_date = data[0x010,0x030].value\n",
    "        sex = data[0x010,0x040].value\n",
    "        age = data[0x010,0x1010].value\n",
    "        size = data[0x010,0x1020].value\n",
    "        weight = data[0x010,0x1030].value\n",
    "\n",
    "        try:\n",
    "            s.demographics.age = int(age.replace('Y',''))\n",
    "        except ValueError as e:\n",
    "            print('Error setting age:', e)\n",
    "\n",
    "        # try:\n",
    "        #     # s.demographics.height = size\n",
    "        #     pass\n",
    "        # except Exception as e:\n",
    "        #     print('Error setting height:', e)\n",
    "\n",
    "        # try:\n",
    "        #     # s.demographics.weight = weight\n",
    "        #     pass\n",
    "        # except Exception as e:\n",
    "        #     print('Error setting weight:', e)\n",
    "\n",
    "        try:\n",
    "            s.demographics.yob = patient_birth_date\n",
    "        except ValueError as e:\n",
    "            print('Error setting year of birth:', e)\n",
    "\n",
    "        try:\n",
    "            s.demographics.gender = sex.replace('M','male').replace('F','female')\n",
    "        except ValueError as e:\n",
    "            print('Error setting gender:', e)"
   ]
  }
 ],
 "metadata": {
  "kernelspec": {
   "display_name": "base",
   "language": "python",
   "name": "python3"
  },
  "language_info": {
   "codemirror_mode": {
    "name": "ipython",
    "version": 3
   },
   "file_extension": ".py",
   "mimetype": "text/x-python",
   "name": "python",
   "nbconvert_exporter": "python",
   "pygments_lexer": "ipython3",
   "version": "3.8.13"
  }
 },
 "nbformat": 4,
 "nbformat_minor": 2
}
