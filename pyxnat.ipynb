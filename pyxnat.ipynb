{
 "cells": [
  {
   "attachments": {},
   "cell_type": "markdown",
   "metadata": {},
   "source": [
    "**pyxnat overview**"
   ]
  },
  {
   "cell_type": "code",
   "execution_count": null,
   "metadata": {},
   "outputs": [],
   "source": [
    "import pyxnat\n",
    "from pyxnat import Interface"
   ]
  },
  {
   "attachments": {},
   "cell_type": "markdown",
   "metadata": {},
   "source": [
    "connection"
   ]
  },
  {
   "cell_type": "code",
   "execution_count": null,
   "metadata": {},
   "outputs": [],
   "source": [
    "central = Interface(server=\"https://xnat.crmbm.univ-amu.fr\",\n",
    "                    user='hdary')"
   ]
  },
  {
   "attachments": {},
   "cell_type": "markdown",
   "metadata": {},
   "source": [
    "Access to projects, subjects, experiments, scan"
   ]
  },
  {
   "cell_type": "code",
   "execution_count": null,
   "metadata": {},
   "outputs": [],
   "source": [
    "central.select.projects().get()"
   ]
  },
  {
   "cell_type": "code",
   "execution_count": null,
   "metadata": {},
   "outputs": [],
   "source": [
    "central.select('/projects/*/subjects').get()"
   ]
  },
  {
   "cell_type": "code",
   "execution_count": null,
   "metadata": {},
   "outputs": [],
   "source": [
    "central.select('//subjects').get()"
   ]
  },
  {
   "cell_type": "code",
   "execution_count": null,
   "metadata": {},
   "outputs": [],
   "source": [
    "central.select('/project/EPINOV/subjects').get()"
   ]
  },
  {
   "cell_type": "code",
   "execution_count": null,
   "metadata": {},
   "outputs": [],
   "source": [
    "central.select('/project/EPINOV/subject/XNAT_CRMBM_S00015/experiments').get()"
   ]
  },
  {
   "cell_type": "code",
   "execution_count": null,
   "metadata": {},
   "outputs": [],
   "source": [
    "# project = central.select.project('EPINOV')"
   ]
  },
  {
   "cell_type": "code",
   "execution_count": null,
   "metadata": {},
   "outputs": [],
   "source": [
    "# subject = project.subject('XNAT_CRMBM_S00015')"
   ]
  },
  {
   "cell_type": "code",
   "execution_count": null,
   "metadata": {},
   "outputs": [],
   "source": [
    "subject.label()"
   ]
  },
  {
   "cell_type": "code",
   "execution_count": null,
   "metadata": {},
   "outputs": [],
   "source": [
    "experiment = central.select.project('EPINOV').subject('XNAT_CRMBM_S00015').experiment('XNAT_CRMBM_E00015')"
   ]
  },
  {
   "cell_type": "code",
   "execution_count": null,
   "metadata": {},
   "outputs": [],
   "source": [
    "central.select('/project/EPINOV/subject/XNAT_CRMBM_S00015/experiment/XNAT_CRMBM_E00015')"
   ]
  },
  {
   "cell_type": "code",
   "execution_count": null,
   "metadata": {},
   "outputs": [],
   "source": [
    "# central.select('/projects/*/subjects/*/experiments/*')\n",
    "# central.select('/projects/subjects/experiments')\n",
    "# central.select('//experiments')"
   ]
  },
  {
   "cell_type": "code",
   "execution_count": null,
   "metadata": {},
   "outputs": [],
   "source": [
    "# project = central.select.project('my_project')\n",
    "# project.exists()"
   ]
  },
  {
   "cell_type": "code",
   "execution_count": null,
   "metadata": {},
   "outputs": [],
   "source": [
    "# project.insert()\n",
    "# project.exists()"
   ]
  },
  {
   "cell_type": "code",
   "execution_count": null,
   "metadata": {},
   "outputs": [],
   "source": [
    "# subject = project.subject('first_subject')\n",
    "# subject.insert()\n",
    "# subject.delete()\n",
    "# subject.exists()"
   ]
  },
  {
   "cell_type": "code",
   "execution_count": null,
   "metadata": {},
   "outputs": [],
   "source": [
    "# experiment.insert(\n",
    "#          **{'experiments':'xnat:mrSessionData',\n",
    "#             'ID':'mr_custom_ID',\n",
    "#             'xnat:mrSessionData/age':'42',\n",
    "#             'xnat:subjectData/investigator/lastname':'doe',\n",
    "#             'xnat:subjectData/investigator/firstname':'john',\n",
    "#             'xnat:subjectData/ID':'subj_custom_ID'\n",
    "#            })"
   ]
  },
  {
   "attachments": {},
   "cell_type": "markdown",
   "metadata": {},
   "source": [
    "Access to files"
   ]
  },
  {
   "cell_type": "code",
   "execution_count": null,
   "metadata": {},
   "outputs": [],
   "source": [
    "project.resources().files().get()"
   ]
  },
  {
   "cell_type": "code",
   "execution_count": null,
   "metadata": {},
   "outputs": [],
   "source": [
    "experiment.resources().files().get()"
   ]
  },
  {
   "cell_type": "code",
   "execution_count": null,
   "metadata": {},
   "outputs": [],
   "source": [
    "experiment.resource('MRIQC').files().get()"
   ]
  },
  {
   "cell_type": "code",
   "execution_count": null,
   "metadata": {},
   "outputs": [],
   "source": [
    "experiment.resource('MRIQC').file('T1.nii').get_copy('/tmp/test.nii')"
   ]
  },
  {
   "attachments": {},
   "cell_type": "markdown",
   "metadata": {},
   "source": [
    "Search"
   ]
  },
  {
   "cell_type": "code",
   "execution_count": null,
   "metadata": {},
   "outputs": [],
   "source": [
    "contraints = [('xnat:subjectData/SUBJECT_ID','LIKE','%'),\n",
    "               ('xnat:subjectData/PROJECT', '=', 'EPINOV'),\n",
    "                'OR',\n",
    "                [('xnat:subjectData/AGE','>','50'),\n",
    "                 'AND'\n",
    "                 ]\n",
    "                ]"
   ]
  },
  {
   "cell_type": "code",
   "execution_count": null,
   "metadata": {},
   "outputs": [],
   "source": [
    "central.select('//experiments').where(contraints).get()"
   ]
  },
  {
   "attachments": {},
   "cell_type": "markdown",
   "metadata": {},
   "source": [
    "Upload output"
   ]
  },
  {
   "cell_type": "code",
   "execution_count": null,
   "metadata": {},
   "outputs": [],
   "source": [
    "zipfile = '/home/hdary/document/FREESURFER7.zip'\n",
    "\n",
    "\n",
    "p = central.select.project('EPINOV')\n",
    "p.create()\n",
    "s = p.subject('XNAT_CRMBM_S00015')\n",
    "e = s.experiment('XNAT_CRMBM_E00015') \n",
    "\n",
    "r = e.resource('FREESURFER7')\n",
    "r.create()\n",
    "\n",
    "r.put_zip(zipfile, format=None, content=None, tags=None)\n"
   ]
  },
  {
   "attachments": {},
   "cell_type": "markdown",
   "metadata": {},
   "source": [
    "Access to pipeline output"
   ]
  },
  {
   "cell_type": "code",
   "execution_count": null,
   "metadata": {},
   "outputs": [],
   "source": [
    "subject = central.select.project('EPINOV').subject('XNAT_CRMBM_S00015')\n",
    "experiment = subject.experiment('XNAT_CRMBM_E00015')\n",
    "resource = experiment.resource('FREESURFER7')"
   ]
  },
  {
   "cell_type": "code",
   "execution_count": null,
   "metadata": {},
   "outputs": [],
   "source": [
    "resource.aparc()"
   ]
  },
  {
   "cell_type": "code",
   "execution_count": null,
   "metadata": {},
   "outputs": [],
   "source": [
    "resource.aseg()"
   ]
  },
  {
   "attachments": {},
   "cell_type": "markdown",
   "metadata": {},
   "source": [
    "tag dicom"
   ]
  },
  {
   "cell_type": "code",
   "execution_count": null,
   "metadata": {},
   "outputs": [],
   "source": [
    "project_id = 'EPINOV'\n",
    "experiment_id = 'XNAT_CRMBM_E00015'\n",
    "scan_id = '7'\n",
    "\n",
    "\n",
    "uri = '/REST/services/dicomdump'\n",
    "\n",
    "options = {\n",
    "    'format': 'csv',\n",
    "    'src': '/archive/projects/%s/experiments/%s/scans/%s' %\n",
    "            (project_id, experiment_id, scan_id),\n",
    "    'field': ['00189087', '00200105', '00081090', '00080008',\n",
    "                          '0008103E', '00080070', '00181020', '00181000',\n",
    "                          '00180015', '00180023', '00180050', '00180080',\n",
    "                          '00180081', '00180083', '00180087', '00180088',\n",
    "                          '00180089', '00180095', '00181310', '00181312',\n",
    "                          '00181314', '00185100', '00189073', '00280010',\n",
    "                          '00280011', '00280030']\n",
    "}\n",
    "\n",
    "from pyxnat.core.jsonutil import csv_to_json\n",
    "dicomdump = csv_to_json(\n",
    "                str(central.get(uri, params=options).text))\n",
    "print(dicomdump)"
   ]
  }
 ],
 "metadata": {
  "kernelspec": {
   "display_name": "base",
   "language": "python",
   "name": "python3"
  },
  "language_info": {
   "codemirror_mode": {
    "name": "ipython",
    "version": 3
   },
   "file_extension": ".py",
   "mimetype": "text/x-python",
   "name": "python",
   "nbconvert_exporter": "python",
   "pygments_lexer": "ipython3",
   "version": "3.8.13"
  },
  "orig_nbformat": 4,
  "vscode": {
   "interpreter": {
    "hash": "405643c090d2a35fd4343ed4504332f0def333051eaa6ffe0cccb0a8ec8d4053"
   }
  }
 },
 "nbformat": 4,
 "nbformat_minor": 2
}
