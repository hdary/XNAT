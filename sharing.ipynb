{
 "cells": [
  {
   "cell_type": "code",
   "execution_count": 1,
   "metadata": {},
   "outputs": [],
   "source": [
    "import xnat\n",
    "import pyxnat\n",
    "from pyxnat import Interface\n",
    "import xnat\n",
    "import os\n",
    "import pydicom\n",
    "import tempfile\n",
    "from tqdm import tqdm"
   ]
  },
  {
   "cell_type": "code",
   "execution_count": null,
   "metadata": {},
   "outputs": [],
   "source": [
    "# #The URL of your XNAT\n",
    "# xnat_host = os.environ['XNAT_HOST']\n",
    "\n",
    "# #A temporary token which can be used as a username\n",
    "# user = os.environ['XNAT_USER']\n",
    "\n",
    "# #A temporary token which can be used as a password\n",
    "# pwd = os.environ['XNAT_PASS']"
   ]
  },
  {
   "cell_type": "code",
   "execution_count": null,
   "metadata": {},
   "outputs": [],
   "source": [
    "# session = xnat.connect(xnat_host, user=user, password=pwd)"
   ]
  },
  {
   "cell_type": "code",
   "execution_count": 44,
   "metadata": {},
   "outputs": [],
   "source": [
    "session = Interface(server=\"https://xnat.crmbm.univ-amu.fr\",\n",
    "                    user='hdary')"
   ]
  },
  {
   "cell_type": "code",
   "execution_count": null,
   "metadata": {},
   "outputs": [],
   "source": [
    "for p in session.select.projects():\n",
    "    if not 'TERRA' in p.label():\n",
    "        continue\n",
    "\n",
    "    if 'TERRA_CONTROLS' in p.label():\n",
    "        continue\n",
    "\n",
    "    print(p.label())\n",
    "    for sub in p.subjects():\n",
    "        if sub.attrs.get('xnat:subjectData/group') == 'control':\n",
    "            print(sub.label())\n",
    "            print(session.select.project('TERRA_CONTROLS').subjects().get())\n",
    "            if sub not in session.select.project('TERRA_CONTROLS').subjects().get():\n",
    "                sub.share('TERRA_CONTROLS')"
   ]
  },
  {
   "cell_type": "code",
   "execution_count": null,
   "metadata": {},
   "outputs": [],
   "source": [
    "for p in session.select.projects():\n",
    "    if not 'VIDA' in p.label():\n",
    "        continue\n",
    "\n",
    "    if 'VIDA_CONTROLS' in p.label():\n",
    "        continue\n",
    "\n",
    "    print(p.label())\n",
    "    for sub in p.subjects():\n",
    "        print(sub.label())\n",
    "        if sub.attrs.get('xnat:subjectData/group') == 'control':\n",
    "            sub.share('VIDA_CONTROLS')"
   ]
  },
  {
   "cell_type": "code",
   "execution_count": 37,
   "metadata": {},
   "outputs": [],
   "source": [
    "session1 = xnat.connect('https://xnat.crmbm.univ-amu.fr', user='hdary')"
   ]
  },
  {
   "cell_type": "code",
   "execution_count": 194,
   "metadata": {},
   "outputs": [
    {
     "name": "stdout",
     "output_type": "stream",
     "text": [
      "<bound method EObject.id of <Experiment Object> XNAT_CRMBM_E00582 `201812200912` (subject: XNAT_CRMBM_S00568 `CJ_01_P01`) (project: MAGNETOM_BRAIN_PHRC-IR) 74 scans 0 resource (created on 2024-01-29 12:45:26.501) https://xnat.crmbm.univ-amu.fr/data/projects/MAGNETOM_BRAIN_PHRC-IR/subjects/XNAT_CRMBM_S00568/experiments/XNAT_CRMBM_E00582?format=html>\n",
      "<bound method EObject.id of <Experiment Object> XNAT_CRMBM_E00588 `201904010910` (subject: XNAT_CRMBM_S00570 `CC_01_P04`) (project: MAGNETOM_BRAIN_PHRC-IR) 57 scans 0 resource (created on 2024-01-29 13:50:56.573) https://xnat.crmbm.univ-amu.fr/data/projects/MAGNETOM_BRAIN_PHRC-IR/subjects/XNAT_CRMBM_S00570/experiments/XNAT_CRMBM_E00588?format=html>\n",
      "<bound method EObject.id of <Experiment Object> XNAT_CRMBM_E00584 `201905230902` (subject: XNAT_CRMBM_S00571 `CA_04_P02`) (project: MAGNETOM_BRAIN_PHRC-IR) 61 scans 0 resource (created on 2024-01-29 13:31:46.425) https://xnat.crmbm.univ-amu.fr/data/projects/MAGNETOM_BRAIN_PHRC-IR/subjects/XNAT_CRMBM_S00571/experiments/XNAT_CRMBM_E00584?format=html>\n",
      "<bound method EObject.id of <Experiment Object> XNAT_CRMBM_E00589 `202005190904` (subject: XNAT_CRMBM_S00571 `CA_04_P02`) (project: MAGNETOM_BRAIN_PHRC-IR) 64 scans 0 resource (created on 2024-01-29 13:58:16.032) https://xnat.crmbm.univ-amu.fr/data/projects/MAGNETOM_BRAIN_PHRC-IR/subjects/XNAT_CRMBM_S00571/experiments/XNAT_CRMBM_E00589?format=html>\n",
      "<bound method EObject.id of <Experiment Object> XNAT_CRMBM_E00583 `201909260919` (subject: XNAT_CRMBM_S00572 `DS_02_P06`) (project: MAGNETOM_BRAIN_PHRC-IR) 57 scans 0 resource (created on 2024-01-29 13:25:15.717) https://xnat.crmbm.univ-amu.fr/data/projects/MAGNETOM_BRAIN_PHRC-IR/subjects/XNAT_CRMBM_S00572/experiments/XNAT_CRMBM_E00583?format=html>\n",
      "<bound method EObject.id of <Experiment Object> XNAT_CRMBM_E00585 `201911070928` (subject: XNAT_CRMBM_S00573 `CV_01_P06`) (project: MAGNETOM_BRAIN_PHRC-IR) 56 scans 0 resource (created on 2024-01-29 13:37:36.932) https://xnat.crmbm.univ-amu.fr/data/projects/MAGNETOM_BRAIN_PHRC-IR/subjects/XNAT_CRMBM_S00573/experiments/XNAT_CRMBM_E00585?format=html>\n",
      "<bound method EObject.id of <Experiment Object> XNAT_CRMBM_E00587 `202006040919` (subject: XNAT_CRMBM_S00574 `FP_01_P02`) (project: MAGNETOM_BRAIN_PHRC-IR) 5 scans 0 resource (created on 2024-01-29 13:48:29.853) https://xnat.crmbm.univ-amu.fr/data/projects/MAGNETOM_BRAIN_PHRC-IR/subjects/XNAT_CRMBM_S00574/experiments/XNAT_CRMBM_E00587?format=html>\n",
      "<bound method EObject.id of <Experiment Object> XNAT_CRMBM_E00592 `202006160902` (subject: XNAT_CRMBM_S00575 `BE_01_P07`) (project: MAGNETOM_BRAIN_PHRC-IR) 67 scans 0 resource (created on 2024-01-30 13:30:54.498) https://xnat.crmbm.univ-amu.fr/data/projects/MAGNETOM_BRAIN_PHRC-IR/subjects/XNAT_CRMBM_S00575/experiments/XNAT_CRMBM_E00592?format=html>\n",
      "<bound method EObject.id of <Experiment Object> XNAT_CRMBM_E00593 `202009140855` (subject: XNAT_CRMBM_S00577 `DA_01_P08`) (project: MAGNETOM_BRAIN_PHRC-IR) 64 scans 0 resource (created on 2024-01-30 13:38:15.613) https://xnat.crmbm.univ-amu.fr/data/projects/MAGNETOM_BRAIN_PHRC-IR/subjects/XNAT_CRMBM_S00577/experiments/XNAT_CRMBM_E00593?format=html>\n",
      "<bound method EObject.id of <Experiment Object> XNAT_CRMBM_E00591 `202009210935` (subject: XNAT_CRMBM_S00578 `JL_01_P09`) (project: MAGNETOM_BRAIN_PHRC-IR) 65 scans 0 resource (created on 2024-01-30 13:29:05.507) https://xnat.crmbm.univ-amu.fr/data/projects/MAGNETOM_BRAIN_PHRC-IR/subjects/XNAT_CRMBM_S00578/experiments/XNAT_CRMBM_E00591?format=html>\n",
      "<bound method EObject.id of <Experiment Object> XNAT_CRMBM_E00595 `201902210935` (subject: XNAT_CRMBM_S00580 `PF_01_P02`) (project: MAGNETOM_BRAIN_PHRC-IR) 21 scans 0 resource (created on 2024-01-30 14:30:06.386) https://xnat.crmbm.univ-amu.fr/data/projects/MAGNETOM_BRAIN_PHRC-IR/subjects/XNAT_CRMBM_S00580/experiments/XNAT_CRMBM_E00595?format=html>\n",
      "<bound method EObject.id of <Experiment Object> XNAT_CRMBM_E00596 `201903280904` (subject: XNAT_CRMBM_S00581 `MS_01_P03`) (project: MAGNETOM_BRAIN_PHRC-IR) 47 scans 0 resource (created on 2024-01-30 14:38:14.02) https://xnat.crmbm.univ-amu.fr/data/projects/MAGNETOM_BRAIN_PHRC-IR/subjects/XNAT_CRMBM_S00581/experiments/XNAT_CRMBM_E00596?format=html>\n",
      "<bound method EObject.id of <Experiment Object> XNAT_CRMBM_E00586 `201901310936` (subject: XNAT_CRMBM_S00569 `BL_04_P01`) (project: MAGNETOM_BRAIN_PHRC-IR) 66 scans 0 resource (created on 2024-01-29 13:45:38.453) https://xnat.crmbm.univ-amu.fr/data/projects/MAGNETOM_BRAIN_PHRC-IR/subjects/XNAT_CRMBM_S00569/experiments/XNAT_CRMBM_E00586?format=html>\n",
      "<bound method EObject.id of <Experiment Object> XNAT_CRMBM_E00590 `202009100911` (subject: XNAT_CRMBM_S00576 `GH_03_P04`) (project: MAGNETOM_BRAIN_PHRC-IR) 62 scans 0 resource (created on 2024-01-30 13:28:07.882) https://xnat.crmbm.univ-amu.fr/data/projects/MAGNETOM_BRAIN_PHRC-IR/subjects/XNAT_CRMBM_S00576/experiments/XNAT_CRMBM_E00590?format=html>\n",
      "<bound method EObject.id of <Experiment Object> XNAT_CRMBM_E00594 `202010090850` (subject: XNAT_CRMBM_S00579 `BI_01_P10`) (project: MAGNETOM_BRAIN_PHRC-IR) 67 scans 0 resource (created on 2024-01-30 13:45:02.898) https://xnat.crmbm.univ-amu.fr/data/projects/MAGNETOM_BRAIN_PHRC-IR/subjects/XNAT_CRMBM_S00579/experiments/XNAT_CRMBM_E00594?format=html>\n",
      "<bound method EObject.id of <Experiment Object> XNAT_CRMBM_E00597 `201904290904` (subject: XNAT_CRMBM_S00582 `NL_03_P01`) (project: MAGNETOM_BRAIN_PHRC-IR) 44 scans 0 resource (created on 2024-01-30 14:46:11.991) https://xnat.crmbm.univ-amu.fr/data/projects/MAGNETOM_BRAIN_PHRC-IR/subjects/XNAT_CRMBM_S00582/experiments/XNAT_CRMBM_E00597?format=html>\n"
     ]
    }
   ],
   "source": [
    "for p in session.select.projects():\n",
    "\n",
    "    if 'MAGNETOM_BRAIN_PHRC-IR' in p.label():\n",
    "        for sub in p.subjects():\n",
    "            try:\n",
    "                sub.unshare('PHRC-IR_7T')\n",
    "            except:\n",
    "                pass\n",
    "            for e in sub.experiments():\n",
    "                print(e.id)\n",
    "                try:\n",
    "                    e.share('PHRC-IR_7T')\n",
    "                except:\n",
    "                    pass"
   ]
  }
 ],
 "metadata": {
  "kernelspec": {
   "display_name": "base",
   "language": "python",
   "name": "python3"
  },
  "language_info": {
   "codemirror_mode": {
    "name": "ipython",
    "version": 3
   },
   "file_extension": ".py",
   "mimetype": "text/x-python",
   "name": "python",
   "nbconvert_exporter": "python",
   "pygments_lexer": "ipython3",
   "version": "3.8.13"
  }
 },
 "nbformat": 4,
 "nbformat_minor": 2
}
