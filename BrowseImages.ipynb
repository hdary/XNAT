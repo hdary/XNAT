{
 "cells": [
  {
   "cell_type": "markdown",
   "id": "ea98eb4a-2f05-4d20-a091-4fabe09e7f38",
   "metadata": {},
   "source": [
    "# Browse DICOM Images\n",
    "\n",
    "This Jupyter Notebook demonstrates an interactive image viewer for browsing DICOM images in axial, sagittal, and coronal views. The notebook utilizes the [XNATpy](https://xnat.readthedocs.io/en/latest/) library along with [pydicom](https://pydicom.github.io/pydicom/stable/) to load DICOM data from XNAT. With the help of XNATpy, you can easily retrieve DICOM files from the XNAT mounts directly on your Jupyter server, and the pydicom library is used for parsing and processing DICOM data."
   ]
  },
  {
   "cell_type": "markdown",
   "id": "6780f16d-d5d2-47a9-8860-2d2e08d6e36f",
   "metadata": {},
   "source": [
    "If XNATpy is not already installed in your environment"
   ]
  },
  {
   "cell_type": "code",
   "execution_count": 1,
   "id": "cc59d0ff-b5aa-488d-ad26-66e489272eb2",
   "metadata": {},
   "outputs": [],
   "source": [
    "import pydicom\n",
    "import numpy as np\n",
    "import matplotlib.pyplot as plt\n",
    "import sys\n",
    "import glob\n",
    "import xnat\n",
    "import time\n",
    "import os\n",
    "\n",
    "from ipywidgets import interact\n",
    "from scipy import ndimage"
   ]
  },
  {
   "cell_type": "markdown",
   "id": "0d2418ff-bbfd-4a71-b243-00a8050eb8d0",
   "metadata": {},
   "source": [
    "When connecting to an XNAT server you start by creating a connection. To avoid storing our credentials in our notebook we can use the XNAT environmental variables add to your Jupyter server."
   ]
  },
  {
   "cell_type": "code",
   "execution_count": 2,
   "id": "98bf6124-eb29-4326-ace9-84c37f93e55c",
   "metadata": {},
   "outputs": [],
   "source": [
    "connection = xnat.connect(os.environ['XNAT_HOST'], \n",
    "                          user=os.environ['XNAT_USER'], \n",
    "                          password=os.environ['XNAT_PASS'])"
   ]
  },
  {
   "cell_type": "markdown",
   "id": "05c12b6c-cba1-4406-b117-4c3112321df9",
   "metadata": {},
   "source": [
    "As of version 0.4.3, XNATpy supports the XNAT/Jupyter envrionment variables so we can shorten this to:"
   ]
  },
  {
   "cell_type": "code",
   "execution_count": 3,
   "id": "39c73f6e-98df-4d29-ad4c-8740f0aeeeca",
   "metadata": {},
   "outputs": [],
   "source": [
    "connection = xnat.connect()"
   ]
  },
  {
   "cell_type": "markdown",
   "id": "a39e94f4-d411-4446-bfd3-0cd4628b405d",
   "metadata": {},
   "source": [
    "Update the code cell below for your particular project, experiment and scan."
   ]
  },
  {
   "cell_type": "code",
   "execution_count": 6,
   "id": "4adeaabf-2ed8-4f17-931c-be3d6d3ecf7e",
   "metadata": {},
   "outputs": [],
   "source": [
    "# session = xnat.connect(loglevel='INFO')\n",
    "project = connection.projects['VIDA_BRAIN_EPINOV']\n",
    "experiment = project.experiments['XNAT_CRMBM_E00019']\n",
    "scan = experiment.scans['6']"
   ]
  },
  {
   "cell_type": "markdown",
   "id": "dd885ba0-cedb-4daa-bab6-bd11b7f38d01",
   "metadata": {},
   "source": [
    "Next load the DICOM files, sort them by slice location, build a 3d image, and create a widget for each view."
   ]
  },
  {
   "cell_type": "code",
   "execution_count": 7,
   "id": "9d878600-4228-4d79-936a-6a052bd74a07",
   "metadata": {},
   "outputs": [
    {
     "name": "stdout",
     "output_type": "stream",
     "text": [
      "file count: 160\n",
      "skipped, no SliceLocation: 0\n"
     ]
    }
   ],
   "source": [
    "# load the DICOM files\n",
    "files = []\n",
    "for file in scan.files.values():\n",
    "    if file.uri.endswith(\"dcm\"):\n",
    "        files.append(pydicom.dcmread(file.open()))\n",
    "        \n",
    "print(\"file count: {}\".format(len(files)))\n",
    "\n",
    "# skip files with no SliceLocation (eg scout views)\n",
    "slices = []\n",
    "skipcount = 0\n",
    "for f in files:\n",
    "    if hasattr(f, 'SliceLocation'):\n",
    "        slices.append(f)\n",
    "    else:\n",
    "        skipcount = skipcount + 1\n",
    "\n",
    "print(\"skipped, no SliceLocation: {}\".format(skipcount))\n",
    "\n",
    "# ensure they are in the correct order\n",
    "slices = sorted(slices, key=lambda s: s.SliceLocation)\n",
    "\n",
    "# pixel aspects, assuming all slices are the same\n",
    "ps = slices[0].PixelSpacing\n",
    "ss = slices[0].SliceThickness\n",
    "ax_aspect = ps[1]/ps[0]\n",
    "sag_aspect = ps[1]/ss\n",
    "cor_aspect = ss/ps[0]\n",
    "\n",
    "# create 3D array\n",
    "img_shape = list(slices[0].pixel_array.shape)\n",
    "img_shape.append(len(slices))\n",
    "img3d = np.zeros(img_shape)\n",
    "\n",
    "# fill 3D array with the images from the files\n",
    "for i, s in enumerate(slices):\n",
    "    img2d = s.pixel_array\n",
    "    img3d[:, :, i] = img2d\n",
    "\n",
    "\n",
    "def browse_images_ax(img3d, img_shape, ax_aspect):\n",
    "    n = img_shape[2]\n",
    "    def view_image(i):\n",
    "        a = plt.subplot()\n",
    "        plt.imshow(img3d[:, :, i], cmap=plt.cm.bone, interpolation='nearest')\n",
    "        a.set_aspect(ax_aspect)\n",
    "        plt.title('Image: %s' % i)\n",
    "        plt.show()\n",
    "    interact(view_image, i=(0,n-1))\n",
    "    \n",
    "def browse_images_sag(img3d, img_shape, sag_aspect):\n",
    "    n = img_shape[1]\n",
    "    def view_image(i):\n",
    "        a = plt.subplot()\n",
    "        rotated_img = ndimage.rotate(img3d[:, i, :], 90)\n",
    "        plt.imshow(rotated_img, cmap=plt.cm.bone, interpolation='nearest')\n",
    "        a.set_aspect(1/sag_aspect)\n",
    "        plt.title('Image: %s' % i)\n",
    "        plt.show()\n",
    "    interact(view_image, i=(0,n-1))  \n",
    "    \n",
    "def browse_images_cor(img3d, img_shape, cor_aspect):\n",
    "    n = img_shape[0]\n",
    "    def view_image(i):\n",
    "        a = plt.subplot()\n",
    "        rotated_img = ndimage.rotate(img3d[i, :, :].T, 180)\n",
    "        plt.imshow(rotated_img, cmap=plt.cm.bone, interpolation='nearest')\n",
    "        a.set_aspect(cor_aspect)\n",
    "        plt.title('Image: %s' % i)\n",
    "        plt.show()\n",
    "    interact(view_image, i=(0,n-1))  "
   ]
  },
  {
   "cell_type": "markdown",
   "id": "3bbed722-6198-4b7a-912e-da389ac60cdf",
   "metadata": {},
   "source": [
    "Notice the log message. XNATpy understands the layout of the XNAT/Jupyter filesystem. If XNATpy can find your data on the filesystem it will use that instead of attempting to download from XNAT."
   ]
  },
  {
   "cell_type": "code",
   "execution_count": 8,
   "id": "f85f4cad-5dd8-40fd-8935-c13e08a7597f",
   "metadata": {},
   "outputs": [
    {
     "data": {
      "application/vnd.jupyter.widget-view+json": {
       "model_id": "b9dbc0c10ac94bc5a13d61b716d478e8",
       "version_major": 2,
       "version_minor": 0
      },
      "text/plain": [
       "interactive(children=(IntSlider(value=79, description='i', max=159), Output()), _dom_classes=('widget-interact…"
      ]
     },
     "metadata": {},
     "output_type": "display_data"
    },
    {
     "data": {
      "application/vnd.jupyter.widget-view+json": {
       "model_id": "e9c1b98ae63e417b8f5a44659f990808",
       "version_major": 2,
       "version_minor": 0
      },
      "text/plain": [
       "interactive(children=(IntSlider(value=127, description='i', max=255), Output()), _dom_classes=('widget-interac…"
      ]
     },
     "metadata": {},
     "output_type": "display_data"
    },
    {
     "data": {
      "application/vnd.jupyter.widget-view+json": {
       "model_id": "1f0df8ec9a39421c8d82186b0681f505",
       "version_major": 2,
       "version_minor": 0
      },
      "text/plain": [
       "interactive(children=(IntSlider(value=127, description='i', max=255), Output()), _dom_classes=('widget-interac…"
      ]
     },
     "metadata": {},
     "output_type": "display_data"
    }
   ],
   "source": [
    "browse_images_ax(img3d, img_shape, ax_aspect)\n",
    "browse_images_sag(img3d, img_shape, sag_aspect)\n",
    "browse_images_cor(img3d, img_shape, cor_aspect)"
   ]
  },
  {
   "cell_type": "code",
   "execution_count": null,
   "id": "a3f966e3-a242-42da-9ef1-34344fa53eed",
   "metadata": {},
   "outputs": [],
   "source": []
  }
 ],
 "metadata": {
  "kernelspec": {
   "display_name": "Python 3 (ipykernel)",
   "language": "python",
   "name": "python3"
  },
  "language_info": {
   "codemirror_mode": {
    "name": "ipython",
    "version": 3
   },
   "file_extension": ".py",
   "mimetype": "text/x-python",
   "name": "python",
   "nbconvert_exporter": "python",
   "pygments_lexer": "ipython3",
   "version": "3.10.8"
  }
 },
 "nbformat": 4,
 "nbformat_minor": 5
}
