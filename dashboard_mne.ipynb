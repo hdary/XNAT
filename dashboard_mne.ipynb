{
 "cells": [
  {
   "cell_type": "code",
   "execution_count": null,
   "metadata": {},
   "outputs": [],
   "source": [
    "# import nisnap\n",
    "import pyxnat\n",
    "import xnat\n",
    "from pyxnat import Interface\n",
    "import pandas as pd\n",
    "import nibabel as nib\n",
    "import mne\n",
    "import numpy as np"
   ]
  },
  {
   "cell_type": "code",
   "execution_count": null,
   "metadata": {},
   "outputs": [],
   "source": [
    "mne.viz.set_3d_backend(\"notebook\")"
   ]
  },
  {
   "cell_type": "code",
   "execution_count": null,
   "metadata": {},
   "outputs": [],
   "source": [
    "my_pyxnat = Interface(server=\"https://xnat.crmbm.univ-amu.fr\",\n",
    "                    user='hdary')"
   ]
  },
  {
   "cell_type": "code",
   "execution_count": null,
   "metadata": {},
   "outputs": [],
   "source": [
    "project = 'TERRA_BRAIN_EPINOV'"
   ]
  },
  {
   "cell_type": "code",
   "execution_count": null,
   "metadata": {},
   "outputs": [],
   "source": [
    "freesurfer_list = []\n",
    "\n",
    "for sub in my_pyxnat.select.project(project).subjects():\n",
    "    for exp in sub.experiments():\n",
    "        for res in exp.resources():\n",
    "            if res.label() == 'FREESURFER':\n",
    "                freesurfer_list.append(res)\n",
    "          "
   ]
  },
  {
   "cell_type": "code",
   "execution_count": null,
   "metadata": {},
   "outputs": [],
   "source": [
    "subjects_dir = "
   ]
  },
  {
   "cell_type": "code",
   "execution_count": null,
   "metadata": {},
   "outputs": [],
   "source": [
    "Brain = mne.viz.get_brain_class()"
   ]
  },
  {
   "cell_type": "code",
   "execution_count": null,
   "metadata": {},
   "outputs": [],
   "source": [
    "brain = Brain(subjects_dir, 'both', 'inflated', subjects_dir=subjects_dir,\n",
    "              cortex='high_contrast', alpha=0.5, background='black', size=(800, 600),\n",
    "              title='VEP atlas')\n",
    "\n",
    "brain.add_annotation(\"aparc.vep\", borders=False)\n",
    "brain.add_text(1, 1, 'VEP atlas', 'title', font_size=16)"
   ]
  }
 ],
 "metadata": {
  "language_info": {
   "name": "python"
  }
 },
 "nbformat": 4,
 "nbformat_minor": 2
}
