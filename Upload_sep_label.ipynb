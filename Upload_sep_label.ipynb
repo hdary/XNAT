{
 "cells": [
  {
   "cell_type": "code",
   "execution_count": 1,
   "metadata": {},
   "outputs": [],
   "source": [
    "def lire_colonnes_fichier_tsv(nom_fichier, colonne1, colonne2):\n",
    "    donnees = {}\n",
    "    with open(nom_fichier, 'r') as fichier:\n",
    "        lignes = fichier.readlines()\n",
    "        for ligne in lignes:\n",
    "            elements = ligne.strip().split('\\t')\n",
    "            if len(elements) >= max(colonne1, colonne2) + 1:\n",
    "                cle = elements[colonne1].replace(' ','')\n",
    "                valeur = elements[colonne2]\n",
    "                donnees[cle] = valeur\n",
    "            else:\n",
    "                print(f\"La ligne '{ligne.strip()}' n'a pas assez de colonnes pour lire les colonnes {colonne1} et {colonne2}.\")\n",
    "    return donnees\n"
   ]
  },
  {
   "cell_type": "code",
   "execution_count": 4,
   "metadata": {},
   "outputs": [
    {
     "name": "stdout",
     "output_type": "stream",
     "text": [
      "{'116_ZB_P3_BRAIN_EUFIND': 'SEP101', '128_LP_P2_BRAIN_SOD': 'SEP102', '138_PP_P2_BRAIN_SOD': 'SEP103', '244_LI_P1_BRAIN': 'SEP104', '263-CC-P2-BRAIN-SOD': 'SEP105', '286_EF_P1_BRAIN': 'SEP106', '287_MP_P1_BRAIN': 'SEP107', '293_EA_P1_BRAIN': 'SEP108', '294_MA_P1_BRAIN': 'SEP109', '295_SR_P1_BRAIN': 'SEP110', '303_IP_P1_BRAIN': 'SEP111', '309_ML_P1_BRAIN': 'SEP112', 'cf-t02-epi': 'SEP113', 'cm-t03-epi': 'SEP114', 'ma-t01-epi': 'SEP115', 'kl-t06-epi': 'SEP116', 'ol-t04-epi': 'SEP117', 'sc-t06-epi': 'SEP118', 'jc-t07-epi': 'SEP119', 'sv-t08-epi': 'SEP120', '354-jp-p1-brain-mrs': 'SEP121', '315-ME-P2-BRAIN': 'SEP122', '174-AM-P2-BRAIN': 'SEP140', '370_RG_P1_BRAIN': 'SEP123', '371_GD_P1_BRAIN': 'SEP124', '372_JK_P1_BRAIN': 'SEP125', '376_FF_P1_BRAIN': 'SEP126', '378_GK_P1_BRAIN': 'SEP127', '379-LG-P1_BRAIN': 'SEP128', '381-AL-P1_BRAIN': 'SEP129', '382-NE-P1_BRAIN': 'SEP130', '384-MM-P1_BRAIN': 'SEP131', '278-DB-P2_BRAIN': 'SEP132', '386-VD-P1-BRAIN': 'SEP133', '341-NC-BRAIN-P2': 'SEP134', '279-ED-P2-BRAIN': 'SEP135', '387-CB-P1-BRAIN': 'SEP136', '395-GB-P1-BRAIN': 'AA', '389-GG-P1-BRAIN': 'SEP137', '192-MP-P2-BRAIN': 'SEP138', 'MC-T09': 'SEP139', 'PP_T27': 'SEP103_Terra', 'em-t22': 'SEP122_Terra', 'ca-t16': 'SEP141_Terra', 'sf-t19': 'SEP143_Terra', 'bi-t014-p2': 'SEP144_Terra', 'cb-t023-p2': 'SEP145_Terra', 'fm-t47': 'SEP146_Terra', 'hg-t028-p1': 'SEP147_Terra', 'mg-t29-p1': 'SEP148_Terra'}\n"
     ]
    }
   ],
   "source": [
    "# Exemple d'utilisation\n",
    "nom_fichier = '/DATA_CNS/PROJECTS/SEP/phrcir/controls.tsv'\n",
    "colonne1 = 0  # Indice de la première colonne\n",
    "colonne2 = 1  # Indice de la deuxième colonne\n",
    "dico = lire_colonnes_fichier_tsv(nom_fichier, colonne1, colonne2)\n",
    "donnees_controls = {v: k for k, v in dico.items()}\n",
    "print(donnees_controls)"
   ]
  },
  {
   "cell_type": "code",
   "execution_count": 3,
   "metadata": {},
   "outputs": [
    {
     "name": "stdout",
     "output_type": "stream",
     "text": [
      "{'cn-p02-sep': 'SEP001', 'nc-p18-sep': 'SEP001_M24', 'ml-p06-sep': 'SEP002', 'na-p18-sep': 'SEP003', 'an-p09-sep': 'SEP003_M12', 'sd-p19-sep': 'SEP004', 'fl-p20-sep': 'SEP005', 'lf-p19-sep': 'SEP005_M24', 'lf-p19-m24': 'SEP005_M46', 'ah-p24-sep': 'SEP006', 'mt-p25-sep': 'SEP007', 'rm-p27-sep': 'SEP008', 'mr-p21-sep': 'SEP008_M24', 'ts-p28-sep': 'SEP009', 'st-p23-sep': 'SEP009_M24', 'st-p23-m24': 'SEP009_M46', 'pr-p33-sep': 'SEP010', 'cb-p34-sep': 'SEP011', 'ib-p35-sep': 'SEP012', 'cd-p37-sep': 'SEP013', 'yd-p05-sep': 'SEP014', 'yd-p05-m24': 'SEP014_M24', 'yd-p05-5ans': 'SEP014_M60', 'yr-p06-sep': 'SEP015', 'yr-p06-M24': 'SEP015_M24', 'se-p07-sep': 'SEP016', 'yr-p06-5ans': 'SEP016_M60', 'cb-p49-sep': 'SEP017', 'bc-p28-sep': 'SEP017_M24', 'bc-p28-m24': 'SEP017_M48', 'cj-01-p01': 'SEP018', 'bl-04-p01': 'SEP019', 'sp-p54-sep': 'SEP020', 'ps-p61-sep': 'SEP020_M24', 'pf-01-p02': 'SEP021', 'pf-01-p02-m12': 'SEP021_M12', 'pf-01-p02-m24': 'SEP021_M24', 'ct-p01': 'SEP022', 'cg-p59-sep': 'SEP023', 'ms-01-p03': 'SEP024', 'ms-01-p03-m12': 'SEP024_M12', 'ms-01-p03-m24': 'SEP024_M24', 'cc-01-p04': 'SEP025', 'nl-03-p01': 'SEP026', 'nl-03-p01-m12': 'SEP026_M12', 'nl-03-p01-m24': 'SEP026_M24', 'ss-p62-sep': 'SEP027', 'ca-04-p02': 'SEP028', 'ca-04-p02-m12': 'SEP028_M12', 'ca-04-p02-m24': 'SEP028_M24', 'rc-p02': 'SEP029', 'rc-p62-m0': 'SEP029_M24', 'ma-01-p05': 'SEP030', 'ma-01-p05-m12': 'SEP030_M12', 'ma-01-p05-m24': 'SEP030_M24', 'va-02-p03': 'SEP031', 'lp-p66-sep': 'SEP032', 'pl-p63-m0': 'SEP032_M24', 'pl-p63-sep-m24': 'SEP032_M48', 'rj-03-p02': 'SEP033', 'rj-03-p02-m12': 'SEP033_M12', 'rj-03-p02-m24': 'SEP033_M24', 'vm-02-p04': 'SEP034', 'vm-02-p04-m12': 'SEP034_M12', 'vm-02-p04-m24': 'SEP034_M24', 'sc-p67-sep': 'SEP035', 'gp-03-p03': 'SEP036', 'gp-03-p03-m24': 'SEP036_M24', 'se-04-p03': 'SEP037', 'se-04-p03-m12': 'SEP037_M12', 'se-04-p03-m24': 'SEP037_M24', 'ds-02-p06': 'SEP038', 'ds-02-p06-m24': 'SEP038_M24', 'cv-01-p06': 'SEP039', 'cv-01-p06-m12': 'SEP039_M12', 'cv-01-p06-m24': 'SEP039_M24', 'tc-p03': 'SEP040', 'ct-p77-sep': 'SEP041', 'mw-p04': 'SEP042', 'mw-p64-sep': 'SEP042_M24', 'ha-p05': 'SEP043', 'ha-p65-sep': 'SEP043_M24', 'al-p79-sep': 'SEP044', 'la-p66-sep': 'SEP044_M24', 'be-01-p07': 'SEP045', 'be-01-p07-m12': 'SEP045_M12', 'be-01-p07-m24': 'SEP045_M24', 'ac-p06': 'SEP046', 'gh-03-p04': 'SEP047', 'gh-03-p04-m12': 'SEP047_M12', 'gh-03-p04-m24': 'SEP047_M48', 'da-01-p08': 'SEP048', 'da-01-p08-m12': 'SEP048_M12', 'da-01-p08-m24': 'SEP048_M48', 'jl-01-p09': 'SEP049', 'jl-01-p09-m12': 'SEP049_M12', 'jl-01-p09-m24': 'SEP049_M48', 'bi-01-p10': 'SEP050', 'cc-01-p11': 'SEP051', 'cc-01-p11-m12': 'SEP051_M12', 'JM_P07': 'SEP052', 'JM-P67-SEP': 'SEP052_M24', 'ml-01-p12': 'SEP053', 'fd-01-p13': 'SEP054', 'fd-01-p13-m12': 'SEP054_M12', 'fd-01-p13-m24': 'SEP054_M24', 'hl-01-p14': 'SEP055', 'hl-01-p14-m12': 'SEP055_M12', 'hl-01-p14-m24': 'SEP055_M24', 'ss-p60-sep': 'SEP056', 'ss-p60-m24': 'SEP056_M24', 'py-01-p15': 'SEP057', 'fa-p08': 'SEP058', 'ke-01-p16': 'SEP059', 'ke-01-p16-m12': 'SEP059_M12', 'gl-01-p17': 'SEP060', 'ws-01-p18': 'SEP061', 'ac-02-p07': 'SEP062', 'ac-02-p07-m12': 'SEP062_M12', 'lf-01-p19': 'SEP063', 'lf-01-p19-m12': 'SEP063_M12', 'la-p09': 'SEP064', 'bp-p10': 'SEP065', 'bj-p11': 'SEP066', 'cc-p150-sep': 'SEP067', 'ci-p68-sep': 'SEP068', 'dl-p12': 'SEP069', 'hl-p13': 'SEP070', 'lb-p149-sep': 'SEP071', 'sc-p70-sep': 'SEP072', 'tb-p156-sep': 'SEP073', 'vj-p69-sep': 'SEP074', 'ck-p158-sep': 'SEP075', 'ts-p162-sep': 'SEP076', 'ae-p14': 'SEP077', 'cc-p15': 'SEP078', 'es-p166-sep': 'SEP079', 'hs-p167-sep': 'SEP080', 'rc-p169-sep': 'SEP081', 'ma-p164-sep': 'SEP082', 'lt-p172-sep': 'SEP083', 'lm-p163-sep': 'AA', 'ka-p16': 'SEP084'}\n"
     ]
    }
   ],
   "source": [
    "\n",
    "# Exemple d'utilisation\n",
    "nom_fichier = '/DATA_CNS/PROJECTS/SEP/phrcir/patients.tsv'\n",
    "colonne1 = 0  # Indice de la première colonne\n",
    "colonne2 = 1  # Indice de la deuxième colonne\n",
    "dico = lire_colonnes_fichier_tsv(nom_fichier, colonne1, colonne2)\n",
    "donnees_patients = {v: k for k, v in dico.items()}\n",
    "\n",
    "print(donnees_patients)"
   ]
  },
  {
   "cell_type": "code",
   "execution_count": 5,
   "metadata": {},
   "outputs": [],
   "source": [
    "import xnat\n",
    "import pyxnat\n",
    "from pyxnat import Interface\n",
    "import xnat\n",
    "import os\n",
    "import pydicom\n",
    "import tempfile\n",
    "from tqdm import tqdm\n"
   ]
  },
  {
   "cell_type": "code",
   "execution_count": 6,
   "metadata": {},
   "outputs": [],
   "source": [
    "session = xnat.connect('https://xnat.crmbm.univ-amu.fr', user='hdary')"
   ]
  },
  {
   "cell_type": "code",
   "execution_count": 10,
   "metadata": {},
   "outputs": [],
   "source": [
    "session_pyxnat = Interface(server=\"https://xnat.crmbm.univ-amu.fr\",\n",
    "                    user='hdary')"
   ]
  },
  {
   "cell_type": "code",
   "execution_count": 7,
   "metadata": {},
   "outputs": [],
   "source": [
    "project = \"VERIO_BRAIN_SEP\""
   ]
  },
  {
   "cell_type": "code",
   "execution_count": 8,
   "metadata": {},
   "outputs": [],
   "source": [
    "my_project = session.projects[project]"
   ]
  },
  {
   "cell_type": "code",
   "execution_count": 9,
   "metadata": {},
   "outputs": [],
   "source": [
    "in_xnat = my_project.subjects.values()\n",
    "in_xnat = [x.label for x in in_xnat]"
   ]
  },
  {
   "cell_type": "code",
   "execution_count": 10,
   "metadata": {},
   "outputs": [],
   "source": [
    "in_xnat_corrected = [i.replace('_', '-').lower() for i in in_xnat]\n",
    "dico_xnat = {}\n",
    "for i, j in enumerate(in_xnat_corrected):\n",
    "    dico_xnat[j] = in_xnat[i]"
   ]
  },
  {
   "cell_type": "code",
   "execution_count": 11,
   "metadata": {},
   "outputs": [
    {
     "data": {
      "text/plain": [
       "{'al-t15': 'AL_T15',\n",
       " 'ba-t03': 'BA_T03',\n",
       " 'cg-t06': 'CG_T06',\n",
       " 'ep-t09': 'EP_T09',\n",
       " 'er-t16': 'ER_T16',\n",
       " 'ml-t04': 'ML_T04',\n",
       " 'sv-t05': 'SV_T05',\n",
       " 'cm-t27-sod': 'CM-T27-SOD',\n",
       " 'maaad-t01': 'MAAAD-T01',\n",
       " 'js-t33': 'JS-T33',\n",
       " 'br-t40': 'BR_T40',\n",
       " 'cf-t42': 'CF_T42',\n",
       " 'am-t47': 'AM_T47',\n",
       " 'cr-t25': 'CR_T25',\n",
       " 'ia-t48': 'IA_T48',\n",
       " 'lp-t53': 'LP_T53',\n",
       " 'rh-t54': 'RH_T54',\n",
       " 'pa-t55': 'PA_T55',\n",
       " 'cg-t20': 'CG_T20',\n",
       " 'cm-t62': 'CM_T62',\n",
       " 'ct-t66': 'CT_T66',\n",
       " 'af-t51': 'AF_T51',\n",
       " 'cb-t37': 'CB_T37',\n",
       " 'wz-t11': 'WZ-T11',\n",
       " 'fz-t65': 'FZ_T65'}"
      ]
     },
     "execution_count": 11,
     "metadata": {},
     "output_type": "execute_result"
    }
   ],
   "source": [
    "dico_xnat"
   ]
  },
  {
   "cell_type": "code",
   "execution_count": 12,
   "metadata": {},
   "outputs": [],
   "source": [
    "dico_table = {}\n",
    "for k, v in dico_xnat.items():\n",
    "    if k in donnees_patients.keys():\n",
    "        dico_table[v] = donnees_patients[k]\n",
    "    else:\n",
    "        dico_table[v] = ''"
   ]
  },
  {
   "cell_type": "code",
   "execution_count": 14,
   "metadata": {},
   "outputs": [],
   "source": [
    "dico_table = {}\n",
    "for k, v in dico_xnat.items():\n",
    "    if k in donnees_controls.keys():\n",
    "        dico_table[v] = donnees_controls[k]\n",
    "    else:\n",
    "        dico_table[v] = ''"
   ]
  },
  {
   "cell_type": "code",
   "execution_count": 15,
   "metadata": {},
   "outputs": [
    {
     "data": {
      "text/plain": [
       "{'AL_T15': '',\n",
       " 'BA_T03': '',\n",
       " 'CG_T06': '',\n",
       " 'EP_T09': '',\n",
       " 'ER_T16': '',\n",
       " 'ML_T04': '',\n",
       " 'SV_T05': '',\n",
       " 'CM-T27-SOD': '',\n",
       " 'MAAAD-T01': '',\n",
       " 'JS-T33': '',\n",
       " 'BR_T40': '',\n",
       " 'CF_T42': '',\n",
       " 'AM_T47': '',\n",
       " 'CR_T25': '',\n",
       " 'IA_T48': '',\n",
       " 'LP_T53': '',\n",
       " 'RH_T54': '',\n",
       " 'PA_T55': '',\n",
       " 'CG_T20': '',\n",
       " 'CM_T62': '',\n",
       " 'CT_T66': '',\n",
       " 'AF_T51': '',\n",
       " 'CB_T37': '',\n",
       " 'WZ-T11': '',\n",
       " 'FZ_T65': ''}"
      ]
     },
     "execution_count": 15,
     "metadata": {},
     "output_type": "execute_result"
    }
   ],
   "source": [
    "dico_table"
   ]
  },
  {
   "cell_type": "markdown",
   "metadata": {},
   "source": [
    "put label in XNAT"
   ]
  },
  {
   "cell_type": "code",
   "execution_count": 28,
   "metadata": {},
   "outputs": [],
   "source": [
    "for s, label in dico_table.items():\n",
    "    print(s, label)\n",
    "    # try:\n",
    "    sub = my_project.subjects[s]\n",
    "    sub.custom_variables['SEP']['SEP_label'] = label\n",
    "    # except:\n",
    "    #     pass"
   ]
  },
  {
   "cell_type": "markdown",
   "metadata": {},
   "source": [
    "Read XNAT label"
   ]
  },
  {
   "cell_type": "code",
   "execution_count": 16,
   "metadata": {},
   "outputs": [
    {
     "name": "stdout",
     "output_type": "stream",
     "text": [
      "None\n",
      "None\n"
     ]
    },
    {
     "ename": "KeyboardInterrupt",
     "evalue": "",
     "output_type": "error",
     "traceback": [
      "\u001b[0;31m---------------------------------------------------------------------------\u001b[0m",
      "\u001b[0;31mKeyboardInterrupt\u001b[0m                         Traceback (most recent call last)",
      "Cell \u001b[0;32mIn[16], line 6\u001b[0m\n\u001b[1;32m      4\u001b[0m \u001b[38;5;66;03m# try:\u001b[39;00m\n\u001b[1;32m      5\u001b[0m sub \u001b[38;5;241m=\u001b[39m my_project\u001b[38;5;241m.\u001b[39msubjects[s]\n\u001b[0;32m----> 6\u001b[0m \u001b[38;5;28mprint\u001b[39m(\u001b[43msub\u001b[49m\u001b[38;5;241;43m.\u001b[39;49m\u001b[43mcustom_variables\u001b[49m\u001b[43m[\u001b[49m\u001b[38;5;124;43m'\u001b[39;49m\u001b[38;5;124;43mSEP\u001b[39;49m\u001b[38;5;124;43m'\u001b[39;49m\u001b[43m]\u001b[49m\u001b[43m[\u001b[49m\u001b[38;5;124;43m'\u001b[39;49m\u001b[38;5;124;43mSEP_label\u001b[39;49m\u001b[38;5;124;43m'\u001b[39;49m\u001b[43m]\u001b[49m)\n\u001b[1;32m      7\u001b[0m \u001b[38;5;66;03m# except:\u001b[39;00m\n\u001b[1;32m      8\u001b[0m \u001b[38;5;66;03m#     pass\u001b[39;00m\n",
      "File \u001b[0;32m~/miniconda3/lib/python3.10/site-packages/xnat/core.py:157\u001b[0m, in \u001b[0;36mCustomVariableGroup.__getitem__\u001b[0;34m(self, key)\u001b[0m\n\u001b[1;32m    155\u001b[0m \u001b[38;5;28;01mdef\u001b[39;00m \u001b[38;5;21m__getitem__\u001b[39m(\u001b[38;5;28mself\u001b[39m, key: \u001b[38;5;28mstr\u001b[39m):\n\u001b[1;32m    156\u001b[0m     field \u001b[38;5;241m=\u001b[39m \u001b[38;5;28mself\u001b[39m\u001b[38;5;241m.\u001b[39mfields[key]\n\u001b[0;32m--> 157\u001b[0m     value \u001b[38;5;241m=\u001b[39m \u001b[38;5;28;43mself\u001b[39;49m\u001b[38;5;241;43m.\u001b[39;49m\u001b[43mparent\u001b[49m\u001b[38;5;241;43m.\u001b[39;49m\u001b[43mfields\u001b[49m\u001b[38;5;241;43m.\u001b[39;49m\u001b[43mget\u001b[49m\u001b[43m(\u001b[49m\u001b[43mkey\u001b[49m\u001b[43m)\u001b[49m\n\u001b[1;32m    159\u001b[0m     \u001b[38;5;28;01mif\u001b[39;00m value \u001b[38;5;129;01mis\u001b[39;00m \u001b[38;5;28;01mNone\u001b[39;00m:\n\u001b[1;32m    160\u001b[0m         \u001b[38;5;28;01mreturn\u001b[39;00m \u001b[38;5;28;01mNone\u001b[39;00m\n",
      "File \u001b[0;32m~/miniconda3/lib/python3.10/_collections_abc.py:819\u001b[0m, in \u001b[0;36mMapping.get\u001b[0;34m(self, key, default)\u001b[0m\n\u001b[1;32m    817\u001b[0m \u001b[38;5;124m'\u001b[39m\u001b[38;5;124mD.get(k[,d]) -> D[k] if k in D, else d.  d defaults to None.\u001b[39m\u001b[38;5;124m'\u001b[39m\n\u001b[1;32m    818\u001b[0m \u001b[38;5;28;01mtry\u001b[39;00m:\n\u001b[0;32m--> 819\u001b[0m     \u001b[38;5;28;01mreturn\u001b[39;00m \u001b[38;5;28;43mself\u001b[39;49m\u001b[43m[\u001b[49m\u001b[43mkey\u001b[49m\u001b[43m]\u001b[49m\n\u001b[1;32m    820\u001b[0m \u001b[38;5;28;01mexcept\u001b[39;00m \u001b[38;5;167;01mKeyError\u001b[39;00m:\n\u001b[1;32m    821\u001b[0m     \u001b[38;5;28;01mreturn\u001b[39;00m default\n",
      "File \u001b[0;32m~/miniconda3/lib/python3.10/site-packages/xnat/core.py:818\u001b[0m, in \u001b[0;36mXNATBaseListing.__getitem__\u001b[0;34m(self, item)\u001b[0m\n\u001b[1;32m    815\u001b[0m     \u001b[38;5;28;01mreturn\u001b[39;00m \u001b[38;5;28mself\u001b[39m\u001b[38;5;241m.\u001b[39mlisting[item]\n\u001b[1;32m    817\u001b[0m \u001b[38;5;28;01mtry\u001b[39;00m:\n\u001b[0;32m--> 818\u001b[0m     \u001b[38;5;28;01mreturn\u001b[39;00m \u001b[38;5;28;43mself\u001b[39;49m\u001b[38;5;241;43m.\u001b[39;49m\u001b[43mdata\u001b[49m[item]\n\u001b[1;32m    819\u001b[0m \u001b[38;5;28;01mexcept\u001b[39;00m \u001b[38;5;167;01mKeyError\u001b[39;00m:\n\u001b[1;32m    820\u001b[0m     \u001b[38;5;28;01mif\u001b[39;00m item \u001b[38;5;129;01min\u001b[39;00m \u001b[38;5;28mself\u001b[39m\u001b[38;5;241m.\u001b[39mnon_unique_keys:\n",
      "File \u001b[0;32m~/miniconda3/lib/python3.10/site-packages/xnat/core.py:778\u001b[0m, in \u001b[0;36mXNATBaseListing.data\u001b[0;34m(self)\u001b[0m\n\u001b[1;32m    773\u001b[0m \u001b[38;5;129m@property\u001b[39m\n\u001b[1;32m    774\u001b[0m \u001b[38;5;28;01mdef\u001b[39;00m \u001b[38;5;21mdata\u001b[39m(\u001b[38;5;28mself\u001b[39m):\n\u001b[1;32m    775\u001b[0m \u001b[38;5;250m    \u001b[39m\u001b[38;5;124;03m\"\"\"\u001b[39;00m\n\u001b[1;32m    776\u001b[0m \u001b[38;5;124;03m    The data mapping using the primary key\u001b[39;00m\n\u001b[1;32m    777\u001b[0m \u001b[38;5;124;03m    \"\"\"\u001b[39;00m\n\u001b[0;32m--> 778\u001b[0m     \u001b[38;5;28;01mreturn\u001b[39;00m \u001b[38;5;28;43mself\u001b[39;49m\u001b[38;5;241;43m.\u001b[39;49m\u001b[43mdata_maps\u001b[49m[\u001b[38;5;241m0\u001b[39m]\n",
      "File \u001b[0;32m~/miniconda3/lib/python3.10/site-packages/xnat/core.py:60\u001b[0m, in \u001b[0;36mcaching.<locals>.wrapper\u001b[0;34m(self)\u001b[0m\n\u001b[1;32m     54\u001b[0m \u001b[38;5;28;01mdef\u001b[39;00m \u001b[38;5;21mwrapper\u001b[39m(\u001b[38;5;28mself\u001b[39m):\n\u001b[1;32m     55\u001b[0m     \u001b[38;5;66;03m# We use self._cache here, in the decorator _cache will be a member of\u001b[39;00m\n\u001b[1;32m     56\u001b[0m     \u001b[38;5;66;03m#  the objects, so nothing to worry about\u001b[39;00m\n\u001b[1;32m     57\u001b[0m     \u001b[38;5;66;03m# pylint: disable=protected-access\u001b[39;00m\n\u001b[1;32m     58\u001b[0m     \u001b[38;5;28;01mif\u001b[39;00m \u001b[38;5;129;01mnot\u001b[39;00m \u001b[38;5;28mself\u001b[39m\u001b[38;5;241m.\u001b[39mcaching \u001b[38;5;129;01mor\u001b[39;00m name \u001b[38;5;129;01mnot\u001b[39;00m \u001b[38;5;129;01min\u001b[39;00m \u001b[38;5;28mself\u001b[39m\u001b[38;5;241m.\u001b[39m_cache:\n\u001b[1;32m     59\u001b[0m         \u001b[38;5;66;03m# Compute the value if not cached\u001b[39;00m\n\u001b[0;32m---> 60\u001b[0m         \u001b[38;5;28mself\u001b[39m\u001b[38;5;241m.\u001b[39m_cache[name] \u001b[38;5;241m=\u001b[39m \u001b[43mfunc\u001b[49m\u001b[43m(\u001b[49m\u001b[38;5;28;43mself\u001b[39;49m\u001b[43m)\u001b[49m\n\u001b[1;32m     62\u001b[0m     \u001b[38;5;28;01mreturn\u001b[39;00m \u001b[38;5;28mself\u001b[39m\u001b[38;5;241m.\u001b[39m_cache[name]\n",
      "File \u001b[0;32m~/miniconda3/lib/python3.10/site-packages/xnat/core.py:1175\u001b[0m, in \u001b[0;36mXNATSimpleListing.data_maps\u001b[0;34m(self)\u001b[0m\n\u001b[1;32m   1172\u001b[0m listing \u001b[38;5;241m=\u001b[39m []\n\u001b[1;32m   1173\u001b[0m non_unique_keys \u001b[38;5;241m=\u001b[39m \u001b[38;5;28mset\u001b[39m()\n\u001b[0;32m-> 1175\u001b[0m \u001b[38;5;28;01mfor\u001b[39;00m index, element \u001b[38;5;129;01min\u001b[39;00m \u001b[38;5;28menumerate\u001b[39m(\u001b[38;5;28;43mself\u001b[39;49m\u001b[38;5;241;43m.\u001b[39;49m\u001b[43mfulldata\u001b[49m):\n\u001b[1;32m   1176\u001b[0m     \u001b[38;5;28;01mif\u001b[39;00m \u001b[38;5;28mself\u001b[39m\u001b[38;5;241m.\u001b[39msecondary_lookup_field \u001b[38;5;129;01mis\u001b[39;00m \u001b[38;5;129;01mnot\u001b[39;00m \u001b[38;5;28;01mNone\u001b[39;00m:\n\u001b[1;32m   1177\u001b[0m         key \u001b[38;5;241m=\u001b[39m element[\u001b[38;5;124m'\u001b[39m\u001b[38;5;124mdata_fields\u001b[39m\u001b[38;5;124m'\u001b[39m]\u001b[38;5;241m.\u001b[39mget(\u001b[38;5;28mself\u001b[39m\u001b[38;5;241m.\u001b[39msecondary_lookup_field)\n",
      "File \u001b[0;32m~/miniconda3/lib/python3.10/site-packages/xnat/core.py:1158\u001b[0m, in \u001b[0;36mXNATSimpleListing.fulldata\u001b[0;34m(self)\u001b[0m\n\u001b[1;32m   1154\u001b[0m \u001b[38;5;129m@property\u001b[39m\n\u001b[1;32m   1155\u001b[0m \u001b[38;5;28;01mdef\u001b[39;00m \u001b[38;5;21mfulldata\u001b[39m(\u001b[38;5;28mself\u001b[39m):\n\u001b[1;32m   1156\u001b[0m     fieldname \u001b[38;5;241m=\u001b[39m \u001b[38;5;28mself\u001b[39m\u001b[38;5;241m.\u001b[39m_resolve_fieldname()\n\u001b[0;32m-> 1158\u001b[0m     \u001b[38;5;28;01mfor\u001b[39;00m child \u001b[38;5;129;01min\u001b[39;00m \u001b[38;5;28;43mself\u001b[39;49m\u001b[38;5;241;43m.\u001b[39;49m\u001b[43mparent\u001b[49m\u001b[38;5;241;43m.\u001b[39;49m\u001b[43mfulldata\u001b[49m[\u001b[38;5;124m'\u001b[39m\u001b[38;5;124mchildren\u001b[39m\u001b[38;5;124m'\u001b[39m]:\n\u001b[1;32m   1159\u001b[0m         \u001b[38;5;28;01mif\u001b[39;00m child[\u001b[38;5;124m'\u001b[39m\u001b[38;5;124mfield\u001b[39m\u001b[38;5;124m'\u001b[39m] \u001b[38;5;241m==\u001b[39m fieldname:\n\u001b[1;32m   1160\u001b[0m             \u001b[38;5;28;01mreturn\u001b[39;00m child[\u001b[38;5;124m'\u001b[39m\u001b[38;5;124mitems\u001b[39m\u001b[38;5;124m'\u001b[39m]\n",
      "File \u001b[0;32m~/miniconda3/lib/python3.10/site-packages/xnat/core.py:60\u001b[0m, in \u001b[0;36mcaching.<locals>.wrapper\u001b[0;34m(self)\u001b[0m\n\u001b[1;32m     54\u001b[0m \u001b[38;5;28;01mdef\u001b[39;00m \u001b[38;5;21mwrapper\u001b[39m(\u001b[38;5;28mself\u001b[39m):\n\u001b[1;32m     55\u001b[0m     \u001b[38;5;66;03m# We use self._cache here, in the decorator _cache will be a member of\u001b[39;00m\n\u001b[1;32m     56\u001b[0m     \u001b[38;5;66;03m#  the objects, so nothing to worry about\u001b[39;00m\n\u001b[1;32m     57\u001b[0m     \u001b[38;5;66;03m# pylint: disable=protected-access\u001b[39;00m\n\u001b[1;32m     58\u001b[0m     \u001b[38;5;28;01mif\u001b[39;00m \u001b[38;5;129;01mnot\u001b[39;00m \u001b[38;5;28mself\u001b[39m\u001b[38;5;241m.\u001b[39mcaching \u001b[38;5;129;01mor\u001b[39;00m name \u001b[38;5;129;01mnot\u001b[39;00m \u001b[38;5;129;01min\u001b[39;00m \u001b[38;5;28mself\u001b[39m\u001b[38;5;241m.\u001b[39m_cache:\n\u001b[1;32m     59\u001b[0m         \u001b[38;5;66;03m# Compute the value if not cached\u001b[39;00m\n\u001b[0;32m---> 60\u001b[0m         \u001b[38;5;28mself\u001b[39m\u001b[38;5;241m.\u001b[39m_cache[name] \u001b[38;5;241m=\u001b[39m \u001b[43mfunc\u001b[49m\u001b[43m(\u001b[49m\u001b[38;5;28;43mself\u001b[39;49m\u001b[43m)\u001b[49m\n\u001b[1;32m     62\u001b[0m     \u001b[38;5;28;01mreturn\u001b[39;00m \u001b[38;5;28mself\u001b[39m\u001b[38;5;241m.\u001b[39m_cache[name]\n",
      "File \u001b[0;32m~/miniconda3/lib/python3.10/site-packages/xnat/core.py:551\u001b[0m, in \u001b[0;36mXNATObject.fulldata\u001b[0;34m(self)\u001b[0m\n\u001b[1;32m    548\u001b[0m \u001b[38;5;129m@property\u001b[39m\n\u001b[1;32m    549\u001b[0m \u001b[38;5;129m@caching\u001b[39m\n\u001b[1;32m    550\u001b[0m \u001b[38;5;28;01mdef\u001b[39;00m \u001b[38;5;21mfulldata\u001b[39m(\u001b[38;5;28mself\u001b[39m) \u001b[38;5;241m-\u001b[39m\u001b[38;5;241m>\u001b[39m JSONType:\n\u001b[0;32m--> 551\u001b[0m     data \u001b[38;5;241m=\u001b[39m \u001b[38;5;28;43mself\u001b[39;49m\u001b[38;5;241;43m.\u001b[39;49m\u001b[43mxnat_session\u001b[49m\u001b[38;5;241;43m.\u001b[39;49m\u001b[43mget_json\u001b[49m\u001b[43m(\u001b[49m\u001b[38;5;28;43mself\u001b[39;49m\u001b[38;5;241;43m.\u001b[39;49m\u001b[43muri\u001b[49m\u001b[43m)\u001b[49m[\u001b[38;5;124m'\u001b[39m\u001b[38;5;124mitems\u001b[39m\u001b[38;5;124m'\u001b[39m]\n\u001b[1;32m    553\u001b[0m     \u001b[38;5;66;03m# Determine original insert data (oldest entry)\u001b[39;00m\n\u001b[1;32m    554\u001b[0m     insert_date \u001b[38;5;241m=\u001b[39m \u001b[38;5;28mmin\u001b[39m(parse_datetime(x[\u001b[38;5;124m'\u001b[39m\u001b[38;5;124mmeta\u001b[39m\u001b[38;5;124m'\u001b[39m][\u001b[38;5;124m'\u001b[39m\u001b[38;5;124mstart_date\u001b[39m\u001b[38;5;124m'\u001b[39m]) \u001b[38;5;28;01mfor\u001b[39;00m x \u001b[38;5;129;01min\u001b[39;00m data)\n",
      "File \u001b[0;32m~/miniconda3/lib/python3.10/site-packages/xnat/session.py:601\u001b[0m, in \u001b[0;36mBaseXNATSession.get_json\u001b[0;34m(self, uri, query, accepted_status)\u001b[0m\n\u001b[1;32m    588\u001b[0m \u001b[38;5;28;01mdef\u001b[39;00m \u001b[38;5;21mget_json\u001b[39m(\u001b[38;5;28mself\u001b[39m,\n\u001b[1;32m    589\u001b[0m              uri: \u001b[38;5;28mstr\u001b[39m,\n\u001b[1;32m    590\u001b[0m              query: Optional[Dict[\u001b[38;5;28mstr\u001b[39m, \u001b[38;5;28mstr\u001b[39m]] \u001b[38;5;241m=\u001b[39m \u001b[38;5;28;01mNone\u001b[39;00m,\n\u001b[1;32m    591\u001b[0m              accepted_status: Optional[Container[\u001b[38;5;28mint\u001b[39m]] \u001b[38;5;241m=\u001b[39m \u001b[38;5;28;01mNone\u001b[39;00m) \u001b[38;5;241m-\u001b[39m\u001b[38;5;241m>\u001b[39m JSONType:\n\u001b[1;32m    592\u001b[0m \u001b[38;5;250m    \u001b[39m\u001b[38;5;124;03m\"\"\"\u001b[39;00m\n\u001b[1;32m    593\u001b[0m \u001b[38;5;124;03m    Helper function that perform a GET, but sets the format to JSON and\u001b[39;00m\n\u001b[1;32m    594\u001b[0m \u001b[38;5;124;03m    parses the result as JSON\u001b[39;00m\n\u001b[0;32m   (...)\u001b[0m\n\u001b[1;32m    599\u001b[0m \u001b[38;5;124;03m    :param accepted_status: a list of the valid values for the return code, default [200]\u001b[39;00m\n\u001b[1;32m    600\u001b[0m \u001b[38;5;124;03m    \"\"\"\u001b[39;00m\n\u001b[0;32m--> 601\u001b[0m     response \u001b[38;5;241m=\u001b[39m \u001b[38;5;28;43mself\u001b[39;49m\u001b[38;5;241;43m.\u001b[39;49m\u001b[43mget\u001b[49m\u001b[43m(\u001b[49m\u001b[43muri\u001b[49m\u001b[43m,\u001b[49m\u001b[43m \u001b[49m\u001b[38;5;28;43mformat\u001b[39;49m\u001b[38;5;241;43m=\u001b[39;49m\u001b[38;5;124;43m'\u001b[39;49m\u001b[38;5;124;43mjson\u001b[39;49m\u001b[38;5;124;43m'\u001b[39;49m\u001b[43m,\u001b[49m\u001b[43m \u001b[49m\u001b[43mquery\u001b[49m\u001b[38;5;241;43m=\u001b[39;49m\u001b[43mquery\u001b[49m\u001b[43m,\u001b[49m\u001b[43m \u001b[49m\u001b[43maccepted_status\u001b[49m\u001b[38;5;241;43m=\u001b[39;49m\u001b[43maccepted_status\u001b[49m\u001b[43m)\u001b[49m\n\u001b[1;32m    602\u001b[0m     \u001b[38;5;28;01mtry\u001b[39;00m:\n\u001b[1;32m    603\u001b[0m         \u001b[38;5;28;01mreturn\u001b[39;00m response\u001b[38;5;241m.\u001b[39mjson()\n",
      "File \u001b[0;32m~/miniconda3/lib/python3.10/site-packages/xnat/session.py:382\u001b[0m, in \u001b[0;36mBaseXNATSession.get\u001b[0;34m(self, path, format, query, accepted_status, timeout, headers)\u001b[0m\n\u001b[1;32m    379\u001b[0m \u001b[38;5;28mself\u001b[39m\u001b[38;5;241m.\u001b[39mlogger\u001b[38;5;241m.\u001b[39minfo(\u001b[38;5;124mf\u001b[39m\u001b[38;5;124m'\u001b[39m\u001b[38;5;124mGET URI \u001b[39m\u001b[38;5;132;01m{\u001b[39;00muri\u001b[38;5;132;01m}\u001b[39;00m\u001b[38;5;124m'\u001b[39m)\n\u001b[1;32m    381\u001b[0m \u001b[38;5;28;01mtry\u001b[39;00m:\n\u001b[0;32m--> 382\u001b[0m     response \u001b[38;5;241m=\u001b[39m \u001b[38;5;28;43mself\u001b[39;49m\u001b[38;5;241;43m.\u001b[39;49m\u001b[43minterface\u001b[49m\u001b[38;5;241;43m.\u001b[39;49m\u001b[43mget\u001b[49m\u001b[43m(\u001b[49m\u001b[43muri\u001b[49m\u001b[43m,\u001b[49m\u001b[43m \u001b[49m\u001b[43mtimeout\u001b[49m\u001b[38;5;241;43m=\u001b[39;49m\u001b[43mtimeout\u001b[49m\u001b[43m,\u001b[49m\u001b[43m \u001b[49m\u001b[43mheaders\u001b[49m\u001b[38;5;241;43m=\u001b[39;49m\u001b[43mheaders\u001b[49m\u001b[43m)\u001b[49m\n\u001b[1;32m    383\u001b[0m \u001b[38;5;28;01mexcept\u001b[39;00m requests\u001b[38;5;241m.\u001b[39mexceptions\u001b[38;5;241m.\u001b[39mSSLError:\n\u001b[1;32m    384\u001b[0m     \u001b[38;5;28;01mraise\u001b[39;00m exceptions\u001b[38;5;241m.\u001b[39mXNATSSLError(\u001b[38;5;124m'\u001b[39m\u001b[38;5;124mEncountered a problem with the SSL connection, are you sure the server is offering https?\u001b[39m\u001b[38;5;124m'\u001b[39m)\n",
      "File \u001b[0;32m~/miniconda3/lib/python3.10/site-packages/requests/sessions.py:602\u001b[0m, in \u001b[0;36mSession.get\u001b[0;34m(self, url, **kwargs)\u001b[0m\n\u001b[1;32m    594\u001b[0m \u001b[38;5;250m\u001b[39m\u001b[38;5;124mr\u001b[39m\u001b[38;5;124;03m\"\"\"Sends a GET request. Returns :class:`Response` object.\u001b[39;00m\n\u001b[1;32m    595\u001b[0m \n\u001b[1;32m    596\u001b[0m \u001b[38;5;124;03m:param url: URL for the new :class:`Request` object.\u001b[39;00m\n\u001b[1;32m    597\u001b[0m \u001b[38;5;124;03m:param \\*\\*kwargs: Optional arguments that ``request`` takes.\u001b[39;00m\n\u001b[1;32m    598\u001b[0m \u001b[38;5;124;03m:rtype: requests.Response\u001b[39;00m\n\u001b[1;32m    599\u001b[0m \u001b[38;5;124;03m\"\"\"\u001b[39;00m\n\u001b[1;32m    601\u001b[0m kwargs\u001b[38;5;241m.\u001b[39msetdefault(\u001b[38;5;124m\"\u001b[39m\u001b[38;5;124mallow_redirects\u001b[39m\u001b[38;5;124m\"\u001b[39m, \u001b[38;5;28;01mTrue\u001b[39;00m)\n\u001b[0;32m--> 602\u001b[0m \u001b[38;5;28;01mreturn\u001b[39;00m \u001b[38;5;28;43mself\u001b[39;49m\u001b[38;5;241;43m.\u001b[39;49m\u001b[43mrequest\u001b[49m\u001b[43m(\u001b[49m\u001b[38;5;124;43m\"\u001b[39;49m\u001b[38;5;124;43mGET\u001b[39;49m\u001b[38;5;124;43m\"\u001b[39;49m\u001b[43m,\u001b[49m\u001b[43m \u001b[49m\u001b[43murl\u001b[49m\u001b[43m,\u001b[49m\u001b[43m \u001b[49m\u001b[38;5;241;43m*\u001b[39;49m\u001b[38;5;241;43m*\u001b[39;49m\u001b[43mkwargs\u001b[49m\u001b[43m)\u001b[49m\n",
      "File \u001b[0;32m~/miniconda3/lib/python3.10/site-packages/requests/sessions.py:589\u001b[0m, in \u001b[0;36mSession.request\u001b[0;34m(self, method, url, params, data, headers, cookies, files, auth, timeout, allow_redirects, proxies, hooks, stream, verify, cert, json)\u001b[0m\n\u001b[1;32m    584\u001b[0m send_kwargs \u001b[38;5;241m=\u001b[39m {\n\u001b[1;32m    585\u001b[0m     \u001b[38;5;124m\"\u001b[39m\u001b[38;5;124mtimeout\u001b[39m\u001b[38;5;124m\"\u001b[39m: timeout,\n\u001b[1;32m    586\u001b[0m     \u001b[38;5;124m\"\u001b[39m\u001b[38;5;124mallow_redirects\u001b[39m\u001b[38;5;124m\"\u001b[39m: allow_redirects,\n\u001b[1;32m    587\u001b[0m }\n\u001b[1;32m    588\u001b[0m send_kwargs\u001b[38;5;241m.\u001b[39mupdate(settings)\n\u001b[0;32m--> 589\u001b[0m resp \u001b[38;5;241m=\u001b[39m \u001b[38;5;28;43mself\u001b[39;49m\u001b[38;5;241;43m.\u001b[39;49m\u001b[43msend\u001b[49m\u001b[43m(\u001b[49m\u001b[43mprep\u001b[49m\u001b[43m,\u001b[49m\u001b[43m \u001b[49m\u001b[38;5;241;43m*\u001b[39;49m\u001b[38;5;241;43m*\u001b[39;49m\u001b[43msend_kwargs\u001b[49m\u001b[43m)\u001b[49m\n\u001b[1;32m    591\u001b[0m \u001b[38;5;28;01mreturn\u001b[39;00m resp\n",
      "File \u001b[0;32m~/miniconda3/lib/python3.10/site-packages/requests/sessions.py:703\u001b[0m, in \u001b[0;36mSession.send\u001b[0;34m(self, request, **kwargs)\u001b[0m\n\u001b[1;32m    700\u001b[0m start \u001b[38;5;241m=\u001b[39m preferred_clock()\n\u001b[1;32m    702\u001b[0m \u001b[38;5;66;03m# Send the request\u001b[39;00m\n\u001b[0;32m--> 703\u001b[0m r \u001b[38;5;241m=\u001b[39m \u001b[43madapter\u001b[49m\u001b[38;5;241;43m.\u001b[39;49m\u001b[43msend\u001b[49m\u001b[43m(\u001b[49m\u001b[43mrequest\u001b[49m\u001b[43m,\u001b[49m\u001b[43m \u001b[49m\u001b[38;5;241;43m*\u001b[39;49m\u001b[38;5;241;43m*\u001b[39;49m\u001b[43mkwargs\u001b[49m\u001b[43m)\u001b[49m\n\u001b[1;32m    705\u001b[0m \u001b[38;5;66;03m# Total elapsed time of the request (approximately)\u001b[39;00m\n\u001b[1;32m    706\u001b[0m elapsed \u001b[38;5;241m=\u001b[39m preferred_clock() \u001b[38;5;241m-\u001b[39m start\n",
      "File \u001b[0;32m~/miniconda3/lib/python3.10/site-packages/requests/adapters.py:486\u001b[0m, in \u001b[0;36mHTTPAdapter.send\u001b[0;34m(self, request, stream, timeout, verify, cert, proxies)\u001b[0m\n\u001b[1;32m    483\u001b[0m     timeout \u001b[38;5;241m=\u001b[39m TimeoutSauce(connect\u001b[38;5;241m=\u001b[39mtimeout, read\u001b[38;5;241m=\u001b[39mtimeout)\n\u001b[1;32m    485\u001b[0m \u001b[38;5;28;01mtry\u001b[39;00m:\n\u001b[0;32m--> 486\u001b[0m     resp \u001b[38;5;241m=\u001b[39m \u001b[43mconn\u001b[49m\u001b[38;5;241;43m.\u001b[39;49m\u001b[43murlopen\u001b[49m\u001b[43m(\u001b[49m\n\u001b[1;32m    487\u001b[0m \u001b[43m        \u001b[49m\u001b[43mmethod\u001b[49m\u001b[38;5;241;43m=\u001b[39;49m\u001b[43mrequest\u001b[49m\u001b[38;5;241;43m.\u001b[39;49m\u001b[43mmethod\u001b[49m\u001b[43m,\u001b[49m\n\u001b[1;32m    488\u001b[0m \u001b[43m        \u001b[49m\u001b[43murl\u001b[49m\u001b[38;5;241;43m=\u001b[39;49m\u001b[43murl\u001b[49m\u001b[43m,\u001b[49m\n\u001b[1;32m    489\u001b[0m \u001b[43m        \u001b[49m\u001b[43mbody\u001b[49m\u001b[38;5;241;43m=\u001b[39;49m\u001b[43mrequest\u001b[49m\u001b[38;5;241;43m.\u001b[39;49m\u001b[43mbody\u001b[49m\u001b[43m,\u001b[49m\n\u001b[1;32m    490\u001b[0m \u001b[43m        \u001b[49m\u001b[43mheaders\u001b[49m\u001b[38;5;241;43m=\u001b[39;49m\u001b[43mrequest\u001b[49m\u001b[38;5;241;43m.\u001b[39;49m\u001b[43mheaders\u001b[49m\u001b[43m,\u001b[49m\n\u001b[1;32m    491\u001b[0m \u001b[43m        \u001b[49m\u001b[43mredirect\u001b[49m\u001b[38;5;241;43m=\u001b[39;49m\u001b[38;5;28;43;01mFalse\u001b[39;49;00m\u001b[43m,\u001b[49m\n\u001b[1;32m    492\u001b[0m \u001b[43m        \u001b[49m\u001b[43massert_same_host\u001b[49m\u001b[38;5;241;43m=\u001b[39;49m\u001b[38;5;28;43;01mFalse\u001b[39;49;00m\u001b[43m,\u001b[49m\n\u001b[1;32m    493\u001b[0m \u001b[43m        \u001b[49m\u001b[43mpreload_content\u001b[49m\u001b[38;5;241;43m=\u001b[39;49m\u001b[38;5;28;43;01mFalse\u001b[39;49;00m\u001b[43m,\u001b[49m\n\u001b[1;32m    494\u001b[0m \u001b[43m        \u001b[49m\u001b[43mdecode_content\u001b[49m\u001b[38;5;241;43m=\u001b[39;49m\u001b[38;5;28;43;01mFalse\u001b[39;49;00m\u001b[43m,\u001b[49m\n\u001b[1;32m    495\u001b[0m \u001b[43m        \u001b[49m\u001b[43mretries\u001b[49m\u001b[38;5;241;43m=\u001b[39;49m\u001b[38;5;28;43mself\u001b[39;49m\u001b[38;5;241;43m.\u001b[39;49m\u001b[43mmax_retries\u001b[49m\u001b[43m,\u001b[49m\n\u001b[1;32m    496\u001b[0m \u001b[43m        \u001b[49m\u001b[43mtimeout\u001b[49m\u001b[38;5;241;43m=\u001b[39;49m\u001b[43mtimeout\u001b[49m\u001b[43m,\u001b[49m\n\u001b[1;32m    497\u001b[0m \u001b[43m        \u001b[49m\u001b[43mchunked\u001b[49m\u001b[38;5;241;43m=\u001b[39;49m\u001b[43mchunked\u001b[49m\u001b[43m,\u001b[49m\n\u001b[1;32m    498\u001b[0m \u001b[43m    \u001b[49m\u001b[43m)\u001b[49m\n\u001b[1;32m    500\u001b[0m \u001b[38;5;28;01mexcept\u001b[39;00m (ProtocolError, \u001b[38;5;167;01mOSError\u001b[39;00m) \u001b[38;5;28;01mas\u001b[39;00m err:\n\u001b[1;32m    501\u001b[0m     \u001b[38;5;28;01mraise\u001b[39;00m \u001b[38;5;167;01mConnectionError\u001b[39;00m(err, request\u001b[38;5;241m=\u001b[39mrequest)\n",
      "File \u001b[0;32m~/miniconda3/lib/python3.10/site-packages/urllib3/connectionpool.py:790\u001b[0m, in \u001b[0;36mHTTPConnectionPool.urlopen\u001b[0;34m(self, method, url, body, headers, retries, redirect, assert_same_host, timeout, pool_timeout, release_conn, chunked, body_pos, preload_content, decode_content, **response_kw)\u001b[0m\n\u001b[1;32m    787\u001b[0m response_conn \u001b[38;5;241m=\u001b[39m conn \u001b[38;5;28;01mif\u001b[39;00m \u001b[38;5;129;01mnot\u001b[39;00m release_conn \u001b[38;5;28;01melse\u001b[39;00m \u001b[38;5;28;01mNone\u001b[39;00m\n\u001b[1;32m    789\u001b[0m \u001b[38;5;66;03m# Make the request on the HTTPConnection object\u001b[39;00m\n\u001b[0;32m--> 790\u001b[0m response \u001b[38;5;241m=\u001b[39m \u001b[38;5;28;43mself\u001b[39;49m\u001b[38;5;241;43m.\u001b[39;49m\u001b[43m_make_request\u001b[49m\u001b[43m(\u001b[49m\n\u001b[1;32m    791\u001b[0m \u001b[43m    \u001b[49m\u001b[43mconn\u001b[49m\u001b[43m,\u001b[49m\n\u001b[1;32m    792\u001b[0m \u001b[43m    \u001b[49m\u001b[43mmethod\u001b[49m\u001b[43m,\u001b[49m\n\u001b[1;32m    793\u001b[0m \u001b[43m    \u001b[49m\u001b[43murl\u001b[49m\u001b[43m,\u001b[49m\n\u001b[1;32m    794\u001b[0m \u001b[43m    \u001b[49m\u001b[43mtimeout\u001b[49m\u001b[38;5;241;43m=\u001b[39;49m\u001b[43mtimeout_obj\u001b[49m\u001b[43m,\u001b[49m\n\u001b[1;32m    795\u001b[0m \u001b[43m    \u001b[49m\u001b[43mbody\u001b[49m\u001b[38;5;241;43m=\u001b[39;49m\u001b[43mbody\u001b[49m\u001b[43m,\u001b[49m\n\u001b[1;32m    796\u001b[0m \u001b[43m    \u001b[49m\u001b[43mheaders\u001b[49m\u001b[38;5;241;43m=\u001b[39;49m\u001b[43mheaders\u001b[49m\u001b[43m,\u001b[49m\n\u001b[1;32m    797\u001b[0m \u001b[43m    \u001b[49m\u001b[43mchunked\u001b[49m\u001b[38;5;241;43m=\u001b[39;49m\u001b[43mchunked\u001b[49m\u001b[43m,\u001b[49m\n\u001b[1;32m    798\u001b[0m \u001b[43m    \u001b[49m\u001b[43mretries\u001b[49m\u001b[38;5;241;43m=\u001b[39;49m\u001b[43mretries\u001b[49m\u001b[43m,\u001b[49m\n\u001b[1;32m    799\u001b[0m \u001b[43m    \u001b[49m\u001b[43mresponse_conn\u001b[49m\u001b[38;5;241;43m=\u001b[39;49m\u001b[43mresponse_conn\u001b[49m\u001b[43m,\u001b[49m\n\u001b[1;32m    800\u001b[0m \u001b[43m    \u001b[49m\u001b[43mpreload_content\u001b[49m\u001b[38;5;241;43m=\u001b[39;49m\u001b[43mpreload_content\u001b[49m\u001b[43m,\u001b[49m\n\u001b[1;32m    801\u001b[0m \u001b[43m    \u001b[49m\u001b[43mdecode_content\u001b[49m\u001b[38;5;241;43m=\u001b[39;49m\u001b[43mdecode_content\u001b[49m\u001b[43m,\u001b[49m\n\u001b[1;32m    802\u001b[0m \u001b[43m    \u001b[49m\u001b[38;5;241;43m*\u001b[39;49m\u001b[38;5;241;43m*\u001b[39;49m\u001b[43mresponse_kw\u001b[49m\u001b[43m,\u001b[49m\n\u001b[1;32m    803\u001b[0m \u001b[43m\u001b[49m\u001b[43m)\u001b[49m\n\u001b[1;32m    805\u001b[0m \u001b[38;5;66;03m# Everything went great!\u001b[39;00m\n\u001b[1;32m    806\u001b[0m clean_exit \u001b[38;5;241m=\u001b[39m \u001b[38;5;28;01mTrue\u001b[39;00m\n",
      "File \u001b[0;32m~/miniconda3/lib/python3.10/site-packages/urllib3/connectionpool.py:536\u001b[0m, in \u001b[0;36mHTTPConnectionPool._make_request\u001b[0;34m(self, conn, method, url, body, headers, retries, timeout, chunked, response_conn, preload_content, decode_content, enforce_content_length)\u001b[0m\n\u001b[1;32m    534\u001b[0m \u001b[38;5;66;03m# Receive the response from the server\u001b[39;00m\n\u001b[1;32m    535\u001b[0m \u001b[38;5;28;01mtry\u001b[39;00m:\n\u001b[0;32m--> 536\u001b[0m     response \u001b[38;5;241m=\u001b[39m \u001b[43mconn\u001b[49m\u001b[38;5;241;43m.\u001b[39;49m\u001b[43mgetresponse\u001b[49m\u001b[43m(\u001b[49m\u001b[43m)\u001b[49m\n\u001b[1;32m    537\u001b[0m \u001b[38;5;28;01mexcept\u001b[39;00m (BaseSSLError, \u001b[38;5;167;01mOSError\u001b[39;00m) \u001b[38;5;28;01mas\u001b[39;00m e:\n\u001b[1;32m    538\u001b[0m     \u001b[38;5;28mself\u001b[39m\u001b[38;5;241m.\u001b[39m_raise_timeout(err\u001b[38;5;241m=\u001b[39me, url\u001b[38;5;241m=\u001b[39murl, timeout_value\u001b[38;5;241m=\u001b[39mread_timeout)\n",
      "File \u001b[0;32m~/miniconda3/lib/python3.10/site-packages/urllib3/connection.py:461\u001b[0m, in \u001b[0;36mHTTPConnection.getresponse\u001b[0;34m(self)\u001b[0m\n\u001b[1;32m    458\u001b[0m \u001b[38;5;28;01mfrom\u001b[39;00m \u001b[38;5;21;01m.\u001b[39;00m\u001b[38;5;21;01mresponse\u001b[39;00m \u001b[38;5;28;01mimport\u001b[39;00m HTTPResponse\n\u001b[1;32m    460\u001b[0m \u001b[38;5;66;03m# Get the response from http.client.HTTPConnection\u001b[39;00m\n\u001b[0;32m--> 461\u001b[0m httplib_response \u001b[38;5;241m=\u001b[39m \u001b[38;5;28;43msuper\u001b[39;49m\u001b[43m(\u001b[49m\u001b[43m)\u001b[49m\u001b[38;5;241;43m.\u001b[39;49m\u001b[43mgetresponse\u001b[49m\u001b[43m(\u001b[49m\u001b[43m)\u001b[49m\n\u001b[1;32m    463\u001b[0m \u001b[38;5;28;01mtry\u001b[39;00m:\n\u001b[1;32m    464\u001b[0m     assert_header_parsing(httplib_response\u001b[38;5;241m.\u001b[39mmsg)\n",
      "File \u001b[0;32m~/miniconda3/lib/python3.10/http/client.py:1374\u001b[0m, in \u001b[0;36mHTTPConnection.getresponse\u001b[0;34m(self)\u001b[0m\n\u001b[1;32m   1372\u001b[0m \u001b[38;5;28;01mtry\u001b[39;00m:\n\u001b[1;32m   1373\u001b[0m     \u001b[38;5;28;01mtry\u001b[39;00m:\n\u001b[0;32m-> 1374\u001b[0m         \u001b[43mresponse\u001b[49m\u001b[38;5;241;43m.\u001b[39;49m\u001b[43mbegin\u001b[49m\u001b[43m(\u001b[49m\u001b[43m)\u001b[49m\n\u001b[1;32m   1375\u001b[0m     \u001b[38;5;28;01mexcept\u001b[39;00m \u001b[38;5;167;01mConnectionError\u001b[39;00m:\n\u001b[1;32m   1376\u001b[0m         \u001b[38;5;28mself\u001b[39m\u001b[38;5;241m.\u001b[39mclose()\n",
      "File \u001b[0;32m~/miniconda3/lib/python3.10/http/client.py:318\u001b[0m, in \u001b[0;36mHTTPResponse.begin\u001b[0;34m(self)\u001b[0m\n\u001b[1;32m    316\u001b[0m \u001b[38;5;66;03m# read until we get a non-100 response\u001b[39;00m\n\u001b[1;32m    317\u001b[0m \u001b[38;5;28;01mwhile\u001b[39;00m \u001b[38;5;28;01mTrue\u001b[39;00m:\n\u001b[0;32m--> 318\u001b[0m     version, status, reason \u001b[38;5;241m=\u001b[39m \u001b[38;5;28;43mself\u001b[39;49m\u001b[38;5;241;43m.\u001b[39;49m\u001b[43m_read_status\u001b[49m\u001b[43m(\u001b[49m\u001b[43m)\u001b[49m\n\u001b[1;32m    319\u001b[0m     \u001b[38;5;28;01mif\u001b[39;00m status \u001b[38;5;241m!=\u001b[39m CONTINUE:\n\u001b[1;32m    320\u001b[0m         \u001b[38;5;28;01mbreak\u001b[39;00m\n",
      "File \u001b[0;32m~/miniconda3/lib/python3.10/http/client.py:279\u001b[0m, in \u001b[0;36mHTTPResponse._read_status\u001b[0;34m(self)\u001b[0m\n\u001b[1;32m    278\u001b[0m \u001b[38;5;28;01mdef\u001b[39;00m \u001b[38;5;21m_read_status\u001b[39m(\u001b[38;5;28mself\u001b[39m):\n\u001b[0;32m--> 279\u001b[0m     line \u001b[38;5;241m=\u001b[39m \u001b[38;5;28mstr\u001b[39m(\u001b[38;5;28;43mself\u001b[39;49m\u001b[38;5;241;43m.\u001b[39;49m\u001b[43mfp\u001b[49m\u001b[38;5;241;43m.\u001b[39;49m\u001b[43mreadline\u001b[49m\u001b[43m(\u001b[49m\u001b[43m_MAXLINE\u001b[49m\u001b[43m \u001b[49m\u001b[38;5;241;43m+\u001b[39;49m\u001b[43m \u001b[49m\u001b[38;5;241;43m1\u001b[39;49m\u001b[43m)\u001b[49m, \u001b[38;5;124m\"\u001b[39m\u001b[38;5;124miso-8859-1\u001b[39m\u001b[38;5;124m\"\u001b[39m)\n\u001b[1;32m    280\u001b[0m     \u001b[38;5;28;01mif\u001b[39;00m \u001b[38;5;28mlen\u001b[39m(line) \u001b[38;5;241m>\u001b[39m _MAXLINE:\n\u001b[1;32m    281\u001b[0m         \u001b[38;5;28;01mraise\u001b[39;00m LineTooLong(\u001b[38;5;124m\"\u001b[39m\u001b[38;5;124mstatus line\u001b[39m\u001b[38;5;124m\"\u001b[39m)\n",
      "File \u001b[0;32m~/miniconda3/lib/python3.10/socket.py:705\u001b[0m, in \u001b[0;36mSocketIO.readinto\u001b[0;34m(self, b)\u001b[0m\n\u001b[1;32m    703\u001b[0m \u001b[38;5;28;01mwhile\u001b[39;00m \u001b[38;5;28;01mTrue\u001b[39;00m:\n\u001b[1;32m    704\u001b[0m     \u001b[38;5;28;01mtry\u001b[39;00m:\n\u001b[0;32m--> 705\u001b[0m         \u001b[38;5;28;01mreturn\u001b[39;00m \u001b[38;5;28;43mself\u001b[39;49m\u001b[38;5;241;43m.\u001b[39;49m\u001b[43m_sock\u001b[49m\u001b[38;5;241;43m.\u001b[39;49m\u001b[43mrecv_into\u001b[49m\u001b[43m(\u001b[49m\u001b[43mb\u001b[49m\u001b[43m)\u001b[49m\n\u001b[1;32m    706\u001b[0m     \u001b[38;5;28;01mexcept\u001b[39;00m timeout:\n\u001b[1;32m    707\u001b[0m         \u001b[38;5;28mself\u001b[39m\u001b[38;5;241m.\u001b[39m_timeout_occurred \u001b[38;5;241m=\u001b[39m \u001b[38;5;28;01mTrue\u001b[39;00m\n",
      "File \u001b[0;32m~/miniconda3/lib/python3.10/ssl.py:1273\u001b[0m, in \u001b[0;36mSSLSocket.recv_into\u001b[0;34m(self, buffer, nbytes, flags)\u001b[0m\n\u001b[1;32m   1269\u001b[0m     \u001b[38;5;28;01mif\u001b[39;00m flags \u001b[38;5;241m!=\u001b[39m \u001b[38;5;241m0\u001b[39m:\n\u001b[1;32m   1270\u001b[0m         \u001b[38;5;28;01mraise\u001b[39;00m \u001b[38;5;167;01mValueError\u001b[39;00m(\n\u001b[1;32m   1271\u001b[0m           \u001b[38;5;124m\"\u001b[39m\u001b[38;5;124mnon-zero flags not allowed in calls to recv_into() on \u001b[39m\u001b[38;5;132;01m%s\u001b[39;00m\u001b[38;5;124m\"\u001b[39m \u001b[38;5;241m%\u001b[39m\n\u001b[1;32m   1272\u001b[0m           \u001b[38;5;28mself\u001b[39m\u001b[38;5;241m.\u001b[39m\u001b[38;5;18m__class__\u001b[39m)\n\u001b[0;32m-> 1273\u001b[0m     \u001b[38;5;28;01mreturn\u001b[39;00m \u001b[38;5;28;43mself\u001b[39;49m\u001b[38;5;241;43m.\u001b[39;49m\u001b[43mread\u001b[49m\u001b[43m(\u001b[49m\u001b[43mnbytes\u001b[49m\u001b[43m,\u001b[49m\u001b[43m \u001b[49m\u001b[43mbuffer\u001b[49m\u001b[43m)\u001b[49m\n\u001b[1;32m   1274\u001b[0m \u001b[38;5;28;01melse\u001b[39;00m:\n\u001b[1;32m   1275\u001b[0m     \u001b[38;5;28;01mreturn\u001b[39;00m \u001b[38;5;28msuper\u001b[39m()\u001b[38;5;241m.\u001b[39mrecv_into(buffer, nbytes, flags)\n",
      "File \u001b[0;32m~/miniconda3/lib/python3.10/ssl.py:1129\u001b[0m, in \u001b[0;36mSSLSocket.read\u001b[0;34m(self, len, buffer)\u001b[0m\n\u001b[1;32m   1127\u001b[0m \u001b[38;5;28;01mtry\u001b[39;00m:\n\u001b[1;32m   1128\u001b[0m     \u001b[38;5;28;01mif\u001b[39;00m buffer \u001b[38;5;129;01mis\u001b[39;00m \u001b[38;5;129;01mnot\u001b[39;00m \u001b[38;5;28;01mNone\u001b[39;00m:\n\u001b[0;32m-> 1129\u001b[0m         \u001b[38;5;28;01mreturn\u001b[39;00m \u001b[38;5;28;43mself\u001b[39;49m\u001b[38;5;241;43m.\u001b[39;49m\u001b[43m_sslobj\u001b[49m\u001b[38;5;241;43m.\u001b[39;49m\u001b[43mread\u001b[49m\u001b[43m(\u001b[49m\u001b[38;5;28;43mlen\u001b[39;49m\u001b[43m,\u001b[49m\u001b[43m \u001b[49m\u001b[43mbuffer\u001b[49m\u001b[43m)\u001b[49m\n\u001b[1;32m   1130\u001b[0m     \u001b[38;5;28;01melse\u001b[39;00m:\n\u001b[1;32m   1131\u001b[0m         \u001b[38;5;28;01mreturn\u001b[39;00m \u001b[38;5;28mself\u001b[39m\u001b[38;5;241m.\u001b[39m_sslobj\u001b[38;5;241m.\u001b[39mread(\u001b[38;5;28mlen\u001b[39m)\n",
      "\u001b[0;31mKeyboardInterrupt\u001b[0m: "
     ]
    }
   ],
   "source": [
    "dico_label_xnat = {}\n",
    "for s in dico_xnat.keys():\n",
    "    dico_label_xnat[s] = {}\n",
    "    # try:\n",
    "    sub = my_project.subjects[s]\n",
    "    print(sub.custom_variables['SEP']['SEP_label'])\n",
    "    # except:\n",
    "    #     pass\n",
    "\n"
   ]
  },
  {
   "cell_type": "code",
   "execution_count": 15,
   "metadata": {},
   "outputs": [
    {
     "ename": "KeyError",
     "evalue": "'Could not find ID/label cn-p02 in collection!'",
     "output_type": "error",
     "traceback": [
      "\u001b[0;31m---------------------------------------------------------------------------\u001b[0m",
      "\u001b[0;31mKeyError\u001b[0m                                  Traceback (most recent call last)",
      "File \u001b[0;32m~/miniconda3/lib/python3.10/site-packages/xnat/core.py:818\u001b[0m, in \u001b[0;36mXNATBaseListing.__getitem__\u001b[0;34m(self, item)\u001b[0m\n\u001b[1;32m    817\u001b[0m \u001b[38;5;28;01mtry\u001b[39;00m:\n\u001b[0;32m--> 818\u001b[0m     \u001b[38;5;28;01mreturn\u001b[39;00m \u001b[38;5;28;43mself\u001b[39;49m\u001b[38;5;241;43m.\u001b[39;49m\u001b[43mdata\u001b[49m\u001b[43m[\u001b[49m\u001b[43mitem\u001b[49m\u001b[43m]\u001b[49m\n\u001b[1;32m    819\u001b[0m \u001b[38;5;28;01mexcept\u001b[39;00m \u001b[38;5;167;01mKeyError\u001b[39;00m:\n",
      "\u001b[0;31mKeyError\u001b[0m: 'cn-p02'",
      "\nDuring handling of the above exception, another exception occurred:\n",
      "\u001b[0;31mKeyError\u001b[0m                                  Traceback (most recent call last)",
      "File \u001b[0;32m~/miniconda3/lib/python3.10/site-packages/xnat/core.py:825\u001b[0m, in \u001b[0;36mXNATBaseListing.__getitem__\u001b[0;34m(self, item)\u001b[0m\n\u001b[1;32m    824\u001b[0m \u001b[38;5;28;01mtry\u001b[39;00m:\n\u001b[0;32m--> 825\u001b[0m     \u001b[38;5;28;01mreturn\u001b[39;00m \u001b[38;5;28;43mself\u001b[39;49m\u001b[38;5;241;43m.\u001b[39;49m\u001b[43mkey_map\u001b[49m\u001b[43m[\u001b[49m\u001b[43mitem\u001b[49m\u001b[43m]\u001b[49m\n\u001b[1;32m    826\u001b[0m \u001b[38;5;28;01mexcept\u001b[39;00m \u001b[38;5;167;01mKeyError\u001b[39;00m:\n",
      "\u001b[0;31mKeyError\u001b[0m: 'cn-p02'",
      "\nDuring handling of the above exception, another exception occurred:\n",
      "\u001b[0;31mKeyError\u001b[0m                                  Traceback (most recent call last)",
      "Cell \u001b[0;32mIn[15], line 1\u001b[0m\n\u001b[0;32m----> 1\u001b[0m subject \u001b[38;5;241m=\u001b[39m \u001b[43mmy_project\u001b[49m\u001b[38;5;241;43m.\u001b[39;49m\u001b[43msubjects\u001b[49m\u001b[43m[\u001b[49m\u001b[38;5;124;43m'\u001b[39;49m\u001b[38;5;124;43mcn-p02\u001b[39;49m\u001b[38;5;124;43m'\u001b[39;49m\u001b[43m]\u001b[49m\n",
      "File \u001b[0;32m~/miniconda3/lib/python3.10/site-packages/xnat/core.py:827\u001b[0m, in \u001b[0;36mXNATBaseListing.__getitem__\u001b[0;34m(self, item)\u001b[0m\n\u001b[1;32m    825\u001b[0m     \u001b[38;5;28;01mreturn\u001b[39;00m \u001b[38;5;28mself\u001b[39m\u001b[38;5;241m.\u001b[39mkey_map[item]\n\u001b[1;32m    826\u001b[0m \u001b[38;5;28;01mexcept\u001b[39;00m \u001b[38;5;167;01mKeyError\u001b[39;00m:\n\u001b[0;32m--> 827\u001b[0m     \u001b[38;5;28;01mraise\u001b[39;00m \u001b[38;5;167;01mKeyError\u001b[39;00m(\u001b[38;5;124m'\u001b[39m\u001b[38;5;124mCould not find ID/label \u001b[39m\u001b[38;5;132;01m{}\u001b[39;00m\u001b[38;5;124m in collection!\u001b[39m\u001b[38;5;124m'\u001b[39m\u001b[38;5;241m.\u001b[39mformat(item))\n",
      "\u001b[0;31mKeyError\u001b[0m: 'Could not find ID/label cn-p02 in collection!'"
     ]
    }
   ],
   "source": [
    "subject = my_project.subjects['cn-p02']"
   ]
  }
 ],
 "metadata": {
  "kernelspec": {
   "display_name": "base",
   "language": "python",
   "name": "python3"
  },
  "language_info": {
   "codemirror_mode": {
    "name": "ipython",
    "version": 3
   },
   "file_extension": ".py",
   "mimetype": "text/x-python",
   "name": "python",
   "nbconvert_exporter": "python",
   "pygments_lexer": "ipython3",
   "version": "3.10.4"
  }
 },
 "nbformat": 4,
 "nbformat_minor": 2
}
