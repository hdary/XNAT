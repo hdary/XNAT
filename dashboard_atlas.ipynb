{
 "cells": [
  {
   "cell_type": "code",
   "execution_count": 2,
   "metadata": {
    "vscode": {
     "languageId": "shellscript"
    }
   },
   "outputs": [],
   "source": [
    "# import nisnap\n",
    "import pyxnat\n",
    "import xnat\n",
    "from pyxnat import Interface\n",
    "import pandas as pd\n",
    "import nibabel as nib\n",
    "from tqdm import tqdm\n",
    "import plotly.express as px\n",
    "import plotly.graph_objects as go"
   ]
  },
  {
   "cell_type": "code",
   "execution_count": 3,
   "metadata": {
    "vscode": {
     "languageId": "shellscript"
    }
   },
   "outputs": [],
   "source": [
    "my_pyxnat = Interface(server=\"https://xnat.crmbm.univ-amu.fr\",\n",
    "                    user='hdary')"
   ]
  },
  {
   "cell_type": "code",
   "execution_count": 4,
   "metadata": {
    "vscode": {
     "languageId": "shellscript"
    }
   },
   "outputs": [],
   "source": [
    "# if os.environ['XNAT_XSI_TYPE'] != 'xnat:projectData':\n",
    "#     raise Exception('Must be started from an XNAT project.')\n",
    "\n",
    "# project = os.environ['XNAT_ITEM_ID']"
   ]
  },
  {
   "cell_type": "code",
   "execution_count": 5,
   "metadata": {
    "vscode": {
     "languageId": "shellscript"
    }
   },
   "outputs": [],
   "source": [
    "project = 'TERRA_BRAIN_EPINOV'"
   ]
  },
  {
   "cell_type": "code",
   "execution_count": 6,
   "metadata": {
    "vscode": {
     "languageId": "shellscript"
    }
   },
   "outputs": [],
   "source": [
    "def get_resources(my_pyxnat, project):\n",
    "\n",
    "    resources = []\n",
    "    experiments = my_pyxnat.array.experiments(project_id=project, columns=['ID', 'project', 'label', 'subject_ID']).data\n",
    "    # For each experiments fetch all the resources associated with it\n",
    "    for exp in tqdm(experiments):\n",
    "        j = my_pyxnat.get('{}/{}'.format(exp['URI'], 'resources')).json()\n",
    "        exp_res = j['ResultSet']['Result']\n",
    "\n",
    "        if exp_res:\n",
    "            resources.extend([[exp['project'], exp['ID'], exp['label'], exp['subject_ID'],\n",
    "                               r['xnat_abstractresource_id'],\n",
    "                               r['label']] for r in exp_res])\n",
    "        else:\n",
    "            resources.append([exp['project'], exp['ID'],  exp['label'], exp['subject_ID'],\n",
    "                              'No Data', 'No Data'])\n",
    "    return resources"
   ]
  },
  {
   "cell_type": "code",
   "execution_count": 7,
   "metadata": {
    "vscode": {
     "languageId": "shellscript"
    }
   },
   "outputs": [],
   "source": [
    "def get_subjects(my_pyxnat, project):\n",
    "    dico = {i.id() :i.label() for i in my_pyxnat.select.project(project).subjects()}\n",
    "    return dico"
   ]
  },
  {
   "cell_type": "code",
   "execution_count": 8,
   "metadata": {
    "vscode": {
     "languageId": "shellscript"
    }
   },
   "outputs": [],
   "source": [
    "dico = get_subjects(my_pyxnat, project)"
   ]
  },
  {
   "cell_type": "code",
   "execution_count": 9,
   "metadata": {
    "vscode": {
     "languageId": "shellscript"
    }
   },
   "outputs": [
    {
     "name": "stderr",
     "output_type": "stream",
     "text": [
      "  0%|          | 0/34 [00:00<?, ?it/s]"
     ]
    },
    {
     "name": "stderr",
     "output_type": "stream",
     "text": [
      "100%|██████████| 34/34 [00:00<00:00, 50.85it/s]\n"
     ]
    }
   ],
   "source": [
    "resources = get_resources(my_pyxnat, project)"
   ]
  },
  {
   "cell_type": "code",
   "execution_count": 10,
   "metadata": {
    "vscode": {
     "languageId": "shellscript"
    }
   },
   "outputs": [],
   "source": [
    "dico_resources = {}\n",
    "for r in resources:\n",
    "    if r[5] == 'No Data':\n",
    "        continue\n",
    "    if r[5] in dico_resources.keys():\n",
    "        dico_resources[r[5]].append(dico[r[3]])\n",
    "    else:\n",
    "        dico_resources[r[5]] = []\n",
    "        dico_resources[r[5]].append(dico[r[3]])"
   ]
  },
  {
   "cell_type": "code",
   "execution_count": 11,
   "metadata": {
    "vscode": {
     "languageId": "shellscript"
    }
   },
   "outputs": [],
   "source": [
    "# Créer un ensemble contenant tous les sujets\n",
    "sujets = set()\n",
    "for valeurs in dico_resources.values():\n",
    "    sujets.update(valeurs)\n",
    "\n",
    "# Créer une copie du dictionnaire pour conserver les noms des sujets dans les valeurs\n",
    "dictionnaire_modifie = {colonne: [sujet in valeurs for sujet in sujets] for colonne, valeurs in dico_resources.items()}\n",
    "\n",
    "# Convertir le dictionnaire modifié en DataFrame\n",
    "index = list(sujets)\n",
    "dataframe = pd.DataFrame(dictionnaire_modifie)\n",
    "\n",
    "dataframe.insert(0, \"Sujets\", list(sujets))\n",
    "\n",
    "# Remplacer les index par les noms des sujets\n",
    "# dataframe.index = list(sujets)\n"
   ]
  },
  {
   "cell_type": "code",
   "execution_count": 22,
   "metadata": {
    "vscode": {
     "languageId": "shellscript"
    }
   },
   "outputs": [
    {
     "data": {
      "application/vnd.plotly.v1+json": {
       "config": {
        "plotlyServerURL": "https://plot.ly"
       },
       "data": [
        {
         "cells": {
          "fill": {
           "color": [
            [
             "white",
             "white",
             "white"
            ],
            [
             "green",
             "green",
             "green"
            ],
            [
             "red",
             "green",
             "red"
            ],
            [
             "red",
             "green",
             "red"
            ],
            [
             "red",
             "green",
             "red"
            ]
           ]
          },
          "values": [
           [
            "01-68-P-N",
            "01-59-P-V",
            "01-66-L-Q"
           ],
           [
            true,
            true,
            true
           ],
           [
            false,
            true,
            false
           ],
           [
            false,
            true,
            false
           ],
           [
            false,
            true,
            false
           ]
          ]
         },
         "header": {
          "values": [
           "Sujets",
           "FREESURFER",
           "Atlas",
           "FASTSURFER",
           "GIF"
          ]
         },
         "type": "table"
        }
       ],
       "layout": {
        "template": {
         "data": {
          "bar": [
           {
            "error_x": {
             "color": "#2a3f5f"
            },
            "error_y": {
             "color": "#2a3f5f"
            },
            "marker": {
             "line": {
              "color": "#E5ECF6",
              "width": 0.5
             },
             "pattern": {
              "fillmode": "overlay",
              "size": 10,
              "solidity": 0.2
             }
            },
            "type": "bar"
           }
          ],
          "barpolar": [
           {
            "marker": {
             "line": {
              "color": "#E5ECF6",
              "width": 0.5
             },
             "pattern": {
              "fillmode": "overlay",
              "size": 10,
              "solidity": 0.2
             }
            },
            "type": "barpolar"
           }
          ],
          "carpet": [
           {
            "aaxis": {
             "endlinecolor": "#2a3f5f",
             "gridcolor": "white",
             "linecolor": "white",
             "minorgridcolor": "white",
             "startlinecolor": "#2a3f5f"
            },
            "baxis": {
             "endlinecolor": "#2a3f5f",
             "gridcolor": "white",
             "linecolor": "white",
             "minorgridcolor": "white",
             "startlinecolor": "#2a3f5f"
            },
            "type": "carpet"
           }
          ],
          "choropleth": [
           {
            "colorbar": {
             "outlinewidth": 0,
             "ticks": ""
            },
            "type": "choropleth"
           }
          ],
          "contour": [
           {
            "colorbar": {
             "outlinewidth": 0,
             "ticks": ""
            },
            "colorscale": [
             [
              0,
              "#0d0887"
             ],
             [
              0.1111111111111111,
              "#46039f"
             ],
             [
              0.2222222222222222,
              "#7201a8"
             ],
             [
              0.3333333333333333,
              "#9c179e"
             ],
             [
              0.4444444444444444,
              "#bd3786"
             ],
             [
              0.5555555555555556,
              "#d8576b"
             ],
             [
              0.6666666666666666,
              "#ed7953"
             ],
             [
              0.7777777777777778,
              "#fb9f3a"
             ],
             [
              0.8888888888888888,
              "#fdca26"
             ],
             [
              1,
              "#f0f921"
             ]
            ],
            "type": "contour"
           }
          ],
          "contourcarpet": [
           {
            "colorbar": {
             "outlinewidth": 0,
             "ticks": ""
            },
            "type": "contourcarpet"
           }
          ],
          "heatmap": [
           {
            "colorbar": {
             "outlinewidth": 0,
             "ticks": ""
            },
            "colorscale": [
             [
              0,
              "#0d0887"
             ],
             [
              0.1111111111111111,
              "#46039f"
             ],
             [
              0.2222222222222222,
              "#7201a8"
             ],
             [
              0.3333333333333333,
              "#9c179e"
             ],
             [
              0.4444444444444444,
              "#bd3786"
             ],
             [
              0.5555555555555556,
              "#d8576b"
             ],
             [
              0.6666666666666666,
              "#ed7953"
             ],
             [
              0.7777777777777778,
              "#fb9f3a"
             ],
             [
              0.8888888888888888,
              "#fdca26"
             ],
             [
              1,
              "#f0f921"
             ]
            ],
            "type": "heatmap"
           }
          ],
          "heatmapgl": [
           {
            "colorbar": {
             "outlinewidth": 0,
             "ticks": ""
            },
            "colorscale": [
             [
              0,
              "#0d0887"
             ],
             [
              0.1111111111111111,
              "#46039f"
             ],
             [
              0.2222222222222222,
              "#7201a8"
             ],
             [
              0.3333333333333333,
              "#9c179e"
             ],
             [
              0.4444444444444444,
              "#bd3786"
             ],
             [
              0.5555555555555556,
              "#d8576b"
             ],
             [
              0.6666666666666666,
              "#ed7953"
             ],
             [
              0.7777777777777778,
              "#fb9f3a"
             ],
             [
              0.8888888888888888,
              "#fdca26"
             ],
             [
              1,
              "#f0f921"
             ]
            ],
            "type": "heatmapgl"
           }
          ],
          "histogram": [
           {
            "marker": {
             "pattern": {
              "fillmode": "overlay",
              "size": 10,
              "solidity": 0.2
             }
            },
            "type": "histogram"
           }
          ],
          "histogram2d": [
           {
            "colorbar": {
             "outlinewidth": 0,
             "ticks": ""
            },
            "colorscale": [
             [
              0,
              "#0d0887"
             ],
             [
              0.1111111111111111,
              "#46039f"
             ],
             [
              0.2222222222222222,
              "#7201a8"
             ],
             [
              0.3333333333333333,
              "#9c179e"
             ],
             [
              0.4444444444444444,
              "#bd3786"
             ],
             [
              0.5555555555555556,
              "#d8576b"
             ],
             [
              0.6666666666666666,
              "#ed7953"
             ],
             [
              0.7777777777777778,
              "#fb9f3a"
             ],
             [
              0.8888888888888888,
              "#fdca26"
             ],
             [
              1,
              "#f0f921"
             ]
            ],
            "type": "histogram2d"
           }
          ],
          "histogram2dcontour": [
           {
            "colorbar": {
             "outlinewidth": 0,
             "ticks": ""
            },
            "colorscale": [
             [
              0,
              "#0d0887"
             ],
             [
              0.1111111111111111,
              "#46039f"
             ],
             [
              0.2222222222222222,
              "#7201a8"
             ],
             [
              0.3333333333333333,
              "#9c179e"
             ],
             [
              0.4444444444444444,
              "#bd3786"
             ],
             [
              0.5555555555555556,
              "#d8576b"
             ],
             [
              0.6666666666666666,
              "#ed7953"
             ],
             [
              0.7777777777777778,
              "#fb9f3a"
             ],
             [
              0.8888888888888888,
              "#fdca26"
             ],
             [
              1,
              "#f0f921"
             ]
            ],
            "type": "histogram2dcontour"
           }
          ],
          "mesh3d": [
           {
            "colorbar": {
             "outlinewidth": 0,
             "ticks": ""
            },
            "type": "mesh3d"
           }
          ],
          "parcoords": [
           {
            "line": {
             "colorbar": {
              "outlinewidth": 0,
              "ticks": ""
             }
            },
            "type": "parcoords"
           }
          ],
          "pie": [
           {
            "automargin": true,
            "type": "pie"
           }
          ],
          "scatter": [
           {
            "fillpattern": {
             "fillmode": "overlay",
             "size": 10,
             "solidity": 0.2
            },
            "type": "scatter"
           }
          ],
          "scatter3d": [
           {
            "line": {
             "colorbar": {
              "outlinewidth": 0,
              "ticks": ""
             }
            },
            "marker": {
             "colorbar": {
              "outlinewidth": 0,
              "ticks": ""
             }
            },
            "type": "scatter3d"
           }
          ],
          "scattercarpet": [
           {
            "marker": {
             "colorbar": {
              "outlinewidth": 0,
              "ticks": ""
             }
            },
            "type": "scattercarpet"
           }
          ],
          "scattergeo": [
           {
            "marker": {
             "colorbar": {
              "outlinewidth": 0,
              "ticks": ""
             }
            },
            "type": "scattergeo"
           }
          ],
          "scattergl": [
           {
            "marker": {
             "colorbar": {
              "outlinewidth": 0,
              "ticks": ""
             }
            },
            "type": "scattergl"
           }
          ],
          "scattermapbox": [
           {
            "marker": {
             "colorbar": {
              "outlinewidth": 0,
              "ticks": ""
             }
            },
            "type": "scattermapbox"
           }
          ],
          "scatterpolar": [
           {
            "marker": {
             "colorbar": {
              "outlinewidth": 0,
              "ticks": ""
             }
            },
            "type": "scatterpolar"
           }
          ],
          "scatterpolargl": [
           {
            "marker": {
             "colorbar": {
              "outlinewidth": 0,
              "ticks": ""
             }
            },
            "type": "scatterpolargl"
           }
          ],
          "scatterternary": [
           {
            "marker": {
             "colorbar": {
              "outlinewidth": 0,
              "ticks": ""
             }
            },
            "type": "scatterternary"
           }
          ],
          "surface": [
           {
            "colorbar": {
             "outlinewidth": 0,
             "ticks": ""
            },
            "colorscale": [
             [
              0,
              "#0d0887"
             ],
             [
              0.1111111111111111,
              "#46039f"
             ],
             [
              0.2222222222222222,
              "#7201a8"
             ],
             [
              0.3333333333333333,
              "#9c179e"
             ],
             [
              0.4444444444444444,
              "#bd3786"
             ],
             [
              0.5555555555555556,
              "#d8576b"
             ],
             [
              0.6666666666666666,
              "#ed7953"
             ],
             [
              0.7777777777777778,
              "#fb9f3a"
             ],
             [
              0.8888888888888888,
              "#fdca26"
             ],
             [
              1,
              "#f0f921"
             ]
            ],
            "type": "surface"
           }
          ],
          "table": [
           {
            "cells": {
             "fill": {
              "color": "#EBF0F8"
             },
             "line": {
              "color": "white"
             }
            },
            "header": {
             "fill": {
              "color": "#C8D4E3"
             },
             "line": {
              "color": "white"
             }
            },
            "type": "table"
           }
          ]
         },
         "layout": {
          "annotationdefaults": {
           "arrowcolor": "#2a3f5f",
           "arrowhead": 0,
           "arrowwidth": 1
          },
          "autotypenumbers": "strict",
          "coloraxis": {
           "colorbar": {
            "outlinewidth": 0,
            "ticks": ""
           }
          },
          "colorscale": {
           "diverging": [
            [
             0,
             "#8e0152"
            ],
            [
             0.1,
             "#c51b7d"
            ],
            [
             0.2,
             "#de77ae"
            ],
            [
             0.3,
             "#f1b6da"
            ],
            [
             0.4,
             "#fde0ef"
            ],
            [
             0.5,
             "#f7f7f7"
            ],
            [
             0.6,
             "#e6f5d0"
            ],
            [
             0.7,
             "#b8e186"
            ],
            [
             0.8,
             "#7fbc41"
            ],
            [
             0.9,
             "#4d9221"
            ],
            [
             1,
             "#276419"
            ]
           ],
           "sequential": [
            [
             0,
             "#0d0887"
            ],
            [
             0.1111111111111111,
             "#46039f"
            ],
            [
             0.2222222222222222,
             "#7201a8"
            ],
            [
             0.3333333333333333,
             "#9c179e"
            ],
            [
             0.4444444444444444,
             "#bd3786"
            ],
            [
             0.5555555555555556,
             "#d8576b"
            ],
            [
             0.6666666666666666,
             "#ed7953"
            ],
            [
             0.7777777777777778,
             "#fb9f3a"
            ],
            [
             0.8888888888888888,
             "#fdca26"
            ],
            [
             1,
             "#f0f921"
            ]
           ],
           "sequentialminus": [
            [
             0,
             "#0d0887"
            ],
            [
             0.1111111111111111,
             "#46039f"
            ],
            [
             0.2222222222222222,
             "#7201a8"
            ],
            [
             0.3333333333333333,
             "#9c179e"
            ],
            [
             0.4444444444444444,
             "#bd3786"
            ],
            [
             0.5555555555555556,
             "#d8576b"
            ],
            [
             0.6666666666666666,
             "#ed7953"
            ],
            [
             0.7777777777777778,
             "#fb9f3a"
            ],
            [
             0.8888888888888888,
             "#fdca26"
            ],
            [
             1,
             "#f0f921"
            ]
           ]
          },
          "colorway": [
           "#636efa",
           "#EF553B",
           "#00cc96",
           "#ab63fa",
           "#FFA15A",
           "#19d3f3",
           "#FF6692",
           "#B6E880",
           "#FF97FF",
           "#FECB52"
          ],
          "font": {
           "color": "#2a3f5f"
          },
          "geo": {
           "bgcolor": "white",
           "lakecolor": "white",
           "landcolor": "#E5ECF6",
           "showlakes": true,
           "showland": true,
           "subunitcolor": "white"
          },
          "hoverlabel": {
           "align": "left"
          },
          "hovermode": "closest",
          "mapbox": {
           "style": "light"
          },
          "paper_bgcolor": "white",
          "plot_bgcolor": "#E5ECF6",
          "polar": {
           "angularaxis": {
            "gridcolor": "white",
            "linecolor": "white",
            "ticks": ""
           },
           "bgcolor": "#E5ECF6",
           "radialaxis": {
            "gridcolor": "white",
            "linecolor": "white",
            "ticks": ""
           }
          },
          "scene": {
           "xaxis": {
            "backgroundcolor": "#E5ECF6",
            "gridcolor": "white",
            "gridwidth": 2,
            "linecolor": "white",
            "showbackground": true,
            "ticks": "",
            "zerolinecolor": "white"
           },
           "yaxis": {
            "backgroundcolor": "#E5ECF6",
            "gridcolor": "white",
            "gridwidth": 2,
            "linecolor": "white",
            "showbackground": true,
            "ticks": "",
            "zerolinecolor": "white"
           },
           "zaxis": {
            "backgroundcolor": "#E5ECF6",
            "gridcolor": "white",
            "gridwidth": 2,
            "linecolor": "white",
            "showbackground": true,
            "ticks": "",
            "zerolinecolor": "white"
           }
          },
          "shapedefaults": {
           "line": {
            "color": "#2a3f5f"
           }
          },
          "ternary": {
           "aaxis": {
            "gridcolor": "white",
            "linecolor": "white",
            "ticks": ""
           },
           "baxis": {
            "gridcolor": "white",
            "linecolor": "white",
            "ticks": ""
           },
           "bgcolor": "#E5ECF6",
           "caxis": {
            "gridcolor": "white",
            "linecolor": "white",
            "ticks": ""
           }
          },
          "title": {
           "x": 0.05
          },
          "xaxis": {
           "automargin": true,
           "gridcolor": "white",
           "linecolor": "white",
           "ticks": "",
           "title": {
            "standoff": 15
           },
           "zerolinecolor": "white",
           "zerolinewidth": 2
          },
          "yaxis": {
           "automargin": true,
           "gridcolor": "white",
           "linecolor": "white",
           "ticks": "",
           "title": {
            "standoff": 15
           },
           "zerolinecolor": "white",
           "zerolinewidth": 2
          }
         }
        }
       }
      },
      "text/html": [
       "<div>                            <div id=\"31931506-0e87-4bab-867b-d08dbff45760\" class=\"plotly-graph-div\" style=\"height:525px; width:100%;\"></div>            <script type=\"text/javascript\">                require([\"plotly\"], function(Plotly) {                    window.PLOTLYENV=window.PLOTLYENV || {};                                    if (document.getElementById(\"31931506-0e87-4bab-867b-d08dbff45760\")) {                    Plotly.newPlot(                        \"31931506-0e87-4bab-867b-d08dbff45760\",                        [{\"cells\":{\"fill\":{\"color\":[[\"white\",\"white\",\"white\"],[\"green\",\"green\",\"green\"],[\"red\",\"green\",\"red\"],[\"red\",\"green\",\"red\"],[\"red\",\"green\",\"red\"]]},\"values\":[[\"01-68-P-N\",\"01-59-P-V\",\"01-66-L-Q\"],[true,true,true],[false,true,false],[false,true,false],[false,true,false]]},\"header\":{\"values\":[\"Sujets\",\"FREESURFER\",\"Atlas\",\"FASTSURFER\",\"GIF\"]},\"type\":\"table\"}],                        {\"template\":{\"data\":{\"histogram2dcontour\":[{\"type\":\"histogram2dcontour\",\"colorbar\":{\"outlinewidth\":0,\"ticks\":\"\"},\"colorscale\":[[0.0,\"#0d0887\"],[0.1111111111111111,\"#46039f\"],[0.2222222222222222,\"#7201a8\"],[0.3333333333333333,\"#9c179e\"],[0.4444444444444444,\"#bd3786\"],[0.5555555555555556,\"#d8576b\"],[0.6666666666666666,\"#ed7953\"],[0.7777777777777778,\"#fb9f3a\"],[0.8888888888888888,\"#fdca26\"],[1.0,\"#f0f921\"]]}],\"choropleth\":[{\"type\":\"choropleth\",\"colorbar\":{\"outlinewidth\":0,\"ticks\":\"\"}}],\"histogram2d\":[{\"type\":\"histogram2d\",\"colorbar\":{\"outlinewidth\":0,\"ticks\":\"\"},\"colorscale\":[[0.0,\"#0d0887\"],[0.1111111111111111,\"#46039f\"],[0.2222222222222222,\"#7201a8\"],[0.3333333333333333,\"#9c179e\"],[0.4444444444444444,\"#bd3786\"],[0.5555555555555556,\"#d8576b\"],[0.6666666666666666,\"#ed7953\"],[0.7777777777777778,\"#fb9f3a\"],[0.8888888888888888,\"#fdca26\"],[1.0,\"#f0f921\"]]}],\"heatmap\":[{\"type\":\"heatmap\",\"colorbar\":{\"outlinewidth\":0,\"ticks\":\"\"},\"colorscale\":[[0.0,\"#0d0887\"],[0.1111111111111111,\"#46039f\"],[0.2222222222222222,\"#7201a8\"],[0.3333333333333333,\"#9c179e\"],[0.4444444444444444,\"#bd3786\"],[0.5555555555555556,\"#d8576b\"],[0.6666666666666666,\"#ed7953\"],[0.7777777777777778,\"#fb9f3a\"],[0.8888888888888888,\"#fdca26\"],[1.0,\"#f0f921\"]]}],\"heatmapgl\":[{\"type\":\"heatmapgl\",\"colorbar\":{\"outlinewidth\":0,\"ticks\":\"\"},\"colorscale\":[[0.0,\"#0d0887\"],[0.1111111111111111,\"#46039f\"],[0.2222222222222222,\"#7201a8\"],[0.3333333333333333,\"#9c179e\"],[0.4444444444444444,\"#bd3786\"],[0.5555555555555556,\"#d8576b\"],[0.6666666666666666,\"#ed7953\"],[0.7777777777777778,\"#fb9f3a\"],[0.8888888888888888,\"#fdca26\"],[1.0,\"#f0f921\"]]}],\"contourcarpet\":[{\"type\":\"contourcarpet\",\"colorbar\":{\"outlinewidth\":0,\"ticks\":\"\"}}],\"contour\":[{\"type\":\"contour\",\"colorbar\":{\"outlinewidth\":0,\"ticks\":\"\"},\"colorscale\":[[0.0,\"#0d0887\"],[0.1111111111111111,\"#46039f\"],[0.2222222222222222,\"#7201a8\"],[0.3333333333333333,\"#9c179e\"],[0.4444444444444444,\"#bd3786\"],[0.5555555555555556,\"#d8576b\"],[0.6666666666666666,\"#ed7953\"],[0.7777777777777778,\"#fb9f3a\"],[0.8888888888888888,\"#fdca26\"],[1.0,\"#f0f921\"]]}],\"surface\":[{\"type\":\"surface\",\"colorbar\":{\"outlinewidth\":0,\"ticks\":\"\"},\"colorscale\":[[0.0,\"#0d0887\"],[0.1111111111111111,\"#46039f\"],[0.2222222222222222,\"#7201a8\"],[0.3333333333333333,\"#9c179e\"],[0.4444444444444444,\"#bd3786\"],[0.5555555555555556,\"#d8576b\"],[0.6666666666666666,\"#ed7953\"],[0.7777777777777778,\"#fb9f3a\"],[0.8888888888888888,\"#fdca26\"],[1.0,\"#f0f921\"]]}],\"mesh3d\":[{\"type\":\"mesh3d\",\"colorbar\":{\"outlinewidth\":0,\"ticks\":\"\"}}],\"scatter\":[{\"fillpattern\":{\"fillmode\":\"overlay\",\"size\":10,\"solidity\":0.2},\"type\":\"scatter\"}],\"parcoords\":[{\"type\":\"parcoords\",\"line\":{\"colorbar\":{\"outlinewidth\":0,\"ticks\":\"\"}}}],\"scatterpolargl\":[{\"type\":\"scatterpolargl\",\"marker\":{\"colorbar\":{\"outlinewidth\":0,\"ticks\":\"\"}}}],\"bar\":[{\"error_x\":{\"color\":\"#2a3f5f\"},\"error_y\":{\"color\":\"#2a3f5f\"},\"marker\":{\"line\":{\"color\":\"#E5ECF6\",\"width\":0.5},\"pattern\":{\"fillmode\":\"overlay\",\"size\":10,\"solidity\":0.2}},\"type\":\"bar\"}],\"scattergeo\":[{\"type\":\"scattergeo\",\"marker\":{\"colorbar\":{\"outlinewidth\":0,\"ticks\":\"\"}}}],\"scatterpolar\":[{\"type\":\"scatterpolar\",\"marker\":{\"colorbar\":{\"outlinewidth\":0,\"ticks\":\"\"}}}],\"histogram\":[{\"marker\":{\"pattern\":{\"fillmode\":\"overlay\",\"size\":10,\"solidity\":0.2}},\"type\":\"histogram\"}],\"scattergl\":[{\"type\":\"scattergl\",\"marker\":{\"colorbar\":{\"outlinewidth\":0,\"ticks\":\"\"}}}],\"scatter3d\":[{\"type\":\"scatter3d\",\"line\":{\"colorbar\":{\"outlinewidth\":0,\"ticks\":\"\"}},\"marker\":{\"colorbar\":{\"outlinewidth\":0,\"ticks\":\"\"}}}],\"scattermapbox\":[{\"type\":\"scattermapbox\",\"marker\":{\"colorbar\":{\"outlinewidth\":0,\"ticks\":\"\"}}}],\"scatterternary\":[{\"type\":\"scatterternary\",\"marker\":{\"colorbar\":{\"outlinewidth\":0,\"ticks\":\"\"}}}],\"scattercarpet\":[{\"type\":\"scattercarpet\",\"marker\":{\"colorbar\":{\"outlinewidth\":0,\"ticks\":\"\"}}}],\"carpet\":[{\"aaxis\":{\"endlinecolor\":\"#2a3f5f\",\"gridcolor\":\"white\",\"linecolor\":\"white\",\"minorgridcolor\":\"white\",\"startlinecolor\":\"#2a3f5f\"},\"baxis\":{\"endlinecolor\":\"#2a3f5f\",\"gridcolor\":\"white\",\"linecolor\":\"white\",\"minorgridcolor\":\"white\",\"startlinecolor\":\"#2a3f5f\"},\"type\":\"carpet\"}],\"table\":[{\"cells\":{\"fill\":{\"color\":\"#EBF0F8\"},\"line\":{\"color\":\"white\"}},\"header\":{\"fill\":{\"color\":\"#C8D4E3\"},\"line\":{\"color\":\"white\"}},\"type\":\"table\"}],\"barpolar\":[{\"marker\":{\"line\":{\"color\":\"#E5ECF6\",\"width\":0.5},\"pattern\":{\"fillmode\":\"overlay\",\"size\":10,\"solidity\":0.2}},\"type\":\"barpolar\"}],\"pie\":[{\"automargin\":true,\"type\":\"pie\"}]},\"layout\":{\"autotypenumbers\":\"strict\",\"colorway\":[\"#636efa\",\"#EF553B\",\"#00cc96\",\"#ab63fa\",\"#FFA15A\",\"#19d3f3\",\"#FF6692\",\"#B6E880\",\"#FF97FF\",\"#FECB52\"],\"font\":{\"color\":\"#2a3f5f\"},\"hovermode\":\"closest\",\"hoverlabel\":{\"align\":\"left\"},\"paper_bgcolor\":\"white\",\"plot_bgcolor\":\"#E5ECF6\",\"polar\":{\"bgcolor\":\"#E5ECF6\",\"angularaxis\":{\"gridcolor\":\"white\",\"linecolor\":\"white\",\"ticks\":\"\"},\"radialaxis\":{\"gridcolor\":\"white\",\"linecolor\":\"white\",\"ticks\":\"\"}},\"ternary\":{\"bgcolor\":\"#E5ECF6\",\"aaxis\":{\"gridcolor\":\"white\",\"linecolor\":\"white\",\"ticks\":\"\"},\"baxis\":{\"gridcolor\":\"white\",\"linecolor\":\"white\",\"ticks\":\"\"},\"caxis\":{\"gridcolor\":\"white\",\"linecolor\":\"white\",\"ticks\":\"\"}},\"coloraxis\":{\"colorbar\":{\"outlinewidth\":0,\"ticks\":\"\"}},\"colorscale\":{\"sequential\":[[0.0,\"#0d0887\"],[0.1111111111111111,\"#46039f\"],[0.2222222222222222,\"#7201a8\"],[0.3333333333333333,\"#9c179e\"],[0.4444444444444444,\"#bd3786\"],[0.5555555555555556,\"#d8576b\"],[0.6666666666666666,\"#ed7953\"],[0.7777777777777778,\"#fb9f3a\"],[0.8888888888888888,\"#fdca26\"],[1.0,\"#f0f921\"]],\"sequentialminus\":[[0.0,\"#0d0887\"],[0.1111111111111111,\"#46039f\"],[0.2222222222222222,\"#7201a8\"],[0.3333333333333333,\"#9c179e\"],[0.4444444444444444,\"#bd3786\"],[0.5555555555555556,\"#d8576b\"],[0.6666666666666666,\"#ed7953\"],[0.7777777777777778,\"#fb9f3a\"],[0.8888888888888888,\"#fdca26\"],[1.0,\"#f0f921\"]],\"diverging\":[[0,\"#8e0152\"],[0.1,\"#c51b7d\"],[0.2,\"#de77ae\"],[0.3,\"#f1b6da\"],[0.4,\"#fde0ef\"],[0.5,\"#f7f7f7\"],[0.6,\"#e6f5d0\"],[0.7,\"#b8e186\"],[0.8,\"#7fbc41\"],[0.9,\"#4d9221\"],[1,\"#276419\"]]},\"xaxis\":{\"gridcolor\":\"white\",\"linecolor\":\"white\",\"ticks\":\"\",\"title\":{\"standoff\":15},\"zerolinecolor\":\"white\",\"automargin\":true,\"zerolinewidth\":2},\"yaxis\":{\"gridcolor\":\"white\",\"linecolor\":\"white\",\"ticks\":\"\",\"title\":{\"standoff\":15},\"zerolinecolor\":\"white\",\"automargin\":true,\"zerolinewidth\":2},\"scene\":{\"xaxis\":{\"backgroundcolor\":\"#E5ECF6\",\"gridcolor\":\"white\",\"linecolor\":\"white\",\"showbackground\":true,\"ticks\":\"\",\"zerolinecolor\":\"white\",\"gridwidth\":2},\"yaxis\":{\"backgroundcolor\":\"#E5ECF6\",\"gridcolor\":\"white\",\"linecolor\":\"white\",\"showbackground\":true,\"ticks\":\"\",\"zerolinecolor\":\"white\",\"gridwidth\":2},\"zaxis\":{\"backgroundcolor\":\"#E5ECF6\",\"gridcolor\":\"white\",\"linecolor\":\"white\",\"showbackground\":true,\"ticks\":\"\",\"zerolinecolor\":\"white\",\"gridwidth\":2}},\"shapedefaults\":{\"line\":{\"color\":\"#2a3f5f\"}},\"annotationdefaults\":{\"arrowcolor\":\"#2a3f5f\",\"arrowhead\":0,\"arrowwidth\":1},\"geo\":{\"bgcolor\":\"white\",\"landcolor\":\"#E5ECF6\",\"subunitcolor\":\"white\",\"showland\":true,\"showlakes\":true,\"lakecolor\":\"white\"},\"title\":{\"x\":0.05},\"mapbox\":{\"style\":\"light\"}}}},                        {\"responsive\": true}                    ).then(function(){\n",
       "                            \n",
       "var gd = document.getElementById('31931506-0e87-4bab-867b-d08dbff45760');\n",
       "var x = new MutationObserver(function (mutations, observer) {{\n",
       "        var display = window.getComputedStyle(gd).display;\n",
       "        if (!display || display === 'none') {{\n",
       "            console.log([gd, 'removed!']);\n",
       "            Plotly.purge(gd);\n",
       "            observer.disconnect();\n",
       "        }}\n",
       "}});\n",
       "\n",
       "// Listen for the removal of the full notebook cells\n",
       "var notebookContainer = gd.closest('#notebook-container');\n",
       "if (notebookContainer) {{\n",
       "    x.observe(notebookContainer, {childList: true});\n",
       "}}\n",
       "\n",
       "// Listen for the clearing of the current output cell\n",
       "var outputEl = gd.closest('.output');\n",
       "if (outputEl) {{\n",
       "    x.observe(outputEl, {childList: true});\n",
       "}}\n",
       "\n",
       "                        })                };                });            </script>        </div>"
      ]
     },
     "metadata": {},
     "output_type": "display_data"
    }
   ],
   "source": [
    "cell_colors = [['white' if j == 0 else 'green' if val else 'red' for val in dataframe[col]] for j, col in enumerate(dataframe.columns)]\n",
    "\n",
    "fig = go.Figure(data=[go.Table(\n",
    "    header=dict(values=list(dataframe.columns)),\n",
    "    cells=dict(values=[dataframe[col] for col in dataframe.columns],\n",
    "               fill_color=cell_colors)\n",
    ")])\n",
    "\n",
    "# Afficher le tableau Plotly\n",
    "fig.show()"
   ]
  },
  {
   "cell_type": "code",
   "execution_count": 237,
   "metadata": {
    "vscode": {
     "languageId": "shellscript"
    }
   },
   "outputs": [],
   "source": [
    "dico_atlas_path = {'AAL3': 'AAL3/AAL3v1_1mm_to_subj.nii.gz',\n",
    "            'Neudorfer': 'Neudorfer/MDA_990HCP_atlas_labels_0.5mm.nii.gz_to_subj.nii.gz',\n",
    "            'AAL3_Neudorfer': 'AAL3_Neudorfer/neudorfer_aal3_to_subj.nii.gz',\n",
    "            'Hypothalamus': 'Hypothalamus/Hypothalamus2Adele_dilated2_resliced_to_subj.nii.gz',\n",
    "            'atlas_7TAmi_DGN_SBA_v9': '7TAMI/7TAmi_DGN_SBA_v9_to_subj.nii.gz',\n",
    "            'atlas_7TAmi_adapted_eMorel_v9': '7TAMI/7TAmi_adapted_eMorel_v9_to_subj.nii.gz',\n",
    "            'atlas_7TAmi_Amygdala': '7TAMI/7TAmi_Amygdala_to_subj.nii.gz',\n",
    "            'atlas_7TAmi_CIT168_AMYG': '7TAMI/7TAmi_CIT168_AMYG_to_subj.nii.gz'}\n",
    "\n",
    "dico_atlas_freesurfer_path = {\n",
    "            'VEP_atlas': 'subject/mri/origin/aparc+aseg.vep.mgz',\n",
    "            'Destrieux': 'subject/mri/origin/aparc.a2009s+aseg.mgz',\n",
    "            'Desikan_Killiany': 'subject/mri/origin/aparc_DKTatlas+aseg.mgz'}\n",
    "\n",
    "dico_atlas_list = dico_atlas_path.copy()\n",
    "dico_atlas_list = {cle: [] for cle in dico_atlas_list}\n",
    "dico_atlas_list['session'] = []\n",
    "dico_atlas_list['subjects'] = []\n",
    "for k in dico_atlas_freesurfer_path.keys():\n",
    "    dico_atlas_list[k] = []\n",
    "\n",
    "dico_atlas_freesurfer_path = {\n",
    "            'VEP_atlas': 'subject/mri/origin/aparc+aseg.vep.mgz',\n",
    "            'Destrieux': 'subject/mri/origin/aparc.a2009s+aseg.mgz',\n",
    "            'Desikan_Killiany': 'subject/mri/origin/aparc_DKTatlas+aseg.mgz'}"
   ]
  },
  {
   "cell_type": "code",
   "execution_count": 238,
   "metadata": {
    "vscode": {
     "languageId": "shellscript"
    }
   },
   "outputs": [],
   "source": [
    "dico_atlas = {}\n",
    "for sub in my_pyxnat.select.projects(project).subjects():\n",
    "    for exp in sub.experiments():\n",
    "        dico_atlas[sub.label() + '*' + exp.label()] = {}\n",
    "        for res in exp.resources():\n",
    "            if res.label() == 'FREESURFER':\n",
    "                dico_atlas[sub.label() + '*' + exp.label()]['aparc'] = res.aparc()\n",
    "                dico_atlas[sub.label() + '*' + exp.label()]['aseg'] = res.aseg()\n",
    "\n",
    "                for k in dico_atlas_freesurfer_path.keys():\n",
    "                    if res.files(k + '.csv').get() != []:\n",
    "                        # file_object = res.files(k + '.csv')[0].attributes()\n",
    "                        file_path = res.files(k + '.csv')[0].get()\n",
    "                        df = pd.read_csv(file_path)\n",
    "                        dico_atlas[sub.label() + '*' + exp.label()]['extraction_' + k] = df\n",
    "\n",
    "            elif res.label() == 'Atlas':\n",
    "                for k,v in dico_atlas_path.items():\n",
    "                    if res.files(v).get() != []:\n",
    "                        dico_atlas[sub.label() + '*' + exp.label()][k] = True\n",
    "\n",
    "            elif res.label() == 'Extraction':\n",
    "                for k in dico_atlas_path.keys():\n",
    "                    if res.files(k + '.csv').get() != []:\n",
    "                        # file_object = res.files(k + '.csv')[0].attributes()\n",
    "                        file_path = res.files(k + '.csv')[0].get()\n",
    "                        df = pd.read_csv(file_path)\n",
    "                        dico_atlas[sub.label() + '*' + exp.label()]['extraction_' + k] = df"
   ]
  },
  {
   "cell_type": "code",
   "execution_count": 239,
   "metadata": {
    "vscode": {
     "languageId": "shellscript"
    }
   },
   "outputs": [
    {
     "data": {
      "text/plain": [
       "dict_keys(['aparc', 'aseg', 'AAL3', 'AAL3_Neudorfer', 'atlas_7TAmi_DGN_SBA_v9', 'atlas_7TAmi_adapted_eMorel_v9', 'atlas_7TAmi_Amygdala', 'atlas_7TAmi_CIT168_AMYG', 'extraction_AAL3_Neudorfer', 'extraction_atlas_7TAmi_Amygdala', 'extraction_atlas_7TAmi_CIT168_AMYG'])"
      ]
     },
     "execution_count": 239,
     "metadata": {},
     "output_type": "execute_result"
    }
   ],
   "source": [
    "dico_atlas['01-59-P-V*202204131119'].keys()"
   ]
  },
  {
   "cell_type": "code",
   "execution_count": 240,
   "metadata": {
    "vscode": {
     "languageId": "shellscript"
    }
   },
   "outputs": [],
   "source": [
    "for sub in dico_atlas.keys():\n",
    "    dico_atlas_list['subjects'].append(sub.split('*')[0])\n",
    "    dico_atlas_list['session'].append(sub.split('*')[1])\n",
    "    for atlas in dico_atlas_list.keys():\n",
    "        if atlas == 'session' or atlas == 'subjects':\n",
    "            continue\n",
    "        if atlas in dico_atlas[sub].keys():\n",
    "            dico_atlas_list[atlas].append(True)\n",
    "        else:\n",
    "            dico_atlas_list[atlas].append(False)"
   ]
  },
  {
   "cell_type": "code",
   "execution_count": 242,
   "metadata": {
    "vscode": {
     "languageId": "shellscript"
    }
   },
   "outputs": [],
   "source": [
    "my_dataframe = pd.DataFrame(dico_atlas_list)\n",
    "new_list = [x for x in list(my_dataframe.columns) if x != 'subjects' and x != 'session']\n",
    "nouvel_ordre_colonnes = ['subjects', 'session'] + new_list\n",
    "my_dataframe = my_dataframe[nouvel_ordre_colonnes]"
   ]
  },
  {
   "cell_type": "code",
   "execution_count": 243,
   "metadata": {
    "vscode": {
     "languageId": "shellscript"
    }
   },
   "outputs": [
    {
     "data": {
      "application/vnd.plotly.v1+json": {
       "config": {
        "plotlyServerURL": "https://plot.ly"
       },
       "data": [
        {
         "cells": {
          "fill": {
           "color": [
            [
             "white",
             "white",
             "white",
             "white",
             "white",
             "white",
             "white",
             "white",
             "white",
             "white",
             "white",
             "white",
             "white",
             "white",
             "white",
             "white",
             "white",
             "white",
             "white",
             "white",
             "white",
             "white",
             "white",
             "white",
             "white",
             "white",
             "white",
             "white",
             "white",
             "white",
             "white",
             "white",
             "white",
             "white"
            ],
            [
             "white",
             "white",
             "white",
             "white",
             "white",
             "white",
             "white",
             "white",
             "white",
             "white",
             "white",
             "white",
             "white",
             "white",
             "white",
             "white",
             "white",
             "white",
             "white",
             "white",
             "white",
             "white",
             "white",
             "white",
             "white",
             "white",
             "white",
             "white",
             "white",
             "white",
             "white",
             "white",
             "white",
             "white"
            ],
            [
             "red",
             "red",
             "red",
             "red",
             "green",
             "red",
             "red",
             "red",
             "red",
             "red",
             "red",
             "red",
             "red",
             "red",
             "red",
             "red",
             "red",
             "red",
             "red",
             "red",
             "red",
             "red",
             "red",
             "red",
             "red",
             "red",
             "red",
             "red",
             "red",
             "red",
             "red",
             "red",
             "red",
             "red"
            ],
            [
             "red",
             "red",
             "red",
             "red",
             "red",
             "red",
             "red",
             "red",
             "red",
             "red",
             "red",
             "red",
             "red",
             "red",
             "red",
             "red",
             "red",
             "red",
             "red",
             "red",
             "red",
             "red",
             "red",
             "red",
             "red",
             "red",
             "red",
             "red",
             "red",
             "red",
             "red",
             "red",
             "red",
             "red"
            ],
            [
             "red",
             "red",
             "red",
             "red",
             "green",
             "red",
             "red",
             "red",
             "red",
             "red",
             "red",
             "red",
             "red",
             "red",
             "red",
             "red",
             "red",
             "red",
             "red",
             "red",
             "red",
             "red",
             "red",
             "red",
             "red",
             "red",
             "red",
             "red",
             "red",
             "red",
             "red",
             "red",
             "red",
             "red"
            ],
            [
             "red",
             "red",
             "red",
             "red",
             "red",
             "red",
             "red",
             "red",
             "red",
             "red",
             "red",
             "red",
             "red",
             "red",
             "red",
             "red",
             "red",
             "red",
             "red",
             "red",
             "red",
             "red",
             "red",
             "red",
             "red",
             "red",
             "red",
             "red",
             "red",
             "red",
             "red",
             "red",
             "red",
             "red"
            ],
            [
             "red",
             "red",
             "red",
             "red",
             "green",
             "red",
             "red",
             "red",
             "red",
             "red",
             "red",
             "red",
             "red",
             "red",
             "red",
             "red",
             "red",
             "red",
             "red",
             "red",
             "red",
             "red",
             "red",
             "red",
             "red",
             "red",
             "red",
             "red",
             "red",
             "red",
             "red",
             "red",
             "red",
             "red"
            ],
            [
             "red",
             "red",
             "red",
             "red",
             "green",
             "red",
             "red",
             "red",
             "red",
             "red",
             "red",
             "red",
             "red",
             "red",
             "red",
             "red",
             "red",
             "red",
             "red",
             "red",
             "red",
             "red",
             "red",
             "red",
             "red",
             "red",
             "red",
             "red",
             "red",
             "red",
             "red",
             "red",
             "red",
             "red"
            ],
            [
             "red",
             "red",
             "red",
             "red",
             "green",
             "red",
             "red",
             "red",
             "red",
             "red",
             "red",
             "red",
             "red",
             "red",
             "red",
             "red",
             "red",
             "red",
             "red",
             "red",
             "red",
             "red",
             "red",
             "red",
             "red",
             "red",
             "red",
             "red",
             "red",
             "red",
             "red",
             "red",
             "red",
             "red"
            ],
            [
             "red",
             "red",
             "red",
             "red",
             "green",
             "red",
             "red",
             "red",
             "red",
             "red",
             "red",
             "red",
             "red",
             "red",
             "red",
             "red",
             "red",
             "red",
             "red",
             "red",
             "red",
             "red",
             "red",
             "red",
             "red",
             "red",
             "red",
             "red",
             "red",
             "red",
             "red",
             "red",
             "red",
             "red"
            ],
            [
             "red",
             "red",
             "red",
             "red",
             "red",
             "red",
             "red",
             "red",
             "red",
             "red",
             "red",
             "red",
             "red",
             "red",
             "red",
             "red",
             "red",
             "red",
             "red",
             "red",
             "red",
             "red",
             "red",
             "red",
             "red",
             "red",
             "red",
             "red",
             "red",
             "red",
             "red",
             "red",
             "red",
             "red"
            ],
            [
             "red",
             "red",
             "red",
             "red",
             "red",
             "red",
             "red",
             "red",
             "red",
             "red",
             "red",
             "red",
             "red",
             "red",
             "red",
             "red",
             "red",
             "red",
             "red",
             "red",
             "red",
             "red",
             "red",
             "red",
             "red",
             "red",
             "red",
             "red",
             "red",
             "red",
             "red",
             "red",
             "red",
             "red"
            ],
            [
             "red",
             "red",
             "red",
             "red",
             "red",
             "red",
             "red",
             "red",
             "red",
             "red",
             "red",
             "red",
             "red",
             "red",
             "red",
             "red",
             "red",
             "red",
             "red",
             "red",
             "red",
             "red",
             "red",
             "red",
             "red",
             "red",
             "red",
             "red",
             "red",
             "red",
             "red",
             "red",
             "red",
             "red"
            ]
           ]
          },
          "values": [
           [
            "01_55_L_M",
            "01_45_B-N",
            "01_45_B-N",
            "01_85_G-S",
            "01-59-P-V",
            "01-68-P-N",
            "01-75-R-S",
            "01-63-B-K",
            "01_77_B_B",
            "01_86_P-L",
            "01-83-P-G",
            "01_71_D-C",
            "01_57_FC",
            "01_80_V_T",
            "01-64-B-A",
            "01-54-D-R",
            "01-61-B-L",
            "01-49-R-D",
            "01-70-L-E",
            "01-79-G-S",
            "01_72_M-V",
            "01_62_T-E",
            "01_69_CO",
            "01_47_Q-M",
            "01-56-C-D",
            "01_84_GM",
            "01-46_L-J",
            "01-78-M-C",
            "01_52_B-L",
            "01_41_CL",
            "01_50_D-A",
            "01-66-L-Q",
            "01_58_T_A",
            "01_73_A_M"
           ],
           [
            "202201140838",
            "202107020849",
            "BRAIN_EPINOV",
            "202306090849",
            "202204131119",
            "202211080928",
            "202303011104",
            "202205020920",
            "202308220902",
            "202306291315",
            "202304210904",
            "202303030852",
            "202112150855",
            "202304280912",
            "202210280903",
            "202110131329",
            "202208110904",
            "202111050958",
            "202303031323",
            "202304071208",
            "202301301518",
            "202204261345",
            "202301060848",
            "202108120952",
            "202110150908",
            "202306160853",
            "202108261322",
            "202304070918",
            "202109100911",
            "202106180909",
            "202109171116",
            "202109090853",
            "202201070933",
            "202302100929"
           ],
           [
            false,
            false,
            false,
            false,
            true,
            false,
            false,
            false,
            false,
            false,
            false,
            false,
            false,
            false,
            false,
            false,
            false,
            false,
            false,
            false,
            false,
            false,
            false,
            false,
            false,
            false,
            false,
            false,
            false,
            false,
            false,
            false,
            false,
            false
           ],
           [
            false,
            false,
            false,
            false,
            false,
            false,
            false,
            false,
            false,
            false,
            false,
            false,
            false,
            false,
            false,
            false,
            false,
            false,
            false,
            false,
            false,
            false,
            false,
            false,
            false,
            false,
            false,
            false,
            false,
            false,
            false,
            false,
            false,
            false
           ],
           [
            false,
            false,
            false,
            false,
            true,
            false,
            false,
            false,
            false,
            false,
            false,
            false,
            false,
            false,
            false,
            false,
            false,
            false,
            false,
            false,
            false,
            false,
            false,
            false,
            false,
            false,
            false,
            false,
            false,
            false,
            false,
            false,
            false,
            false
           ],
           [
            false,
            false,
            false,
            false,
            false,
            false,
            false,
            false,
            false,
            false,
            false,
            false,
            false,
            false,
            false,
            false,
            false,
            false,
            false,
            false,
            false,
            false,
            false,
            false,
            false,
            false,
            false,
            false,
            false,
            false,
            false,
            false,
            false,
            false
           ],
           [
            false,
            false,
            false,
            false,
            true,
            false,
            false,
            false,
            false,
            false,
            false,
            false,
            false,
            false,
            false,
            false,
            false,
            false,
            false,
            false,
            false,
            false,
            false,
            false,
            false,
            false,
            false,
            false,
            false,
            false,
            false,
            false,
            false,
            false
           ],
           [
            false,
            false,
            false,
            false,
            true,
            false,
            false,
            false,
            false,
            false,
            false,
            false,
            false,
            false,
            false,
            false,
            false,
            false,
            false,
            false,
            false,
            false,
            false,
            false,
            false,
            false,
            false,
            false,
            false,
            false,
            false,
            false,
            false,
            false
           ],
           [
            false,
            false,
            false,
            false,
            true,
            false,
            false,
            false,
            false,
            false,
            false,
            false,
            false,
            false,
            false,
            false,
            false,
            false,
            false,
            false,
            false,
            false,
            false,
            false,
            false,
            false,
            false,
            false,
            false,
            false,
            false,
            false,
            false,
            false
           ],
           [
            false,
            false,
            false,
            false,
            true,
            false,
            false,
            false,
            false,
            false,
            false,
            false,
            false,
            false,
            false,
            false,
            false,
            false,
            false,
            false,
            false,
            false,
            false,
            false,
            false,
            false,
            false,
            false,
            false,
            false,
            false,
            false,
            false,
            false
           ],
           [
            false,
            false,
            false,
            false,
            false,
            false,
            false,
            false,
            false,
            false,
            false,
            false,
            false,
            false,
            false,
            false,
            false,
            false,
            false,
            false,
            false,
            false,
            false,
            false,
            false,
            false,
            false,
            false,
            false,
            false,
            false,
            false,
            false,
            false
           ],
           [
            false,
            false,
            false,
            false,
            false,
            false,
            false,
            false,
            false,
            false,
            false,
            false,
            false,
            false,
            false,
            false,
            false,
            false,
            false,
            false,
            false,
            false,
            false,
            false,
            false,
            false,
            false,
            false,
            false,
            false,
            false,
            false,
            false,
            false
           ],
           [
            false,
            false,
            false,
            false,
            false,
            false,
            false,
            false,
            false,
            false,
            false,
            false,
            false,
            false,
            false,
            false,
            false,
            false,
            false,
            false,
            false,
            false,
            false,
            false,
            false,
            false,
            false,
            false,
            false,
            false,
            false,
            false,
            false,
            false
           ]
          ]
         },
         "header": {
          "values": [
           "subjects",
           "session",
           "AAL3",
           "Neudorfer",
           "AAL3_Neudorfer",
           "Hypothalamus",
           "atlas_7TAmi_DGN_SBA_v9",
           "atlas_7TAmi_adapted_eMorel_v9",
           "atlas_7TAmi_Amygdala",
           "atlas_7TAmi_CIT168_AMYG",
           "VEP_atlas",
           "Destrieux",
           "Desikan_Killiany"
          ]
         },
         "type": "table"
        }
       ],
       "layout": {
        "template": {
         "data": {
          "bar": [
           {
            "error_x": {
             "color": "#2a3f5f"
            },
            "error_y": {
             "color": "#2a3f5f"
            },
            "marker": {
             "line": {
              "color": "#E5ECF6",
              "width": 0.5
             },
             "pattern": {
              "fillmode": "overlay",
              "size": 10,
              "solidity": 0.2
             }
            },
            "type": "bar"
           }
          ],
          "barpolar": [
           {
            "marker": {
             "line": {
              "color": "#E5ECF6",
              "width": 0.5
             },
             "pattern": {
              "fillmode": "overlay",
              "size": 10,
              "solidity": 0.2
             }
            },
            "type": "barpolar"
           }
          ],
          "carpet": [
           {
            "aaxis": {
             "endlinecolor": "#2a3f5f",
             "gridcolor": "white",
             "linecolor": "white",
             "minorgridcolor": "white",
             "startlinecolor": "#2a3f5f"
            },
            "baxis": {
             "endlinecolor": "#2a3f5f",
             "gridcolor": "white",
             "linecolor": "white",
             "minorgridcolor": "white",
             "startlinecolor": "#2a3f5f"
            },
            "type": "carpet"
           }
          ],
          "choropleth": [
           {
            "colorbar": {
             "outlinewidth": 0,
             "ticks": ""
            },
            "type": "choropleth"
           }
          ],
          "contour": [
           {
            "colorbar": {
             "outlinewidth": 0,
             "ticks": ""
            },
            "colorscale": [
             [
              0,
              "#0d0887"
             ],
             [
              0.1111111111111111,
              "#46039f"
             ],
             [
              0.2222222222222222,
              "#7201a8"
             ],
             [
              0.3333333333333333,
              "#9c179e"
             ],
             [
              0.4444444444444444,
              "#bd3786"
             ],
             [
              0.5555555555555556,
              "#d8576b"
             ],
             [
              0.6666666666666666,
              "#ed7953"
             ],
             [
              0.7777777777777778,
              "#fb9f3a"
             ],
             [
              0.8888888888888888,
              "#fdca26"
             ],
             [
              1,
              "#f0f921"
             ]
            ],
            "type": "contour"
           }
          ],
          "contourcarpet": [
           {
            "colorbar": {
             "outlinewidth": 0,
             "ticks": ""
            },
            "type": "contourcarpet"
           }
          ],
          "heatmap": [
           {
            "colorbar": {
             "outlinewidth": 0,
             "ticks": ""
            },
            "colorscale": [
             [
              0,
              "#0d0887"
             ],
             [
              0.1111111111111111,
              "#46039f"
             ],
             [
              0.2222222222222222,
              "#7201a8"
             ],
             [
              0.3333333333333333,
              "#9c179e"
             ],
             [
              0.4444444444444444,
              "#bd3786"
             ],
             [
              0.5555555555555556,
              "#d8576b"
             ],
             [
              0.6666666666666666,
              "#ed7953"
             ],
             [
              0.7777777777777778,
              "#fb9f3a"
             ],
             [
              0.8888888888888888,
              "#fdca26"
             ],
             [
              1,
              "#f0f921"
             ]
            ],
            "type": "heatmap"
           }
          ],
          "heatmapgl": [
           {
            "colorbar": {
             "outlinewidth": 0,
             "ticks": ""
            },
            "colorscale": [
             [
              0,
              "#0d0887"
             ],
             [
              0.1111111111111111,
              "#46039f"
             ],
             [
              0.2222222222222222,
              "#7201a8"
             ],
             [
              0.3333333333333333,
              "#9c179e"
             ],
             [
              0.4444444444444444,
              "#bd3786"
             ],
             [
              0.5555555555555556,
              "#d8576b"
             ],
             [
              0.6666666666666666,
              "#ed7953"
             ],
             [
              0.7777777777777778,
              "#fb9f3a"
             ],
             [
              0.8888888888888888,
              "#fdca26"
             ],
             [
              1,
              "#f0f921"
             ]
            ],
            "type": "heatmapgl"
           }
          ],
          "histogram": [
           {
            "marker": {
             "pattern": {
              "fillmode": "overlay",
              "size": 10,
              "solidity": 0.2
             }
            },
            "type": "histogram"
           }
          ],
          "histogram2d": [
           {
            "colorbar": {
             "outlinewidth": 0,
             "ticks": ""
            },
            "colorscale": [
             [
              0,
              "#0d0887"
             ],
             [
              0.1111111111111111,
              "#46039f"
             ],
             [
              0.2222222222222222,
              "#7201a8"
             ],
             [
              0.3333333333333333,
              "#9c179e"
             ],
             [
              0.4444444444444444,
              "#bd3786"
             ],
             [
              0.5555555555555556,
              "#d8576b"
             ],
             [
              0.6666666666666666,
              "#ed7953"
             ],
             [
              0.7777777777777778,
              "#fb9f3a"
             ],
             [
              0.8888888888888888,
              "#fdca26"
             ],
             [
              1,
              "#f0f921"
             ]
            ],
            "type": "histogram2d"
           }
          ],
          "histogram2dcontour": [
           {
            "colorbar": {
             "outlinewidth": 0,
             "ticks": ""
            },
            "colorscale": [
             [
              0,
              "#0d0887"
             ],
             [
              0.1111111111111111,
              "#46039f"
             ],
             [
              0.2222222222222222,
              "#7201a8"
             ],
             [
              0.3333333333333333,
              "#9c179e"
             ],
             [
              0.4444444444444444,
              "#bd3786"
             ],
             [
              0.5555555555555556,
              "#d8576b"
             ],
             [
              0.6666666666666666,
              "#ed7953"
             ],
             [
              0.7777777777777778,
              "#fb9f3a"
             ],
             [
              0.8888888888888888,
              "#fdca26"
             ],
             [
              1,
              "#f0f921"
             ]
            ],
            "type": "histogram2dcontour"
           }
          ],
          "mesh3d": [
           {
            "colorbar": {
             "outlinewidth": 0,
             "ticks": ""
            },
            "type": "mesh3d"
           }
          ],
          "parcoords": [
           {
            "line": {
             "colorbar": {
              "outlinewidth": 0,
              "ticks": ""
             }
            },
            "type": "parcoords"
           }
          ],
          "pie": [
           {
            "automargin": true,
            "type": "pie"
           }
          ],
          "scatter": [
           {
            "fillpattern": {
             "fillmode": "overlay",
             "size": 10,
             "solidity": 0.2
            },
            "type": "scatter"
           }
          ],
          "scatter3d": [
           {
            "line": {
             "colorbar": {
              "outlinewidth": 0,
              "ticks": ""
             }
            },
            "marker": {
             "colorbar": {
              "outlinewidth": 0,
              "ticks": ""
             }
            },
            "type": "scatter3d"
           }
          ],
          "scattercarpet": [
           {
            "marker": {
             "colorbar": {
              "outlinewidth": 0,
              "ticks": ""
             }
            },
            "type": "scattercarpet"
           }
          ],
          "scattergeo": [
           {
            "marker": {
             "colorbar": {
              "outlinewidth": 0,
              "ticks": ""
             }
            },
            "type": "scattergeo"
           }
          ],
          "scattergl": [
           {
            "marker": {
             "colorbar": {
              "outlinewidth": 0,
              "ticks": ""
             }
            },
            "type": "scattergl"
           }
          ],
          "scattermapbox": [
           {
            "marker": {
             "colorbar": {
              "outlinewidth": 0,
              "ticks": ""
             }
            },
            "type": "scattermapbox"
           }
          ],
          "scatterpolar": [
           {
            "marker": {
             "colorbar": {
              "outlinewidth": 0,
              "ticks": ""
             }
            },
            "type": "scatterpolar"
           }
          ],
          "scatterpolargl": [
           {
            "marker": {
             "colorbar": {
              "outlinewidth": 0,
              "ticks": ""
             }
            },
            "type": "scatterpolargl"
           }
          ],
          "scatterternary": [
           {
            "marker": {
             "colorbar": {
              "outlinewidth": 0,
              "ticks": ""
             }
            },
            "type": "scatterternary"
           }
          ],
          "surface": [
           {
            "colorbar": {
             "outlinewidth": 0,
             "ticks": ""
            },
            "colorscale": [
             [
              0,
              "#0d0887"
             ],
             [
              0.1111111111111111,
              "#46039f"
             ],
             [
              0.2222222222222222,
              "#7201a8"
             ],
             [
              0.3333333333333333,
              "#9c179e"
             ],
             [
              0.4444444444444444,
              "#bd3786"
             ],
             [
              0.5555555555555556,
              "#d8576b"
             ],
             [
              0.6666666666666666,
              "#ed7953"
             ],
             [
              0.7777777777777778,
              "#fb9f3a"
             ],
             [
              0.8888888888888888,
              "#fdca26"
             ],
             [
              1,
              "#f0f921"
             ]
            ],
            "type": "surface"
           }
          ],
          "table": [
           {
            "cells": {
             "fill": {
              "color": "#EBF0F8"
             },
             "line": {
              "color": "white"
             }
            },
            "header": {
             "fill": {
              "color": "#C8D4E3"
             },
             "line": {
              "color": "white"
             }
            },
            "type": "table"
           }
          ]
         },
         "layout": {
          "annotationdefaults": {
           "arrowcolor": "#2a3f5f",
           "arrowhead": 0,
           "arrowwidth": 1
          },
          "autotypenumbers": "strict",
          "coloraxis": {
           "colorbar": {
            "outlinewidth": 0,
            "ticks": ""
           }
          },
          "colorscale": {
           "diverging": [
            [
             0,
             "#8e0152"
            ],
            [
             0.1,
             "#c51b7d"
            ],
            [
             0.2,
             "#de77ae"
            ],
            [
             0.3,
             "#f1b6da"
            ],
            [
             0.4,
             "#fde0ef"
            ],
            [
             0.5,
             "#f7f7f7"
            ],
            [
             0.6,
             "#e6f5d0"
            ],
            [
             0.7,
             "#b8e186"
            ],
            [
             0.8,
             "#7fbc41"
            ],
            [
             0.9,
             "#4d9221"
            ],
            [
             1,
             "#276419"
            ]
           ],
           "sequential": [
            [
             0,
             "#0d0887"
            ],
            [
             0.1111111111111111,
             "#46039f"
            ],
            [
             0.2222222222222222,
             "#7201a8"
            ],
            [
             0.3333333333333333,
             "#9c179e"
            ],
            [
             0.4444444444444444,
             "#bd3786"
            ],
            [
             0.5555555555555556,
             "#d8576b"
            ],
            [
             0.6666666666666666,
             "#ed7953"
            ],
            [
             0.7777777777777778,
             "#fb9f3a"
            ],
            [
             0.8888888888888888,
             "#fdca26"
            ],
            [
             1,
             "#f0f921"
            ]
           ],
           "sequentialminus": [
            [
             0,
             "#0d0887"
            ],
            [
             0.1111111111111111,
             "#46039f"
            ],
            [
             0.2222222222222222,
             "#7201a8"
            ],
            [
             0.3333333333333333,
             "#9c179e"
            ],
            [
             0.4444444444444444,
             "#bd3786"
            ],
            [
             0.5555555555555556,
             "#d8576b"
            ],
            [
             0.6666666666666666,
             "#ed7953"
            ],
            [
             0.7777777777777778,
             "#fb9f3a"
            ],
            [
             0.8888888888888888,
             "#fdca26"
            ],
            [
             1,
             "#f0f921"
            ]
           ]
          },
          "colorway": [
           "#636efa",
           "#EF553B",
           "#00cc96",
           "#ab63fa",
           "#FFA15A",
           "#19d3f3",
           "#FF6692",
           "#B6E880",
           "#FF97FF",
           "#FECB52"
          ],
          "font": {
           "color": "#2a3f5f"
          },
          "geo": {
           "bgcolor": "white",
           "lakecolor": "white",
           "landcolor": "#E5ECF6",
           "showlakes": true,
           "showland": true,
           "subunitcolor": "white"
          },
          "hoverlabel": {
           "align": "left"
          },
          "hovermode": "closest",
          "mapbox": {
           "style": "light"
          },
          "paper_bgcolor": "white",
          "plot_bgcolor": "#E5ECF6",
          "polar": {
           "angularaxis": {
            "gridcolor": "white",
            "linecolor": "white",
            "ticks": ""
           },
           "bgcolor": "#E5ECF6",
           "radialaxis": {
            "gridcolor": "white",
            "linecolor": "white",
            "ticks": ""
           }
          },
          "scene": {
           "xaxis": {
            "backgroundcolor": "#E5ECF6",
            "gridcolor": "white",
            "gridwidth": 2,
            "linecolor": "white",
            "showbackground": true,
            "ticks": "",
            "zerolinecolor": "white"
           },
           "yaxis": {
            "backgroundcolor": "#E5ECF6",
            "gridcolor": "white",
            "gridwidth": 2,
            "linecolor": "white",
            "showbackground": true,
            "ticks": "",
            "zerolinecolor": "white"
           },
           "zaxis": {
            "backgroundcolor": "#E5ECF6",
            "gridcolor": "white",
            "gridwidth": 2,
            "linecolor": "white",
            "showbackground": true,
            "ticks": "",
            "zerolinecolor": "white"
           }
          },
          "shapedefaults": {
           "line": {
            "color": "#2a3f5f"
           }
          },
          "ternary": {
           "aaxis": {
            "gridcolor": "white",
            "linecolor": "white",
            "ticks": ""
           },
           "baxis": {
            "gridcolor": "white",
            "linecolor": "white",
            "ticks": ""
           },
           "bgcolor": "#E5ECF6",
           "caxis": {
            "gridcolor": "white",
            "linecolor": "white",
            "ticks": ""
           }
          },
          "title": {
           "x": 0.05
          },
          "xaxis": {
           "automargin": true,
           "gridcolor": "white",
           "linecolor": "white",
           "ticks": "",
           "title": {
            "standoff": 15
           },
           "zerolinecolor": "white",
           "zerolinewidth": 2
          },
          "yaxis": {
           "automargin": true,
           "gridcolor": "white",
           "linecolor": "white",
           "ticks": "",
           "title": {
            "standoff": 15
           },
           "zerolinecolor": "white",
           "zerolinewidth": 2
          }
         }
        }
       }
      },
      "text/html": [
       "<div>                            <div id=\"de61adfa-ec9c-401b-8b76-7548755a20f8\" class=\"plotly-graph-div\" style=\"height:525px; width:100%;\"></div>            <script type=\"text/javascript\">                require([\"plotly\"], function(Plotly) {                    window.PLOTLYENV=window.PLOTLYENV || {};                                    if (document.getElementById(\"de61adfa-ec9c-401b-8b76-7548755a20f8\")) {                    Plotly.newPlot(                        \"de61adfa-ec9c-401b-8b76-7548755a20f8\",                        [{\"cells\":{\"fill\":{\"color\":[[\"white\",\"white\",\"white\",\"white\",\"white\",\"white\",\"white\",\"white\",\"white\",\"white\",\"white\",\"white\",\"white\",\"white\",\"white\",\"white\",\"white\",\"white\",\"white\",\"white\",\"white\",\"white\",\"white\",\"white\",\"white\",\"white\",\"white\",\"white\",\"white\",\"white\",\"white\",\"white\",\"white\",\"white\"],[\"white\",\"white\",\"white\",\"white\",\"white\",\"white\",\"white\",\"white\",\"white\",\"white\",\"white\",\"white\",\"white\",\"white\",\"white\",\"white\",\"white\",\"white\",\"white\",\"white\",\"white\",\"white\",\"white\",\"white\",\"white\",\"white\",\"white\",\"white\",\"white\",\"white\",\"white\",\"white\",\"white\",\"white\"],[\"red\",\"red\",\"red\",\"red\",\"green\",\"red\",\"red\",\"red\",\"red\",\"red\",\"red\",\"red\",\"red\",\"red\",\"red\",\"red\",\"red\",\"red\",\"red\",\"red\",\"red\",\"red\",\"red\",\"red\",\"red\",\"red\",\"red\",\"red\",\"red\",\"red\",\"red\",\"red\",\"red\",\"red\"],[\"red\",\"red\",\"red\",\"red\",\"red\",\"red\",\"red\",\"red\",\"red\",\"red\",\"red\",\"red\",\"red\",\"red\",\"red\",\"red\",\"red\",\"red\",\"red\",\"red\",\"red\",\"red\",\"red\",\"red\",\"red\",\"red\",\"red\",\"red\",\"red\",\"red\",\"red\",\"red\",\"red\",\"red\"],[\"red\",\"red\",\"red\",\"red\",\"green\",\"red\",\"red\",\"red\",\"red\",\"red\",\"red\",\"red\",\"red\",\"red\",\"red\",\"red\",\"red\",\"red\",\"red\",\"red\",\"red\",\"red\",\"red\",\"red\",\"red\",\"red\",\"red\",\"red\",\"red\",\"red\",\"red\",\"red\",\"red\",\"red\"],[\"red\",\"red\",\"red\",\"red\",\"red\",\"red\",\"red\",\"red\",\"red\",\"red\",\"red\",\"red\",\"red\",\"red\",\"red\",\"red\",\"red\",\"red\",\"red\",\"red\",\"red\",\"red\",\"red\",\"red\",\"red\",\"red\",\"red\",\"red\",\"red\",\"red\",\"red\",\"red\",\"red\",\"red\"],[\"red\",\"red\",\"red\",\"red\",\"green\",\"red\",\"red\",\"red\",\"red\",\"red\",\"red\",\"red\",\"red\",\"red\",\"red\",\"red\",\"red\",\"red\",\"red\",\"red\",\"red\",\"red\",\"red\",\"red\",\"red\",\"red\",\"red\",\"red\",\"red\",\"red\",\"red\",\"red\",\"red\",\"red\"],[\"red\",\"red\",\"red\",\"red\",\"green\",\"red\",\"red\",\"red\",\"red\",\"red\",\"red\",\"red\",\"red\",\"red\",\"red\",\"red\",\"red\",\"red\",\"red\",\"red\",\"red\",\"red\",\"red\",\"red\",\"red\",\"red\",\"red\",\"red\",\"red\",\"red\",\"red\",\"red\",\"red\",\"red\"],[\"red\",\"red\",\"red\",\"red\",\"green\",\"red\",\"red\",\"red\",\"red\",\"red\",\"red\",\"red\",\"red\",\"red\",\"red\",\"red\",\"red\",\"red\",\"red\",\"red\",\"red\",\"red\",\"red\",\"red\",\"red\",\"red\",\"red\",\"red\",\"red\",\"red\",\"red\",\"red\",\"red\",\"red\"],[\"red\",\"red\",\"red\",\"red\",\"green\",\"red\",\"red\",\"red\",\"red\",\"red\",\"red\",\"red\",\"red\",\"red\",\"red\",\"red\",\"red\",\"red\",\"red\",\"red\",\"red\",\"red\",\"red\",\"red\",\"red\",\"red\",\"red\",\"red\",\"red\",\"red\",\"red\",\"red\",\"red\",\"red\"],[\"red\",\"red\",\"red\",\"red\",\"red\",\"red\",\"red\",\"red\",\"red\",\"red\",\"red\",\"red\",\"red\",\"red\",\"red\",\"red\",\"red\",\"red\",\"red\",\"red\",\"red\",\"red\",\"red\",\"red\",\"red\",\"red\",\"red\",\"red\",\"red\",\"red\",\"red\",\"red\",\"red\",\"red\"],[\"red\",\"red\",\"red\",\"red\",\"red\",\"red\",\"red\",\"red\",\"red\",\"red\",\"red\",\"red\",\"red\",\"red\",\"red\",\"red\",\"red\",\"red\",\"red\",\"red\",\"red\",\"red\",\"red\",\"red\",\"red\",\"red\",\"red\",\"red\",\"red\",\"red\",\"red\",\"red\",\"red\",\"red\"],[\"red\",\"red\",\"red\",\"red\",\"red\",\"red\",\"red\",\"red\",\"red\",\"red\",\"red\",\"red\",\"red\",\"red\",\"red\",\"red\",\"red\",\"red\",\"red\",\"red\",\"red\",\"red\",\"red\",\"red\",\"red\",\"red\",\"red\",\"red\",\"red\",\"red\",\"red\",\"red\",\"red\",\"red\"]]},\"values\":[[\"01_55_L_M\",\"01_45_B-N\",\"01_45_B-N\",\"01_85_G-S\",\"01-59-P-V\",\"01-68-P-N\",\"01-75-R-S\",\"01-63-B-K\",\"01_77_B_B\",\"01_86_P-L\",\"01-83-P-G\",\"01_71_D-C\",\"01_57_FC\",\"01_80_V_T\",\"01-64-B-A\",\"01-54-D-R\",\"01-61-B-L\",\"01-49-R-D\",\"01-70-L-E\",\"01-79-G-S\",\"01_72_M-V\",\"01_62_T-E\",\"01_69_CO\",\"01_47_Q-M\",\"01-56-C-D\",\"01_84_GM\",\"01-46_L-J\",\"01-78-M-C\",\"01_52_B-L\",\"01_41_CL\",\"01_50_D-A\",\"01-66-L-Q\",\"01_58_T_A\",\"01_73_A_M\"],[\"202201140838\",\"202107020849\",\"BRAIN_EPINOV\",\"202306090849\",\"202204131119\",\"202211080928\",\"202303011104\",\"202205020920\",\"202308220902\",\"202306291315\",\"202304210904\",\"202303030852\",\"202112150855\",\"202304280912\",\"202210280903\",\"202110131329\",\"202208110904\",\"202111050958\",\"202303031323\",\"202304071208\",\"202301301518\",\"202204261345\",\"202301060848\",\"202108120952\",\"202110150908\",\"202306160853\",\"202108261322\",\"202304070918\",\"202109100911\",\"202106180909\",\"202109171116\",\"202109090853\",\"202201070933\",\"202302100929\"],[false,false,false,false,true,false,false,false,false,false,false,false,false,false,false,false,false,false,false,false,false,false,false,false,false,false,false,false,false,false,false,false,false,false],[false,false,false,false,false,false,false,false,false,false,false,false,false,false,false,false,false,false,false,false,false,false,false,false,false,false,false,false,false,false,false,false,false,false],[false,false,false,false,true,false,false,false,false,false,false,false,false,false,false,false,false,false,false,false,false,false,false,false,false,false,false,false,false,false,false,false,false,false],[false,false,false,false,false,false,false,false,false,false,false,false,false,false,false,false,false,false,false,false,false,false,false,false,false,false,false,false,false,false,false,false,false,false],[false,false,false,false,true,false,false,false,false,false,false,false,false,false,false,false,false,false,false,false,false,false,false,false,false,false,false,false,false,false,false,false,false,false],[false,false,false,false,true,false,false,false,false,false,false,false,false,false,false,false,false,false,false,false,false,false,false,false,false,false,false,false,false,false,false,false,false,false],[false,false,false,false,true,false,false,false,false,false,false,false,false,false,false,false,false,false,false,false,false,false,false,false,false,false,false,false,false,false,false,false,false,false],[false,false,false,false,true,false,false,false,false,false,false,false,false,false,false,false,false,false,false,false,false,false,false,false,false,false,false,false,false,false,false,false,false,false],[false,false,false,false,false,false,false,false,false,false,false,false,false,false,false,false,false,false,false,false,false,false,false,false,false,false,false,false,false,false,false,false,false,false],[false,false,false,false,false,false,false,false,false,false,false,false,false,false,false,false,false,false,false,false,false,false,false,false,false,false,false,false,false,false,false,false,false,false],[false,false,false,false,false,false,false,false,false,false,false,false,false,false,false,false,false,false,false,false,false,false,false,false,false,false,false,false,false,false,false,false,false,false]]},\"header\":{\"values\":[\"subjects\",\"session\",\"AAL3\",\"Neudorfer\",\"AAL3_Neudorfer\",\"Hypothalamus\",\"atlas_7TAmi_DGN_SBA_v9\",\"atlas_7TAmi_adapted_eMorel_v9\",\"atlas_7TAmi_Amygdala\",\"atlas_7TAmi_CIT168_AMYG\",\"VEP_atlas\",\"Destrieux\",\"Desikan_Killiany\"]},\"type\":\"table\"}],                        {\"template\":{\"data\":{\"histogram2dcontour\":[{\"type\":\"histogram2dcontour\",\"colorbar\":{\"outlinewidth\":0,\"ticks\":\"\"},\"colorscale\":[[0.0,\"#0d0887\"],[0.1111111111111111,\"#46039f\"],[0.2222222222222222,\"#7201a8\"],[0.3333333333333333,\"#9c179e\"],[0.4444444444444444,\"#bd3786\"],[0.5555555555555556,\"#d8576b\"],[0.6666666666666666,\"#ed7953\"],[0.7777777777777778,\"#fb9f3a\"],[0.8888888888888888,\"#fdca26\"],[1.0,\"#f0f921\"]]}],\"choropleth\":[{\"type\":\"choropleth\",\"colorbar\":{\"outlinewidth\":0,\"ticks\":\"\"}}],\"histogram2d\":[{\"type\":\"histogram2d\",\"colorbar\":{\"outlinewidth\":0,\"ticks\":\"\"},\"colorscale\":[[0.0,\"#0d0887\"],[0.1111111111111111,\"#46039f\"],[0.2222222222222222,\"#7201a8\"],[0.3333333333333333,\"#9c179e\"],[0.4444444444444444,\"#bd3786\"],[0.5555555555555556,\"#d8576b\"],[0.6666666666666666,\"#ed7953\"],[0.7777777777777778,\"#fb9f3a\"],[0.8888888888888888,\"#fdca26\"],[1.0,\"#f0f921\"]]}],\"heatmap\":[{\"type\":\"heatmap\",\"colorbar\":{\"outlinewidth\":0,\"ticks\":\"\"},\"colorscale\":[[0.0,\"#0d0887\"],[0.1111111111111111,\"#46039f\"],[0.2222222222222222,\"#7201a8\"],[0.3333333333333333,\"#9c179e\"],[0.4444444444444444,\"#bd3786\"],[0.5555555555555556,\"#d8576b\"],[0.6666666666666666,\"#ed7953\"],[0.7777777777777778,\"#fb9f3a\"],[0.8888888888888888,\"#fdca26\"],[1.0,\"#f0f921\"]]}],\"heatmapgl\":[{\"type\":\"heatmapgl\",\"colorbar\":{\"outlinewidth\":0,\"ticks\":\"\"},\"colorscale\":[[0.0,\"#0d0887\"],[0.1111111111111111,\"#46039f\"],[0.2222222222222222,\"#7201a8\"],[0.3333333333333333,\"#9c179e\"],[0.4444444444444444,\"#bd3786\"],[0.5555555555555556,\"#d8576b\"],[0.6666666666666666,\"#ed7953\"],[0.7777777777777778,\"#fb9f3a\"],[0.8888888888888888,\"#fdca26\"],[1.0,\"#f0f921\"]]}],\"contourcarpet\":[{\"type\":\"contourcarpet\",\"colorbar\":{\"outlinewidth\":0,\"ticks\":\"\"}}],\"contour\":[{\"type\":\"contour\",\"colorbar\":{\"outlinewidth\":0,\"ticks\":\"\"},\"colorscale\":[[0.0,\"#0d0887\"],[0.1111111111111111,\"#46039f\"],[0.2222222222222222,\"#7201a8\"],[0.3333333333333333,\"#9c179e\"],[0.4444444444444444,\"#bd3786\"],[0.5555555555555556,\"#d8576b\"],[0.6666666666666666,\"#ed7953\"],[0.7777777777777778,\"#fb9f3a\"],[0.8888888888888888,\"#fdca26\"],[1.0,\"#f0f921\"]]}],\"surface\":[{\"type\":\"surface\",\"colorbar\":{\"outlinewidth\":0,\"ticks\":\"\"},\"colorscale\":[[0.0,\"#0d0887\"],[0.1111111111111111,\"#46039f\"],[0.2222222222222222,\"#7201a8\"],[0.3333333333333333,\"#9c179e\"],[0.4444444444444444,\"#bd3786\"],[0.5555555555555556,\"#d8576b\"],[0.6666666666666666,\"#ed7953\"],[0.7777777777777778,\"#fb9f3a\"],[0.8888888888888888,\"#fdca26\"],[1.0,\"#f0f921\"]]}],\"mesh3d\":[{\"type\":\"mesh3d\",\"colorbar\":{\"outlinewidth\":0,\"ticks\":\"\"}}],\"scatter\":[{\"fillpattern\":{\"fillmode\":\"overlay\",\"size\":10,\"solidity\":0.2},\"type\":\"scatter\"}],\"parcoords\":[{\"type\":\"parcoords\",\"line\":{\"colorbar\":{\"outlinewidth\":0,\"ticks\":\"\"}}}],\"scatterpolargl\":[{\"type\":\"scatterpolargl\",\"marker\":{\"colorbar\":{\"outlinewidth\":0,\"ticks\":\"\"}}}],\"bar\":[{\"error_x\":{\"color\":\"#2a3f5f\"},\"error_y\":{\"color\":\"#2a3f5f\"},\"marker\":{\"line\":{\"color\":\"#E5ECF6\",\"width\":0.5},\"pattern\":{\"fillmode\":\"overlay\",\"size\":10,\"solidity\":0.2}},\"type\":\"bar\"}],\"scattergeo\":[{\"type\":\"scattergeo\",\"marker\":{\"colorbar\":{\"outlinewidth\":0,\"ticks\":\"\"}}}],\"scatterpolar\":[{\"type\":\"scatterpolar\",\"marker\":{\"colorbar\":{\"outlinewidth\":0,\"ticks\":\"\"}}}],\"histogram\":[{\"marker\":{\"pattern\":{\"fillmode\":\"overlay\",\"size\":10,\"solidity\":0.2}},\"type\":\"histogram\"}],\"scattergl\":[{\"type\":\"scattergl\",\"marker\":{\"colorbar\":{\"outlinewidth\":0,\"ticks\":\"\"}}}],\"scatter3d\":[{\"type\":\"scatter3d\",\"line\":{\"colorbar\":{\"outlinewidth\":0,\"ticks\":\"\"}},\"marker\":{\"colorbar\":{\"outlinewidth\":0,\"ticks\":\"\"}}}],\"scattermapbox\":[{\"type\":\"scattermapbox\",\"marker\":{\"colorbar\":{\"outlinewidth\":0,\"ticks\":\"\"}}}],\"scatterternary\":[{\"type\":\"scatterternary\",\"marker\":{\"colorbar\":{\"outlinewidth\":0,\"ticks\":\"\"}}}],\"scattercarpet\":[{\"type\":\"scattercarpet\",\"marker\":{\"colorbar\":{\"outlinewidth\":0,\"ticks\":\"\"}}}],\"carpet\":[{\"aaxis\":{\"endlinecolor\":\"#2a3f5f\",\"gridcolor\":\"white\",\"linecolor\":\"white\",\"minorgridcolor\":\"white\",\"startlinecolor\":\"#2a3f5f\"},\"baxis\":{\"endlinecolor\":\"#2a3f5f\",\"gridcolor\":\"white\",\"linecolor\":\"white\",\"minorgridcolor\":\"white\",\"startlinecolor\":\"#2a3f5f\"},\"type\":\"carpet\"}],\"table\":[{\"cells\":{\"fill\":{\"color\":\"#EBF0F8\"},\"line\":{\"color\":\"white\"}},\"header\":{\"fill\":{\"color\":\"#C8D4E3\"},\"line\":{\"color\":\"white\"}},\"type\":\"table\"}],\"barpolar\":[{\"marker\":{\"line\":{\"color\":\"#E5ECF6\",\"width\":0.5},\"pattern\":{\"fillmode\":\"overlay\",\"size\":10,\"solidity\":0.2}},\"type\":\"barpolar\"}],\"pie\":[{\"automargin\":true,\"type\":\"pie\"}]},\"layout\":{\"autotypenumbers\":\"strict\",\"colorway\":[\"#636efa\",\"#EF553B\",\"#00cc96\",\"#ab63fa\",\"#FFA15A\",\"#19d3f3\",\"#FF6692\",\"#B6E880\",\"#FF97FF\",\"#FECB52\"],\"font\":{\"color\":\"#2a3f5f\"},\"hovermode\":\"closest\",\"hoverlabel\":{\"align\":\"left\"},\"paper_bgcolor\":\"white\",\"plot_bgcolor\":\"#E5ECF6\",\"polar\":{\"bgcolor\":\"#E5ECF6\",\"angularaxis\":{\"gridcolor\":\"white\",\"linecolor\":\"white\",\"ticks\":\"\"},\"radialaxis\":{\"gridcolor\":\"white\",\"linecolor\":\"white\",\"ticks\":\"\"}},\"ternary\":{\"bgcolor\":\"#E5ECF6\",\"aaxis\":{\"gridcolor\":\"white\",\"linecolor\":\"white\",\"ticks\":\"\"},\"baxis\":{\"gridcolor\":\"white\",\"linecolor\":\"white\",\"ticks\":\"\"},\"caxis\":{\"gridcolor\":\"white\",\"linecolor\":\"white\",\"ticks\":\"\"}},\"coloraxis\":{\"colorbar\":{\"outlinewidth\":0,\"ticks\":\"\"}},\"colorscale\":{\"sequential\":[[0.0,\"#0d0887\"],[0.1111111111111111,\"#46039f\"],[0.2222222222222222,\"#7201a8\"],[0.3333333333333333,\"#9c179e\"],[0.4444444444444444,\"#bd3786\"],[0.5555555555555556,\"#d8576b\"],[0.6666666666666666,\"#ed7953\"],[0.7777777777777778,\"#fb9f3a\"],[0.8888888888888888,\"#fdca26\"],[1.0,\"#f0f921\"]],\"sequentialminus\":[[0.0,\"#0d0887\"],[0.1111111111111111,\"#46039f\"],[0.2222222222222222,\"#7201a8\"],[0.3333333333333333,\"#9c179e\"],[0.4444444444444444,\"#bd3786\"],[0.5555555555555556,\"#d8576b\"],[0.6666666666666666,\"#ed7953\"],[0.7777777777777778,\"#fb9f3a\"],[0.8888888888888888,\"#fdca26\"],[1.0,\"#f0f921\"]],\"diverging\":[[0,\"#8e0152\"],[0.1,\"#c51b7d\"],[0.2,\"#de77ae\"],[0.3,\"#f1b6da\"],[0.4,\"#fde0ef\"],[0.5,\"#f7f7f7\"],[0.6,\"#e6f5d0\"],[0.7,\"#b8e186\"],[0.8,\"#7fbc41\"],[0.9,\"#4d9221\"],[1,\"#276419\"]]},\"xaxis\":{\"gridcolor\":\"white\",\"linecolor\":\"white\",\"ticks\":\"\",\"title\":{\"standoff\":15},\"zerolinecolor\":\"white\",\"automargin\":true,\"zerolinewidth\":2},\"yaxis\":{\"gridcolor\":\"white\",\"linecolor\":\"white\",\"ticks\":\"\",\"title\":{\"standoff\":15},\"zerolinecolor\":\"white\",\"automargin\":true,\"zerolinewidth\":2},\"scene\":{\"xaxis\":{\"backgroundcolor\":\"#E5ECF6\",\"gridcolor\":\"white\",\"linecolor\":\"white\",\"showbackground\":true,\"ticks\":\"\",\"zerolinecolor\":\"white\",\"gridwidth\":2},\"yaxis\":{\"backgroundcolor\":\"#E5ECF6\",\"gridcolor\":\"white\",\"linecolor\":\"white\",\"showbackground\":true,\"ticks\":\"\",\"zerolinecolor\":\"white\",\"gridwidth\":2},\"zaxis\":{\"backgroundcolor\":\"#E5ECF6\",\"gridcolor\":\"white\",\"linecolor\":\"white\",\"showbackground\":true,\"ticks\":\"\",\"zerolinecolor\":\"white\",\"gridwidth\":2}},\"shapedefaults\":{\"line\":{\"color\":\"#2a3f5f\"}},\"annotationdefaults\":{\"arrowcolor\":\"#2a3f5f\",\"arrowhead\":0,\"arrowwidth\":1},\"geo\":{\"bgcolor\":\"white\",\"landcolor\":\"#E5ECF6\",\"subunitcolor\":\"white\",\"showland\":true,\"showlakes\":true,\"lakecolor\":\"white\"},\"title\":{\"x\":0.05},\"mapbox\":{\"style\":\"light\"}}}},                        {\"responsive\": true}                    ).then(function(){\n",
       "                            \n",
       "var gd = document.getElementById('de61adfa-ec9c-401b-8b76-7548755a20f8');\n",
       "var x = new MutationObserver(function (mutations, observer) {{\n",
       "        var display = window.getComputedStyle(gd).display;\n",
       "        if (!display || display === 'none') {{\n",
       "            console.log([gd, 'removed!']);\n",
       "            Plotly.purge(gd);\n",
       "            observer.disconnect();\n",
       "        }}\n",
       "}});\n",
       "\n",
       "// Listen for the removal of the full notebook cells\n",
       "var notebookContainer = gd.closest('#notebook-container');\n",
       "if (notebookContainer) {{\n",
       "    x.observe(notebookContainer, {childList: true});\n",
       "}}\n",
       "\n",
       "// Listen for the clearing of the current output cell\n",
       "var outputEl = gd.closest('.output');\n",
       "if (outputEl) {{\n",
       "    x.observe(outputEl, {childList: true});\n",
       "}}\n",
       "\n",
       "                        })                };                });            </script>        </div>"
      ]
     },
     "metadata": {},
     "output_type": "display_data"
    }
   ],
   "source": [
    "cell_colors = [['white' if j == 0 or j == 1 else 'green' if val else 'red' for val in my_dataframe[col]] for j, col in enumerate(my_dataframe.columns)]\n",
    "\n",
    "fig = go.Figure(data=[go.Table(\n",
    "    header=dict(values=list(my_dataframe.columns)),\n",
    "    cells=dict(values=[my_dataframe[col] for col in my_dataframe.columns],\n",
    "               fill_color=cell_colors)\n",
    "               )])\n",
    "\n",
    "fig.show()"
   ]
  },
  {
   "cell_type": "markdown",
   "metadata": {},
   "source": [
    "Volume"
   ]
  },
  {
   "cell_type": "code",
   "execution_count": 336,
   "metadata": {
    "vscode": {
     "languageId": "shellscript"
    }
   },
   "outputs": [
    {
     "name": "stdout",
     "output_type": "stream",
     "text": [
      "\n",
      "\n",
      "\n"
     ]
    }
   ],
   "source": [
    "dico_aseg_list = {}\n",
    "# dico_aseg_list['session'] = []\n",
    "# dico_aseg_list['subjects'] = []\n",
    "dico_aseg_list['values'] = []\n",
    "dico_aseg_list['label'] = []\n",
    "\n",
    "for sub in dico_atlas.keys():\n",
    "    # dico_aseg_list['subjects'].append(sub.split('*')[0])\n",
    "    # dico_aseg_list['session'].append(sub.split('*')[1])\n",
    "    if 'aseg' in dico_atlas[sub].keys():\n",
    "        # print(dico_atlas[sub]['aseg'])\n",
    "        df = dico_atlas[sub]['aseg']\n",
    "        # Filtrer les lignes avec measurement égal à \"Volume_mm3\"\n",
    "        df_volume = df[df['measurement'] == 'Volume_mm3']\n",
    "        # Supprimer la colonne \"measurement\"\n",
    "        df_volume = df_volume.drop(columns=['measurement'])\n",
    "        # Transposer le DataFrame\n",
    "        df_transpose = df_volume.set_index('region').T\n",
    "        # Réinitialiser les index pour obtenir une mise en forme correcte\n",
    "        df_transpose.reset_index(drop=True, inplace=True)\n",
    "        dico_aseg_list['label'].append(['subjects', 'session'] + list(df_transpose.columns))\n",
    "        dico_aseg_list['values'].append([sub.split('*')[0], sub.split('*')[1]] + list(df_transpose.iloc[0]))\n",
    "        print()\n",
    "\n",
    "    else:\n",
    "        # dico_aseg_list['label'].append(['subjects', 'session'] + 59*[0])\n",
    "        dico_aseg_list['values'].append([sub.split('*')[0], sub.split('*')[1]] + + 59*[0])"
   ]
  },
  {
   "cell_type": "code",
   "execution_count": 337,
   "metadata": {
    "vscode": {
     "languageId": "shellscript"
    }
   },
   "outputs": [],
   "source": [
    "my_dataframe2 = pd.DataFrame(dico_aseg_list['values'])\n",
    "my_dataframe2.columns = dico_aseg_list['label'][0]"
   ]
  },
  {
   "cell_type": "code",
   "execution_count": 359,
   "metadata": {
    "vscode": {
     "languageId": "shellscript"
    }
   },
   "outputs": [],
   "source": [
    "my_dataframe3 = my_dataframe2.T\n",
    "my_dataframe3.columns = my_dataframe3.iloc[0]\n",
    "\n",
    "# Supprimez la première ligne car elle est maintenant utilisée comme noms de colonne\n",
    "my_dataframe3 = my_dataframe3[2:]\n",
    "# my_dataframe3.columns.values[0] = \"ROI\"\n"
   ]
  },
  {
   "cell_type": "code",
   "execution_count": 360,
   "metadata": {
    "vscode": {
     "languageId": "shellscript"
    }
   },
   "outputs": [
    {
     "data": {
      "text/html": [
       "<div>\n",
       "<style scoped>\n",
       "    .dataframe tbody tr th:only-of-type {\n",
       "        vertical-align: middle;\n",
       "    }\n",
       "\n",
       "    .dataframe tbody tr th {\n",
       "        vertical-align: top;\n",
       "    }\n",
       "\n",
       "    .dataframe thead th {\n",
       "        text-align: right;\n",
       "    }\n",
       "</style>\n",
       "<table border=\"1\" class=\"dataframe\">\n",
       "  <thead>\n",
       "    <tr style=\"text-align: right;\">\n",
       "      <th>subjects</th>\n",
       "      <th>01_55_L_M</th>\n",
       "      <th>01_45_B-N</th>\n",
       "      <th>01_45_B-N</th>\n",
       "      <th>01_85_G-S</th>\n",
       "      <th>01-59-P-V</th>\n",
       "      <th>01-68-P-N</th>\n",
       "      <th>01-75-R-S</th>\n",
       "      <th>01-63-B-K</th>\n",
       "      <th>01_77_B_B</th>\n",
       "      <th>01_86_P-L</th>\n",
       "      <th>...</th>\n",
       "      <th>01-56-C-D</th>\n",
       "      <th>01_84_GM</th>\n",
       "      <th>01-46_L-J</th>\n",
       "      <th>01-78-M-C</th>\n",
       "      <th>01_52_B-L</th>\n",
       "      <th>01_41_CL</th>\n",
       "      <th>01_50_D-A</th>\n",
       "      <th>01-66-L-Q</th>\n",
       "      <th>01_58_T_A</th>\n",
       "      <th>01_73_A_M</th>\n",
       "    </tr>\n",
       "  </thead>\n",
       "  <tbody>\n",
       "    <tr>\n",
       "      <th>BrainSegVol</th>\n",
       "      <td>0.0</td>\n",
       "      <td>0.0</td>\n",
       "      <td>0.0</td>\n",
       "      <td>0.0</td>\n",
       "      <td>1022580.374364</td>\n",
       "      <td>924666.84967</td>\n",
       "      <td>0.0</td>\n",
       "      <td>0.0</td>\n",
       "      <td>0.0</td>\n",
       "      <td>0.0</td>\n",
       "      <td>...</td>\n",
       "      <td>0.0</td>\n",
       "      <td>0.0</td>\n",
       "      <td>0.0</td>\n",
       "      <td>0.0</td>\n",
       "      <td>0.0</td>\n",
       "      <td>0.0</td>\n",
       "      <td>0.0</td>\n",
       "      <td>1072931.244242</td>\n",
       "      <td>0.0</td>\n",
       "      <td>0.0</td>\n",
       "    </tr>\n",
       "    <tr>\n",
       "      <th>BrainSegVolNotVent</th>\n",
       "      <td>0.0</td>\n",
       "      <td>0.0</td>\n",
       "      <td>0.0</td>\n",
       "      <td>0.0</td>\n",
       "      <td>980107.281317</td>\n",
       "      <td>903439.346811</td>\n",
       "      <td>0.0</td>\n",
       "      <td>0.0</td>\n",
       "      <td>0.0</td>\n",
       "      <td>0.0</td>\n",
       "      <td>...</td>\n",
       "      <td>0.0</td>\n",
       "      <td>0.0</td>\n",
       "      <td>0.0</td>\n",
       "      <td>0.0</td>\n",
       "      <td>0.0</td>\n",
       "      <td>0.0</td>\n",
       "      <td>0.0</td>\n",
       "      <td>1042570.916668</td>\n",
       "      <td>0.0</td>\n",
       "      <td>0.0</td>\n",
       "    </tr>\n",
       "    <tr>\n",
       "      <th>VentricleChoroidVol</th>\n",
       "      <td>0.0</td>\n",
       "      <td>0.0</td>\n",
       "      <td>0.0</td>\n",
       "      <td>0.0</td>\n",
       "      <td>36647.69615</td>\n",
       "      <td>17805.592883</td>\n",
       "      <td>0.0</td>\n",
       "      <td>0.0</td>\n",
       "      <td>0.0</td>\n",
       "      <td>0.0</td>\n",
       "      <td>...</td>\n",
       "      <td>0.0</td>\n",
       "      <td>0.0</td>\n",
       "      <td>0.0</td>\n",
       "      <td>0.0</td>\n",
       "      <td>0.0</td>\n",
       "      <td>0.0</td>\n",
       "      <td>0.0</td>\n",
       "      <td>25576.548073</td>\n",
       "      <td>0.0</td>\n",
       "      <td>0.0</td>\n",
       "    </tr>\n",
       "    <tr>\n",
       "      <th>lhCortexVol</th>\n",
       "      <td>0.0</td>\n",
       "      <td>0.0</td>\n",
       "      <td>0.0</td>\n",
       "      <td>0.0</td>\n",
       "      <td>204580.125985</td>\n",
       "      <td>192301.355968</td>\n",
       "      <td>0.0</td>\n",
       "      <td>0.0</td>\n",
       "      <td>0.0</td>\n",
       "      <td>0.0</td>\n",
       "      <td>...</td>\n",
       "      <td>0.0</td>\n",
       "      <td>0.0</td>\n",
       "      <td>0.0</td>\n",
       "      <td>0.0</td>\n",
       "      <td>0.0</td>\n",
       "      <td>0.0</td>\n",
       "      <td>0.0</td>\n",
       "      <td>204876.401487</td>\n",
       "      <td>0.0</td>\n",
       "      <td>0.0</td>\n",
       "    </tr>\n",
       "    <tr>\n",
       "      <th>rhCortexVol</th>\n",
       "      <td>0.0</td>\n",
       "      <td>0.0</td>\n",
       "      <td>0.0</td>\n",
       "      <td>0.0</td>\n",
       "      <td>213219.579237</td>\n",
       "      <td>191040.035488</td>\n",
       "      <td>0.0</td>\n",
       "      <td>0.0</td>\n",
       "      <td>0.0</td>\n",
       "      <td>0.0</td>\n",
       "      <td>...</td>\n",
       "      <td>0.0</td>\n",
       "      <td>0.0</td>\n",
       "      <td>0.0</td>\n",
       "      <td>0.0</td>\n",
       "      <td>0.0</td>\n",
       "      <td>0.0</td>\n",
       "      <td>0.0</td>\n",
       "      <td>209801.86332</td>\n",
       "      <td>0.0</td>\n",
       "      <td>0.0</td>\n",
       "    </tr>\n",
       "    <tr>\n",
       "      <th>lhCerebralWhiteMatterVol</th>\n",
       "      <td>0.0</td>\n",
       "      <td>0.0</td>\n",
       "      <td>0.0</td>\n",
       "      <td>0.0</td>\n",
       "      <td>196262.102864</td>\n",
       "      <td>186254.064186</td>\n",
       "      <td>0.0</td>\n",
       "      <td>0.0</td>\n",
       "      <td>0.0</td>\n",
       "      <td>0.0</td>\n",
       "      <td>...</td>\n",
       "      <td>0.0</td>\n",
       "      <td>0.0</td>\n",
       "      <td>0.0</td>\n",
       "      <td>0.0</td>\n",
       "      <td>0.0</td>\n",
       "      <td>0.0</td>\n",
       "      <td>0.0</td>\n",
       "      <td>225695.507993</td>\n",
       "      <td>0.0</td>\n",
       "      <td>0.0</td>\n",
       "    </tr>\n",
       "    <tr>\n",
       "      <th>rhCerebralWhiteMatterVol</th>\n",
       "      <td>0.0</td>\n",
       "      <td>0.0</td>\n",
       "      <td>0.0</td>\n",
       "      <td>0.0</td>\n",
       "      <td>206063.094817</td>\n",
       "      <td>186594.74436</td>\n",
       "      <td>0.0</td>\n",
       "      <td>0.0</td>\n",
       "      <td>0.0</td>\n",
       "      <td>0.0</td>\n",
       "      <td>...</td>\n",
       "      <td>0.0</td>\n",
       "      <td>0.0</td>\n",
       "      <td>0.0</td>\n",
       "      <td>0.0</td>\n",
       "      <td>0.0</td>\n",
       "      <td>0.0</td>\n",
       "      <td>0.0</td>\n",
       "      <td>224281.291607</td>\n",
       "      <td>0.0</td>\n",
       "      <td>0.0</td>\n",
       "    </tr>\n",
       "    <tr>\n",
       "      <th>CerebralWhiteMatterVol</th>\n",
       "      <td>0.0</td>\n",
       "      <td>0.0</td>\n",
       "      <td>0.0</td>\n",
       "      <td>0.0</td>\n",
       "      <td>402325.197681</td>\n",
       "      <td>372848.808545</td>\n",
       "      <td>0.0</td>\n",
       "      <td>0.0</td>\n",
       "      <td>0.0</td>\n",
       "      <td>0.0</td>\n",
       "      <td>...</td>\n",
       "      <td>0.0</td>\n",
       "      <td>0.0</td>\n",
       "      <td>0.0</td>\n",
       "      <td>0.0</td>\n",
       "      <td>0.0</td>\n",
       "      <td>0.0</td>\n",
       "      <td>0.0</td>\n",
       "      <td>449976.799601</td>\n",
       "      <td>0.0</td>\n",
       "      <td>0.0</td>\n",
       "    </tr>\n",
       "    <tr>\n",
       "      <th>SubCortGrayVol</th>\n",
       "      <td>0.0</td>\n",
       "      <td>0.0</td>\n",
       "      <td>0.0</td>\n",
       "      <td>0.0</td>\n",
       "      <td>44579.309386</td>\n",
       "      <td>47839.710148</td>\n",
       "      <td>0.0</td>\n",
       "      <td>0.0</td>\n",
       "      <td>0.0</td>\n",
       "      <td>0.0</td>\n",
       "      <td>...</td>\n",
       "      <td>0.0</td>\n",
       "      <td>0.0</td>\n",
       "      <td>0.0</td>\n",
       "      <td>0.0</td>\n",
       "      <td>0.0</td>\n",
       "      <td>0.0</td>\n",
       "      <td>0.0</td>\n",
       "      <td>52740.738104</td>\n",
       "      <td>0.0</td>\n",
       "      <td>0.0</td>\n",
       "    </tr>\n",
       "    <tr>\n",
       "      <th>TotalGrayVol</th>\n",
       "      <td>0.0</td>\n",
       "      <td>0.0</td>\n",
       "      <td>0.0</td>\n",
       "      <td>0.0</td>\n",
       "      <td>557499.642814</td>\n",
       "      <td>509031.309091</td>\n",
       "      <td>0.0</td>\n",
       "      <td>0.0</td>\n",
       "      <td>0.0</td>\n",
       "      <td>0.0</td>\n",
       "      <td>...</td>\n",
       "      <td>0.0</td>\n",
       "      <td>0.0</td>\n",
       "      <td>0.0</td>\n",
       "      <td>0.0</td>\n",
       "      <td>0.0</td>\n",
       "      <td>0.0</td>\n",
       "      <td>0.0</td>\n",
       "      <td>566747.807952</td>\n",
       "      <td>0.0</td>\n",
       "      <td>0.0</td>\n",
       "    </tr>\n",
       "    <tr>\n",
       "      <th>SupraTentorialVol</th>\n",
       "      <td>0.0</td>\n",
       "      <td>0.0</td>\n",
       "      <td>0.0</td>\n",
       "      <td>0.0</td>\n",
       "      <td>907305.992304</td>\n",
       "      <td>825551.687911</td>\n",
       "      <td>0.0</td>\n",
       "      <td>0.0</td>\n",
       "      <td>0.0</td>\n",
       "      <td>0.0</td>\n",
       "      <td>...</td>\n",
       "      <td>0.0</td>\n",
       "      <td>0.0</td>\n",
       "      <td>0.0</td>\n",
       "      <td>0.0</td>\n",
       "      <td>0.0</td>\n",
       "      <td>0.0</td>\n",
       "      <td>0.0</td>\n",
       "      <td>947874.383144</td>\n",
       "      <td>0.0</td>\n",
       "      <td>0.0</td>\n",
       "    </tr>\n",
       "    <tr>\n",
       "      <th>SupraTentorialVolNotVent</th>\n",
       "      <td>0.0</td>\n",
       "      <td>0.0</td>\n",
       "      <td>0.0</td>\n",
       "      <td>0.0</td>\n",
       "      <td>864832.899257</td>\n",
       "      <td>804324.185052</td>\n",
       "      <td>0.0</td>\n",
       "      <td>0.0</td>\n",
       "      <td>0.0</td>\n",
       "      <td>0.0</td>\n",
       "      <td>...</td>\n",
       "      <td>0.0</td>\n",
       "      <td>0.0</td>\n",
       "      <td>0.0</td>\n",
       "      <td>0.0</td>\n",
       "      <td>0.0</td>\n",
       "      <td>0.0</td>\n",
       "      <td>0.0</td>\n",
       "      <td>917514.055569</td>\n",
       "      <td>0.0</td>\n",
       "      <td>0.0</td>\n",
       "    </tr>\n",
       "    <tr>\n",
       "      <th>MaskVol</th>\n",
       "      <td>0.0</td>\n",
       "      <td>0.0</td>\n",
       "      <td>0.0</td>\n",
       "      <td>0.0</td>\n",
       "      <td>1165105.127261</td>\n",
       "      <td>1057417.848005</td>\n",
       "      <td>0.0</td>\n",
       "      <td>0.0</td>\n",
       "      <td>0.0</td>\n",
       "      <td>0.0</td>\n",
       "      <td>...</td>\n",
       "      <td>0.0</td>\n",
       "      <td>0.0</td>\n",
       "      <td>0.0</td>\n",
       "      <td>0.0</td>\n",
       "      <td>0.0</td>\n",
       "      <td>0.0</td>\n",
       "      <td>0.0</td>\n",
       "      <td>1210426.017162</td>\n",
       "      <td>0.0</td>\n",
       "      <td>0.0</td>\n",
       "    </tr>\n",
       "    <tr>\n",
       "      <th>eTIV</th>\n",
       "      <td>0.0</td>\n",
       "      <td>0.0</td>\n",
       "      <td>0.0</td>\n",
       "      <td>0.0</td>\n",
       "      <td>987811.52958</td>\n",
       "      <td>852998.703136</td>\n",
       "      <td>0.0</td>\n",
       "      <td>0.0</td>\n",
       "      <td>0.0</td>\n",
       "      <td>0.0</td>\n",
       "      <td>...</td>\n",
       "      <td>0.0</td>\n",
       "      <td>0.0</td>\n",
       "      <td>0.0</td>\n",
       "      <td>0.0</td>\n",
       "      <td>0.0</td>\n",
       "      <td>0.0</td>\n",
       "      <td>0.0</td>\n",
       "      <td>960030.227245</td>\n",
       "      <td>0.0</td>\n",
       "      <td>0.0</td>\n",
       "    </tr>\n",
       "    <tr>\n",
       "      <th>Left-Lateral-Ventricle</th>\n",
       "      <td>0</td>\n",
       "      <td>0</td>\n",
       "      <td>0</td>\n",
       "      <td>0</td>\n",
       "      <td>15105.8</td>\n",
       "      <td>9840.9</td>\n",
       "      <td>0</td>\n",
       "      <td>0</td>\n",
       "      <td>0</td>\n",
       "      <td>0</td>\n",
       "      <td>...</td>\n",
       "      <td>0</td>\n",
       "      <td>0</td>\n",
       "      <td>0</td>\n",
       "      <td>0</td>\n",
       "      <td>0</td>\n",
       "      <td>0</td>\n",
       "      <td>0</td>\n",
       "      <td>11839.9</td>\n",
       "      <td>0</td>\n",
       "      <td>0</td>\n",
       "    </tr>\n",
       "    <tr>\n",
       "      <th>Left-Inf-Lat-Vent</th>\n",
       "      <td>0</td>\n",
       "      <td>0</td>\n",
       "      <td>0</td>\n",
       "      <td>0</td>\n",
       "      <td>716.0</td>\n",
       "      <td>539.7</td>\n",
       "      <td>0</td>\n",
       "      <td>0</td>\n",
       "      <td>0</td>\n",
       "      <td>0</td>\n",
       "      <td>...</td>\n",
       "      <td>0</td>\n",
       "      <td>0</td>\n",
       "      <td>0</td>\n",
       "      <td>0</td>\n",
       "      <td>0</td>\n",
       "      <td>0</td>\n",
       "      <td>0</td>\n",
       "      <td>350.1</td>\n",
       "      <td>0</td>\n",
       "      <td>0</td>\n",
       "    </tr>\n",
       "    <tr>\n",
       "      <th>Left-Cerebellum-White-Matter</th>\n",
       "      <td>0</td>\n",
       "      <td>0</td>\n",
       "      <td>0</td>\n",
       "      <td>0</td>\n",
       "      <td>10939.2</td>\n",
       "      <td>11146.3</td>\n",
       "      <td>0</td>\n",
       "      <td>0</td>\n",
       "      <td>0</td>\n",
       "      <td>0</td>\n",
       "      <td>...</td>\n",
       "      <td>0</td>\n",
       "      <td>0</td>\n",
       "      <td>0</td>\n",
       "      <td>0</td>\n",
       "      <td>0</td>\n",
       "      <td>0</td>\n",
       "      <td>0</td>\n",
       "      <td>13703.1</td>\n",
       "      <td>0</td>\n",
       "      <td>0</td>\n",
       "    </tr>\n",
       "    <tr>\n",
       "      <th>Left-Cerebellum-Cortex</th>\n",
       "      <td>0</td>\n",
       "      <td>0</td>\n",
       "      <td>0</td>\n",
       "      <td>0</td>\n",
       "      <td>47175.7</td>\n",
       "      <td>39232.4</td>\n",
       "      <td>0</td>\n",
       "      <td>0</td>\n",
       "      <td>0</td>\n",
       "      <td>0</td>\n",
       "      <td>...</td>\n",
       "      <td>0</td>\n",
       "      <td>0</td>\n",
       "      <td>0</td>\n",
       "      <td>0</td>\n",
       "      <td>0</td>\n",
       "      <td>0</td>\n",
       "      <td>0</td>\n",
       "      <td>49633.8</td>\n",
       "      <td>0</td>\n",
       "      <td>0</td>\n",
       "    </tr>\n",
       "    <tr>\n",
       "      <th>Left-Thalamus</th>\n",
       "      <td>0</td>\n",
       "      <td>0</td>\n",
       "      <td>0</td>\n",
       "      <td>0</td>\n",
       "      <td>5938.8</td>\n",
       "      <td>6516.9</td>\n",
       "      <td>0</td>\n",
       "      <td>0</td>\n",
       "      <td>0</td>\n",
       "      <td>0</td>\n",
       "      <td>...</td>\n",
       "      <td>0</td>\n",
       "      <td>0</td>\n",
       "      <td>0</td>\n",
       "      <td>0</td>\n",
       "      <td>0</td>\n",
       "      <td>0</td>\n",
       "      <td>0</td>\n",
       "      <td>6780.6</td>\n",
       "      <td>0</td>\n",
       "      <td>0</td>\n",
       "    </tr>\n",
       "    <tr>\n",
       "      <th>Left-Caudate</th>\n",
       "      <td>0</td>\n",
       "      <td>0</td>\n",
       "      <td>0</td>\n",
       "      <td>0</td>\n",
       "      <td>2556.0</td>\n",
       "      <td>2883.6</td>\n",
       "      <td>0</td>\n",
       "      <td>0</td>\n",
       "      <td>0</td>\n",
       "      <td>0</td>\n",
       "      <td>...</td>\n",
       "      <td>0</td>\n",
       "      <td>0</td>\n",
       "      <td>0</td>\n",
       "      <td>0</td>\n",
       "      <td>0</td>\n",
       "      <td>0</td>\n",
       "      <td>0</td>\n",
       "      <td>3430.6</td>\n",
       "      <td>0</td>\n",
       "      <td>0</td>\n",
       "    </tr>\n",
       "    <tr>\n",
       "      <th>Left-Putamen</th>\n",
       "      <td>0</td>\n",
       "      <td>0</td>\n",
       "      <td>0</td>\n",
       "      <td>0</td>\n",
       "      <td>3897.8</td>\n",
       "      <td>4242.9</td>\n",
       "      <td>0</td>\n",
       "      <td>0</td>\n",
       "      <td>0</td>\n",
       "      <td>0</td>\n",
       "      <td>...</td>\n",
       "      <td>0</td>\n",
       "      <td>0</td>\n",
       "      <td>0</td>\n",
       "      <td>0</td>\n",
       "      <td>0</td>\n",
       "      <td>0</td>\n",
       "      <td>0</td>\n",
       "      <td>4588.4</td>\n",
       "      <td>0</td>\n",
       "      <td>0</td>\n",
       "    </tr>\n",
       "    <tr>\n",
       "      <th>Left-Pallidum</th>\n",
       "      <td>0</td>\n",
       "      <td>0</td>\n",
       "      <td>0</td>\n",
       "      <td>0</td>\n",
       "      <td>1442.1</td>\n",
       "      <td>1724.8</td>\n",
       "      <td>0</td>\n",
       "      <td>0</td>\n",
       "      <td>0</td>\n",
       "      <td>0</td>\n",
       "      <td>...</td>\n",
       "      <td>0</td>\n",
       "      <td>0</td>\n",
       "      <td>0</td>\n",
       "      <td>0</td>\n",
       "      <td>0</td>\n",
       "      <td>0</td>\n",
       "      <td>0</td>\n",
       "      <td>1756.0</td>\n",
       "      <td>0</td>\n",
       "      <td>0</td>\n",
       "    </tr>\n",
       "    <tr>\n",
       "      <th>3rd-Ventricle</th>\n",
       "      <td>0</td>\n",
       "      <td>0</td>\n",
       "      <td>0</td>\n",
       "      <td>0</td>\n",
       "      <td>1892.2</td>\n",
       "      <td>894.5</td>\n",
       "      <td>0</td>\n",
       "      <td>0</td>\n",
       "      <td>0</td>\n",
       "      <td>0</td>\n",
       "      <td>...</td>\n",
       "      <td>0</td>\n",
       "      <td>0</td>\n",
       "      <td>0</td>\n",
       "      <td>0</td>\n",
       "      <td>0</td>\n",
       "      <td>0</td>\n",
       "      <td>0</td>\n",
       "      <td>1055.2</td>\n",
       "      <td>0</td>\n",
       "      <td>0</td>\n",
       "    </tr>\n",
       "    <tr>\n",
       "      <th>4th-Ventricle</th>\n",
       "      <td>0</td>\n",
       "      <td>0</td>\n",
       "      <td>0</td>\n",
       "      <td>0</td>\n",
       "      <td>3017.1</td>\n",
       "      <td>1673.8</td>\n",
       "      <td>0</td>\n",
       "      <td>0</td>\n",
       "      <td>0</td>\n",
       "      <td>0</td>\n",
       "      <td>...</td>\n",
       "      <td>0</td>\n",
       "      <td>0</td>\n",
       "      <td>0</td>\n",
       "      <td>0</td>\n",
       "      <td>0</td>\n",
       "      <td>0</td>\n",
       "      <td>0</td>\n",
       "      <td>2279.8</td>\n",
       "      <td>0</td>\n",
       "      <td>0</td>\n",
       "    </tr>\n",
       "    <tr>\n",
       "      <th>Brain-Stem</th>\n",
       "      <td>0</td>\n",
       "      <td>0</td>\n",
       "      <td>0</td>\n",
       "      <td>0</td>\n",
       "      <td>16357.3</td>\n",
       "      <td>17220.1</td>\n",
       "      <td>0</td>\n",
       "      <td>0</td>\n",
       "      <td>0</td>\n",
       "      <td>0</td>\n",
       "      <td>...</td>\n",
       "      <td>0</td>\n",
       "      <td>0</td>\n",
       "      <td>0</td>\n",
       "      <td>0</td>\n",
       "      <td>0</td>\n",
       "      <td>0</td>\n",
       "      <td>0</td>\n",
       "      <td>19417.9</td>\n",
       "      <td>0</td>\n",
       "      <td>0</td>\n",
       "    </tr>\n",
       "    <tr>\n",
       "      <th>Left-Hippocampus</th>\n",
       "      <td>0</td>\n",
       "      <td>0</td>\n",
       "      <td>0</td>\n",
       "      <td>0</td>\n",
       "      <td>3046.7</td>\n",
       "      <td>3320.6</td>\n",
       "      <td>0</td>\n",
       "      <td>0</td>\n",
       "      <td>0</td>\n",
       "      <td>0</td>\n",
       "      <td>...</td>\n",
       "      <td>0</td>\n",
       "      <td>0</td>\n",
       "      <td>0</td>\n",
       "      <td>0</td>\n",
       "      <td>0</td>\n",
       "      <td>0</td>\n",
       "      <td>0</td>\n",
       "      <td>3806.2</td>\n",
       "      <td>0</td>\n",
       "      <td>0</td>\n",
       "    </tr>\n",
       "    <tr>\n",
       "      <th>Left-Amygdala</th>\n",
       "      <td>0</td>\n",
       "      <td>0</td>\n",
       "      <td>0</td>\n",
       "      <td>0</td>\n",
       "      <td>876.5</td>\n",
       "      <td>991.1</td>\n",
       "      <td>0</td>\n",
       "      <td>0</td>\n",
       "      <td>0</td>\n",
       "      <td>0</td>\n",
       "      <td>...</td>\n",
       "      <td>0</td>\n",
       "      <td>0</td>\n",
       "      <td>0</td>\n",
       "      <td>0</td>\n",
       "      <td>0</td>\n",
       "      <td>0</td>\n",
       "      <td>0</td>\n",
       "      <td>1276.6</td>\n",
       "      <td>0</td>\n",
       "      <td>0</td>\n",
       "    </tr>\n",
       "    <tr>\n",
       "      <th>CSF</th>\n",
       "      <td>0</td>\n",
       "      <td>0</td>\n",
       "      <td>0</td>\n",
       "      <td>0</td>\n",
       "      <td>791.3</td>\n",
       "      <td>739.1</td>\n",
       "      <td>0</td>\n",
       "      <td>0</td>\n",
       "      <td>0</td>\n",
       "      <td>0</td>\n",
       "      <td>...</td>\n",
       "      <td>0</td>\n",
       "      <td>0</td>\n",
       "      <td>0</td>\n",
       "      <td>0</td>\n",
       "      <td>0</td>\n",
       "      <td>0</td>\n",
       "      <td>0</td>\n",
       "      <td>1420.2</td>\n",
       "      <td>0</td>\n",
       "      <td>0</td>\n",
       "    </tr>\n",
       "    <tr>\n",
       "      <th>Left-Accumbens-area</th>\n",
       "      <td>0</td>\n",
       "      <td>0</td>\n",
       "      <td>0</td>\n",
       "      <td>0</td>\n",
       "      <td>343.7</td>\n",
       "      <td>424.0</td>\n",
       "      <td>0</td>\n",
       "      <td>0</td>\n",
       "      <td>0</td>\n",
       "      <td>0</td>\n",
       "      <td>...</td>\n",
       "      <td>0</td>\n",
       "      <td>0</td>\n",
       "      <td>0</td>\n",
       "      <td>0</td>\n",
       "      <td>0</td>\n",
       "      <td>0</td>\n",
       "      <td>0</td>\n",
       "      <td>675.4</td>\n",
       "      <td>0</td>\n",
       "      <td>0</td>\n",
       "    </tr>\n",
       "    <tr>\n",
       "      <th>Left-VentralDC</th>\n",
       "      <td>0</td>\n",
       "      <td>0</td>\n",
       "      <td>0</td>\n",
       "      <td>0</td>\n",
       "      <td>3548.8</td>\n",
       "      <td>3669.3</td>\n",
       "      <td>0</td>\n",
       "      <td>0</td>\n",
       "      <td>0</td>\n",
       "      <td>0</td>\n",
       "      <td>...</td>\n",
       "      <td>0</td>\n",
       "      <td>0</td>\n",
       "      <td>0</td>\n",
       "      <td>0</td>\n",
       "      <td>0</td>\n",
       "      <td>0</td>\n",
       "      <td>0</td>\n",
       "      <td>3773.4</td>\n",
       "      <td>0</td>\n",
       "      <td>0</td>\n",
       "    </tr>\n",
       "    <tr>\n",
       "      <th>Left-vessel</th>\n",
       "      <td>0</td>\n",
       "      <td>0</td>\n",
       "      <td>0</td>\n",
       "      <td>0</td>\n",
       "      <td>25.5</td>\n",
       "      <td>34.1</td>\n",
       "      <td>0</td>\n",
       "      <td>0</td>\n",
       "      <td>0</td>\n",
       "      <td>0</td>\n",
       "      <td>...</td>\n",
       "      <td>0</td>\n",
       "      <td>0</td>\n",
       "      <td>0</td>\n",
       "      <td>0</td>\n",
       "      <td>0</td>\n",
       "      <td>0</td>\n",
       "      <td>0</td>\n",
       "      <td>59.1</td>\n",
       "      <td>0</td>\n",
       "      <td>0</td>\n",
       "    </tr>\n",
       "    <tr>\n",
       "      <th>Left-choroid-plexus</th>\n",
       "      <td>0</td>\n",
       "      <td>0</td>\n",
       "      <td>0</td>\n",
       "      <td>0</td>\n",
       "      <td>253.5</td>\n",
       "      <td>217.6</td>\n",
       "      <td>0</td>\n",
       "      <td>0</td>\n",
       "      <td>0</td>\n",
       "      <td>0</td>\n",
       "      <td>...</td>\n",
       "      <td>0</td>\n",
       "      <td>0</td>\n",
       "      <td>0</td>\n",
       "      <td>0</td>\n",
       "      <td>0</td>\n",
       "      <td>0</td>\n",
       "      <td>0</td>\n",
       "      <td>413.2</td>\n",
       "      <td>0</td>\n",
       "      <td>0</td>\n",
       "    </tr>\n",
       "    <tr>\n",
       "      <th>Right-Lateral-Ventricle</th>\n",
       "      <td>0</td>\n",
       "      <td>0</td>\n",
       "      <td>0</td>\n",
       "      <td>0</td>\n",
       "      <td>19138.5</td>\n",
       "      <td>6175.3</td>\n",
       "      <td>0</td>\n",
       "      <td>0</td>\n",
       "      <td>0</td>\n",
       "      <td>0</td>\n",
       "      <td>...</td>\n",
       "      <td>0</td>\n",
       "      <td>0</td>\n",
       "      <td>0</td>\n",
       "      <td>0</td>\n",
       "      <td>0</td>\n",
       "      <td>0</td>\n",
       "      <td>0</td>\n",
       "      <td>11893.7</td>\n",
       "      <td>0</td>\n",
       "      <td>0</td>\n",
       "    </tr>\n",
       "    <tr>\n",
       "      <th>Right-Inf-Lat-Vent</th>\n",
       "      <td>0</td>\n",
       "      <td>0</td>\n",
       "      <td>0</td>\n",
       "      <td>0</td>\n",
       "      <td>885.3</td>\n",
       "      <td>558.4</td>\n",
       "      <td>0</td>\n",
       "      <td>0</td>\n",
       "      <td>0</td>\n",
       "      <td>0</td>\n",
       "      <td>...</td>\n",
       "      <td>0</td>\n",
       "      <td>0</td>\n",
       "      <td>0</td>\n",
       "      <td>0</td>\n",
       "      <td>0</td>\n",
       "      <td>0</td>\n",
       "      <td>0</td>\n",
       "      <td>550.1</td>\n",
       "      <td>0</td>\n",
       "      <td>0</td>\n",
       "    </tr>\n",
       "    <tr>\n",
       "      <th>Right-Cerebellum-White-Matter</th>\n",
       "      <td>0</td>\n",
       "      <td>0</td>\n",
       "      <td>0</td>\n",
       "      <td>0</td>\n",
       "      <td>10097.9</td>\n",
       "      <td>10936.6</td>\n",
       "      <td>0</td>\n",
       "      <td>0</td>\n",
       "      <td>0</td>\n",
       "      <td>0</td>\n",
       "      <td>...</td>\n",
       "      <td>0</td>\n",
       "      <td>0</td>\n",
       "      <td>0</td>\n",
       "      <td>0</td>\n",
       "      <td>0</td>\n",
       "      <td>0</td>\n",
       "      <td>0</td>\n",
       "      <td>12839.1</td>\n",
       "      <td>0</td>\n",
       "      <td>0</td>\n",
       "    </tr>\n",
       "    <tr>\n",
       "      <th>Right-Cerebellum-Cortex</th>\n",
       "      <td>0</td>\n",
       "      <td>0</td>\n",
       "      <td>0</td>\n",
       "      <td>0</td>\n",
       "      <td>48530.6</td>\n",
       "      <td>39212.3</td>\n",
       "      <td>0</td>\n",
       "      <td>0</td>\n",
       "      <td>0</td>\n",
       "      <td>0</td>\n",
       "      <td>...</td>\n",
       "      <td>0</td>\n",
       "      <td>0</td>\n",
       "      <td>0</td>\n",
       "      <td>0</td>\n",
       "      <td>0</td>\n",
       "      <td>0</td>\n",
       "      <td>0</td>\n",
       "      <td>50158.1</td>\n",
       "      <td>0</td>\n",
       "      <td>0</td>\n",
       "    </tr>\n",
       "    <tr>\n",
       "      <th>Right-Thalamus</th>\n",
       "      <td>0</td>\n",
       "      <td>0</td>\n",
       "      <td>0</td>\n",
       "      <td>0</td>\n",
       "      <td>5663.2</td>\n",
       "      <td>6479.4</td>\n",
       "      <td>0</td>\n",
       "      <td>0</td>\n",
       "      <td>0</td>\n",
       "      <td>0</td>\n",
       "      <td>...</td>\n",
       "      <td>0</td>\n",
       "      <td>0</td>\n",
       "      <td>0</td>\n",
       "      <td>0</td>\n",
       "      <td>0</td>\n",
       "      <td>0</td>\n",
       "      <td>0</td>\n",
       "      <td>6798.0</td>\n",
       "      <td>0</td>\n",
       "      <td>0</td>\n",
       "    </tr>\n",
       "    <tr>\n",
       "      <th>Right-Caudate</th>\n",
       "      <td>0</td>\n",
       "      <td>0</td>\n",
       "      <td>0</td>\n",
       "      <td>0</td>\n",
       "      <td>3087.6</td>\n",
       "      <td>2796.3</td>\n",
       "      <td>0</td>\n",
       "      <td>0</td>\n",
       "      <td>0</td>\n",
       "      <td>0</td>\n",
       "      <td>...</td>\n",
       "      <td>0</td>\n",
       "      <td>0</td>\n",
       "      <td>0</td>\n",
       "      <td>0</td>\n",
       "      <td>0</td>\n",
       "      <td>0</td>\n",
       "      <td>0</td>\n",
       "      <td>3851.9</td>\n",
       "      <td>0</td>\n",
       "      <td>0</td>\n",
       "    </tr>\n",
       "    <tr>\n",
       "      <th>Right-Putamen</th>\n",
       "      <td>0</td>\n",
       "      <td>0</td>\n",
       "      <td>0</td>\n",
       "      <td>0</td>\n",
       "      <td>4192.2</td>\n",
       "      <td>4196.5</td>\n",
       "      <td>0</td>\n",
       "      <td>0</td>\n",
       "      <td>0</td>\n",
       "      <td>0</td>\n",
       "      <td>...</td>\n",
       "      <td>0</td>\n",
       "      <td>0</td>\n",
       "      <td>0</td>\n",
       "      <td>0</td>\n",
       "      <td>0</td>\n",
       "      <td>0</td>\n",
       "      <td>0</td>\n",
       "      <td>4664.8</td>\n",
       "      <td>0</td>\n",
       "      <td>0</td>\n",
       "    </tr>\n",
       "    <tr>\n",
       "      <th>Right-Pallidum</th>\n",
       "      <td>0</td>\n",
       "      <td>0</td>\n",
       "      <td>0</td>\n",
       "      <td>0</td>\n",
       "      <td>1430.1</td>\n",
       "      <td>1663.2</td>\n",
       "      <td>0</td>\n",
       "      <td>0</td>\n",
       "      <td>0</td>\n",
       "      <td>0</td>\n",
       "      <td>...</td>\n",
       "      <td>0</td>\n",
       "      <td>0</td>\n",
       "      <td>0</td>\n",
       "      <td>0</td>\n",
       "      <td>0</td>\n",
       "      <td>0</td>\n",
       "      <td>0</td>\n",
       "      <td>1671.0</td>\n",
       "      <td>0</td>\n",
       "      <td>0</td>\n",
       "    </tr>\n",
       "    <tr>\n",
       "      <th>Right-Hippocampus</th>\n",
       "      <td>0</td>\n",
       "      <td>0</td>\n",
       "      <td>0</td>\n",
       "      <td>0</td>\n",
       "      <td>3053.9</td>\n",
       "      <td>3622.6</td>\n",
       "      <td>0</td>\n",
       "      <td>0</td>\n",
       "      <td>0</td>\n",
       "      <td>0</td>\n",
       "      <td>...</td>\n",
       "      <td>0</td>\n",
       "      <td>0</td>\n",
       "      <td>0</td>\n",
       "      <td>0</td>\n",
       "      <td>0</td>\n",
       "      <td>0</td>\n",
       "      <td>0</td>\n",
       "      <td>3671.2</td>\n",
       "      <td>0</td>\n",
       "      <td>0</td>\n",
       "    </tr>\n",
       "    <tr>\n",
       "      <th>Right-Amygdala</th>\n",
       "      <td>0</td>\n",
       "      <td>0</td>\n",
       "      <td>0</td>\n",
       "      <td>0</td>\n",
       "      <td>1488.5</td>\n",
       "      <td>1204.2</td>\n",
       "      <td>0</td>\n",
       "      <td>0</td>\n",
       "      <td>0</td>\n",
       "      <td>0</td>\n",
       "      <td>...</td>\n",
       "      <td>0</td>\n",
       "      <td>0</td>\n",
       "      <td>0</td>\n",
       "      <td>0</td>\n",
       "      <td>0</td>\n",
       "      <td>0</td>\n",
       "      <td>0</td>\n",
       "      <td>1269.4</td>\n",
       "      <td>0</td>\n",
       "      <td>0</td>\n",
       "    </tr>\n",
       "    <tr>\n",
       "      <th>Right-Accumbens-area</th>\n",
       "      <td>0</td>\n",
       "      <td>0</td>\n",
       "      <td>0</td>\n",
       "      <td>0</td>\n",
       "      <td>260.7</td>\n",
       "      <td>362.1</td>\n",
       "      <td>0</td>\n",
       "      <td>0</td>\n",
       "      <td>0</td>\n",
       "      <td>0</td>\n",
       "      <td>...</td>\n",
       "      <td>0</td>\n",
       "      <td>0</td>\n",
       "      <td>0</td>\n",
       "      <td>0</td>\n",
       "      <td>0</td>\n",
       "      <td>0</td>\n",
       "      <td>0</td>\n",
       "      <td>591.4</td>\n",
       "      <td>0</td>\n",
       "      <td>0</td>\n",
       "    </tr>\n",
       "    <tr>\n",
       "      <th>Right-VentralDC</th>\n",
       "      <td>0</td>\n",
       "      <td>0</td>\n",
       "      <td>0</td>\n",
       "      <td>0</td>\n",
       "      <td>3491.2</td>\n",
       "      <td>3665.9</td>\n",
       "      <td>0</td>\n",
       "      <td>0</td>\n",
       "      <td>0</td>\n",
       "      <td>0</td>\n",
       "      <td>...</td>\n",
       "      <td>0</td>\n",
       "      <td>0</td>\n",
       "      <td>0</td>\n",
       "      <td>0</td>\n",
       "      <td>0</td>\n",
       "      <td>0</td>\n",
       "      <td>0</td>\n",
       "      <td>3993.5</td>\n",
       "      <td>0</td>\n",
       "      <td>0</td>\n",
       "    </tr>\n",
       "    <tr>\n",
       "      <th>Right-vessel</th>\n",
       "      <td>0</td>\n",
       "      <td>0</td>\n",
       "      <td>0</td>\n",
       "      <td>0</td>\n",
       "      <td>35.7</td>\n",
       "      <td>22.0</td>\n",
       "      <td>0</td>\n",
       "      <td>0</td>\n",
       "      <td>0</td>\n",
       "      <td>0</td>\n",
       "      <td>...</td>\n",
       "      <td>0</td>\n",
       "      <td>0</td>\n",
       "      <td>0</td>\n",
       "      <td>0</td>\n",
       "      <td>0</td>\n",
       "      <td>0</td>\n",
       "      <td>0</td>\n",
       "      <td>37.6</td>\n",
       "      <td>0</td>\n",
       "      <td>0</td>\n",
       "    </tr>\n",
       "    <tr>\n",
       "      <th>Right-choroid-plexus</th>\n",
       "      <td>0</td>\n",
       "      <td>0</td>\n",
       "      <td>0</td>\n",
       "      <td>0</td>\n",
       "      <td>303.9</td>\n",
       "      <td>285.6</td>\n",
       "      <td>0</td>\n",
       "      <td>0</td>\n",
       "      <td>0</td>\n",
       "      <td>0</td>\n",
       "      <td>...</td>\n",
       "      <td>0</td>\n",
       "      <td>0</td>\n",
       "      <td>0</td>\n",
       "      <td>0</td>\n",
       "      <td>0</td>\n",
       "      <td>0</td>\n",
       "      <td>0</td>\n",
       "      <td>517.6</td>\n",
       "      <td>0</td>\n",
       "      <td>0</td>\n",
       "    </tr>\n",
       "    <tr>\n",
       "      <th>5th-Ventricle</th>\n",
       "      <td>0</td>\n",
       "      <td>0</td>\n",
       "      <td>0</td>\n",
       "      <td>0</td>\n",
       "      <td>0.0</td>\n",
       "      <td>0.0</td>\n",
       "      <td>0</td>\n",
       "      <td>0</td>\n",
       "      <td>0</td>\n",
       "      <td>0</td>\n",
       "      <td>...</td>\n",
       "      <td>0</td>\n",
       "      <td>0</td>\n",
       "      <td>0</td>\n",
       "      <td>0</td>\n",
       "      <td>0</td>\n",
       "      <td>0</td>\n",
       "      <td>0</td>\n",
       "      <td>0.0</td>\n",
       "      <td>0</td>\n",
       "      <td>0</td>\n",
       "    </tr>\n",
       "    <tr>\n",
       "      <th>WM-hypointensities</th>\n",
       "      <td>0</td>\n",
       "      <td>0</td>\n",
       "      <td>0</td>\n",
       "      <td>0</td>\n",
       "      <td>1603.0</td>\n",
       "      <td>1084.0</td>\n",
       "      <td>0</td>\n",
       "      <td>0</td>\n",
       "      <td>0</td>\n",
       "      <td>0</td>\n",
       "      <td>...</td>\n",
       "      <td>0</td>\n",
       "      <td>0</td>\n",
       "      <td>0</td>\n",
       "      <td>0</td>\n",
       "      <td>0</td>\n",
       "      <td>0</td>\n",
       "      <td>0</td>\n",
       "      <td>677.0</td>\n",
       "      <td>0</td>\n",
       "      <td>0</td>\n",
       "    </tr>\n",
       "    <tr>\n",
       "      <th>Left-WM-hypointensities</th>\n",
       "      <td>0</td>\n",
       "      <td>0</td>\n",
       "      <td>0</td>\n",
       "      <td>0</td>\n",
       "      <td>0.0</td>\n",
       "      <td>0.0</td>\n",
       "      <td>0</td>\n",
       "      <td>0</td>\n",
       "      <td>0</td>\n",
       "      <td>0</td>\n",
       "      <td>...</td>\n",
       "      <td>0</td>\n",
       "      <td>0</td>\n",
       "      <td>0</td>\n",
       "      <td>0</td>\n",
       "      <td>0</td>\n",
       "      <td>0</td>\n",
       "      <td>0</td>\n",
       "      <td>0.0</td>\n",
       "      <td>0</td>\n",
       "      <td>0</td>\n",
       "    </tr>\n",
       "    <tr>\n",
       "      <th>Right-WM-hypointensities</th>\n",
       "      <td>0</td>\n",
       "      <td>0</td>\n",
       "      <td>0</td>\n",
       "      <td>0</td>\n",
       "      <td>0.0</td>\n",
       "      <td>0.0</td>\n",
       "      <td>0</td>\n",
       "      <td>0</td>\n",
       "      <td>0</td>\n",
       "      <td>0</td>\n",
       "      <td>...</td>\n",
       "      <td>0</td>\n",
       "      <td>0</td>\n",
       "      <td>0</td>\n",
       "      <td>0</td>\n",
       "      <td>0</td>\n",
       "      <td>0</td>\n",
       "      <td>0</td>\n",
       "      <td>0.0</td>\n",
       "      <td>0</td>\n",
       "      <td>0</td>\n",
       "    </tr>\n",
       "    <tr>\n",
       "      <th>non-WM-hypointensities</th>\n",
       "      <td>0</td>\n",
       "      <td>0</td>\n",
       "      <td>0</td>\n",
       "      <td>0</td>\n",
       "      <td>0.0</td>\n",
       "      <td>0.0</td>\n",
       "      <td>0</td>\n",
       "      <td>0</td>\n",
       "      <td>0</td>\n",
       "      <td>0</td>\n",
       "      <td>...</td>\n",
       "      <td>0</td>\n",
       "      <td>0</td>\n",
       "      <td>0</td>\n",
       "      <td>0</td>\n",
       "      <td>0</td>\n",
       "      <td>0</td>\n",
       "      <td>0</td>\n",
       "      <td>5.9</td>\n",
       "      <td>0</td>\n",
       "      <td>0</td>\n",
       "    </tr>\n",
       "    <tr>\n",
       "      <th>Left-non-WM-hypointensities</th>\n",
       "      <td>0</td>\n",
       "      <td>0</td>\n",
       "      <td>0</td>\n",
       "      <td>0</td>\n",
       "      <td>0.0</td>\n",
       "      <td>0.0</td>\n",
       "      <td>0</td>\n",
       "      <td>0</td>\n",
       "      <td>0</td>\n",
       "      <td>0</td>\n",
       "      <td>...</td>\n",
       "      <td>0</td>\n",
       "      <td>0</td>\n",
       "      <td>0</td>\n",
       "      <td>0</td>\n",
       "      <td>0</td>\n",
       "      <td>0</td>\n",
       "      <td>0</td>\n",
       "      <td>0.0</td>\n",
       "      <td>0</td>\n",
       "      <td>0</td>\n",
       "    </tr>\n",
       "    <tr>\n",
       "      <th>Right-non-WM-hypointensities</th>\n",
       "      <td>0</td>\n",
       "      <td>0</td>\n",
       "      <td>0</td>\n",
       "      <td>0</td>\n",
       "      <td>0.0</td>\n",
       "      <td>0.0</td>\n",
       "      <td>0</td>\n",
       "      <td>0</td>\n",
       "      <td>0</td>\n",
       "      <td>0</td>\n",
       "      <td>...</td>\n",
       "      <td>0</td>\n",
       "      <td>0</td>\n",
       "      <td>0</td>\n",
       "      <td>0</td>\n",
       "      <td>0</td>\n",
       "      <td>0</td>\n",
       "      <td>0</td>\n",
       "      <td>0.0</td>\n",
       "      <td>0</td>\n",
       "      <td>0</td>\n",
       "    </tr>\n",
       "    <tr>\n",
       "      <th>Optic-Chiasm</th>\n",
       "      <td>0</td>\n",
       "      <td>0</td>\n",
       "      <td>0</td>\n",
       "      <td>0</td>\n",
       "      <td>144.5</td>\n",
       "      <td>144.0</td>\n",
       "      <td>0</td>\n",
       "      <td>0</td>\n",
       "      <td>0</td>\n",
       "      <td>0</td>\n",
       "      <td>...</td>\n",
       "      <td>0</td>\n",
       "      <td>0</td>\n",
       "      <td>0</td>\n",
       "      <td>0</td>\n",
       "      <td>0</td>\n",
       "      <td>0</td>\n",
       "      <td>0</td>\n",
       "      <td>200.9</td>\n",
       "      <td>0</td>\n",
       "      <td>0</td>\n",
       "    </tr>\n",
       "    <tr>\n",
       "      <th>CC_Posterior</th>\n",
       "      <td>0</td>\n",
       "      <td>0</td>\n",
       "      <td>0</td>\n",
       "      <td>0</td>\n",
       "      <td>311.7</td>\n",
       "      <td>314.2</td>\n",
       "      <td>0</td>\n",
       "      <td>0</td>\n",
       "      <td>0</td>\n",
       "      <td>0</td>\n",
       "      <td>...</td>\n",
       "      <td>0</td>\n",
       "      <td>0</td>\n",
       "      <td>0</td>\n",
       "      <td>0</td>\n",
       "      <td>0</td>\n",
       "      <td>0</td>\n",
       "      <td>0</td>\n",
       "      <td>639.6</td>\n",
       "      <td>0</td>\n",
       "      <td>0</td>\n",
       "    </tr>\n",
       "    <tr>\n",
       "      <th>CC_Mid_Posterior</th>\n",
       "      <td>0</td>\n",
       "      <td>0</td>\n",
       "      <td>0</td>\n",
       "      <td>0</td>\n",
       "      <td>184.6</td>\n",
       "      <td>100.5</td>\n",
       "      <td>0</td>\n",
       "      <td>0</td>\n",
       "      <td>0</td>\n",
       "      <td>0</td>\n",
       "      <td>...</td>\n",
       "      <td>0</td>\n",
       "      <td>0</td>\n",
       "      <td>0</td>\n",
       "      <td>0</td>\n",
       "      <td>0</td>\n",
       "      <td>0</td>\n",
       "      <td>0</td>\n",
       "      <td>296.1</td>\n",
       "      <td>0</td>\n",
       "      <td>0</td>\n",
       "    </tr>\n",
       "    <tr>\n",
       "      <th>CC_Central</th>\n",
       "      <td>0</td>\n",
       "      <td>0</td>\n",
       "      <td>0</td>\n",
       "      <td>0</td>\n",
       "      <td>165.8</td>\n",
       "      <td>183.1</td>\n",
       "      <td>0</td>\n",
       "      <td>0</td>\n",
       "      <td>0</td>\n",
       "      <td>0</td>\n",
       "      <td>...</td>\n",
       "      <td>0</td>\n",
       "      <td>0</td>\n",
       "      <td>0</td>\n",
       "      <td>0</td>\n",
       "      <td>0</td>\n",
       "      <td>0</td>\n",
       "      <td>0</td>\n",
       "      <td>309.1</td>\n",
       "      <td>0</td>\n",
       "      <td>0</td>\n",
       "    </tr>\n",
       "    <tr>\n",
       "      <th>CC_Mid_Anterior</th>\n",
       "      <td>0</td>\n",
       "      <td>0</td>\n",
       "      <td>0</td>\n",
       "      <td>0</td>\n",
       "      <td>172.5</td>\n",
       "      <td>171.0</td>\n",
       "      <td>0</td>\n",
       "      <td>0</td>\n",
       "      <td>0</td>\n",
       "      <td>0</td>\n",
       "      <td>...</td>\n",
       "      <td>0</td>\n",
       "      <td>0</td>\n",
       "      <td>0</td>\n",
       "      <td>0</td>\n",
       "      <td>0</td>\n",
       "      <td>0</td>\n",
       "      <td>0</td>\n",
       "      <td>308.0</td>\n",
       "      <td>0</td>\n",
       "      <td>0</td>\n",
       "    </tr>\n",
       "    <tr>\n",
       "      <th>CC_Anterior</th>\n",
       "      <td>0</td>\n",
       "      <td>0</td>\n",
       "      <td>0</td>\n",
       "      <td>0</td>\n",
       "      <td>136.2</td>\n",
       "      <td>373.5</td>\n",
       "      <td>0</td>\n",
       "      <td>0</td>\n",
       "      <td>0</td>\n",
       "      <td>0</td>\n",
       "      <td>...</td>\n",
       "      <td>0</td>\n",
       "      <td>0</td>\n",
       "      <td>0</td>\n",
       "      <td>0</td>\n",
       "      <td>0</td>\n",
       "      <td>0</td>\n",
       "      <td>0</td>\n",
       "      <td>609.3</td>\n",
       "      <td>0</td>\n",
       "      <td>0</td>\n",
       "    </tr>\n",
       "  </tbody>\n",
       "</table>\n",
       "<p>59 rows × 34 columns</p>\n",
       "</div>"
      ],
      "text/plain": [
       "subjects                      01_55_L_M 01_45_B-N 01_45_B-N 01_85_G-S  \\\n",
       "BrainSegVol                         0.0       0.0       0.0       0.0   \n",
       "BrainSegVolNotVent                  0.0       0.0       0.0       0.0   \n",
       "VentricleChoroidVol                 0.0       0.0       0.0       0.0   \n",
       "lhCortexVol                         0.0       0.0       0.0       0.0   \n",
       "rhCortexVol                         0.0       0.0       0.0       0.0   \n",
       "lhCerebralWhiteMatterVol            0.0       0.0       0.0       0.0   \n",
       "rhCerebralWhiteMatterVol            0.0       0.0       0.0       0.0   \n",
       "CerebralWhiteMatterVol              0.0       0.0       0.0       0.0   \n",
       "SubCortGrayVol                      0.0       0.0       0.0       0.0   \n",
       "TotalGrayVol                        0.0       0.0       0.0       0.0   \n",
       "SupraTentorialVol                   0.0       0.0       0.0       0.0   \n",
       "SupraTentorialVolNotVent            0.0       0.0       0.0       0.0   \n",
       "MaskVol                             0.0       0.0       0.0       0.0   \n",
       "eTIV                                0.0       0.0       0.0       0.0   \n",
       "Left-Lateral-Ventricle                0         0         0         0   \n",
       "Left-Inf-Lat-Vent                     0         0         0         0   \n",
       "Left-Cerebellum-White-Matter          0         0         0         0   \n",
       "Left-Cerebellum-Cortex                0         0         0         0   \n",
       "Left-Thalamus                         0         0         0         0   \n",
       "Left-Caudate                          0         0         0         0   \n",
       "Left-Putamen                          0         0         0         0   \n",
       "Left-Pallidum                         0         0         0         0   \n",
       "3rd-Ventricle                         0         0         0         0   \n",
       "4th-Ventricle                         0         0         0         0   \n",
       "Brain-Stem                            0         0         0         0   \n",
       "Left-Hippocampus                      0         0         0         0   \n",
       "Left-Amygdala                         0         0         0         0   \n",
       "CSF                                   0         0         0         0   \n",
       "Left-Accumbens-area                   0         0         0         0   \n",
       "Left-VentralDC                        0         0         0         0   \n",
       "Left-vessel                           0         0         0         0   \n",
       "Left-choroid-plexus                   0         0         0         0   \n",
       "Right-Lateral-Ventricle               0         0         0         0   \n",
       "Right-Inf-Lat-Vent                    0         0         0         0   \n",
       "Right-Cerebellum-White-Matter         0         0         0         0   \n",
       "Right-Cerebellum-Cortex               0         0         0         0   \n",
       "Right-Thalamus                        0         0         0         0   \n",
       "Right-Caudate                         0         0         0         0   \n",
       "Right-Putamen                         0         0         0         0   \n",
       "Right-Pallidum                        0         0         0         0   \n",
       "Right-Hippocampus                     0         0         0         0   \n",
       "Right-Amygdala                        0         0         0         0   \n",
       "Right-Accumbens-area                  0         0         0         0   \n",
       "Right-VentralDC                       0         0         0         0   \n",
       "Right-vessel                          0         0         0         0   \n",
       "Right-choroid-plexus                  0         0         0         0   \n",
       "5th-Ventricle                         0         0         0         0   \n",
       "WM-hypointensities                    0         0         0         0   \n",
       "Left-WM-hypointensities               0         0         0         0   \n",
       "Right-WM-hypointensities              0         0         0         0   \n",
       "non-WM-hypointensities                0         0         0         0   \n",
       "Left-non-WM-hypointensities           0         0         0         0   \n",
       "Right-non-WM-hypointensities          0         0         0         0   \n",
       "Optic-Chiasm                          0         0         0         0   \n",
       "CC_Posterior                          0         0         0         0   \n",
       "CC_Mid_Posterior                      0         0         0         0   \n",
       "CC_Central                            0         0         0         0   \n",
       "CC_Mid_Anterior                       0         0         0         0   \n",
       "CC_Anterior                           0         0         0         0   \n",
       "\n",
       "subjects                            01-59-P-V       01-68-P-N 01-75-R-S  \\\n",
       "BrainSegVol                    1022580.374364    924666.84967       0.0   \n",
       "BrainSegVolNotVent              980107.281317   903439.346811       0.0   \n",
       "VentricleChoroidVol               36647.69615    17805.592883       0.0   \n",
       "lhCortexVol                     204580.125985   192301.355968       0.0   \n",
       "rhCortexVol                     213219.579237   191040.035488       0.0   \n",
       "lhCerebralWhiteMatterVol        196262.102864   186254.064186       0.0   \n",
       "rhCerebralWhiteMatterVol        206063.094817    186594.74436       0.0   \n",
       "CerebralWhiteMatterVol          402325.197681   372848.808545       0.0   \n",
       "SubCortGrayVol                   44579.309386    47839.710148       0.0   \n",
       "TotalGrayVol                    557499.642814   509031.309091       0.0   \n",
       "SupraTentorialVol               907305.992304   825551.687911       0.0   \n",
       "SupraTentorialVolNotVent        864832.899257   804324.185052       0.0   \n",
       "MaskVol                        1165105.127261  1057417.848005       0.0   \n",
       "eTIV                             987811.52958   852998.703136       0.0   \n",
       "Left-Lateral-Ventricle                15105.8          9840.9         0   \n",
       "Left-Inf-Lat-Vent                       716.0           539.7         0   \n",
       "Left-Cerebellum-White-Matter          10939.2         11146.3         0   \n",
       "Left-Cerebellum-Cortex                47175.7         39232.4         0   \n",
       "Left-Thalamus                          5938.8          6516.9         0   \n",
       "Left-Caudate                           2556.0          2883.6         0   \n",
       "Left-Putamen                           3897.8          4242.9         0   \n",
       "Left-Pallidum                          1442.1          1724.8         0   \n",
       "3rd-Ventricle                          1892.2           894.5         0   \n",
       "4th-Ventricle                          3017.1          1673.8         0   \n",
       "Brain-Stem                            16357.3         17220.1         0   \n",
       "Left-Hippocampus                       3046.7          3320.6         0   \n",
       "Left-Amygdala                           876.5           991.1         0   \n",
       "CSF                                     791.3           739.1         0   \n",
       "Left-Accumbens-area                     343.7           424.0         0   \n",
       "Left-VentralDC                         3548.8          3669.3         0   \n",
       "Left-vessel                              25.5            34.1         0   \n",
       "Left-choroid-plexus                     253.5           217.6         0   \n",
       "Right-Lateral-Ventricle               19138.5          6175.3         0   \n",
       "Right-Inf-Lat-Vent                      885.3           558.4         0   \n",
       "Right-Cerebellum-White-Matter         10097.9         10936.6         0   \n",
       "Right-Cerebellum-Cortex               48530.6         39212.3         0   \n",
       "Right-Thalamus                         5663.2          6479.4         0   \n",
       "Right-Caudate                          3087.6          2796.3         0   \n",
       "Right-Putamen                          4192.2          4196.5         0   \n",
       "Right-Pallidum                         1430.1          1663.2         0   \n",
       "Right-Hippocampus                      3053.9          3622.6         0   \n",
       "Right-Amygdala                         1488.5          1204.2         0   \n",
       "Right-Accumbens-area                    260.7           362.1         0   \n",
       "Right-VentralDC                        3491.2          3665.9         0   \n",
       "Right-vessel                             35.7            22.0         0   \n",
       "Right-choroid-plexus                    303.9           285.6         0   \n",
       "5th-Ventricle                             0.0             0.0         0   \n",
       "WM-hypointensities                     1603.0          1084.0         0   \n",
       "Left-WM-hypointensities                   0.0             0.0         0   \n",
       "Right-WM-hypointensities                  0.0             0.0         0   \n",
       "non-WM-hypointensities                    0.0             0.0         0   \n",
       "Left-non-WM-hypointensities               0.0             0.0         0   \n",
       "Right-non-WM-hypointensities              0.0             0.0         0   \n",
       "Optic-Chiasm                            144.5           144.0         0   \n",
       "CC_Posterior                            311.7           314.2         0   \n",
       "CC_Mid_Posterior                        184.6           100.5         0   \n",
       "CC_Central                              165.8           183.1         0   \n",
       "CC_Mid_Anterior                         172.5           171.0         0   \n",
       "CC_Anterior                             136.2           373.5         0   \n",
       "\n",
       "subjects                      01-63-B-K 01_77_B_B 01_86_P-L  ... 01-56-C-D  \\\n",
       "BrainSegVol                         0.0       0.0       0.0  ...       0.0   \n",
       "BrainSegVolNotVent                  0.0       0.0       0.0  ...       0.0   \n",
       "VentricleChoroidVol                 0.0       0.0       0.0  ...       0.0   \n",
       "lhCortexVol                         0.0       0.0       0.0  ...       0.0   \n",
       "rhCortexVol                         0.0       0.0       0.0  ...       0.0   \n",
       "lhCerebralWhiteMatterVol            0.0       0.0       0.0  ...       0.0   \n",
       "rhCerebralWhiteMatterVol            0.0       0.0       0.0  ...       0.0   \n",
       "CerebralWhiteMatterVol              0.0       0.0       0.0  ...       0.0   \n",
       "SubCortGrayVol                      0.0       0.0       0.0  ...       0.0   \n",
       "TotalGrayVol                        0.0       0.0       0.0  ...       0.0   \n",
       "SupraTentorialVol                   0.0       0.0       0.0  ...       0.0   \n",
       "SupraTentorialVolNotVent            0.0       0.0       0.0  ...       0.0   \n",
       "MaskVol                             0.0       0.0       0.0  ...       0.0   \n",
       "eTIV                                0.0       0.0       0.0  ...       0.0   \n",
       "Left-Lateral-Ventricle                0         0         0  ...         0   \n",
       "Left-Inf-Lat-Vent                     0         0         0  ...         0   \n",
       "Left-Cerebellum-White-Matter          0         0         0  ...         0   \n",
       "Left-Cerebellum-Cortex                0         0         0  ...         0   \n",
       "Left-Thalamus                         0         0         0  ...         0   \n",
       "Left-Caudate                          0         0         0  ...         0   \n",
       "Left-Putamen                          0         0         0  ...         0   \n",
       "Left-Pallidum                         0         0         0  ...         0   \n",
       "3rd-Ventricle                         0         0         0  ...         0   \n",
       "4th-Ventricle                         0         0         0  ...         0   \n",
       "Brain-Stem                            0         0         0  ...         0   \n",
       "Left-Hippocampus                      0         0         0  ...         0   \n",
       "Left-Amygdala                         0         0         0  ...         0   \n",
       "CSF                                   0         0         0  ...         0   \n",
       "Left-Accumbens-area                   0         0         0  ...         0   \n",
       "Left-VentralDC                        0         0         0  ...         0   \n",
       "Left-vessel                           0         0         0  ...         0   \n",
       "Left-choroid-plexus                   0         0         0  ...         0   \n",
       "Right-Lateral-Ventricle               0         0         0  ...         0   \n",
       "Right-Inf-Lat-Vent                    0         0         0  ...         0   \n",
       "Right-Cerebellum-White-Matter         0         0         0  ...         0   \n",
       "Right-Cerebellum-Cortex               0         0         0  ...         0   \n",
       "Right-Thalamus                        0         0         0  ...         0   \n",
       "Right-Caudate                         0         0         0  ...         0   \n",
       "Right-Putamen                         0         0         0  ...         0   \n",
       "Right-Pallidum                        0         0         0  ...         0   \n",
       "Right-Hippocampus                     0         0         0  ...         0   \n",
       "Right-Amygdala                        0         0         0  ...         0   \n",
       "Right-Accumbens-area                  0         0         0  ...         0   \n",
       "Right-VentralDC                       0         0         0  ...         0   \n",
       "Right-vessel                          0         0         0  ...         0   \n",
       "Right-choroid-plexus                  0         0         0  ...         0   \n",
       "5th-Ventricle                         0         0         0  ...         0   \n",
       "WM-hypointensities                    0         0         0  ...         0   \n",
       "Left-WM-hypointensities               0         0         0  ...         0   \n",
       "Right-WM-hypointensities              0         0         0  ...         0   \n",
       "non-WM-hypointensities                0         0         0  ...         0   \n",
       "Left-non-WM-hypointensities           0         0         0  ...         0   \n",
       "Right-non-WM-hypointensities          0         0         0  ...         0   \n",
       "Optic-Chiasm                          0         0         0  ...         0   \n",
       "CC_Posterior                          0         0         0  ...         0   \n",
       "CC_Mid_Posterior                      0         0         0  ...         0   \n",
       "CC_Central                            0         0         0  ...         0   \n",
       "CC_Mid_Anterior                       0         0         0  ...         0   \n",
       "CC_Anterior                           0         0         0  ...         0   \n",
       "\n",
       "subjects                      01_84_GM 01-46_L-J 01-78-M-C 01_52_B-L 01_41_CL  \\\n",
       "BrainSegVol                        0.0       0.0       0.0       0.0      0.0   \n",
       "BrainSegVolNotVent                 0.0       0.0       0.0       0.0      0.0   \n",
       "VentricleChoroidVol                0.0       0.0       0.0       0.0      0.0   \n",
       "lhCortexVol                        0.0       0.0       0.0       0.0      0.0   \n",
       "rhCortexVol                        0.0       0.0       0.0       0.0      0.0   \n",
       "lhCerebralWhiteMatterVol           0.0       0.0       0.0       0.0      0.0   \n",
       "rhCerebralWhiteMatterVol           0.0       0.0       0.0       0.0      0.0   \n",
       "CerebralWhiteMatterVol             0.0       0.0       0.0       0.0      0.0   \n",
       "SubCortGrayVol                     0.0       0.0       0.0       0.0      0.0   \n",
       "TotalGrayVol                       0.0       0.0       0.0       0.0      0.0   \n",
       "SupraTentorialVol                  0.0       0.0       0.0       0.0      0.0   \n",
       "SupraTentorialVolNotVent           0.0       0.0       0.0       0.0      0.0   \n",
       "MaskVol                            0.0       0.0       0.0       0.0      0.0   \n",
       "eTIV                               0.0       0.0       0.0       0.0      0.0   \n",
       "Left-Lateral-Ventricle               0         0         0         0        0   \n",
       "Left-Inf-Lat-Vent                    0         0         0         0        0   \n",
       "Left-Cerebellum-White-Matter         0         0         0         0        0   \n",
       "Left-Cerebellum-Cortex               0         0         0         0        0   \n",
       "Left-Thalamus                        0         0         0         0        0   \n",
       "Left-Caudate                         0         0         0         0        0   \n",
       "Left-Putamen                         0         0         0         0        0   \n",
       "Left-Pallidum                        0         0         0         0        0   \n",
       "3rd-Ventricle                        0         0         0         0        0   \n",
       "4th-Ventricle                        0         0         0         0        0   \n",
       "Brain-Stem                           0         0         0         0        0   \n",
       "Left-Hippocampus                     0         0         0         0        0   \n",
       "Left-Amygdala                        0         0         0         0        0   \n",
       "CSF                                  0         0         0         0        0   \n",
       "Left-Accumbens-area                  0         0         0         0        0   \n",
       "Left-VentralDC                       0         0         0         0        0   \n",
       "Left-vessel                          0         0         0         0        0   \n",
       "Left-choroid-plexus                  0         0         0         0        0   \n",
       "Right-Lateral-Ventricle              0         0         0         0        0   \n",
       "Right-Inf-Lat-Vent                   0         0         0         0        0   \n",
       "Right-Cerebellum-White-Matter        0         0         0         0        0   \n",
       "Right-Cerebellum-Cortex              0         0         0         0        0   \n",
       "Right-Thalamus                       0         0         0         0        0   \n",
       "Right-Caudate                        0         0         0         0        0   \n",
       "Right-Putamen                        0         0         0         0        0   \n",
       "Right-Pallidum                       0         0         0         0        0   \n",
       "Right-Hippocampus                    0         0         0         0        0   \n",
       "Right-Amygdala                       0         0         0         0        0   \n",
       "Right-Accumbens-area                 0         0         0         0        0   \n",
       "Right-VentralDC                      0         0         0         0        0   \n",
       "Right-vessel                         0         0         0         0        0   \n",
       "Right-choroid-plexus                 0         0         0         0        0   \n",
       "5th-Ventricle                        0         0         0         0        0   \n",
       "WM-hypointensities                   0         0         0         0        0   \n",
       "Left-WM-hypointensities              0         0         0         0        0   \n",
       "Right-WM-hypointensities             0         0         0         0        0   \n",
       "non-WM-hypointensities               0         0         0         0        0   \n",
       "Left-non-WM-hypointensities          0         0         0         0        0   \n",
       "Right-non-WM-hypointensities         0         0         0         0        0   \n",
       "Optic-Chiasm                         0         0         0         0        0   \n",
       "CC_Posterior                         0         0         0         0        0   \n",
       "CC_Mid_Posterior                     0         0         0         0        0   \n",
       "CC_Central                           0         0         0         0        0   \n",
       "CC_Mid_Anterior                      0         0         0         0        0   \n",
       "CC_Anterior                          0         0         0         0        0   \n",
       "\n",
       "subjects                      01_50_D-A       01-66-L-Q 01_58_T_A 01_73_A_M  \n",
       "BrainSegVol                         0.0  1072931.244242       0.0       0.0  \n",
       "BrainSegVolNotVent                  0.0  1042570.916668       0.0       0.0  \n",
       "VentricleChoroidVol                 0.0    25576.548073       0.0       0.0  \n",
       "lhCortexVol                         0.0   204876.401487       0.0       0.0  \n",
       "rhCortexVol                         0.0    209801.86332       0.0       0.0  \n",
       "lhCerebralWhiteMatterVol            0.0   225695.507993       0.0       0.0  \n",
       "rhCerebralWhiteMatterVol            0.0   224281.291607       0.0       0.0  \n",
       "CerebralWhiteMatterVol              0.0   449976.799601       0.0       0.0  \n",
       "SubCortGrayVol                      0.0    52740.738104       0.0       0.0  \n",
       "TotalGrayVol                        0.0   566747.807952       0.0       0.0  \n",
       "SupraTentorialVol                   0.0   947874.383144       0.0       0.0  \n",
       "SupraTentorialVolNotVent            0.0   917514.055569       0.0       0.0  \n",
       "MaskVol                             0.0  1210426.017162       0.0       0.0  \n",
       "eTIV                                0.0   960030.227245       0.0       0.0  \n",
       "Left-Lateral-Ventricle                0         11839.9         0         0  \n",
       "Left-Inf-Lat-Vent                     0           350.1         0         0  \n",
       "Left-Cerebellum-White-Matter          0         13703.1         0         0  \n",
       "Left-Cerebellum-Cortex                0         49633.8         0         0  \n",
       "Left-Thalamus                         0          6780.6         0         0  \n",
       "Left-Caudate                          0          3430.6         0         0  \n",
       "Left-Putamen                          0          4588.4         0         0  \n",
       "Left-Pallidum                         0          1756.0         0         0  \n",
       "3rd-Ventricle                         0          1055.2         0         0  \n",
       "4th-Ventricle                         0          2279.8         0         0  \n",
       "Brain-Stem                            0         19417.9         0         0  \n",
       "Left-Hippocampus                      0          3806.2         0         0  \n",
       "Left-Amygdala                         0          1276.6         0         0  \n",
       "CSF                                   0          1420.2         0         0  \n",
       "Left-Accumbens-area                   0           675.4         0         0  \n",
       "Left-VentralDC                        0          3773.4         0         0  \n",
       "Left-vessel                           0            59.1         0         0  \n",
       "Left-choroid-plexus                   0           413.2         0         0  \n",
       "Right-Lateral-Ventricle               0         11893.7         0         0  \n",
       "Right-Inf-Lat-Vent                    0           550.1         0         0  \n",
       "Right-Cerebellum-White-Matter         0         12839.1         0         0  \n",
       "Right-Cerebellum-Cortex               0         50158.1         0         0  \n",
       "Right-Thalamus                        0          6798.0         0         0  \n",
       "Right-Caudate                         0          3851.9         0         0  \n",
       "Right-Putamen                         0          4664.8         0         0  \n",
       "Right-Pallidum                        0          1671.0         0         0  \n",
       "Right-Hippocampus                     0          3671.2         0         0  \n",
       "Right-Amygdala                        0          1269.4         0         0  \n",
       "Right-Accumbens-area                  0           591.4         0         0  \n",
       "Right-VentralDC                       0          3993.5         0         0  \n",
       "Right-vessel                          0            37.6         0         0  \n",
       "Right-choroid-plexus                  0           517.6         0         0  \n",
       "5th-Ventricle                         0             0.0         0         0  \n",
       "WM-hypointensities                    0           677.0         0         0  \n",
       "Left-WM-hypointensities               0             0.0         0         0  \n",
       "Right-WM-hypointensities              0             0.0         0         0  \n",
       "non-WM-hypointensities                0             5.9         0         0  \n",
       "Left-non-WM-hypointensities           0             0.0         0         0  \n",
       "Right-non-WM-hypointensities          0             0.0         0         0  \n",
       "Optic-Chiasm                          0           200.9         0         0  \n",
       "CC_Posterior                          0           639.6         0         0  \n",
       "CC_Mid_Posterior                      0           296.1         0         0  \n",
       "CC_Central                            0           309.1         0         0  \n",
       "CC_Mid_Anterior                       0           308.0         0         0  \n",
       "CC_Anterior                           0           609.3         0         0  \n",
       "\n",
       "[59 rows x 34 columns]"
      ]
     },
     "execution_count": 360,
     "metadata": {},
     "output_type": "execute_result"
    }
   ],
   "source": [
    "my_dataframe3"
   ]
  },
  {
   "cell_type": "code",
   "execution_count": 365,
   "metadata": {
    "vscode": {
     "languageId": "shellscript"
    }
   },
   "outputs": [
    {
     "ename": "KeyError",
     "evalue": "\"The following id_vars or value_vars are not present in the DataFrame: ['subjects']\"",
     "output_type": "error",
     "traceback": [
      "\u001b[0;31m---------------------------------------------------------------------------\u001b[0m",
      "\u001b[0;31mKeyError\u001b[0m                                  Traceback (most recent call last)",
      "Cell \u001b[0;32mIn[365], line 27\u001b[0m\n\u001b[1;32m     10\u001b[0m regions \u001b[38;5;241m=\u001b[39m [\u001b[38;5;124m'\u001b[39m\u001b[38;5;124mlhCortexVol\u001b[39m\u001b[38;5;124m'\u001b[39m, \u001b[38;5;124m'\u001b[39m\u001b[38;5;124mrhCortexVol\u001b[39m\u001b[38;5;124m'\u001b[39m, \u001b[38;5;124m'\u001b[39m\u001b[38;5;124mlhCerebralWhiteMatterVol\u001b[39m\u001b[38;5;124m'\u001b[39m, \u001b[38;5;124m'\u001b[39m\u001b[38;5;124mrhCerebralWhiteMatterVol\u001b[39m\u001b[38;5;124m'\u001b[39m, \u001b[38;5;124m'\u001b[39m\u001b[38;5;124mCerebralWhiteMatterVol\u001b[39m\u001b[38;5;124m'\u001b[39m,\n\u001b[1;32m     11\u001b[0m            \u001b[38;5;124m'\u001b[39m\u001b[38;5;124mTotalGrayVol\u001b[39m\u001b[38;5;124m'\u001b[39m, \u001b[38;5;124m'\u001b[39m\u001b[38;5;124mSupraTentorialVol\u001b[39m\u001b[38;5;124m'\u001b[39m, \u001b[38;5;124m'\u001b[39m\u001b[38;5;124mSupraTentorialVolNotVent\u001b[39m\u001b[38;5;124m'\u001b[39m, \u001b[38;5;124m'\u001b[39m\u001b[38;5;124mSupraTentorialVolNotVentVox\u001b[39m\u001b[38;5;124m'\u001b[39m, \u001b[38;5;124m'\u001b[39m\u001b[38;5;124mMaskVol-to-eTIV\u001b[39m\u001b[38;5;124m'\u001b[39m,\n\u001b[1;32m     12\u001b[0m            \u001b[38;5;124m'\u001b[39m\u001b[38;5;124mlhSurfaceHoles\u001b[39m\u001b[38;5;124m'\u001b[39m, \u001b[38;5;124m'\u001b[39m\u001b[38;5;124mrhSurfaceHoles\u001b[39m\u001b[38;5;124m'\u001b[39m, \u001b[38;5;124m'\u001b[39m\u001b[38;5;124mSurfaceHoles\u001b[39m\u001b[38;5;124m'\u001b[39m, \u001b[38;5;124m'\u001b[39m\u001b[38;5;124mEstimatedTotalIntraCranialVol\u001b[39m\u001b[38;5;124m'\u001b[39m, \u001b[38;5;124m'\u001b[39m\u001b[38;5;124mLeft-Lateral-Ventricle\u001b[39m\u001b[38;5;124m'\u001b[39m,\n\u001b[0;32m   (...)\u001b[0m\n\u001b[1;32m     19\u001b[0m            \u001b[38;5;124m'\u001b[39m\u001b[38;5;124mLeft-non-WM-hypointensities\u001b[39m\u001b[38;5;124m'\u001b[39m, \u001b[38;5;124m'\u001b[39m\u001b[38;5;124mRight-non-WM-hypointensities\u001b[39m\u001b[38;5;124m'\u001b[39m, \u001b[38;5;124m'\u001b[39m\u001b[38;5;124mOptic-Chiasm\u001b[39m\u001b[38;5;124m'\u001b[39m, \u001b[38;5;124m'\u001b[39m\u001b[38;5;124mCC_Posterior\u001b[39m\u001b[38;5;124m'\u001b[39m, \u001b[38;5;124m'\u001b[39m\u001b[38;5;124mCC_Mid_Posterior\u001b[39m\u001b[38;5;124m'\u001b[39m,\n\u001b[1;32m     20\u001b[0m            \u001b[38;5;124m'\u001b[39m\u001b[38;5;124mCC_Central\u001b[39m\u001b[38;5;124m'\u001b[39m, \u001b[38;5;124m'\u001b[39m\u001b[38;5;124mCC_Mid_Anterior\u001b[39m\u001b[38;5;124m'\u001b[39m, \u001b[38;5;124m'\u001b[39m\u001b[38;5;124mCC_Anterior\u001b[39m\u001b[38;5;124m'\u001b[39m]\n\u001b[1;32m     22\u001b[0m \u001b[38;5;66;03m# # Melt le DataFrame pour avoir une seule colonne pour les régions et les valeurs associées\u001b[39;00m\n\u001b[1;32m     23\u001b[0m \u001b[38;5;66;03m# df_melted = df.melt(id_vars=['subjects', 'session'], value_vars=regions, var_name='Region', value_name='Value')\u001b[39;00m\n\u001b[1;32m     24\u001b[0m \n\u001b[1;32m     25\u001b[0m \u001b[38;5;66;03m# Tracer les données avec Plotly\u001b[39;00m\n\u001b[0;32m---> 27\u001b[0m df_melted \u001b[38;5;241m=\u001b[39m \u001b[43mmy_dataframe3\u001b[49m\u001b[38;5;241;43m.\u001b[39;49m\u001b[43mmelt\u001b[49m\u001b[43m(\u001b[49m\u001b[43mid_vars\u001b[49m\u001b[38;5;241;43m=\u001b[39;49m\u001b[38;5;124;43m'\u001b[39;49m\u001b[38;5;124;43msubjects\u001b[39;49m\u001b[38;5;124;43m'\u001b[39;49m\u001b[43m,\u001b[49m\u001b[43m \u001b[49m\u001b[43mvar_name\u001b[49m\u001b[38;5;241;43m=\u001b[39;49m\u001b[38;5;124;43m'\u001b[39;49m\u001b[38;5;124;43mSujet\u001b[39;49m\u001b[38;5;124;43m'\u001b[39;49m\u001b[43m,\u001b[49m\u001b[43m \u001b[49m\u001b[43mvalue_name\u001b[49m\u001b[38;5;241;43m=\u001b[39;49m\u001b[38;5;124;43m'\u001b[39;49m\u001b[38;5;124;43mValeur\u001b[39;49m\u001b[38;5;124;43m'\u001b[39;49m\u001b[43m)\u001b[49m\n\u001b[1;32m     30\u001b[0m \u001b[38;5;66;03m# fig = px.scatter(df_melted, x='subjects', y= title=\"mean N\")\u001b[39;00m\n\u001b[1;32m     31\u001b[0m \u001b[38;5;66;03m# fig.show()\u001b[39;00m\n\u001b[1;32m     32\u001b[0m \n\u001b[0;32m   (...)\u001b[0m\n\u001b[1;32m     40\u001b[0m \u001b[38;5;66;03m# fig.update_xaxes(tickangle=45)\u001b[39;00m\n\u001b[1;32m     41\u001b[0m \u001b[38;5;66;03m# fig.show()\u001b[39;00m\n",
      "File \u001b[0;32m~/miniconda3/lib/python3.10/site-packages/pandas/core/frame.py:9915\u001b[0m, in \u001b[0;36mDataFrame.melt\u001b[0;34m(self, id_vars, value_vars, var_name, value_name, col_level, ignore_index)\u001b[0m\n\u001b[1;32m   9905\u001b[0m \u001b[38;5;129m@Appender\u001b[39m(_shared_docs[\u001b[38;5;124m\"\u001b[39m\u001b[38;5;124mmelt\u001b[39m\u001b[38;5;124m\"\u001b[39m] \u001b[38;5;241m%\u001b[39m {\u001b[38;5;124m\"\u001b[39m\u001b[38;5;124mcaller\u001b[39m\u001b[38;5;124m\"\u001b[39m: \u001b[38;5;124m\"\u001b[39m\u001b[38;5;124mdf.melt(\u001b[39m\u001b[38;5;124m\"\u001b[39m, \u001b[38;5;124m\"\u001b[39m\u001b[38;5;124mother\u001b[39m\u001b[38;5;124m\"\u001b[39m: \u001b[38;5;124m\"\u001b[39m\u001b[38;5;124mmelt\u001b[39m\u001b[38;5;124m\"\u001b[39m})\n\u001b[1;32m   9906\u001b[0m \u001b[38;5;28;01mdef\u001b[39;00m \u001b[38;5;21mmelt\u001b[39m(\n\u001b[1;32m   9907\u001b[0m     \u001b[38;5;28mself\u001b[39m,\n\u001b[0;32m   (...)\u001b[0m\n\u001b[1;32m   9913\u001b[0m     ignore_index: \u001b[38;5;28mbool\u001b[39m \u001b[38;5;241m=\u001b[39m \u001b[38;5;28;01mTrue\u001b[39;00m,\n\u001b[1;32m   9914\u001b[0m ) \u001b[38;5;241m-\u001b[39m\u001b[38;5;241m>\u001b[39m DataFrame:\n\u001b[0;32m-> 9915\u001b[0m     \u001b[38;5;28;01mreturn\u001b[39;00m \u001b[43mmelt\u001b[49m\u001b[43m(\u001b[49m\n\u001b[1;32m   9916\u001b[0m \u001b[43m        \u001b[49m\u001b[38;5;28;43mself\u001b[39;49m\u001b[43m,\u001b[49m\n\u001b[1;32m   9917\u001b[0m \u001b[43m        \u001b[49m\u001b[43mid_vars\u001b[49m\u001b[38;5;241;43m=\u001b[39;49m\u001b[43mid_vars\u001b[49m\u001b[43m,\u001b[49m\n\u001b[1;32m   9918\u001b[0m \u001b[43m        \u001b[49m\u001b[43mvalue_vars\u001b[49m\u001b[38;5;241;43m=\u001b[39;49m\u001b[43mvalue_vars\u001b[49m\u001b[43m,\u001b[49m\n\u001b[1;32m   9919\u001b[0m \u001b[43m        \u001b[49m\u001b[43mvar_name\u001b[49m\u001b[38;5;241;43m=\u001b[39;49m\u001b[43mvar_name\u001b[49m\u001b[43m,\u001b[49m\n\u001b[1;32m   9920\u001b[0m \u001b[43m        \u001b[49m\u001b[43mvalue_name\u001b[49m\u001b[38;5;241;43m=\u001b[39;49m\u001b[43mvalue_name\u001b[49m\u001b[43m,\u001b[49m\n\u001b[1;32m   9921\u001b[0m \u001b[43m        \u001b[49m\u001b[43mcol_level\u001b[49m\u001b[38;5;241;43m=\u001b[39;49m\u001b[43mcol_level\u001b[49m\u001b[43m,\u001b[49m\n\u001b[1;32m   9922\u001b[0m \u001b[43m        \u001b[49m\u001b[43mignore_index\u001b[49m\u001b[38;5;241;43m=\u001b[39;49m\u001b[43mignore_index\u001b[49m\u001b[43m,\u001b[49m\n\u001b[1;32m   9923\u001b[0m \u001b[43m    \u001b[49m\u001b[43m)\u001b[49m\u001b[38;5;241m.\u001b[39m__finalize__(\u001b[38;5;28mself\u001b[39m, method\u001b[38;5;241m=\u001b[39m\u001b[38;5;124m\"\u001b[39m\u001b[38;5;124mmelt\u001b[39m\u001b[38;5;124m\"\u001b[39m)\n",
      "File \u001b[0;32m~/miniconda3/lib/python3.10/site-packages/pandas/core/reshape/melt.py:74\u001b[0m, in \u001b[0;36mmelt\u001b[0;34m(frame, id_vars, value_vars, var_name, value_name, col_level, ignore_index)\u001b[0m\n\u001b[1;32m     70\u001b[0m \u001b[38;5;28;01mif\u001b[39;00m missing\u001b[38;5;241m.\u001b[39many():\n\u001b[1;32m     71\u001b[0m     missing_labels \u001b[38;5;241m=\u001b[39m [\n\u001b[1;32m     72\u001b[0m         lab \u001b[38;5;28;01mfor\u001b[39;00m lab, not_found \u001b[38;5;129;01min\u001b[39;00m \u001b[38;5;28mzip\u001b[39m(labels, missing) \u001b[38;5;28;01mif\u001b[39;00m not_found\n\u001b[1;32m     73\u001b[0m     ]\n\u001b[0;32m---> 74\u001b[0m     \u001b[38;5;28;01mraise\u001b[39;00m \u001b[38;5;167;01mKeyError\u001b[39;00m(\n\u001b[1;32m     75\u001b[0m         \u001b[38;5;124m\"\u001b[39m\u001b[38;5;124mThe following id_vars or value_vars are not present in \u001b[39m\u001b[38;5;124m\"\u001b[39m\n\u001b[1;32m     76\u001b[0m         \u001b[38;5;124mf\u001b[39m\u001b[38;5;124m\"\u001b[39m\u001b[38;5;124mthe DataFrame: \u001b[39m\u001b[38;5;132;01m{\u001b[39;00mmissing_labels\u001b[38;5;132;01m}\u001b[39;00m\u001b[38;5;124m\"\u001b[39m\n\u001b[1;32m     77\u001b[0m     )\n\u001b[1;32m     78\u001b[0m \u001b[38;5;28;01mif\u001b[39;00m value_vars_was_not_none:\n\u001b[1;32m     79\u001b[0m     frame \u001b[38;5;241m=\u001b[39m frame\u001b[38;5;241m.\u001b[39miloc[:, algos\u001b[38;5;241m.\u001b[39munique(idx)]\n",
      "\u001b[0;31mKeyError\u001b[0m: \"The following id_vars or value_vars are not present in the DataFrame: ['subjects']\""
     ]
    }
   ],
   "source": [
    "import pandas as pd\n",
    "import plotly.express as px\n",
    "\n",
    "# Supposons que df soit votre DataFrame\n",
    "\n",
    "# # Supprimez les lignes avec des valeurs manquantes (NaN)\n",
    "# df = my_dataframe2.dropna()\n",
    "\n",
    "# # Sélectionnez uniquement les colonnes qui contiennent les régions et les valeurs associées\n",
    "regions = ['lhCortexVol', 'rhCortexVol', 'lhCerebralWhiteMatterVol', 'rhCerebralWhiteMatterVol', 'CerebralWhiteMatterVol',\n",
    "           'TotalGrayVol', 'SupraTentorialVol', 'SupraTentorialVolNotVent', 'SupraTentorialVolNotVentVox', 'MaskVol-to-eTIV',\n",
    "           'lhSurfaceHoles', 'rhSurfaceHoles', 'SurfaceHoles', 'EstimatedTotalIntraCranialVol', 'Left-Lateral-Ventricle',\n",
    "           'Left-Inf-Lat-Vent', 'Left-Cerebellum-White-Matter', 'Left-Cerebellum-Cortex', 'Left-Thalamus-Proper',\n",
    "           'Left-Caudate', 'Left-Putamen', 'Left-Pallidum', '3rd-Ventricle', '4th-Ventricle', 'Brain-Stem', 'Left-Hippocampus',\n",
    "           'Left-Amygdala', 'CSF', 'Left-Accumbens-area', 'Left-VentralDC', 'Left-vessel', 'Left-choroid-plexus', 'Right-Lateral-Ventricle',\n",
    "           'Right-Inf-Lat-Vent', 'Right-Cerebellum-White-Matter', 'Right-Cerebellum-Cortex', 'Right-Thalamus-Proper',\n",
    "           'Right-Caudate', 'Right-Putamen', 'Right-Pallidum', 'Right-Hippocampus', 'Right-Amygdala', 'Right-Accumbens-area',\n",
    "           'Right-VentralDC', 'Right-vessel', 'Right-choroid-plexus', '5th-Ventricle', 'WM-hypointensities', 'non-WM-hypointensities',\n",
    "           'Left-non-WM-hypointensities', 'Right-non-WM-hypointensities', 'Optic-Chiasm', 'CC_Posterior', 'CC_Mid_Posterior',\n",
    "           'CC_Central', 'CC_Mid_Anterior', 'CC_Anterior']\n",
    "\n",
    "# # Melt le DataFrame pour avoir une seule colonne pour les régions et les valeurs associées\n",
    "# df_melted = df.melt(id_vars=['subjects', 'session'], value_vars=regions, var_name='Region', value_name='Value')\n",
    "\n",
    "# Tracer les données avec Plotly\n",
    "\n",
    "df_melted = my_dataframe3.melt(id_vars='subjects', var_name='Sujet', value_name='Valeur')\n",
    "\n",
    "\n",
    "# fig = px.scatter(df_melted, x='subjects', y= title=\"mean N\")\n",
    "# fig.show()\n",
    "\n",
    "# fig = px.scatter(df, x=\"sepal_width\", y=\"sepal_length\", color=\"species\")\n",
    "\n",
    "# fig = px.scatter(my_dataframe3, x=regions, y='Value', color='subjects', title='Valeurs des régions pour tous les sujets',\n",
    "#                  labels={'Value': 'Valeurs', 'Region': 'Régions', 'subjects': 'Sujets'},\n",
    "#                  category_orders={'Region': regions},\n",
    "#                  width=1000, height=600)\n",
    "\n",
    "# fig.update_xaxes(tickangle=45)\n",
    "# fig.show()\n"
   ]
  },
  {
   "cell_type": "code",
   "execution_count": 339,
   "metadata": {
    "vscode": {
     "languageId": "shellscript"
    }
   },
   "outputs": [
    {
     "data": {
      "application/vnd.plotly.v1+json": {
       "config": {
        "plotlyServerURL": "https://plot.ly"
       },
       "data": [
        {
         "cells": {
          "values": [
           [
            "01_55_L_M",
            "01_45_B-N",
            "01_45_B-N",
            "01_85_G-S",
            "01-59-P-V",
            "01-68-P-N",
            "01-75-R-S",
            "01-63-B-K",
            "01_77_B_B",
            "01_86_P-L",
            "01-83-P-G",
            "01_71_D-C",
            "01_57_FC",
            "01_80_V_T",
            "01-64-B-A",
            "01-54-D-R",
            "01-61-B-L",
            "01-49-R-D",
            "01-70-L-E",
            "01-79-G-S",
            "01_72_M-V",
            "01_62_T-E",
            "01_69_CO",
            "01_47_Q-M",
            "01-56-C-D",
            "01_84_GM",
            "01-46_L-J",
            "01-78-M-C",
            "01_52_B-L",
            "01_41_CL",
            "01_50_D-A",
            "01-66-L-Q",
            "01_58_T_A",
            "01_73_A_M"
           ],
           [
            "202201140838",
            "202107020849",
            "BRAIN_EPINOV",
            "202306090849",
            "202204131119",
            "202211080928",
            "202303011104",
            "202205020920",
            "202308220902",
            "202306291315",
            "202304210904",
            "202303030852",
            "202112150855",
            "202304280912",
            "202210280903",
            "202110131329",
            "202208110904",
            "202111050958",
            "202303031323",
            "202304071208",
            "202301301518",
            "202204261345",
            "202301060848",
            "202108120952",
            "202110150908",
            "202306160853",
            "202108261322",
            "202304070918",
            "202109100911",
            "202106180909",
            "202109171116",
            "202109090853",
            "202201070933",
            "202302100929"
           ],
           [
            false,
            false,
            false,
            false,
            true,
            false,
            false,
            false,
            false,
            false,
            false,
            false,
            false,
            false,
            false,
            false,
            false,
            false,
            false,
            false,
            false,
            false,
            false,
            false,
            false,
            false,
            false,
            false,
            false,
            false,
            false,
            false,
            false,
            false
           ],
           [
            false,
            false,
            false,
            false,
            false,
            false,
            false,
            false,
            false,
            false,
            false,
            false,
            false,
            false,
            false,
            false,
            false,
            false,
            false,
            false,
            false,
            false,
            false,
            false,
            false,
            false,
            false,
            false,
            false,
            false,
            false,
            false,
            false,
            false
           ],
           [
            false,
            false,
            false,
            false,
            true,
            false,
            false,
            false,
            false,
            false,
            false,
            false,
            false,
            false,
            false,
            false,
            false,
            false,
            false,
            false,
            false,
            false,
            false,
            false,
            false,
            false,
            false,
            false,
            false,
            false,
            false,
            false,
            false,
            false
           ],
           [
            false,
            false,
            false,
            false,
            false,
            false,
            false,
            false,
            false,
            false,
            false,
            false,
            false,
            false,
            false,
            false,
            false,
            false,
            false,
            false,
            false,
            false,
            false,
            false,
            false,
            false,
            false,
            false,
            false,
            false,
            false,
            false,
            false,
            false
           ],
           [
            false,
            false,
            false,
            false,
            true,
            false,
            false,
            false,
            false,
            false,
            false,
            false,
            false,
            false,
            false,
            false,
            false,
            false,
            false,
            false,
            false,
            false,
            false,
            false,
            false,
            false,
            false,
            false,
            false,
            false,
            false,
            false,
            false,
            false
           ],
           [
            false,
            false,
            false,
            false,
            true,
            false,
            false,
            false,
            false,
            false,
            false,
            false,
            false,
            false,
            false,
            false,
            false,
            false,
            false,
            false,
            false,
            false,
            false,
            false,
            false,
            false,
            false,
            false,
            false,
            false,
            false,
            false,
            false,
            false
           ],
           [
            false,
            false,
            false,
            false,
            true,
            false,
            false,
            false,
            false,
            false,
            false,
            false,
            false,
            false,
            false,
            false,
            false,
            false,
            false,
            false,
            false,
            false,
            false,
            false,
            false,
            false,
            false,
            false,
            false,
            false,
            false,
            false,
            false,
            false
           ],
           [
            false,
            false,
            false,
            false,
            true,
            false,
            false,
            false,
            false,
            false,
            false,
            false,
            false,
            false,
            false,
            false,
            false,
            false,
            false,
            false,
            false,
            false,
            false,
            false,
            false,
            false,
            false,
            false,
            false,
            false,
            false,
            false,
            false,
            false
           ],
           [
            false,
            false,
            false,
            false,
            false,
            false,
            false,
            false,
            false,
            false,
            false,
            false,
            false,
            false,
            false,
            false,
            false,
            false,
            false,
            false,
            false,
            false,
            false,
            false,
            false,
            false,
            false,
            false,
            false,
            false,
            false,
            false,
            false,
            false
           ],
           [
            false,
            false,
            false,
            false,
            false,
            false,
            false,
            false,
            false,
            false,
            false,
            false,
            false,
            false,
            false,
            false,
            false,
            false,
            false,
            false,
            false,
            false,
            false,
            false,
            false,
            false,
            false,
            false,
            false,
            false,
            false,
            false,
            false,
            false
           ],
           [
            false,
            false,
            false,
            false,
            false,
            false,
            false,
            false,
            false,
            false,
            false,
            false,
            false,
            false,
            false,
            false,
            false,
            false,
            false,
            false,
            false,
            false,
            false,
            false,
            false,
            false,
            false,
            false,
            false,
            false,
            false,
            false,
            false,
            false
           ]
          ]
         },
         "header": {
          "values": [
           "subjects",
           "session",
           "BrainSegVol",
           "BrainSegVolNotVent",
           "VentricleChoroidVol",
           "lhCortexVol",
           "rhCortexVol",
           "lhCerebralWhiteMatterVol",
           "rhCerebralWhiteMatterVol",
           "CerebralWhiteMatterVol",
           "SubCortGrayVol",
           "TotalGrayVol",
           "SupraTentorialVol",
           "SupraTentorialVolNotVent",
           "MaskVol",
           "eTIV",
           "Left-Lateral-Ventricle",
           "Left-Inf-Lat-Vent",
           "Left-Cerebellum-White-Matter",
           "Left-Cerebellum-Cortex",
           "Left-Thalamus",
           "Left-Caudate",
           "Left-Putamen",
           "Left-Pallidum",
           "3rd-Ventricle",
           "4th-Ventricle",
           "Brain-Stem",
           "Left-Hippocampus",
           "Left-Amygdala",
           "CSF",
           "Left-Accumbens-area",
           "Left-VentralDC",
           "Left-vessel",
           "Left-choroid-plexus",
           "Right-Lateral-Ventricle",
           "Right-Inf-Lat-Vent",
           "Right-Cerebellum-White-Matter",
           "Right-Cerebellum-Cortex",
           "Right-Thalamus",
           "Right-Caudate",
           "Right-Putamen",
           "Right-Pallidum",
           "Right-Hippocampus",
           "Right-Amygdala",
           "Right-Accumbens-area",
           "Right-VentralDC",
           "Right-vessel",
           "Right-choroid-plexus",
           "5th-Ventricle",
           "WM-hypointensities",
           "Left-WM-hypointensities",
           "Right-WM-hypointensities",
           "non-WM-hypointensities",
           "Left-non-WM-hypointensities",
           "Right-non-WM-hypointensities",
           "Optic-Chiasm",
           "CC_Posterior",
           "CC_Mid_Posterior",
           "CC_Central",
           "CC_Mid_Anterior",
           "CC_Anterior"
          ]
         },
         "type": "table"
        }
       ],
       "layout": {
        "autosize": true,
        "margin": {
         "b": 50,
         "l": 50,
         "r": 50,
         "t": 50
        },
        "template": {
         "data": {
          "bar": [
           {
            "error_x": {
             "color": "#2a3f5f"
            },
            "error_y": {
             "color": "#2a3f5f"
            },
            "marker": {
             "line": {
              "color": "#E5ECF6",
              "width": 0.5
             },
             "pattern": {
              "fillmode": "overlay",
              "size": 10,
              "solidity": 0.2
             }
            },
            "type": "bar"
           }
          ],
          "barpolar": [
           {
            "marker": {
             "line": {
              "color": "#E5ECF6",
              "width": 0.5
             },
             "pattern": {
              "fillmode": "overlay",
              "size": 10,
              "solidity": 0.2
             }
            },
            "type": "barpolar"
           }
          ],
          "carpet": [
           {
            "aaxis": {
             "endlinecolor": "#2a3f5f",
             "gridcolor": "white",
             "linecolor": "white",
             "minorgridcolor": "white",
             "startlinecolor": "#2a3f5f"
            },
            "baxis": {
             "endlinecolor": "#2a3f5f",
             "gridcolor": "white",
             "linecolor": "white",
             "minorgridcolor": "white",
             "startlinecolor": "#2a3f5f"
            },
            "type": "carpet"
           }
          ],
          "choropleth": [
           {
            "colorbar": {
             "outlinewidth": 0,
             "ticks": ""
            },
            "type": "choropleth"
           }
          ],
          "contour": [
           {
            "colorbar": {
             "outlinewidth": 0,
             "ticks": ""
            },
            "colorscale": [
             [
              0,
              "#0d0887"
             ],
             [
              0.1111111111111111,
              "#46039f"
             ],
             [
              0.2222222222222222,
              "#7201a8"
             ],
             [
              0.3333333333333333,
              "#9c179e"
             ],
             [
              0.4444444444444444,
              "#bd3786"
             ],
             [
              0.5555555555555556,
              "#d8576b"
             ],
             [
              0.6666666666666666,
              "#ed7953"
             ],
             [
              0.7777777777777778,
              "#fb9f3a"
             ],
             [
              0.8888888888888888,
              "#fdca26"
             ],
             [
              1,
              "#f0f921"
             ]
            ],
            "type": "contour"
           }
          ],
          "contourcarpet": [
           {
            "colorbar": {
             "outlinewidth": 0,
             "ticks": ""
            },
            "type": "contourcarpet"
           }
          ],
          "heatmap": [
           {
            "colorbar": {
             "outlinewidth": 0,
             "ticks": ""
            },
            "colorscale": [
             [
              0,
              "#0d0887"
             ],
             [
              0.1111111111111111,
              "#46039f"
             ],
             [
              0.2222222222222222,
              "#7201a8"
             ],
             [
              0.3333333333333333,
              "#9c179e"
             ],
             [
              0.4444444444444444,
              "#bd3786"
             ],
             [
              0.5555555555555556,
              "#d8576b"
             ],
             [
              0.6666666666666666,
              "#ed7953"
             ],
             [
              0.7777777777777778,
              "#fb9f3a"
             ],
             [
              0.8888888888888888,
              "#fdca26"
             ],
             [
              1,
              "#f0f921"
             ]
            ],
            "type": "heatmap"
           }
          ],
          "heatmapgl": [
           {
            "colorbar": {
             "outlinewidth": 0,
             "ticks": ""
            },
            "colorscale": [
             [
              0,
              "#0d0887"
             ],
             [
              0.1111111111111111,
              "#46039f"
             ],
             [
              0.2222222222222222,
              "#7201a8"
             ],
             [
              0.3333333333333333,
              "#9c179e"
             ],
             [
              0.4444444444444444,
              "#bd3786"
             ],
             [
              0.5555555555555556,
              "#d8576b"
             ],
             [
              0.6666666666666666,
              "#ed7953"
             ],
             [
              0.7777777777777778,
              "#fb9f3a"
             ],
             [
              0.8888888888888888,
              "#fdca26"
             ],
             [
              1,
              "#f0f921"
             ]
            ],
            "type": "heatmapgl"
           }
          ],
          "histogram": [
           {
            "marker": {
             "pattern": {
              "fillmode": "overlay",
              "size": 10,
              "solidity": 0.2
             }
            },
            "type": "histogram"
           }
          ],
          "histogram2d": [
           {
            "colorbar": {
             "outlinewidth": 0,
             "ticks": ""
            },
            "colorscale": [
             [
              0,
              "#0d0887"
             ],
             [
              0.1111111111111111,
              "#46039f"
             ],
             [
              0.2222222222222222,
              "#7201a8"
             ],
             [
              0.3333333333333333,
              "#9c179e"
             ],
             [
              0.4444444444444444,
              "#bd3786"
             ],
             [
              0.5555555555555556,
              "#d8576b"
             ],
             [
              0.6666666666666666,
              "#ed7953"
             ],
             [
              0.7777777777777778,
              "#fb9f3a"
             ],
             [
              0.8888888888888888,
              "#fdca26"
             ],
             [
              1,
              "#f0f921"
             ]
            ],
            "type": "histogram2d"
           }
          ],
          "histogram2dcontour": [
           {
            "colorbar": {
             "outlinewidth": 0,
             "ticks": ""
            },
            "colorscale": [
             [
              0,
              "#0d0887"
             ],
             [
              0.1111111111111111,
              "#46039f"
             ],
             [
              0.2222222222222222,
              "#7201a8"
             ],
             [
              0.3333333333333333,
              "#9c179e"
             ],
             [
              0.4444444444444444,
              "#bd3786"
             ],
             [
              0.5555555555555556,
              "#d8576b"
             ],
             [
              0.6666666666666666,
              "#ed7953"
             ],
             [
              0.7777777777777778,
              "#fb9f3a"
             ],
             [
              0.8888888888888888,
              "#fdca26"
             ],
             [
              1,
              "#f0f921"
             ]
            ],
            "type": "histogram2dcontour"
           }
          ],
          "mesh3d": [
           {
            "colorbar": {
             "outlinewidth": 0,
             "ticks": ""
            },
            "type": "mesh3d"
           }
          ],
          "parcoords": [
           {
            "line": {
             "colorbar": {
              "outlinewidth": 0,
              "ticks": ""
             }
            },
            "type": "parcoords"
           }
          ],
          "pie": [
           {
            "automargin": true,
            "type": "pie"
           }
          ],
          "scatter": [
           {
            "fillpattern": {
             "fillmode": "overlay",
             "size": 10,
             "solidity": 0.2
            },
            "type": "scatter"
           }
          ],
          "scatter3d": [
           {
            "line": {
             "colorbar": {
              "outlinewidth": 0,
              "ticks": ""
             }
            },
            "marker": {
             "colorbar": {
              "outlinewidth": 0,
              "ticks": ""
             }
            },
            "type": "scatter3d"
           }
          ],
          "scattercarpet": [
           {
            "marker": {
             "colorbar": {
              "outlinewidth": 0,
              "ticks": ""
             }
            },
            "type": "scattercarpet"
           }
          ],
          "scattergeo": [
           {
            "marker": {
             "colorbar": {
              "outlinewidth": 0,
              "ticks": ""
             }
            },
            "type": "scattergeo"
           }
          ],
          "scattergl": [
           {
            "marker": {
             "colorbar": {
              "outlinewidth": 0,
              "ticks": ""
             }
            },
            "type": "scattergl"
           }
          ],
          "scattermapbox": [
           {
            "marker": {
             "colorbar": {
              "outlinewidth": 0,
              "ticks": ""
             }
            },
            "type": "scattermapbox"
           }
          ],
          "scatterpolar": [
           {
            "marker": {
             "colorbar": {
              "outlinewidth": 0,
              "ticks": ""
             }
            },
            "type": "scatterpolar"
           }
          ],
          "scatterpolargl": [
           {
            "marker": {
             "colorbar": {
              "outlinewidth": 0,
              "ticks": ""
             }
            },
            "type": "scatterpolargl"
           }
          ],
          "scatterternary": [
           {
            "marker": {
             "colorbar": {
              "outlinewidth": 0,
              "ticks": ""
             }
            },
            "type": "scatterternary"
           }
          ],
          "surface": [
           {
            "colorbar": {
             "outlinewidth": 0,
             "ticks": ""
            },
            "colorscale": [
             [
              0,
              "#0d0887"
             ],
             [
              0.1111111111111111,
              "#46039f"
             ],
             [
              0.2222222222222222,
              "#7201a8"
             ],
             [
              0.3333333333333333,
              "#9c179e"
             ],
             [
              0.4444444444444444,
              "#bd3786"
             ],
             [
              0.5555555555555556,
              "#d8576b"
             ],
             [
              0.6666666666666666,
              "#ed7953"
             ],
             [
              0.7777777777777778,
              "#fb9f3a"
             ],
             [
              0.8888888888888888,
              "#fdca26"
             ],
             [
              1,
              "#f0f921"
             ]
            ],
            "type": "surface"
           }
          ],
          "table": [
           {
            "cells": {
             "fill": {
              "color": "#EBF0F8"
             },
             "line": {
              "color": "white"
             }
            },
            "header": {
             "fill": {
              "color": "#C8D4E3"
             },
             "line": {
              "color": "white"
             }
            },
            "type": "table"
           }
          ]
         },
         "layout": {
          "annotationdefaults": {
           "arrowcolor": "#2a3f5f",
           "arrowhead": 0,
           "arrowwidth": 1
          },
          "autotypenumbers": "strict",
          "coloraxis": {
           "colorbar": {
            "outlinewidth": 0,
            "ticks": ""
           }
          },
          "colorscale": {
           "diverging": [
            [
             0,
             "#8e0152"
            ],
            [
             0.1,
             "#c51b7d"
            ],
            [
             0.2,
             "#de77ae"
            ],
            [
             0.3,
             "#f1b6da"
            ],
            [
             0.4,
             "#fde0ef"
            ],
            [
             0.5,
             "#f7f7f7"
            ],
            [
             0.6,
             "#e6f5d0"
            ],
            [
             0.7,
             "#b8e186"
            ],
            [
             0.8,
             "#7fbc41"
            ],
            [
             0.9,
             "#4d9221"
            ],
            [
             1,
             "#276419"
            ]
           ],
           "sequential": [
            [
             0,
             "#0d0887"
            ],
            [
             0.1111111111111111,
             "#46039f"
            ],
            [
             0.2222222222222222,
             "#7201a8"
            ],
            [
             0.3333333333333333,
             "#9c179e"
            ],
            [
             0.4444444444444444,
             "#bd3786"
            ],
            [
             0.5555555555555556,
             "#d8576b"
            ],
            [
             0.6666666666666666,
             "#ed7953"
            ],
            [
             0.7777777777777778,
             "#fb9f3a"
            ],
            [
             0.8888888888888888,
             "#fdca26"
            ],
            [
             1,
             "#f0f921"
            ]
           ],
           "sequentialminus": [
            [
             0,
             "#0d0887"
            ],
            [
             0.1111111111111111,
             "#46039f"
            ],
            [
             0.2222222222222222,
             "#7201a8"
            ],
            [
             0.3333333333333333,
             "#9c179e"
            ],
            [
             0.4444444444444444,
             "#bd3786"
            ],
            [
             0.5555555555555556,
             "#d8576b"
            ],
            [
             0.6666666666666666,
             "#ed7953"
            ],
            [
             0.7777777777777778,
             "#fb9f3a"
            ],
            [
             0.8888888888888888,
             "#fdca26"
            ],
            [
             1,
             "#f0f921"
            ]
           ]
          },
          "colorway": [
           "#636efa",
           "#EF553B",
           "#00cc96",
           "#ab63fa",
           "#FFA15A",
           "#19d3f3",
           "#FF6692",
           "#B6E880",
           "#FF97FF",
           "#FECB52"
          ],
          "font": {
           "color": "#2a3f5f"
          },
          "geo": {
           "bgcolor": "white",
           "lakecolor": "white",
           "landcolor": "#E5ECF6",
           "showlakes": true,
           "showland": true,
           "subunitcolor": "white"
          },
          "hoverlabel": {
           "align": "left"
          },
          "hovermode": "closest",
          "mapbox": {
           "style": "light"
          },
          "paper_bgcolor": "white",
          "plot_bgcolor": "#E5ECF6",
          "polar": {
           "angularaxis": {
            "gridcolor": "white",
            "linecolor": "white",
            "ticks": ""
           },
           "bgcolor": "#E5ECF6",
           "radialaxis": {
            "gridcolor": "white",
            "linecolor": "white",
            "ticks": ""
           }
          },
          "scene": {
           "xaxis": {
            "backgroundcolor": "#E5ECF6",
            "gridcolor": "white",
            "gridwidth": 2,
            "linecolor": "white",
            "showbackground": true,
            "ticks": "",
            "zerolinecolor": "white"
           },
           "yaxis": {
            "backgroundcolor": "#E5ECF6",
            "gridcolor": "white",
            "gridwidth": 2,
            "linecolor": "white",
            "showbackground": true,
            "ticks": "",
            "zerolinecolor": "white"
           },
           "zaxis": {
            "backgroundcolor": "#E5ECF6",
            "gridcolor": "white",
            "gridwidth": 2,
            "linecolor": "white",
            "showbackground": true,
            "ticks": "",
            "zerolinecolor": "white"
           }
          },
          "shapedefaults": {
           "line": {
            "color": "#2a3f5f"
           }
          },
          "ternary": {
           "aaxis": {
            "gridcolor": "white",
            "linecolor": "white",
            "ticks": ""
           },
           "baxis": {
            "gridcolor": "white",
            "linecolor": "white",
            "ticks": ""
           },
           "bgcolor": "#E5ECF6",
           "caxis": {
            "gridcolor": "white",
            "linecolor": "white",
            "ticks": ""
           }
          },
          "title": {
           "x": 0.05
          },
          "xaxis": {
           "automargin": true,
           "gridcolor": "white",
           "linecolor": "white",
           "ticks": "",
           "title": {
            "standoff": 15
           },
           "zerolinecolor": "white",
           "zerolinewidth": 2
          },
          "yaxis": {
           "automargin": true,
           "gridcolor": "white",
           "linecolor": "white",
           "ticks": "",
           "title": {
            "standoff": 15
           },
           "zerolinecolor": "white",
           "zerolinewidth": 2
          }
         }
        },
        "xaxis": {
         "automargin": true,
         "autorange": true,
         "showgrid": false,
         "showticklabels": true
        }
       }
      },
      "text/html": [
       "<div>                            <div id=\"a3df9bbe-5f5f-48de-847d-928b407d2fde\" class=\"plotly-graph-div\" style=\"height:525px; width:100%;\"></div>            <script type=\"text/javascript\">                require([\"plotly\"], function(Plotly) {                    window.PLOTLYENV=window.PLOTLYENV || {};                                    if (document.getElementById(\"a3df9bbe-5f5f-48de-847d-928b407d2fde\")) {                    Plotly.newPlot(                        \"a3df9bbe-5f5f-48de-847d-928b407d2fde\",                        [{\"cells\":{\"values\":[[\"01_55_L_M\",\"01_45_B-N\",\"01_45_B-N\",\"01_85_G-S\",\"01-59-P-V\",\"01-68-P-N\",\"01-75-R-S\",\"01-63-B-K\",\"01_77_B_B\",\"01_86_P-L\",\"01-83-P-G\",\"01_71_D-C\",\"01_57_FC\",\"01_80_V_T\",\"01-64-B-A\",\"01-54-D-R\",\"01-61-B-L\",\"01-49-R-D\",\"01-70-L-E\",\"01-79-G-S\",\"01_72_M-V\",\"01_62_T-E\",\"01_69_CO\",\"01_47_Q-M\",\"01-56-C-D\",\"01_84_GM\",\"01-46_L-J\",\"01-78-M-C\",\"01_52_B-L\",\"01_41_CL\",\"01_50_D-A\",\"01-66-L-Q\",\"01_58_T_A\",\"01_73_A_M\"],[\"202201140838\",\"202107020849\",\"BRAIN_EPINOV\",\"202306090849\",\"202204131119\",\"202211080928\",\"202303011104\",\"202205020920\",\"202308220902\",\"202306291315\",\"202304210904\",\"202303030852\",\"202112150855\",\"202304280912\",\"202210280903\",\"202110131329\",\"202208110904\",\"202111050958\",\"202303031323\",\"202304071208\",\"202301301518\",\"202204261345\",\"202301060848\",\"202108120952\",\"202110150908\",\"202306160853\",\"202108261322\",\"202304070918\",\"202109100911\",\"202106180909\",\"202109171116\",\"202109090853\",\"202201070933\",\"202302100929\"],[false,false,false,false,true,false,false,false,false,false,false,false,false,false,false,false,false,false,false,false,false,false,false,false,false,false,false,false,false,false,false,false,false,false],[false,false,false,false,false,false,false,false,false,false,false,false,false,false,false,false,false,false,false,false,false,false,false,false,false,false,false,false,false,false,false,false,false,false],[false,false,false,false,true,false,false,false,false,false,false,false,false,false,false,false,false,false,false,false,false,false,false,false,false,false,false,false,false,false,false,false,false,false],[false,false,false,false,false,false,false,false,false,false,false,false,false,false,false,false,false,false,false,false,false,false,false,false,false,false,false,false,false,false,false,false,false,false],[false,false,false,false,true,false,false,false,false,false,false,false,false,false,false,false,false,false,false,false,false,false,false,false,false,false,false,false,false,false,false,false,false,false],[false,false,false,false,true,false,false,false,false,false,false,false,false,false,false,false,false,false,false,false,false,false,false,false,false,false,false,false,false,false,false,false,false,false],[false,false,false,false,true,false,false,false,false,false,false,false,false,false,false,false,false,false,false,false,false,false,false,false,false,false,false,false,false,false,false,false,false,false],[false,false,false,false,true,false,false,false,false,false,false,false,false,false,false,false,false,false,false,false,false,false,false,false,false,false,false,false,false,false,false,false,false,false],[false,false,false,false,false,false,false,false,false,false,false,false,false,false,false,false,false,false,false,false,false,false,false,false,false,false,false,false,false,false,false,false,false,false],[false,false,false,false,false,false,false,false,false,false,false,false,false,false,false,false,false,false,false,false,false,false,false,false,false,false,false,false,false,false,false,false,false,false],[false,false,false,false,false,false,false,false,false,false,false,false,false,false,false,false,false,false,false,false,false,false,false,false,false,false,false,false,false,false,false,false,false,false]]},\"header\":{\"values\":[\"subjects\",\"session\",\"BrainSegVol\",\"BrainSegVolNotVent\",\"VentricleChoroidVol\",\"lhCortexVol\",\"rhCortexVol\",\"lhCerebralWhiteMatterVol\",\"rhCerebralWhiteMatterVol\",\"CerebralWhiteMatterVol\",\"SubCortGrayVol\",\"TotalGrayVol\",\"SupraTentorialVol\",\"SupraTentorialVolNotVent\",\"MaskVol\",\"eTIV\",\"Left-Lateral-Ventricle\",\"Left-Inf-Lat-Vent\",\"Left-Cerebellum-White-Matter\",\"Left-Cerebellum-Cortex\",\"Left-Thalamus\",\"Left-Caudate\",\"Left-Putamen\",\"Left-Pallidum\",\"3rd-Ventricle\",\"4th-Ventricle\",\"Brain-Stem\",\"Left-Hippocampus\",\"Left-Amygdala\",\"CSF\",\"Left-Accumbens-area\",\"Left-VentralDC\",\"Left-vessel\",\"Left-choroid-plexus\",\"Right-Lateral-Ventricle\",\"Right-Inf-Lat-Vent\",\"Right-Cerebellum-White-Matter\",\"Right-Cerebellum-Cortex\",\"Right-Thalamus\",\"Right-Caudate\",\"Right-Putamen\",\"Right-Pallidum\",\"Right-Hippocampus\",\"Right-Amygdala\",\"Right-Accumbens-area\",\"Right-VentralDC\",\"Right-vessel\",\"Right-choroid-plexus\",\"5th-Ventricle\",\"WM-hypointensities\",\"Left-WM-hypointensities\",\"Right-WM-hypointensities\",\"non-WM-hypointensities\",\"Left-non-WM-hypointensities\",\"Right-non-WM-hypointensities\",\"Optic-Chiasm\",\"CC_Posterior\",\"CC_Mid_Posterior\",\"CC_Central\",\"CC_Mid_Anterior\",\"CC_Anterior\"]},\"type\":\"table\"}],                        {\"template\":{\"data\":{\"histogram2dcontour\":[{\"type\":\"histogram2dcontour\",\"colorbar\":{\"outlinewidth\":0,\"ticks\":\"\"},\"colorscale\":[[0.0,\"#0d0887\"],[0.1111111111111111,\"#46039f\"],[0.2222222222222222,\"#7201a8\"],[0.3333333333333333,\"#9c179e\"],[0.4444444444444444,\"#bd3786\"],[0.5555555555555556,\"#d8576b\"],[0.6666666666666666,\"#ed7953\"],[0.7777777777777778,\"#fb9f3a\"],[0.8888888888888888,\"#fdca26\"],[1.0,\"#f0f921\"]]}],\"choropleth\":[{\"type\":\"choropleth\",\"colorbar\":{\"outlinewidth\":0,\"ticks\":\"\"}}],\"histogram2d\":[{\"type\":\"histogram2d\",\"colorbar\":{\"outlinewidth\":0,\"ticks\":\"\"},\"colorscale\":[[0.0,\"#0d0887\"],[0.1111111111111111,\"#46039f\"],[0.2222222222222222,\"#7201a8\"],[0.3333333333333333,\"#9c179e\"],[0.4444444444444444,\"#bd3786\"],[0.5555555555555556,\"#d8576b\"],[0.6666666666666666,\"#ed7953\"],[0.7777777777777778,\"#fb9f3a\"],[0.8888888888888888,\"#fdca26\"],[1.0,\"#f0f921\"]]}],\"heatmap\":[{\"type\":\"heatmap\",\"colorbar\":{\"outlinewidth\":0,\"ticks\":\"\"},\"colorscale\":[[0.0,\"#0d0887\"],[0.1111111111111111,\"#46039f\"],[0.2222222222222222,\"#7201a8\"],[0.3333333333333333,\"#9c179e\"],[0.4444444444444444,\"#bd3786\"],[0.5555555555555556,\"#d8576b\"],[0.6666666666666666,\"#ed7953\"],[0.7777777777777778,\"#fb9f3a\"],[0.8888888888888888,\"#fdca26\"],[1.0,\"#f0f921\"]]}],\"heatmapgl\":[{\"type\":\"heatmapgl\",\"colorbar\":{\"outlinewidth\":0,\"ticks\":\"\"},\"colorscale\":[[0.0,\"#0d0887\"],[0.1111111111111111,\"#46039f\"],[0.2222222222222222,\"#7201a8\"],[0.3333333333333333,\"#9c179e\"],[0.4444444444444444,\"#bd3786\"],[0.5555555555555556,\"#d8576b\"],[0.6666666666666666,\"#ed7953\"],[0.7777777777777778,\"#fb9f3a\"],[0.8888888888888888,\"#fdca26\"],[1.0,\"#f0f921\"]]}],\"contourcarpet\":[{\"type\":\"contourcarpet\",\"colorbar\":{\"outlinewidth\":0,\"ticks\":\"\"}}],\"contour\":[{\"type\":\"contour\",\"colorbar\":{\"outlinewidth\":0,\"ticks\":\"\"},\"colorscale\":[[0.0,\"#0d0887\"],[0.1111111111111111,\"#46039f\"],[0.2222222222222222,\"#7201a8\"],[0.3333333333333333,\"#9c179e\"],[0.4444444444444444,\"#bd3786\"],[0.5555555555555556,\"#d8576b\"],[0.6666666666666666,\"#ed7953\"],[0.7777777777777778,\"#fb9f3a\"],[0.8888888888888888,\"#fdca26\"],[1.0,\"#f0f921\"]]}],\"surface\":[{\"type\":\"surface\",\"colorbar\":{\"outlinewidth\":0,\"ticks\":\"\"},\"colorscale\":[[0.0,\"#0d0887\"],[0.1111111111111111,\"#46039f\"],[0.2222222222222222,\"#7201a8\"],[0.3333333333333333,\"#9c179e\"],[0.4444444444444444,\"#bd3786\"],[0.5555555555555556,\"#d8576b\"],[0.6666666666666666,\"#ed7953\"],[0.7777777777777778,\"#fb9f3a\"],[0.8888888888888888,\"#fdca26\"],[1.0,\"#f0f921\"]]}],\"mesh3d\":[{\"type\":\"mesh3d\",\"colorbar\":{\"outlinewidth\":0,\"ticks\":\"\"}}],\"scatter\":[{\"fillpattern\":{\"fillmode\":\"overlay\",\"size\":10,\"solidity\":0.2},\"type\":\"scatter\"}],\"parcoords\":[{\"type\":\"parcoords\",\"line\":{\"colorbar\":{\"outlinewidth\":0,\"ticks\":\"\"}}}],\"scatterpolargl\":[{\"type\":\"scatterpolargl\",\"marker\":{\"colorbar\":{\"outlinewidth\":0,\"ticks\":\"\"}}}],\"bar\":[{\"error_x\":{\"color\":\"#2a3f5f\"},\"error_y\":{\"color\":\"#2a3f5f\"},\"marker\":{\"line\":{\"color\":\"#E5ECF6\",\"width\":0.5},\"pattern\":{\"fillmode\":\"overlay\",\"size\":10,\"solidity\":0.2}},\"type\":\"bar\"}],\"scattergeo\":[{\"type\":\"scattergeo\",\"marker\":{\"colorbar\":{\"outlinewidth\":0,\"ticks\":\"\"}}}],\"scatterpolar\":[{\"type\":\"scatterpolar\",\"marker\":{\"colorbar\":{\"outlinewidth\":0,\"ticks\":\"\"}}}],\"histogram\":[{\"marker\":{\"pattern\":{\"fillmode\":\"overlay\",\"size\":10,\"solidity\":0.2}},\"type\":\"histogram\"}],\"scattergl\":[{\"type\":\"scattergl\",\"marker\":{\"colorbar\":{\"outlinewidth\":0,\"ticks\":\"\"}}}],\"scatter3d\":[{\"type\":\"scatter3d\",\"line\":{\"colorbar\":{\"outlinewidth\":0,\"ticks\":\"\"}},\"marker\":{\"colorbar\":{\"outlinewidth\":0,\"ticks\":\"\"}}}],\"scattermapbox\":[{\"type\":\"scattermapbox\",\"marker\":{\"colorbar\":{\"outlinewidth\":0,\"ticks\":\"\"}}}],\"scatterternary\":[{\"type\":\"scatterternary\",\"marker\":{\"colorbar\":{\"outlinewidth\":0,\"ticks\":\"\"}}}],\"scattercarpet\":[{\"type\":\"scattercarpet\",\"marker\":{\"colorbar\":{\"outlinewidth\":0,\"ticks\":\"\"}}}],\"carpet\":[{\"aaxis\":{\"endlinecolor\":\"#2a3f5f\",\"gridcolor\":\"white\",\"linecolor\":\"white\",\"minorgridcolor\":\"white\",\"startlinecolor\":\"#2a3f5f\"},\"baxis\":{\"endlinecolor\":\"#2a3f5f\",\"gridcolor\":\"white\",\"linecolor\":\"white\",\"minorgridcolor\":\"white\",\"startlinecolor\":\"#2a3f5f\"},\"type\":\"carpet\"}],\"table\":[{\"cells\":{\"fill\":{\"color\":\"#EBF0F8\"},\"line\":{\"color\":\"white\"}},\"header\":{\"fill\":{\"color\":\"#C8D4E3\"},\"line\":{\"color\":\"white\"}},\"type\":\"table\"}],\"barpolar\":[{\"marker\":{\"line\":{\"color\":\"#E5ECF6\",\"width\":0.5},\"pattern\":{\"fillmode\":\"overlay\",\"size\":10,\"solidity\":0.2}},\"type\":\"barpolar\"}],\"pie\":[{\"automargin\":true,\"type\":\"pie\"}]},\"layout\":{\"autotypenumbers\":\"strict\",\"colorway\":[\"#636efa\",\"#EF553B\",\"#00cc96\",\"#ab63fa\",\"#FFA15A\",\"#19d3f3\",\"#FF6692\",\"#B6E880\",\"#FF97FF\",\"#FECB52\"],\"font\":{\"color\":\"#2a3f5f\"},\"hovermode\":\"closest\",\"hoverlabel\":{\"align\":\"left\"},\"paper_bgcolor\":\"white\",\"plot_bgcolor\":\"#E5ECF6\",\"polar\":{\"bgcolor\":\"#E5ECF6\",\"angularaxis\":{\"gridcolor\":\"white\",\"linecolor\":\"white\",\"ticks\":\"\"},\"radialaxis\":{\"gridcolor\":\"white\",\"linecolor\":\"white\",\"ticks\":\"\"}},\"ternary\":{\"bgcolor\":\"#E5ECF6\",\"aaxis\":{\"gridcolor\":\"white\",\"linecolor\":\"white\",\"ticks\":\"\"},\"baxis\":{\"gridcolor\":\"white\",\"linecolor\":\"white\",\"ticks\":\"\"},\"caxis\":{\"gridcolor\":\"white\",\"linecolor\":\"white\",\"ticks\":\"\"}},\"coloraxis\":{\"colorbar\":{\"outlinewidth\":0,\"ticks\":\"\"}},\"colorscale\":{\"sequential\":[[0.0,\"#0d0887\"],[0.1111111111111111,\"#46039f\"],[0.2222222222222222,\"#7201a8\"],[0.3333333333333333,\"#9c179e\"],[0.4444444444444444,\"#bd3786\"],[0.5555555555555556,\"#d8576b\"],[0.6666666666666666,\"#ed7953\"],[0.7777777777777778,\"#fb9f3a\"],[0.8888888888888888,\"#fdca26\"],[1.0,\"#f0f921\"]],\"sequentialminus\":[[0.0,\"#0d0887\"],[0.1111111111111111,\"#46039f\"],[0.2222222222222222,\"#7201a8\"],[0.3333333333333333,\"#9c179e\"],[0.4444444444444444,\"#bd3786\"],[0.5555555555555556,\"#d8576b\"],[0.6666666666666666,\"#ed7953\"],[0.7777777777777778,\"#fb9f3a\"],[0.8888888888888888,\"#fdca26\"],[1.0,\"#f0f921\"]],\"diverging\":[[0,\"#8e0152\"],[0.1,\"#c51b7d\"],[0.2,\"#de77ae\"],[0.3,\"#f1b6da\"],[0.4,\"#fde0ef\"],[0.5,\"#f7f7f7\"],[0.6,\"#e6f5d0\"],[0.7,\"#b8e186\"],[0.8,\"#7fbc41\"],[0.9,\"#4d9221\"],[1,\"#276419\"]]},\"xaxis\":{\"gridcolor\":\"white\",\"linecolor\":\"white\",\"ticks\":\"\",\"title\":{\"standoff\":15},\"zerolinecolor\":\"white\",\"automargin\":true,\"zerolinewidth\":2},\"yaxis\":{\"gridcolor\":\"white\",\"linecolor\":\"white\",\"ticks\":\"\",\"title\":{\"standoff\":15},\"zerolinecolor\":\"white\",\"automargin\":true,\"zerolinewidth\":2},\"scene\":{\"xaxis\":{\"backgroundcolor\":\"#E5ECF6\",\"gridcolor\":\"white\",\"linecolor\":\"white\",\"showbackground\":true,\"ticks\":\"\",\"zerolinecolor\":\"white\",\"gridwidth\":2},\"yaxis\":{\"backgroundcolor\":\"#E5ECF6\",\"gridcolor\":\"white\",\"linecolor\":\"white\",\"showbackground\":true,\"ticks\":\"\",\"zerolinecolor\":\"white\",\"gridwidth\":2},\"zaxis\":{\"backgroundcolor\":\"#E5ECF6\",\"gridcolor\":\"white\",\"linecolor\":\"white\",\"showbackground\":true,\"ticks\":\"\",\"zerolinecolor\":\"white\",\"gridwidth\":2}},\"shapedefaults\":{\"line\":{\"color\":\"#2a3f5f\"}},\"annotationdefaults\":{\"arrowcolor\":\"#2a3f5f\",\"arrowhead\":0,\"arrowwidth\":1},\"geo\":{\"bgcolor\":\"white\",\"landcolor\":\"#E5ECF6\",\"subunitcolor\":\"white\",\"showland\":true,\"showlakes\":true,\"lakecolor\":\"white\"},\"title\":{\"x\":0.05},\"mapbox\":{\"style\":\"light\"}}},\"margin\":{\"l\":50,\"r\":50,\"t\":50,\"b\":50},\"xaxis\":{\"automargin\":true,\"autorange\":true,\"showgrid\":false,\"showticklabels\":true},\"autosize\":true},                        {\"responsive\": true}                    ).then(function(){\n",
       "                            \n",
       "var gd = document.getElementById('a3df9bbe-5f5f-48de-847d-928b407d2fde');\n",
       "var x = new MutationObserver(function (mutations, observer) {{\n",
       "        var display = window.getComputedStyle(gd).display;\n",
       "        if (!display || display === 'none') {{\n",
       "            console.log([gd, 'removed!']);\n",
       "            Plotly.purge(gd);\n",
       "            observer.disconnect();\n",
       "        }}\n",
       "}});\n",
       "\n",
       "// Listen for the removal of the full notebook cells\n",
       "var notebookContainer = gd.closest('#notebook-container');\n",
       "if (notebookContainer) {{\n",
       "    x.observe(notebookContainer, {childList: true});\n",
       "}}\n",
       "\n",
       "// Listen for the clearing of the current output cell\n",
       "var outputEl = gd.closest('.output');\n",
       "if (outputEl) {{\n",
       "    x.observe(outputEl, {childList: true});\n",
       "}}\n",
       "\n",
       "                        })                };                });            </script>        </div>"
      ]
     },
     "metadata": {},
     "output_type": "display_data"
    }
   ],
   "source": [
    "fig = go.Figure(data=[go.Table(\n",
    "    header=dict(values=list(my_dataframe2.columns)),\n",
    "    cells=dict(values=[my_dataframe[col] for col in my_dataframe.columns])\n",
    "                   )])\n",
    "\n",
    "# Spécifier les largeurs des colonnes du tableau Plotly\n",
    "# column_widths = [100] * len(df.columns)  # Par exemple, définissez toutes les colonnes à la même largeur (100 pixels)\n",
    "# fig.update_traces(columnwidth=column_widths)  # Mettez à jour les largeurs des colonnes\n",
    "\n",
    "# # Afficher le tableau Plotly avec une barre de défilement horizontale\n",
    "fig.update_layout(autosize=True, margin=dict(l=50, r=50, t=50, b=50),\n",
    "                  xaxis=dict(automargin=True, autorange=True, showgrid=False, showticklabels=True))\n",
    "\n",
    "\n",
    "fig.show()"
   ]
  },
  {
   "cell_type": "code",
   "execution_count": 340,
   "metadata": {
    "vscode": {
     "languageId": "shellscript"
    }
   },
   "outputs": [
    {
     "data": {
      "application/vnd.plotly.v1+json": {
       "config": {
        "plotlyServerURL": "https://plot.ly"
       },
       "data": [
        {
         "cells": {
          "values": [
           [
            "Volume_mm3",
            "Volume_mm3",
            "Volume_mm3",
            "Volume_mm3",
            "Volume_mm3",
            "Volume_mm3",
            "Volume_mm3",
            "Volume_mm3",
            "Volume_mm3",
            "Volume_mm3",
            "Volume_mm3",
            "Volume_mm3",
            "Volume_mm3",
            "Volume_mm3",
            "unitless",
            "unitless",
            "unitless",
            "unitless",
            "unitless",
            "Index",
            "Index",
            "Index",
            "Index",
            "Index",
            "Index",
            "Index",
            "Index",
            "Index",
            "Index",
            "Index",
            "Index",
            "Index",
            "Index",
            "Index",
            "Index",
            "Index",
            "Index",
            "Index",
            "Index",
            "Index",
            "Index",
            "Index",
            "Index",
            "Index",
            "Index",
            "Index",
            "Index",
            "Index",
            "Index",
            "Index",
            "Index",
            "Index",
            "Index",
            "Index",
            "Index",
            "Index",
            "Index",
            "Index",
            "Index",
            "Index",
            "Index",
            "Index",
            "Index",
            "Index",
            "SegId",
            "SegId",
            "SegId",
            "SegId",
            "SegId",
            "SegId",
            "SegId",
            "SegId",
            "SegId",
            "SegId",
            "SegId",
            "SegId",
            "SegId",
            "SegId",
            "SegId",
            "SegId",
            "SegId",
            "SegId",
            "SegId",
            "SegId",
            "SegId",
            "SegId",
            "SegId",
            "SegId",
            "SegId",
            "SegId",
            "SegId",
            "SegId",
            "SegId",
            "SegId",
            "SegId",
            "SegId",
            "SegId",
            "SegId",
            "SegId",
            "SegId",
            "SegId",
            "SegId",
            "SegId",
            "SegId",
            "SegId",
            "SegId",
            "SegId",
            "SegId",
            "SegId",
            "NVoxels",
            "NVoxels",
            "NVoxels",
            "NVoxels",
            "NVoxels",
            "NVoxels",
            "NVoxels",
            "NVoxels",
            "NVoxels",
            "NVoxels",
            "NVoxels",
            "NVoxels",
            "NVoxels",
            "NVoxels",
            "NVoxels",
            "NVoxels",
            "NVoxels",
            "NVoxels",
            "NVoxels",
            "NVoxels",
            "NVoxels",
            "NVoxels",
            "NVoxels",
            "NVoxels",
            "NVoxels",
            "NVoxels",
            "NVoxels",
            "NVoxels",
            "NVoxels",
            "NVoxels",
            "NVoxels",
            "NVoxels",
            "NVoxels",
            "NVoxels",
            "NVoxels",
            "NVoxels",
            "NVoxels",
            "NVoxels",
            "NVoxels",
            "NVoxels",
            "NVoxels",
            "NVoxels",
            "NVoxels",
            "NVoxels",
            "NVoxels",
            "Volume_mm3",
            "Volume_mm3",
            "Volume_mm3",
            "Volume_mm3",
            "Volume_mm3",
            "Volume_mm3",
            "Volume_mm3",
            "Volume_mm3",
            "Volume_mm3",
            "Volume_mm3",
            "Volume_mm3",
            "Volume_mm3",
            "Volume_mm3",
            "Volume_mm3",
            "Volume_mm3",
            "Volume_mm3",
            "Volume_mm3",
            "Volume_mm3",
            "Volume_mm3",
            "Volume_mm3",
            "Volume_mm3",
            "Volume_mm3",
            "Volume_mm3",
            "Volume_mm3",
            "Volume_mm3",
            "Volume_mm3",
            "Volume_mm3",
            "Volume_mm3",
            "Volume_mm3",
            "Volume_mm3",
            "Volume_mm3",
            "Volume_mm3",
            "Volume_mm3",
            "Volume_mm3",
            "Volume_mm3",
            "Volume_mm3",
            "Volume_mm3",
            "Volume_mm3",
            "Volume_mm3",
            "Volume_mm3",
            "Volume_mm3",
            "Volume_mm3",
            "Volume_mm3",
            "Volume_mm3",
            "Volume_mm3",
            "normMean",
            "normMean",
            "normMean",
            "normMean",
            "normMean",
            "normMean",
            "normMean",
            "normMean",
            "normMean",
            "normMean",
            "normMean",
            "normMean",
            "normMean",
            "normMean",
            "normMean",
            "normMean",
            "normMean",
            "normMean",
            "normMean",
            "normMean",
            "normMean",
            "normMean",
            "normMean",
            "normMean",
            "normMean",
            "normMean",
            "normMean",
            "normMean",
            "normMean",
            "normMean",
            "normMean",
            "normMean",
            "normMean",
            "normMean",
            "normMean",
            "normMean",
            "normMean",
            "normMean",
            "normMean",
            "normMean",
            "normMean",
            "normMean",
            "normMean",
            "normMean",
            "normMean",
            "normStdDev",
            "normStdDev",
            "normStdDev",
            "normStdDev",
            "normStdDev",
            "normStdDev",
            "normStdDev",
            "normStdDev",
            "normStdDev",
            "normStdDev",
            "normStdDev",
            "normStdDev",
            "normStdDev",
            "normStdDev",
            "normStdDev",
            "normStdDev",
            "normStdDev",
            "normStdDev",
            "normStdDev",
            "normStdDev",
            "normStdDev",
            "normStdDev",
            "normStdDev",
            "normStdDev",
            "normStdDev",
            "normStdDev",
            "normStdDev",
            "normStdDev",
            "normStdDev",
            "normStdDev",
            "normStdDev",
            "normStdDev",
            "normStdDev",
            "normStdDev",
            "normStdDev",
            "normStdDev",
            "normStdDev",
            "normStdDev",
            "normStdDev",
            "normStdDev",
            "normStdDev",
            "normStdDev",
            "normStdDev",
            "normStdDev",
            "normStdDev",
            "normMin",
            "normMin",
            "normMin",
            "normMin",
            "normMin",
            "normMin",
            "normMin",
            "normMin",
            "normMin",
            "normMin",
            "normMin",
            "normMin",
            "normMin",
            "normMin",
            "normMin",
            "normMin",
            "normMin",
            "normMin",
            "normMin",
            "normMin",
            "normMin",
            "normMin",
            "normMin",
            "normMin",
            "normMin",
            "normMin",
            "normMin",
            "normMin",
            "normMin",
            "normMin",
            "normMin",
            "normMin",
            "normMin",
            "normMin",
            "normMin",
            "normMin",
            "normMin",
            "normMin",
            "normMin",
            "normMin",
            "normMin",
            "normMin",
            "normMin",
            "normMin",
            "normMin",
            "normMax",
            "normMax",
            "normMax",
            "normMax",
            "normMax",
            "normMax",
            "normMax",
            "normMax",
            "normMax",
            "normMax",
            "normMax",
            "normMax",
            "normMax",
            "normMax",
            "normMax",
            "normMax",
            "normMax",
            "normMax",
            "normMax",
            "normMax",
            "normMax",
            "normMax",
            "normMax",
            "normMax",
            "normMax",
            "normMax",
            "normMax",
            "normMax",
            "normMax",
            "normMax",
            "normMax",
            "normMax",
            "normMax",
            "normMax",
            "normMax",
            "normMax",
            "normMax",
            "normMax",
            "normMax",
            "normMax",
            "normMax",
            "normMax",
            "normMax",
            "normMax",
            "normMax",
            "normRange",
            "normRange",
            "normRange",
            "normRange",
            "normRange",
            "normRange",
            "normRange",
            "normRange",
            "normRange",
            "normRange",
            "normRange",
            "normRange",
            "normRange",
            "normRange",
            "normRange",
            "normRange",
            "normRange",
            "normRange",
            "normRange",
            "normRange",
            "normRange",
            "normRange",
            "normRange",
            "normRange",
            "normRange",
            "normRange",
            "normRange",
            "normRange",
            "normRange",
            "normRange",
            "normRange",
            "normRange",
            "normRange",
            "normRange",
            "normRange",
            "normRange",
            "normRange",
            "normRange",
            "normRange",
            "normRange",
            "normRange",
            "normRange",
            "normRange",
            "normRange",
            "normRange"
           ],
           [
            "BrainSegVol",
            "BrainSegVolNotVent",
            "VentricleChoroidVol",
            "lhCortexVol",
            "rhCortexVol",
            "lhCerebralWhiteMatterVol",
            "rhCerebralWhiteMatterVol",
            "CerebralWhiteMatterVol",
            "SubCortGrayVol",
            "TotalGrayVol",
            "SupraTentorialVol",
            "SupraTentorialVolNotVent",
            "MaskVol",
            "eTIV",
            "BrainSegVol-to-eTIV",
            "MaskVol-to-eTIV",
            "lhSurfaceHoles",
            "rhSurfaceHoles",
            "SurfaceHoles",
            "Left-Lateral-Ventricle",
            "Left-Inf-Lat-Vent",
            "Left-Cerebellum-White-Matter",
            "Left-Cerebellum-Cortex",
            "Left-Thalamus",
            "Left-Caudate",
            "Left-Putamen",
            "Left-Pallidum",
            "3rd-Ventricle",
            "4th-Ventricle",
            "Brain-Stem",
            "Left-Hippocampus",
            "Left-Amygdala",
            "CSF",
            "Left-Accumbens-area",
            "Left-VentralDC",
            "Left-vessel",
            "Left-choroid-plexus",
            "Right-Lateral-Ventricle",
            "Right-Inf-Lat-Vent",
            "Right-Cerebellum-White-Matter",
            "Right-Cerebellum-Cortex",
            "Right-Thalamus",
            "Right-Caudate",
            "Right-Putamen",
            "Right-Pallidum",
            "Right-Hippocampus",
            "Right-Amygdala",
            "Right-Accumbens-area",
            "Right-VentralDC",
            "Right-vessel",
            "Right-choroid-plexus",
            "5th-Ventricle",
            "WM-hypointensities",
            "Left-WM-hypointensities",
            "Right-WM-hypointensities",
            "non-WM-hypointensities",
            "Left-non-WM-hypointensities",
            "Right-non-WM-hypointensities",
            "Optic-Chiasm",
            "CC_Posterior",
            "CC_Mid_Posterior",
            "CC_Central",
            "CC_Mid_Anterior",
            "CC_Anterior",
            "Left-Lateral-Ventricle",
            "Left-Inf-Lat-Vent",
            "Left-Cerebellum-White-Matter",
            "Left-Cerebellum-Cortex",
            "Left-Thalamus",
            "Left-Caudate",
            "Left-Putamen",
            "Left-Pallidum",
            "3rd-Ventricle",
            "4th-Ventricle",
            "Brain-Stem",
            "Left-Hippocampus",
            "Left-Amygdala",
            "CSF",
            "Left-Accumbens-area",
            "Left-VentralDC",
            "Left-vessel",
            "Left-choroid-plexus",
            "Right-Lateral-Ventricle",
            "Right-Inf-Lat-Vent",
            "Right-Cerebellum-White-Matter",
            "Right-Cerebellum-Cortex",
            "Right-Thalamus",
            "Right-Caudate",
            "Right-Putamen",
            "Right-Pallidum",
            "Right-Hippocampus",
            "Right-Amygdala",
            "Right-Accumbens-area",
            "Right-VentralDC",
            "Right-vessel",
            "Right-choroid-plexus",
            "5th-Ventricle",
            "WM-hypointensities",
            "Left-WM-hypointensities",
            "Right-WM-hypointensities",
            "non-WM-hypointensities",
            "Left-non-WM-hypointensities",
            "Right-non-WM-hypointensities",
            "Optic-Chiasm",
            "CC_Posterior",
            "CC_Mid_Posterior",
            "CC_Central",
            "CC_Mid_Anterior",
            "CC_Anterior",
            "Left-Lateral-Ventricle",
            "Left-Inf-Lat-Vent",
            "Left-Cerebellum-White-Matter",
            "Left-Cerebellum-Cortex",
            "Left-Thalamus",
            "Left-Caudate",
            "Left-Putamen",
            "Left-Pallidum",
            "3rd-Ventricle",
            "4th-Ventricle",
            "Brain-Stem",
            "Left-Hippocampus",
            "Left-Amygdala",
            "CSF",
            "Left-Accumbens-area",
            "Left-VentralDC",
            "Left-vessel",
            "Left-choroid-plexus",
            "Right-Lateral-Ventricle",
            "Right-Inf-Lat-Vent",
            "Right-Cerebellum-White-Matter",
            "Right-Cerebellum-Cortex",
            "Right-Thalamus",
            "Right-Caudate",
            "Right-Putamen",
            "Right-Pallidum",
            "Right-Hippocampus",
            "Right-Amygdala",
            "Right-Accumbens-area",
            "Right-VentralDC",
            "Right-vessel",
            "Right-choroid-plexus",
            "5th-Ventricle",
            "WM-hypointensities",
            "Left-WM-hypointensities",
            "Right-WM-hypointensities",
            "non-WM-hypointensities",
            "Left-non-WM-hypointensities",
            "Right-non-WM-hypointensities",
            "Optic-Chiasm",
            "CC_Posterior",
            "CC_Mid_Posterior",
            "CC_Central",
            "CC_Mid_Anterior",
            "CC_Anterior",
            "Left-Lateral-Ventricle",
            "Left-Inf-Lat-Vent",
            "Left-Cerebellum-White-Matter",
            "Left-Cerebellum-Cortex",
            "Left-Thalamus",
            "Left-Caudate",
            "Left-Putamen",
            "Left-Pallidum",
            "3rd-Ventricle",
            "4th-Ventricle",
            "Brain-Stem",
            "Left-Hippocampus",
            "Left-Amygdala",
            "CSF",
            "Left-Accumbens-area",
            "Left-VentralDC",
            "Left-vessel",
            "Left-choroid-plexus",
            "Right-Lateral-Ventricle",
            "Right-Inf-Lat-Vent",
            "Right-Cerebellum-White-Matter",
            "Right-Cerebellum-Cortex",
            "Right-Thalamus",
            "Right-Caudate",
            "Right-Putamen",
            "Right-Pallidum",
            "Right-Hippocampus",
            "Right-Amygdala",
            "Right-Accumbens-area",
            "Right-VentralDC",
            "Right-vessel",
            "Right-choroid-plexus",
            "5th-Ventricle",
            "WM-hypointensities",
            "Left-WM-hypointensities",
            "Right-WM-hypointensities",
            "non-WM-hypointensities",
            "Left-non-WM-hypointensities",
            "Right-non-WM-hypointensities",
            "Optic-Chiasm",
            "CC_Posterior",
            "CC_Mid_Posterior",
            "CC_Central",
            "CC_Mid_Anterior",
            "CC_Anterior",
            "Left-Lateral-Ventricle",
            "Left-Inf-Lat-Vent",
            "Left-Cerebellum-White-Matter",
            "Left-Cerebellum-Cortex",
            "Left-Thalamus",
            "Left-Caudate",
            "Left-Putamen",
            "Left-Pallidum",
            "3rd-Ventricle",
            "4th-Ventricle",
            "Brain-Stem",
            "Left-Hippocampus",
            "Left-Amygdala",
            "CSF",
            "Left-Accumbens-area",
            "Left-VentralDC",
            "Left-vessel",
            "Left-choroid-plexus",
            "Right-Lateral-Ventricle",
            "Right-Inf-Lat-Vent",
            "Right-Cerebellum-White-Matter",
            "Right-Cerebellum-Cortex",
            "Right-Thalamus",
            "Right-Caudate",
            "Right-Putamen",
            "Right-Pallidum",
            "Right-Hippocampus",
            "Right-Amygdala",
            "Right-Accumbens-area",
            "Right-VentralDC",
            "Right-vessel",
            "Right-choroid-plexus",
            "5th-Ventricle",
            "WM-hypointensities",
            "Left-WM-hypointensities",
            "Right-WM-hypointensities",
            "non-WM-hypointensities",
            "Left-non-WM-hypointensities",
            "Right-non-WM-hypointensities",
            "Optic-Chiasm",
            "CC_Posterior",
            "CC_Mid_Posterior",
            "CC_Central",
            "CC_Mid_Anterior",
            "CC_Anterior",
            "Left-Lateral-Ventricle",
            "Left-Inf-Lat-Vent",
            "Left-Cerebellum-White-Matter",
            "Left-Cerebellum-Cortex",
            "Left-Thalamus",
            "Left-Caudate",
            "Left-Putamen",
            "Left-Pallidum",
            "3rd-Ventricle",
            "4th-Ventricle",
            "Brain-Stem",
            "Left-Hippocampus",
            "Left-Amygdala",
            "CSF",
            "Left-Accumbens-area",
            "Left-VentralDC",
            "Left-vessel",
            "Left-choroid-plexus",
            "Right-Lateral-Ventricle",
            "Right-Inf-Lat-Vent",
            "Right-Cerebellum-White-Matter",
            "Right-Cerebellum-Cortex",
            "Right-Thalamus",
            "Right-Caudate",
            "Right-Putamen",
            "Right-Pallidum",
            "Right-Hippocampus",
            "Right-Amygdala",
            "Right-Accumbens-area",
            "Right-VentralDC",
            "Right-vessel",
            "Right-choroid-plexus",
            "5th-Ventricle",
            "WM-hypointensities",
            "Left-WM-hypointensities",
            "Right-WM-hypointensities",
            "non-WM-hypointensities",
            "Left-non-WM-hypointensities",
            "Right-non-WM-hypointensities",
            "Optic-Chiasm",
            "CC_Posterior",
            "CC_Mid_Posterior",
            "CC_Central",
            "CC_Mid_Anterior",
            "CC_Anterior",
            "Left-Lateral-Ventricle",
            "Left-Inf-Lat-Vent",
            "Left-Cerebellum-White-Matter",
            "Left-Cerebellum-Cortex",
            "Left-Thalamus",
            "Left-Caudate",
            "Left-Putamen",
            "Left-Pallidum",
            "3rd-Ventricle",
            "4th-Ventricle",
            "Brain-Stem",
            "Left-Hippocampus",
            "Left-Amygdala",
            "CSF",
            "Left-Accumbens-area",
            "Left-VentralDC",
            "Left-vessel",
            "Left-choroid-plexus",
            "Right-Lateral-Ventricle",
            "Right-Inf-Lat-Vent",
            "Right-Cerebellum-White-Matter",
            "Right-Cerebellum-Cortex",
            "Right-Thalamus",
            "Right-Caudate",
            "Right-Putamen",
            "Right-Pallidum",
            "Right-Hippocampus",
            "Right-Amygdala",
            "Right-Accumbens-area",
            "Right-VentralDC",
            "Right-vessel",
            "Right-choroid-plexus",
            "5th-Ventricle",
            "WM-hypointensities",
            "Left-WM-hypointensities",
            "Right-WM-hypointensities",
            "non-WM-hypointensities",
            "Left-non-WM-hypointensities",
            "Right-non-WM-hypointensities",
            "Optic-Chiasm",
            "CC_Posterior",
            "CC_Mid_Posterior",
            "CC_Central",
            "CC_Mid_Anterior",
            "CC_Anterior",
            "Left-Lateral-Ventricle",
            "Left-Inf-Lat-Vent",
            "Left-Cerebellum-White-Matter",
            "Left-Cerebellum-Cortex",
            "Left-Thalamus",
            "Left-Caudate",
            "Left-Putamen",
            "Left-Pallidum",
            "3rd-Ventricle",
            "4th-Ventricle",
            "Brain-Stem",
            "Left-Hippocampus",
            "Left-Amygdala",
            "CSF",
            "Left-Accumbens-area",
            "Left-VentralDC",
            "Left-vessel",
            "Left-choroid-plexus",
            "Right-Lateral-Ventricle",
            "Right-Inf-Lat-Vent",
            "Right-Cerebellum-White-Matter",
            "Right-Cerebellum-Cortex",
            "Right-Thalamus",
            "Right-Caudate",
            "Right-Putamen",
            "Right-Pallidum",
            "Right-Hippocampus",
            "Right-Amygdala",
            "Right-Accumbens-area",
            "Right-VentralDC",
            "Right-vessel",
            "Right-choroid-plexus",
            "5th-Ventricle",
            "WM-hypointensities",
            "Left-WM-hypointensities",
            "Right-WM-hypointensities",
            "non-WM-hypointensities",
            "Left-non-WM-hypointensities",
            "Right-non-WM-hypointensities",
            "Optic-Chiasm",
            "CC_Posterior",
            "CC_Mid_Posterior",
            "CC_Central",
            "CC_Mid_Anterior",
            "CC_Anterior",
            "Left-Lateral-Ventricle",
            "Left-Inf-Lat-Vent",
            "Left-Cerebellum-White-Matter",
            "Left-Cerebellum-Cortex",
            "Left-Thalamus",
            "Left-Caudate",
            "Left-Putamen",
            "Left-Pallidum",
            "3rd-Ventricle",
            "4th-Ventricle",
            "Brain-Stem",
            "Left-Hippocampus",
            "Left-Amygdala",
            "CSF",
            "Left-Accumbens-area",
            "Left-VentralDC",
            "Left-vessel",
            "Left-choroid-plexus",
            "Right-Lateral-Ventricle",
            "Right-Inf-Lat-Vent",
            "Right-Cerebellum-White-Matter",
            "Right-Cerebellum-Cortex",
            "Right-Thalamus",
            "Right-Caudate",
            "Right-Putamen",
            "Right-Pallidum",
            "Right-Hippocampus",
            "Right-Amygdala",
            "Right-Accumbens-area",
            "Right-VentralDC",
            "Right-vessel",
            "Right-choroid-plexus",
            "5th-Ventricle",
            "WM-hypointensities",
            "Left-WM-hypointensities",
            "Right-WM-hypointensities",
            "non-WM-hypointensities",
            "Left-non-WM-hypointensities",
            "Right-non-WM-hypointensities",
            "Optic-Chiasm",
            "CC_Posterior",
            "CC_Mid_Posterior",
            "CC_Central",
            "CC_Mid_Anterior",
            "CC_Anterior"
           ],
           [
            1022580.374364,
            980107.281317,
            36647.69615,
            204580.125985,
            213219.579237,
            196262.102864,
            206063.094817,
            402325.197681,
            44579.309386,
            557499.642814,
            907305.992304,
            864832.899257,
            1165105.127261,
            987811.52958,
            1.035198,
            1.179481,
            22,
            20,
            42,
            "1",
            "2",
            "3",
            "4",
            "5",
            "6",
            "7",
            "8",
            "9",
            "10",
            "11",
            "12",
            "13",
            "14",
            "15",
            "16",
            "17",
            "18",
            "19",
            "20",
            "21",
            "22",
            "23",
            "24",
            "25",
            "26",
            "27",
            "28",
            "29",
            "30",
            "31",
            "32",
            "33",
            "34",
            "35",
            "36",
            "37",
            "38",
            "39",
            "40",
            "41",
            "42",
            "43",
            "44",
            "45",
            "4",
            "5",
            "7",
            "8",
            "10",
            "11",
            "12",
            "13",
            "14",
            "15",
            "16",
            "17",
            "18",
            "24",
            "26",
            "28",
            "30",
            "31",
            "43",
            "44",
            "46",
            "47",
            "49",
            "50",
            "51",
            "52",
            "53",
            "54",
            "58",
            "60",
            "62",
            "63",
            "72",
            "77",
            "78",
            "79",
            "80",
            "81",
            "82",
            "85",
            "251",
            "252",
            "253",
            "254",
            "255",
            "71426",
            "3450",
            "49504",
            "220492",
            "28046",
            "12097",
            "18122",
            "6926",
            "9100",
            "14278",
            "75439",
            "14506",
            "4110",
            "3998",
            "1658",
            "16618",
            "96",
            "1382",
            "90021",
            "4294",
            "45207",
            "226520",
            "26605",
            "14825",
            "19715",
            "6908",
            "14491",
            "7029",
            "1385",
            "16456",
            "157",
            "1650",
            "0",
            "8394",
            "0",
            "0",
            "0",
            "0",
            "0",
            "566",
            "1516",
            "905",
            "822",
            "850",
            "684",
            "15105.8",
            "716.0",
            "10939.2",
            "47175.7",
            "5938.8",
            "2556.0",
            "3897.8",
            "1442.1",
            "1892.2",
            "3017.1",
            "16357.3",
            "3046.7",
            "876.5",
            "791.3",
            "343.7",
            "3548.8",
            "25.5",
            "253.5",
            "19138.5",
            "885.3",
            "10097.9",
            "48530.6",
            "5663.2",
            "3087.6",
            "4192.2",
            "1430.1",
            "3053.9",
            "1488.5",
            "260.7",
            "3491.2",
            "35.7",
            "303.9",
            "0.0",
            "1603.0",
            "0.0",
            "0.0",
            "0.0",
            "0.0",
            "0.0",
            "144.5",
            "311.7",
            "184.6",
            "165.8",
            "172.5",
            "136.2",
            "4.6767",
            "15.5006",
            "81.9911",
            "52.7985",
            "86.0662",
            "67.7933",
            "77.8573",
            "96.9547",
            "8.3914",
            "5.9527",
            "79.2351",
            "53.8749",
            "54.5494",
            "17.7361",
            "60.9077",
            "89.6860",
            "54.5104",
            "49.6245",
            "3.1373",
            "15.5293",
            "82.6941",
            "51.5612",
            "87.3095",
            "70.9748",
            "76.6375",
            "96.6963",
            "54.6982",
            "57.6960",
            "63.6195",
            "88.3180",
            "44.0446",
            "46.5691",
            "0.0000",
            "61.0157",
            "0.0000",
            "0.0000",
            "0.0000",
            "0.0000",
            "0.0000",
            "65.0954",
            "98.4650",
            "98.0906",
            "96.9039",
            "96.9977",
            "92.7412",
            "12.4102",
            "18.3722",
            "6.1082",
            "12.0833",
            "10.4791",
            "9.3178",
            "6.8119",
            "4.7310",
            "15.0611",
            "12.2107",
            "8.7680",
            "11.2487",
            "11.9093",
            "19.7295",
            "6.7235",
            "11.0019",
            "12.2723",
            "15.8209",
            "9.8154",
            "17.7783",
            "5.9256",
            "14.0219",
            "10.4884",
            "12.4271",
            "7.5805",
            "5.0452",
            "11.3053",
            "9.6508",
            "8.8082",
            "12.5134",
            "17.1716",
            "15.7971",
            "0.0000",
            "23.7156",
            "0.0000",
            "0.0000",
            "0.0000",
            "0.0000",
            "0.0000",
            "18.2419",
            "12.3538",
            "13.3936",
            "14.2240",
            "14.6000",
            "16.3256",
            "0.0000",
            "0.0000",
            "6.0000",
            "0.0000",
            "22.0000",
            "32.0000",
            "36.0000",
            "70.0000",
            "0.0000",
            "0.0000",
            "0.0000",
            "0.0000",
            "0.0000",
            "0.0000",
            "44.0000",
            "0.0000",
            "4.0000",
            "12.0000",
            "0.0000",
            "0.0000",
            "0.0000",
            "0.0000",
            "2.0000",
            "31.0000",
            "35.0000",
            "20.0000",
            "0.0000",
            "0.0000",
            "49.0000",
            "0.0000",
            "0.0000",
            "0.0000",
            "0.0000",
            "0.0000",
            "0.0000",
            "0.0000",
            "0.0000",
            "0.0000",
            "0.0000",
            "0.0000",
            "11.0000",
            "40.0000",
            "12.0000",
            "0.0000",
            "14.0000",
            "98.0000",
            "78.0000",
            "98.0000",
            "94.0000",
            "109.0000",
            "104.0000",
            "103.0000",
            "111.0000",
            "75.0000",
            "79.0000",
            "104.0000",
            "108.0000",
            "93.0000",
            "88.0000",
            "86.0000",
            "108.0000",
            "69.0000",
            "107.0000",
            "94.0000",
            "84.0000",
            "98.0000",
            "94.0000",
            "108.0000",
            "110.0000",
            "98.0000",
            "110.0000",
            "99.0000",
            "94.0000",
            "95.0000",
            "107.0000",
            "70.0000",
            "97.0000",
            "0.0000",
            "104.0000",
            "0.0000",
            "0.0000",
            "0.0000",
            "0.0000",
            "0.0000",
            "101.0000",
            "109.0000",
            "109.0000",
            "108.0000",
            "110.0000",
            "110.0000",
            "98.0000",
            "78.0000",
            "92.0000",
            "94.0000",
            "87.0000",
            "72.0000",
            "67.0000",
            "41.0000",
            "75.0000",
            "79.0000",
            "104.0000",
            "108.0000",
            "93.0000",
            "88.0000",
            "42.0000",
            "108.0000",
            "65.0000",
            "95.0000",
            "94.0000",
            "84.0000",
            "98.0000",
            "94.0000",
            "106.0000",
            "79.0000",
            "63.0000",
            "90.0000",
            "99.0000",
            "94.0000",
            "46.0000",
            "107.0000",
            "70.0000",
            "97.0000",
            "0.0000",
            "104.0000",
            "0.0000",
            "0.0000",
            "0.0000",
            "0.0000",
            "0.0000",
            "101.0000",
            "98.0000",
            "69.0000",
            "96.0000",
            "110.0000",
            "96.0000"
           ]
          ]
         },
         "header": {
          "values": [
           "measurement",
           "region",
           "value"
          ]
         },
         "type": "table"
        }
       ],
       "layout": {
        "template": {
         "data": {
          "bar": [
           {
            "error_x": {
             "color": "#2a3f5f"
            },
            "error_y": {
             "color": "#2a3f5f"
            },
            "marker": {
             "line": {
              "color": "#E5ECF6",
              "width": 0.5
             },
             "pattern": {
              "fillmode": "overlay",
              "size": 10,
              "solidity": 0.2
             }
            },
            "type": "bar"
           }
          ],
          "barpolar": [
           {
            "marker": {
             "line": {
              "color": "#E5ECF6",
              "width": 0.5
             },
             "pattern": {
              "fillmode": "overlay",
              "size": 10,
              "solidity": 0.2
             }
            },
            "type": "barpolar"
           }
          ],
          "carpet": [
           {
            "aaxis": {
             "endlinecolor": "#2a3f5f",
             "gridcolor": "white",
             "linecolor": "white",
             "minorgridcolor": "white",
             "startlinecolor": "#2a3f5f"
            },
            "baxis": {
             "endlinecolor": "#2a3f5f",
             "gridcolor": "white",
             "linecolor": "white",
             "minorgridcolor": "white",
             "startlinecolor": "#2a3f5f"
            },
            "type": "carpet"
           }
          ],
          "choropleth": [
           {
            "colorbar": {
             "outlinewidth": 0,
             "ticks": ""
            },
            "type": "choropleth"
           }
          ],
          "contour": [
           {
            "colorbar": {
             "outlinewidth": 0,
             "ticks": ""
            },
            "colorscale": [
             [
              0,
              "#0d0887"
             ],
             [
              0.1111111111111111,
              "#46039f"
             ],
             [
              0.2222222222222222,
              "#7201a8"
             ],
             [
              0.3333333333333333,
              "#9c179e"
             ],
             [
              0.4444444444444444,
              "#bd3786"
             ],
             [
              0.5555555555555556,
              "#d8576b"
             ],
             [
              0.6666666666666666,
              "#ed7953"
             ],
             [
              0.7777777777777778,
              "#fb9f3a"
             ],
             [
              0.8888888888888888,
              "#fdca26"
             ],
             [
              1,
              "#f0f921"
             ]
            ],
            "type": "contour"
           }
          ],
          "contourcarpet": [
           {
            "colorbar": {
             "outlinewidth": 0,
             "ticks": ""
            },
            "type": "contourcarpet"
           }
          ],
          "heatmap": [
           {
            "colorbar": {
             "outlinewidth": 0,
             "ticks": ""
            },
            "colorscale": [
             [
              0,
              "#0d0887"
             ],
             [
              0.1111111111111111,
              "#46039f"
             ],
             [
              0.2222222222222222,
              "#7201a8"
             ],
             [
              0.3333333333333333,
              "#9c179e"
             ],
             [
              0.4444444444444444,
              "#bd3786"
             ],
             [
              0.5555555555555556,
              "#d8576b"
             ],
             [
              0.6666666666666666,
              "#ed7953"
             ],
             [
              0.7777777777777778,
              "#fb9f3a"
             ],
             [
              0.8888888888888888,
              "#fdca26"
             ],
             [
              1,
              "#f0f921"
             ]
            ],
            "type": "heatmap"
           }
          ],
          "heatmapgl": [
           {
            "colorbar": {
             "outlinewidth": 0,
             "ticks": ""
            },
            "colorscale": [
             [
              0,
              "#0d0887"
             ],
             [
              0.1111111111111111,
              "#46039f"
             ],
             [
              0.2222222222222222,
              "#7201a8"
             ],
             [
              0.3333333333333333,
              "#9c179e"
             ],
             [
              0.4444444444444444,
              "#bd3786"
             ],
             [
              0.5555555555555556,
              "#d8576b"
             ],
             [
              0.6666666666666666,
              "#ed7953"
             ],
             [
              0.7777777777777778,
              "#fb9f3a"
             ],
             [
              0.8888888888888888,
              "#fdca26"
             ],
             [
              1,
              "#f0f921"
             ]
            ],
            "type": "heatmapgl"
           }
          ],
          "histogram": [
           {
            "marker": {
             "pattern": {
              "fillmode": "overlay",
              "size": 10,
              "solidity": 0.2
             }
            },
            "type": "histogram"
           }
          ],
          "histogram2d": [
           {
            "colorbar": {
             "outlinewidth": 0,
             "ticks": ""
            },
            "colorscale": [
             [
              0,
              "#0d0887"
             ],
             [
              0.1111111111111111,
              "#46039f"
             ],
             [
              0.2222222222222222,
              "#7201a8"
             ],
             [
              0.3333333333333333,
              "#9c179e"
             ],
             [
              0.4444444444444444,
              "#bd3786"
             ],
             [
              0.5555555555555556,
              "#d8576b"
             ],
             [
              0.6666666666666666,
              "#ed7953"
             ],
             [
              0.7777777777777778,
              "#fb9f3a"
             ],
             [
              0.8888888888888888,
              "#fdca26"
             ],
             [
              1,
              "#f0f921"
             ]
            ],
            "type": "histogram2d"
           }
          ],
          "histogram2dcontour": [
           {
            "colorbar": {
             "outlinewidth": 0,
             "ticks": ""
            },
            "colorscale": [
             [
              0,
              "#0d0887"
             ],
             [
              0.1111111111111111,
              "#46039f"
             ],
             [
              0.2222222222222222,
              "#7201a8"
             ],
             [
              0.3333333333333333,
              "#9c179e"
             ],
             [
              0.4444444444444444,
              "#bd3786"
             ],
             [
              0.5555555555555556,
              "#d8576b"
             ],
             [
              0.6666666666666666,
              "#ed7953"
             ],
             [
              0.7777777777777778,
              "#fb9f3a"
             ],
             [
              0.8888888888888888,
              "#fdca26"
             ],
             [
              1,
              "#f0f921"
             ]
            ],
            "type": "histogram2dcontour"
           }
          ],
          "mesh3d": [
           {
            "colorbar": {
             "outlinewidth": 0,
             "ticks": ""
            },
            "type": "mesh3d"
           }
          ],
          "parcoords": [
           {
            "line": {
             "colorbar": {
              "outlinewidth": 0,
              "ticks": ""
             }
            },
            "type": "parcoords"
           }
          ],
          "pie": [
           {
            "automargin": true,
            "type": "pie"
           }
          ],
          "scatter": [
           {
            "fillpattern": {
             "fillmode": "overlay",
             "size": 10,
             "solidity": 0.2
            },
            "type": "scatter"
           }
          ],
          "scatter3d": [
           {
            "line": {
             "colorbar": {
              "outlinewidth": 0,
              "ticks": ""
             }
            },
            "marker": {
             "colorbar": {
              "outlinewidth": 0,
              "ticks": ""
             }
            },
            "type": "scatter3d"
           }
          ],
          "scattercarpet": [
           {
            "marker": {
             "colorbar": {
              "outlinewidth": 0,
              "ticks": ""
             }
            },
            "type": "scattercarpet"
           }
          ],
          "scattergeo": [
           {
            "marker": {
             "colorbar": {
              "outlinewidth": 0,
              "ticks": ""
             }
            },
            "type": "scattergeo"
           }
          ],
          "scattergl": [
           {
            "marker": {
             "colorbar": {
              "outlinewidth": 0,
              "ticks": ""
             }
            },
            "type": "scattergl"
           }
          ],
          "scattermapbox": [
           {
            "marker": {
             "colorbar": {
              "outlinewidth": 0,
              "ticks": ""
             }
            },
            "type": "scattermapbox"
           }
          ],
          "scatterpolar": [
           {
            "marker": {
             "colorbar": {
              "outlinewidth": 0,
              "ticks": ""
             }
            },
            "type": "scatterpolar"
           }
          ],
          "scatterpolargl": [
           {
            "marker": {
             "colorbar": {
              "outlinewidth": 0,
              "ticks": ""
             }
            },
            "type": "scatterpolargl"
           }
          ],
          "scatterternary": [
           {
            "marker": {
             "colorbar": {
              "outlinewidth": 0,
              "ticks": ""
             }
            },
            "type": "scatterternary"
           }
          ],
          "surface": [
           {
            "colorbar": {
             "outlinewidth": 0,
             "ticks": ""
            },
            "colorscale": [
             [
              0,
              "#0d0887"
             ],
             [
              0.1111111111111111,
              "#46039f"
             ],
             [
              0.2222222222222222,
              "#7201a8"
             ],
             [
              0.3333333333333333,
              "#9c179e"
             ],
             [
              0.4444444444444444,
              "#bd3786"
             ],
             [
              0.5555555555555556,
              "#d8576b"
             ],
             [
              0.6666666666666666,
              "#ed7953"
             ],
             [
              0.7777777777777778,
              "#fb9f3a"
             ],
             [
              0.8888888888888888,
              "#fdca26"
             ],
             [
              1,
              "#f0f921"
             ]
            ],
            "type": "surface"
           }
          ],
          "table": [
           {
            "cells": {
             "fill": {
              "color": "#EBF0F8"
             },
             "line": {
              "color": "white"
             }
            },
            "header": {
             "fill": {
              "color": "#C8D4E3"
             },
             "line": {
              "color": "white"
             }
            },
            "type": "table"
           }
          ]
         },
         "layout": {
          "annotationdefaults": {
           "arrowcolor": "#2a3f5f",
           "arrowhead": 0,
           "arrowwidth": 1
          },
          "autotypenumbers": "strict",
          "coloraxis": {
           "colorbar": {
            "outlinewidth": 0,
            "ticks": ""
           }
          },
          "colorscale": {
           "diverging": [
            [
             0,
             "#8e0152"
            ],
            [
             0.1,
             "#c51b7d"
            ],
            [
             0.2,
             "#de77ae"
            ],
            [
             0.3,
             "#f1b6da"
            ],
            [
             0.4,
             "#fde0ef"
            ],
            [
             0.5,
             "#f7f7f7"
            ],
            [
             0.6,
             "#e6f5d0"
            ],
            [
             0.7,
             "#b8e186"
            ],
            [
             0.8,
             "#7fbc41"
            ],
            [
             0.9,
             "#4d9221"
            ],
            [
             1,
             "#276419"
            ]
           ],
           "sequential": [
            [
             0,
             "#0d0887"
            ],
            [
             0.1111111111111111,
             "#46039f"
            ],
            [
             0.2222222222222222,
             "#7201a8"
            ],
            [
             0.3333333333333333,
             "#9c179e"
            ],
            [
             0.4444444444444444,
             "#bd3786"
            ],
            [
             0.5555555555555556,
             "#d8576b"
            ],
            [
             0.6666666666666666,
             "#ed7953"
            ],
            [
             0.7777777777777778,
             "#fb9f3a"
            ],
            [
             0.8888888888888888,
             "#fdca26"
            ],
            [
             1,
             "#f0f921"
            ]
           ],
           "sequentialminus": [
            [
             0,
             "#0d0887"
            ],
            [
             0.1111111111111111,
             "#46039f"
            ],
            [
             0.2222222222222222,
             "#7201a8"
            ],
            [
             0.3333333333333333,
             "#9c179e"
            ],
            [
             0.4444444444444444,
             "#bd3786"
            ],
            [
             0.5555555555555556,
             "#d8576b"
            ],
            [
             0.6666666666666666,
             "#ed7953"
            ],
            [
             0.7777777777777778,
             "#fb9f3a"
            ],
            [
             0.8888888888888888,
             "#fdca26"
            ],
            [
             1,
             "#f0f921"
            ]
           ]
          },
          "colorway": [
           "#636efa",
           "#EF553B",
           "#00cc96",
           "#ab63fa",
           "#FFA15A",
           "#19d3f3",
           "#FF6692",
           "#B6E880",
           "#FF97FF",
           "#FECB52"
          ],
          "font": {
           "color": "#2a3f5f"
          },
          "geo": {
           "bgcolor": "white",
           "lakecolor": "white",
           "landcolor": "#E5ECF6",
           "showlakes": true,
           "showland": true,
           "subunitcolor": "white"
          },
          "hoverlabel": {
           "align": "left"
          },
          "hovermode": "closest",
          "mapbox": {
           "style": "light"
          },
          "paper_bgcolor": "white",
          "plot_bgcolor": "#E5ECF6",
          "polar": {
           "angularaxis": {
            "gridcolor": "white",
            "linecolor": "white",
            "ticks": ""
           },
           "bgcolor": "#E5ECF6",
           "radialaxis": {
            "gridcolor": "white",
            "linecolor": "white",
            "ticks": ""
           }
          },
          "scene": {
           "xaxis": {
            "backgroundcolor": "#E5ECF6",
            "gridcolor": "white",
            "gridwidth": 2,
            "linecolor": "white",
            "showbackground": true,
            "ticks": "",
            "zerolinecolor": "white"
           },
           "yaxis": {
            "backgroundcolor": "#E5ECF6",
            "gridcolor": "white",
            "gridwidth": 2,
            "linecolor": "white",
            "showbackground": true,
            "ticks": "",
            "zerolinecolor": "white"
           },
           "zaxis": {
            "backgroundcolor": "#E5ECF6",
            "gridcolor": "white",
            "gridwidth": 2,
            "linecolor": "white",
            "showbackground": true,
            "ticks": "",
            "zerolinecolor": "white"
           }
          },
          "shapedefaults": {
           "line": {
            "color": "#2a3f5f"
           }
          },
          "ternary": {
           "aaxis": {
            "gridcolor": "white",
            "linecolor": "white",
            "ticks": ""
           },
           "baxis": {
            "gridcolor": "white",
            "linecolor": "white",
            "ticks": ""
           },
           "bgcolor": "#E5ECF6",
           "caxis": {
            "gridcolor": "white",
            "linecolor": "white",
            "ticks": ""
           }
          },
          "title": {
           "x": 0.05
          },
          "xaxis": {
           "automargin": true,
           "gridcolor": "white",
           "linecolor": "white",
           "ticks": "",
           "title": {
            "standoff": 15
           },
           "zerolinecolor": "white",
           "zerolinewidth": 2
          },
          "yaxis": {
           "automargin": true,
           "gridcolor": "white",
           "linecolor": "white",
           "ticks": "",
           "title": {
            "standoff": 15
           },
           "zerolinecolor": "white",
           "zerolinewidth": 2
          }
         }
        }
       }
      },
      "text/html": [
       "<div>                            <div id=\"7724ec2e-f0de-41bf-8154-aa6f45faaea8\" class=\"plotly-graph-div\" style=\"height:525px; width:100%;\"></div>            <script type=\"text/javascript\">                require([\"plotly\"], function(Plotly) {                    window.PLOTLYENV=window.PLOTLYENV || {};                                    if (document.getElementById(\"7724ec2e-f0de-41bf-8154-aa6f45faaea8\")) {                    Plotly.newPlot(                        \"7724ec2e-f0de-41bf-8154-aa6f45faaea8\",                        [{\"cells\":{\"values\":[[\"Volume_mm3\",\"Volume_mm3\",\"Volume_mm3\",\"Volume_mm3\",\"Volume_mm3\",\"Volume_mm3\",\"Volume_mm3\",\"Volume_mm3\",\"Volume_mm3\",\"Volume_mm3\",\"Volume_mm3\",\"Volume_mm3\",\"Volume_mm3\",\"Volume_mm3\",\"unitless\",\"unitless\",\"unitless\",\"unitless\",\"unitless\",\"Index\",\"Index\",\"Index\",\"Index\",\"Index\",\"Index\",\"Index\",\"Index\",\"Index\",\"Index\",\"Index\",\"Index\",\"Index\",\"Index\",\"Index\",\"Index\",\"Index\",\"Index\",\"Index\",\"Index\",\"Index\",\"Index\",\"Index\",\"Index\",\"Index\",\"Index\",\"Index\",\"Index\",\"Index\",\"Index\",\"Index\",\"Index\",\"Index\",\"Index\",\"Index\",\"Index\",\"Index\",\"Index\",\"Index\",\"Index\",\"Index\",\"Index\",\"Index\",\"Index\",\"Index\",\"SegId\",\"SegId\",\"SegId\",\"SegId\",\"SegId\",\"SegId\",\"SegId\",\"SegId\",\"SegId\",\"SegId\",\"SegId\",\"SegId\",\"SegId\",\"SegId\",\"SegId\",\"SegId\",\"SegId\",\"SegId\",\"SegId\",\"SegId\",\"SegId\",\"SegId\",\"SegId\",\"SegId\",\"SegId\",\"SegId\",\"SegId\",\"SegId\",\"SegId\",\"SegId\",\"SegId\",\"SegId\",\"SegId\",\"SegId\",\"SegId\",\"SegId\",\"SegId\",\"SegId\",\"SegId\",\"SegId\",\"SegId\",\"SegId\",\"SegId\",\"SegId\",\"SegId\",\"NVoxels\",\"NVoxels\",\"NVoxels\",\"NVoxels\",\"NVoxels\",\"NVoxels\",\"NVoxels\",\"NVoxels\",\"NVoxels\",\"NVoxels\",\"NVoxels\",\"NVoxels\",\"NVoxels\",\"NVoxels\",\"NVoxels\",\"NVoxels\",\"NVoxels\",\"NVoxels\",\"NVoxels\",\"NVoxels\",\"NVoxels\",\"NVoxels\",\"NVoxels\",\"NVoxels\",\"NVoxels\",\"NVoxels\",\"NVoxels\",\"NVoxels\",\"NVoxels\",\"NVoxels\",\"NVoxels\",\"NVoxels\",\"NVoxels\",\"NVoxels\",\"NVoxels\",\"NVoxels\",\"NVoxels\",\"NVoxels\",\"NVoxels\",\"NVoxels\",\"NVoxels\",\"NVoxels\",\"NVoxels\",\"NVoxels\",\"NVoxels\",\"Volume_mm3\",\"Volume_mm3\",\"Volume_mm3\",\"Volume_mm3\",\"Volume_mm3\",\"Volume_mm3\",\"Volume_mm3\",\"Volume_mm3\",\"Volume_mm3\",\"Volume_mm3\",\"Volume_mm3\",\"Volume_mm3\",\"Volume_mm3\",\"Volume_mm3\",\"Volume_mm3\",\"Volume_mm3\",\"Volume_mm3\",\"Volume_mm3\",\"Volume_mm3\",\"Volume_mm3\",\"Volume_mm3\",\"Volume_mm3\",\"Volume_mm3\",\"Volume_mm3\",\"Volume_mm3\",\"Volume_mm3\",\"Volume_mm3\",\"Volume_mm3\",\"Volume_mm3\",\"Volume_mm3\",\"Volume_mm3\",\"Volume_mm3\",\"Volume_mm3\",\"Volume_mm3\",\"Volume_mm3\",\"Volume_mm3\",\"Volume_mm3\",\"Volume_mm3\",\"Volume_mm3\",\"Volume_mm3\",\"Volume_mm3\",\"Volume_mm3\",\"Volume_mm3\",\"Volume_mm3\",\"Volume_mm3\",\"normMean\",\"normMean\",\"normMean\",\"normMean\",\"normMean\",\"normMean\",\"normMean\",\"normMean\",\"normMean\",\"normMean\",\"normMean\",\"normMean\",\"normMean\",\"normMean\",\"normMean\",\"normMean\",\"normMean\",\"normMean\",\"normMean\",\"normMean\",\"normMean\",\"normMean\",\"normMean\",\"normMean\",\"normMean\",\"normMean\",\"normMean\",\"normMean\",\"normMean\",\"normMean\",\"normMean\",\"normMean\",\"normMean\",\"normMean\",\"normMean\",\"normMean\",\"normMean\",\"normMean\",\"normMean\",\"normMean\",\"normMean\",\"normMean\",\"normMean\",\"normMean\",\"normMean\",\"normStdDev\",\"normStdDev\",\"normStdDev\",\"normStdDev\",\"normStdDev\",\"normStdDev\",\"normStdDev\",\"normStdDev\",\"normStdDev\",\"normStdDev\",\"normStdDev\",\"normStdDev\",\"normStdDev\",\"normStdDev\",\"normStdDev\",\"normStdDev\",\"normStdDev\",\"normStdDev\",\"normStdDev\",\"normStdDev\",\"normStdDev\",\"normStdDev\",\"normStdDev\",\"normStdDev\",\"normStdDev\",\"normStdDev\",\"normStdDev\",\"normStdDev\",\"normStdDev\",\"normStdDev\",\"normStdDev\",\"normStdDev\",\"normStdDev\",\"normStdDev\",\"normStdDev\",\"normStdDev\",\"normStdDev\",\"normStdDev\",\"normStdDev\",\"normStdDev\",\"normStdDev\",\"normStdDev\",\"normStdDev\",\"normStdDev\",\"normStdDev\",\"normMin\",\"normMin\",\"normMin\",\"normMin\",\"normMin\",\"normMin\",\"normMin\",\"normMin\",\"normMin\",\"normMin\",\"normMin\",\"normMin\",\"normMin\",\"normMin\",\"normMin\",\"normMin\",\"normMin\",\"normMin\",\"normMin\",\"normMin\",\"normMin\",\"normMin\",\"normMin\",\"normMin\",\"normMin\",\"normMin\",\"normMin\",\"normMin\",\"normMin\",\"normMin\",\"normMin\",\"normMin\",\"normMin\",\"normMin\",\"normMin\",\"normMin\",\"normMin\",\"normMin\",\"normMin\",\"normMin\",\"normMin\",\"normMin\",\"normMin\",\"normMin\",\"normMin\",\"normMax\",\"normMax\",\"normMax\",\"normMax\",\"normMax\",\"normMax\",\"normMax\",\"normMax\",\"normMax\",\"normMax\",\"normMax\",\"normMax\",\"normMax\",\"normMax\",\"normMax\",\"normMax\",\"normMax\",\"normMax\",\"normMax\",\"normMax\",\"normMax\",\"normMax\",\"normMax\",\"normMax\",\"normMax\",\"normMax\",\"normMax\",\"normMax\",\"normMax\",\"normMax\",\"normMax\",\"normMax\",\"normMax\",\"normMax\",\"normMax\",\"normMax\",\"normMax\",\"normMax\",\"normMax\",\"normMax\",\"normMax\",\"normMax\",\"normMax\",\"normMax\",\"normMax\",\"normRange\",\"normRange\",\"normRange\",\"normRange\",\"normRange\",\"normRange\",\"normRange\",\"normRange\",\"normRange\",\"normRange\",\"normRange\",\"normRange\",\"normRange\",\"normRange\",\"normRange\",\"normRange\",\"normRange\",\"normRange\",\"normRange\",\"normRange\",\"normRange\",\"normRange\",\"normRange\",\"normRange\",\"normRange\",\"normRange\",\"normRange\",\"normRange\",\"normRange\",\"normRange\",\"normRange\",\"normRange\",\"normRange\",\"normRange\",\"normRange\",\"normRange\",\"normRange\",\"normRange\",\"normRange\",\"normRange\",\"normRange\",\"normRange\",\"normRange\",\"normRange\",\"normRange\"],[\"BrainSegVol\",\"BrainSegVolNotVent\",\"VentricleChoroidVol\",\"lhCortexVol\",\"rhCortexVol\",\"lhCerebralWhiteMatterVol\",\"rhCerebralWhiteMatterVol\",\"CerebralWhiteMatterVol\",\"SubCortGrayVol\",\"TotalGrayVol\",\"SupraTentorialVol\",\"SupraTentorialVolNotVent\",\"MaskVol\",\"eTIV\",\"BrainSegVol-to-eTIV\",\"MaskVol-to-eTIV\",\"lhSurfaceHoles\",\"rhSurfaceHoles\",\"SurfaceHoles\",\"Left-Lateral-Ventricle\",\"Left-Inf-Lat-Vent\",\"Left-Cerebellum-White-Matter\",\"Left-Cerebellum-Cortex\",\"Left-Thalamus\",\"Left-Caudate\",\"Left-Putamen\",\"Left-Pallidum\",\"3rd-Ventricle\",\"4th-Ventricle\",\"Brain-Stem\",\"Left-Hippocampus\",\"Left-Amygdala\",\"CSF\",\"Left-Accumbens-area\",\"Left-VentralDC\",\"Left-vessel\",\"Left-choroid-plexus\",\"Right-Lateral-Ventricle\",\"Right-Inf-Lat-Vent\",\"Right-Cerebellum-White-Matter\",\"Right-Cerebellum-Cortex\",\"Right-Thalamus\",\"Right-Caudate\",\"Right-Putamen\",\"Right-Pallidum\",\"Right-Hippocampus\",\"Right-Amygdala\",\"Right-Accumbens-area\",\"Right-VentralDC\",\"Right-vessel\",\"Right-choroid-plexus\",\"5th-Ventricle\",\"WM-hypointensities\",\"Left-WM-hypointensities\",\"Right-WM-hypointensities\",\"non-WM-hypointensities\",\"Left-non-WM-hypointensities\",\"Right-non-WM-hypointensities\",\"Optic-Chiasm\",\"CC_Posterior\",\"CC_Mid_Posterior\",\"CC_Central\",\"CC_Mid_Anterior\",\"CC_Anterior\",\"Left-Lateral-Ventricle\",\"Left-Inf-Lat-Vent\",\"Left-Cerebellum-White-Matter\",\"Left-Cerebellum-Cortex\",\"Left-Thalamus\",\"Left-Caudate\",\"Left-Putamen\",\"Left-Pallidum\",\"3rd-Ventricle\",\"4th-Ventricle\",\"Brain-Stem\",\"Left-Hippocampus\",\"Left-Amygdala\",\"CSF\",\"Left-Accumbens-area\",\"Left-VentralDC\",\"Left-vessel\",\"Left-choroid-plexus\",\"Right-Lateral-Ventricle\",\"Right-Inf-Lat-Vent\",\"Right-Cerebellum-White-Matter\",\"Right-Cerebellum-Cortex\",\"Right-Thalamus\",\"Right-Caudate\",\"Right-Putamen\",\"Right-Pallidum\",\"Right-Hippocampus\",\"Right-Amygdala\",\"Right-Accumbens-area\",\"Right-VentralDC\",\"Right-vessel\",\"Right-choroid-plexus\",\"5th-Ventricle\",\"WM-hypointensities\",\"Left-WM-hypointensities\",\"Right-WM-hypointensities\",\"non-WM-hypointensities\",\"Left-non-WM-hypointensities\",\"Right-non-WM-hypointensities\",\"Optic-Chiasm\",\"CC_Posterior\",\"CC_Mid_Posterior\",\"CC_Central\",\"CC_Mid_Anterior\",\"CC_Anterior\",\"Left-Lateral-Ventricle\",\"Left-Inf-Lat-Vent\",\"Left-Cerebellum-White-Matter\",\"Left-Cerebellum-Cortex\",\"Left-Thalamus\",\"Left-Caudate\",\"Left-Putamen\",\"Left-Pallidum\",\"3rd-Ventricle\",\"4th-Ventricle\",\"Brain-Stem\",\"Left-Hippocampus\",\"Left-Amygdala\",\"CSF\",\"Left-Accumbens-area\",\"Left-VentralDC\",\"Left-vessel\",\"Left-choroid-plexus\",\"Right-Lateral-Ventricle\",\"Right-Inf-Lat-Vent\",\"Right-Cerebellum-White-Matter\",\"Right-Cerebellum-Cortex\",\"Right-Thalamus\",\"Right-Caudate\",\"Right-Putamen\",\"Right-Pallidum\",\"Right-Hippocampus\",\"Right-Amygdala\",\"Right-Accumbens-area\",\"Right-VentralDC\",\"Right-vessel\",\"Right-choroid-plexus\",\"5th-Ventricle\",\"WM-hypointensities\",\"Left-WM-hypointensities\",\"Right-WM-hypointensities\",\"non-WM-hypointensities\",\"Left-non-WM-hypointensities\",\"Right-non-WM-hypointensities\",\"Optic-Chiasm\",\"CC_Posterior\",\"CC_Mid_Posterior\",\"CC_Central\",\"CC_Mid_Anterior\",\"CC_Anterior\",\"Left-Lateral-Ventricle\",\"Left-Inf-Lat-Vent\",\"Left-Cerebellum-White-Matter\",\"Left-Cerebellum-Cortex\",\"Left-Thalamus\",\"Left-Caudate\",\"Left-Putamen\",\"Left-Pallidum\",\"3rd-Ventricle\",\"4th-Ventricle\",\"Brain-Stem\",\"Left-Hippocampus\",\"Left-Amygdala\",\"CSF\",\"Left-Accumbens-area\",\"Left-VentralDC\",\"Left-vessel\",\"Left-choroid-plexus\",\"Right-Lateral-Ventricle\",\"Right-Inf-Lat-Vent\",\"Right-Cerebellum-White-Matter\",\"Right-Cerebellum-Cortex\",\"Right-Thalamus\",\"Right-Caudate\",\"Right-Putamen\",\"Right-Pallidum\",\"Right-Hippocampus\",\"Right-Amygdala\",\"Right-Accumbens-area\",\"Right-VentralDC\",\"Right-vessel\",\"Right-choroid-plexus\",\"5th-Ventricle\",\"WM-hypointensities\",\"Left-WM-hypointensities\",\"Right-WM-hypointensities\",\"non-WM-hypointensities\",\"Left-non-WM-hypointensities\",\"Right-non-WM-hypointensities\",\"Optic-Chiasm\",\"CC_Posterior\",\"CC_Mid_Posterior\",\"CC_Central\",\"CC_Mid_Anterior\",\"CC_Anterior\",\"Left-Lateral-Ventricle\",\"Left-Inf-Lat-Vent\",\"Left-Cerebellum-White-Matter\",\"Left-Cerebellum-Cortex\",\"Left-Thalamus\",\"Left-Caudate\",\"Left-Putamen\",\"Left-Pallidum\",\"3rd-Ventricle\",\"4th-Ventricle\",\"Brain-Stem\",\"Left-Hippocampus\",\"Left-Amygdala\",\"CSF\",\"Left-Accumbens-area\",\"Left-VentralDC\",\"Left-vessel\",\"Left-choroid-plexus\",\"Right-Lateral-Ventricle\",\"Right-Inf-Lat-Vent\",\"Right-Cerebellum-White-Matter\",\"Right-Cerebellum-Cortex\",\"Right-Thalamus\",\"Right-Caudate\",\"Right-Putamen\",\"Right-Pallidum\",\"Right-Hippocampus\",\"Right-Amygdala\",\"Right-Accumbens-area\",\"Right-VentralDC\",\"Right-vessel\",\"Right-choroid-plexus\",\"5th-Ventricle\",\"WM-hypointensities\",\"Left-WM-hypointensities\",\"Right-WM-hypointensities\",\"non-WM-hypointensities\",\"Left-non-WM-hypointensities\",\"Right-non-WM-hypointensities\",\"Optic-Chiasm\",\"CC_Posterior\",\"CC_Mid_Posterior\",\"CC_Central\",\"CC_Mid_Anterior\",\"CC_Anterior\",\"Left-Lateral-Ventricle\",\"Left-Inf-Lat-Vent\",\"Left-Cerebellum-White-Matter\",\"Left-Cerebellum-Cortex\",\"Left-Thalamus\",\"Left-Caudate\",\"Left-Putamen\",\"Left-Pallidum\",\"3rd-Ventricle\",\"4th-Ventricle\",\"Brain-Stem\",\"Left-Hippocampus\",\"Left-Amygdala\",\"CSF\",\"Left-Accumbens-area\",\"Left-VentralDC\",\"Left-vessel\",\"Left-choroid-plexus\",\"Right-Lateral-Ventricle\",\"Right-Inf-Lat-Vent\",\"Right-Cerebellum-White-Matter\",\"Right-Cerebellum-Cortex\",\"Right-Thalamus\",\"Right-Caudate\",\"Right-Putamen\",\"Right-Pallidum\",\"Right-Hippocampus\",\"Right-Amygdala\",\"Right-Accumbens-area\",\"Right-VentralDC\",\"Right-vessel\",\"Right-choroid-plexus\",\"5th-Ventricle\",\"WM-hypointensities\",\"Left-WM-hypointensities\",\"Right-WM-hypointensities\",\"non-WM-hypointensities\",\"Left-non-WM-hypointensities\",\"Right-non-WM-hypointensities\",\"Optic-Chiasm\",\"CC_Posterior\",\"CC_Mid_Posterior\",\"CC_Central\",\"CC_Mid_Anterior\",\"CC_Anterior\",\"Left-Lateral-Ventricle\",\"Left-Inf-Lat-Vent\",\"Left-Cerebellum-White-Matter\",\"Left-Cerebellum-Cortex\",\"Left-Thalamus\",\"Left-Caudate\",\"Left-Putamen\",\"Left-Pallidum\",\"3rd-Ventricle\",\"4th-Ventricle\",\"Brain-Stem\",\"Left-Hippocampus\",\"Left-Amygdala\",\"CSF\",\"Left-Accumbens-area\",\"Left-VentralDC\",\"Left-vessel\",\"Left-choroid-plexus\",\"Right-Lateral-Ventricle\",\"Right-Inf-Lat-Vent\",\"Right-Cerebellum-White-Matter\",\"Right-Cerebellum-Cortex\",\"Right-Thalamus\",\"Right-Caudate\",\"Right-Putamen\",\"Right-Pallidum\",\"Right-Hippocampus\",\"Right-Amygdala\",\"Right-Accumbens-area\",\"Right-VentralDC\",\"Right-vessel\",\"Right-choroid-plexus\",\"5th-Ventricle\",\"WM-hypointensities\",\"Left-WM-hypointensities\",\"Right-WM-hypointensities\",\"non-WM-hypointensities\",\"Left-non-WM-hypointensities\",\"Right-non-WM-hypointensities\",\"Optic-Chiasm\",\"CC_Posterior\",\"CC_Mid_Posterior\",\"CC_Central\",\"CC_Mid_Anterior\",\"CC_Anterior\",\"Left-Lateral-Ventricle\",\"Left-Inf-Lat-Vent\",\"Left-Cerebellum-White-Matter\",\"Left-Cerebellum-Cortex\",\"Left-Thalamus\",\"Left-Caudate\",\"Left-Putamen\",\"Left-Pallidum\",\"3rd-Ventricle\",\"4th-Ventricle\",\"Brain-Stem\",\"Left-Hippocampus\",\"Left-Amygdala\",\"CSF\",\"Left-Accumbens-area\",\"Left-VentralDC\",\"Left-vessel\",\"Left-choroid-plexus\",\"Right-Lateral-Ventricle\",\"Right-Inf-Lat-Vent\",\"Right-Cerebellum-White-Matter\",\"Right-Cerebellum-Cortex\",\"Right-Thalamus\",\"Right-Caudate\",\"Right-Putamen\",\"Right-Pallidum\",\"Right-Hippocampus\",\"Right-Amygdala\",\"Right-Accumbens-area\",\"Right-VentralDC\",\"Right-vessel\",\"Right-choroid-plexus\",\"5th-Ventricle\",\"WM-hypointensities\",\"Left-WM-hypointensities\",\"Right-WM-hypointensities\",\"non-WM-hypointensities\",\"Left-non-WM-hypointensities\",\"Right-non-WM-hypointensities\",\"Optic-Chiasm\",\"CC_Posterior\",\"CC_Mid_Posterior\",\"CC_Central\",\"CC_Mid_Anterior\",\"CC_Anterior\",\"Left-Lateral-Ventricle\",\"Left-Inf-Lat-Vent\",\"Left-Cerebellum-White-Matter\",\"Left-Cerebellum-Cortex\",\"Left-Thalamus\",\"Left-Caudate\",\"Left-Putamen\",\"Left-Pallidum\",\"3rd-Ventricle\",\"4th-Ventricle\",\"Brain-Stem\",\"Left-Hippocampus\",\"Left-Amygdala\",\"CSF\",\"Left-Accumbens-area\",\"Left-VentralDC\",\"Left-vessel\",\"Left-choroid-plexus\",\"Right-Lateral-Ventricle\",\"Right-Inf-Lat-Vent\",\"Right-Cerebellum-White-Matter\",\"Right-Cerebellum-Cortex\",\"Right-Thalamus\",\"Right-Caudate\",\"Right-Putamen\",\"Right-Pallidum\",\"Right-Hippocampus\",\"Right-Amygdala\",\"Right-Accumbens-area\",\"Right-VentralDC\",\"Right-vessel\",\"Right-choroid-plexus\",\"5th-Ventricle\",\"WM-hypointensities\",\"Left-WM-hypointensities\",\"Right-WM-hypointensities\",\"non-WM-hypointensities\",\"Left-non-WM-hypointensities\",\"Right-non-WM-hypointensities\",\"Optic-Chiasm\",\"CC_Posterior\",\"CC_Mid_Posterior\",\"CC_Central\",\"CC_Mid_Anterior\",\"CC_Anterior\"],[1022580.374364,980107.281317,36647.69615,204580.125985,213219.579237,196262.102864,206063.094817,402325.197681,44579.309386,557499.642814,907305.992304,864832.899257,1165105.127261,987811.52958,1.035198,1.179481,22.0,20.0,42.0,\"1\",\"2\",\"3\",\"4\",\"5\",\"6\",\"7\",\"8\",\"9\",\"10\",\"11\",\"12\",\"13\",\"14\",\"15\",\"16\",\"17\",\"18\",\"19\",\"20\",\"21\",\"22\",\"23\",\"24\",\"25\",\"26\",\"27\",\"28\",\"29\",\"30\",\"31\",\"32\",\"33\",\"34\",\"35\",\"36\",\"37\",\"38\",\"39\",\"40\",\"41\",\"42\",\"43\",\"44\",\"45\",\"4\",\"5\",\"7\",\"8\",\"10\",\"11\",\"12\",\"13\",\"14\",\"15\",\"16\",\"17\",\"18\",\"24\",\"26\",\"28\",\"30\",\"31\",\"43\",\"44\",\"46\",\"47\",\"49\",\"50\",\"51\",\"52\",\"53\",\"54\",\"58\",\"60\",\"62\",\"63\",\"72\",\"77\",\"78\",\"79\",\"80\",\"81\",\"82\",\"85\",\"251\",\"252\",\"253\",\"254\",\"255\",\"71426\",\"3450\",\"49504\",\"220492\",\"28046\",\"12097\",\"18122\",\"6926\",\"9100\",\"14278\",\"75439\",\"14506\",\"4110\",\"3998\",\"1658\",\"16618\",\"96\",\"1382\",\"90021\",\"4294\",\"45207\",\"226520\",\"26605\",\"14825\",\"19715\",\"6908\",\"14491\",\"7029\",\"1385\",\"16456\",\"157\",\"1650\",\"0\",\"8394\",\"0\",\"0\",\"0\",\"0\",\"0\",\"566\",\"1516\",\"905\",\"822\",\"850\",\"684\",\"15105.8\",\"716.0\",\"10939.2\",\"47175.7\",\"5938.8\",\"2556.0\",\"3897.8\",\"1442.1\",\"1892.2\",\"3017.1\",\"16357.3\",\"3046.7\",\"876.5\",\"791.3\",\"343.7\",\"3548.8\",\"25.5\",\"253.5\",\"19138.5\",\"885.3\",\"10097.9\",\"48530.6\",\"5663.2\",\"3087.6\",\"4192.2\",\"1430.1\",\"3053.9\",\"1488.5\",\"260.7\",\"3491.2\",\"35.7\",\"303.9\",\"0.0\",\"1603.0\",\"0.0\",\"0.0\",\"0.0\",\"0.0\",\"0.0\",\"144.5\",\"311.7\",\"184.6\",\"165.8\",\"172.5\",\"136.2\",\"4.6767\",\"15.5006\",\"81.9911\",\"52.7985\",\"86.0662\",\"67.7933\",\"77.8573\",\"96.9547\",\"8.3914\",\"5.9527\",\"79.2351\",\"53.8749\",\"54.5494\",\"17.7361\",\"60.9077\",\"89.6860\",\"54.5104\",\"49.6245\",\"3.1373\",\"15.5293\",\"82.6941\",\"51.5612\",\"87.3095\",\"70.9748\",\"76.6375\",\"96.6963\",\"54.6982\",\"57.6960\",\"63.6195\",\"88.3180\",\"44.0446\",\"46.5691\",\"0.0000\",\"61.0157\",\"0.0000\",\"0.0000\",\"0.0000\",\"0.0000\",\"0.0000\",\"65.0954\",\"98.4650\",\"98.0906\",\"96.9039\",\"96.9977\",\"92.7412\",\"12.4102\",\"18.3722\",\"6.1082\",\"12.0833\",\"10.4791\",\"9.3178\",\"6.8119\",\"4.7310\",\"15.0611\",\"12.2107\",\"8.7680\",\"11.2487\",\"11.9093\",\"19.7295\",\"6.7235\",\"11.0019\",\"12.2723\",\"15.8209\",\"9.8154\",\"17.7783\",\"5.9256\",\"14.0219\",\"10.4884\",\"12.4271\",\"7.5805\",\"5.0452\",\"11.3053\",\"9.6508\",\"8.8082\",\"12.5134\",\"17.1716\",\"15.7971\",\"0.0000\",\"23.7156\",\"0.0000\",\"0.0000\",\"0.0000\",\"0.0000\",\"0.0000\",\"18.2419\",\"12.3538\",\"13.3936\",\"14.2240\",\"14.6000\",\"16.3256\",\"0.0000\",\"0.0000\",\"6.0000\",\"0.0000\",\"22.0000\",\"32.0000\",\"36.0000\",\"70.0000\",\"0.0000\",\"0.0000\",\"0.0000\",\"0.0000\",\"0.0000\",\"0.0000\",\"44.0000\",\"0.0000\",\"4.0000\",\"12.0000\",\"0.0000\",\"0.0000\",\"0.0000\",\"0.0000\",\"2.0000\",\"31.0000\",\"35.0000\",\"20.0000\",\"0.0000\",\"0.0000\",\"49.0000\",\"0.0000\",\"0.0000\",\"0.0000\",\"0.0000\",\"0.0000\",\"0.0000\",\"0.0000\",\"0.0000\",\"0.0000\",\"0.0000\",\"0.0000\",\"11.0000\",\"40.0000\",\"12.0000\",\"0.0000\",\"14.0000\",\"98.0000\",\"78.0000\",\"98.0000\",\"94.0000\",\"109.0000\",\"104.0000\",\"103.0000\",\"111.0000\",\"75.0000\",\"79.0000\",\"104.0000\",\"108.0000\",\"93.0000\",\"88.0000\",\"86.0000\",\"108.0000\",\"69.0000\",\"107.0000\",\"94.0000\",\"84.0000\",\"98.0000\",\"94.0000\",\"108.0000\",\"110.0000\",\"98.0000\",\"110.0000\",\"99.0000\",\"94.0000\",\"95.0000\",\"107.0000\",\"70.0000\",\"97.0000\",\"0.0000\",\"104.0000\",\"0.0000\",\"0.0000\",\"0.0000\",\"0.0000\",\"0.0000\",\"101.0000\",\"109.0000\",\"109.0000\",\"108.0000\",\"110.0000\",\"110.0000\",\"98.0000\",\"78.0000\",\"92.0000\",\"94.0000\",\"87.0000\",\"72.0000\",\"67.0000\",\"41.0000\",\"75.0000\",\"79.0000\",\"104.0000\",\"108.0000\",\"93.0000\",\"88.0000\",\"42.0000\",\"108.0000\",\"65.0000\",\"95.0000\",\"94.0000\",\"84.0000\",\"98.0000\",\"94.0000\",\"106.0000\",\"79.0000\",\"63.0000\",\"90.0000\",\"99.0000\",\"94.0000\",\"46.0000\",\"107.0000\",\"70.0000\",\"97.0000\",\"0.0000\",\"104.0000\",\"0.0000\",\"0.0000\",\"0.0000\",\"0.0000\",\"0.0000\",\"101.0000\",\"98.0000\",\"69.0000\",\"96.0000\",\"110.0000\",\"96.0000\"]]},\"header\":{\"values\":[\"measurement\",\"region\",\"value\"]},\"type\":\"table\"}],                        {\"template\":{\"data\":{\"histogram2dcontour\":[{\"type\":\"histogram2dcontour\",\"colorbar\":{\"outlinewidth\":0,\"ticks\":\"\"},\"colorscale\":[[0.0,\"#0d0887\"],[0.1111111111111111,\"#46039f\"],[0.2222222222222222,\"#7201a8\"],[0.3333333333333333,\"#9c179e\"],[0.4444444444444444,\"#bd3786\"],[0.5555555555555556,\"#d8576b\"],[0.6666666666666666,\"#ed7953\"],[0.7777777777777778,\"#fb9f3a\"],[0.8888888888888888,\"#fdca26\"],[1.0,\"#f0f921\"]]}],\"choropleth\":[{\"type\":\"choropleth\",\"colorbar\":{\"outlinewidth\":0,\"ticks\":\"\"}}],\"histogram2d\":[{\"type\":\"histogram2d\",\"colorbar\":{\"outlinewidth\":0,\"ticks\":\"\"},\"colorscale\":[[0.0,\"#0d0887\"],[0.1111111111111111,\"#46039f\"],[0.2222222222222222,\"#7201a8\"],[0.3333333333333333,\"#9c179e\"],[0.4444444444444444,\"#bd3786\"],[0.5555555555555556,\"#d8576b\"],[0.6666666666666666,\"#ed7953\"],[0.7777777777777778,\"#fb9f3a\"],[0.8888888888888888,\"#fdca26\"],[1.0,\"#f0f921\"]]}],\"heatmap\":[{\"type\":\"heatmap\",\"colorbar\":{\"outlinewidth\":0,\"ticks\":\"\"},\"colorscale\":[[0.0,\"#0d0887\"],[0.1111111111111111,\"#46039f\"],[0.2222222222222222,\"#7201a8\"],[0.3333333333333333,\"#9c179e\"],[0.4444444444444444,\"#bd3786\"],[0.5555555555555556,\"#d8576b\"],[0.6666666666666666,\"#ed7953\"],[0.7777777777777778,\"#fb9f3a\"],[0.8888888888888888,\"#fdca26\"],[1.0,\"#f0f921\"]]}],\"heatmapgl\":[{\"type\":\"heatmapgl\",\"colorbar\":{\"outlinewidth\":0,\"ticks\":\"\"},\"colorscale\":[[0.0,\"#0d0887\"],[0.1111111111111111,\"#46039f\"],[0.2222222222222222,\"#7201a8\"],[0.3333333333333333,\"#9c179e\"],[0.4444444444444444,\"#bd3786\"],[0.5555555555555556,\"#d8576b\"],[0.6666666666666666,\"#ed7953\"],[0.7777777777777778,\"#fb9f3a\"],[0.8888888888888888,\"#fdca26\"],[1.0,\"#f0f921\"]]}],\"contourcarpet\":[{\"type\":\"contourcarpet\",\"colorbar\":{\"outlinewidth\":0,\"ticks\":\"\"}}],\"contour\":[{\"type\":\"contour\",\"colorbar\":{\"outlinewidth\":0,\"ticks\":\"\"},\"colorscale\":[[0.0,\"#0d0887\"],[0.1111111111111111,\"#46039f\"],[0.2222222222222222,\"#7201a8\"],[0.3333333333333333,\"#9c179e\"],[0.4444444444444444,\"#bd3786\"],[0.5555555555555556,\"#d8576b\"],[0.6666666666666666,\"#ed7953\"],[0.7777777777777778,\"#fb9f3a\"],[0.8888888888888888,\"#fdca26\"],[1.0,\"#f0f921\"]]}],\"surface\":[{\"type\":\"surface\",\"colorbar\":{\"outlinewidth\":0,\"ticks\":\"\"},\"colorscale\":[[0.0,\"#0d0887\"],[0.1111111111111111,\"#46039f\"],[0.2222222222222222,\"#7201a8\"],[0.3333333333333333,\"#9c179e\"],[0.4444444444444444,\"#bd3786\"],[0.5555555555555556,\"#d8576b\"],[0.6666666666666666,\"#ed7953\"],[0.7777777777777778,\"#fb9f3a\"],[0.8888888888888888,\"#fdca26\"],[1.0,\"#f0f921\"]]}],\"mesh3d\":[{\"type\":\"mesh3d\",\"colorbar\":{\"outlinewidth\":0,\"ticks\":\"\"}}],\"scatter\":[{\"fillpattern\":{\"fillmode\":\"overlay\",\"size\":10,\"solidity\":0.2},\"type\":\"scatter\"}],\"parcoords\":[{\"type\":\"parcoords\",\"line\":{\"colorbar\":{\"outlinewidth\":0,\"ticks\":\"\"}}}],\"scatterpolargl\":[{\"type\":\"scatterpolargl\",\"marker\":{\"colorbar\":{\"outlinewidth\":0,\"ticks\":\"\"}}}],\"bar\":[{\"error_x\":{\"color\":\"#2a3f5f\"},\"error_y\":{\"color\":\"#2a3f5f\"},\"marker\":{\"line\":{\"color\":\"#E5ECF6\",\"width\":0.5},\"pattern\":{\"fillmode\":\"overlay\",\"size\":10,\"solidity\":0.2}},\"type\":\"bar\"}],\"scattergeo\":[{\"type\":\"scattergeo\",\"marker\":{\"colorbar\":{\"outlinewidth\":0,\"ticks\":\"\"}}}],\"scatterpolar\":[{\"type\":\"scatterpolar\",\"marker\":{\"colorbar\":{\"outlinewidth\":0,\"ticks\":\"\"}}}],\"histogram\":[{\"marker\":{\"pattern\":{\"fillmode\":\"overlay\",\"size\":10,\"solidity\":0.2}},\"type\":\"histogram\"}],\"scattergl\":[{\"type\":\"scattergl\",\"marker\":{\"colorbar\":{\"outlinewidth\":0,\"ticks\":\"\"}}}],\"scatter3d\":[{\"type\":\"scatter3d\",\"line\":{\"colorbar\":{\"outlinewidth\":0,\"ticks\":\"\"}},\"marker\":{\"colorbar\":{\"outlinewidth\":0,\"ticks\":\"\"}}}],\"scattermapbox\":[{\"type\":\"scattermapbox\",\"marker\":{\"colorbar\":{\"outlinewidth\":0,\"ticks\":\"\"}}}],\"scatterternary\":[{\"type\":\"scatterternary\",\"marker\":{\"colorbar\":{\"outlinewidth\":0,\"ticks\":\"\"}}}],\"scattercarpet\":[{\"type\":\"scattercarpet\",\"marker\":{\"colorbar\":{\"outlinewidth\":0,\"ticks\":\"\"}}}],\"carpet\":[{\"aaxis\":{\"endlinecolor\":\"#2a3f5f\",\"gridcolor\":\"white\",\"linecolor\":\"white\",\"minorgridcolor\":\"white\",\"startlinecolor\":\"#2a3f5f\"},\"baxis\":{\"endlinecolor\":\"#2a3f5f\",\"gridcolor\":\"white\",\"linecolor\":\"white\",\"minorgridcolor\":\"white\",\"startlinecolor\":\"#2a3f5f\"},\"type\":\"carpet\"}],\"table\":[{\"cells\":{\"fill\":{\"color\":\"#EBF0F8\"},\"line\":{\"color\":\"white\"}},\"header\":{\"fill\":{\"color\":\"#C8D4E3\"},\"line\":{\"color\":\"white\"}},\"type\":\"table\"}],\"barpolar\":[{\"marker\":{\"line\":{\"color\":\"#E5ECF6\",\"width\":0.5},\"pattern\":{\"fillmode\":\"overlay\",\"size\":10,\"solidity\":0.2}},\"type\":\"barpolar\"}],\"pie\":[{\"automargin\":true,\"type\":\"pie\"}]},\"layout\":{\"autotypenumbers\":\"strict\",\"colorway\":[\"#636efa\",\"#EF553B\",\"#00cc96\",\"#ab63fa\",\"#FFA15A\",\"#19d3f3\",\"#FF6692\",\"#B6E880\",\"#FF97FF\",\"#FECB52\"],\"font\":{\"color\":\"#2a3f5f\"},\"hovermode\":\"closest\",\"hoverlabel\":{\"align\":\"left\"},\"paper_bgcolor\":\"white\",\"plot_bgcolor\":\"#E5ECF6\",\"polar\":{\"bgcolor\":\"#E5ECF6\",\"angularaxis\":{\"gridcolor\":\"white\",\"linecolor\":\"white\",\"ticks\":\"\"},\"radialaxis\":{\"gridcolor\":\"white\",\"linecolor\":\"white\",\"ticks\":\"\"}},\"ternary\":{\"bgcolor\":\"#E5ECF6\",\"aaxis\":{\"gridcolor\":\"white\",\"linecolor\":\"white\",\"ticks\":\"\"},\"baxis\":{\"gridcolor\":\"white\",\"linecolor\":\"white\",\"ticks\":\"\"},\"caxis\":{\"gridcolor\":\"white\",\"linecolor\":\"white\",\"ticks\":\"\"}},\"coloraxis\":{\"colorbar\":{\"outlinewidth\":0,\"ticks\":\"\"}},\"colorscale\":{\"sequential\":[[0.0,\"#0d0887\"],[0.1111111111111111,\"#46039f\"],[0.2222222222222222,\"#7201a8\"],[0.3333333333333333,\"#9c179e\"],[0.4444444444444444,\"#bd3786\"],[0.5555555555555556,\"#d8576b\"],[0.6666666666666666,\"#ed7953\"],[0.7777777777777778,\"#fb9f3a\"],[0.8888888888888888,\"#fdca26\"],[1.0,\"#f0f921\"]],\"sequentialminus\":[[0.0,\"#0d0887\"],[0.1111111111111111,\"#46039f\"],[0.2222222222222222,\"#7201a8\"],[0.3333333333333333,\"#9c179e\"],[0.4444444444444444,\"#bd3786\"],[0.5555555555555556,\"#d8576b\"],[0.6666666666666666,\"#ed7953\"],[0.7777777777777778,\"#fb9f3a\"],[0.8888888888888888,\"#fdca26\"],[1.0,\"#f0f921\"]],\"diverging\":[[0,\"#8e0152\"],[0.1,\"#c51b7d\"],[0.2,\"#de77ae\"],[0.3,\"#f1b6da\"],[0.4,\"#fde0ef\"],[0.5,\"#f7f7f7\"],[0.6,\"#e6f5d0\"],[0.7,\"#b8e186\"],[0.8,\"#7fbc41\"],[0.9,\"#4d9221\"],[1,\"#276419\"]]},\"xaxis\":{\"gridcolor\":\"white\",\"linecolor\":\"white\",\"ticks\":\"\",\"title\":{\"standoff\":15},\"zerolinecolor\":\"white\",\"automargin\":true,\"zerolinewidth\":2},\"yaxis\":{\"gridcolor\":\"white\",\"linecolor\":\"white\",\"ticks\":\"\",\"title\":{\"standoff\":15},\"zerolinecolor\":\"white\",\"automargin\":true,\"zerolinewidth\":2},\"scene\":{\"xaxis\":{\"backgroundcolor\":\"#E5ECF6\",\"gridcolor\":\"white\",\"linecolor\":\"white\",\"showbackground\":true,\"ticks\":\"\",\"zerolinecolor\":\"white\",\"gridwidth\":2},\"yaxis\":{\"backgroundcolor\":\"#E5ECF6\",\"gridcolor\":\"white\",\"linecolor\":\"white\",\"showbackground\":true,\"ticks\":\"\",\"zerolinecolor\":\"white\",\"gridwidth\":2},\"zaxis\":{\"backgroundcolor\":\"#E5ECF6\",\"gridcolor\":\"white\",\"linecolor\":\"white\",\"showbackground\":true,\"ticks\":\"\",\"zerolinecolor\":\"white\",\"gridwidth\":2}},\"shapedefaults\":{\"line\":{\"color\":\"#2a3f5f\"}},\"annotationdefaults\":{\"arrowcolor\":\"#2a3f5f\",\"arrowhead\":0,\"arrowwidth\":1},\"geo\":{\"bgcolor\":\"white\",\"landcolor\":\"#E5ECF6\",\"subunitcolor\":\"white\",\"showland\":true,\"showlakes\":true,\"lakecolor\":\"white\"},\"title\":{\"x\":0.05},\"mapbox\":{\"style\":\"light\"}}}},                        {\"responsive\": true}                    ).then(function(){\n",
       "                            \n",
       "var gd = document.getElementById('7724ec2e-f0de-41bf-8154-aa6f45faaea8');\n",
       "var x = new MutationObserver(function (mutations, observer) {{\n",
       "        var display = window.getComputedStyle(gd).display;\n",
       "        if (!display || display === 'none') {{\n",
       "            console.log([gd, 'removed!']);\n",
       "            Plotly.purge(gd);\n",
       "            observer.disconnect();\n",
       "        }}\n",
       "}});\n",
       "\n",
       "// Listen for the removal of the full notebook cells\n",
       "var notebookContainer = gd.closest('#notebook-container');\n",
       "if (notebookContainer) {{\n",
       "    x.observe(notebookContainer, {childList: true});\n",
       "}}\n",
       "\n",
       "// Listen for the clearing of the current output cell\n",
       "var outputEl = gd.closest('.output');\n",
       "if (outputEl) {{\n",
       "    x.observe(outputEl, {childList: true});\n",
       "}}\n",
       "\n",
       "                        })                };                });            </script>        </div>"
      ]
     },
     "metadata": {},
     "output_type": "display_data"
    }
   ],
   "source": [
    "import pandas as pd\n",
    "import plotly.graph_objects as go\n",
    "\n",
    "\n",
    "fig = go.Figure(data=[go.Table(\n",
    "    header=dict(values=list(aseg.columns)),\n",
    "    cells=dict(values=[aseg[col] for col in aseg.columns])\n",
    ")])\n",
    "\n",
    "fig.show()"
   ]
  },
  {
   "cell_type": "code",
   "execution_count": 244,
   "metadata": {
    "vscode": {
     "languageId": "shellscript"
    }
   },
   "outputs": [
    {
     "data": {
      "application/vnd.jupyter.widget-view+json": {
       "model_id": "5842ab1d35a242e8b43a4afb2bd53861",
       "version_major": 2,
       "version_minor": 0
      },
      "text/plain": [
       "VBox(children=(Dropdown(description='Sujets:', options=('01-59-P-V', '01-66-L-Q', '01-68-P-N'), value='01-59-P…"
      ]
     },
     "execution_count": 244,
     "metadata": {},
     "output_type": "execute_result"
    }
   ],
   "source": [
    "import pandas as pd\n",
    "import plotly.graph_objects as go\n",
    "import ipywidgets as widgets\n",
    "from functools import reduce\n",
    "\n",
    "df = dataframe\n",
    "# Supposons que vous ayez déjà votre DataFrame df\n",
    "\n",
    "# Définir des valeurs uniques pour les champs de saisie\n",
    "sujets_uniques = sorted(df['Sujets'].unique())\n",
    "\n",
    "# Définir des champs de saisie pour chaque colonne de votre DataFrame\n",
    "sujets = widgets.Dropdown(options=sujets_uniques, description='Sujets:')\n",
    "\n",
    "# Créer un tableau Plotly initial\n",
    "initial_temp_df = df.copy()\n",
    "initial_fig = go.Figure(data=[go.Table(\n",
    "    header=dict(values=initial_temp_df.columns),\n",
    "    cells=dict(values=[initial_temp_df[col] for col in initial_temp_df.columns])\n",
    ")])\n",
    "\n",
    "# Créer une sortie pour le tableau Plotly\n",
    "table_plot = widgets.Output()\n",
    "with table_plot:\n",
    "    initial_fig.show(renderer=\"notebook\")\n",
    "\n",
    "# Définir une fonction pour mettre à jour le tableau Plotly\n",
    "def update_plot(change):\n",
    "    # Filtrer le DataFrame en fonction des valeurs sélectionnées dans les champs de saisie\n",
    "    temp_df = df.copy()\n",
    "    filter_list = [temp_df['Sujets'] == sujets.value]\n",
    "    temp_df = temp_df[reduce(lambda x, y: x & y, filter_list)]\n",
    "    \n",
    "    # Mettre à jour le tableau Plotly avec les données filtrées\n",
    "    with table_plot:\n",
    "        table_plot.clear_output(wait=True)\n",
    "        fig = go.Figure(data=[go.Table(\n",
    "            header=dict(values=temp_df.columns),\n",
    "            cells=dict(values=[temp_df[col] for col in temp_df.columns])\n",
    "        )])\n",
    "        fig.show(renderer=\"notebook\")\n",
    "\n",
    "# Observer les changements dans les champs de saisie\n",
    "sujets.observe(update_plot, names=\"value\")\n",
    "\n",
    "# Ajouter un bouton Reset pour réinitialiser l'affichage à tous les sujets\n",
    "reset_button = widgets.Button(description=\"Reset\")\n",
    "\n",
    "def reset_plot(_):\n",
    "    with table_plot:\n",
    "        table_plot.clear_output(wait=True)\n",
    "        initial_fig.show(renderer=\"notebook\")\n",
    "\n",
    "reset_button.on_click(reset_plot)\n",
    "\n",
    "# Afficher les champs de saisie, le bouton Reset et le tableau Plotly\n",
    "widgets.VBox([sujets, reset_button, table_plot])\n"
   ]
  },
  {
   "cell_type": "markdown",
   "metadata": {},
   "source": [
    "Atlas"
   ]
  },
  {
   "cell_type": "code",
   "execution_count": 245,
   "metadata": {
    "vscode": {
     "languageId": "shellscript"
    }
   },
   "outputs": [
    {
     "data": {
      "application/vnd.jupyter.widget-view+json": {
       "model_id": "4a37d25230f54724a8eaaefd5f188e1e",
       "version_major": 2,
       "version_minor": 0
      },
      "text/plain": [
       "VBox(children=(HBox(children=(Button(description='FREESURFER', style=ButtonStyle()), Button(description='Atlas…"
      ]
     },
     "execution_count": 245,
     "metadata": {},
     "output_type": "execute_result"
    }
   ],
   "source": [
    "import pandas as pd\n",
    "import plotly.graph_objects as go\n",
    "import ipywidgets as widgets\n",
    "\n",
    "df = dataframe\n",
    "# Supposons que vous ayez déjà votre DataFrame df\n",
    "\n",
    "# Créer un tableau Plotly initial avec toutes les colonnes affichées\n",
    "initial_fig = go.Figure(data=[go.Table(\n",
    "    header=dict(values=df.columns),\n",
    "    cells=dict(values=[df[col] for col in df.columns])\n",
    ")])\n",
    "\n",
    "# Créer une sortie pour le tableau Plotly\n",
    "table_plot = widgets.Output()\n",
    "with table_plot:\n",
    "    initial_fig.show(renderer=\"notebook\")\n",
    "\n",
    "# Définir une fonction pour mettre à jour le tableau Plotly en fonction de la colonne sélectionnée\n",
    "def update_plot(column_name):\n",
    "    # Créer un nouveau tableau Plotly avec la colonne sélectionnée uniquement\n",
    "    fig = go.Figure(data=[go.Table(\n",
    "        header=dict(values=['Sujets', column_name]),\n",
    "        cells=dict(values=[df['Sujets'], df[column_name]])\n",
    "    )])\n",
    "    \n",
    "    # Afficher le tableau Plotly dans la sortie\n",
    "    with table_plot:\n",
    "        table_plot.clear_output(wait=True)\n",
    "        fig.show(renderer=\"notebook\")\n",
    "\n",
    "# Créer des boutons pour chaque colonne (à l'exception de la première) pour afficher sélectivement chaque colonne\n",
    "buttons = []\n",
    "for col in df.columns[1:]:\n",
    "    button = widgets.Button(description=col)\n",
    "    button.on_click(lambda _, col=col: update_plot(col))\n",
    "    buttons.append(button)\n",
    "\n",
    "# Afficher les boutons et le tableau Plotly initial\n",
    "widgets.VBox([widgets.HBox(buttons), table_plot])\n"
   ]
  },
  {
   "cell_type": "code",
   "execution_count": null,
   "metadata": {
    "vscode": {
     "languageId": "shellscript"
    }
   },
   "outputs": [],
   "source": [
    "def get_resources_freesurfer(my_pyxnat, project, subject, experiment):\n",
    "    my_experiment = my_xnat.select.projects(project).subjects(subject).experiments(experiment)\n",
    "    for res in my_experiment.resources():\n",
    "        if res.label() == 'FREESURFER':\n",
    "            aseg = res.aseg()\n",
    "            aseg = res.aparc()\n",
    "            break\n"
   ]
  }
 ],
 "metadata": {
  "kernelspec": {
   "display_name": "base",
   "language": "python",
   "name": "python3"
  },
  "language_info": {
   "codemirror_mode": {
    "name": "ipython",
    "version": 3
   },
   "file_extension": ".py",
   "mimetype": "text/x-python",
   "name": "python",
   "nbconvert_exporter": "python",
   "pygments_lexer": "ipython3",
   "version": "3.10.4"
  }
 },
 "nbformat": 4,
 "nbformat_minor": 2
}
