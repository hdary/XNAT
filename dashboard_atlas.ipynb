{
 "cells": [
  {
   "cell_type": "code",
   "execution_count": 2,
   "metadata": {
    "vscode": {
     "languageId": "shellscript"
    }
   },
   "outputs": [],
   "source": [
    "# import nisnap\n",
    "import pyxnat\n",
    "import xnat\n",
    "from pyxnat import Interface\n",
    "import pandas as pd\n",
    "import nibabel as nib\n",
    "from tqdm import tqdm\n",
    "import plotly.express as px\n",
    "import plotly.graph_objects as go"
   ]
  },
  {
   "cell_type": "code",
   "execution_count": null,
   "metadata": {
    "vscode": {
     "languageId": "shellscript"
    }
   },
   "outputs": [],
   "source": [
    "# #The URL of your XNAT\n",
    "# xnat_host = os.environ['XNAT_HOST']\n",
    "\n",
    "# #A temporary token which can be used as a username\n",
    "# user = os.environ['XNAT_USER']\n",
    "\n",
    "# #A temporary token which can be used as a password\n",
    "# pwd = os.environ['XNAT_PASS']"
   ]
  },
  {
   "cell_type": "code",
   "execution_count": null,
   "metadata": {
    "vscode": {
     "languageId": "shellscript"
    }
   },
   "outputs": [],
   "source": [
    "# my_pyxnat = Interface(server=xnat_host,\n",
    "#                     user=user, password=pwd)"
   ]
  },
  {
   "cell_type": "code",
   "execution_count": 3,
   "metadata": {
    "vscode": {
     "languageId": "shellscript"
    }
   },
   "outputs": [],
   "source": [
    "my_pyxnat = Interface(server=\"https://xnat.crmbm.univ-amu.fr\",\n",
    "                    user='hdary')"
   ]
  },
  {
   "cell_type": "code",
   "execution_count": 4,
   "metadata": {
    "vscode": {
     "languageId": "shellscript"
    }
   },
   "outputs": [],
   "source": [
    "# if os.environ['XNAT_XSI_TYPE'] != 'xnat:projectData':\n",
    "#     raise Exception('Must be started from an XNAT project.')\n",
    "\n",
    "# project = os.environ['XNAT_ITEM_ID']"
   ]
  },
  {
   "cell_type": "code",
   "execution_count": 5,
   "metadata": {
    "vscode": {
     "languageId": "shellscript"
    }
   },
   "outputs": [],
   "source": [
    "project = 'TERRA_BRAIN_EPINOV'"
   ]
  },
  {
   "cell_type": "code",
   "execution_count": 6,
   "metadata": {
    "vscode": {
     "languageId": "shellscript"
    }
   },
   "outputs": [],
   "source": [
    "def get_resources(my_pyxnat, project):\n",
    "\n",
    "    resources = []\n",
    "    experiments = my_pyxnat.array.experiments(project_id=project, columns=['ID', 'project', 'label', 'subject_ID']).data\n",
    "    # For each experiments fetch all the resources associated with it\n",
    "    for exp in tqdm(experiments):\n",
    "        j = my_pyxnat.get('{}/{}'.format(exp['URI'], 'resources')).json()\n",
    "        exp_res = j['ResultSet']['Result']\n",
    "\n",
    "        if exp_res:\n",
    "            resources.extend([[exp['project'], exp['ID'], exp['label'], exp['subject_ID'],\n",
    "                               r['xnat_abstractresource_id'],\n",
    "                               r['label']] for r in exp_res])\n",
    "        else:\n",
    "            resources.append([exp['project'], exp['ID'],  exp['label'], exp['subject_ID'],\n",
    "                              'No Data', 'No Data'])\n",
    "    return resources"
   ]
  },
  {
   "cell_type": "code",
   "execution_count": 7,
   "metadata": {
    "vscode": {
     "languageId": "shellscript"
    }
   },
   "outputs": [],
   "source": [
    "def get_subjects(my_pyxnat, project):\n",
    "    dico = {i.id() :i.label() for i in my_pyxnat.select.project(project).subjects()}\n",
    "    return dico"
   ]
  },
  {
   "cell_type": "code",
   "execution_count": 8,
   "metadata": {
    "vscode": {
     "languageId": "shellscript"
    }
   },
   "outputs": [],
   "source": [
    "dico = get_subjects(my_pyxnat, project)"
   ]
  },
  {
   "cell_type": "markdown",
   "metadata": {},
   "source": [
    "Resources"
   ]
  },
  {
   "cell_type": "code",
   "execution_count": 9,
   "metadata": {
    "vscode": {
     "languageId": "shellscript"
    }
   },
   "outputs": [
    {
     "name": "stderr",
     "output_type": "stream",
     "text": [
      "  0%|          | 0/34 [00:00<?, ?it/s]"
     ]
    },
    {
     "name": "stderr",
     "output_type": "stream",
     "text": [
      "100%|██████████| 34/34 [00:00<00:00, 50.85it/s]\n"
     ]
    }
   ],
   "source": [
    "resources = get_resources(my_pyxnat, project)"
   ]
  },
  {
   "cell_type": "code",
   "execution_count": 10,
   "metadata": {
    "vscode": {
     "languageId": "shellscript"
    }
   },
   "outputs": [],
   "source": [
    "dico_resources = {}\n",
    "for r in resources:\n",
    "    if r[5] == 'No Data':\n",
    "        continue\n",
    "    if r[5] in dico_resources.keys():\n",
    "        dico_resources[r[5]].append(dico[r[3]])\n",
    "    else:\n",
    "        dico_resources[r[5]] = []\n",
    "        dico_resources[r[5]].append(dico[r[3]])"
   ]
  },
  {
   "cell_type": "code",
   "execution_count": 11,
   "metadata": {
    "vscode": {
     "languageId": "shellscript"
    }
   },
   "outputs": [],
   "source": [
    "# Créer un ensemble contenant tous les sujets\n",
    "sujets = set()\n",
    "for valeurs in dico_resources.values():\n",
    "    sujets.update(valeurs)\n",
    "\n",
    "# Créer une copie du dictionnaire pour conserver les noms des sujets dans les valeurs\n",
    "dictionnaire_modifie = {colonne: [sujet in valeurs for sujet in sujets] for colonne, valeurs in dico_resources.items()}\n",
    "\n",
    "# Convertir le dictionnaire modifié en DataFrame\n",
    "index = list(sujets)\n",
    "dataframe = pd.DataFrame(dictionnaire_modifie)\n",
    "\n",
    "dataframe.insert(0, \"Sujets\", list(sujets))\n",
    "\n",
    "# Remplacer les index par les noms des sujets\n",
    "# dataframe.index = list(sujets)\n"
   ]
  },
  {
   "cell_type": "code",
   "execution_count": 22,
   "metadata": {
    "vscode": {
     "languageId": "shellscript"
    }
   },
   "outputs": [
    {
     "data": {
      "application/vnd.plotly.v1+json": {
       "config": {
        "plotlyServerURL": "https://plot.ly"
       },
       "data": [
        {
         "cells": {
          "fill": {
           "color": [
            [
             "white",
             "white",
             "white"
            ],
            [
             "green",
             "green",
             "green"
            ],
            [
             "red",
             "green",
             "red"
            ],
            [
             "red",
             "green",
             "red"
            ],
            [
             "red",
             "green",
             "red"
            ]
           ]
          },
          "values": [
           [
            "01-68-P-N",
            "01-59-P-V",
            "01-66-L-Q"
           ],
           [
            true,
            true,
            true
           ],
           [
            false,
            true,
            false
           ],
           [
            false,
            true,
            false
           ],
           [
            false,
            true,
            false
           ]
          ]
         },
         "header": {
          "values": [
           "Sujets",
           "FREESURFER",
           "Atlas",
           "FASTSURFER",
           "GIF"
          ]
         },
         "type": "table"
        }
       ],
       "layout": {
        "template": {
         "data": {
          "bar": [
           {
            "error_x": {
             "color": "#2a3f5f"
            },
            "error_y": {
             "color": "#2a3f5f"
            },
            "marker": {
             "line": {
              "color": "#E5ECF6",
              "width": 0.5
             },
             "pattern": {
              "fillmode": "overlay",
              "size": 10,
              "solidity": 0.2
             }
            },
            "type": "bar"
           }
          ],
          "barpolar": [
           {
            "marker": {
             "line": {
              "color": "#E5ECF6",
              "width": 0.5
             },
             "pattern": {
              "fillmode": "overlay",
              "size": 10,
              "solidity": 0.2
             }
            },
            "type": "barpolar"
           }
          ],
          "carpet": [
           {
            "aaxis": {
             "endlinecolor": "#2a3f5f",
             "gridcolor": "white",
             "linecolor": "white",
             "minorgridcolor": "white",
             "startlinecolor": "#2a3f5f"
            },
            "baxis": {
             "endlinecolor": "#2a3f5f",
             "gridcolor": "white",
             "linecolor": "white",
             "minorgridcolor": "white",
             "startlinecolor": "#2a3f5f"
            },
            "type": "carpet"
           }
          ],
          "choropleth": [
           {
            "colorbar": {
             "outlinewidth": 0,
             "ticks": ""
            },
            "type": "choropleth"
           }
          ],
          "contour": [
           {
            "colorbar": {
             "outlinewidth": 0,
             "ticks": ""
            },
            "colorscale": [
             [
              0,
              "#0d0887"
             ],
             [
              0.1111111111111111,
              "#46039f"
             ],
             [
              0.2222222222222222,
              "#7201a8"
             ],
             [
              0.3333333333333333,
              "#9c179e"
             ],
             [
              0.4444444444444444,
              "#bd3786"
             ],
             [
              0.5555555555555556,
              "#d8576b"
             ],
             [
              0.6666666666666666,
              "#ed7953"
             ],
             [
              0.7777777777777778,
              "#fb9f3a"
             ],
             [
              0.8888888888888888,
              "#fdca26"
             ],
             [
              1,
              "#f0f921"
             ]
            ],
            "type": "contour"
           }
          ],
          "contourcarpet": [
           {
            "colorbar": {
             "outlinewidth": 0,
             "ticks": ""
            },
            "type": "contourcarpet"
           }
          ],
          "heatmap": [
           {
            "colorbar": {
             "outlinewidth": 0,
             "ticks": ""
            },
            "colorscale": [
             [
              0,
              "#0d0887"
             ],
             [
              0.1111111111111111,
              "#46039f"
             ],
             [
              0.2222222222222222,
              "#7201a8"
             ],
             [
              0.3333333333333333,
              "#9c179e"
             ],
             [
              0.4444444444444444,
              "#bd3786"
             ],
             [
              0.5555555555555556,
              "#d8576b"
             ],
             [
              0.6666666666666666,
              "#ed7953"
             ],
             [
              0.7777777777777778,
              "#fb9f3a"
             ],
             [
              0.8888888888888888,
              "#fdca26"
             ],
             [
              1,
              "#f0f921"
             ]
            ],
            "type": "heatmap"
           }
          ],
          "heatmapgl": [
           {
            "colorbar": {
             "outlinewidth": 0,
             "ticks": ""
            },
            "colorscale": [
             [
              0,
              "#0d0887"
             ],
             [
              0.1111111111111111,
              "#46039f"
             ],
             [
              0.2222222222222222,
              "#7201a8"
             ],
             [
              0.3333333333333333,
              "#9c179e"
             ],
             [
              0.4444444444444444,
              "#bd3786"
             ],
             [
              0.5555555555555556,
              "#d8576b"
             ],
             [
              0.6666666666666666,
              "#ed7953"
             ],
             [
              0.7777777777777778,
              "#fb9f3a"
             ],
             [
              0.8888888888888888,
              "#fdca26"
             ],
             [
              1,
              "#f0f921"
             ]
            ],
            "type": "heatmapgl"
           }
          ],
          "histogram": [
           {
            "marker": {
             "pattern": {
              "fillmode": "overlay",
              "size": 10,
              "solidity": 0.2
             }
            },
            "type": "histogram"
           }
          ],
          "histogram2d": [
           {
            "colorbar": {
             "outlinewidth": 0,
             "ticks": ""
            },
            "colorscale": [
             [
              0,
              "#0d0887"
             ],
             [
              0.1111111111111111,
              "#46039f"
             ],
             [
              0.2222222222222222,
              "#7201a8"
             ],
             [
              0.3333333333333333,
              "#9c179e"
             ],
             [
              0.4444444444444444,
              "#bd3786"
             ],
             [
              0.5555555555555556,
              "#d8576b"
             ],
             [
              0.6666666666666666,
              "#ed7953"
             ],
             [
              0.7777777777777778,
              "#fb9f3a"
             ],
             [
              0.8888888888888888,
              "#fdca26"
             ],
             [
              1,
              "#f0f921"
             ]
            ],
            "type": "histogram2d"
           }
          ],
          "histogram2dcontour": [
           {
            "colorbar": {
             "outlinewidth": 0,
             "ticks": ""
            },
            "colorscale": [
             [
              0,
              "#0d0887"
             ],
             [
              0.1111111111111111,
              "#46039f"
             ],
             [
              0.2222222222222222,
              "#7201a8"
             ],
             [
              0.3333333333333333,
              "#9c179e"
             ],
             [
              0.4444444444444444,
              "#bd3786"
             ],
             [
              0.5555555555555556,
              "#d8576b"
             ],
             [
              0.6666666666666666,
              "#ed7953"
             ],
             [
              0.7777777777777778,
              "#fb9f3a"
             ],
             [
              0.8888888888888888,
              "#fdca26"
             ],
             [
              1,
              "#f0f921"
             ]
            ],
            "type": "histogram2dcontour"
           }
          ],
          "mesh3d": [
           {
            "colorbar": {
             "outlinewidth": 0,
             "ticks": ""
            },
            "type": "mesh3d"
           }
          ],
          "parcoords": [
           {
            "line": {
             "colorbar": {
              "outlinewidth": 0,
              "ticks": ""
             }
            },
            "type": "parcoords"
           }
          ],
          "pie": [
           {
            "automargin": true,
            "type": "pie"
           }
          ],
          "scatter": [
           {
            "fillpattern": {
             "fillmode": "overlay",
             "size": 10,
             "solidity": 0.2
            },
            "type": "scatter"
           }
          ],
          "scatter3d": [
           {
            "line": {
             "colorbar": {
              "outlinewidth": 0,
              "ticks": ""
             }
            },
            "marker": {
             "colorbar": {
              "outlinewidth": 0,
              "ticks": ""
             }
            },
            "type": "scatter3d"
           }
          ],
          "scattercarpet": [
           {
            "marker": {
             "colorbar": {
              "outlinewidth": 0,
              "ticks": ""
             }
            },
            "type": "scattercarpet"
           }
          ],
          "scattergeo": [
           {
            "marker": {
             "colorbar": {
              "outlinewidth": 0,
              "ticks": ""
             }
            },
            "type": "scattergeo"
           }
          ],
          "scattergl": [
           {
            "marker": {
             "colorbar": {
              "outlinewidth": 0,
              "ticks": ""
             }
            },
            "type": "scattergl"
           }
          ],
          "scattermapbox": [
           {
            "marker": {
             "colorbar": {
              "outlinewidth": 0,
              "ticks": ""
             }
            },
            "type": "scattermapbox"
           }
          ],
          "scatterpolar": [
           {
            "marker": {
             "colorbar": {
              "outlinewidth": 0,
              "ticks": ""
             }
            },
            "type": "scatterpolar"
           }
          ],
          "scatterpolargl": [
           {
            "marker": {
             "colorbar": {
              "outlinewidth": 0,
              "ticks": ""
             }
            },
            "type": "scatterpolargl"
           }
          ],
          "scatterternary": [
           {
            "marker": {
             "colorbar": {
              "outlinewidth": 0,
              "ticks": ""
             }
            },
            "type": "scatterternary"
           }
          ],
          "surface": [
           {
            "colorbar": {
             "outlinewidth": 0,
             "ticks": ""
            },
            "colorscale": [
             [
              0,
              "#0d0887"
             ],
             [
              0.1111111111111111,
              "#46039f"
             ],
             [
              0.2222222222222222,
              "#7201a8"
             ],
             [
              0.3333333333333333,
              "#9c179e"
             ],
             [
              0.4444444444444444,
              "#bd3786"
             ],
             [
              0.5555555555555556,
              "#d8576b"
             ],
             [
              0.6666666666666666,
              "#ed7953"
             ],
             [
              0.7777777777777778,
              "#fb9f3a"
             ],
             [
              0.8888888888888888,
              "#fdca26"
             ],
             [
              1,
              "#f0f921"
             ]
            ],
            "type": "surface"
           }
          ],
          "table": [
           {
            "cells": {
             "fill": {
              "color": "#EBF0F8"
             },
             "line": {
              "color": "white"
             }
            },
            "header": {
             "fill": {
              "color": "#C8D4E3"
             },
             "line": {
              "color": "white"
             }
            },
            "type": "table"
           }
          ]
         },
         "layout": {
          "annotationdefaults": {
           "arrowcolor": "#2a3f5f",
           "arrowhead": 0,
           "arrowwidth": 1
          },
          "autotypenumbers": "strict",
          "coloraxis": {
           "colorbar": {
            "outlinewidth": 0,
            "ticks": ""
           }
          },
          "colorscale": {
           "diverging": [
            [
             0,
             "#8e0152"
            ],
            [
             0.1,
             "#c51b7d"
            ],
            [
             0.2,
             "#de77ae"
            ],
            [
             0.3,
             "#f1b6da"
            ],
            [
             0.4,
             "#fde0ef"
            ],
            [
             0.5,
             "#f7f7f7"
            ],
            [
             0.6,
             "#e6f5d0"
            ],
            [
             0.7,
             "#b8e186"
            ],
            [
             0.8,
             "#7fbc41"
            ],
            [
             0.9,
             "#4d9221"
            ],
            [
             1,
             "#276419"
            ]
           ],
           "sequential": [
            [
             0,
             "#0d0887"
            ],
            [
             0.1111111111111111,
             "#46039f"
            ],
            [
             0.2222222222222222,
             "#7201a8"
            ],
            [
             0.3333333333333333,
             "#9c179e"
            ],
            [
             0.4444444444444444,
             "#bd3786"
            ],
            [
             0.5555555555555556,
             "#d8576b"
            ],
            [
             0.6666666666666666,
             "#ed7953"
            ],
            [
             0.7777777777777778,
             "#fb9f3a"
            ],
            [
             0.8888888888888888,
             "#fdca26"
            ],
            [
             1,
             "#f0f921"
            ]
           ],
           "sequentialminus": [
            [
             0,
             "#0d0887"
            ],
            [
             0.1111111111111111,
             "#46039f"
            ],
            [
             0.2222222222222222,
             "#7201a8"
            ],
            [
             0.3333333333333333,
             "#9c179e"
            ],
            [
             0.4444444444444444,
             "#bd3786"
            ],
            [
             0.5555555555555556,
             "#d8576b"
            ],
            [
             0.6666666666666666,
             "#ed7953"
            ],
            [
             0.7777777777777778,
             "#fb9f3a"
            ],
            [
             0.8888888888888888,
             "#fdca26"
            ],
            [
             1,
             "#f0f921"
            ]
           ]
          },
          "colorway": [
           "#636efa",
           "#EF553B",
           "#00cc96",
           "#ab63fa",
           "#FFA15A",
           "#19d3f3",
           "#FF6692",
           "#B6E880",
           "#FF97FF",
           "#FECB52"
          ],
          "font": {
           "color": "#2a3f5f"
          },
          "geo": {
           "bgcolor": "white",
           "lakecolor": "white",
           "landcolor": "#E5ECF6",
           "showlakes": true,
           "showland": true,
           "subunitcolor": "white"
          },
          "hoverlabel": {
           "align": "left"
          },
          "hovermode": "closest",
          "mapbox": {
           "style": "light"
          },
          "paper_bgcolor": "white",
          "plot_bgcolor": "#E5ECF6",
          "polar": {
           "angularaxis": {
            "gridcolor": "white",
            "linecolor": "white",
            "ticks": ""
           },
           "bgcolor": "#E5ECF6",
           "radialaxis": {
            "gridcolor": "white",
            "linecolor": "white",
            "ticks": ""
           }
          },
          "scene": {
           "xaxis": {
            "backgroundcolor": "#E5ECF6",
            "gridcolor": "white",
            "gridwidth": 2,
            "linecolor": "white",
            "showbackground": true,
            "ticks": "",
            "zerolinecolor": "white"
           },
           "yaxis": {
            "backgroundcolor": "#E5ECF6",
            "gridcolor": "white",
            "gridwidth": 2,
            "linecolor": "white",
            "showbackground": true,
            "ticks": "",
            "zerolinecolor": "white"
           },
           "zaxis": {
            "backgroundcolor": "#E5ECF6",
            "gridcolor": "white",
            "gridwidth": 2,
            "linecolor": "white",
            "showbackground": true,
            "ticks": "",
            "zerolinecolor": "white"
           }
          },
          "shapedefaults": {
           "line": {
            "color": "#2a3f5f"
           }
          },
          "ternary": {
           "aaxis": {
            "gridcolor": "white",
            "linecolor": "white",
            "ticks": ""
           },
           "baxis": {
            "gridcolor": "white",
            "linecolor": "white",
            "ticks": ""
           },
           "bgcolor": "#E5ECF6",
           "caxis": {
            "gridcolor": "white",
            "linecolor": "white",
            "ticks": ""
           }
          },
          "title": {
           "x": 0.05
          },
          "xaxis": {
           "automargin": true,
           "gridcolor": "white",
           "linecolor": "white",
           "ticks": "",
           "title": {
            "standoff": 15
           },
           "zerolinecolor": "white",
           "zerolinewidth": 2
          },
          "yaxis": {
           "automargin": true,
           "gridcolor": "white",
           "linecolor": "white",
           "ticks": "",
           "title": {
            "standoff": 15
           },
           "zerolinecolor": "white",
           "zerolinewidth": 2
          }
         }
        }
       }
      },
      "text/html": [
       "<div>                            <div id=\"31931506-0e87-4bab-867b-d08dbff45760\" class=\"plotly-graph-div\" style=\"height:525px; width:100%;\"></div>            <script type=\"text/javascript\">                require([\"plotly\"], function(Plotly) {                    window.PLOTLYENV=window.PLOTLYENV || {};                                    if (document.getElementById(\"31931506-0e87-4bab-867b-d08dbff45760\")) {                    Plotly.newPlot(                        \"31931506-0e87-4bab-867b-d08dbff45760\",                        [{\"cells\":{\"fill\":{\"color\":[[\"white\",\"white\",\"white\"],[\"green\",\"green\",\"green\"],[\"red\",\"green\",\"red\"],[\"red\",\"green\",\"red\"],[\"red\",\"green\",\"red\"]]},\"values\":[[\"01-68-P-N\",\"01-59-P-V\",\"01-66-L-Q\"],[true,true,true],[false,true,false],[false,true,false],[false,true,false]]},\"header\":{\"values\":[\"Sujets\",\"FREESURFER\",\"Atlas\",\"FASTSURFER\",\"GIF\"]},\"type\":\"table\"}],                        {\"template\":{\"data\":{\"histogram2dcontour\":[{\"type\":\"histogram2dcontour\",\"colorbar\":{\"outlinewidth\":0,\"ticks\":\"\"},\"colorscale\":[[0.0,\"#0d0887\"],[0.1111111111111111,\"#46039f\"],[0.2222222222222222,\"#7201a8\"],[0.3333333333333333,\"#9c179e\"],[0.4444444444444444,\"#bd3786\"],[0.5555555555555556,\"#d8576b\"],[0.6666666666666666,\"#ed7953\"],[0.7777777777777778,\"#fb9f3a\"],[0.8888888888888888,\"#fdca26\"],[1.0,\"#f0f921\"]]}],\"choropleth\":[{\"type\":\"choropleth\",\"colorbar\":{\"outlinewidth\":0,\"ticks\":\"\"}}],\"histogram2d\":[{\"type\":\"histogram2d\",\"colorbar\":{\"outlinewidth\":0,\"ticks\":\"\"},\"colorscale\":[[0.0,\"#0d0887\"],[0.1111111111111111,\"#46039f\"],[0.2222222222222222,\"#7201a8\"],[0.3333333333333333,\"#9c179e\"],[0.4444444444444444,\"#bd3786\"],[0.5555555555555556,\"#d8576b\"],[0.6666666666666666,\"#ed7953\"],[0.7777777777777778,\"#fb9f3a\"],[0.8888888888888888,\"#fdca26\"],[1.0,\"#f0f921\"]]}],\"heatmap\":[{\"type\":\"heatmap\",\"colorbar\":{\"outlinewidth\":0,\"ticks\":\"\"},\"colorscale\":[[0.0,\"#0d0887\"],[0.1111111111111111,\"#46039f\"],[0.2222222222222222,\"#7201a8\"],[0.3333333333333333,\"#9c179e\"],[0.4444444444444444,\"#bd3786\"],[0.5555555555555556,\"#d8576b\"],[0.6666666666666666,\"#ed7953\"],[0.7777777777777778,\"#fb9f3a\"],[0.8888888888888888,\"#fdca26\"],[1.0,\"#f0f921\"]]}],\"heatmapgl\":[{\"type\":\"heatmapgl\",\"colorbar\":{\"outlinewidth\":0,\"ticks\":\"\"},\"colorscale\":[[0.0,\"#0d0887\"],[0.1111111111111111,\"#46039f\"],[0.2222222222222222,\"#7201a8\"],[0.3333333333333333,\"#9c179e\"],[0.4444444444444444,\"#bd3786\"],[0.5555555555555556,\"#d8576b\"],[0.6666666666666666,\"#ed7953\"],[0.7777777777777778,\"#fb9f3a\"],[0.8888888888888888,\"#fdca26\"],[1.0,\"#f0f921\"]]}],\"contourcarpet\":[{\"type\":\"contourcarpet\",\"colorbar\":{\"outlinewidth\":0,\"ticks\":\"\"}}],\"contour\":[{\"type\":\"contour\",\"colorbar\":{\"outlinewidth\":0,\"ticks\":\"\"},\"colorscale\":[[0.0,\"#0d0887\"],[0.1111111111111111,\"#46039f\"],[0.2222222222222222,\"#7201a8\"],[0.3333333333333333,\"#9c179e\"],[0.4444444444444444,\"#bd3786\"],[0.5555555555555556,\"#d8576b\"],[0.6666666666666666,\"#ed7953\"],[0.7777777777777778,\"#fb9f3a\"],[0.8888888888888888,\"#fdca26\"],[1.0,\"#f0f921\"]]}],\"surface\":[{\"type\":\"surface\",\"colorbar\":{\"outlinewidth\":0,\"ticks\":\"\"},\"colorscale\":[[0.0,\"#0d0887\"],[0.1111111111111111,\"#46039f\"],[0.2222222222222222,\"#7201a8\"],[0.3333333333333333,\"#9c179e\"],[0.4444444444444444,\"#bd3786\"],[0.5555555555555556,\"#d8576b\"],[0.6666666666666666,\"#ed7953\"],[0.7777777777777778,\"#fb9f3a\"],[0.8888888888888888,\"#fdca26\"],[1.0,\"#f0f921\"]]}],\"mesh3d\":[{\"type\":\"mesh3d\",\"colorbar\":{\"outlinewidth\":0,\"ticks\":\"\"}}],\"scatter\":[{\"fillpattern\":{\"fillmode\":\"overlay\",\"size\":10,\"solidity\":0.2},\"type\":\"scatter\"}],\"parcoords\":[{\"type\":\"parcoords\",\"line\":{\"colorbar\":{\"outlinewidth\":0,\"ticks\":\"\"}}}],\"scatterpolargl\":[{\"type\":\"scatterpolargl\",\"marker\":{\"colorbar\":{\"outlinewidth\":0,\"ticks\":\"\"}}}],\"bar\":[{\"error_x\":{\"color\":\"#2a3f5f\"},\"error_y\":{\"color\":\"#2a3f5f\"},\"marker\":{\"line\":{\"color\":\"#E5ECF6\",\"width\":0.5},\"pattern\":{\"fillmode\":\"overlay\",\"size\":10,\"solidity\":0.2}},\"type\":\"bar\"}],\"scattergeo\":[{\"type\":\"scattergeo\",\"marker\":{\"colorbar\":{\"outlinewidth\":0,\"ticks\":\"\"}}}],\"scatterpolar\":[{\"type\":\"scatterpolar\",\"marker\":{\"colorbar\":{\"outlinewidth\":0,\"ticks\":\"\"}}}],\"histogram\":[{\"marker\":{\"pattern\":{\"fillmode\":\"overlay\",\"size\":10,\"solidity\":0.2}},\"type\":\"histogram\"}],\"scattergl\":[{\"type\":\"scattergl\",\"marker\":{\"colorbar\":{\"outlinewidth\":0,\"ticks\":\"\"}}}],\"scatter3d\":[{\"type\":\"scatter3d\",\"line\":{\"colorbar\":{\"outlinewidth\":0,\"ticks\":\"\"}},\"marker\":{\"colorbar\":{\"outlinewidth\":0,\"ticks\":\"\"}}}],\"scattermapbox\":[{\"type\":\"scattermapbox\",\"marker\":{\"colorbar\":{\"outlinewidth\":0,\"ticks\":\"\"}}}],\"scatterternary\":[{\"type\":\"scatterternary\",\"marker\":{\"colorbar\":{\"outlinewidth\":0,\"ticks\":\"\"}}}],\"scattercarpet\":[{\"type\":\"scattercarpet\",\"marker\":{\"colorbar\":{\"outlinewidth\":0,\"ticks\":\"\"}}}],\"carpet\":[{\"aaxis\":{\"endlinecolor\":\"#2a3f5f\",\"gridcolor\":\"white\",\"linecolor\":\"white\",\"minorgridcolor\":\"white\",\"startlinecolor\":\"#2a3f5f\"},\"baxis\":{\"endlinecolor\":\"#2a3f5f\",\"gridcolor\":\"white\",\"linecolor\":\"white\",\"minorgridcolor\":\"white\",\"startlinecolor\":\"#2a3f5f\"},\"type\":\"carpet\"}],\"table\":[{\"cells\":{\"fill\":{\"color\":\"#EBF0F8\"},\"line\":{\"color\":\"white\"}},\"header\":{\"fill\":{\"color\":\"#C8D4E3\"},\"line\":{\"color\":\"white\"}},\"type\":\"table\"}],\"barpolar\":[{\"marker\":{\"line\":{\"color\":\"#E5ECF6\",\"width\":0.5},\"pattern\":{\"fillmode\":\"overlay\",\"size\":10,\"solidity\":0.2}},\"type\":\"barpolar\"}],\"pie\":[{\"automargin\":true,\"type\":\"pie\"}]},\"layout\":{\"autotypenumbers\":\"strict\",\"colorway\":[\"#636efa\",\"#EF553B\",\"#00cc96\",\"#ab63fa\",\"#FFA15A\",\"#19d3f3\",\"#FF6692\",\"#B6E880\",\"#FF97FF\",\"#FECB52\"],\"font\":{\"color\":\"#2a3f5f\"},\"hovermode\":\"closest\",\"hoverlabel\":{\"align\":\"left\"},\"paper_bgcolor\":\"white\",\"plot_bgcolor\":\"#E5ECF6\",\"polar\":{\"bgcolor\":\"#E5ECF6\",\"angularaxis\":{\"gridcolor\":\"white\",\"linecolor\":\"white\",\"ticks\":\"\"},\"radialaxis\":{\"gridcolor\":\"white\",\"linecolor\":\"white\",\"ticks\":\"\"}},\"ternary\":{\"bgcolor\":\"#E5ECF6\",\"aaxis\":{\"gridcolor\":\"white\",\"linecolor\":\"white\",\"ticks\":\"\"},\"baxis\":{\"gridcolor\":\"white\",\"linecolor\":\"white\",\"ticks\":\"\"},\"caxis\":{\"gridcolor\":\"white\",\"linecolor\":\"white\",\"ticks\":\"\"}},\"coloraxis\":{\"colorbar\":{\"outlinewidth\":0,\"ticks\":\"\"}},\"colorscale\":{\"sequential\":[[0.0,\"#0d0887\"],[0.1111111111111111,\"#46039f\"],[0.2222222222222222,\"#7201a8\"],[0.3333333333333333,\"#9c179e\"],[0.4444444444444444,\"#bd3786\"],[0.5555555555555556,\"#d8576b\"],[0.6666666666666666,\"#ed7953\"],[0.7777777777777778,\"#fb9f3a\"],[0.8888888888888888,\"#fdca26\"],[1.0,\"#f0f921\"]],\"sequentialminus\":[[0.0,\"#0d0887\"],[0.1111111111111111,\"#46039f\"],[0.2222222222222222,\"#7201a8\"],[0.3333333333333333,\"#9c179e\"],[0.4444444444444444,\"#bd3786\"],[0.5555555555555556,\"#d8576b\"],[0.6666666666666666,\"#ed7953\"],[0.7777777777777778,\"#fb9f3a\"],[0.8888888888888888,\"#fdca26\"],[1.0,\"#f0f921\"]],\"diverging\":[[0,\"#8e0152\"],[0.1,\"#c51b7d\"],[0.2,\"#de77ae\"],[0.3,\"#f1b6da\"],[0.4,\"#fde0ef\"],[0.5,\"#f7f7f7\"],[0.6,\"#e6f5d0\"],[0.7,\"#b8e186\"],[0.8,\"#7fbc41\"],[0.9,\"#4d9221\"],[1,\"#276419\"]]},\"xaxis\":{\"gridcolor\":\"white\",\"linecolor\":\"white\",\"ticks\":\"\",\"title\":{\"standoff\":15},\"zerolinecolor\":\"white\",\"automargin\":true,\"zerolinewidth\":2},\"yaxis\":{\"gridcolor\":\"white\",\"linecolor\":\"white\",\"ticks\":\"\",\"title\":{\"standoff\":15},\"zerolinecolor\":\"white\",\"automargin\":true,\"zerolinewidth\":2},\"scene\":{\"xaxis\":{\"backgroundcolor\":\"#E5ECF6\",\"gridcolor\":\"white\",\"linecolor\":\"white\",\"showbackground\":true,\"ticks\":\"\",\"zerolinecolor\":\"white\",\"gridwidth\":2},\"yaxis\":{\"backgroundcolor\":\"#E5ECF6\",\"gridcolor\":\"white\",\"linecolor\":\"white\",\"showbackground\":true,\"ticks\":\"\",\"zerolinecolor\":\"white\",\"gridwidth\":2},\"zaxis\":{\"backgroundcolor\":\"#E5ECF6\",\"gridcolor\":\"white\",\"linecolor\":\"white\",\"showbackground\":true,\"ticks\":\"\",\"zerolinecolor\":\"white\",\"gridwidth\":2}},\"shapedefaults\":{\"line\":{\"color\":\"#2a3f5f\"}},\"annotationdefaults\":{\"arrowcolor\":\"#2a3f5f\",\"arrowhead\":0,\"arrowwidth\":1},\"geo\":{\"bgcolor\":\"white\",\"landcolor\":\"#E5ECF6\",\"subunitcolor\":\"white\",\"showland\":true,\"showlakes\":true,\"lakecolor\":\"white\"},\"title\":{\"x\":0.05},\"mapbox\":{\"style\":\"light\"}}}},                        {\"responsive\": true}                    ).then(function(){\n",
       "                            \n",
       "var gd = document.getElementById('31931506-0e87-4bab-867b-d08dbff45760');\n",
       "var x = new MutationObserver(function (mutations, observer) {{\n",
       "        var display = window.getComputedStyle(gd).display;\n",
       "        if (!display || display === 'none') {{\n",
       "            console.log([gd, 'removed!']);\n",
       "            Plotly.purge(gd);\n",
       "            observer.disconnect();\n",
       "        }}\n",
       "}});\n",
       "\n",
       "// Listen for the removal of the full notebook cells\n",
       "var notebookContainer = gd.closest('#notebook-container');\n",
       "if (notebookContainer) {{\n",
       "    x.observe(notebookContainer, {childList: true});\n",
       "}}\n",
       "\n",
       "// Listen for the clearing of the current output cell\n",
       "var outputEl = gd.closest('.output');\n",
       "if (outputEl) {{\n",
       "    x.observe(outputEl, {childList: true});\n",
       "}}\n",
       "\n",
       "                        })                };                });            </script>        </div>"
      ]
     },
     "metadata": {},
     "output_type": "display_data"
    }
   ],
   "source": [
    "cell_colors = [['white' if j == 0 else 'green' if val else 'red' for val in dataframe[col]] for j, col in enumerate(dataframe.columns)]\n",
    "\n",
    "fig = go.Figure(data=[go.Table(\n",
    "    header=dict(values=list(dataframe.columns)),\n",
    "    cells=dict(values=[dataframe[col] for col in dataframe.columns],\n",
    "               fill_color=cell_colors)\n",
    ")])\n",
    "\n",
    "# Afficher le tableau Plotly\n",
    "fig.show()"
   ]
  },
  {
   "cell_type": "markdown",
   "metadata": {},
   "source": [
    "Atlas"
   ]
  },
  {
   "cell_type": "code",
   "execution_count": 237,
   "metadata": {
    "vscode": {
     "languageId": "shellscript"
    }
   },
   "outputs": [],
   "source": [
    "dico_atlas_path = {'AAL3': 'AAL3/AAL3v1_1mm_to_subj.nii.gz',\n",
    "            'Neudorfer': 'Neudorfer/MDA_990HCP_atlas_labels_0.5mm.nii.gz_to_subj.nii.gz',\n",
    "            'AAL3_Neudorfer': 'AAL3_Neudorfer/neudorfer_aal3_to_subj.nii.gz',\n",
    "            'Hypothalamus': 'Hypothalamus/Hypothalamus2Adele_dilated2_resliced_to_subj.nii.gz',\n",
    "            'atlas_7TAmi_DGN_SBA_v9': '7TAMI/7TAmi_DGN_SBA_v9_to_subj.nii.gz',\n",
    "            'atlas_7TAmi_adapted_eMorel_v9': '7TAMI/7TAmi_adapted_eMorel_v9_to_subj.nii.gz',\n",
    "            'atlas_7TAmi_Amygdala': '7TAMI/7TAmi_Amygdala_to_subj.nii.gz',\n",
    "            'atlas_7TAmi_CIT168_AMYG': '7TAMI/7TAmi_CIT168_AMYG_to_subj.nii.gz'}\n",
    "\n",
    "dico_atlas_freesurfer_path = {\n",
    "            'VEP_atlas': 'subject/mri/origin/aparc+aseg.vep.mgz',\n",
    "            'Destrieux': 'subject/mri/origin/aparc.a2009s+aseg.mgz',\n",
    "            'Desikan_Killiany': 'subject/mri/origin/aparc_DKTatlas+aseg.mgz'}\n",
    "\n",
    "dico_atlas_list = dico_atlas_path.copy()\n",
    "dico_atlas_list = {cle: [] for cle in dico_atlas_list}\n",
    "dico_atlas_list['session'] = []\n",
    "dico_atlas_list['subjects'] = []\n",
    "for k in dico_atlas_freesurfer_path.keys():\n",
    "    dico_atlas_list[k] = []\n",
    "\n",
    "dico_atlas_freesurfer_path = {\n",
    "            'VEP_atlas': 'subject/mri/origin/aparc+aseg.vep.mgz',\n",
    "            'Destrieux': 'subject/mri/origin/aparc.a2009s+aseg.mgz',\n",
    "            'Desikan_Killiany': 'subject/mri/origin/aparc_DKTatlas+aseg.mgz'}"
   ]
  },
  {
   "cell_type": "code",
   "execution_count": 238,
   "metadata": {
    "vscode": {
     "languageId": "shellscript"
    }
   },
   "outputs": [],
   "source": [
    "dico_atlas = {}\n",
    "for sub in my_pyxnat.select.projects(project).subjects():\n",
    "    for exp in sub.experiments():\n",
    "        dico_atlas[sub.label() + '*' + exp.label()] = {}\n",
    "        for res in exp.resources():\n",
    "            if res.label() == 'FREESURFER':\n",
    "                dico_atlas[sub.label() + '*' + exp.label()]['aparc'] = res.aparc()\n",
    "                dico_atlas[sub.label() + '*' + exp.label()]['aseg'] = res.aseg()\n",
    "\n",
    "                for k in dico_atlas_freesurfer_path.keys():\n",
    "                    if res.files(k + '.csv').get() != []:\n",
    "                        # file_object = res.files(k + '.csv')[0].attributes()\n",
    "                        file_path = res.files(k + '.csv')[0].get()\n",
    "                        df = pd.read_csv(file_path)\n",
    "                        dico_atlas[sub.label() + '*' + exp.label()]['extraction_' + k] = df\n",
    "\n",
    "            elif res.label() == 'Atlas':\n",
    "                for k,v in dico_atlas_path.items():\n",
    "                    if res.files(v).get() != []:\n",
    "                        dico_atlas[sub.label() + '*' + exp.label()][k] = True\n",
    "\n",
    "            elif res.label() == 'Extraction':\n",
    "                for k in dico_atlas_path.keys():\n",
    "                    if res.files(k + '.csv').get() != []:\n",
    "                        # file_object = res.files(k + '.csv')[0].attributes()\n",
    "                        file_path = res.files(k + '.csv')[0].get()\n",
    "                        df = pd.read_csv(file_path)\n",
    "                        dico_atlas[sub.label() + '*' + exp.label()]['extraction_' + k] = df"
   ]
  },
  {
   "cell_type": "code",
   "execution_count": 239,
   "metadata": {
    "vscode": {
     "languageId": "shellscript"
    }
   },
   "outputs": [
    {
     "data": {
      "text/plain": [
       "dict_keys(['aparc', 'aseg', 'AAL3', 'AAL3_Neudorfer', 'atlas_7TAmi_DGN_SBA_v9', 'atlas_7TAmi_adapted_eMorel_v9', 'atlas_7TAmi_Amygdala', 'atlas_7TAmi_CIT168_AMYG', 'extraction_AAL3_Neudorfer', 'extraction_atlas_7TAmi_Amygdala', 'extraction_atlas_7TAmi_CIT168_AMYG'])"
      ]
     },
     "execution_count": 239,
     "metadata": {},
     "output_type": "execute_result"
    }
   ],
   "source": [
    "dico_atlas['01-59-P-V*202204131119'].keys()"
   ]
  },
  {
   "cell_type": "code",
   "execution_count": 240,
   "metadata": {
    "vscode": {
     "languageId": "shellscript"
    }
   },
   "outputs": [],
   "source": [
    "for sub in dico_atlas.keys():\n",
    "    dico_atlas_list['subjects'].append(sub.split('*')[0])\n",
    "    dico_atlas_list['session'].append(sub.split('*')[1])\n",
    "    for atlas in dico_atlas_list.keys():\n",
    "        if atlas == 'session' or atlas == 'subjects':\n",
    "            continue\n",
    "        if atlas in dico_atlas[sub].keys():\n",
    "            dico_atlas_list[atlas].append(True)\n",
    "        else:\n",
    "            dico_atlas_list[atlas].append(False)"
   ]
  },
  {
   "cell_type": "code",
   "execution_count": 242,
   "metadata": {
    "vscode": {
     "languageId": "shellscript"
    }
   },
   "outputs": [],
   "source": [
    "my_dataframe = pd.DataFrame(dico_atlas_list)\n",
    "new_list = [x for x in list(my_dataframe.columns) if x != 'subjects' and x != 'session']\n",
    "nouvel_ordre_colonnes = ['subjects', 'session'] + new_list\n",
    "my_dataframe = my_dataframe[nouvel_ordre_colonnes]"
   ]
  },
  {
   "cell_type": "code",
   "execution_count": 243,
   "metadata": {
    "vscode": {
     "languageId": "shellscript"
    }
   },
   "outputs": [
    {
     "data": {
      "application/vnd.plotly.v1+json": {
       "config": {
        "plotlyServerURL": "https://plot.ly"
       },
       "data": [
        {
         "cells": {
          "fill": {
           "color": [
            [
             "white",
             "white",
             "white",
             "white",
             "white",
             "white",
             "white",
             "white",
             "white",
             "white",
             "white",
             "white",
             "white",
             "white",
             "white",
             "white",
             "white",
             "white",
             "white",
             "white",
             "white",
             "white",
             "white",
             "white",
             "white",
             "white",
             "white",
             "white",
             "white",
             "white",
             "white",
             "white",
             "white",
             "white"
            ],
            [
             "white",
             "white",
             "white",
             "white",
             "white",
             "white",
             "white",
             "white",
             "white",
             "white",
             "white",
             "white",
             "white",
             "white",
             "white",
             "white",
             "white",
             "white",
             "white",
             "white",
             "white",
             "white",
             "white",
             "white",
             "white",
             "white",
             "white",
             "white",
             "white",
             "white",
             "white",
             "white",
             "white",
             "white"
            ],
            [
             "red",
             "red",
             "red",
             "red",
             "green",
             "red",
             "red",
             "red",
             "red",
             "red",
             "red",
             "red",
             "red",
             "red",
             "red",
             "red",
             "red",
             "red",
             "red",
             "red",
             "red",
             "red",
             "red",
             "red",
             "red",
             "red",
             "red",
             "red",
             "red",
             "red",
             "red",
             "red",
             "red",
             "red"
            ],
            [
             "red",
             "red",
             "red",
             "red",
             "red",
             "red",
             "red",
             "red",
             "red",
             "red",
             "red",
             "red",
             "red",
             "red",
             "red",
             "red",
             "red",
             "red",
             "red",
             "red",
             "red",
             "red",
             "red",
             "red",
             "red",
             "red",
             "red",
             "red",
             "red",
             "red",
             "red",
             "red",
             "red",
             "red"
            ],
            [
             "red",
             "red",
             "red",
             "red",
             "green",
             "red",
             "red",
             "red",
             "red",
             "red",
             "red",
             "red",
             "red",
             "red",
             "red",
             "red",
             "red",
             "red",
             "red",
             "red",
             "red",
             "red",
             "red",
             "red",
             "red",
             "red",
             "red",
             "red",
             "red",
             "red",
             "red",
             "red",
             "red",
             "red"
            ],
            [
             "red",
             "red",
             "red",
             "red",
             "red",
             "red",
             "red",
             "red",
             "red",
             "red",
             "red",
             "red",
             "red",
             "red",
             "red",
             "red",
             "red",
             "red",
             "red",
             "red",
             "red",
             "red",
             "red",
             "red",
             "red",
             "red",
             "red",
             "red",
             "red",
             "red",
             "red",
             "red",
             "red",
             "red"
            ],
            [
             "red",
             "red",
             "red",
             "red",
             "green",
             "red",
             "red",
             "red",
             "red",
             "red",
             "red",
             "red",
             "red",
             "red",
             "red",
             "red",
             "red",
             "red",
             "red",
             "red",
             "red",
             "red",
             "red",
             "red",
             "red",
             "red",
             "red",
             "red",
             "red",
             "red",
             "red",
             "red",
             "red",
             "red"
            ],
            [
             "red",
             "red",
             "red",
             "red",
             "green",
             "red",
             "red",
             "red",
             "red",
             "red",
             "red",
             "red",
             "red",
             "red",
             "red",
             "red",
             "red",
             "red",
             "red",
             "red",
             "red",
             "red",
             "red",
             "red",
             "red",
             "red",
             "red",
             "red",
             "red",
             "red",
             "red",
             "red",
             "red",
             "red"
            ],
            [
             "red",
             "red",
             "red",
             "red",
             "green",
             "red",
             "red",
             "red",
             "red",
             "red",
             "red",
             "red",
             "red",
             "red",
             "red",
             "red",
             "red",
             "red",
             "red",
             "red",
             "red",
             "red",
             "red",
             "red",
             "red",
             "red",
             "red",
             "red",
             "red",
             "red",
             "red",
             "red",
             "red",
             "red"
            ],
            [
             "red",
             "red",
             "red",
             "red",
             "green",
             "red",
             "red",
             "red",
             "red",
             "red",
             "red",
             "red",
             "red",
             "red",
             "red",
             "red",
             "red",
             "red",
             "red",
             "red",
             "red",
             "red",
             "red",
             "red",
             "red",
             "red",
             "red",
             "red",
             "red",
             "red",
             "red",
             "red",
             "red",
             "red"
            ],
            [
             "red",
             "red",
             "red",
             "red",
             "red",
             "red",
             "red",
             "red",
             "red",
             "red",
             "red",
             "red",
             "red",
             "red",
             "red",
             "red",
             "red",
             "red",
             "red",
             "red",
             "red",
             "red",
             "red",
             "red",
             "red",
             "red",
             "red",
             "red",
             "red",
             "red",
             "red",
             "red",
             "red",
             "red"
            ],
            [
             "red",
             "red",
             "red",
             "red",
             "red",
             "red",
             "red",
             "red",
             "red",
             "red",
             "red",
             "red",
             "red",
             "red",
             "red",
             "red",
             "red",
             "red",
             "red",
             "red",
             "red",
             "red",
             "red",
             "red",
             "red",
             "red",
             "red",
             "red",
             "red",
             "red",
             "red",
             "red",
             "red",
             "red"
            ],
            [
             "red",
             "red",
             "red",
             "red",
             "red",
             "red",
             "red",
             "red",
             "red",
             "red",
             "red",
             "red",
             "red",
             "red",
             "red",
             "red",
             "red",
             "red",
             "red",
             "red",
             "red",
             "red",
             "red",
             "red",
             "red",
             "red",
             "red",
             "red",
             "red",
             "red",
             "red",
             "red",
             "red",
             "red"
            ]
           ]
          },
          "values": [
           [
            "01_55_L_M",
            "01_45_B-N",
            "01_45_B-N",
            "01_85_G-S",
            "01-59-P-V",
            "01-68-P-N",
            "01-75-R-S",
            "01-63-B-K",
            "01_77_B_B",
            "01_86_P-L",
            "01-83-P-G",
            "01_71_D-C",
            "01_57_FC",
            "01_80_V_T",
            "01-64-B-A",
            "01-54-D-R",
            "01-61-B-L",
            "01-49-R-D",
            "01-70-L-E",
            "01-79-G-S",
            "01_72_M-V",
            "01_62_T-E",
            "01_69_CO",
            "01_47_Q-M",
            "01-56-C-D",
            "01_84_GM",
            "01-46_L-J",
            "01-78-M-C",
            "01_52_B-L",
            "01_41_CL",
            "01_50_D-A",
            "01-66-L-Q",
            "01_58_T_A",
            "01_73_A_M"
           ],
           [
            "202201140838",
            "202107020849",
            "BRAIN_EPINOV",
            "202306090849",
            "202204131119",
            "202211080928",
            "202303011104",
            "202205020920",
            "202308220902",
            "202306291315",
            "202304210904",
            "202303030852",
            "202112150855",
            "202304280912",
            "202210280903",
            "202110131329",
            "202208110904",
            "202111050958",
            "202303031323",
            "202304071208",
            "202301301518",
            "202204261345",
            "202301060848",
            "202108120952",
            "202110150908",
            "202306160853",
            "202108261322",
            "202304070918",
            "202109100911",
            "202106180909",
            "202109171116",
            "202109090853",
            "202201070933",
            "202302100929"
           ],
           [
            false,
            false,
            false,
            false,
            true,
            false,
            false,
            false,
            false,
            false,
            false,
            false,
            false,
            false,
            false,
            false,
            false,
            false,
            false,
            false,
            false,
            false,
            false,
            false,
            false,
            false,
            false,
            false,
            false,
            false,
            false,
            false,
            false,
            false
           ],
           [
            false,
            false,
            false,
            false,
            false,
            false,
            false,
            false,
            false,
            false,
            false,
            false,
            false,
            false,
            false,
            false,
            false,
            false,
            false,
            false,
            false,
            false,
            false,
            false,
            false,
            false,
            false,
            false,
            false,
            false,
            false,
            false,
            false,
            false
           ],
           [
            false,
            false,
            false,
            false,
            true,
            false,
            false,
            false,
            false,
            false,
            false,
            false,
            false,
            false,
            false,
            false,
            false,
            false,
            false,
            false,
            false,
            false,
            false,
            false,
            false,
            false,
            false,
            false,
            false,
            false,
            false,
            false,
            false,
            false
           ],
           [
            false,
            false,
            false,
            false,
            false,
            false,
            false,
            false,
            false,
            false,
            false,
            false,
            false,
            false,
            false,
            false,
            false,
            false,
            false,
            false,
            false,
            false,
            false,
            false,
            false,
            false,
            false,
            false,
            false,
            false,
            false,
            false,
            false,
            false
           ],
           [
            false,
            false,
            false,
            false,
            true,
            false,
            false,
            false,
            false,
            false,
            false,
            false,
            false,
            false,
            false,
            false,
            false,
            false,
            false,
            false,
            false,
            false,
            false,
            false,
            false,
            false,
            false,
            false,
            false,
            false,
            false,
            false,
            false,
            false
           ],
           [
            false,
            false,
            false,
            false,
            true,
            false,
            false,
            false,
            false,
            false,
            false,
            false,
            false,
            false,
            false,
            false,
            false,
            false,
            false,
            false,
            false,
            false,
            false,
            false,
            false,
            false,
            false,
            false,
            false,
            false,
            false,
            false,
            false,
            false
           ],
           [
            false,
            false,
            false,
            false,
            true,
            false,
            false,
            false,
            false,
            false,
            false,
            false,
            false,
            false,
            false,
            false,
            false,
            false,
            false,
            false,
            false,
            false,
            false,
            false,
            false,
            false,
            false,
            false,
            false,
            false,
            false,
            false,
            false,
            false
           ],
           [
            false,
            false,
            false,
            false,
            true,
            false,
            false,
            false,
            false,
            false,
            false,
            false,
            false,
            false,
            false,
            false,
            false,
            false,
            false,
            false,
            false,
            false,
            false,
            false,
            false,
            false,
            false,
            false,
            false,
            false,
            false,
            false,
            false,
            false
           ],
           [
            false,
            false,
            false,
            false,
            false,
            false,
            false,
            false,
            false,
            false,
            false,
            false,
            false,
            false,
            false,
            false,
            false,
            false,
            false,
            false,
            false,
            false,
            false,
            false,
            false,
            false,
            false,
            false,
            false,
            false,
            false,
            false,
            false,
            false
           ],
           [
            false,
            false,
            false,
            false,
            false,
            false,
            false,
            false,
            false,
            false,
            false,
            false,
            false,
            false,
            false,
            false,
            false,
            false,
            false,
            false,
            false,
            false,
            false,
            false,
            false,
            false,
            false,
            false,
            false,
            false,
            false,
            false,
            false,
            false
           ],
           [
            false,
            false,
            false,
            false,
            false,
            false,
            false,
            false,
            false,
            false,
            false,
            false,
            false,
            false,
            false,
            false,
            false,
            false,
            false,
            false,
            false,
            false,
            false,
            false,
            false,
            false,
            false,
            false,
            false,
            false,
            false,
            false,
            false,
            false
           ]
          ]
         },
         "header": {
          "values": [
           "subjects",
           "session",
           "AAL3",
           "Neudorfer",
           "AAL3_Neudorfer",
           "Hypothalamus",
           "atlas_7TAmi_DGN_SBA_v9",
           "atlas_7TAmi_adapted_eMorel_v9",
           "atlas_7TAmi_Amygdala",
           "atlas_7TAmi_CIT168_AMYG",
           "VEP_atlas",
           "Destrieux",
           "Desikan_Killiany"
          ]
         },
         "type": "table"
        }
       ],
       "layout": {
        "template": {
         "data": {
          "bar": [
           {
            "error_x": {
             "color": "#2a3f5f"
            },
            "error_y": {
             "color": "#2a3f5f"
            },
            "marker": {
             "line": {
              "color": "#E5ECF6",
              "width": 0.5
             },
             "pattern": {
              "fillmode": "overlay",
              "size": 10,
              "solidity": 0.2
             }
            },
            "type": "bar"
           }
          ],
          "barpolar": [
           {
            "marker": {
             "line": {
              "color": "#E5ECF6",
              "width": 0.5
             },
             "pattern": {
              "fillmode": "overlay",
              "size": 10,
              "solidity": 0.2
             }
            },
            "type": "barpolar"
           }
          ],
          "carpet": [
           {
            "aaxis": {
             "endlinecolor": "#2a3f5f",
             "gridcolor": "white",
             "linecolor": "white",
             "minorgridcolor": "white",
             "startlinecolor": "#2a3f5f"
            },
            "baxis": {
             "endlinecolor": "#2a3f5f",
             "gridcolor": "white",
             "linecolor": "white",
             "minorgridcolor": "white",
             "startlinecolor": "#2a3f5f"
            },
            "type": "carpet"
           }
          ],
          "choropleth": [
           {
            "colorbar": {
             "outlinewidth": 0,
             "ticks": ""
            },
            "type": "choropleth"
           }
          ],
          "contour": [
           {
            "colorbar": {
             "outlinewidth": 0,
             "ticks": ""
            },
            "colorscale": [
             [
              0,
              "#0d0887"
             ],
             [
              0.1111111111111111,
              "#46039f"
             ],
             [
              0.2222222222222222,
              "#7201a8"
             ],
             [
              0.3333333333333333,
              "#9c179e"
             ],
             [
              0.4444444444444444,
              "#bd3786"
             ],
             [
              0.5555555555555556,
              "#d8576b"
             ],
             [
              0.6666666666666666,
              "#ed7953"
             ],
             [
              0.7777777777777778,
              "#fb9f3a"
             ],
             [
              0.8888888888888888,
              "#fdca26"
             ],
             [
              1,
              "#f0f921"
             ]
            ],
            "type": "contour"
           }
          ],
          "contourcarpet": [
           {
            "colorbar": {
             "outlinewidth": 0,
             "ticks": ""
            },
            "type": "contourcarpet"
           }
          ],
          "heatmap": [
           {
            "colorbar": {
             "outlinewidth": 0,
             "ticks": ""
            },
            "colorscale": [
             [
              0,
              "#0d0887"
             ],
             [
              0.1111111111111111,
              "#46039f"
             ],
             [
              0.2222222222222222,
              "#7201a8"
             ],
             [
              0.3333333333333333,
              "#9c179e"
             ],
             [
              0.4444444444444444,
              "#bd3786"
             ],
             [
              0.5555555555555556,
              "#d8576b"
             ],
             [
              0.6666666666666666,
              "#ed7953"
             ],
             [
              0.7777777777777778,
              "#fb9f3a"
             ],
             [
              0.8888888888888888,
              "#fdca26"
             ],
             [
              1,
              "#f0f921"
             ]
            ],
            "type": "heatmap"
           }
          ],
          "heatmapgl": [
           {
            "colorbar": {
             "outlinewidth": 0,
             "ticks": ""
            },
            "colorscale": [
             [
              0,
              "#0d0887"
             ],
             [
              0.1111111111111111,
              "#46039f"
             ],
             [
              0.2222222222222222,
              "#7201a8"
             ],
             [
              0.3333333333333333,
              "#9c179e"
             ],
             [
              0.4444444444444444,
              "#bd3786"
             ],
             [
              0.5555555555555556,
              "#d8576b"
             ],
             [
              0.6666666666666666,
              "#ed7953"
             ],
             [
              0.7777777777777778,
              "#fb9f3a"
             ],
             [
              0.8888888888888888,
              "#fdca26"
             ],
             [
              1,
              "#f0f921"
             ]
            ],
            "type": "heatmapgl"
           }
          ],
          "histogram": [
           {
            "marker": {
             "pattern": {
              "fillmode": "overlay",
              "size": 10,
              "solidity": 0.2
             }
            },
            "type": "histogram"
           }
          ],
          "histogram2d": [
           {
            "colorbar": {
             "outlinewidth": 0,
             "ticks": ""
            },
            "colorscale": [
             [
              0,
              "#0d0887"
             ],
             [
              0.1111111111111111,
              "#46039f"
             ],
             [
              0.2222222222222222,
              "#7201a8"
             ],
             [
              0.3333333333333333,
              "#9c179e"
             ],
             [
              0.4444444444444444,
              "#bd3786"
             ],
             [
              0.5555555555555556,
              "#d8576b"
             ],
             [
              0.6666666666666666,
              "#ed7953"
             ],
             [
              0.7777777777777778,
              "#fb9f3a"
             ],
             [
              0.8888888888888888,
              "#fdca26"
             ],
             [
              1,
              "#f0f921"
             ]
            ],
            "type": "histogram2d"
           }
          ],
          "histogram2dcontour": [
           {
            "colorbar": {
             "outlinewidth": 0,
             "ticks": ""
            },
            "colorscale": [
             [
              0,
              "#0d0887"
             ],
             [
              0.1111111111111111,
              "#46039f"
             ],
             [
              0.2222222222222222,
              "#7201a8"
             ],
             [
              0.3333333333333333,
              "#9c179e"
             ],
             [
              0.4444444444444444,
              "#bd3786"
             ],
             [
              0.5555555555555556,
              "#d8576b"
             ],
             [
              0.6666666666666666,
              "#ed7953"
             ],
             [
              0.7777777777777778,
              "#fb9f3a"
             ],
             [
              0.8888888888888888,
              "#fdca26"
             ],
             [
              1,
              "#f0f921"
             ]
            ],
            "type": "histogram2dcontour"
           }
          ],
          "mesh3d": [
           {
            "colorbar": {
             "outlinewidth": 0,
             "ticks": ""
            },
            "type": "mesh3d"
           }
          ],
          "parcoords": [
           {
            "line": {
             "colorbar": {
              "outlinewidth": 0,
              "ticks": ""
             }
            },
            "type": "parcoords"
           }
          ],
          "pie": [
           {
            "automargin": true,
            "type": "pie"
           }
          ],
          "scatter": [
           {
            "fillpattern": {
             "fillmode": "overlay",
             "size": 10,
             "solidity": 0.2
            },
            "type": "scatter"
           }
          ],
          "scatter3d": [
           {
            "line": {
             "colorbar": {
              "outlinewidth": 0,
              "ticks": ""
             }
            },
            "marker": {
             "colorbar": {
              "outlinewidth": 0,
              "ticks": ""
             }
            },
            "type": "scatter3d"
           }
          ],
          "scattercarpet": [
           {
            "marker": {
             "colorbar": {
              "outlinewidth": 0,
              "ticks": ""
             }
            },
            "type": "scattercarpet"
           }
          ],
          "scattergeo": [
           {
            "marker": {
             "colorbar": {
              "outlinewidth": 0,
              "ticks": ""
             }
            },
            "type": "scattergeo"
           }
          ],
          "scattergl": [
           {
            "marker": {
             "colorbar": {
              "outlinewidth": 0,
              "ticks": ""
             }
            },
            "type": "scattergl"
           }
          ],
          "scattermapbox": [
           {
            "marker": {
             "colorbar": {
              "outlinewidth": 0,
              "ticks": ""
             }
            },
            "type": "scattermapbox"
           }
          ],
          "scatterpolar": [
           {
            "marker": {
             "colorbar": {
              "outlinewidth": 0,
              "ticks": ""
             }
            },
            "type": "scatterpolar"
           }
          ],
          "scatterpolargl": [
           {
            "marker": {
             "colorbar": {
              "outlinewidth": 0,
              "ticks": ""
             }
            },
            "type": "scatterpolargl"
           }
          ],
          "scatterternary": [
           {
            "marker": {
             "colorbar": {
              "outlinewidth": 0,
              "ticks": ""
             }
            },
            "type": "scatterternary"
           }
          ],
          "surface": [
           {
            "colorbar": {
             "outlinewidth": 0,
             "ticks": ""
            },
            "colorscale": [
             [
              0,
              "#0d0887"
             ],
             [
              0.1111111111111111,
              "#46039f"
             ],
             [
              0.2222222222222222,
              "#7201a8"
             ],
             [
              0.3333333333333333,
              "#9c179e"
             ],
             [
              0.4444444444444444,
              "#bd3786"
             ],
             [
              0.5555555555555556,
              "#d8576b"
             ],
             [
              0.6666666666666666,
              "#ed7953"
             ],
             [
              0.7777777777777778,
              "#fb9f3a"
             ],
             [
              0.8888888888888888,
              "#fdca26"
             ],
             [
              1,
              "#f0f921"
             ]
            ],
            "type": "surface"
           }
          ],
          "table": [
           {
            "cells": {
             "fill": {
              "color": "#EBF0F8"
             },
             "line": {
              "color": "white"
             }
            },
            "header": {
             "fill": {
              "color": "#C8D4E3"
             },
             "line": {
              "color": "white"
             }
            },
            "type": "table"
           }
          ]
         },
         "layout": {
          "annotationdefaults": {
           "arrowcolor": "#2a3f5f",
           "arrowhead": 0,
           "arrowwidth": 1
          },
          "autotypenumbers": "strict",
          "coloraxis": {
           "colorbar": {
            "outlinewidth": 0,
            "ticks": ""
           }
          },
          "colorscale": {
           "diverging": [
            [
             0,
             "#8e0152"
            ],
            [
             0.1,
             "#c51b7d"
            ],
            [
             0.2,
             "#de77ae"
            ],
            [
             0.3,
             "#f1b6da"
            ],
            [
             0.4,
             "#fde0ef"
            ],
            [
             0.5,
             "#f7f7f7"
            ],
            [
             0.6,
             "#e6f5d0"
            ],
            [
             0.7,
             "#b8e186"
            ],
            [
             0.8,
             "#7fbc41"
            ],
            [
             0.9,
             "#4d9221"
            ],
            [
             1,
             "#276419"
            ]
           ],
           "sequential": [
            [
             0,
             "#0d0887"
            ],
            [
             0.1111111111111111,
             "#46039f"
            ],
            [
             0.2222222222222222,
             "#7201a8"
            ],
            [
             0.3333333333333333,
             "#9c179e"
            ],
            [
             0.4444444444444444,
             "#bd3786"
            ],
            [
             0.5555555555555556,
             "#d8576b"
            ],
            [
             0.6666666666666666,
             "#ed7953"
            ],
            [
             0.7777777777777778,
             "#fb9f3a"
            ],
            [
             0.8888888888888888,
             "#fdca26"
            ],
            [
             1,
             "#f0f921"
            ]
           ],
           "sequentialminus": [
            [
             0,
             "#0d0887"
            ],
            [
             0.1111111111111111,
             "#46039f"
            ],
            [
             0.2222222222222222,
             "#7201a8"
            ],
            [
             0.3333333333333333,
             "#9c179e"
            ],
            [
             0.4444444444444444,
             "#bd3786"
            ],
            [
             0.5555555555555556,
             "#d8576b"
            ],
            [
             0.6666666666666666,
             "#ed7953"
            ],
            [
             0.7777777777777778,
             "#fb9f3a"
            ],
            [
             0.8888888888888888,
             "#fdca26"
            ],
            [
             1,
             "#f0f921"
            ]
           ]
          },
          "colorway": [
           "#636efa",
           "#EF553B",
           "#00cc96",
           "#ab63fa",
           "#FFA15A",
           "#19d3f3",
           "#FF6692",
           "#B6E880",
           "#FF97FF",
           "#FECB52"
          ],
          "font": {
           "color": "#2a3f5f"
          },
          "geo": {
           "bgcolor": "white",
           "lakecolor": "white",
           "landcolor": "#E5ECF6",
           "showlakes": true,
           "showland": true,
           "subunitcolor": "white"
          },
          "hoverlabel": {
           "align": "left"
          },
          "hovermode": "closest",
          "mapbox": {
           "style": "light"
          },
          "paper_bgcolor": "white",
          "plot_bgcolor": "#E5ECF6",
          "polar": {
           "angularaxis": {
            "gridcolor": "white",
            "linecolor": "white",
            "ticks": ""
           },
           "bgcolor": "#E5ECF6",
           "radialaxis": {
            "gridcolor": "white",
            "linecolor": "white",
            "ticks": ""
           }
          },
          "scene": {
           "xaxis": {
            "backgroundcolor": "#E5ECF6",
            "gridcolor": "white",
            "gridwidth": 2,
            "linecolor": "white",
            "showbackground": true,
            "ticks": "",
            "zerolinecolor": "white"
           },
           "yaxis": {
            "backgroundcolor": "#E5ECF6",
            "gridcolor": "white",
            "gridwidth": 2,
            "linecolor": "white",
            "showbackground": true,
            "ticks": "",
            "zerolinecolor": "white"
           },
           "zaxis": {
            "backgroundcolor": "#E5ECF6",
            "gridcolor": "white",
            "gridwidth": 2,
            "linecolor": "white",
            "showbackground": true,
            "ticks": "",
            "zerolinecolor": "white"
           }
          },
          "shapedefaults": {
           "line": {
            "color": "#2a3f5f"
           }
          },
          "ternary": {
           "aaxis": {
            "gridcolor": "white",
            "linecolor": "white",
            "ticks": ""
           },
           "baxis": {
            "gridcolor": "white",
            "linecolor": "white",
            "ticks": ""
           },
           "bgcolor": "#E5ECF6",
           "caxis": {
            "gridcolor": "white",
            "linecolor": "white",
            "ticks": ""
           }
          },
          "title": {
           "x": 0.05
          },
          "xaxis": {
           "automargin": true,
           "gridcolor": "white",
           "linecolor": "white",
           "ticks": "",
           "title": {
            "standoff": 15
           },
           "zerolinecolor": "white",
           "zerolinewidth": 2
          },
          "yaxis": {
           "automargin": true,
           "gridcolor": "white",
           "linecolor": "white",
           "ticks": "",
           "title": {
            "standoff": 15
           },
           "zerolinecolor": "white",
           "zerolinewidth": 2
          }
         }
        }
       }
      },
      "text/html": [
       "<div>                            <div id=\"de61adfa-ec9c-401b-8b76-7548755a20f8\" class=\"plotly-graph-div\" style=\"height:525px; width:100%;\"></div>            <script type=\"text/javascript\">                require([\"plotly\"], function(Plotly) {                    window.PLOTLYENV=window.PLOTLYENV || {};                                    if (document.getElementById(\"de61adfa-ec9c-401b-8b76-7548755a20f8\")) {                    Plotly.newPlot(                        \"de61adfa-ec9c-401b-8b76-7548755a20f8\",                        [{\"cells\":{\"fill\":{\"color\":[[\"white\",\"white\",\"white\",\"white\",\"white\",\"white\",\"white\",\"white\",\"white\",\"white\",\"white\",\"white\",\"white\",\"white\",\"white\",\"white\",\"white\",\"white\",\"white\",\"white\",\"white\",\"white\",\"white\",\"white\",\"white\",\"white\",\"white\",\"white\",\"white\",\"white\",\"white\",\"white\",\"white\",\"white\"],[\"white\",\"white\",\"white\",\"white\",\"white\",\"white\",\"white\",\"white\",\"white\",\"white\",\"white\",\"white\",\"white\",\"white\",\"white\",\"white\",\"white\",\"white\",\"white\",\"white\",\"white\",\"white\",\"white\",\"white\",\"white\",\"white\",\"white\",\"white\",\"white\",\"white\",\"white\",\"white\",\"white\",\"white\"],[\"red\",\"red\",\"red\",\"red\",\"green\",\"red\",\"red\",\"red\",\"red\",\"red\",\"red\",\"red\",\"red\",\"red\",\"red\",\"red\",\"red\",\"red\",\"red\",\"red\",\"red\",\"red\",\"red\",\"red\",\"red\",\"red\",\"red\",\"red\",\"red\",\"red\",\"red\",\"red\",\"red\",\"red\"],[\"red\",\"red\",\"red\",\"red\",\"red\",\"red\",\"red\",\"red\",\"red\",\"red\",\"red\",\"red\",\"red\",\"red\",\"red\",\"red\",\"red\",\"red\",\"red\",\"red\",\"red\",\"red\",\"red\",\"red\",\"red\",\"red\",\"red\",\"red\",\"red\",\"red\",\"red\",\"red\",\"red\",\"red\"],[\"red\",\"red\",\"red\",\"red\",\"green\",\"red\",\"red\",\"red\",\"red\",\"red\",\"red\",\"red\",\"red\",\"red\",\"red\",\"red\",\"red\",\"red\",\"red\",\"red\",\"red\",\"red\",\"red\",\"red\",\"red\",\"red\",\"red\",\"red\",\"red\",\"red\",\"red\",\"red\",\"red\",\"red\"],[\"red\",\"red\",\"red\",\"red\",\"red\",\"red\",\"red\",\"red\",\"red\",\"red\",\"red\",\"red\",\"red\",\"red\",\"red\",\"red\",\"red\",\"red\",\"red\",\"red\",\"red\",\"red\",\"red\",\"red\",\"red\",\"red\",\"red\",\"red\",\"red\",\"red\",\"red\",\"red\",\"red\",\"red\"],[\"red\",\"red\",\"red\",\"red\",\"green\",\"red\",\"red\",\"red\",\"red\",\"red\",\"red\",\"red\",\"red\",\"red\",\"red\",\"red\",\"red\",\"red\",\"red\",\"red\",\"red\",\"red\",\"red\",\"red\",\"red\",\"red\",\"red\",\"red\",\"red\",\"red\",\"red\",\"red\",\"red\",\"red\"],[\"red\",\"red\",\"red\",\"red\",\"green\",\"red\",\"red\",\"red\",\"red\",\"red\",\"red\",\"red\",\"red\",\"red\",\"red\",\"red\",\"red\",\"red\",\"red\",\"red\",\"red\",\"red\",\"red\",\"red\",\"red\",\"red\",\"red\",\"red\",\"red\",\"red\",\"red\",\"red\",\"red\",\"red\"],[\"red\",\"red\",\"red\",\"red\",\"green\",\"red\",\"red\",\"red\",\"red\",\"red\",\"red\",\"red\",\"red\",\"red\",\"red\",\"red\",\"red\",\"red\",\"red\",\"red\",\"red\",\"red\",\"red\",\"red\",\"red\",\"red\",\"red\",\"red\",\"red\",\"red\",\"red\",\"red\",\"red\",\"red\"],[\"red\",\"red\",\"red\",\"red\",\"green\",\"red\",\"red\",\"red\",\"red\",\"red\",\"red\",\"red\",\"red\",\"red\",\"red\",\"red\",\"red\",\"red\",\"red\",\"red\",\"red\",\"red\",\"red\",\"red\",\"red\",\"red\",\"red\",\"red\",\"red\",\"red\",\"red\",\"red\",\"red\",\"red\"],[\"red\",\"red\",\"red\",\"red\",\"red\",\"red\",\"red\",\"red\",\"red\",\"red\",\"red\",\"red\",\"red\",\"red\",\"red\",\"red\",\"red\",\"red\",\"red\",\"red\",\"red\",\"red\",\"red\",\"red\",\"red\",\"red\",\"red\",\"red\",\"red\",\"red\",\"red\",\"red\",\"red\",\"red\"],[\"red\",\"red\",\"red\",\"red\",\"red\",\"red\",\"red\",\"red\",\"red\",\"red\",\"red\",\"red\",\"red\",\"red\",\"red\",\"red\",\"red\",\"red\",\"red\",\"red\",\"red\",\"red\",\"red\",\"red\",\"red\",\"red\",\"red\",\"red\",\"red\",\"red\",\"red\",\"red\",\"red\",\"red\"],[\"red\",\"red\",\"red\",\"red\",\"red\",\"red\",\"red\",\"red\",\"red\",\"red\",\"red\",\"red\",\"red\",\"red\",\"red\",\"red\",\"red\",\"red\",\"red\",\"red\",\"red\",\"red\",\"red\",\"red\",\"red\",\"red\",\"red\",\"red\",\"red\",\"red\",\"red\",\"red\",\"red\",\"red\"]]},\"values\":[[\"01_55_L_M\",\"01_45_B-N\",\"01_45_B-N\",\"01_85_G-S\",\"01-59-P-V\",\"01-68-P-N\",\"01-75-R-S\",\"01-63-B-K\",\"01_77_B_B\",\"01_86_P-L\",\"01-83-P-G\",\"01_71_D-C\",\"01_57_FC\",\"01_80_V_T\",\"01-64-B-A\",\"01-54-D-R\",\"01-61-B-L\",\"01-49-R-D\",\"01-70-L-E\",\"01-79-G-S\",\"01_72_M-V\",\"01_62_T-E\",\"01_69_CO\",\"01_47_Q-M\",\"01-56-C-D\",\"01_84_GM\",\"01-46_L-J\",\"01-78-M-C\",\"01_52_B-L\",\"01_41_CL\",\"01_50_D-A\",\"01-66-L-Q\",\"01_58_T_A\",\"01_73_A_M\"],[\"202201140838\",\"202107020849\",\"BRAIN_EPINOV\",\"202306090849\",\"202204131119\",\"202211080928\",\"202303011104\",\"202205020920\",\"202308220902\",\"202306291315\",\"202304210904\",\"202303030852\",\"202112150855\",\"202304280912\",\"202210280903\",\"202110131329\",\"202208110904\",\"202111050958\",\"202303031323\",\"202304071208\",\"202301301518\",\"202204261345\",\"202301060848\",\"202108120952\",\"202110150908\",\"202306160853\",\"202108261322\",\"202304070918\",\"202109100911\",\"202106180909\",\"202109171116\",\"202109090853\",\"202201070933\",\"202302100929\"],[false,false,false,false,true,false,false,false,false,false,false,false,false,false,false,false,false,false,false,false,false,false,false,false,false,false,false,false,false,false,false,false,false,false],[false,false,false,false,false,false,false,false,false,false,false,false,false,false,false,false,false,false,false,false,false,false,false,false,false,false,false,false,false,false,false,false,false,false],[false,false,false,false,true,false,false,false,false,false,false,false,false,false,false,false,false,false,false,false,false,false,false,false,false,false,false,false,false,false,false,false,false,false],[false,false,false,false,false,false,false,false,false,false,false,false,false,false,false,false,false,false,false,false,false,false,false,false,false,false,false,false,false,false,false,false,false,false],[false,false,false,false,true,false,false,false,false,false,false,false,false,false,false,false,false,false,false,false,false,false,false,false,false,false,false,false,false,false,false,false,false,false],[false,false,false,false,true,false,false,false,false,false,false,false,false,false,false,false,false,false,false,false,false,false,false,false,false,false,false,false,false,false,false,false,false,false],[false,false,false,false,true,false,false,false,false,false,false,false,false,false,false,false,false,false,false,false,false,false,false,false,false,false,false,false,false,false,false,false,false,false],[false,false,false,false,true,false,false,false,false,false,false,false,false,false,false,false,false,false,false,false,false,false,false,false,false,false,false,false,false,false,false,false,false,false],[false,false,false,false,false,false,false,false,false,false,false,false,false,false,false,false,false,false,false,false,false,false,false,false,false,false,false,false,false,false,false,false,false,false],[false,false,false,false,false,false,false,false,false,false,false,false,false,false,false,false,false,false,false,false,false,false,false,false,false,false,false,false,false,false,false,false,false,false],[false,false,false,false,false,false,false,false,false,false,false,false,false,false,false,false,false,false,false,false,false,false,false,false,false,false,false,false,false,false,false,false,false,false]]},\"header\":{\"values\":[\"subjects\",\"session\",\"AAL3\",\"Neudorfer\",\"AAL3_Neudorfer\",\"Hypothalamus\",\"atlas_7TAmi_DGN_SBA_v9\",\"atlas_7TAmi_adapted_eMorel_v9\",\"atlas_7TAmi_Amygdala\",\"atlas_7TAmi_CIT168_AMYG\",\"VEP_atlas\",\"Destrieux\",\"Desikan_Killiany\"]},\"type\":\"table\"}],                        {\"template\":{\"data\":{\"histogram2dcontour\":[{\"type\":\"histogram2dcontour\",\"colorbar\":{\"outlinewidth\":0,\"ticks\":\"\"},\"colorscale\":[[0.0,\"#0d0887\"],[0.1111111111111111,\"#46039f\"],[0.2222222222222222,\"#7201a8\"],[0.3333333333333333,\"#9c179e\"],[0.4444444444444444,\"#bd3786\"],[0.5555555555555556,\"#d8576b\"],[0.6666666666666666,\"#ed7953\"],[0.7777777777777778,\"#fb9f3a\"],[0.8888888888888888,\"#fdca26\"],[1.0,\"#f0f921\"]]}],\"choropleth\":[{\"type\":\"choropleth\",\"colorbar\":{\"outlinewidth\":0,\"ticks\":\"\"}}],\"histogram2d\":[{\"type\":\"histogram2d\",\"colorbar\":{\"outlinewidth\":0,\"ticks\":\"\"},\"colorscale\":[[0.0,\"#0d0887\"],[0.1111111111111111,\"#46039f\"],[0.2222222222222222,\"#7201a8\"],[0.3333333333333333,\"#9c179e\"],[0.4444444444444444,\"#bd3786\"],[0.5555555555555556,\"#d8576b\"],[0.6666666666666666,\"#ed7953\"],[0.7777777777777778,\"#fb9f3a\"],[0.8888888888888888,\"#fdca26\"],[1.0,\"#f0f921\"]]}],\"heatmap\":[{\"type\":\"heatmap\",\"colorbar\":{\"outlinewidth\":0,\"ticks\":\"\"},\"colorscale\":[[0.0,\"#0d0887\"],[0.1111111111111111,\"#46039f\"],[0.2222222222222222,\"#7201a8\"],[0.3333333333333333,\"#9c179e\"],[0.4444444444444444,\"#bd3786\"],[0.5555555555555556,\"#d8576b\"],[0.6666666666666666,\"#ed7953\"],[0.7777777777777778,\"#fb9f3a\"],[0.8888888888888888,\"#fdca26\"],[1.0,\"#f0f921\"]]}],\"heatmapgl\":[{\"type\":\"heatmapgl\",\"colorbar\":{\"outlinewidth\":0,\"ticks\":\"\"},\"colorscale\":[[0.0,\"#0d0887\"],[0.1111111111111111,\"#46039f\"],[0.2222222222222222,\"#7201a8\"],[0.3333333333333333,\"#9c179e\"],[0.4444444444444444,\"#bd3786\"],[0.5555555555555556,\"#d8576b\"],[0.6666666666666666,\"#ed7953\"],[0.7777777777777778,\"#fb9f3a\"],[0.8888888888888888,\"#fdca26\"],[1.0,\"#f0f921\"]]}],\"contourcarpet\":[{\"type\":\"contourcarpet\",\"colorbar\":{\"outlinewidth\":0,\"ticks\":\"\"}}],\"contour\":[{\"type\":\"contour\",\"colorbar\":{\"outlinewidth\":0,\"ticks\":\"\"},\"colorscale\":[[0.0,\"#0d0887\"],[0.1111111111111111,\"#46039f\"],[0.2222222222222222,\"#7201a8\"],[0.3333333333333333,\"#9c179e\"],[0.4444444444444444,\"#bd3786\"],[0.5555555555555556,\"#d8576b\"],[0.6666666666666666,\"#ed7953\"],[0.7777777777777778,\"#fb9f3a\"],[0.8888888888888888,\"#fdca26\"],[1.0,\"#f0f921\"]]}],\"surface\":[{\"type\":\"surface\",\"colorbar\":{\"outlinewidth\":0,\"ticks\":\"\"},\"colorscale\":[[0.0,\"#0d0887\"],[0.1111111111111111,\"#46039f\"],[0.2222222222222222,\"#7201a8\"],[0.3333333333333333,\"#9c179e\"],[0.4444444444444444,\"#bd3786\"],[0.5555555555555556,\"#d8576b\"],[0.6666666666666666,\"#ed7953\"],[0.7777777777777778,\"#fb9f3a\"],[0.8888888888888888,\"#fdca26\"],[1.0,\"#f0f921\"]]}],\"mesh3d\":[{\"type\":\"mesh3d\",\"colorbar\":{\"outlinewidth\":0,\"ticks\":\"\"}}],\"scatter\":[{\"fillpattern\":{\"fillmode\":\"overlay\",\"size\":10,\"solidity\":0.2},\"type\":\"scatter\"}],\"parcoords\":[{\"type\":\"parcoords\",\"line\":{\"colorbar\":{\"outlinewidth\":0,\"ticks\":\"\"}}}],\"scatterpolargl\":[{\"type\":\"scatterpolargl\",\"marker\":{\"colorbar\":{\"outlinewidth\":0,\"ticks\":\"\"}}}],\"bar\":[{\"error_x\":{\"color\":\"#2a3f5f\"},\"error_y\":{\"color\":\"#2a3f5f\"},\"marker\":{\"line\":{\"color\":\"#E5ECF6\",\"width\":0.5},\"pattern\":{\"fillmode\":\"overlay\",\"size\":10,\"solidity\":0.2}},\"type\":\"bar\"}],\"scattergeo\":[{\"type\":\"scattergeo\",\"marker\":{\"colorbar\":{\"outlinewidth\":0,\"ticks\":\"\"}}}],\"scatterpolar\":[{\"type\":\"scatterpolar\",\"marker\":{\"colorbar\":{\"outlinewidth\":0,\"ticks\":\"\"}}}],\"histogram\":[{\"marker\":{\"pattern\":{\"fillmode\":\"overlay\",\"size\":10,\"solidity\":0.2}},\"type\":\"histogram\"}],\"scattergl\":[{\"type\":\"scattergl\",\"marker\":{\"colorbar\":{\"outlinewidth\":0,\"ticks\":\"\"}}}],\"scatter3d\":[{\"type\":\"scatter3d\",\"line\":{\"colorbar\":{\"outlinewidth\":0,\"ticks\":\"\"}},\"marker\":{\"colorbar\":{\"outlinewidth\":0,\"ticks\":\"\"}}}],\"scattermapbox\":[{\"type\":\"scattermapbox\",\"marker\":{\"colorbar\":{\"outlinewidth\":0,\"ticks\":\"\"}}}],\"scatterternary\":[{\"type\":\"scatterternary\",\"marker\":{\"colorbar\":{\"outlinewidth\":0,\"ticks\":\"\"}}}],\"scattercarpet\":[{\"type\":\"scattercarpet\",\"marker\":{\"colorbar\":{\"outlinewidth\":0,\"ticks\":\"\"}}}],\"carpet\":[{\"aaxis\":{\"endlinecolor\":\"#2a3f5f\",\"gridcolor\":\"white\",\"linecolor\":\"white\",\"minorgridcolor\":\"white\",\"startlinecolor\":\"#2a3f5f\"},\"baxis\":{\"endlinecolor\":\"#2a3f5f\",\"gridcolor\":\"white\",\"linecolor\":\"white\",\"minorgridcolor\":\"white\",\"startlinecolor\":\"#2a3f5f\"},\"type\":\"carpet\"}],\"table\":[{\"cells\":{\"fill\":{\"color\":\"#EBF0F8\"},\"line\":{\"color\":\"white\"}},\"header\":{\"fill\":{\"color\":\"#C8D4E3\"},\"line\":{\"color\":\"white\"}},\"type\":\"table\"}],\"barpolar\":[{\"marker\":{\"line\":{\"color\":\"#E5ECF6\",\"width\":0.5},\"pattern\":{\"fillmode\":\"overlay\",\"size\":10,\"solidity\":0.2}},\"type\":\"barpolar\"}],\"pie\":[{\"automargin\":true,\"type\":\"pie\"}]},\"layout\":{\"autotypenumbers\":\"strict\",\"colorway\":[\"#636efa\",\"#EF553B\",\"#00cc96\",\"#ab63fa\",\"#FFA15A\",\"#19d3f3\",\"#FF6692\",\"#B6E880\",\"#FF97FF\",\"#FECB52\"],\"font\":{\"color\":\"#2a3f5f\"},\"hovermode\":\"closest\",\"hoverlabel\":{\"align\":\"left\"},\"paper_bgcolor\":\"white\",\"plot_bgcolor\":\"#E5ECF6\",\"polar\":{\"bgcolor\":\"#E5ECF6\",\"angularaxis\":{\"gridcolor\":\"white\",\"linecolor\":\"white\",\"ticks\":\"\"},\"radialaxis\":{\"gridcolor\":\"white\",\"linecolor\":\"white\",\"ticks\":\"\"}},\"ternary\":{\"bgcolor\":\"#E5ECF6\",\"aaxis\":{\"gridcolor\":\"white\",\"linecolor\":\"white\",\"ticks\":\"\"},\"baxis\":{\"gridcolor\":\"white\",\"linecolor\":\"white\",\"ticks\":\"\"},\"caxis\":{\"gridcolor\":\"white\",\"linecolor\":\"white\",\"ticks\":\"\"}},\"coloraxis\":{\"colorbar\":{\"outlinewidth\":0,\"ticks\":\"\"}},\"colorscale\":{\"sequential\":[[0.0,\"#0d0887\"],[0.1111111111111111,\"#46039f\"],[0.2222222222222222,\"#7201a8\"],[0.3333333333333333,\"#9c179e\"],[0.4444444444444444,\"#bd3786\"],[0.5555555555555556,\"#d8576b\"],[0.6666666666666666,\"#ed7953\"],[0.7777777777777778,\"#fb9f3a\"],[0.8888888888888888,\"#fdca26\"],[1.0,\"#f0f921\"]],\"sequentialminus\":[[0.0,\"#0d0887\"],[0.1111111111111111,\"#46039f\"],[0.2222222222222222,\"#7201a8\"],[0.3333333333333333,\"#9c179e\"],[0.4444444444444444,\"#bd3786\"],[0.5555555555555556,\"#d8576b\"],[0.6666666666666666,\"#ed7953\"],[0.7777777777777778,\"#fb9f3a\"],[0.8888888888888888,\"#fdca26\"],[1.0,\"#f0f921\"]],\"diverging\":[[0,\"#8e0152\"],[0.1,\"#c51b7d\"],[0.2,\"#de77ae\"],[0.3,\"#f1b6da\"],[0.4,\"#fde0ef\"],[0.5,\"#f7f7f7\"],[0.6,\"#e6f5d0\"],[0.7,\"#b8e186\"],[0.8,\"#7fbc41\"],[0.9,\"#4d9221\"],[1,\"#276419\"]]},\"xaxis\":{\"gridcolor\":\"white\",\"linecolor\":\"white\",\"ticks\":\"\",\"title\":{\"standoff\":15},\"zerolinecolor\":\"white\",\"automargin\":true,\"zerolinewidth\":2},\"yaxis\":{\"gridcolor\":\"white\",\"linecolor\":\"white\",\"ticks\":\"\",\"title\":{\"standoff\":15},\"zerolinecolor\":\"white\",\"automargin\":true,\"zerolinewidth\":2},\"scene\":{\"xaxis\":{\"backgroundcolor\":\"#E5ECF6\",\"gridcolor\":\"white\",\"linecolor\":\"white\",\"showbackground\":true,\"ticks\":\"\",\"zerolinecolor\":\"white\",\"gridwidth\":2},\"yaxis\":{\"backgroundcolor\":\"#E5ECF6\",\"gridcolor\":\"white\",\"linecolor\":\"white\",\"showbackground\":true,\"ticks\":\"\",\"zerolinecolor\":\"white\",\"gridwidth\":2},\"zaxis\":{\"backgroundcolor\":\"#E5ECF6\",\"gridcolor\":\"white\",\"linecolor\":\"white\",\"showbackground\":true,\"ticks\":\"\",\"zerolinecolor\":\"white\",\"gridwidth\":2}},\"shapedefaults\":{\"line\":{\"color\":\"#2a3f5f\"}},\"annotationdefaults\":{\"arrowcolor\":\"#2a3f5f\",\"arrowhead\":0,\"arrowwidth\":1},\"geo\":{\"bgcolor\":\"white\",\"landcolor\":\"#E5ECF6\",\"subunitcolor\":\"white\",\"showland\":true,\"showlakes\":true,\"lakecolor\":\"white\"},\"title\":{\"x\":0.05},\"mapbox\":{\"style\":\"light\"}}}},                        {\"responsive\": true}                    ).then(function(){\n",
       "                            \n",
       "var gd = document.getElementById('de61adfa-ec9c-401b-8b76-7548755a20f8');\n",
       "var x = new MutationObserver(function (mutations, observer) {{\n",
       "        var display = window.getComputedStyle(gd).display;\n",
       "        if (!display || display === 'none') {{\n",
       "            console.log([gd, 'removed!']);\n",
       "            Plotly.purge(gd);\n",
       "            observer.disconnect();\n",
       "        }}\n",
       "}});\n",
       "\n",
       "// Listen for the removal of the full notebook cells\n",
       "var notebookContainer = gd.closest('#notebook-container');\n",
       "if (notebookContainer) {{\n",
       "    x.observe(notebookContainer, {childList: true});\n",
       "}}\n",
       "\n",
       "// Listen for the clearing of the current output cell\n",
       "var outputEl = gd.closest('.output');\n",
       "if (outputEl) {{\n",
       "    x.observe(outputEl, {childList: true});\n",
       "}}\n",
       "\n",
       "                        })                };                });            </script>        </div>"
      ]
     },
     "metadata": {},
     "output_type": "display_data"
    }
   ],
   "source": [
    "cell_colors = [['white' if j == 0 or j == 1 else 'green' if val else 'red' for val in my_dataframe[col]] for j, col in enumerate(my_dataframe.columns)]\n",
    "\n",
    "fig = go.Figure(data=[go.Table(\n",
    "    header=dict(values=list(my_dataframe.columns)),\n",
    "    cells=dict(values=[my_dataframe[col] for col in my_dataframe.columns],\n",
    "               fill_color=cell_colors)\n",
    "               )])\n",
    "\n",
    "fig.show()"
   ]
  },
  {
   "cell_type": "code",
   "execution_count": 566,
   "metadata": {
    "vscode": {
     "languageId": "shellscript"
    }
   },
   "outputs": [
    {
     "data": {
      "application/vnd.jupyter.widget-view+json": {
       "model_id": "c2c161b72a6a4bd4b63229a217dceb65",
       "version_major": 2,
       "version_minor": 0
      },
      "text/plain": [
       "VBox(children=(Dropdown(description='Subjects:', options=('01-46_L-J*202108261322', '01-49-R-D*202111050958', …"
      ]
     },
     "metadata": {},
     "output_type": "display_data"
    }
   ],
   "source": [
    "import pandas as pd\n",
    "import ipywidgets as widgets\n",
    "from functools import partial\n",
    "\n",
    "# Define the list of atlas\n",
    "list_of_atlas = ['AAL3', 'Neudorfer', 'AAL3_Neudorfer', 'Hypothalamus', 'atlas_7TAmi_DGN_SBA_v9', 'atlas_7TAmi_adapted_eMorel_v9', 'atlas_7TAmi_Amygdala', 'atlas_7TAmi_CIT168_AMYG', 'VEP_atlas', 'Destrieux', 'Desikan_Killiany']\n",
    "list_of_subjects = sorted(list(dico_atlas.keys()))\n",
    "\n",
    "# Create dropdown for subjects\n",
    "subjects_dropdown = widgets.Dropdown(options=list_of_subjects, description='Subjects:')\n",
    "\n",
    "# Create buttons for atlas selection\n",
    "atlas_buttons = [widgets.Button(description=atlas) for atlas in list_of_atlas]\n",
    "\n",
    "# Create output widget for table\n",
    "output = widgets.Output()\n",
    "\n",
    "\n",
    "# Function to handle atlas button click\n",
    "def on_button_clicked(b):\n",
    "    with output:\n",
    "        output.clear_output()\n",
    "        selected_subject = subjects_dropdown.value\n",
    "        selected_atlas = b.description\n",
    "        try:\n",
    "            print(f\"Atlas selected: {selected_atlas}\")\n",
    "            atlas_data = dico_atlas[selected_subject]['extraction_' + selected_atlas]\n",
    "            # Display atlas data\n",
    "            print(f\"Atlas: {selected_atlas}\\n\")\n",
    "            df_atlas = pd.DataFrame(atlas_data)\n",
    "            # Afficher le DataFrame dans un widget Table\n",
    "            display(df_atlas)\n",
    "        except KeyError:\n",
    "            print(f\"No atlas data found for subject {selected_subject} and atlas {selected_atlas}\")\n",
    "\n",
    "# Attach button click handler to each button\n",
    "for button in atlas_buttons:\n",
    "    button.on_click(on_button_clicked)\n",
    "\n",
    "# Function to handle subject dropdown change\n",
    "def on_subject_dropdown_change(change):\n",
    "    with output:\n",
    "        output.clear_output()\n",
    "        selected_subject = change.new\n",
    "        print(f\"Subject selected: {selected_subject}\")\n",
    "\n",
    "# Attach subject dropdown change handler\n",
    "subjects_dropdown.observe(on_subject_dropdown_change, names='value')\n",
    "\n",
    "# Display widgets\n",
    "display(widgets.VBox([subjects_dropdown, widgets.HBox(atlas_buttons), output]))\n",
    "\n"
   ]
  },
  {
   "cell_type": "markdown",
   "metadata": {},
   "source": [
    "Volume Freesurfer"
   ]
  },
  {
   "cell_type": "code",
   "execution_count": null,
   "metadata": {
    "vscode": {
     "languageId": "shellscript"
    }
   },
   "outputs": [],
   "source": [
    "dico_aseg_list = {}\n",
    "# dico_aseg_list['session'] = []\n",
    "# dico_aseg_list['subjects'] = []\n",
    "dico_aseg_list['values'] = []\n",
    "dico_aseg_list['label'] = []\n",
    "\n",
    "for sub in dico_atlas.keys():\n",
    "    # dico_aseg_list['subjects'].append(sub.split('*')[0])\n",
    "    # dico_aseg_list['session'].append(sub.split('*')[1])\n",
    "    if 'aseg' in dico_atlas[sub].keys():\n",
    "        # print(dico_atlas[sub]['aseg'])\n",
    "        df = dico_atlas[sub]['aseg']\n",
    "        # Filtrer les lignes avec measurement égal à \"Volume_mm3\"\n",
    "        df_volume = df[df['measurement'] == 'Volume_mm3']\n",
    "        # Supprimer la colonne \"measurement\"\n",
    "        df_volume = df_volume.drop(columns=['measurement'])\n",
    "        # Transposer le DataFrame\n",
    "        df_transpose = df_volume.set_index('region').T\n",
    "        # Réinitialiser les index pour obtenir une mise en forme correcte\n",
    "        df_transpose.reset_index(drop=True, inplace=True)\n",
    "        dico_aseg_list['label'].append(['subjects', 'session'] + list(df_transpose.columns))\n",
    "        dico_aseg_list['values'].append([sub.split('*')[0], sub.split('*')[1]] + list(df_transpose.iloc[0]))\n",
    "        print()\n",
    "\n",
    "    else:\n",
    "        # dico_aseg_list['label'].append(['subjects', 'session'] + 59*[0])\n",
    "        dico_aseg_list['values'].append([sub.split('*')[0], sub.split('*')[1]] + + 59*[0])"
   ]
  },
  {
   "cell_type": "code",
   "execution_count": 472,
   "metadata": {
    "vscode": {
     "languageId": "shellscript"
    }
   },
   "outputs": [],
   "source": [
    "my_dataframe2 = pd.DataFrame(dico_aseg_list['values'])\n",
    "my_dataframe2.columns = dico_aseg_list['label'][0]"
   ]
  },
  {
   "cell_type": "code",
   "execution_count": 483,
   "metadata": {
    "vscode": {
     "languageId": "shellscript"
    }
   },
   "outputs": [
    {
     "data": {
      "text/html": [
       "<div>\n",
       "<style scoped>\n",
       "    .dataframe tbody tr th:only-of-type {\n",
       "        vertical-align: middle;\n",
       "    }\n",
       "\n",
       "    .dataframe tbody tr th {\n",
       "        vertical-align: top;\n",
       "    }\n",
       "\n",
       "    .dataframe thead th {\n",
       "        text-align: right;\n",
       "    }\n",
       "</style>\n",
       "<table border=\"1\" class=\"dataframe\">\n",
       "  <thead>\n",
       "    <tr style=\"text-align: right;\">\n",
       "      <th></th>\n",
       "      <th>subjects</th>\n",
       "      <th>session</th>\n",
       "      <th>BrainSegVol</th>\n",
       "      <th>BrainSegVolNotVent</th>\n",
       "      <th>VentricleChoroidVol</th>\n",
       "      <th>lhCortexVol</th>\n",
       "      <th>rhCortexVol</th>\n",
       "      <th>lhCerebralWhiteMatterVol</th>\n",
       "      <th>rhCerebralWhiteMatterVol</th>\n",
       "      <th>CerebralWhiteMatterVol</th>\n",
       "      <th>...</th>\n",
       "      <th>Right-WM-hypointensities</th>\n",
       "      <th>non-WM-hypointensities</th>\n",
       "      <th>Left-non-WM-hypointensities</th>\n",
       "      <th>Right-non-WM-hypointensities</th>\n",
       "      <th>Optic-Chiasm</th>\n",
       "      <th>CC_Posterior</th>\n",
       "      <th>CC_Mid_Posterior</th>\n",
       "      <th>CC_Central</th>\n",
       "      <th>CC_Mid_Anterior</th>\n",
       "      <th>CC_Anterior</th>\n",
       "    </tr>\n",
       "  </thead>\n",
       "  <tbody>\n",
       "    <tr>\n",
       "      <th>0</th>\n",
       "      <td>01_55_L_M</td>\n",
       "      <td>202201140838</td>\n",
       "      <td>0.000000e+00</td>\n",
       "      <td>0.000000e+00</td>\n",
       "      <td>0.000000</td>\n",
       "      <td>0.000000</td>\n",
       "      <td>0.000000</td>\n",
       "      <td>0.000000</td>\n",
       "      <td>0.000000</td>\n",
       "      <td>0.000000</td>\n",
       "      <td>...</td>\n",
       "      <td>0</td>\n",
       "      <td>0</td>\n",
       "      <td>0</td>\n",
       "      <td>0</td>\n",
       "      <td>0</td>\n",
       "      <td>0</td>\n",
       "      <td>0</td>\n",
       "      <td>0</td>\n",
       "      <td>0</td>\n",
       "      <td>0</td>\n",
       "    </tr>\n",
       "    <tr>\n",
       "      <th>1</th>\n",
       "      <td>01_45_B-N</td>\n",
       "      <td>202107020849</td>\n",
       "      <td>0.000000e+00</td>\n",
       "      <td>0.000000e+00</td>\n",
       "      <td>0.000000</td>\n",
       "      <td>0.000000</td>\n",
       "      <td>0.000000</td>\n",
       "      <td>0.000000</td>\n",
       "      <td>0.000000</td>\n",
       "      <td>0.000000</td>\n",
       "      <td>...</td>\n",
       "      <td>0</td>\n",
       "      <td>0</td>\n",
       "      <td>0</td>\n",
       "      <td>0</td>\n",
       "      <td>0</td>\n",
       "      <td>0</td>\n",
       "      <td>0</td>\n",
       "      <td>0</td>\n",
       "      <td>0</td>\n",
       "      <td>0</td>\n",
       "    </tr>\n",
       "    <tr>\n",
       "      <th>2</th>\n",
       "      <td>01_45_B-N</td>\n",
       "      <td>BRAIN_EPINOV</td>\n",
       "      <td>0.000000e+00</td>\n",
       "      <td>0.000000e+00</td>\n",
       "      <td>0.000000</td>\n",
       "      <td>0.000000</td>\n",
       "      <td>0.000000</td>\n",
       "      <td>0.000000</td>\n",
       "      <td>0.000000</td>\n",
       "      <td>0.000000</td>\n",
       "      <td>...</td>\n",
       "      <td>0</td>\n",
       "      <td>0</td>\n",
       "      <td>0</td>\n",
       "      <td>0</td>\n",
       "      <td>0</td>\n",
       "      <td>0</td>\n",
       "      <td>0</td>\n",
       "      <td>0</td>\n",
       "      <td>0</td>\n",
       "      <td>0</td>\n",
       "    </tr>\n",
       "    <tr>\n",
       "      <th>3</th>\n",
       "      <td>01_85_G-S</td>\n",
       "      <td>202306090849</td>\n",
       "      <td>0.000000e+00</td>\n",
       "      <td>0.000000e+00</td>\n",
       "      <td>0.000000</td>\n",
       "      <td>0.000000</td>\n",
       "      <td>0.000000</td>\n",
       "      <td>0.000000</td>\n",
       "      <td>0.000000</td>\n",
       "      <td>0.000000</td>\n",
       "      <td>...</td>\n",
       "      <td>0</td>\n",
       "      <td>0</td>\n",
       "      <td>0</td>\n",
       "      <td>0</td>\n",
       "      <td>0</td>\n",
       "      <td>0</td>\n",
       "      <td>0</td>\n",
       "      <td>0</td>\n",
       "      <td>0</td>\n",
       "      <td>0</td>\n",
       "    </tr>\n",
       "    <tr>\n",
       "      <th>4</th>\n",
       "      <td>01-59-P-V</td>\n",
       "      <td>202204131119</td>\n",
       "      <td>1.022580e+06</td>\n",
       "      <td>9.801073e+05</td>\n",
       "      <td>36647.696150</td>\n",
       "      <td>204580.125985</td>\n",
       "      <td>213219.579237</td>\n",
       "      <td>196262.102864</td>\n",
       "      <td>206063.094817</td>\n",
       "      <td>402325.197681</td>\n",
       "      <td>...</td>\n",
       "      <td>0.0</td>\n",
       "      <td>0.0</td>\n",
       "      <td>0.0</td>\n",
       "      <td>0.0</td>\n",
       "      <td>144.5</td>\n",
       "      <td>311.7</td>\n",
       "      <td>184.6</td>\n",
       "      <td>165.8</td>\n",
       "      <td>172.5</td>\n",
       "      <td>136.2</td>\n",
       "    </tr>\n",
       "    <tr>\n",
       "      <th>5</th>\n",
       "      <td>01-68-P-N</td>\n",
       "      <td>202211080928</td>\n",
       "      <td>9.246668e+05</td>\n",
       "      <td>9.034393e+05</td>\n",
       "      <td>17805.592883</td>\n",
       "      <td>192301.355968</td>\n",
       "      <td>191040.035488</td>\n",
       "      <td>186254.064186</td>\n",
       "      <td>186594.744360</td>\n",
       "      <td>372848.808545</td>\n",
       "      <td>...</td>\n",
       "      <td>0.0</td>\n",
       "      <td>0.0</td>\n",
       "      <td>0.0</td>\n",
       "      <td>0.0</td>\n",
       "      <td>144.0</td>\n",
       "      <td>314.2</td>\n",
       "      <td>100.5</td>\n",
       "      <td>183.1</td>\n",
       "      <td>171.0</td>\n",
       "      <td>373.5</td>\n",
       "    </tr>\n",
       "    <tr>\n",
       "      <th>6</th>\n",
       "      <td>01-75-R-S</td>\n",
       "      <td>202303011104</td>\n",
       "      <td>0.000000e+00</td>\n",
       "      <td>0.000000e+00</td>\n",
       "      <td>0.000000</td>\n",
       "      <td>0.000000</td>\n",
       "      <td>0.000000</td>\n",
       "      <td>0.000000</td>\n",
       "      <td>0.000000</td>\n",
       "      <td>0.000000</td>\n",
       "      <td>...</td>\n",
       "      <td>0</td>\n",
       "      <td>0</td>\n",
       "      <td>0</td>\n",
       "      <td>0</td>\n",
       "      <td>0</td>\n",
       "      <td>0</td>\n",
       "      <td>0</td>\n",
       "      <td>0</td>\n",
       "      <td>0</td>\n",
       "      <td>0</td>\n",
       "    </tr>\n",
       "    <tr>\n",
       "      <th>7</th>\n",
       "      <td>01-63-B-K</td>\n",
       "      <td>202205020920</td>\n",
       "      <td>0.000000e+00</td>\n",
       "      <td>0.000000e+00</td>\n",
       "      <td>0.000000</td>\n",
       "      <td>0.000000</td>\n",
       "      <td>0.000000</td>\n",
       "      <td>0.000000</td>\n",
       "      <td>0.000000</td>\n",
       "      <td>0.000000</td>\n",
       "      <td>...</td>\n",
       "      <td>0</td>\n",
       "      <td>0</td>\n",
       "      <td>0</td>\n",
       "      <td>0</td>\n",
       "      <td>0</td>\n",
       "      <td>0</td>\n",
       "      <td>0</td>\n",
       "      <td>0</td>\n",
       "      <td>0</td>\n",
       "      <td>0</td>\n",
       "    </tr>\n",
       "    <tr>\n",
       "      <th>8</th>\n",
       "      <td>01_77_B_B</td>\n",
       "      <td>202308220902</td>\n",
       "      <td>0.000000e+00</td>\n",
       "      <td>0.000000e+00</td>\n",
       "      <td>0.000000</td>\n",
       "      <td>0.000000</td>\n",
       "      <td>0.000000</td>\n",
       "      <td>0.000000</td>\n",
       "      <td>0.000000</td>\n",
       "      <td>0.000000</td>\n",
       "      <td>...</td>\n",
       "      <td>0</td>\n",
       "      <td>0</td>\n",
       "      <td>0</td>\n",
       "      <td>0</td>\n",
       "      <td>0</td>\n",
       "      <td>0</td>\n",
       "      <td>0</td>\n",
       "      <td>0</td>\n",
       "      <td>0</td>\n",
       "      <td>0</td>\n",
       "    </tr>\n",
       "    <tr>\n",
       "      <th>9</th>\n",
       "      <td>01_86_P-L</td>\n",
       "      <td>202306291315</td>\n",
       "      <td>0.000000e+00</td>\n",
       "      <td>0.000000e+00</td>\n",
       "      <td>0.000000</td>\n",
       "      <td>0.000000</td>\n",
       "      <td>0.000000</td>\n",
       "      <td>0.000000</td>\n",
       "      <td>0.000000</td>\n",
       "      <td>0.000000</td>\n",
       "      <td>...</td>\n",
       "      <td>0</td>\n",
       "      <td>0</td>\n",
       "      <td>0</td>\n",
       "      <td>0</td>\n",
       "      <td>0</td>\n",
       "      <td>0</td>\n",
       "      <td>0</td>\n",
       "      <td>0</td>\n",
       "      <td>0</td>\n",
       "      <td>0</td>\n",
       "    </tr>\n",
       "    <tr>\n",
       "      <th>10</th>\n",
       "      <td>01-83-P-G</td>\n",
       "      <td>202304210904</td>\n",
       "      <td>0.000000e+00</td>\n",
       "      <td>0.000000e+00</td>\n",
       "      <td>0.000000</td>\n",
       "      <td>0.000000</td>\n",
       "      <td>0.000000</td>\n",
       "      <td>0.000000</td>\n",
       "      <td>0.000000</td>\n",
       "      <td>0.000000</td>\n",
       "      <td>...</td>\n",
       "      <td>0</td>\n",
       "      <td>0</td>\n",
       "      <td>0</td>\n",
       "      <td>0</td>\n",
       "      <td>0</td>\n",
       "      <td>0</td>\n",
       "      <td>0</td>\n",
       "      <td>0</td>\n",
       "      <td>0</td>\n",
       "      <td>0</td>\n",
       "    </tr>\n",
       "    <tr>\n",
       "      <th>11</th>\n",
       "      <td>01_71_D-C</td>\n",
       "      <td>202303030852</td>\n",
       "      <td>0.000000e+00</td>\n",
       "      <td>0.000000e+00</td>\n",
       "      <td>0.000000</td>\n",
       "      <td>0.000000</td>\n",
       "      <td>0.000000</td>\n",
       "      <td>0.000000</td>\n",
       "      <td>0.000000</td>\n",
       "      <td>0.000000</td>\n",
       "      <td>...</td>\n",
       "      <td>0</td>\n",
       "      <td>0</td>\n",
       "      <td>0</td>\n",
       "      <td>0</td>\n",
       "      <td>0</td>\n",
       "      <td>0</td>\n",
       "      <td>0</td>\n",
       "      <td>0</td>\n",
       "      <td>0</td>\n",
       "      <td>0</td>\n",
       "    </tr>\n",
       "    <tr>\n",
       "      <th>12</th>\n",
       "      <td>01_57_FC</td>\n",
       "      <td>202112150855</td>\n",
       "      <td>0.000000e+00</td>\n",
       "      <td>0.000000e+00</td>\n",
       "      <td>0.000000</td>\n",
       "      <td>0.000000</td>\n",
       "      <td>0.000000</td>\n",
       "      <td>0.000000</td>\n",
       "      <td>0.000000</td>\n",
       "      <td>0.000000</td>\n",
       "      <td>...</td>\n",
       "      <td>0</td>\n",
       "      <td>0</td>\n",
       "      <td>0</td>\n",
       "      <td>0</td>\n",
       "      <td>0</td>\n",
       "      <td>0</td>\n",
       "      <td>0</td>\n",
       "      <td>0</td>\n",
       "      <td>0</td>\n",
       "      <td>0</td>\n",
       "    </tr>\n",
       "    <tr>\n",
       "      <th>13</th>\n",
       "      <td>01_80_V_T</td>\n",
       "      <td>202304280912</td>\n",
       "      <td>0.000000e+00</td>\n",
       "      <td>0.000000e+00</td>\n",
       "      <td>0.000000</td>\n",
       "      <td>0.000000</td>\n",
       "      <td>0.000000</td>\n",
       "      <td>0.000000</td>\n",
       "      <td>0.000000</td>\n",
       "      <td>0.000000</td>\n",
       "      <td>...</td>\n",
       "      <td>0</td>\n",
       "      <td>0</td>\n",
       "      <td>0</td>\n",
       "      <td>0</td>\n",
       "      <td>0</td>\n",
       "      <td>0</td>\n",
       "      <td>0</td>\n",
       "      <td>0</td>\n",
       "      <td>0</td>\n",
       "      <td>0</td>\n",
       "    </tr>\n",
       "    <tr>\n",
       "      <th>14</th>\n",
       "      <td>01-64-B-A</td>\n",
       "      <td>202210280903</td>\n",
       "      <td>0.000000e+00</td>\n",
       "      <td>0.000000e+00</td>\n",
       "      <td>0.000000</td>\n",
       "      <td>0.000000</td>\n",
       "      <td>0.000000</td>\n",
       "      <td>0.000000</td>\n",
       "      <td>0.000000</td>\n",
       "      <td>0.000000</td>\n",
       "      <td>...</td>\n",
       "      <td>0</td>\n",
       "      <td>0</td>\n",
       "      <td>0</td>\n",
       "      <td>0</td>\n",
       "      <td>0</td>\n",
       "      <td>0</td>\n",
       "      <td>0</td>\n",
       "      <td>0</td>\n",
       "      <td>0</td>\n",
       "      <td>0</td>\n",
       "    </tr>\n",
       "    <tr>\n",
       "      <th>15</th>\n",
       "      <td>01-54-D-R</td>\n",
       "      <td>202110131329</td>\n",
       "      <td>0.000000e+00</td>\n",
       "      <td>0.000000e+00</td>\n",
       "      <td>0.000000</td>\n",
       "      <td>0.000000</td>\n",
       "      <td>0.000000</td>\n",
       "      <td>0.000000</td>\n",
       "      <td>0.000000</td>\n",
       "      <td>0.000000</td>\n",
       "      <td>...</td>\n",
       "      <td>0</td>\n",
       "      <td>0</td>\n",
       "      <td>0</td>\n",
       "      <td>0</td>\n",
       "      <td>0</td>\n",
       "      <td>0</td>\n",
       "      <td>0</td>\n",
       "      <td>0</td>\n",
       "      <td>0</td>\n",
       "      <td>0</td>\n",
       "    </tr>\n",
       "    <tr>\n",
       "      <th>16</th>\n",
       "      <td>01-61-B-L</td>\n",
       "      <td>202208110904</td>\n",
       "      <td>0.000000e+00</td>\n",
       "      <td>0.000000e+00</td>\n",
       "      <td>0.000000</td>\n",
       "      <td>0.000000</td>\n",
       "      <td>0.000000</td>\n",
       "      <td>0.000000</td>\n",
       "      <td>0.000000</td>\n",
       "      <td>0.000000</td>\n",
       "      <td>...</td>\n",
       "      <td>0</td>\n",
       "      <td>0</td>\n",
       "      <td>0</td>\n",
       "      <td>0</td>\n",
       "      <td>0</td>\n",
       "      <td>0</td>\n",
       "      <td>0</td>\n",
       "      <td>0</td>\n",
       "      <td>0</td>\n",
       "      <td>0</td>\n",
       "    </tr>\n",
       "    <tr>\n",
       "      <th>17</th>\n",
       "      <td>01-49-R-D</td>\n",
       "      <td>202111050958</td>\n",
       "      <td>0.000000e+00</td>\n",
       "      <td>0.000000e+00</td>\n",
       "      <td>0.000000</td>\n",
       "      <td>0.000000</td>\n",
       "      <td>0.000000</td>\n",
       "      <td>0.000000</td>\n",
       "      <td>0.000000</td>\n",
       "      <td>0.000000</td>\n",
       "      <td>...</td>\n",
       "      <td>0</td>\n",
       "      <td>0</td>\n",
       "      <td>0</td>\n",
       "      <td>0</td>\n",
       "      <td>0</td>\n",
       "      <td>0</td>\n",
       "      <td>0</td>\n",
       "      <td>0</td>\n",
       "      <td>0</td>\n",
       "      <td>0</td>\n",
       "    </tr>\n",
       "    <tr>\n",
       "      <th>18</th>\n",
       "      <td>01-70-L-E</td>\n",
       "      <td>202303031323</td>\n",
       "      <td>0.000000e+00</td>\n",
       "      <td>0.000000e+00</td>\n",
       "      <td>0.000000</td>\n",
       "      <td>0.000000</td>\n",
       "      <td>0.000000</td>\n",
       "      <td>0.000000</td>\n",
       "      <td>0.000000</td>\n",
       "      <td>0.000000</td>\n",
       "      <td>...</td>\n",
       "      <td>0</td>\n",
       "      <td>0</td>\n",
       "      <td>0</td>\n",
       "      <td>0</td>\n",
       "      <td>0</td>\n",
       "      <td>0</td>\n",
       "      <td>0</td>\n",
       "      <td>0</td>\n",
       "      <td>0</td>\n",
       "      <td>0</td>\n",
       "    </tr>\n",
       "    <tr>\n",
       "      <th>19</th>\n",
       "      <td>01-79-G-S</td>\n",
       "      <td>202304071208</td>\n",
       "      <td>0.000000e+00</td>\n",
       "      <td>0.000000e+00</td>\n",
       "      <td>0.000000</td>\n",
       "      <td>0.000000</td>\n",
       "      <td>0.000000</td>\n",
       "      <td>0.000000</td>\n",
       "      <td>0.000000</td>\n",
       "      <td>0.000000</td>\n",
       "      <td>...</td>\n",
       "      <td>0</td>\n",
       "      <td>0</td>\n",
       "      <td>0</td>\n",
       "      <td>0</td>\n",
       "      <td>0</td>\n",
       "      <td>0</td>\n",
       "      <td>0</td>\n",
       "      <td>0</td>\n",
       "      <td>0</td>\n",
       "      <td>0</td>\n",
       "    </tr>\n",
       "    <tr>\n",
       "      <th>20</th>\n",
       "      <td>01_72_M-V</td>\n",
       "      <td>202301301518</td>\n",
       "      <td>0.000000e+00</td>\n",
       "      <td>0.000000e+00</td>\n",
       "      <td>0.000000</td>\n",
       "      <td>0.000000</td>\n",
       "      <td>0.000000</td>\n",
       "      <td>0.000000</td>\n",
       "      <td>0.000000</td>\n",
       "      <td>0.000000</td>\n",
       "      <td>...</td>\n",
       "      <td>0</td>\n",
       "      <td>0</td>\n",
       "      <td>0</td>\n",
       "      <td>0</td>\n",
       "      <td>0</td>\n",
       "      <td>0</td>\n",
       "      <td>0</td>\n",
       "      <td>0</td>\n",
       "      <td>0</td>\n",
       "      <td>0</td>\n",
       "    </tr>\n",
       "    <tr>\n",
       "      <th>21</th>\n",
       "      <td>01_62_T-E</td>\n",
       "      <td>202204261345</td>\n",
       "      <td>0.000000e+00</td>\n",
       "      <td>0.000000e+00</td>\n",
       "      <td>0.000000</td>\n",
       "      <td>0.000000</td>\n",
       "      <td>0.000000</td>\n",
       "      <td>0.000000</td>\n",
       "      <td>0.000000</td>\n",
       "      <td>0.000000</td>\n",
       "      <td>...</td>\n",
       "      <td>0</td>\n",
       "      <td>0</td>\n",
       "      <td>0</td>\n",
       "      <td>0</td>\n",
       "      <td>0</td>\n",
       "      <td>0</td>\n",
       "      <td>0</td>\n",
       "      <td>0</td>\n",
       "      <td>0</td>\n",
       "      <td>0</td>\n",
       "    </tr>\n",
       "    <tr>\n",
       "      <th>22</th>\n",
       "      <td>01_69_CO</td>\n",
       "      <td>202301060848</td>\n",
       "      <td>0.000000e+00</td>\n",
       "      <td>0.000000e+00</td>\n",
       "      <td>0.000000</td>\n",
       "      <td>0.000000</td>\n",
       "      <td>0.000000</td>\n",
       "      <td>0.000000</td>\n",
       "      <td>0.000000</td>\n",
       "      <td>0.000000</td>\n",
       "      <td>...</td>\n",
       "      <td>0</td>\n",
       "      <td>0</td>\n",
       "      <td>0</td>\n",
       "      <td>0</td>\n",
       "      <td>0</td>\n",
       "      <td>0</td>\n",
       "      <td>0</td>\n",
       "      <td>0</td>\n",
       "      <td>0</td>\n",
       "      <td>0</td>\n",
       "    </tr>\n",
       "    <tr>\n",
       "      <th>23</th>\n",
       "      <td>01_47_Q-M</td>\n",
       "      <td>202108120952</td>\n",
       "      <td>0.000000e+00</td>\n",
       "      <td>0.000000e+00</td>\n",
       "      <td>0.000000</td>\n",
       "      <td>0.000000</td>\n",
       "      <td>0.000000</td>\n",
       "      <td>0.000000</td>\n",
       "      <td>0.000000</td>\n",
       "      <td>0.000000</td>\n",
       "      <td>...</td>\n",
       "      <td>0</td>\n",
       "      <td>0</td>\n",
       "      <td>0</td>\n",
       "      <td>0</td>\n",
       "      <td>0</td>\n",
       "      <td>0</td>\n",
       "      <td>0</td>\n",
       "      <td>0</td>\n",
       "      <td>0</td>\n",
       "      <td>0</td>\n",
       "    </tr>\n",
       "    <tr>\n",
       "      <th>24</th>\n",
       "      <td>01-56-C-D</td>\n",
       "      <td>202110150908</td>\n",
       "      <td>0.000000e+00</td>\n",
       "      <td>0.000000e+00</td>\n",
       "      <td>0.000000</td>\n",
       "      <td>0.000000</td>\n",
       "      <td>0.000000</td>\n",
       "      <td>0.000000</td>\n",
       "      <td>0.000000</td>\n",
       "      <td>0.000000</td>\n",
       "      <td>...</td>\n",
       "      <td>0</td>\n",
       "      <td>0</td>\n",
       "      <td>0</td>\n",
       "      <td>0</td>\n",
       "      <td>0</td>\n",
       "      <td>0</td>\n",
       "      <td>0</td>\n",
       "      <td>0</td>\n",
       "      <td>0</td>\n",
       "      <td>0</td>\n",
       "    </tr>\n",
       "    <tr>\n",
       "      <th>25</th>\n",
       "      <td>01_84_GM</td>\n",
       "      <td>202306160853</td>\n",
       "      <td>0.000000e+00</td>\n",
       "      <td>0.000000e+00</td>\n",
       "      <td>0.000000</td>\n",
       "      <td>0.000000</td>\n",
       "      <td>0.000000</td>\n",
       "      <td>0.000000</td>\n",
       "      <td>0.000000</td>\n",
       "      <td>0.000000</td>\n",
       "      <td>...</td>\n",
       "      <td>0</td>\n",
       "      <td>0</td>\n",
       "      <td>0</td>\n",
       "      <td>0</td>\n",
       "      <td>0</td>\n",
       "      <td>0</td>\n",
       "      <td>0</td>\n",
       "      <td>0</td>\n",
       "      <td>0</td>\n",
       "      <td>0</td>\n",
       "    </tr>\n",
       "    <tr>\n",
       "      <th>26</th>\n",
       "      <td>01-46_L-J</td>\n",
       "      <td>202108261322</td>\n",
       "      <td>0.000000e+00</td>\n",
       "      <td>0.000000e+00</td>\n",
       "      <td>0.000000</td>\n",
       "      <td>0.000000</td>\n",
       "      <td>0.000000</td>\n",
       "      <td>0.000000</td>\n",
       "      <td>0.000000</td>\n",
       "      <td>0.000000</td>\n",
       "      <td>...</td>\n",
       "      <td>0</td>\n",
       "      <td>0</td>\n",
       "      <td>0</td>\n",
       "      <td>0</td>\n",
       "      <td>0</td>\n",
       "      <td>0</td>\n",
       "      <td>0</td>\n",
       "      <td>0</td>\n",
       "      <td>0</td>\n",
       "      <td>0</td>\n",
       "    </tr>\n",
       "    <tr>\n",
       "      <th>27</th>\n",
       "      <td>01-78-M-C</td>\n",
       "      <td>202304070918</td>\n",
       "      <td>0.000000e+00</td>\n",
       "      <td>0.000000e+00</td>\n",
       "      <td>0.000000</td>\n",
       "      <td>0.000000</td>\n",
       "      <td>0.000000</td>\n",
       "      <td>0.000000</td>\n",
       "      <td>0.000000</td>\n",
       "      <td>0.000000</td>\n",
       "      <td>...</td>\n",
       "      <td>0</td>\n",
       "      <td>0</td>\n",
       "      <td>0</td>\n",
       "      <td>0</td>\n",
       "      <td>0</td>\n",
       "      <td>0</td>\n",
       "      <td>0</td>\n",
       "      <td>0</td>\n",
       "      <td>0</td>\n",
       "      <td>0</td>\n",
       "    </tr>\n",
       "    <tr>\n",
       "      <th>28</th>\n",
       "      <td>01_52_B-L</td>\n",
       "      <td>202109100911</td>\n",
       "      <td>0.000000e+00</td>\n",
       "      <td>0.000000e+00</td>\n",
       "      <td>0.000000</td>\n",
       "      <td>0.000000</td>\n",
       "      <td>0.000000</td>\n",
       "      <td>0.000000</td>\n",
       "      <td>0.000000</td>\n",
       "      <td>0.000000</td>\n",
       "      <td>...</td>\n",
       "      <td>0</td>\n",
       "      <td>0</td>\n",
       "      <td>0</td>\n",
       "      <td>0</td>\n",
       "      <td>0</td>\n",
       "      <td>0</td>\n",
       "      <td>0</td>\n",
       "      <td>0</td>\n",
       "      <td>0</td>\n",
       "      <td>0</td>\n",
       "    </tr>\n",
       "    <tr>\n",
       "      <th>29</th>\n",
       "      <td>01_41_CL</td>\n",
       "      <td>202106180909</td>\n",
       "      <td>0.000000e+00</td>\n",
       "      <td>0.000000e+00</td>\n",
       "      <td>0.000000</td>\n",
       "      <td>0.000000</td>\n",
       "      <td>0.000000</td>\n",
       "      <td>0.000000</td>\n",
       "      <td>0.000000</td>\n",
       "      <td>0.000000</td>\n",
       "      <td>...</td>\n",
       "      <td>0</td>\n",
       "      <td>0</td>\n",
       "      <td>0</td>\n",
       "      <td>0</td>\n",
       "      <td>0</td>\n",
       "      <td>0</td>\n",
       "      <td>0</td>\n",
       "      <td>0</td>\n",
       "      <td>0</td>\n",
       "      <td>0</td>\n",
       "    </tr>\n",
       "    <tr>\n",
       "      <th>30</th>\n",
       "      <td>01_50_D-A</td>\n",
       "      <td>202109171116</td>\n",
       "      <td>0.000000e+00</td>\n",
       "      <td>0.000000e+00</td>\n",
       "      <td>0.000000</td>\n",
       "      <td>0.000000</td>\n",
       "      <td>0.000000</td>\n",
       "      <td>0.000000</td>\n",
       "      <td>0.000000</td>\n",
       "      <td>0.000000</td>\n",
       "      <td>...</td>\n",
       "      <td>0</td>\n",
       "      <td>0</td>\n",
       "      <td>0</td>\n",
       "      <td>0</td>\n",
       "      <td>0</td>\n",
       "      <td>0</td>\n",
       "      <td>0</td>\n",
       "      <td>0</td>\n",
       "      <td>0</td>\n",
       "      <td>0</td>\n",
       "    </tr>\n",
       "    <tr>\n",
       "      <th>31</th>\n",
       "      <td>01-66-L-Q</td>\n",
       "      <td>202109090853</td>\n",
       "      <td>1.072931e+06</td>\n",
       "      <td>1.042571e+06</td>\n",
       "      <td>25576.548073</td>\n",
       "      <td>204876.401487</td>\n",
       "      <td>209801.863320</td>\n",
       "      <td>225695.507993</td>\n",
       "      <td>224281.291607</td>\n",
       "      <td>449976.799601</td>\n",
       "      <td>...</td>\n",
       "      <td>0.0</td>\n",
       "      <td>5.9</td>\n",
       "      <td>0.0</td>\n",
       "      <td>0.0</td>\n",
       "      <td>200.9</td>\n",
       "      <td>639.6</td>\n",
       "      <td>296.1</td>\n",
       "      <td>309.1</td>\n",
       "      <td>308.0</td>\n",
       "      <td>609.3</td>\n",
       "    </tr>\n",
       "    <tr>\n",
       "      <th>32</th>\n",
       "      <td>01_58_T_A</td>\n",
       "      <td>202201070933</td>\n",
       "      <td>0.000000e+00</td>\n",
       "      <td>0.000000e+00</td>\n",
       "      <td>0.000000</td>\n",
       "      <td>0.000000</td>\n",
       "      <td>0.000000</td>\n",
       "      <td>0.000000</td>\n",
       "      <td>0.000000</td>\n",
       "      <td>0.000000</td>\n",
       "      <td>...</td>\n",
       "      <td>0</td>\n",
       "      <td>0</td>\n",
       "      <td>0</td>\n",
       "      <td>0</td>\n",
       "      <td>0</td>\n",
       "      <td>0</td>\n",
       "      <td>0</td>\n",
       "      <td>0</td>\n",
       "      <td>0</td>\n",
       "      <td>0</td>\n",
       "    </tr>\n",
       "    <tr>\n",
       "      <th>33</th>\n",
       "      <td>01_73_A_M</td>\n",
       "      <td>202302100929</td>\n",
       "      <td>0.000000e+00</td>\n",
       "      <td>0.000000e+00</td>\n",
       "      <td>0.000000</td>\n",
       "      <td>0.000000</td>\n",
       "      <td>0.000000</td>\n",
       "      <td>0.000000</td>\n",
       "      <td>0.000000</td>\n",
       "      <td>0.000000</td>\n",
       "      <td>...</td>\n",
       "      <td>0</td>\n",
       "      <td>0</td>\n",
       "      <td>0</td>\n",
       "      <td>0</td>\n",
       "      <td>0</td>\n",
       "      <td>0</td>\n",
       "      <td>0</td>\n",
       "      <td>0</td>\n",
       "      <td>0</td>\n",
       "      <td>0</td>\n",
       "    </tr>\n",
       "  </tbody>\n",
       "</table>\n",
       "<p>34 rows × 61 columns</p>\n",
       "</div>"
      ],
      "text/plain": [
       "     subjects       session   BrainSegVol  BrainSegVolNotVent  \\\n",
       "0   01_55_L_M  202201140838  0.000000e+00        0.000000e+00   \n",
       "1   01_45_B-N  202107020849  0.000000e+00        0.000000e+00   \n",
       "2   01_45_B-N  BRAIN_EPINOV  0.000000e+00        0.000000e+00   \n",
       "3   01_85_G-S  202306090849  0.000000e+00        0.000000e+00   \n",
       "4   01-59-P-V  202204131119  1.022580e+06        9.801073e+05   \n",
       "5   01-68-P-N  202211080928  9.246668e+05        9.034393e+05   \n",
       "6   01-75-R-S  202303011104  0.000000e+00        0.000000e+00   \n",
       "7   01-63-B-K  202205020920  0.000000e+00        0.000000e+00   \n",
       "8   01_77_B_B  202308220902  0.000000e+00        0.000000e+00   \n",
       "9   01_86_P-L  202306291315  0.000000e+00        0.000000e+00   \n",
       "10  01-83-P-G  202304210904  0.000000e+00        0.000000e+00   \n",
       "11  01_71_D-C  202303030852  0.000000e+00        0.000000e+00   \n",
       "12   01_57_FC  202112150855  0.000000e+00        0.000000e+00   \n",
       "13  01_80_V_T  202304280912  0.000000e+00        0.000000e+00   \n",
       "14  01-64-B-A  202210280903  0.000000e+00        0.000000e+00   \n",
       "15  01-54-D-R  202110131329  0.000000e+00        0.000000e+00   \n",
       "16  01-61-B-L  202208110904  0.000000e+00        0.000000e+00   \n",
       "17  01-49-R-D  202111050958  0.000000e+00        0.000000e+00   \n",
       "18  01-70-L-E  202303031323  0.000000e+00        0.000000e+00   \n",
       "19  01-79-G-S  202304071208  0.000000e+00        0.000000e+00   \n",
       "20  01_72_M-V  202301301518  0.000000e+00        0.000000e+00   \n",
       "21  01_62_T-E  202204261345  0.000000e+00        0.000000e+00   \n",
       "22   01_69_CO  202301060848  0.000000e+00        0.000000e+00   \n",
       "23  01_47_Q-M  202108120952  0.000000e+00        0.000000e+00   \n",
       "24  01-56-C-D  202110150908  0.000000e+00        0.000000e+00   \n",
       "25   01_84_GM  202306160853  0.000000e+00        0.000000e+00   \n",
       "26  01-46_L-J  202108261322  0.000000e+00        0.000000e+00   \n",
       "27  01-78-M-C  202304070918  0.000000e+00        0.000000e+00   \n",
       "28  01_52_B-L  202109100911  0.000000e+00        0.000000e+00   \n",
       "29   01_41_CL  202106180909  0.000000e+00        0.000000e+00   \n",
       "30  01_50_D-A  202109171116  0.000000e+00        0.000000e+00   \n",
       "31  01-66-L-Q  202109090853  1.072931e+06        1.042571e+06   \n",
       "32  01_58_T_A  202201070933  0.000000e+00        0.000000e+00   \n",
       "33  01_73_A_M  202302100929  0.000000e+00        0.000000e+00   \n",
       "\n",
       "    VentricleChoroidVol    lhCortexVol    rhCortexVol  \\\n",
       "0              0.000000       0.000000       0.000000   \n",
       "1              0.000000       0.000000       0.000000   \n",
       "2              0.000000       0.000000       0.000000   \n",
       "3              0.000000       0.000000       0.000000   \n",
       "4          36647.696150  204580.125985  213219.579237   \n",
       "5          17805.592883  192301.355968  191040.035488   \n",
       "6              0.000000       0.000000       0.000000   \n",
       "7              0.000000       0.000000       0.000000   \n",
       "8              0.000000       0.000000       0.000000   \n",
       "9              0.000000       0.000000       0.000000   \n",
       "10             0.000000       0.000000       0.000000   \n",
       "11             0.000000       0.000000       0.000000   \n",
       "12             0.000000       0.000000       0.000000   \n",
       "13             0.000000       0.000000       0.000000   \n",
       "14             0.000000       0.000000       0.000000   \n",
       "15             0.000000       0.000000       0.000000   \n",
       "16             0.000000       0.000000       0.000000   \n",
       "17             0.000000       0.000000       0.000000   \n",
       "18             0.000000       0.000000       0.000000   \n",
       "19             0.000000       0.000000       0.000000   \n",
       "20             0.000000       0.000000       0.000000   \n",
       "21             0.000000       0.000000       0.000000   \n",
       "22             0.000000       0.000000       0.000000   \n",
       "23             0.000000       0.000000       0.000000   \n",
       "24             0.000000       0.000000       0.000000   \n",
       "25             0.000000       0.000000       0.000000   \n",
       "26             0.000000       0.000000       0.000000   \n",
       "27             0.000000       0.000000       0.000000   \n",
       "28             0.000000       0.000000       0.000000   \n",
       "29             0.000000       0.000000       0.000000   \n",
       "30             0.000000       0.000000       0.000000   \n",
       "31         25576.548073  204876.401487  209801.863320   \n",
       "32             0.000000       0.000000       0.000000   \n",
       "33             0.000000       0.000000       0.000000   \n",
       "\n",
       "    lhCerebralWhiteMatterVol  rhCerebralWhiteMatterVol  \\\n",
       "0                   0.000000                  0.000000   \n",
       "1                   0.000000                  0.000000   \n",
       "2                   0.000000                  0.000000   \n",
       "3                   0.000000                  0.000000   \n",
       "4              196262.102864             206063.094817   \n",
       "5              186254.064186             186594.744360   \n",
       "6                   0.000000                  0.000000   \n",
       "7                   0.000000                  0.000000   \n",
       "8                   0.000000                  0.000000   \n",
       "9                   0.000000                  0.000000   \n",
       "10                  0.000000                  0.000000   \n",
       "11                  0.000000                  0.000000   \n",
       "12                  0.000000                  0.000000   \n",
       "13                  0.000000                  0.000000   \n",
       "14                  0.000000                  0.000000   \n",
       "15                  0.000000                  0.000000   \n",
       "16                  0.000000                  0.000000   \n",
       "17                  0.000000                  0.000000   \n",
       "18                  0.000000                  0.000000   \n",
       "19                  0.000000                  0.000000   \n",
       "20                  0.000000                  0.000000   \n",
       "21                  0.000000                  0.000000   \n",
       "22                  0.000000                  0.000000   \n",
       "23                  0.000000                  0.000000   \n",
       "24                  0.000000                  0.000000   \n",
       "25                  0.000000                  0.000000   \n",
       "26                  0.000000                  0.000000   \n",
       "27                  0.000000                  0.000000   \n",
       "28                  0.000000                  0.000000   \n",
       "29                  0.000000                  0.000000   \n",
       "30                  0.000000                  0.000000   \n",
       "31             225695.507993             224281.291607   \n",
       "32                  0.000000                  0.000000   \n",
       "33                  0.000000                  0.000000   \n",
       "\n",
       "    CerebralWhiteMatterVol  ...  Right-WM-hypointensities  \\\n",
       "0                 0.000000  ...                         0   \n",
       "1                 0.000000  ...                         0   \n",
       "2                 0.000000  ...                         0   \n",
       "3                 0.000000  ...                         0   \n",
       "4            402325.197681  ...                       0.0   \n",
       "5            372848.808545  ...                       0.0   \n",
       "6                 0.000000  ...                         0   \n",
       "7                 0.000000  ...                         0   \n",
       "8                 0.000000  ...                         0   \n",
       "9                 0.000000  ...                         0   \n",
       "10                0.000000  ...                         0   \n",
       "11                0.000000  ...                         0   \n",
       "12                0.000000  ...                         0   \n",
       "13                0.000000  ...                         0   \n",
       "14                0.000000  ...                         0   \n",
       "15                0.000000  ...                         0   \n",
       "16                0.000000  ...                         0   \n",
       "17                0.000000  ...                         0   \n",
       "18                0.000000  ...                         0   \n",
       "19                0.000000  ...                         0   \n",
       "20                0.000000  ...                         0   \n",
       "21                0.000000  ...                         0   \n",
       "22                0.000000  ...                         0   \n",
       "23                0.000000  ...                         0   \n",
       "24                0.000000  ...                         0   \n",
       "25                0.000000  ...                         0   \n",
       "26                0.000000  ...                         0   \n",
       "27                0.000000  ...                         0   \n",
       "28                0.000000  ...                         0   \n",
       "29                0.000000  ...                         0   \n",
       "30                0.000000  ...                         0   \n",
       "31           449976.799601  ...                       0.0   \n",
       "32                0.000000  ...                         0   \n",
       "33                0.000000  ...                         0   \n",
       "\n",
       "    non-WM-hypointensities  Left-non-WM-hypointensities  \\\n",
       "0                        0                            0   \n",
       "1                        0                            0   \n",
       "2                        0                            0   \n",
       "3                        0                            0   \n",
       "4                      0.0                          0.0   \n",
       "5                      0.0                          0.0   \n",
       "6                        0                            0   \n",
       "7                        0                            0   \n",
       "8                        0                            0   \n",
       "9                        0                            0   \n",
       "10                       0                            0   \n",
       "11                       0                            0   \n",
       "12                       0                            0   \n",
       "13                       0                            0   \n",
       "14                       0                            0   \n",
       "15                       0                            0   \n",
       "16                       0                            0   \n",
       "17                       0                            0   \n",
       "18                       0                            0   \n",
       "19                       0                            0   \n",
       "20                       0                            0   \n",
       "21                       0                            0   \n",
       "22                       0                            0   \n",
       "23                       0                            0   \n",
       "24                       0                            0   \n",
       "25                       0                            0   \n",
       "26                       0                            0   \n",
       "27                       0                            0   \n",
       "28                       0                            0   \n",
       "29                       0                            0   \n",
       "30                       0                            0   \n",
       "31                     5.9                          0.0   \n",
       "32                       0                            0   \n",
       "33                       0                            0   \n",
       "\n",
       "    Right-non-WM-hypointensities  Optic-Chiasm  CC_Posterior CC_Mid_Posterior  \\\n",
       "0                              0             0             0                0   \n",
       "1                              0             0             0                0   \n",
       "2                              0             0             0                0   \n",
       "3                              0             0             0                0   \n",
       "4                            0.0         144.5         311.7            184.6   \n",
       "5                            0.0         144.0         314.2            100.5   \n",
       "6                              0             0             0                0   \n",
       "7                              0             0             0                0   \n",
       "8                              0             0             0                0   \n",
       "9                              0             0             0                0   \n",
       "10                             0             0             0                0   \n",
       "11                             0             0             0                0   \n",
       "12                             0             0             0                0   \n",
       "13                             0             0             0                0   \n",
       "14                             0             0             0                0   \n",
       "15                             0             0             0                0   \n",
       "16                             0             0             0                0   \n",
       "17                             0             0             0                0   \n",
       "18                             0             0             0                0   \n",
       "19                             0             0             0                0   \n",
       "20                             0             0             0                0   \n",
       "21                             0             0             0                0   \n",
       "22                             0             0             0                0   \n",
       "23                             0             0             0                0   \n",
       "24                             0             0             0                0   \n",
       "25                             0             0             0                0   \n",
       "26                             0             0             0                0   \n",
       "27                             0             0             0                0   \n",
       "28                             0             0             0                0   \n",
       "29                             0             0             0                0   \n",
       "30                             0             0             0                0   \n",
       "31                           0.0         200.9         639.6            296.1   \n",
       "32                             0             0             0                0   \n",
       "33                             0             0             0                0   \n",
       "\n",
       "   CC_Central CC_Mid_Anterior CC_Anterior  \n",
       "0           0               0           0  \n",
       "1           0               0           0  \n",
       "2           0               0           0  \n",
       "3           0               0           0  \n",
       "4       165.8           172.5       136.2  \n",
       "5       183.1           171.0       373.5  \n",
       "6           0               0           0  \n",
       "7           0               0           0  \n",
       "8           0               0           0  \n",
       "9           0               0           0  \n",
       "10          0               0           0  \n",
       "11          0               0           0  \n",
       "12          0               0           0  \n",
       "13          0               0           0  \n",
       "14          0               0           0  \n",
       "15          0               0           0  \n",
       "16          0               0           0  \n",
       "17          0               0           0  \n",
       "18          0               0           0  \n",
       "19          0               0           0  \n",
       "20          0               0           0  \n",
       "21          0               0           0  \n",
       "22          0               0           0  \n",
       "23          0               0           0  \n",
       "24          0               0           0  \n",
       "25          0               0           0  \n",
       "26          0               0           0  \n",
       "27          0               0           0  \n",
       "28          0               0           0  \n",
       "29          0               0           0  \n",
       "30          0               0           0  \n",
       "31      309.1           308.0       609.3  \n",
       "32          0               0           0  \n",
       "33          0               0           0  \n",
       "\n",
       "[34 rows x 61 columns]"
      ]
     },
     "execution_count": 483,
     "metadata": {},
     "output_type": "execute_result"
    }
   ],
   "source": [
    "my_dataframe2"
   ]
  },
  {
   "cell_type": "code",
   "execution_count": 495,
   "metadata": {
    "vscode": {
     "languageId": "shellscript"
    }
   },
   "outputs": [],
   "source": [
    "my_dataframe4 = my_dataframe2.copy()\n",
    "my_dataframe4['subjects'] = my_dataframe4['subjects'].str.cat(my_dataframe4['session'], sep='*')\n",
    "my_dataframe4.set_index('subjects', inplace=True)\n",
    "my_dataframe4 = my_dataframe4.iloc[:, 2:]\n",
    "my_dataframe4 = my_dataframe4[(my_dataframe4 != 0).any(axis=1)]\n",
    "my_dataframe4 = my_dataframe4.astype(float)"
   ]
  },
  {
   "cell_type": "code",
   "execution_count": 496,
   "metadata": {
    "vscode": {
     "languageId": "shellscript"
    }
   },
   "outputs": [
    {
     "data": {
      "text/html": [
       "<div>\n",
       "<style scoped>\n",
       "    .dataframe tbody tr th:only-of-type {\n",
       "        vertical-align: middle;\n",
       "    }\n",
       "\n",
       "    .dataframe tbody tr th {\n",
       "        vertical-align: top;\n",
       "    }\n",
       "\n",
       "    .dataframe thead th {\n",
       "        text-align: right;\n",
       "    }\n",
       "</style>\n",
       "<table border=\"1\" class=\"dataframe\">\n",
       "  <thead>\n",
       "    <tr style=\"text-align: right;\">\n",
       "      <th></th>\n",
       "      <th>BrainSegVolNotVent</th>\n",
       "      <th>VentricleChoroidVol</th>\n",
       "      <th>lhCortexVol</th>\n",
       "      <th>rhCortexVol</th>\n",
       "      <th>lhCerebralWhiteMatterVol</th>\n",
       "      <th>rhCerebralWhiteMatterVol</th>\n",
       "      <th>CerebralWhiteMatterVol</th>\n",
       "      <th>SubCortGrayVol</th>\n",
       "      <th>TotalGrayVol</th>\n",
       "      <th>SupraTentorialVol</th>\n",
       "      <th>...</th>\n",
       "      <th>Right-WM-hypointensities</th>\n",
       "      <th>non-WM-hypointensities</th>\n",
       "      <th>Left-non-WM-hypointensities</th>\n",
       "      <th>Right-non-WM-hypointensities</th>\n",
       "      <th>Optic-Chiasm</th>\n",
       "      <th>CC_Posterior</th>\n",
       "      <th>CC_Mid_Posterior</th>\n",
       "      <th>CC_Central</th>\n",
       "      <th>CC_Mid_Anterior</th>\n",
       "      <th>CC_Anterior</th>\n",
       "    </tr>\n",
       "    <tr>\n",
       "      <th>subjects</th>\n",
       "      <th></th>\n",
       "      <th></th>\n",
       "      <th></th>\n",
       "      <th></th>\n",
       "      <th></th>\n",
       "      <th></th>\n",
       "      <th></th>\n",
       "      <th></th>\n",
       "      <th></th>\n",
       "      <th></th>\n",
       "      <th></th>\n",
       "      <th></th>\n",
       "      <th></th>\n",
       "      <th></th>\n",
       "      <th></th>\n",
       "      <th></th>\n",
       "      <th></th>\n",
       "      <th></th>\n",
       "      <th></th>\n",
       "      <th></th>\n",
       "      <th></th>\n",
       "    </tr>\n",
       "  </thead>\n",
       "  <tbody>\n",
       "    <tr>\n",
       "      <th>01-59-P-V*202204131119</th>\n",
       "      <td>9.801073e+05</td>\n",
       "      <td>36647.696150</td>\n",
       "      <td>204580.125985</td>\n",
       "      <td>213219.579237</td>\n",
       "      <td>196262.102864</td>\n",
       "      <td>206063.094817</td>\n",
       "      <td>402325.197681</td>\n",
       "      <td>44579.309386</td>\n",
       "      <td>557499.642814</td>\n",
       "      <td>907305.992304</td>\n",
       "      <td>...</td>\n",
       "      <td>0.0</td>\n",
       "      <td>0.0</td>\n",
       "      <td>0.0</td>\n",
       "      <td>0.0</td>\n",
       "      <td>144.5</td>\n",
       "      <td>311.7</td>\n",
       "      <td>184.6</td>\n",
       "      <td>165.8</td>\n",
       "      <td>172.5</td>\n",
       "      <td>136.2</td>\n",
       "    </tr>\n",
       "    <tr>\n",
       "      <th>01-68-P-N*202211080928</th>\n",
       "      <td>9.034393e+05</td>\n",
       "      <td>17805.592883</td>\n",
       "      <td>192301.355968</td>\n",
       "      <td>191040.035488</td>\n",
       "      <td>186254.064186</td>\n",
       "      <td>186594.744360</td>\n",
       "      <td>372848.808545</td>\n",
       "      <td>47839.710148</td>\n",
       "      <td>509031.309091</td>\n",
       "      <td>825551.687911</td>\n",
       "      <td>...</td>\n",
       "      <td>0.0</td>\n",
       "      <td>0.0</td>\n",
       "      <td>0.0</td>\n",
       "      <td>0.0</td>\n",
       "      <td>144.0</td>\n",
       "      <td>314.2</td>\n",
       "      <td>100.5</td>\n",
       "      <td>183.1</td>\n",
       "      <td>171.0</td>\n",
       "      <td>373.5</td>\n",
       "    </tr>\n",
       "    <tr>\n",
       "      <th>01-66-L-Q*202109090853</th>\n",
       "      <td>1.042571e+06</td>\n",
       "      <td>25576.548073</td>\n",
       "      <td>204876.401487</td>\n",
       "      <td>209801.863320</td>\n",
       "      <td>225695.507993</td>\n",
       "      <td>224281.291607</td>\n",
       "      <td>449976.799601</td>\n",
       "      <td>52740.738104</td>\n",
       "      <td>566747.807952</td>\n",
       "      <td>947874.383144</td>\n",
       "      <td>...</td>\n",
       "      <td>0.0</td>\n",
       "      <td>5.9</td>\n",
       "      <td>0.0</td>\n",
       "      <td>0.0</td>\n",
       "      <td>200.9</td>\n",
       "      <td>639.6</td>\n",
       "      <td>296.1</td>\n",
       "      <td>309.1</td>\n",
       "      <td>308.0</td>\n",
       "      <td>609.3</td>\n",
       "    </tr>\n",
       "  </tbody>\n",
       "</table>\n",
       "<p>3 rows × 58 columns</p>\n",
       "</div>"
      ],
      "text/plain": [
       "                        BrainSegVolNotVent  VentricleChoroidVol  \\\n",
       "subjects                                                          \n",
       "01-59-P-V*202204131119        9.801073e+05         36647.696150   \n",
       "01-68-P-N*202211080928        9.034393e+05         17805.592883   \n",
       "01-66-L-Q*202109090853        1.042571e+06         25576.548073   \n",
       "\n",
       "                          lhCortexVol    rhCortexVol  \\\n",
       "subjects                                               \n",
       "01-59-P-V*202204131119  204580.125985  213219.579237   \n",
       "01-68-P-N*202211080928  192301.355968  191040.035488   \n",
       "01-66-L-Q*202109090853  204876.401487  209801.863320   \n",
       "\n",
       "                        lhCerebralWhiteMatterVol  rhCerebralWhiteMatterVol  \\\n",
       "subjects                                                                     \n",
       "01-59-P-V*202204131119             196262.102864             206063.094817   \n",
       "01-68-P-N*202211080928             186254.064186             186594.744360   \n",
       "01-66-L-Q*202109090853             225695.507993             224281.291607   \n",
       "\n",
       "                        CerebralWhiteMatterVol  SubCortGrayVol   TotalGrayVol  \\\n",
       "subjects                                                                        \n",
       "01-59-P-V*202204131119           402325.197681    44579.309386  557499.642814   \n",
       "01-68-P-N*202211080928           372848.808545    47839.710148  509031.309091   \n",
       "01-66-L-Q*202109090853           449976.799601    52740.738104  566747.807952   \n",
       "\n",
       "                        SupraTentorialVol  ...  Right-WM-hypointensities  \\\n",
       "subjects                                   ...                             \n",
       "01-59-P-V*202204131119      907305.992304  ...                       0.0   \n",
       "01-68-P-N*202211080928      825551.687911  ...                       0.0   \n",
       "01-66-L-Q*202109090853      947874.383144  ...                       0.0   \n",
       "\n",
       "                        non-WM-hypointensities  Left-non-WM-hypointensities  \\\n",
       "subjects                                                                      \n",
       "01-59-P-V*202204131119                     0.0                          0.0   \n",
       "01-68-P-N*202211080928                     0.0                          0.0   \n",
       "01-66-L-Q*202109090853                     5.9                          0.0   \n",
       "\n",
       "                        Right-non-WM-hypointensities  Optic-Chiasm  \\\n",
       "subjects                                                             \n",
       "01-59-P-V*202204131119                           0.0         144.5   \n",
       "01-68-P-N*202211080928                           0.0         144.0   \n",
       "01-66-L-Q*202109090853                           0.0         200.9   \n",
       "\n",
       "                        CC_Posterior  CC_Mid_Posterior  CC_Central  \\\n",
       "subjects                                                             \n",
       "01-59-P-V*202204131119         311.7             184.6       165.8   \n",
       "01-68-P-N*202211080928         314.2             100.5       183.1   \n",
       "01-66-L-Q*202109090853         639.6             296.1       309.1   \n",
       "\n",
       "                        CC_Mid_Anterior  CC_Anterior  \n",
       "subjects                                              \n",
       "01-59-P-V*202204131119            172.5        136.2  \n",
       "01-68-P-N*202211080928            171.0        373.5  \n",
       "01-66-L-Q*202109090853            308.0        609.3  \n",
       "\n",
       "[3 rows x 58 columns]"
      ]
     },
     "execution_count": 496,
     "metadata": {},
     "output_type": "execute_result"
    }
   ],
   "source": [
    "my_dataframe4"
   ]
  },
  {
   "cell_type": "code",
   "execution_count": 513,
   "metadata": {
    "vscode": {
     "languageId": "shellscript"
    }
   },
   "outputs": [
    {
     "data": {
      "application/vnd.plotly.v1+json": {
       "config": {
        "plotlyServerURL": "https://plot.ly"
       },
       "data": [
        {
         "alignmentgroup": "True",
         "boxpoints": "all",
         "hovertemplate": "<b>%{hovertext}</b><br><br>Region=%{x}<br>Volume=%{y}<extra></extra>",
         "hovertext": [
          "01-59-P-V*202204131119",
          "01-68-P-N*202211080928",
          "01-66-L-Q*202109090853",
          "01-59-P-V*202204131119",
          "01-68-P-N*202211080928",
          "01-66-L-Q*202109090853",
          "01-59-P-V*202204131119",
          "01-68-P-N*202211080928",
          "01-66-L-Q*202109090853",
          "01-59-P-V*202204131119",
          "01-68-P-N*202211080928",
          "01-66-L-Q*202109090853",
          "01-59-P-V*202204131119",
          "01-68-P-N*202211080928",
          "01-66-L-Q*202109090853",
          "01-59-P-V*202204131119",
          "01-68-P-N*202211080928",
          "01-66-L-Q*202109090853",
          "01-59-P-V*202204131119",
          "01-68-P-N*202211080928",
          "01-66-L-Q*202109090853",
          "01-59-P-V*202204131119",
          "01-68-P-N*202211080928",
          "01-66-L-Q*202109090853",
          "01-59-P-V*202204131119",
          "01-68-P-N*202211080928",
          "01-66-L-Q*202109090853",
          "01-59-P-V*202204131119",
          "01-68-P-N*202211080928",
          "01-66-L-Q*202109090853",
          "01-59-P-V*202204131119",
          "01-68-P-N*202211080928",
          "01-66-L-Q*202109090853",
          "01-59-P-V*202204131119",
          "01-68-P-N*202211080928",
          "01-66-L-Q*202109090853",
          "01-59-P-V*202204131119",
          "01-68-P-N*202211080928",
          "01-66-L-Q*202109090853",
          "01-59-P-V*202204131119",
          "01-68-P-N*202211080928",
          "01-66-L-Q*202109090853",
          "01-59-P-V*202204131119",
          "01-68-P-N*202211080928",
          "01-66-L-Q*202109090853",
          "01-59-P-V*202204131119",
          "01-68-P-N*202211080928",
          "01-66-L-Q*202109090853",
          "01-59-P-V*202204131119",
          "01-68-P-N*202211080928",
          "01-66-L-Q*202109090853",
          "01-59-P-V*202204131119",
          "01-68-P-N*202211080928",
          "01-66-L-Q*202109090853",
          "01-59-P-V*202204131119",
          "01-68-P-N*202211080928",
          "01-66-L-Q*202109090853",
          "01-59-P-V*202204131119",
          "01-68-P-N*202211080928",
          "01-66-L-Q*202109090853",
          "01-59-P-V*202204131119",
          "01-68-P-N*202211080928",
          "01-66-L-Q*202109090853",
          "01-59-P-V*202204131119",
          "01-68-P-N*202211080928",
          "01-66-L-Q*202109090853",
          "01-59-P-V*202204131119",
          "01-68-P-N*202211080928",
          "01-66-L-Q*202109090853",
          "01-59-P-V*202204131119",
          "01-68-P-N*202211080928",
          "01-66-L-Q*202109090853",
          "01-59-P-V*202204131119",
          "01-68-P-N*202211080928",
          "01-66-L-Q*202109090853",
          "01-59-P-V*202204131119",
          "01-68-P-N*202211080928",
          "01-66-L-Q*202109090853",
          "01-59-P-V*202204131119",
          "01-68-P-N*202211080928",
          "01-66-L-Q*202109090853",
          "01-59-P-V*202204131119",
          "01-68-P-N*202211080928",
          "01-66-L-Q*202109090853",
          "01-59-P-V*202204131119",
          "01-68-P-N*202211080928",
          "01-66-L-Q*202109090853",
          "01-59-P-V*202204131119",
          "01-68-P-N*202211080928",
          "01-66-L-Q*202109090853",
          "01-59-P-V*202204131119",
          "01-68-P-N*202211080928",
          "01-66-L-Q*202109090853",
          "01-59-P-V*202204131119",
          "01-68-P-N*202211080928",
          "01-66-L-Q*202109090853",
          "01-59-P-V*202204131119",
          "01-68-P-N*202211080928",
          "01-66-L-Q*202109090853",
          "01-59-P-V*202204131119",
          "01-68-P-N*202211080928",
          "01-66-L-Q*202109090853",
          "01-59-P-V*202204131119",
          "01-68-P-N*202211080928",
          "01-66-L-Q*202109090853",
          "01-59-P-V*202204131119",
          "01-68-P-N*202211080928",
          "01-66-L-Q*202109090853",
          "01-59-P-V*202204131119",
          "01-68-P-N*202211080928",
          "01-66-L-Q*202109090853",
          "01-59-P-V*202204131119",
          "01-68-P-N*202211080928",
          "01-66-L-Q*202109090853",
          "01-59-P-V*202204131119",
          "01-68-P-N*202211080928",
          "01-66-L-Q*202109090853",
          "01-59-P-V*202204131119",
          "01-68-P-N*202211080928",
          "01-66-L-Q*202109090853",
          "01-59-P-V*202204131119",
          "01-68-P-N*202211080928",
          "01-66-L-Q*202109090853",
          "01-59-P-V*202204131119",
          "01-68-P-N*202211080928",
          "01-66-L-Q*202109090853",
          "01-59-P-V*202204131119",
          "01-68-P-N*202211080928",
          "01-66-L-Q*202109090853",
          "01-59-P-V*202204131119",
          "01-68-P-N*202211080928",
          "01-66-L-Q*202109090853",
          "01-59-P-V*202204131119",
          "01-68-P-N*202211080928",
          "01-66-L-Q*202109090853",
          "01-59-P-V*202204131119",
          "01-68-P-N*202211080928",
          "01-66-L-Q*202109090853",
          "01-59-P-V*202204131119",
          "01-68-P-N*202211080928",
          "01-66-L-Q*202109090853",
          "01-59-P-V*202204131119",
          "01-68-P-N*202211080928",
          "01-66-L-Q*202109090853",
          "01-59-P-V*202204131119",
          "01-68-P-N*202211080928",
          "01-66-L-Q*202109090853",
          "01-59-P-V*202204131119",
          "01-68-P-N*202211080928",
          "01-66-L-Q*202109090853",
          "01-59-P-V*202204131119",
          "01-68-P-N*202211080928",
          "01-66-L-Q*202109090853",
          "01-59-P-V*202204131119",
          "01-68-P-N*202211080928",
          "01-66-L-Q*202109090853",
          "01-59-P-V*202204131119",
          "01-68-P-N*202211080928",
          "01-66-L-Q*202109090853",
          "01-59-P-V*202204131119",
          "01-68-P-N*202211080928",
          "01-66-L-Q*202109090853",
          "01-59-P-V*202204131119",
          "01-68-P-N*202211080928",
          "01-66-L-Q*202109090853",
          "01-59-P-V*202204131119",
          "01-68-P-N*202211080928",
          "01-66-L-Q*202109090853",
          "01-59-P-V*202204131119",
          "01-68-P-N*202211080928",
          "01-66-L-Q*202109090853",
          "01-59-P-V*202204131119",
          "01-68-P-N*202211080928",
          "01-66-L-Q*202109090853"
         ],
         "legendgroup": "",
         "marker": {
          "color": "#636efa"
         },
         "name": "",
         "notched": false,
         "offsetgroup": "",
         "orientation": "v",
         "showlegend": false,
         "type": "box",
         "x": [
          "BrainSegVolNotVent",
          "BrainSegVolNotVent",
          "BrainSegVolNotVent",
          "VentricleChoroidVol",
          "VentricleChoroidVol",
          "VentricleChoroidVol",
          "lhCortexVol",
          "lhCortexVol",
          "lhCortexVol",
          "rhCortexVol",
          "rhCortexVol",
          "rhCortexVol",
          "lhCerebralWhiteMatterVol",
          "lhCerebralWhiteMatterVol",
          "lhCerebralWhiteMatterVol",
          "rhCerebralWhiteMatterVol",
          "rhCerebralWhiteMatterVol",
          "rhCerebralWhiteMatterVol",
          "CerebralWhiteMatterVol",
          "CerebralWhiteMatterVol",
          "CerebralWhiteMatterVol",
          "SubCortGrayVol",
          "SubCortGrayVol",
          "SubCortGrayVol",
          "TotalGrayVol",
          "TotalGrayVol",
          "TotalGrayVol",
          "SupraTentorialVol",
          "SupraTentorialVol",
          "SupraTentorialVol",
          "SupraTentorialVolNotVent",
          "SupraTentorialVolNotVent",
          "SupraTentorialVolNotVent",
          "MaskVol",
          "MaskVol",
          "MaskVol",
          "eTIV",
          "eTIV",
          "eTIV",
          "Left-Lateral-Ventricle",
          "Left-Lateral-Ventricle",
          "Left-Lateral-Ventricle",
          "Left-Inf-Lat-Vent",
          "Left-Inf-Lat-Vent",
          "Left-Inf-Lat-Vent",
          "Left-Cerebellum-White-Matter",
          "Left-Cerebellum-White-Matter",
          "Left-Cerebellum-White-Matter",
          "Left-Cerebellum-Cortex",
          "Left-Cerebellum-Cortex",
          "Left-Cerebellum-Cortex",
          "Left-Thalamus",
          "Left-Thalamus",
          "Left-Thalamus",
          "Left-Caudate",
          "Left-Caudate",
          "Left-Caudate",
          "Left-Putamen",
          "Left-Putamen",
          "Left-Putamen",
          "Left-Pallidum",
          "Left-Pallidum",
          "Left-Pallidum",
          "3rd-Ventricle",
          "3rd-Ventricle",
          "3rd-Ventricle",
          "4th-Ventricle",
          "4th-Ventricle",
          "4th-Ventricle",
          "Brain-Stem",
          "Brain-Stem",
          "Brain-Stem",
          "Left-Hippocampus",
          "Left-Hippocampus",
          "Left-Hippocampus",
          "Left-Amygdala",
          "Left-Amygdala",
          "Left-Amygdala",
          "CSF",
          "CSF",
          "CSF",
          "Left-Accumbens-area",
          "Left-Accumbens-area",
          "Left-Accumbens-area",
          "Left-VentralDC",
          "Left-VentralDC",
          "Left-VentralDC",
          "Left-vessel",
          "Left-vessel",
          "Left-vessel",
          "Left-choroid-plexus",
          "Left-choroid-plexus",
          "Left-choroid-plexus",
          "Right-Lateral-Ventricle",
          "Right-Lateral-Ventricle",
          "Right-Lateral-Ventricle",
          "Right-Inf-Lat-Vent",
          "Right-Inf-Lat-Vent",
          "Right-Inf-Lat-Vent",
          "Right-Cerebellum-White-Matter",
          "Right-Cerebellum-White-Matter",
          "Right-Cerebellum-White-Matter",
          "Right-Cerebellum-Cortex",
          "Right-Cerebellum-Cortex",
          "Right-Cerebellum-Cortex",
          "Right-Thalamus",
          "Right-Thalamus",
          "Right-Thalamus",
          "Right-Caudate",
          "Right-Caudate",
          "Right-Caudate",
          "Right-Putamen",
          "Right-Putamen",
          "Right-Putamen",
          "Right-Pallidum",
          "Right-Pallidum",
          "Right-Pallidum",
          "Right-Hippocampus",
          "Right-Hippocampus",
          "Right-Hippocampus",
          "Right-Amygdala",
          "Right-Amygdala",
          "Right-Amygdala",
          "Right-Accumbens-area",
          "Right-Accumbens-area",
          "Right-Accumbens-area",
          "Right-VentralDC",
          "Right-VentralDC",
          "Right-VentralDC",
          "Right-vessel",
          "Right-vessel",
          "Right-vessel",
          "Right-choroid-plexus",
          "Right-choroid-plexus",
          "Right-choroid-plexus",
          "5th-Ventricle",
          "5th-Ventricle",
          "5th-Ventricle",
          "WM-hypointensities",
          "WM-hypointensities",
          "WM-hypointensities",
          "Left-WM-hypointensities",
          "Left-WM-hypointensities",
          "Left-WM-hypointensities",
          "Right-WM-hypointensities",
          "Right-WM-hypointensities",
          "Right-WM-hypointensities",
          "non-WM-hypointensities",
          "non-WM-hypointensities",
          "non-WM-hypointensities",
          "Left-non-WM-hypointensities",
          "Left-non-WM-hypointensities",
          "Left-non-WM-hypointensities",
          "Right-non-WM-hypointensities",
          "Right-non-WM-hypointensities",
          "Right-non-WM-hypointensities",
          "Optic-Chiasm",
          "Optic-Chiasm",
          "Optic-Chiasm",
          "CC_Posterior",
          "CC_Posterior",
          "CC_Posterior",
          "CC_Mid_Posterior",
          "CC_Mid_Posterior",
          "CC_Mid_Posterior",
          "CC_Central",
          "CC_Central",
          "CC_Central",
          "CC_Mid_Anterior",
          "CC_Mid_Anterior",
          "CC_Mid_Anterior",
          "CC_Anterior",
          "CC_Anterior",
          "CC_Anterior"
         ],
         "x0": " ",
         "xaxis": "x",
         "y": [
          980107.281317,
          903439.346811,
          1042570.916668,
          36647.69615,
          17805.592883,
          25576.548073,
          204580.125985,
          192301.355968,
          204876.401487,
          213219.579237,
          191040.035488,
          209801.86332,
          196262.102864,
          186254.064186,
          225695.507993,
          206063.094817,
          186594.74436,
          224281.291607,
          402325.197681,
          372848.808545,
          449976.799601,
          44579.309386,
          47839.710148,
          52740.738104,
          557499.642814,
          509031.309091,
          566747.807952,
          907305.992304,
          825551.687911,
          947874.383144,
          864832.899257,
          804324.185052,
          917514.055569,
          1165105.127261,
          1057417.848005,
          1210426.017162,
          987811.52958,
          852998.703136,
          960030.227245,
          15105.8,
          9840.9,
          11839.9,
          716,
          539.7,
          350.1,
          10939.2,
          11146.3,
          13703.1,
          47175.7,
          39232.4,
          49633.8,
          5938.8,
          6516.9,
          6780.6,
          2556,
          2883.6,
          3430.6,
          3897.8,
          4242.9,
          4588.4,
          1442.1,
          1724.8,
          1756,
          1892.2,
          894.5,
          1055.2,
          3017.1,
          1673.8,
          2279.8,
          16357.3,
          17220.1,
          19417.9,
          3046.7,
          3320.6,
          3806.2,
          876.5,
          991.1,
          1276.6,
          791.3,
          739.1,
          1420.2,
          343.7,
          424,
          675.4,
          3548.8,
          3669.3,
          3773.4,
          25.5,
          34.1,
          59.1,
          253.5,
          217.6,
          413.2,
          19138.5,
          6175.3,
          11893.7,
          885.3,
          558.4,
          550.1,
          10097.9,
          10936.6,
          12839.1,
          48530.6,
          39212.3,
          50158.1,
          5663.2,
          6479.4,
          6798,
          3087.6,
          2796.3,
          3851.9,
          4192.2,
          4196.5,
          4664.8,
          1430.1,
          1663.2,
          1671,
          3053.9,
          3622.6,
          3671.2,
          1488.5,
          1204.2,
          1269.4,
          260.7,
          362.1,
          591.4,
          3491.2,
          3665.9,
          3993.5,
          35.7,
          22,
          37.6,
          303.9,
          285.6,
          517.6,
          0,
          0,
          0,
          1603,
          1084,
          677,
          0,
          0,
          0,
          0,
          0,
          0,
          0,
          0,
          5.9,
          0,
          0,
          0,
          0,
          0,
          0,
          144.5,
          144,
          200.9,
          311.7,
          314.2,
          639.6,
          184.6,
          100.5,
          296.1,
          165.8,
          183.1,
          309.1,
          172.5,
          171,
          308,
          136.2,
          373.5,
          609.3
         ],
         "y0": " ",
         "yaxis": "y"
        }
       ],
       "layout": {
        "boxmode": "overlay",
        "legend": {
         "tracegroupgap": 0
        },
        "template": {
         "data": {
          "bar": [
           {
            "error_x": {
             "color": "#2a3f5f"
            },
            "error_y": {
             "color": "#2a3f5f"
            },
            "marker": {
             "line": {
              "color": "#E5ECF6",
              "width": 0.5
             },
             "pattern": {
              "fillmode": "overlay",
              "size": 10,
              "solidity": 0.2
             }
            },
            "type": "bar"
           }
          ],
          "barpolar": [
           {
            "marker": {
             "line": {
              "color": "#E5ECF6",
              "width": 0.5
             },
             "pattern": {
              "fillmode": "overlay",
              "size": 10,
              "solidity": 0.2
             }
            },
            "type": "barpolar"
           }
          ],
          "carpet": [
           {
            "aaxis": {
             "endlinecolor": "#2a3f5f",
             "gridcolor": "white",
             "linecolor": "white",
             "minorgridcolor": "white",
             "startlinecolor": "#2a3f5f"
            },
            "baxis": {
             "endlinecolor": "#2a3f5f",
             "gridcolor": "white",
             "linecolor": "white",
             "minorgridcolor": "white",
             "startlinecolor": "#2a3f5f"
            },
            "type": "carpet"
           }
          ],
          "choropleth": [
           {
            "colorbar": {
             "outlinewidth": 0,
             "ticks": ""
            },
            "type": "choropleth"
           }
          ],
          "contour": [
           {
            "colorbar": {
             "outlinewidth": 0,
             "ticks": ""
            },
            "colorscale": [
             [
              0,
              "#0d0887"
             ],
             [
              0.1111111111111111,
              "#46039f"
             ],
             [
              0.2222222222222222,
              "#7201a8"
             ],
             [
              0.3333333333333333,
              "#9c179e"
             ],
             [
              0.4444444444444444,
              "#bd3786"
             ],
             [
              0.5555555555555556,
              "#d8576b"
             ],
             [
              0.6666666666666666,
              "#ed7953"
             ],
             [
              0.7777777777777778,
              "#fb9f3a"
             ],
             [
              0.8888888888888888,
              "#fdca26"
             ],
             [
              1,
              "#f0f921"
             ]
            ],
            "type": "contour"
           }
          ],
          "contourcarpet": [
           {
            "colorbar": {
             "outlinewidth": 0,
             "ticks": ""
            },
            "type": "contourcarpet"
           }
          ],
          "heatmap": [
           {
            "colorbar": {
             "outlinewidth": 0,
             "ticks": ""
            },
            "colorscale": [
             [
              0,
              "#0d0887"
             ],
             [
              0.1111111111111111,
              "#46039f"
             ],
             [
              0.2222222222222222,
              "#7201a8"
             ],
             [
              0.3333333333333333,
              "#9c179e"
             ],
             [
              0.4444444444444444,
              "#bd3786"
             ],
             [
              0.5555555555555556,
              "#d8576b"
             ],
             [
              0.6666666666666666,
              "#ed7953"
             ],
             [
              0.7777777777777778,
              "#fb9f3a"
             ],
             [
              0.8888888888888888,
              "#fdca26"
             ],
             [
              1,
              "#f0f921"
             ]
            ],
            "type": "heatmap"
           }
          ],
          "heatmapgl": [
           {
            "colorbar": {
             "outlinewidth": 0,
             "ticks": ""
            },
            "colorscale": [
             [
              0,
              "#0d0887"
             ],
             [
              0.1111111111111111,
              "#46039f"
             ],
             [
              0.2222222222222222,
              "#7201a8"
             ],
             [
              0.3333333333333333,
              "#9c179e"
             ],
             [
              0.4444444444444444,
              "#bd3786"
             ],
             [
              0.5555555555555556,
              "#d8576b"
             ],
             [
              0.6666666666666666,
              "#ed7953"
             ],
             [
              0.7777777777777778,
              "#fb9f3a"
             ],
             [
              0.8888888888888888,
              "#fdca26"
             ],
             [
              1,
              "#f0f921"
             ]
            ],
            "type": "heatmapgl"
           }
          ],
          "histogram": [
           {
            "marker": {
             "pattern": {
              "fillmode": "overlay",
              "size": 10,
              "solidity": 0.2
             }
            },
            "type": "histogram"
           }
          ],
          "histogram2d": [
           {
            "colorbar": {
             "outlinewidth": 0,
             "ticks": ""
            },
            "colorscale": [
             [
              0,
              "#0d0887"
             ],
             [
              0.1111111111111111,
              "#46039f"
             ],
             [
              0.2222222222222222,
              "#7201a8"
             ],
             [
              0.3333333333333333,
              "#9c179e"
             ],
             [
              0.4444444444444444,
              "#bd3786"
             ],
             [
              0.5555555555555556,
              "#d8576b"
             ],
             [
              0.6666666666666666,
              "#ed7953"
             ],
             [
              0.7777777777777778,
              "#fb9f3a"
             ],
             [
              0.8888888888888888,
              "#fdca26"
             ],
             [
              1,
              "#f0f921"
             ]
            ],
            "type": "histogram2d"
           }
          ],
          "histogram2dcontour": [
           {
            "colorbar": {
             "outlinewidth": 0,
             "ticks": ""
            },
            "colorscale": [
             [
              0,
              "#0d0887"
             ],
             [
              0.1111111111111111,
              "#46039f"
             ],
             [
              0.2222222222222222,
              "#7201a8"
             ],
             [
              0.3333333333333333,
              "#9c179e"
             ],
             [
              0.4444444444444444,
              "#bd3786"
             ],
             [
              0.5555555555555556,
              "#d8576b"
             ],
             [
              0.6666666666666666,
              "#ed7953"
             ],
             [
              0.7777777777777778,
              "#fb9f3a"
             ],
             [
              0.8888888888888888,
              "#fdca26"
             ],
             [
              1,
              "#f0f921"
             ]
            ],
            "type": "histogram2dcontour"
           }
          ],
          "mesh3d": [
           {
            "colorbar": {
             "outlinewidth": 0,
             "ticks": ""
            },
            "type": "mesh3d"
           }
          ],
          "parcoords": [
           {
            "line": {
             "colorbar": {
              "outlinewidth": 0,
              "ticks": ""
             }
            },
            "type": "parcoords"
           }
          ],
          "pie": [
           {
            "automargin": true,
            "type": "pie"
           }
          ],
          "scatter": [
           {
            "fillpattern": {
             "fillmode": "overlay",
             "size": 10,
             "solidity": 0.2
            },
            "type": "scatter"
           }
          ],
          "scatter3d": [
           {
            "line": {
             "colorbar": {
              "outlinewidth": 0,
              "ticks": ""
             }
            },
            "marker": {
             "colorbar": {
              "outlinewidth": 0,
              "ticks": ""
             }
            },
            "type": "scatter3d"
           }
          ],
          "scattercarpet": [
           {
            "marker": {
             "colorbar": {
              "outlinewidth": 0,
              "ticks": ""
             }
            },
            "type": "scattercarpet"
           }
          ],
          "scattergeo": [
           {
            "marker": {
             "colorbar": {
              "outlinewidth": 0,
              "ticks": ""
             }
            },
            "type": "scattergeo"
           }
          ],
          "scattergl": [
           {
            "marker": {
             "colorbar": {
              "outlinewidth": 0,
              "ticks": ""
             }
            },
            "type": "scattergl"
           }
          ],
          "scattermapbox": [
           {
            "marker": {
             "colorbar": {
              "outlinewidth": 0,
              "ticks": ""
             }
            },
            "type": "scattermapbox"
           }
          ],
          "scatterpolar": [
           {
            "marker": {
             "colorbar": {
              "outlinewidth": 0,
              "ticks": ""
             }
            },
            "type": "scatterpolar"
           }
          ],
          "scatterpolargl": [
           {
            "marker": {
             "colorbar": {
              "outlinewidth": 0,
              "ticks": ""
             }
            },
            "type": "scatterpolargl"
           }
          ],
          "scatterternary": [
           {
            "marker": {
             "colorbar": {
              "outlinewidth": 0,
              "ticks": ""
             }
            },
            "type": "scatterternary"
           }
          ],
          "surface": [
           {
            "colorbar": {
             "outlinewidth": 0,
             "ticks": ""
            },
            "colorscale": [
             [
              0,
              "#0d0887"
             ],
             [
              0.1111111111111111,
              "#46039f"
             ],
             [
              0.2222222222222222,
              "#7201a8"
             ],
             [
              0.3333333333333333,
              "#9c179e"
             ],
             [
              0.4444444444444444,
              "#bd3786"
             ],
             [
              0.5555555555555556,
              "#d8576b"
             ],
             [
              0.6666666666666666,
              "#ed7953"
             ],
             [
              0.7777777777777778,
              "#fb9f3a"
             ],
             [
              0.8888888888888888,
              "#fdca26"
             ],
             [
              1,
              "#f0f921"
             ]
            ],
            "type": "surface"
           }
          ],
          "table": [
           {
            "cells": {
             "fill": {
              "color": "#EBF0F8"
             },
             "line": {
              "color": "white"
             }
            },
            "header": {
             "fill": {
              "color": "#C8D4E3"
             },
             "line": {
              "color": "white"
             }
            },
            "type": "table"
           }
          ]
         },
         "layout": {
          "annotationdefaults": {
           "arrowcolor": "#2a3f5f",
           "arrowhead": 0,
           "arrowwidth": 1
          },
          "autotypenumbers": "strict",
          "coloraxis": {
           "colorbar": {
            "outlinewidth": 0,
            "ticks": ""
           }
          },
          "colorscale": {
           "diverging": [
            [
             0,
             "#8e0152"
            ],
            [
             0.1,
             "#c51b7d"
            ],
            [
             0.2,
             "#de77ae"
            ],
            [
             0.3,
             "#f1b6da"
            ],
            [
             0.4,
             "#fde0ef"
            ],
            [
             0.5,
             "#f7f7f7"
            ],
            [
             0.6,
             "#e6f5d0"
            ],
            [
             0.7,
             "#b8e186"
            ],
            [
             0.8,
             "#7fbc41"
            ],
            [
             0.9,
             "#4d9221"
            ],
            [
             1,
             "#276419"
            ]
           ],
           "sequential": [
            [
             0,
             "#0d0887"
            ],
            [
             0.1111111111111111,
             "#46039f"
            ],
            [
             0.2222222222222222,
             "#7201a8"
            ],
            [
             0.3333333333333333,
             "#9c179e"
            ],
            [
             0.4444444444444444,
             "#bd3786"
            ],
            [
             0.5555555555555556,
             "#d8576b"
            ],
            [
             0.6666666666666666,
             "#ed7953"
            ],
            [
             0.7777777777777778,
             "#fb9f3a"
            ],
            [
             0.8888888888888888,
             "#fdca26"
            ],
            [
             1,
             "#f0f921"
            ]
           ],
           "sequentialminus": [
            [
             0,
             "#0d0887"
            ],
            [
             0.1111111111111111,
             "#46039f"
            ],
            [
             0.2222222222222222,
             "#7201a8"
            ],
            [
             0.3333333333333333,
             "#9c179e"
            ],
            [
             0.4444444444444444,
             "#bd3786"
            ],
            [
             0.5555555555555556,
             "#d8576b"
            ],
            [
             0.6666666666666666,
             "#ed7953"
            ],
            [
             0.7777777777777778,
             "#fb9f3a"
            ],
            [
             0.8888888888888888,
             "#fdca26"
            ],
            [
             1,
             "#f0f921"
            ]
           ]
          },
          "colorway": [
           "#636efa",
           "#EF553B",
           "#00cc96",
           "#ab63fa",
           "#FFA15A",
           "#19d3f3",
           "#FF6692",
           "#B6E880",
           "#FF97FF",
           "#FECB52"
          ],
          "font": {
           "color": "#2a3f5f"
          },
          "geo": {
           "bgcolor": "white",
           "lakecolor": "white",
           "landcolor": "#E5ECF6",
           "showlakes": true,
           "showland": true,
           "subunitcolor": "white"
          },
          "hoverlabel": {
           "align": "left"
          },
          "hovermode": "closest",
          "mapbox": {
           "style": "light"
          },
          "paper_bgcolor": "white",
          "plot_bgcolor": "#E5ECF6",
          "polar": {
           "angularaxis": {
            "gridcolor": "white",
            "linecolor": "white",
            "ticks": ""
           },
           "bgcolor": "#E5ECF6",
           "radialaxis": {
            "gridcolor": "white",
            "linecolor": "white",
            "ticks": ""
           }
          },
          "scene": {
           "xaxis": {
            "backgroundcolor": "#E5ECF6",
            "gridcolor": "white",
            "gridwidth": 2,
            "linecolor": "white",
            "showbackground": true,
            "ticks": "",
            "zerolinecolor": "white"
           },
           "yaxis": {
            "backgroundcolor": "#E5ECF6",
            "gridcolor": "white",
            "gridwidth": 2,
            "linecolor": "white",
            "showbackground": true,
            "ticks": "",
            "zerolinecolor": "white"
           },
           "zaxis": {
            "backgroundcolor": "#E5ECF6",
            "gridcolor": "white",
            "gridwidth": 2,
            "linecolor": "white",
            "showbackground": true,
            "ticks": "",
            "zerolinecolor": "white"
           }
          },
          "shapedefaults": {
           "line": {
            "color": "#2a3f5f"
           }
          },
          "ternary": {
           "aaxis": {
            "gridcolor": "white",
            "linecolor": "white",
            "ticks": ""
           },
           "baxis": {
            "gridcolor": "white",
            "linecolor": "white",
            "ticks": ""
           },
           "bgcolor": "#E5ECF6",
           "caxis": {
            "gridcolor": "white",
            "linecolor": "white",
            "ticks": ""
           }
          },
          "title": {
           "x": 0.05
          },
          "xaxis": {
           "automargin": true,
           "gridcolor": "white",
           "linecolor": "white",
           "ticks": "",
           "title": {
            "standoff": 15
           },
           "zerolinecolor": "white",
           "zerolinewidth": 2
          },
          "yaxis": {
           "automargin": true,
           "gridcolor": "white",
           "linecolor": "white",
           "ticks": "",
           "title": {
            "standoff": 15
           },
           "zerolinecolor": "white",
           "zerolinewidth": 2
          }
         }
        },
        "title": {
         "text": "Volume in mm3"
        },
        "xaxis": {
         "anchor": "y",
         "domain": [
          0,
          1
         ],
         "title": {
          "text": "Region"
         }
        },
        "yaxis": {
         "anchor": "x",
         "domain": [
          0,
          1
         ],
         "title": {
          "text": "Volume"
         }
        }
       }
      },
      "text/html": [
       "<div>                            <div id=\"d57e6aad-60f7-42ce-8d4b-063efbfd8ee3\" class=\"plotly-graph-div\" style=\"height:525px; width:100%;\"></div>            <script type=\"text/javascript\">                require([\"plotly\"], function(Plotly) {                    window.PLOTLYENV=window.PLOTLYENV || {};                                    if (document.getElementById(\"d57e6aad-60f7-42ce-8d4b-063efbfd8ee3\")) {                    Plotly.newPlot(                        \"d57e6aad-60f7-42ce-8d4b-063efbfd8ee3\",                        [{\"alignmentgroup\":\"True\",\"boxpoints\":\"all\",\"hovertemplate\":\"\\u003cb\\u003e%{hovertext}\\u003c\\u002fb\\u003e\\u003cbr\\u003e\\u003cbr\\u003eRegion=%{x}\\u003cbr\\u003eVolume=%{y}\\u003cextra\\u003e\\u003c\\u002fextra\\u003e\",\"hovertext\":[\"01-59-P-V*202204131119\",\"01-68-P-N*202211080928\",\"01-66-L-Q*202109090853\",\"01-59-P-V*202204131119\",\"01-68-P-N*202211080928\",\"01-66-L-Q*202109090853\",\"01-59-P-V*202204131119\",\"01-68-P-N*202211080928\",\"01-66-L-Q*202109090853\",\"01-59-P-V*202204131119\",\"01-68-P-N*202211080928\",\"01-66-L-Q*202109090853\",\"01-59-P-V*202204131119\",\"01-68-P-N*202211080928\",\"01-66-L-Q*202109090853\",\"01-59-P-V*202204131119\",\"01-68-P-N*202211080928\",\"01-66-L-Q*202109090853\",\"01-59-P-V*202204131119\",\"01-68-P-N*202211080928\",\"01-66-L-Q*202109090853\",\"01-59-P-V*202204131119\",\"01-68-P-N*202211080928\",\"01-66-L-Q*202109090853\",\"01-59-P-V*202204131119\",\"01-68-P-N*202211080928\",\"01-66-L-Q*202109090853\",\"01-59-P-V*202204131119\",\"01-68-P-N*202211080928\",\"01-66-L-Q*202109090853\",\"01-59-P-V*202204131119\",\"01-68-P-N*202211080928\",\"01-66-L-Q*202109090853\",\"01-59-P-V*202204131119\",\"01-68-P-N*202211080928\",\"01-66-L-Q*202109090853\",\"01-59-P-V*202204131119\",\"01-68-P-N*202211080928\",\"01-66-L-Q*202109090853\",\"01-59-P-V*202204131119\",\"01-68-P-N*202211080928\",\"01-66-L-Q*202109090853\",\"01-59-P-V*202204131119\",\"01-68-P-N*202211080928\",\"01-66-L-Q*202109090853\",\"01-59-P-V*202204131119\",\"01-68-P-N*202211080928\",\"01-66-L-Q*202109090853\",\"01-59-P-V*202204131119\",\"01-68-P-N*202211080928\",\"01-66-L-Q*202109090853\",\"01-59-P-V*202204131119\",\"01-68-P-N*202211080928\",\"01-66-L-Q*202109090853\",\"01-59-P-V*202204131119\",\"01-68-P-N*202211080928\",\"01-66-L-Q*202109090853\",\"01-59-P-V*202204131119\",\"01-68-P-N*202211080928\",\"01-66-L-Q*202109090853\",\"01-59-P-V*202204131119\",\"01-68-P-N*202211080928\",\"01-66-L-Q*202109090853\",\"01-59-P-V*202204131119\",\"01-68-P-N*202211080928\",\"01-66-L-Q*202109090853\",\"01-59-P-V*202204131119\",\"01-68-P-N*202211080928\",\"01-66-L-Q*202109090853\",\"01-59-P-V*202204131119\",\"01-68-P-N*202211080928\",\"01-66-L-Q*202109090853\",\"01-59-P-V*202204131119\",\"01-68-P-N*202211080928\",\"01-66-L-Q*202109090853\",\"01-59-P-V*202204131119\",\"01-68-P-N*202211080928\",\"01-66-L-Q*202109090853\",\"01-59-P-V*202204131119\",\"01-68-P-N*202211080928\",\"01-66-L-Q*202109090853\",\"01-59-P-V*202204131119\",\"01-68-P-N*202211080928\",\"01-66-L-Q*202109090853\",\"01-59-P-V*202204131119\",\"01-68-P-N*202211080928\",\"01-66-L-Q*202109090853\",\"01-59-P-V*202204131119\",\"01-68-P-N*202211080928\",\"01-66-L-Q*202109090853\",\"01-59-P-V*202204131119\",\"01-68-P-N*202211080928\",\"01-66-L-Q*202109090853\",\"01-59-P-V*202204131119\",\"01-68-P-N*202211080928\",\"01-66-L-Q*202109090853\",\"01-59-P-V*202204131119\",\"01-68-P-N*202211080928\",\"01-66-L-Q*202109090853\",\"01-59-P-V*202204131119\",\"01-68-P-N*202211080928\",\"01-66-L-Q*202109090853\",\"01-59-P-V*202204131119\",\"01-68-P-N*202211080928\",\"01-66-L-Q*202109090853\",\"01-59-P-V*202204131119\",\"01-68-P-N*202211080928\",\"01-66-L-Q*202109090853\",\"01-59-P-V*202204131119\",\"01-68-P-N*202211080928\",\"01-66-L-Q*202109090853\",\"01-59-P-V*202204131119\",\"01-68-P-N*202211080928\",\"01-66-L-Q*202109090853\",\"01-59-P-V*202204131119\",\"01-68-P-N*202211080928\",\"01-66-L-Q*202109090853\",\"01-59-P-V*202204131119\",\"01-68-P-N*202211080928\",\"01-66-L-Q*202109090853\",\"01-59-P-V*202204131119\",\"01-68-P-N*202211080928\",\"01-66-L-Q*202109090853\",\"01-59-P-V*202204131119\",\"01-68-P-N*202211080928\",\"01-66-L-Q*202109090853\",\"01-59-P-V*202204131119\",\"01-68-P-N*202211080928\",\"01-66-L-Q*202109090853\",\"01-59-P-V*202204131119\",\"01-68-P-N*202211080928\",\"01-66-L-Q*202109090853\",\"01-59-P-V*202204131119\",\"01-68-P-N*202211080928\",\"01-66-L-Q*202109090853\",\"01-59-P-V*202204131119\",\"01-68-P-N*202211080928\",\"01-66-L-Q*202109090853\",\"01-59-P-V*202204131119\",\"01-68-P-N*202211080928\",\"01-66-L-Q*202109090853\",\"01-59-P-V*202204131119\",\"01-68-P-N*202211080928\",\"01-66-L-Q*202109090853\",\"01-59-P-V*202204131119\",\"01-68-P-N*202211080928\",\"01-66-L-Q*202109090853\",\"01-59-P-V*202204131119\",\"01-68-P-N*202211080928\",\"01-66-L-Q*202109090853\",\"01-59-P-V*202204131119\",\"01-68-P-N*202211080928\",\"01-66-L-Q*202109090853\",\"01-59-P-V*202204131119\",\"01-68-P-N*202211080928\",\"01-66-L-Q*202109090853\",\"01-59-P-V*202204131119\",\"01-68-P-N*202211080928\",\"01-66-L-Q*202109090853\",\"01-59-P-V*202204131119\",\"01-68-P-N*202211080928\",\"01-66-L-Q*202109090853\",\"01-59-P-V*202204131119\",\"01-68-P-N*202211080928\",\"01-66-L-Q*202109090853\",\"01-59-P-V*202204131119\",\"01-68-P-N*202211080928\",\"01-66-L-Q*202109090853\",\"01-59-P-V*202204131119\",\"01-68-P-N*202211080928\",\"01-66-L-Q*202109090853\",\"01-59-P-V*202204131119\",\"01-68-P-N*202211080928\",\"01-66-L-Q*202109090853\"],\"legendgroup\":\"\",\"marker\":{\"color\":\"#636efa\"},\"name\":\"\",\"notched\":false,\"offsetgroup\":\"\",\"orientation\":\"v\",\"showlegend\":false,\"x\":[\"BrainSegVolNotVent\",\"BrainSegVolNotVent\",\"BrainSegVolNotVent\",\"VentricleChoroidVol\",\"VentricleChoroidVol\",\"VentricleChoroidVol\",\"lhCortexVol\",\"lhCortexVol\",\"lhCortexVol\",\"rhCortexVol\",\"rhCortexVol\",\"rhCortexVol\",\"lhCerebralWhiteMatterVol\",\"lhCerebralWhiteMatterVol\",\"lhCerebralWhiteMatterVol\",\"rhCerebralWhiteMatterVol\",\"rhCerebralWhiteMatterVol\",\"rhCerebralWhiteMatterVol\",\"CerebralWhiteMatterVol\",\"CerebralWhiteMatterVol\",\"CerebralWhiteMatterVol\",\"SubCortGrayVol\",\"SubCortGrayVol\",\"SubCortGrayVol\",\"TotalGrayVol\",\"TotalGrayVol\",\"TotalGrayVol\",\"SupraTentorialVol\",\"SupraTentorialVol\",\"SupraTentorialVol\",\"SupraTentorialVolNotVent\",\"SupraTentorialVolNotVent\",\"SupraTentorialVolNotVent\",\"MaskVol\",\"MaskVol\",\"MaskVol\",\"eTIV\",\"eTIV\",\"eTIV\",\"Left-Lateral-Ventricle\",\"Left-Lateral-Ventricle\",\"Left-Lateral-Ventricle\",\"Left-Inf-Lat-Vent\",\"Left-Inf-Lat-Vent\",\"Left-Inf-Lat-Vent\",\"Left-Cerebellum-White-Matter\",\"Left-Cerebellum-White-Matter\",\"Left-Cerebellum-White-Matter\",\"Left-Cerebellum-Cortex\",\"Left-Cerebellum-Cortex\",\"Left-Cerebellum-Cortex\",\"Left-Thalamus\",\"Left-Thalamus\",\"Left-Thalamus\",\"Left-Caudate\",\"Left-Caudate\",\"Left-Caudate\",\"Left-Putamen\",\"Left-Putamen\",\"Left-Putamen\",\"Left-Pallidum\",\"Left-Pallidum\",\"Left-Pallidum\",\"3rd-Ventricle\",\"3rd-Ventricle\",\"3rd-Ventricle\",\"4th-Ventricle\",\"4th-Ventricle\",\"4th-Ventricle\",\"Brain-Stem\",\"Brain-Stem\",\"Brain-Stem\",\"Left-Hippocampus\",\"Left-Hippocampus\",\"Left-Hippocampus\",\"Left-Amygdala\",\"Left-Amygdala\",\"Left-Amygdala\",\"CSF\",\"CSF\",\"CSF\",\"Left-Accumbens-area\",\"Left-Accumbens-area\",\"Left-Accumbens-area\",\"Left-VentralDC\",\"Left-VentralDC\",\"Left-VentralDC\",\"Left-vessel\",\"Left-vessel\",\"Left-vessel\",\"Left-choroid-plexus\",\"Left-choroid-plexus\",\"Left-choroid-plexus\",\"Right-Lateral-Ventricle\",\"Right-Lateral-Ventricle\",\"Right-Lateral-Ventricle\",\"Right-Inf-Lat-Vent\",\"Right-Inf-Lat-Vent\",\"Right-Inf-Lat-Vent\",\"Right-Cerebellum-White-Matter\",\"Right-Cerebellum-White-Matter\",\"Right-Cerebellum-White-Matter\",\"Right-Cerebellum-Cortex\",\"Right-Cerebellum-Cortex\",\"Right-Cerebellum-Cortex\",\"Right-Thalamus\",\"Right-Thalamus\",\"Right-Thalamus\",\"Right-Caudate\",\"Right-Caudate\",\"Right-Caudate\",\"Right-Putamen\",\"Right-Putamen\",\"Right-Putamen\",\"Right-Pallidum\",\"Right-Pallidum\",\"Right-Pallidum\",\"Right-Hippocampus\",\"Right-Hippocampus\",\"Right-Hippocampus\",\"Right-Amygdala\",\"Right-Amygdala\",\"Right-Amygdala\",\"Right-Accumbens-area\",\"Right-Accumbens-area\",\"Right-Accumbens-area\",\"Right-VentralDC\",\"Right-VentralDC\",\"Right-VentralDC\",\"Right-vessel\",\"Right-vessel\",\"Right-vessel\",\"Right-choroid-plexus\",\"Right-choroid-plexus\",\"Right-choroid-plexus\",\"5th-Ventricle\",\"5th-Ventricle\",\"5th-Ventricle\",\"WM-hypointensities\",\"WM-hypointensities\",\"WM-hypointensities\",\"Left-WM-hypointensities\",\"Left-WM-hypointensities\",\"Left-WM-hypointensities\",\"Right-WM-hypointensities\",\"Right-WM-hypointensities\",\"Right-WM-hypointensities\",\"non-WM-hypointensities\",\"non-WM-hypointensities\",\"non-WM-hypointensities\",\"Left-non-WM-hypointensities\",\"Left-non-WM-hypointensities\",\"Left-non-WM-hypointensities\",\"Right-non-WM-hypointensities\",\"Right-non-WM-hypointensities\",\"Right-non-WM-hypointensities\",\"Optic-Chiasm\",\"Optic-Chiasm\",\"Optic-Chiasm\",\"CC_Posterior\",\"CC_Posterior\",\"CC_Posterior\",\"CC_Mid_Posterior\",\"CC_Mid_Posterior\",\"CC_Mid_Posterior\",\"CC_Central\",\"CC_Central\",\"CC_Central\",\"CC_Mid_Anterior\",\"CC_Mid_Anterior\",\"CC_Mid_Anterior\",\"CC_Anterior\",\"CC_Anterior\",\"CC_Anterior\"],\"x0\":\" \",\"xaxis\":\"x\",\"y\":[980107.281317,903439.346811,1042570.916668,36647.69615,17805.592883,25576.548073,204580.125985,192301.355968,204876.401487,213219.579237,191040.035488,209801.86332,196262.102864,186254.064186,225695.507993,206063.094817,186594.74436,224281.291607,402325.197681,372848.808545,449976.799601,44579.309386,47839.710148,52740.738104,557499.642814,509031.309091,566747.807952,907305.992304,825551.687911,947874.383144,864832.899257,804324.185052,917514.055569,1165105.127261,1057417.848005,1210426.017162,987811.52958,852998.703136,960030.227245,15105.8,9840.9,11839.9,716.0,539.7,350.1,10939.2,11146.3,13703.1,47175.7,39232.4,49633.8,5938.8,6516.9,6780.6,2556.0,2883.6,3430.6,3897.8,4242.9,4588.4,1442.1,1724.8,1756.0,1892.2,894.5,1055.2,3017.1,1673.8,2279.8,16357.3,17220.1,19417.9,3046.7,3320.6,3806.2,876.5,991.1,1276.6,791.3,739.1,1420.2,343.7,424.0,675.4,3548.8,3669.3,3773.4,25.5,34.1,59.1,253.5,217.6,413.2,19138.5,6175.3,11893.7,885.3,558.4,550.1,10097.9,10936.6,12839.1,48530.6,39212.3,50158.1,5663.2,6479.4,6798.0,3087.6,2796.3,3851.9,4192.2,4196.5,4664.8,1430.1,1663.2,1671.0,3053.9,3622.6,3671.2,1488.5,1204.2,1269.4,260.7,362.1,591.4,3491.2,3665.9,3993.5,35.7,22.0,37.6,303.9,285.6,517.6,0.0,0.0,0.0,1603.0,1084.0,677.0,0.0,0.0,0.0,0.0,0.0,0.0,0.0,0.0,5.9,0.0,0.0,0.0,0.0,0.0,0.0,144.5,144.0,200.9,311.7,314.2,639.6,184.6,100.5,296.1,165.8,183.1,309.1,172.5,171.0,308.0,136.2,373.5,609.3],\"y0\":\" \",\"yaxis\":\"y\",\"type\":\"box\"}],                        {\"template\":{\"data\":{\"histogram2dcontour\":[{\"type\":\"histogram2dcontour\",\"colorbar\":{\"outlinewidth\":0,\"ticks\":\"\"},\"colorscale\":[[0.0,\"#0d0887\"],[0.1111111111111111,\"#46039f\"],[0.2222222222222222,\"#7201a8\"],[0.3333333333333333,\"#9c179e\"],[0.4444444444444444,\"#bd3786\"],[0.5555555555555556,\"#d8576b\"],[0.6666666666666666,\"#ed7953\"],[0.7777777777777778,\"#fb9f3a\"],[0.8888888888888888,\"#fdca26\"],[1.0,\"#f0f921\"]]}],\"choropleth\":[{\"type\":\"choropleth\",\"colorbar\":{\"outlinewidth\":0,\"ticks\":\"\"}}],\"histogram2d\":[{\"type\":\"histogram2d\",\"colorbar\":{\"outlinewidth\":0,\"ticks\":\"\"},\"colorscale\":[[0.0,\"#0d0887\"],[0.1111111111111111,\"#46039f\"],[0.2222222222222222,\"#7201a8\"],[0.3333333333333333,\"#9c179e\"],[0.4444444444444444,\"#bd3786\"],[0.5555555555555556,\"#d8576b\"],[0.6666666666666666,\"#ed7953\"],[0.7777777777777778,\"#fb9f3a\"],[0.8888888888888888,\"#fdca26\"],[1.0,\"#f0f921\"]]}],\"heatmap\":[{\"type\":\"heatmap\",\"colorbar\":{\"outlinewidth\":0,\"ticks\":\"\"},\"colorscale\":[[0.0,\"#0d0887\"],[0.1111111111111111,\"#46039f\"],[0.2222222222222222,\"#7201a8\"],[0.3333333333333333,\"#9c179e\"],[0.4444444444444444,\"#bd3786\"],[0.5555555555555556,\"#d8576b\"],[0.6666666666666666,\"#ed7953\"],[0.7777777777777778,\"#fb9f3a\"],[0.8888888888888888,\"#fdca26\"],[1.0,\"#f0f921\"]]}],\"heatmapgl\":[{\"type\":\"heatmapgl\",\"colorbar\":{\"outlinewidth\":0,\"ticks\":\"\"},\"colorscale\":[[0.0,\"#0d0887\"],[0.1111111111111111,\"#46039f\"],[0.2222222222222222,\"#7201a8\"],[0.3333333333333333,\"#9c179e\"],[0.4444444444444444,\"#bd3786\"],[0.5555555555555556,\"#d8576b\"],[0.6666666666666666,\"#ed7953\"],[0.7777777777777778,\"#fb9f3a\"],[0.8888888888888888,\"#fdca26\"],[1.0,\"#f0f921\"]]}],\"contourcarpet\":[{\"type\":\"contourcarpet\",\"colorbar\":{\"outlinewidth\":0,\"ticks\":\"\"}}],\"contour\":[{\"type\":\"contour\",\"colorbar\":{\"outlinewidth\":0,\"ticks\":\"\"},\"colorscale\":[[0.0,\"#0d0887\"],[0.1111111111111111,\"#46039f\"],[0.2222222222222222,\"#7201a8\"],[0.3333333333333333,\"#9c179e\"],[0.4444444444444444,\"#bd3786\"],[0.5555555555555556,\"#d8576b\"],[0.6666666666666666,\"#ed7953\"],[0.7777777777777778,\"#fb9f3a\"],[0.8888888888888888,\"#fdca26\"],[1.0,\"#f0f921\"]]}],\"surface\":[{\"type\":\"surface\",\"colorbar\":{\"outlinewidth\":0,\"ticks\":\"\"},\"colorscale\":[[0.0,\"#0d0887\"],[0.1111111111111111,\"#46039f\"],[0.2222222222222222,\"#7201a8\"],[0.3333333333333333,\"#9c179e\"],[0.4444444444444444,\"#bd3786\"],[0.5555555555555556,\"#d8576b\"],[0.6666666666666666,\"#ed7953\"],[0.7777777777777778,\"#fb9f3a\"],[0.8888888888888888,\"#fdca26\"],[1.0,\"#f0f921\"]]}],\"mesh3d\":[{\"type\":\"mesh3d\",\"colorbar\":{\"outlinewidth\":0,\"ticks\":\"\"}}],\"scatter\":[{\"fillpattern\":{\"fillmode\":\"overlay\",\"size\":10,\"solidity\":0.2},\"type\":\"scatter\"}],\"parcoords\":[{\"type\":\"parcoords\",\"line\":{\"colorbar\":{\"outlinewidth\":0,\"ticks\":\"\"}}}],\"scatterpolargl\":[{\"type\":\"scatterpolargl\",\"marker\":{\"colorbar\":{\"outlinewidth\":0,\"ticks\":\"\"}}}],\"bar\":[{\"error_x\":{\"color\":\"#2a3f5f\"},\"error_y\":{\"color\":\"#2a3f5f\"},\"marker\":{\"line\":{\"color\":\"#E5ECF6\",\"width\":0.5},\"pattern\":{\"fillmode\":\"overlay\",\"size\":10,\"solidity\":0.2}},\"type\":\"bar\"}],\"scattergeo\":[{\"type\":\"scattergeo\",\"marker\":{\"colorbar\":{\"outlinewidth\":0,\"ticks\":\"\"}}}],\"scatterpolar\":[{\"type\":\"scatterpolar\",\"marker\":{\"colorbar\":{\"outlinewidth\":0,\"ticks\":\"\"}}}],\"histogram\":[{\"marker\":{\"pattern\":{\"fillmode\":\"overlay\",\"size\":10,\"solidity\":0.2}},\"type\":\"histogram\"}],\"scattergl\":[{\"type\":\"scattergl\",\"marker\":{\"colorbar\":{\"outlinewidth\":0,\"ticks\":\"\"}}}],\"scatter3d\":[{\"type\":\"scatter3d\",\"line\":{\"colorbar\":{\"outlinewidth\":0,\"ticks\":\"\"}},\"marker\":{\"colorbar\":{\"outlinewidth\":0,\"ticks\":\"\"}}}],\"scattermapbox\":[{\"type\":\"scattermapbox\",\"marker\":{\"colorbar\":{\"outlinewidth\":0,\"ticks\":\"\"}}}],\"scatterternary\":[{\"type\":\"scatterternary\",\"marker\":{\"colorbar\":{\"outlinewidth\":0,\"ticks\":\"\"}}}],\"scattercarpet\":[{\"type\":\"scattercarpet\",\"marker\":{\"colorbar\":{\"outlinewidth\":0,\"ticks\":\"\"}}}],\"carpet\":[{\"aaxis\":{\"endlinecolor\":\"#2a3f5f\",\"gridcolor\":\"white\",\"linecolor\":\"white\",\"minorgridcolor\":\"white\",\"startlinecolor\":\"#2a3f5f\"},\"baxis\":{\"endlinecolor\":\"#2a3f5f\",\"gridcolor\":\"white\",\"linecolor\":\"white\",\"minorgridcolor\":\"white\",\"startlinecolor\":\"#2a3f5f\"},\"type\":\"carpet\"}],\"table\":[{\"cells\":{\"fill\":{\"color\":\"#EBF0F8\"},\"line\":{\"color\":\"white\"}},\"header\":{\"fill\":{\"color\":\"#C8D4E3\"},\"line\":{\"color\":\"white\"}},\"type\":\"table\"}],\"barpolar\":[{\"marker\":{\"line\":{\"color\":\"#E5ECF6\",\"width\":0.5},\"pattern\":{\"fillmode\":\"overlay\",\"size\":10,\"solidity\":0.2}},\"type\":\"barpolar\"}],\"pie\":[{\"automargin\":true,\"type\":\"pie\"}]},\"layout\":{\"autotypenumbers\":\"strict\",\"colorway\":[\"#636efa\",\"#EF553B\",\"#00cc96\",\"#ab63fa\",\"#FFA15A\",\"#19d3f3\",\"#FF6692\",\"#B6E880\",\"#FF97FF\",\"#FECB52\"],\"font\":{\"color\":\"#2a3f5f\"},\"hovermode\":\"closest\",\"hoverlabel\":{\"align\":\"left\"},\"paper_bgcolor\":\"white\",\"plot_bgcolor\":\"#E5ECF6\",\"polar\":{\"bgcolor\":\"#E5ECF6\",\"angularaxis\":{\"gridcolor\":\"white\",\"linecolor\":\"white\",\"ticks\":\"\"},\"radialaxis\":{\"gridcolor\":\"white\",\"linecolor\":\"white\",\"ticks\":\"\"}},\"ternary\":{\"bgcolor\":\"#E5ECF6\",\"aaxis\":{\"gridcolor\":\"white\",\"linecolor\":\"white\",\"ticks\":\"\"},\"baxis\":{\"gridcolor\":\"white\",\"linecolor\":\"white\",\"ticks\":\"\"},\"caxis\":{\"gridcolor\":\"white\",\"linecolor\":\"white\",\"ticks\":\"\"}},\"coloraxis\":{\"colorbar\":{\"outlinewidth\":0,\"ticks\":\"\"}},\"colorscale\":{\"sequential\":[[0.0,\"#0d0887\"],[0.1111111111111111,\"#46039f\"],[0.2222222222222222,\"#7201a8\"],[0.3333333333333333,\"#9c179e\"],[0.4444444444444444,\"#bd3786\"],[0.5555555555555556,\"#d8576b\"],[0.6666666666666666,\"#ed7953\"],[0.7777777777777778,\"#fb9f3a\"],[0.8888888888888888,\"#fdca26\"],[1.0,\"#f0f921\"]],\"sequentialminus\":[[0.0,\"#0d0887\"],[0.1111111111111111,\"#46039f\"],[0.2222222222222222,\"#7201a8\"],[0.3333333333333333,\"#9c179e\"],[0.4444444444444444,\"#bd3786\"],[0.5555555555555556,\"#d8576b\"],[0.6666666666666666,\"#ed7953\"],[0.7777777777777778,\"#fb9f3a\"],[0.8888888888888888,\"#fdca26\"],[1.0,\"#f0f921\"]],\"diverging\":[[0,\"#8e0152\"],[0.1,\"#c51b7d\"],[0.2,\"#de77ae\"],[0.3,\"#f1b6da\"],[0.4,\"#fde0ef\"],[0.5,\"#f7f7f7\"],[0.6,\"#e6f5d0\"],[0.7,\"#b8e186\"],[0.8,\"#7fbc41\"],[0.9,\"#4d9221\"],[1,\"#276419\"]]},\"xaxis\":{\"gridcolor\":\"white\",\"linecolor\":\"white\",\"ticks\":\"\",\"title\":{\"standoff\":15},\"zerolinecolor\":\"white\",\"automargin\":true,\"zerolinewidth\":2},\"yaxis\":{\"gridcolor\":\"white\",\"linecolor\":\"white\",\"ticks\":\"\",\"title\":{\"standoff\":15},\"zerolinecolor\":\"white\",\"automargin\":true,\"zerolinewidth\":2},\"scene\":{\"xaxis\":{\"backgroundcolor\":\"#E5ECF6\",\"gridcolor\":\"white\",\"linecolor\":\"white\",\"showbackground\":true,\"ticks\":\"\",\"zerolinecolor\":\"white\",\"gridwidth\":2},\"yaxis\":{\"backgroundcolor\":\"#E5ECF6\",\"gridcolor\":\"white\",\"linecolor\":\"white\",\"showbackground\":true,\"ticks\":\"\",\"zerolinecolor\":\"white\",\"gridwidth\":2},\"zaxis\":{\"backgroundcolor\":\"#E5ECF6\",\"gridcolor\":\"white\",\"linecolor\":\"white\",\"showbackground\":true,\"ticks\":\"\",\"zerolinecolor\":\"white\",\"gridwidth\":2}},\"shapedefaults\":{\"line\":{\"color\":\"#2a3f5f\"}},\"annotationdefaults\":{\"arrowcolor\":\"#2a3f5f\",\"arrowhead\":0,\"arrowwidth\":1},\"geo\":{\"bgcolor\":\"white\",\"landcolor\":\"#E5ECF6\",\"subunitcolor\":\"white\",\"showland\":true,\"showlakes\":true,\"lakecolor\":\"white\"},\"title\":{\"x\":0.05},\"mapbox\":{\"style\":\"light\"}}},\"xaxis\":{\"anchor\":\"y\",\"domain\":[0.0,1.0],\"title\":{\"text\":\"Region\"}},\"yaxis\":{\"anchor\":\"x\",\"domain\":[0.0,1.0],\"title\":{\"text\":\"Volume\"}},\"legend\":{\"tracegroupgap\":0},\"title\":{\"text\":\"Volume in mm3\"},\"boxmode\":\"overlay\"},                        {\"responsive\": true}                    ).then(function(){\n",
       "                            \n",
       "var gd = document.getElementById('d57e6aad-60f7-42ce-8d4b-063efbfd8ee3');\n",
       "var x = new MutationObserver(function (mutations, observer) {{\n",
       "        var display = window.getComputedStyle(gd).display;\n",
       "        if (!display || display === 'none') {{\n",
       "            console.log([gd, 'removed!']);\n",
       "            Plotly.purge(gd);\n",
       "            observer.disconnect();\n",
       "        }}\n",
       "}});\n",
       "\n",
       "// Listen for the removal of the full notebook cells\n",
       "var notebookContainer = gd.closest('#notebook-container');\n",
       "if (notebookContainer) {{\n",
       "    x.observe(notebookContainer, {childList: true});\n",
       "}}\n",
       "\n",
       "// Listen for the clearing of the current output cell\n",
       "var outputEl = gd.closest('.output');\n",
       "if (outputEl) {{\n",
       "    x.observe(outputEl, {childList: true});\n",
       "}}\n",
       "\n",
       "                        })                };                });            </script>        </div>"
      ]
     },
     "metadata": {},
     "output_type": "display_data"
    }
   ],
   "source": [
    "\n",
    "df_long = my_dataframe4.reset_index().melt(id_vars='subjects', var_name='Region', value_name='Volume')\n",
    "\n",
    "fig = px.box(df_long, x='Region', y='Volume', hover_name='subjects', boxmode=\"overlay\", points='all',\n",
    "             title='Volume in mm3')\n",
    "\n",
    "fig.show()"
   ]
  },
  {
   "cell_type": "code",
   "execution_count": 512,
   "metadata": {
    "vscode": {
     "languageId": "shellscript"
    }
   },
   "outputs": [
    {
     "data": {
      "application/vnd.plotly.v1+json": {
       "config": {
        "plotlyServerURL": "https://plot.ly"
       },
       "data": [
        {
         "alignmentgroup": "True",
         "boxpoints": "all",
         "hovertemplate": "<b>%{hovertext}</b><br><br>Sujet=%{x}<br>Volume (mm3)=%{y}<extra></extra>",
         "hovertext": [
          "BrainSegVolNotVent",
          "BrainSegVolNotVent",
          "BrainSegVolNotVent",
          "VentricleChoroidVol",
          "VentricleChoroidVol",
          "VentricleChoroidVol",
          "lhCortexVol",
          "lhCortexVol",
          "lhCortexVol",
          "rhCortexVol",
          "rhCortexVol",
          "rhCortexVol",
          "lhCerebralWhiteMatterVol",
          "lhCerebralWhiteMatterVol",
          "lhCerebralWhiteMatterVol",
          "rhCerebralWhiteMatterVol",
          "rhCerebralWhiteMatterVol",
          "rhCerebralWhiteMatterVol",
          "CerebralWhiteMatterVol",
          "CerebralWhiteMatterVol",
          "CerebralWhiteMatterVol",
          "SubCortGrayVol",
          "SubCortGrayVol",
          "SubCortGrayVol",
          "TotalGrayVol",
          "TotalGrayVol",
          "TotalGrayVol",
          "SupraTentorialVol",
          "SupraTentorialVol",
          "SupraTentorialVol",
          "SupraTentorialVolNotVent",
          "SupraTentorialVolNotVent",
          "SupraTentorialVolNotVent",
          "MaskVol",
          "MaskVol",
          "MaskVol",
          "eTIV",
          "eTIV",
          "eTIV",
          "Left-Lateral-Ventricle",
          "Left-Lateral-Ventricle",
          "Left-Lateral-Ventricle",
          "Left-Inf-Lat-Vent",
          "Left-Inf-Lat-Vent",
          "Left-Inf-Lat-Vent",
          "Left-Cerebellum-White-Matter",
          "Left-Cerebellum-White-Matter",
          "Left-Cerebellum-White-Matter",
          "Left-Cerebellum-Cortex",
          "Left-Cerebellum-Cortex",
          "Left-Cerebellum-Cortex",
          "Left-Thalamus",
          "Left-Thalamus",
          "Left-Thalamus",
          "Left-Caudate",
          "Left-Caudate",
          "Left-Caudate",
          "Left-Putamen",
          "Left-Putamen",
          "Left-Putamen",
          "Left-Pallidum",
          "Left-Pallidum",
          "Left-Pallidum",
          "3rd-Ventricle",
          "3rd-Ventricle",
          "3rd-Ventricle",
          "4th-Ventricle",
          "4th-Ventricle",
          "4th-Ventricle",
          "Brain-Stem",
          "Brain-Stem",
          "Brain-Stem",
          "Left-Hippocampus",
          "Left-Hippocampus",
          "Left-Hippocampus",
          "Left-Amygdala",
          "Left-Amygdala",
          "Left-Amygdala",
          "CSF",
          "CSF",
          "CSF",
          "Left-Accumbens-area",
          "Left-Accumbens-area",
          "Left-Accumbens-area",
          "Left-VentralDC",
          "Left-VentralDC",
          "Left-VentralDC",
          "Left-vessel",
          "Left-vessel",
          "Left-vessel",
          "Left-choroid-plexus",
          "Left-choroid-plexus",
          "Left-choroid-plexus",
          "Right-Lateral-Ventricle",
          "Right-Lateral-Ventricle",
          "Right-Lateral-Ventricle",
          "Right-Inf-Lat-Vent",
          "Right-Inf-Lat-Vent",
          "Right-Inf-Lat-Vent",
          "Right-Cerebellum-White-Matter",
          "Right-Cerebellum-White-Matter",
          "Right-Cerebellum-White-Matter",
          "Right-Cerebellum-Cortex",
          "Right-Cerebellum-Cortex",
          "Right-Cerebellum-Cortex",
          "Right-Thalamus",
          "Right-Thalamus",
          "Right-Thalamus",
          "Right-Caudate",
          "Right-Caudate",
          "Right-Caudate",
          "Right-Putamen",
          "Right-Putamen",
          "Right-Putamen",
          "Right-Pallidum",
          "Right-Pallidum",
          "Right-Pallidum",
          "Right-Hippocampus",
          "Right-Hippocampus",
          "Right-Hippocampus",
          "Right-Amygdala",
          "Right-Amygdala",
          "Right-Amygdala",
          "Right-Accumbens-area",
          "Right-Accumbens-area",
          "Right-Accumbens-area",
          "Right-VentralDC",
          "Right-VentralDC",
          "Right-VentralDC",
          "Right-vessel",
          "Right-vessel",
          "Right-vessel",
          "Right-choroid-plexus",
          "Right-choroid-plexus",
          "Right-choroid-plexus",
          "5th-Ventricle",
          "5th-Ventricle",
          "5th-Ventricle",
          "WM-hypointensities",
          "WM-hypointensities",
          "WM-hypointensities",
          "Left-WM-hypointensities",
          "Left-WM-hypointensities",
          "Left-WM-hypointensities",
          "Right-WM-hypointensities",
          "Right-WM-hypointensities",
          "Right-WM-hypointensities",
          "non-WM-hypointensities",
          "non-WM-hypointensities",
          "non-WM-hypointensities",
          "Left-non-WM-hypointensities",
          "Left-non-WM-hypointensities",
          "Left-non-WM-hypointensities",
          "Right-non-WM-hypointensities",
          "Right-non-WM-hypointensities",
          "Right-non-WM-hypointensities",
          "Optic-Chiasm",
          "Optic-Chiasm",
          "Optic-Chiasm",
          "CC_Posterior",
          "CC_Posterior",
          "CC_Posterior",
          "CC_Mid_Posterior",
          "CC_Mid_Posterior",
          "CC_Mid_Posterior",
          "CC_Central",
          "CC_Central",
          "CC_Central",
          "CC_Mid_Anterior",
          "CC_Mid_Anterior",
          "CC_Mid_Anterior",
          "CC_Anterior",
          "CC_Anterior",
          "CC_Anterior"
         ],
         "legendgroup": "",
         "marker": {
          "color": "#636efa"
         },
         "name": "",
         "notched": false,
         "offsetgroup": "",
         "orientation": "v",
         "showlegend": false,
         "type": "box",
         "x": [
          "01-59-P-V*202204131119",
          "01-68-P-N*202211080928",
          "01-66-L-Q*202109090853",
          "01-59-P-V*202204131119",
          "01-68-P-N*202211080928",
          "01-66-L-Q*202109090853",
          "01-59-P-V*202204131119",
          "01-68-P-N*202211080928",
          "01-66-L-Q*202109090853",
          "01-59-P-V*202204131119",
          "01-68-P-N*202211080928",
          "01-66-L-Q*202109090853",
          "01-59-P-V*202204131119",
          "01-68-P-N*202211080928",
          "01-66-L-Q*202109090853",
          "01-59-P-V*202204131119",
          "01-68-P-N*202211080928",
          "01-66-L-Q*202109090853",
          "01-59-P-V*202204131119",
          "01-68-P-N*202211080928",
          "01-66-L-Q*202109090853",
          "01-59-P-V*202204131119",
          "01-68-P-N*202211080928",
          "01-66-L-Q*202109090853",
          "01-59-P-V*202204131119",
          "01-68-P-N*202211080928",
          "01-66-L-Q*202109090853",
          "01-59-P-V*202204131119",
          "01-68-P-N*202211080928",
          "01-66-L-Q*202109090853",
          "01-59-P-V*202204131119",
          "01-68-P-N*202211080928",
          "01-66-L-Q*202109090853",
          "01-59-P-V*202204131119",
          "01-68-P-N*202211080928",
          "01-66-L-Q*202109090853",
          "01-59-P-V*202204131119",
          "01-68-P-N*202211080928",
          "01-66-L-Q*202109090853",
          "01-59-P-V*202204131119",
          "01-68-P-N*202211080928",
          "01-66-L-Q*202109090853",
          "01-59-P-V*202204131119",
          "01-68-P-N*202211080928",
          "01-66-L-Q*202109090853",
          "01-59-P-V*202204131119",
          "01-68-P-N*202211080928",
          "01-66-L-Q*202109090853",
          "01-59-P-V*202204131119",
          "01-68-P-N*202211080928",
          "01-66-L-Q*202109090853",
          "01-59-P-V*202204131119",
          "01-68-P-N*202211080928",
          "01-66-L-Q*202109090853",
          "01-59-P-V*202204131119",
          "01-68-P-N*202211080928",
          "01-66-L-Q*202109090853",
          "01-59-P-V*202204131119",
          "01-68-P-N*202211080928",
          "01-66-L-Q*202109090853",
          "01-59-P-V*202204131119",
          "01-68-P-N*202211080928",
          "01-66-L-Q*202109090853",
          "01-59-P-V*202204131119",
          "01-68-P-N*202211080928",
          "01-66-L-Q*202109090853",
          "01-59-P-V*202204131119",
          "01-68-P-N*202211080928",
          "01-66-L-Q*202109090853",
          "01-59-P-V*202204131119",
          "01-68-P-N*202211080928",
          "01-66-L-Q*202109090853",
          "01-59-P-V*202204131119",
          "01-68-P-N*202211080928",
          "01-66-L-Q*202109090853",
          "01-59-P-V*202204131119",
          "01-68-P-N*202211080928",
          "01-66-L-Q*202109090853",
          "01-59-P-V*202204131119",
          "01-68-P-N*202211080928",
          "01-66-L-Q*202109090853",
          "01-59-P-V*202204131119",
          "01-68-P-N*202211080928",
          "01-66-L-Q*202109090853",
          "01-59-P-V*202204131119",
          "01-68-P-N*202211080928",
          "01-66-L-Q*202109090853",
          "01-59-P-V*202204131119",
          "01-68-P-N*202211080928",
          "01-66-L-Q*202109090853",
          "01-59-P-V*202204131119",
          "01-68-P-N*202211080928",
          "01-66-L-Q*202109090853",
          "01-59-P-V*202204131119",
          "01-68-P-N*202211080928",
          "01-66-L-Q*202109090853",
          "01-59-P-V*202204131119",
          "01-68-P-N*202211080928",
          "01-66-L-Q*202109090853",
          "01-59-P-V*202204131119",
          "01-68-P-N*202211080928",
          "01-66-L-Q*202109090853",
          "01-59-P-V*202204131119",
          "01-68-P-N*202211080928",
          "01-66-L-Q*202109090853",
          "01-59-P-V*202204131119",
          "01-68-P-N*202211080928",
          "01-66-L-Q*202109090853",
          "01-59-P-V*202204131119",
          "01-68-P-N*202211080928",
          "01-66-L-Q*202109090853",
          "01-59-P-V*202204131119",
          "01-68-P-N*202211080928",
          "01-66-L-Q*202109090853",
          "01-59-P-V*202204131119",
          "01-68-P-N*202211080928",
          "01-66-L-Q*202109090853",
          "01-59-P-V*202204131119",
          "01-68-P-N*202211080928",
          "01-66-L-Q*202109090853",
          "01-59-P-V*202204131119",
          "01-68-P-N*202211080928",
          "01-66-L-Q*202109090853",
          "01-59-P-V*202204131119",
          "01-68-P-N*202211080928",
          "01-66-L-Q*202109090853",
          "01-59-P-V*202204131119",
          "01-68-P-N*202211080928",
          "01-66-L-Q*202109090853",
          "01-59-P-V*202204131119",
          "01-68-P-N*202211080928",
          "01-66-L-Q*202109090853",
          "01-59-P-V*202204131119",
          "01-68-P-N*202211080928",
          "01-66-L-Q*202109090853",
          "01-59-P-V*202204131119",
          "01-68-P-N*202211080928",
          "01-66-L-Q*202109090853",
          "01-59-P-V*202204131119",
          "01-68-P-N*202211080928",
          "01-66-L-Q*202109090853",
          "01-59-P-V*202204131119",
          "01-68-P-N*202211080928",
          "01-66-L-Q*202109090853",
          "01-59-P-V*202204131119",
          "01-68-P-N*202211080928",
          "01-66-L-Q*202109090853",
          "01-59-P-V*202204131119",
          "01-68-P-N*202211080928",
          "01-66-L-Q*202109090853",
          "01-59-P-V*202204131119",
          "01-68-P-N*202211080928",
          "01-66-L-Q*202109090853",
          "01-59-P-V*202204131119",
          "01-68-P-N*202211080928",
          "01-66-L-Q*202109090853",
          "01-59-P-V*202204131119",
          "01-68-P-N*202211080928",
          "01-66-L-Q*202109090853",
          "01-59-P-V*202204131119",
          "01-68-P-N*202211080928",
          "01-66-L-Q*202109090853",
          "01-59-P-V*202204131119",
          "01-68-P-N*202211080928",
          "01-66-L-Q*202109090853",
          "01-59-P-V*202204131119",
          "01-68-P-N*202211080928",
          "01-66-L-Q*202109090853",
          "01-59-P-V*202204131119",
          "01-68-P-N*202211080928",
          "01-66-L-Q*202109090853",
          "01-59-P-V*202204131119",
          "01-68-P-N*202211080928",
          "01-66-L-Q*202109090853"
         ],
         "x0": " ",
         "xaxis": "x",
         "y": [
          980107.281317,
          903439.346811,
          1042570.916668,
          36647.69615,
          17805.592883,
          25576.548073,
          204580.125985,
          192301.355968,
          204876.401487,
          213219.579237,
          191040.035488,
          209801.86332,
          196262.102864,
          186254.064186,
          225695.507993,
          206063.094817,
          186594.74436,
          224281.291607,
          402325.197681,
          372848.808545,
          449976.799601,
          44579.309386,
          47839.710148,
          52740.738104,
          557499.642814,
          509031.309091,
          566747.807952,
          907305.992304,
          825551.687911,
          947874.383144,
          864832.899257,
          804324.185052,
          917514.055569,
          1165105.127261,
          1057417.848005,
          1210426.017162,
          987811.52958,
          852998.703136,
          960030.227245,
          15105.8,
          9840.9,
          11839.9,
          716,
          539.7,
          350.1,
          10939.2,
          11146.3,
          13703.1,
          47175.7,
          39232.4,
          49633.8,
          5938.8,
          6516.9,
          6780.6,
          2556,
          2883.6,
          3430.6,
          3897.8,
          4242.9,
          4588.4,
          1442.1,
          1724.8,
          1756,
          1892.2,
          894.5,
          1055.2,
          3017.1,
          1673.8,
          2279.8,
          16357.3,
          17220.1,
          19417.9,
          3046.7,
          3320.6,
          3806.2,
          876.5,
          991.1,
          1276.6,
          791.3,
          739.1,
          1420.2,
          343.7,
          424,
          675.4,
          3548.8,
          3669.3,
          3773.4,
          25.5,
          34.1,
          59.1,
          253.5,
          217.6,
          413.2,
          19138.5,
          6175.3,
          11893.7,
          885.3,
          558.4,
          550.1,
          10097.9,
          10936.6,
          12839.1,
          48530.6,
          39212.3,
          50158.1,
          5663.2,
          6479.4,
          6798,
          3087.6,
          2796.3,
          3851.9,
          4192.2,
          4196.5,
          4664.8,
          1430.1,
          1663.2,
          1671,
          3053.9,
          3622.6,
          3671.2,
          1488.5,
          1204.2,
          1269.4,
          260.7,
          362.1,
          591.4,
          3491.2,
          3665.9,
          3993.5,
          35.7,
          22,
          37.6,
          303.9,
          285.6,
          517.6,
          0,
          0,
          0,
          1603,
          1084,
          677,
          0,
          0,
          0,
          0,
          0,
          0,
          0,
          0,
          5.9,
          0,
          0,
          0,
          0,
          0,
          0,
          144.5,
          144,
          200.9,
          311.7,
          314.2,
          639.6,
          184.6,
          100.5,
          296.1,
          165.8,
          183.1,
          309.1,
          172.5,
          171,
          308,
          136.2,
          373.5,
          609.3
         ],
         "y0": " ",
         "yaxis": "y"
        }
       ],
       "layout": {
        "boxmode": "overlay",
        "legend": {
         "tracegroupgap": 0
        },
        "template": {
         "data": {
          "bar": [
           {
            "error_x": {
             "color": "#2a3f5f"
            },
            "error_y": {
             "color": "#2a3f5f"
            },
            "marker": {
             "line": {
              "color": "#E5ECF6",
              "width": 0.5
             },
             "pattern": {
              "fillmode": "overlay",
              "size": 10,
              "solidity": 0.2
             }
            },
            "type": "bar"
           }
          ],
          "barpolar": [
           {
            "marker": {
             "line": {
              "color": "#E5ECF6",
              "width": 0.5
             },
             "pattern": {
              "fillmode": "overlay",
              "size": 10,
              "solidity": 0.2
             }
            },
            "type": "barpolar"
           }
          ],
          "carpet": [
           {
            "aaxis": {
             "endlinecolor": "#2a3f5f",
             "gridcolor": "white",
             "linecolor": "white",
             "minorgridcolor": "white",
             "startlinecolor": "#2a3f5f"
            },
            "baxis": {
             "endlinecolor": "#2a3f5f",
             "gridcolor": "white",
             "linecolor": "white",
             "minorgridcolor": "white",
             "startlinecolor": "#2a3f5f"
            },
            "type": "carpet"
           }
          ],
          "choropleth": [
           {
            "colorbar": {
             "outlinewidth": 0,
             "ticks": ""
            },
            "type": "choropleth"
           }
          ],
          "contour": [
           {
            "colorbar": {
             "outlinewidth": 0,
             "ticks": ""
            },
            "colorscale": [
             [
              0,
              "#0d0887"
             ],
             [
              0.1111111111111111,
              "#46039f"
             ],
             [
              0.2222222222222222,
              "#7201a8"
             ],
             [
              0.3333333333333333,
              "#9c179e"
             ],
             [
              0.4444444444444444,
              "#bd3786"
             ],
             [
              0.5555555555555556,
              "#d8576b"
             ],
             [
              0.6666666666666666,
              "#ed7953"
             ],
             [
              0.7777777777777778,
              "#fb9f3a"
             ],
             [
              0.8888888888888888,
              "#fdca26"
             ],
             [
              1,
              "#f0f921"
             ]
            ],
            "type": "contour"
           }
          ],
          "contourcarpet": [
           {
            "colorbar": {
             "outlinewidth": 0,
             "ticks": ""
            },
            "type": "contourcarpet"
           }
          ],
          "heatmap": [
           {
            "colorbar": {
             "outlinewidth": 0,
             "ticks": ""
            },
            "colorscale": [
             [
              0,
              "#0d0887"
             ],
             [
              0.1111111111111111,
              "#46039f"
             ],
             [
              0.2222222222222222,
              "#7201a8"
             ],
             [
              0.3333333333333333,
              "#9c179e"
             ],
             [
              0.4444444444444444,
              "#bd3786"
             ],
             [
              0.5555555555555556,
              "#d8576b"
             ],
             [
              0.6666666666666666,
              "#ed7953"
             ],
             [
              0.7777777777777778,
              "#fb9f3a"
             ],
             [
              0.8888888888888888,
              "#fdca26"
             ],
             [
              1,
              "#f0f921"
             ]
            ],
            "type": "heatmap"
           }
          ],
          "heatmapgl": [
           {
            "colorbar": {
             "outlinewidth": 0,
             "ticks": ""
            },
            "colorscale": [
             [
              0,
              "#0d0887"
             ],
             [
              0.1111111111111111,
              "#46039f"
             ],
             [
              0.2222222222222222,
              "#7201a8"
             ],
             [
              0.3333333333333333,
              "#9c179e"
             ],
             [
              0.4444444444444444,
              "#bd3786"
             ],
             [
              0.5555555555555556,
              "#d8576b"
             ],
             [
              0.6666666666666666,
              "#ed7953"
             ],
             [
              0.7777777777777778,
              "#fb9f3a"
             ],
             [
              0.8888888888888888,
              "#fdca26"
             ],
             [
              1,
              "#f0f921"
             ]
            ],
            "type": "heatmapgl"
           }
          ],
          "histogram": [
           {
            "marker": {
             "pattern": {
              "fillmode": "overlay",
              "size": 10,
              "solidity": 0.2
             }
            },
            "type": "histogram"
           }
          ],
          "histogram2d": [
           {
            "colorbar": {
             "outlinewidth": 0,
             "ticks": ""
            },
            "colorscale": [
             [
              0,
              "#0d0887"
             ],
             [
              0.1111111111111111,
              "#46039f"
             ],
             [
              0.2222222222222222,
              "#7201a8"
             ],
             [
              0.3333333333333333,
              "#9c179e"
             ],
             [
              0.4444444444444444,
              "#bd3786"
             ],
             [
              0.5555555555555556,
              "#d8576b"
             ],
             [
              0.6666666666666666,
              "#ed7953"
             ],
             [
              0.7777777777777778,
              "#fb9f3a"
             ],
             [
              0.8888888888888888,
              "#fdca26"
             ],
             [
              1,
              "#f0f921"
             ]
            ],
            "type": "histogram2d"
           }
          ],
          "histogram2dcontour": [
           {
            "colorbar": {
             "outlinewidth": 0,
             "ticks": ""
            },
            "colorscale": [
             [
              0,
              "#0d0887"
             ],
             [
              0.1111111111111111,
              "#46039f"
             ],
             [
              0.2222222222222222,
              "#7201a8"
             ],
             [
              0.3333333333333333,
              "#9c179e"
             ],
             [
              0.4444444444444444,
              "#bd3786"
             ],
             [
              0.5555555555555556,
              "#d8576b"
             ],
             [
              0.6666666666666666,
              "#ed7953"
             ],
             [
              0.7777777777777778,
              "#fb9f3a"
             ],
             [
              0.8888888888888888,
              "#fdca26"
             ],
             [
              1,
              "#f0f921"
             ]
            ],
            "type": "histogram2dcontour"
           }
          ],
          "mesh3d": [
           {
            "colorbar": {
             "outlinewidth": 0,
             "ticks": ""
            },
            "type": "mesh3d"
           }
          ],
          "parcoords": [
           {
            "line": {
             "colorbar": {
              "outlinewidth": 0,
              "ticks": ""
             }
            },
            "type": "parcoords"
           }
          ],
          "pie": [
           {
            "automargin": true,
            "type": "pie"
           }
          ],
          "scatter": [
           {
            "fillpattern": {
             "fillmode": "overlay",
             "size": 10,
             "solidity": 0.2
            },
            "type": "scatter"
           }
          ],
          "scatter3d": [
           {
            "line": {
             "colorbar": {
              "outlinewidth": 0,
              "ticks": ""
             }
            },
            "marker": {
             "colorbar": {
              "outlinewidth": 0,
              "ticks": ""
             }
            },
            "type": "scatter3d"
           }
          ],
          "scattercarpet": [
           {
            "marker": {
             "colorbar": {
              "outlinewidth": 0,
              "ticks": ""
             }
            },
            "type": "scattercarpet"
           }
          ],
          "scattergeo": [
           {
            "marker": {
             "colorbar": {
              "outlinewidth": 0,
              "ticks": ""
             }
            },
            "type": "scattergeo"
           }
          ],
          "scattergl": [
           {
            "marker": {
             "colorbar": {
              "outlinewidth": 0,
              "ticks": ""
             }
            },
            "type": "scattergl"
           }
          ],
          "scattermapbox": [
           {
            "marker": {
             "colorbar": {
              "outlinewidth": 0,
              "ticks": ""
             }
            },
            "type": "scattermapbox"
           }
          ],
          "scatterpolar": [
           {
            "marker": {
             "colorbar": {
              "outlinewidth": 0,
              "ticks": ""
             }
            },
            "type": "scatterpolar"
           }
          ],
          "scatterpolargl": [
           {
            "marker": {
             "colorbar": {
              "outlinewidth": 0,
              "ticks": ""
             }
            },
            "type": "scatterpolargl"
           }
          ],
          "scatterternary": [
           {
            "marker": {
             "colorbar": {
              "outlinewidth": 0,
              "ticks": ""
             }
            },
            "type": "scatterternary"
           }
          ],
          "surface": [
           {
            "colorbar": {
             "outlinewidth": 0,
             "ticks": ""
            },
            "colorscale": [
             [
              0,
              "#0d0887"
             ],
             [
              0.1111111111111111,
              "#46039f"
             ],
             [
              0.2222222222222222,
              "#7201a8"
             ],
             [
              0.3333333333333333,
              "#9c179e"
             ],
             [
              0.4444444444444444,
              "#bd3786"
             ],
             [
              0.5555555555555556,
              "#d8576b"
             ],
             [
              0.6666666666666666,
              "#ed7953"
             ],
             [
              0.7777777777777778,
              "#fb9f3a"
             ],
             [
              0.8888888888888888,
              "#fdca26"
             ],
             [
              1,
              "#f0f921"
             ]
            ],
            "type": "surface"
           }
          ],
          "table": [
           {
            "cells": {
             "fill": {
              "color": "#EBF0F8"
             },
             "line": {
              "color": "white"
             }
            },
            "header": {
             "fill": {
              "color": "#C8D4E3"
             },
             "line": {
              "color": "white"
             }
            },
            "type": "table"
           }
          ]
         },
         "layout": {
          "annotationdefaults": {
           "arrowcolor": "#2a3f5f",
           "arrowhead": 0,
           "arrowwidth": 1
          },
          "autotypenumbers": "strict",
          "coloraxis": {
           "colorbar": {
            "outlinewidth": 0,
            "ticks": ""
           }
          },
          "colorscale": {
           "diverging": [
            [
             0,
             "#8e0152"
            ],
            [
             0.1,
             "#c51b7d"
            ],
            [
             0.2,
             "#de77ae"
            ],
            [
             0.3,
             "#f1b6da"
            ],
            [
             0.4,
             "#fde0ef"
            ],
            [
             0.5,
             "#f7f7f7"
            ],
            [
             0.6,
             "#e6f5d0"
            ],
            [
             0.7,
             "#b8e186"
            ],
            [
             0.8,
             "#7fbc41"
            ],
            [
             0.9,
             "#4d9221"
            ],
            [
             1,
             "#276419"
            ]
           ],
           "sequential": [
            [
             0,
             "#0d0887"
            ],
            [
             0.1111111111111111,
             "#46039f"
            ],
            [
             0.2222222222222222,
             "#7201a8"
            ],
            [
             0.3333333333333333,
             "#9c179e"
            ],
            [
             0.4444444444444444,
             "#bd3786"
            ],
            [
             0.5555555555555556,
             "#d8576b"
            ],
            [
             0.6666666666666666,
             "#ed7953"
            ],
            [
             0.7777777777777778,
             "#fb9f3a"
            ],
            [
             0.8888888888888888,
             "#fdca26"
            ],
            [
             1,
             "#f0f921"
            ]
           ],
           "sequentialminus": [
            [
             0,
             "#0d0887"
            ],
            [
             0.1111111111111111,
             "#46039f"
            ],
            [
             0.2222222222222222,
             "#7201a8"
            ],
            [
             0.3333333333333333,
             "#9c179e"
            ],
            [
             0.4444444444444444,
             "#bd3786"
            ],
            [
             0.5555555555555556,
             "#d8576b"
            ],
            [
             0.6666666666666666,
             "#ed7953"
            ],
            [
             0.7777777777777778,
             "#fb9f3a"
            ],
            [
             0.8888888888888888,
             "#fdca26"
            ],
            [
             1,
             "#f0f921"
            ]
           ]
          },
          "colorway": [
           "#636efa",
           "#EF553B",
           "#00cc96",
           "#ab63fa",
           "#FFA15A",
           "#19d3f3",
           "#FF6692",
           "#B6E880",
           "#FF97FF",
           "#FECB52"
          ],
          "font": {
           "color": "#2a3f5f"
          },
          "geo": {
           "bgcolor": "white",
           "lakecolor": "white",
           "landcolor": "#E5ECF6",
           "showlakes": true,
           "showland": true,
           "subunitcolor": "white"
          },
          "hoverlabel": {
           "align": "left"
          },
          "hovermode": "closest",
          "mapbox": {
           "style": "light"
          },
          "paper_bgcolor": "white",
          "plot_bgcolor": "#E5ECF6",
          "polar": {
           "angularaxis": {
            "gridcolor": "white",
            "linecolor": "white",
            "ticks": ""
           },
           "bgcolor": "#E5ECF6",
           "radialaxis": {
            "gridcolor": "white",
            "linecolor": "white",
            "ticks": ""
           }
          },
          "scene": {
           "xaxis": {
            "backgroundcolor": "#E5ECF6",
            "gridcolor": "white",
            "gridwidth": 2,
            "linecolor": "white",
            "showbackground": true,
            "ticks": "",
            "zerolinecolor": "white"
           },
           "yaxis": {
            "backgroundcolor": "#E5ECF6",
            "gridcolor": "white",
            "gridwidth": 2,
            "linecolor": "white",
            "showbackground": true,
            "ticks": "",
            "zerolinecolor": "white"
           },
           "zaxis": {
            "backgroundcolor": "#E5ECF6",
            "gridcolor": "white",
            "gridwidth": 2,
            "linecolor": "white",
            "showbackground": true,
            "ticks": "",
            "zerolinecolor": "white"
           }
          },
          "shapedefaults": {
           "line": {
            "color": "#2a3f5f"
           }
          },
          "ternary": {
           "aaxis": {
            "gridcolor": "white",
            "linecolor": "white",
            "ticks": ""
           },
           "baxis": {
            "gridcolor": "white",
            "linecolor": "white",
            "ticks": ""
           },
           "bgcolor": "#E5ECF6",
           "caxis": {
            "gridcolor": "white",
            "linecolor": "white",
            "ticks": ""
           }
          },
          "title": {
           "x": 0.05
          },
          "xaxis": {
           "automargin": true,
           "gridcolor": "white",
           "linecolor": "white",
           "ticks": "",
           "title": {
            "standoff": 15
           },
           "zerolinecolor": "white",
           "zerolinewidth": 2
          },
          "yaxis": {
           "automargin": true,
           "gridcolor": "white",
           "linecolor": "white",
           "ticks": "",
           "title": {
            "standoff": 15
           },
           "zerolinecolor": "white",
           "zerolinewidth": 2
          }
         }
        },
        "title": {
         "text": "Volumes des régions par sujet"
        },
        "xaxis": {
         "anchor": "y",
         "domain": [
          0,
          1
         ],
         "title": {
          "text": "Sujet"
         }
        },
        "yaxis": {
         "anchor": "x",
         "domain": [
          0,
          1
         ],
         "title": {
          "text": "Volume (mm3)"
         }
        }
       }
      },
      "text/html": [
       "<div>                            <div id=\"cbae4bc8-fc28-44d7-bcfb-eadfd4d2741a\" class=\"plotly-graph-div\" style=\"height:525px; width:100%;\"></div>            <script type=\"text/javascript\">                require([\"plotly\"], function(Plotly) {                    window.PLOTLYENV=window.PLOTLYENV || {};                                    if (document.getElementById(\"cbae4bc8-fc28-44d7-bcfb-eadfd4d2741a\")) {                    Plotly.newPlot(                        \"cbae4bc8-fc28-44d7-bcfb-eadfd4d2741a\",                        [{\"alignmentgroup\":\"True\",\"boxpoints\":\"all\",\"hovertemplate\":\"\\u003cb\\u003e%{hovertext}\\u003c\\u002fb\\u003e\\u003cbr\\u003e\\u003cbr\\u003eSujet=%{x}\\u003cbr\\u003eVolume (mm3)=%{y}\\u003cextra\\u003e\\u003c\\u002fextra\\u003e\",\"hovertext\":[\"BrainSegVolNotVent\",\"BrainSegVolNotVent\",\"BrainSegVolNotVent\",\"VentricleChoroidVol\",\"VentricleChoroidVol\",\"VentricleChoroidVol\",\"lhCortexVol\",\"lhCortexVol\",\"lhCortexVol\",\"rhCortexVol\",\"rhCortexVol\",\"rhCortexVol\",\"lhCerebralWhiteMatterVol\",\"lhCerebralWhiteMatterVol\",\"lhCerebralWhiteMatterVol\",\"rhCerebralWhiteMatterVol\",\"rhCerebralWhiteMatterVol\",\"rhCerebralWhiteMatterVol\",\"CerebralWhiteMatterVol\",\"CerebralWhiteMatterVol\",\"CerebralWhiteMatterVol\",\"SubCortGrayVol\",\"SubCortGrayVol\",\"SubCortGrayVol\",\"TotalGrayVol\",\"TotalGrayVol\",\"TotalGrayVol\",\"SupraTentorialVol\",\"SupraTentorialVol\",\"SupraTentorialVol\",\"SupraTentorialVolNotVent\",\"SupraTentorialVolNotVent\",\"SupraTentorialVolNotVent\",\"MaskVol\",\"MaskVol\",\"MaskVol\",\"eTIV\",\"eTIV\",\"eTIV\",\"Left-Lateral-Ventricle\",\"Left-Lateral-Ventricle\",\"Left-Lateral-Ventricle\",\"Left-Inf-Lat-Vent\",\"Left-Inf-Lat-Vent\",\"Left-Inf-Lat-Vent\",\"Left-Cerebellum-White-Matter\",\"Left-Cerebellum-White-Matter\",\"Left-Cerebellum-White-Matter\",\"Left-Cerebellum-Cortex\",\"Left-Cerebellum-Cortex\",\"Left-Cerebellum-Cortex\",\"Left-Thalamus\",\"Left-Thalamus\",\"Left-Thalamus\",\"Left-Caudate\",\"Left-Caudate\",\"Left-Caudate\",\"Left-Putamen\",\"Left-Putamen\",\"Left-Putamen\",\"Left-Pallidum\",\"Left-Pallidum\",\"Left-Pallidum\",\"3rd-Ventricle\",\"3rd-Ventricle\",\"3rd-Ventricle\",\"4th-Ventricle\",\"4th-Ventricle\",\"4th-Ventricle\",\"Brain-Stem\",\"Brain-Stem\",\"Brain-Stem\",\"Left-Hippocampus\",\"Left-Hippocampus\",\"Left-Hippocampus\",\"Left-Amygdala\",\"Left-Amygdala\",\"Left-Amygdala\",\"CSF\",\"CSF\",\"CSF\",\"Left-Accumbens-area\",\"Left-Accumbens-area\",\"Left-Accumbens-area\",\"Left-VentralDC\",\"Left-VentralDC\",\"Left-VentralDC\",\"Left-vessel\",\"Left-vessel\",\"Left-vessel\",\"Left-choroid-plexus\",\"Left-choroid-plexus\",\"Left-choroid-plexus\",\"Right-Lateral-Ventricle\",\"Right-Lateral-Ventricle\",\"Right-Lateral-Ventricle\",\"Right-Inf-Lat-Vent\",\"Right-Inf-Lat-Vent\",\"Right-Inf-Lat-Vent\",\"Right-Cerebellum-White-Matter\",\"Right-Cerebellum-White-Matter\",\"Right-Cerebellum-White-Matter\",\"Right-Cerebellum-Cortex\",\"Right-Cerebellum-Cortex\",\"Right-Cerebellum-Cortex\",\"Right-Thalamus\",\"Right-Thalamus\",\"Right-Thalamus\",\"Right-Caudate\",\"Right-Caudate\",\"Right-Caudate\",\"Right-Putamen\",\"Right-Putamen\",\"Right-Putamen\",\"Right-Pallidum\",\"Right-Pallidum\",\"Right-Pallidum\",\"Right-Hippocampus\",\"Right-Hippocampus\",\"Right-Hippocampus\",\"Right-Amygdala\",\"Right-Amygdala\",\"Right-Amygdala\",\"Right-Accumbens-area\",\"Right-Accumbens-area\",\"Right-Accumbens-area\",\"Right-VentralDC\",\"Right-VentralDC\",\"Right-VentralDC\",\"Right-vessel\",\"Right-vessel\",\"Right-vessel\",\"Right-choroid-plexus\",\"Right-choroid-plexus\",\"Right-choroid-plexus\",\"5th-Ventricle\",\"5th-Ventricle\",\"5th-Ventricle\",\"WM-hypointensities\",\"WM-hypointensities\",\"WM-hypointensities\",\"Left-WM-hypointensities\",\"Left-WM-hypointensities\",\"Left-WM-hypointensities\",\"Right-WM-hypointensities\",\"Right-WM-hypointensities\",\"Right-WM-hypointensities\",\"non-WM-hypointensities\",\"non-WM-hypointensities\",\"non-WM-hypointensities\",\"Left-non-WM-hypointensities\",\"Left-non-WM-hypointensities\",\"Left-non-WM-hypointensities\",\"Right-non-WM-hypointensities\",\"Right-non-WM-hypointensities\",\"Right-non-WM-hypointensities\",\"Optic-Chiasm\",\"Optic-Chiasm\",\"Optic-Chiasm\",\"CC_Posterior\",\"CC_Posterior\",\"CC_Posterior\",\"CC_Mid_Posterior\",\"CC_Mid_Posterior\",\"CC_Mid_Posterior\",\"CC_Central\",\"CC_Central\",\"CC_Central\",\"CC_Mid_Anterior\",\"CC_Mid_Anterior\",\"CC_Mid_Anterior\",\"CC_Anterior\",\"CC_Anterior\",\"CC_Anterior\"],\"legendgroup\":\"\",\"marker\":{\"color\":\"#636efa\"},\"name\":\"\",\"notched\":false,\"offsetgroup\":\"\",\"orientation\":\"v\",\"showlegend\":false,\"x\":[\"01-59-P-V*202204131119\",\"01-68-P-N*202211080928\",\"01-66-L-Q*202109090853\",\"01-59-P-V*202204131119\",\"01-68-P-N*202211080928\",\"01-66-L-Q*202109090853\",\"01-59-P-V*202204131119\",\"01-68-P-N*202211080928\",\"01-66-L-Q*202109090853\",\"01-59-P-V*202204131119\",\"01-68-P-N*202211080928\",\"01-66-L-Q*202109090853\",\"01-59-P-V*202204131119\",\"01-68-P-N*202211080928\",\"01-66-L-Q*202109090853\",\"01-59-P-V*202204131119\",\"01-68-P-N*202211080928\",\"01-66-L-Q*202109090853\",\"01-59-P-V*202204131119\",\"01-68-P-N*202211080928\",\"01-66-L-Q*202109090853\",\"01-59-P-V*202204131119\",\"01-68-P-N*202211080928\",\"01-66-L-Q*202109090853\",\"01-59-P-V*202204131119\",\"01-68-P-N*202211080928\",\"01-66-L-Q*202109090853\",\"01-59-P-V*202204131119\",\"01-68-P-N*202211080928\",\"01-66-L-Q*202109090853\",\"01-59-P-V*202204131119\",\"01-68-P-N*202211080928\",\"01-66-L-Q*202109090853\",\"01-59-P-V*202204131119\",\"01-68-P-N*202211080928\",\"01-66-L-Q*202109090853\",\"01-59-P-V*202204131119\",\"01-68-P-N*202211080928\",\"01-66-L-Q*202109090853\",\"01-59-P-V*202204131119\",\"01-68-P-N*202211080928\",\"01-66-L-Q*202109090853\",\"01-59-P-V*202204131119\",\"01-68-P-N*202211080928\",\"01-66-L-Q*202109090853\",\"01-59-P-V*202204131119\",\"01-68-P-N*202211080928\",\"01-66-L-Q*202109090853\",\"01-59-P-V*202204131119\",\"01-68-P-N*202211080928\",\"01-66-L-Q*202109090853\",\"01-59-P-V*202204131119\",\"01-68-P-N*202211080928\",\"01-66-L-Q*202109090853\",\"01-59-P-V*202204131119\",\"01-68-P-N*202211080928\",\"01-66-L-Q*202109090853\",\"01-59-P-V*202204131119\",\"01-68-P-N*202211080928\",\"01-66-L-Q*202109090853\",\"01-59-P-V*202204131119\",\"01-68-P-N*202211080928\",\"01-66-L-Q*202109090853\",\"01-59-P-V*202204131119\",\"01-68-P-N*202211080928\",\"01-66-L-Q*202109090853\",\"01-59-P-V*202204131119\",\"01-68-P-N*202211080928\",\"01-66-L-Q*202109090853\",\"01-59-P-V*202204131119\",\"01-68-P-N*202211080928\",\"01-66-L-Q*202109090853\",\"01-59-P-V*202204131119\",\"01-68-P-N*202211080928\",\"01-66-L-Q*202109090853\",\"01-59-P-V*202204131119\",\"01-68-P-N*202211080928\",\"01-66-L-Q*202109090853\",\"01-59-P-V*202204131119\",\"01-68-P-N*202211080928\",\"01-66-L-Q*202109090853\",\"01-59-P-V*202204131119\",\"01-68-P-N*202211080928\",\"01-66-L-Q*202109090853\",\"01-59-P-V*202204131119\",\"01-68-P-N*202211080928\",\"01-66-L-Q*202109090853\",\"01-59-P-V*202204131119\",\"01-68-P-N*202211080928\",\"01-66-L-Q*202109090853\",\"01-59-P-V*202204131119\",\"01-68-P-N*202211080928\",\"01-66-L-Q*202109090853\",\"01-59-P-V*202204131119\",\"01-68-P-N*202211080928\",\"01-66-L-Q*202109090853\",\"01-59-P-V*202204131119\",\"01-68-P-N*202211080928\",\"01-66-L-Q*202109090853\",\"01-59-P-V*202204131119\",\"01-68-P-N*202211080928\",\"01-66-L-Q*202109090853\",\"01-59-P-V*202204131119\",\"01-68-P-N*202211080928\",\"01-66-L-Q*202109090853\",\"01-59-P-V*202204131119\",\"01-68-P-N*202211080928\",\"01-66-L-Q*202109090853\",\"01-59-P-V*202204131119\",\"01-68-P-N*202211080928\",\"01-66-L-Q*202109090853\",\"01-59-P-V*202204131119\",\"01-68-P-N*202211080928\",\"01-66-L-Q*202109090853\",\"01-59-P-V*202204131119\",\"01-68-P-N*202211080928\",\"01-66-L-Q*202109090853\",\"01-59-P-V*202204131119\",\"01-68-P-N*202211080928\",\"01-66-L-Q*202109090853\",\"01-59-P-V*202204131119\",\"01-68-P-N*202211080928\",\"01-66-L-Q*202109090853\",\"01-59-P-V*202204131119\",\"01-68-P-N*202211080928\",\"01-66-L-Q*202109090853\",\"01-59-P-V*202204131119\",\"01-68-P-N*202211080928\",\"01-66-L-Q*202109090853\",\"01-59-P-V*202204131119\",\"01-68-P-N*202211080928\",\"01-66-L-Q*202109090853\",\"01-59-P-V*202204131119\",\"01-68-P-N*202211080928\",\"01-66-L-Q*202109090853\",\"01-59-P-V*202204131119\",\"01-68-P-N*202211080928\",\"01-66-L-Q*202109090853\",\"01-59-P-V*202204131119\",\"01-68-P-N*202211080928\",\"01-66-L-Q*202109090853\",\"01-59-P-V*202204131119\",\"01-68-P-N*202211080928\",\"01-66-L-Q*202109090853\",\"01-59-P-V*202204131119\",\"01-68-P-N*202211080928\",\"01-66-L-Q*202109090853\",\"01-59-P-V*202204131119\",\"01-68-P-N*202211080928\",\"01-66-L-Q*202109090853\",\"01-59-P-V*202204131119\",\"01-68-P-N*202211080928\",\"01-66-L-Q*202109090853\",\"01-59-P-V*202204131119\",\"01-68-P-N*202211080928\",\"01-66-L-Q*202109090853\",\"01-59-P-V*202204131119\",\"01-68-P-N*202211080928\",\"01-66-L-Q*202109090853\",\"01-59-P-V*202204131119\",\"01-68-P-N*202211080928\",\"01-66-L-Q*202109090853\",\"01-59-P-V*202204131119\",\"01-68-P-N*202211080928\",\"01-66-L-Q*202109090853\",\"01-59-P-V*202204131119\",\"01-68-P-N*202211080928\",\"01-66-L-Q*202109090853\",\"01-59-P-V*202204131119\",\"01-68-P-N*202211080928\",\"01-66-L-Q*202109090853\",\"01-59-P-V*202204131119\",\"01-68-P-N*202211080928\",\"01-66-L-Q*202109090853\"],\"x0\":\" \",\"xaxis\":\"x\",\"y\":[980107.281317,903439.346811,1042570.916668,36647.69615,17805.592883,25576.548073,204580.125985,192301.355968,204876.401487,213219.579237,191040.035488,209801.86332,196262.102864,186254.064186,225695.507993,206063.094817,186594.74436,224281.291607,402325.197681,372848.808545,449976.799601,44579.309386,47839.710148,52740.738104,557499.642814,509031.309091,566747.807952,907305.992304,825551.687911,947874.383144,864832.899257,804324.185052,917514.055569,1165105.127261,1057417.848005,1210426.017162,987811.52958,852998.703136,960030.227245,15105.8,9840.9,11839.9,716.0,539.7,350.1,10939.2,11146.3,13703.1,47175.7,39232.4,49633.8,5938.8,6516.9,6780.6,2556.0,2883.6,3430.6,3897.8,4242.9,4588.4,1442.1,1724.8,1756.0,1892.2,894.5,1055.2,3017.1,1673.8,2279.8,16357.3,17220.1,19417.9,3046.7,3320.6,3806.2,876.5,991.1,1276.6,791.3,739.1,1420.2,343.7,424.0,675.4,3548.8,3669.3,3773.4,25.5,34.1,59.1,253.5,217.6,413.2,19138.5,6175.3,11893.7,885.3,558.4,550.1,10097.9,10936.6,12839.1,48530.6,39212.3,50158.1,5663.2,6479.4,6798.0,3087.6,2796.3,3851.9,4192.2,4196.5,4664.8,1430.1,1663.2,1671.0,3053.9,3622.6,3671.2,1488.5,1204.2,1269.4,260.7,362.1,591.4,3491.2,3665.9,3993.5,35.7,22.0,37.6,303.9,285.6,517.6,0.0,0.0,0.0,1603.0,1084.0,677.0,0.0,0.0,0.0,0.0,0.0,0.0,0.0,0.0,5.9,0.0,0.0,0.0,0.0,0.0,0.0,144.5,144.0,200.9,311.7,314.2,639.6,184.6,100.5,296.1,165.8,183.1,309.1,172.5,171.0,308.0,136.2,373.5,609.3],\"y0\":\" \",\"yaxis\":\"y\",\"type\":\"box\"}],                        {\"template\":{\"data\":{\"histogram2dcontour\":[{\"type\":\"histogram2dcontour\",\"colorbar\":{\"outlinewidth\":0,\"ticks\":\"\"},\"colorscale\":[[0.0,\"#0d0887\"],[0.1111111111111111,\"#46039f\"],[0.2222222222222222,\"#7201a8\"],[0.3333333333333333,\"#9c179e\"],[0.4444444444444444,\"#bd3786\"],[0.5555555555555556,\"#d8576b\"],[0.6666666666666666,\"#ed7953\"],[0.7777777777777778,\"#fb9f3a\"],[0.8888888888888888,\"#fdca26\"],[1.0,\"#f0f921\"]]}],\"choropleth\":[{\"type\":\"choropleth\",\"colorbar\":{\"outlinewidth\":0,\"ticks\":\"\"}}],\"histogram2d\":[{\"type\":\"histogram2d\",\"colorbar\":{\"outlinewidth\":0,\"ticks\":\"\"},\"colorscale\":[[0.0,\"#0d0887\"],[0.1111111111111111,\"#46039f\"],[0.2222222222222222,\"#7201a8\"],[0.3333333333333333,\"#9c179e\"],[0.4444444444444444,\"#bd3786\"],[0.5555555555555556,\"#d8576b\"],[0.6666666666666666,\"#ed7953\"],[0.7777777777777778,\"#fb9f3a\"],[0.8888888888888888,\"#fdca26\"],[1.0,\"#f0f921\"]]}],\"heatmap\":[{\"type\":\"heatmap\",\"colorbar\":{\"outlinewidth\":0,\"ticks\":\"\"},\"colorscale\":[[0.0,\"#0d0887\"],[0.1111111111111111,\"#46039f\"],[0.2222222222222222,\"#7201a8\"],[0.3333333333333333,\"#9c179e\"],[0.4444444444444444,\"#bd3786\"],[0.5555555555555556,\"#d8576b\"],[0.6666666666666666,\"#ed7953\"],[0.7777777777777778,\"#fb9f3a\"],[0.8888888888888888,\"#fdca26\"],[1.0,\"#f0f921\"]]}],\"heatmapgl\":[{\"type\":\"heatmapgl\",\"colorbar\":{\"outlinewidth\":0,\"ticks\":\"\"},\"colorscale\":[[0.0,\"#0d0887\"],[0.1111111111111111,\"#46039f\"],[0.2222222222222222,\"#7201a8\"],[0.3333333333333333,\"#9c179e\"],[0.4444444444444444,\"#bd3786\"],[0.5555555555555556,\"#d8576b\"],[0.6666666666666666,\"#ed7953\"],[0.7777777777777778,\"#fb9f3a\"],[0.8888888888888888,\"#fdca26\"],[1.0,\"#f0f921\"]]}],\"contourcarpet\":[{\"type\":\"contourcarpet\",\"colorbar\":{\"outlinewidth\":0,\"ticks\":\"\"}}],\"contour\":[{\"type\":\"contour\",\"colorbar\":{\"outlinewidth\":0,\"ticks\":\"\"},\"colorscale\":[[0.0,\"#0d0887\"],[0.1111111111111111,\"#46039f\"],[0.2222222222222222,\"#7201a8\"],[0.3333333333333333,\"#9c179e\"],[0.4444444444444444,\"#bd3786\"],[0.5555555555555556,\"#d8576b\"],[0.6666666666666666,\"#ed7953\"],[0.7777777777777778,\"#fb9f3a\"],[0.8888888888888888,\"#fdca26\"],[1.0,\"#f0f921\"]]}],\"surface\":[{\"type\":\"surface\",\"colorbar\":{\"outlinewidth\":0,\"ticks\":\"\"},\"colorscale\":[[0.0,\"#0d0887\"],[0.1111111111111111,\"#46039f\"],[0.2222222222222222,\"#7201a8\"],[0.3333333333333333,\"#9c179e\"],[0.4444444444444444,\"#bd3786\"],[0.5555555555555556,\"#d8576b\"],[0.6666666666666666,\"#ed7953\"],[0.7777777777777778,\"#fb9f3a\"],[0.8888888888888888,\"#fdca26\"],[1.0,\"#f0f921\"]]}],\"mesh3d\":[{\"type\":\"mesh3d\",\"colorbar\":{\"outlinewidth\":0,\"ticks\":\"\"}}],\"scatter\":[{\"fillpattern\":{\"fillmode\":\"overlay\",\"size\":10,\"solidity\":0.2},\"type\":\"scatter\"}],\"parcoords\":[{\"type\":\"parcoords\",\"line\":{\"colorbar\":{\"outlinewidth\":0,\"ticks\":\"\"}}}],\"scatterpolargl\":[{\"type\":\"scatterpolargl\",\"marker\":{\"colorbar\":{\"outlinewidth\":0,\"ticks\":\"\"}}}],\"bar\":[{\"error_x\":{\"color\":\"#2a3f5f\"},\"error_y\":{\"color\":\"#2a3f5f\"},\"marker\":{\"line\":{\"color\":\"#E5ECF6\",\"width\":0.5},\"pattern\":{\"fillmode\":\"overlay\",\"size\":10,\"solidity\":0.2}},\"type\":\"bar\"}],\"scattergeo\":[{\"type\":\"scattergeo\",\"marker\":{\"colorbar\":{\"outlinewidth\":0,\"ticks\":\"\"}}}],\"scatterpolar\":[{\"type\":\"scatterpolar\",\"marker\":{\"colorbar\":{\"outlinewidth\":0,\"ticks\":\"\"}}}],\"histogram\":[{\"marker\":{\"pattern\":{\"fillmode\":\"overlay\",\"size\":10,\"solidity\":0.2}},\"type\":\"histogram\"}],\"scattergl\":[{\"type\":\"scattergl\",\"marker\":{\"colorbar\":{\"outlinewidth\":0,\"ticks\":\"\"}}}],\"scatter3d\":[{\"type\":\"scatter3d\",\"line\":{\"colorbar\":{\"outlinewidth\":0,\"ticks\":\"\"}},\"marker\":{\"colorbar\":{\"outlinewidth\":0,\"ticks\":\"\"}}}],\"scattermapbox\":[{\"type\":\"scattermapbox\",\"marker\":{\"colorbar\":{\"outlinewidth\":0,\"ticks\":\"\"}}}],\"scatterternary\":[{\"type\":\"scatterternary\",\"marker\":{\"colorbar\":{\"outlinewidth\":0,\"ticks\":\"\"}}}],\"scattercarpet\":[{\"type\":\"scattercarpet\",\"marker\":{\"colorbar\":{\"outlinewidth\":0,\"ticks\":\"\"}}}],\"carpet\":[{\"aaxis\":{\"endlinecolor\":\"#2a3f5f\",\"gridcolor\":\"white\",\"linecolor\":\"white\",\"minorgridcolor\":\"white\",\"startlinecolor\":\"#2a3f5f\"},\"baxis\":{\"endlinecolor\":\"#2a3f5f\",\"gridcolor\":\"white\",\"linecolor\":\"white\",\"minorgridcolor\":\"white\",\"startlinecolor\":\"#2a3f5f\"},\"type\":\"carpet\"}],\"table\":[{\"cells\":{\"fill\":{\"color\":\"#EBF0F8\"},\"line\":{\"color\":\"white\"}},\"header\":{\"fill\":{\"color\":\"#C8D4E3\"},\"line\":{\"color\":\"white\"}},\"type\":\"table\"}],\"barpolar\":[{\"marker\":{\"line\":{\"color\":\"#E5ECF6\",\"width\":0.5},\"pattern\":{\"fillmode\":\"overlay\",\"size\":10,\"solidity\":0.2}},\"type\":\"barpolar\"}],\"pie\":[{\"automargin\":true,\"type\":\"pie\"}]},\"layout\":{\"autotypenumbers\":\"strict\",\"colorway\":[\"#636efa\",\"#EF553B\",\"#00cc96\",\"#ab63fa\",\"#FFA15A\",\"#19d3f3\",\"#FF6692\",\"#B6E880\",\"#FF97FF\",\"#FECB52\"],\"font\":{\"color\":\"#2a3f5f\"},\"hovermode\":\"closest\",\"hoverlabel\":{\"align\":\"left\"},\"paper_bgcolor\":\"white\",\"plot_bgcolor\":\"#E5ECF6\",\"polar\":{\"bgcolor\":\"#E5ECF6\",\"angularaxis\":{\"gridcolor\":\"white\",\"linecolor\":\"white\",\"ticks\":\"\"},\"radialaxis\":{\"gridcolor\":\"white\",\"linecolor\":\"white\",\"ticks\":\"\"}},\"ternary\":{\"bgcolor\":\"#E5ECF6\",\"aaxis\":{\"gridcolor\":\"white\",\"linecolor\":\"white\",\"ticks\":\"\"},\"baxis\":{\"gridcolor\":\"white\",\"linecolor\":\"white\",\"ticks\":\"\"},\"caxis\":{\"gridcolor\":\"white\",\"linecolor\":\"white\",\"ticks\":\"\"}},\"coloraxis\":{\"colorbar\":{\"outlinewidth\":0,\"ticks\":\"\"}},\"colorscale\":{\"sequential\":[[0.0,\"#0d0887\"],[0.1111111111111111,\"#46039f\"],[0.2222222222222222,\"#7201a8\"],[0.3333333333333333,\"#9c179e\"],[0.4444444444444444,\"#bd3786\"],[0.5555555555555556,\"#d8576b\"],[0.6666666666666666,\"#ed7953\"],[0.7777777777777778,\"#fb9f3a\"],[0.8888888888888888,\"#fdca26\"],[1.0,\"#f0f921\"]],\"sequentialminus\":[[0.0,\"#0d0887\"],[0.1111111111111111,\"#46039f\"],[0.2222222222222222,\"#7201a8\"],[0.3333333333333333,\"#9c179e\"],[0.4444444444444444,\"#bd3786\"],[0.5555555555555556,\"#d8576b\"],[0.6666666666666666,\"#ed7953\"],[0.7777777777777778,\"#fb9f3a\"],[0.8888888888888888,\"#fdca26\"],[1.0,\"#f0f921\"]],\"diverging\":[[0,\"#8e0152\"],[0.1,\"#c51b7d\"],[0.2,\"#de77ae\"],[0.3,\"#f1b6da\"],[0.4,\"#fde0ef\"],[0.5,\"#f7f7f7\"],[0.6,\"#e6f5d0\"],[0.7,\"#b8e186\"],[0.8,\"#7fbc41\"],[0.9,\"#4d9221\"],[1,\"#276419\"]]},\"xaxis\":{\"gridcolor\":\"white\",\"linecolor\":\"white\",\"ticks\":\"\",\"title\":{\"standoff\":15},\"zerolinecolor\":\"white\",\"automargin\":true,\"zerolinewidth\":2},\"yaxis\":{\"gridcolor\":\"white\",\"linecolor\":\"white\",\"ticks\":\"\",\"title\":{\"standoff\":15},\"zerolinecolor\":\"white\",\"automargin\":true,\"zerolinewidth\":2},\"scene\":{\"xaxis\":{\"backgroundcolor\":\"#E5ECF6\",\"gridcolor\":\"white\",\"linecolor\":\"white\",\"showbackground\":true,\"ticks\":\"\",\"zerolinecolor\":\"white\",\"gridwidth\":2},\"yaxis\":{\"backgroundcolor\":\"#E5ECF6\",\"gridcolor\":\"white\",\"linecolor\":\"white\",\"showbackground\":true,\"ticks\":\"\",\"zerolinecolor\":\"white\",\"gridwidth\":2},\"zaxis\":{\"backgroundcolor\":\"#E5ECF6\",\"gridcolor\":\"white\",\"linecolor\":\"white\",\"showbackground\":true,\"ticks\":\"\",\"zerolinecolor\":\"white\",\"gridwidth\":2}},\"shapedefaults\":{\"line\":{\"color\":\"#2a3f5f\"}},\"annotationdefaults\":{\"arrowcolor\":\"#2a3f5f\",\"arrowhead\":0,\"arrowwidth\":1},\"geo\":{\"bgcolor\":\"white\",\"landcolor\":\"#E5ECF6\",\"subunitcolor\":\"white\",\"showland\":true,\"showlakes\":true,\"lakecolor\":\"white\"},\"title\":{\"x\":0.05},\"mapbox\":{\"style\":\"light\"}}},\"xaxis\":{\"anchor\":\"y\",\"domain\":[0.0,1.0],\"title\":{\"text\":\"Sujet\"}},\"yaxis\":{\"anchor\":\"x\",\"domain\":[0.0,1.0],\"title\":{\"text\":\"Volume (mm3)\"}},\"legend\":{\"tracegroupgap\":0},\"title\":{\"text\":\"Volumes des r\\u00e9gions par sujet\"},\"boxmode\":\"overlay\"},                        {\"responsive\": true}                    ).then(function(){\n",
       "                            \n",
       "var gd = document.getElementById('cbae4bc8-fc28-44d7-bcfb-eadfd4d2741a');\n",
       "var x = new MutationObserver(function (mutations, observer) {{\n",
       "        var display = window.getComputedStyle(gd).display;\n",
       "        if (!display || display === 'none') {{\n",
       "            console.log([gd, 'removed!']);\n",
       "            Plotly.purge(gd);\n",
       "            observer.disconnect();\n",
       "        }}\n",
       "}});\n",
       "\n",
       "// Listen for the removal of the full notebook cells\n",
       "var notebookContainer = gd.closest('#notebook-container');\n",
       "if (notebookContainer) {{\n",
       "    x.observe(notebookContainer, {childList: true});\n",
       "}}\n",
       "\n",
       "// Listen for the clearing of the current output cell\n",
       "var outputEl = gd.closest('.output');\n",
       "if (outputEl) {{\n",
       "    x.observe(outputEl, {childList: true});\n",
       "}}\n",
       "\n",
       "                        })                };                });            </script>        </div>"
      ]
     },
     "metadata": {},
     "output_type": "display_data"
    }
   ],
   "source": [
    "df_long = my_dataframe4.reset_index().melt(id_vars='subjects', var_name='Region', value_name='Volume')\n",
    "\n",
    "# Tracer les données avec Plotly Express\n",
    "fig = px.box(df_long, x='subjects', y='Volume', hover_name='Region', boxmode=\"overlay\", points='all',\n",
    "                 title='Volumes des régions par sujet', labels={'subjects': 'Sujet', 'Volume': 'Volume (mm3)'})\n",
    "fig.show()"
   ]
  },
  {
   "cell_type": "code",
   "execution_count": 537,
   "metadata": {
    "vscode": {
     "languageId": "shellscript"
    }
   },
   "outputs": [
    {
     "data": {
      "application/vnd.jupyter.widget-view+json": {
       "model_id": "01994d6cfb014220a79ceac0433e2f2f",
       "version_major": 2,
       "version_minor": 0
      },
      "text/plain": [
       "VBox(children=(Dropdown(description='Subjects:', options=('01-59-P-V*202204131119', '01-66-L-Q*202109090853', …"
      ]
     },
     "metadata": {},
     "output_type": "display_data"
    }
   ],
   "source": [
    "import pandas as pd\n",
    "import plotly.graph_objects as go\n",
    "import ipywidgets as widgets\n",
    "\n",
    "# Suppose you already have your DataFrame df\n",
    "df = my_dataframe4\n",
    "\n",
    "# Define unique values for the dropdown fields\n",
    "unique_subjects = sorted(df.index.unique())\n",
    "\n",
    "# Define dropdown fields for each column of your DataFrame\n",
    "subjects_dropdown = widgets.Dropdown(options=unique_subjects, description='Subjects:')\n",
    "\n",
    "# Create output widget for the table\n",
    "table_output = widgets.Output()\n",
    "\n",
    "# Display initial table\n",
    "with table_output:\n",
    "    selected_subject = unique_subjects[0]\n",
    "    filtered_df = df.loc[[selected_subject]]\n",
    "    regions = filtered_df.columns\n",
    "    volumes = filtered_df.values.flatten()\n",
    "    data = {'Regions': regions, 'Volume': volumes}\n",
    "    table = go.FigureWidget(data=[go.Table(\n",
    "        header=dict(values=list(data.keys())),\n",
    "        cells=dict(values=[data['Regions'], data['Volume']])\n",
    "    )])\n",
    "    table.update_layout(title='Volume by Region for Subject: ' + selected_subject)\n",
    "    display(table)\n",
    "\n",
    "# Define function to update the table based on dropdown value\n",
    "def update_table(change):\n",
    "    selected_subject = subjects_dropdown.value\n",
    "    filtered_df = df.loc[[selected_subject]]\n",
    "    regions = filtered_df.columns\n",
    "    volumes = filtered_df.values.flatten()\n",
    "    data = {'Regions': regions, 'Volume': volumes}\n",
    "    with table_output:\n",
    "        table.data[0].cells.values = [data['Regions'], data['Volume']]\n",
    "        table.update_layout(title='Volume by Region for Subject: ' + selected_subject)\n",
    "\n",
    "# Observe changes in dropdown value\n",
    "subjects_dropdown.observe(update_table, names=\"value\")\n",
    "\n",
    "# Display dropdown and table output\n",
    "display(widgets.VBox([subjects_dropdown, table_output]))\n"
   ]
  },
  {
   "cell_type": "code",
   "execution_count": 536,
   "metadata": {
    "vscode": {
     "languageId": "shellscript"
    }
   },
   "outputs": [
    {
     "data": {
      "application/vnd.jupyter.widget-view+json": {
       "model_id": "603c59745922448c93a77697e5b45000",
       "version_major": 2,
       "version_minor": 0
      },
      "text/plain": [
       "VBox(children=(Dropdown(description='Sujets:', options=('01-59-P-V', '01-66-L-Q', '01-68-P-N'), value='01-59-P…"
      ]
     },
     "execution_count": 536,
     "metadata": {},
     "output_type": "execute_result"
    },
    {
     "ename": "KeyError",
     "evalue": "'Sujets'",
     "output_type": "error",
     "traceback": [
      "\u001b[0;31m---------------------------------------------------------------------------\u001b[0m",
      "\u001b[0;31mKeyError\u001b[0m                                  Traceback (most recent call last)",
      "File \u001b[0;32m~/miniconda3/lib/python3.10/site-packages/pandas/core/indexes/base.py:3802\u001b[0m, in \u001b[0;36mIndex.get_loc\u001b[0;34m(self, key)\u001b[0m\n\u001b[1;32m   3801\u001b[0m \u001b[38;5;28;01mtry\u001b[39;00m:\n\u001b[0;32m-> 3802\u001b[0m     \u001b[38;5;28;01mreturn\u001b[39;00m \u001b[38;5;28;43mself\u001b[39;49m\u001b[38;5;241;43m.\u001b[39;49m\u001b[43m_engine\u001b[49m\u001b[38;5;241;43m.\u001b[39;49m\u001b[43mget_loc\u001b[49m\u001b[43m(\u001b[49m\u001b[43mcasted_key\u001b[49m\u001b[43m)\u001b[49m\n\u001b[1;32m   3803\u001b[0m \u001b[38;5;28;01mexcept\u001b[39;00m \u001b[38;5;167;01mKeyError\u001b[39;00m \u001b[38;5;28;01mas\u001b[39;00m err:\n",
      "File \u001b[0;32mindex.pyx:153\u001b[0m, in \u001b[0;36mpandas._libs.index.IndexEngine.get_loc\u001b[0;34m()\u001b[0m\n",
      "File \u001b[0;32mindex.pyx:182\u001b[0m, in \u001b[0;36mpandas._libs.index.IndexEngine.get_loc\u001b[0;34m()\u001b[0m\n",
      "File \u001b[0;32mpandas/_libs/hashtable_class_helper.pxi:7081\u001b[0m, in \u001b[0;36mpandas._libs.hashtable.PyObjectHashTable.get_item\u001b[0;34m()\u001b[0m\n",
      "File \u001b[0;32mpandas/_libs/hashtable_class_helper.pxi:7089\u001b[0m, in \u001b[0;36mpandas._libs.hashtable.PyObjectHashTable.get_item\u001b[0;34m()\u001b[0m\n",
      "\u001b[0;31mKeyError\u001b[0m: 'Sujets'",
      "\nThe above exception was the direct cause of the following exception:\n",
      "\u001b[0;31mKeyError\u001b[0m                                  Traceback (most recent call last)",
      "File \u001b[0;32m~/miniconda3/lib/python3.10/site-packages/ipywidgets/widgets/widget.py:773\u001b[0m, in \u001b[0;36mWidget._handle_msg\u001b[0;34m(self, msg)\u001b[0m\n\u001b[1;32m    771\u001b[0m         \u001b[38;5;28;01mif\u001b[39;00m \u001b[38;5;124m'\u001b[39m\u001b[38;5;124mbuffer_paths\u001b[39m\u001b[38;5;124m'\u001b[39m \u001b[38;5;129;01min\u001b[39;00m data:\n\u001b[1;32m    772\u001b[0m             _put_buffers(state, data[\u001b[38;5;124m'\u001b[39m\u001b[38;5;124mbuffer_paths\u001b[39m\u001b[38;5;124m'\u001b[39m], msg[\u001b[38;5;124m'\u001b[39m\u001b[38;5;124mbuffers\u001b[39m\u001b[38;5;124m'\u001b[39m])\n\u001b[0;32m--> 773\u001b[0m         \u001b[38;5;28;43mself\u001b[39;49m\u001b[38;5;241;43m.\u001b[39;49m\u001b[43mset_state\u001b[49m\u001b[43m(\u001b[49m\u001b[43mstate\u001b[49m\u001b[43m)\u001b[49m\n\u001b[1;32m    775\u001b[0m \u001b[38;5;66;03m# Handle a state request.\u001b[39;00m\n\u001b[1;32m    776\u001b[0m \u001b[38;5;28;01melif\u001b[39;00m method \u001b[38;5;241m==\u001b[39m \u001b[38;5;124m'\u001b[39m\u001b[38;5;124mrequest_state\u001b[39m\u001b[38;5;124m'\u001b[39m:\n",
      "File \u001b[0;32m~/miniconda3/lib/python3.10/site-packages/ipywidgets/widgets/widget.py:650\u001b[0m, in \u001b[0;36mWidget.set_state\u001b[0;34m(self, sync_data)\u001b[0m\n\u001b[1;32m    645\u001b[0m         \u001b[38;5;28mself\u001b[39m\u001b[38;5;241m.\u001b[39m_send(msg, buffers\u001b[38;5;241m=\u001b[39mecho_buffers)\n\u001b[1;32m    647\u001b[0m \u001b[38;5;66;03m# The order of these context managers is important. Properties must\u001b[39;00m\n\u001b[1;32m    648\u001b[0m \u001b[38;5;66;03m# be locked when the hold_trait_notification context manager is\u001b[39;00m\n\u001b[1;32m    649\u001b[0m \u001b[38;5;66;03m# released and notifications are fired.\u001b[39;00m\n\u001b[0;32m--> 650\u001b[0m \u001b[38;5;28;01mwith\u001b[39;00m \u001b[38;5;28mself\u001b[39m\u001b[38;5;241m.\u001b[39m_lock_property(\u001b[38;5;241m*\u001b[39m\u001b[38;5;241m*\u001b[39msync_data), \u001b[38;5;28mself\u001b[39m\u001b[38;5;241m.\u001b[39mhold_trait_notifications():\n\u001b[1;32m    651\u001b[0m     \u001b[38;5;28;01mfor\u001b[39;00m name \u001b[38;5;129;01min\u001b[39;00m sync_data:\n\u001b[1;32m    652\u001b[0m         \u001b[38;5;28;01mif\u001b[39;00m name \u001b[38;5;129;01min\u001b[39;00m \u001b[38;5;28mself\u001b[39m\u001b[38;5;241m.\u001b[39mkeys:\n",
      "File \u001b[0;32m~/miniconda3/lib/python3.10/contextlib.py:142\u001b[0m, in \u001b[0;36m_GeneratorContextManager.__exit__\u001b[0;34m(self, typ, value, traceback)\u001b[0m\n\u001b[1;32m    140\u001b[0m \u001b[38;5;28;01mif\u001b[39;00m typ \u001b[38;5;129;01mis\u001b[39;00m \u001b[38;5;28;01mNone\u001b[39;00m:\n\u001b[1;32m    141\u001b[0m     \u001b[38;5;28;01mtry\u001b[39;00m:\n\u001b[0;32m--> 142\u001b[0m         \u001b[38;5;28;43mnext\u001b[39;49m\u001b[43m(\u001b[49m\u001b[38;5;28;43mself\u001b[39;49m\u001b[38;5;241;43m.\u001b[39;49m\u001b[43mgen\u001b[49m\u001b[43m)\u001b[49m\n\u001b[1;32m    143\u001b[0m     \u001b[38;5;28;01mexcept\u001b[39;00m \u001b[38;5;167;01mStopIteration\u001b[39;00m:\n\u001b[1;32m    144\u001b[0m         \u001b[38;5;28;01mreturn\u001b[39;00m \u001b[38;5;28;01mFalse\u001b[39;00m\n",
      "File \u001b[0;32m~/miniconda3/lib/python3.10/site-packages/traitlets/traitlets.py:1510\u001b[0m, in \u001b[0;36mHasTraits.hold_trait_notifications\u001b[0;34m(self)\u001b[0m\n\u001b[1;32m   1508\u001b[0m \u001b[38;5;28;01mfor\u001b[39;00m changes \u001b[38;5;129;01min\u001b[39;00m cache\u001b[38;5;241m.\u001b[39mvalues():\n\u001b[1;32m   1509\u001b[0m     \u001b[38;5;28;01mfor\u001b[39;00m change \u001b[38;5;129;01min\u001b[39;00m changes:\n\u001b[0;32m-> 1510\u001b[0m         \u001b[38;5;28;43mself\u001b[39;49m\u001b[38;5;241;43m.\u001b[39;49m\u001b[43mnotify_change\u001b[49m\u001b[43m(\u001b[49m\u001b[43mchange\u001b[49m\u001b[43m)\u001b[49m\n",
      "File \u001b[0;32m~/miniconda3/lib/python3.10/site-packages/ipywidgets/widgets/widget.py:701\u001b[0m, in \u001b[0;36mWidget.notify_change\u001b[0;34m(self, change)\u001b[0m\n\u001b[1;32m    698\u001b[0m     \u001b[38;5;28;01mif\u001b[39;00m name \u001b[38;5;129;01min\u001b[39;00m \u001b[38;5;28mself\u001b[39m\u001b[38;5;241m.\u001b[39mkeys \u001b[38;5;129;01mand\u001b[39;00m \u001b[38;5;28mself\u001b[39m\u001b[38;5;241m.\u001b[39m_should_send_property(name, \u001b[38;5;28mgetattr\u001b[39m(\u001b[38;5;28mself\u001b[39m, name)):\n\u001b[1;32m    699\u001b[0m         \u001b[38;5;66;03m# Send new state to front-end\u001b[39;00m\n\u001b[1;32m    700\u001b[0m         \u001b[38;5;28mself\u001b[39m\u001b[38;5;241m.\u001b[39msend_state(key\u001b[38;5;241m=\u001b[39mname)\n\u001b[0;32m--> 701\u001b[0m \u001b[38;5;28;43msuper\u001b[39;49m\u001b[43m(\u001b[49m\u001b[43m)\u001b[49m\u001b[38;5;241;43m.\u001b[39;49m\u001b[43mnotify_change\u001b[49m\u001b[43m(\u001b[49m\u001b[43mchange\u001b[49m\u001b[43m)\u001b[49m\n",
      "File \u001b[0;32m~/miniconda3/lib/python3.10/site-packages/traitlets/traitlets.py:1525\u001b[0m, in \u001b[0;36mHasTraits.notify_change\u001b[0;34m(self, change)\u001b[0m\n\u001b[1;32m   1523\u001b[0m \u001b[38;5;28;01mdef\u001b[39;00m \u001b[38;5;21mnotify_change\u001b[39m(\u001b[38;5;28mself\u001b[39m, change: Bunch) \u001b[38;5;241m-\u001b[39m\u001b[38;5;241m>\u001b[39m \u001b[38;5;28;01mNone\u001b[39;00m:\n\u001b[1;32m   1524\u001b[0m \u001b[38;5;250m    \u001b[39m\u001b[38;5;124;03m\"\"\"Notify observers of a change event\"\"\"\u001b[39;00m\n\u001b[0;32m-> 1525\u001b[0m     \u001b[38;5;28;01mreturn\u001b[39;00m \u001b[38;5;28;43mself\u001b[39;49m\u001b[38;5;241;43m.\u001b[39;49m\u001b[43m_notify_observers\u001b[49m\u001b[43m(\u001b[49m\u001b[43mchange\u001b[49m\u001b[43m)\u001b[49m\n",
      "File \u001b[0;32m~/miniconda3/lib/python3.10/site-packages/traitlets/traitlets.py:1568\u001b[0m, in \u001b[0;36mHasTraits._notify_observers\u001b[0;34m(self, event)\u001b[0m\n\u001b[1;32m   1565\u001b[0m \u001b[38;5;28;01melif\u001b[39;00m \u001b[38;5;28misinstance\u001b[39m(c, EventHandler) \u001b[38;5;129;01mand\u001b[39;00m c\u001b[38;5;241m.\u001b[39mname \u001b[38;5;129;01mis\u001b[39;00m \u001b[38;5;129;01mnot\u001b[39;00m \u001b[38;5;28;01mNone\u001b[39;00m:\n\u001b[1;32m   1566\u001b[0m     c \u001b[38;5;241m=\u001b[39m \u001b[38;5;28mgetattr\u001b[39m(\u001b[38;5;28mself\u001b[39m, c\u001b[38;5;241m.\u001b[39mname)\n\u001b[0;32m-> 1568\u001b[0m \u001b[43mc\u001b[49m\u001b[43m(\u001b[49m\u001b[43mevent\u001b[49m\u001b[43m)\u001b[49m\n",
      "File \u001b[0;32m~/miniconda3/lib/python3.10/site-packages/ipywidgets/widgets/widget_selection.py:236\u001b[0m, in \u001b[0;36m_Selection._propagate_index\u001b[0;34m(self, change)\u001b[0m\n\u001b[1;32m    234\u001b[0m     \u001b[38;5;28mself\u001b[39m\u001b[38;5;241m.\u001b[39mlabel \u001b[38;5;241m=\u001b[39m label\n\u001b[1;32m    235\u001b[0m \u001b[38;5;28;01mif\u001b[39;00m \u001b[38;5;28mself\u001b[39m\u001b[38;5;241m.\u001b[39mvalue \u001b[38;5;129;01mis\u001b[39;00m \u001b[38;5;129;01mnot\u001b[39;00m value:\n\u001b[0;32m--> 236\u001b[0m     \u001b[38;5;28;43mself\u001b[39;49m\u001b[38;5;241;43m.\u001b[39;49m\u001b[43mvalue\u001b[49m \u001b[38;5;241m=\u001b[39m value\n",
      "File \u001b[0;32m~/miniconda3/lib/python3.10/site-packages/traitlets/traitlets.py:716\u001b[0m, in \u001b[0;36mTraitType.__set__\u001b[0;34m(self, obj, value)\u001b[0m\n\u001b[1;32m    714\u001b[0m \u001b[38;5;28;01mif\u001b[39;00m \u001b[38;5;28mself\u001b[39m\u001b[38;5;241m.\u001b[39mread_only:\n\u001b[1;32m    715\u001b[0m     \u001b[38;5;28;01mraise\u001b[39;00m TraitError(\u001b[38;5;124m'\u001b[39m\u001b[38;5;124mThe \u001b[39m\u001b[38;5;124m\"\u001b[39m\u001b[38;5;132;01m%s\u001b[39;00m\u001b[38;5;124m\"\u001b[39m\u001b[38;5;124m trait is read-only.\u001b[39m\u001b[38;5;124m'\u001b[39m \u001b[38;5;241m%\u001b[39m \u001b[38;5;28mself\u001b[39m\u001b[38;5;241m.\u001b[39mname)\n\u001b[0;32m--> 716\u001b[0m \u001b[38;5;28;43mself\u001b[39;49m\u001b[38;5;241;43m.\u001b[39;49m\u001b[43mset\u001b[49m\u001b[43m(\u001b[49m\u001b[43mobj\u001b[49m\u001b[43m,\u001b[49m\u001b[43m \u001b[49m\u001b[43mvalue\u001b[49m\u001b[43m)\u001b[49m\n",
      "File \u001b[0;32m~/miniconda3/lib/python3.10/site-packages/traitlets/traitlets.py:706\u001b[0m, in \u001b[0;36mTraitType.set\u001b[0;34m(self, obj, value)\u001b[0m\n\u001b[1;32m    702\u001b[0m     silent \u001b[38;5;241m=\u001b[39m \u001b[38;5;28;01mFalse\u001b[39;00m\n\u001b[1;32m    703\u001b[0m \u001b[38;5;28;01mif\u001b[39;00m silent \u001b[38;5;129;01mis\u001b[39;00m \u001b[38;5;129;01mnot\u001b[39;00m \u001b[38;5;28;01mTrue\u001b[39;00m:\n\u001b[1;32m    704\u001b[0m     \u001b[38;5;66;03m# we explicitly compare silent to True just in case the equality\u001b[39;00m\n\u001b[1;32m    705\u001b[0m     \u001b[38;5;66;03m# comparison above returns something other than True/False\u001b[39;00m\n\u001b[0;32m--> 706\u001b[0m     \u001b[43mobj\u001b[49m\u001b[38;5;241;43m.\u001b[39;49m\u001b[43m_notify_trait\u001b[49m\u001b[43m(\u001b[49m\u001b[38;5;28;43mself\u001b[39;49m\u001b[38;5;241;43m.\u001b[39;49m\u001b[43mname\u001b[49m\u001b[43m,\u001b[49m\u001b[43m \u001b[49m\u001b[43mold_value\u001b[49m\u001b[43m,\u001b[49m\u001b[43m \u001b[49m\u001b[43mnew_value\u001b[49m\u001b[43m)\u001b[49m\n",
      "File \u001b[0;32m~/miniconda3/lib/python3.10/site-packages/traitlets/traitlets.py:1513\u001b[0m, in \u001b[0;36mHasTraits._notify_trait\u001b[0;34m(self, name, old_value, new_value)\u001b[0m\n\u001b[1;32m   1512\u001b[0m \u001b[38;5;28;01mdef\u001b[39;00m \u001b[38;5;21m_notify_trait\u001b[39m(\u001b[38;5;28mself\u001b[39m, name: \u001b[38;5;28mstr\u001b[39m, old_value: t\u001b[38;5;241m.\u001b[39mAny, new_value: t\u001b[38;5;241m.\u001b[39mAny) \u001b[38;5;241m-\u001b[39m\u001b[38;5;241m>\u001b[39m \u001b[38;5;28;01mNone\u001b[39;00m:\n\u001b[0;32m-> 1513\u001b[0m     \u001b[38;5;28;43mself\u001b[39;49m\u001b[38;5;241;43m.\u001b[39;49m\u001b[43mnotify_change\u001b[49m\u001b[43m(\u001b[49m\n\u001b[1;32m   1514\u001b[0m \u001b[43m        \u001b[49m\u001b[43mBunch\u001b[49m\u001b[43m(\u001b[49m\n\u001b[1;32m   1515\u001b[0m \u001b[43m            \u001b[49m\u001b[43mname\u001b[49m\u001b[38;5;241;43m=\u001b[39;49m\u001b[43mname\u001b[49m\u001b[43m,\u001b[49m\n\u001b[1;32m   1516\u001b[0m \u001b[43m            \u001b[49m\u001b[43mold\u001b[49m\u001b[38;5;241;43m=\u001b[39;49m\u001b[43mold_value\u001b[49m\u001b[43m,\u001b[49m\n\u001b[1;32m   1517\u001b[0m \u001b[43m            \u001b[49m\u001b[43mnew\u001b[49m\u001b[38;5;241;43m=\u001b[39;49m\u001b[43mnew_value\u001b[49m\u001b[43m,\u001b[49m\n\u001b[1;32m   1518\u001b[0m \u001b[43m            \u001b[49m\u001b[43mowner\u001b[49m\u001b[38;5;241;43m=\u001b[39;49m\u001b[38;5;28;43mself\u001b[39;49m\u001b[43m,\u001b[49m\n\u001b[1;32m   1519\u001b[0m \u001b[43m            \u001b[49m\u001b[38;5;28;43mtype\u001b[39;49m\u001b[38;5;241;43m=\u001b[39;49m\u001b[38;5;124;43m\"\u001b[39;49m\u001b[38;5;124;43mchange\u001b[39;49m\u001b[38;5;124;43m\"\u001b[39;49m\u001b[43m,\u001b[49m\n\u001b[1;32m   1520\u001b[0m \u001b[43m        \u001b[49m\u001b[43m)\u001b[49m\n\u001b[1;32m   1521\u001b[0m \u001b[43m    \u001b[49m\u001b[43m)\u001b[49m\n",
      "File \u001b[0;32m~/miniconda3/lib/python3.10/site-packages/ipywidgets/widgets/widget.py:701\u001b[0m, in \u001b[0;36mWidget.notify_change\u001b[0;34m(self, change)\u001b[0m\n\u001b[1;32m    698\u001b[0m     \u001b[38;5;28;01mif\u001b[39;00m name \u001b[38;5;129;01min\u001b[39;00m \u001b[38;5;28mself\u001b[39m\u001b[38;5;241m.\u001b[39mkeys \u001b[38;5;129;01mand\u001b[39;00m \u001b[38;5;28mself\u001b[39m\u001b[38;5;241m.\u001b[39m_should_send_property(name, \u001b[38;5;28mgetattr\u001b[39m(\u001b[38;5;28mself\u001b[39m, name)):\n\u001b[1;32m    699\u001b[0m         \u001b[38;5;66;03m# Send new state to front-end\u001b[39;00m\n\u001b[1;32m    700\u001b[0m         \u001b[38;5;28mself\u001b[39m\u001b[38;5;241m.\u001b[39msend_state(key\u001b[38;5;241m=\u001b[39mname)\n\u001b[0;32m--> 701\u001b[0m \u001b[38;5;28;43msuper\u001b[39;49m\u001b[43m(\u001b[49m\u001b[43m)\u001b[49m\u001b[38;5;241;43m.\u001b[39;49m\u001b[43mnotify_change\u001b[49m\u001b[43m(\u001b[49m\u001b[43mchange\u001b[49m\u001b[43m)\u001b[49m\n",
      "File \u001b[0;32m~/miniconda3/lib/python3.10/site-packages/traitlets/traitlets.py:1525\u001b[0m, in \u001b[0;36mHasTraits.notify_change\u001b[0;34m(self, change)\u001b[0m\n\u001b[1;32m   1523\u001b[0m \u001b[38;5;28;01mdef\u001b[39;00m \u001b[38;5;21mnotify_change\u001b[39m(\u001b[38;5;28mself\u001b[39m, change: Bunch) \u001b[38;5;241m-\u001b[39m\u001b[38;5;241m>\u001b[39m \u001b[38;5;28;01mNone\u001b[39;00m:\n\u001b[1;32m   1524\u001b[0m \u001b[38;5;250m    \u001b[39m\u001b[38;5;124;03m\"\"\"Notify observers of a change event\"\"\"\u001b[39;00m\n\u001b[0;32m-> 1525\u001b[0m     \u001b[38;5;28;01mreturn\u001b[39;00m \u001b[38;5;28;43mself\u001b[39;49m\u001b[38;5;241;43m.\u001b[39;49m\u001b[43m_notify_observers\u001b[49m\u001b[43m(\u001b[49m\u001b[43mchange\u001b[49m\u001b[43m)\u001b[49m\n",
      "File \u001b[0;32m~/miniconda3/lib/python3.10/site-packages/traitlets/traitlets.py:1568\u001b[0m, in \u001b[0;36mHasTraits._notify_observers\u001b[0;34m(self, event)\u001b[0m\n\u001b[1;32m   1565\u001b[0m \u001b[38;5;28;01melif\u001b[39;00m \u001b[38;5;28misinstance\u001b[39m(c, EventHandler) \u001b[38;5;129;01mand\u001b[39;00m c\u001b[38;5;241m.\u001b[39mname \u001b[38;5;129;01mis\u001b[39;00m \u001b[38;5;129;01mnot\u001b[39;00m \u001b[38;5;28;01mNone\u001b[39;00m:\n\u001b[1;32m   1566\u001b[0m     c \u001b[38;5;241m=\u001b[39m \u001b[38;5;28mgetattr\u001b[39m(\u001b[38;5;28mself\u001b[39m, c\u001b[38;5;241m.\u001b[39mname)\n\u001b[0;32m-> 1568\u001b[0m \u001b[43mc\u001b[49m\u001b[43m(\u001b[49m\u001b[43mevent\u001b[49m\u001b[43m)\u001b[49m\n",
      "Cell \u001b[0;32mIn[536], line 31\u001b[0m, in \u001b[0;36mupdate_plot\u001b[0;34m(change)\u001b[0m\n\u001b[1;32m     28\u001b[0m \u001b[38;5;28;01mdef\u001b[39;00m \u001b[38;5;21mupdate_plot\u001b[39m(change):\n\u001b[1;32m     29\u001b[0m     \u001b[38;5;66;03m# Filtrer le DataFrame en fonction des valeurs sélectionnées dans les champs de saisie\u001b[39;00m\n\u001b[1;32m     30\u001b[0m     temp_df \u001b[38;5;241m=\u001b[39m df\u001b[38;5;241m.\u001b[39mcopy()\n\u001b[0;32m---> 31\u001b[0m     filter_list \u001b[38;5;241m=\u001b[39m [\u001b[43mtemp_df\u001b[49m\u001b[43m[\u001b[49m\u001b[38;5;124;43m'\u001b[39;49m\u001b[38;5;124;43mSujets\u001b[39;49m\u001b[38;5;124;43m'\u001b[39;49m\u001b[43m]\u001b[49m \u001b[38;5;241m==\u001b[39m sujets\u001b[38;5;241m.\u001b[39mvalue]\n\u001b[1;32m     32\u001b[0m     temp_df \u001b[38;5;241m=\u001b[39m temp_df[reduce(\u001b[38;5;28;01mlambda\u001b[39;00m x, y: x \u001b[38;5;241m&\u001b[39m y, filter_list)]\n\u001b[1;32m     34\u001b[0m     \u001b[38;5;66;03m# Mettre à jour le tableau Plotly avec les données filtrées\u001b[39;00m\n",
      "File \u001b[0;32m~/miniconda3/lib/python3.10/site-packages/pandas/core/frame.py:4090\u001b[0m, in \u001b[0;36mDataFrame.__getitem__\u001b[0;34m(self, key)\u001b[0m\n\u001b[1;32m   4088\u001b[0m \u001b[38;5;28;01mif\u001b[39;00m \u001b[38;5;28mself\u001b[39m\u001b[38;5;241m.\u001b[39mcolumns\u001b[38;5;241m.\u001b[39mnlevels \u001b[38;5;241m>\u001b[39m \u001b[38;5;241m1\u001b[39m:\n\u001b[1;32m   4089\u001b[0m     \u001b[38;5;28;01mreturn\u001b[39;00m \u001b[38;5;28mself\u001b[39m\u001b[38;5;241m.\u001b[39m_getitem_multilevel(key)\n\u001b[0;32m-> 4090\u001b[0m indexer \u001b[38;5;241m=\u001b[39m \u001b[38;5;28;43mself\u001b[39;49m\u001b[38;5;241;43m.\u001b[39;49m\u001b[43mcolumns\u001b[49m\u001b[38;5;241;43m.\u001b[39;49m\u001b[43mget_loc\u001b[49m\u001b[43m(\u001b[49m\u001b[43mkey\u001b[49m\u001b[43m)\u001b[49m\n\u001b[1;32m   4091\u001b[0m \u001b[38;5;28;01mif\u001b[39;00m is_integer(indexer):\n\u001b[1;32m   4092\u001b[0m     indexer \u001b[38;5;241m=\u001b[39m [indexer]\n",
      "File \u001b[0;32m~/miniconda3/lib/python3.10/site-packages/pandas/core/indexes/base.py:3809\u001b[0m, in \u001b[0;36mIndex.get_loc\u001b[0;34m(self, key)\u001b[0m\n\u001b[1;32m   3804\u001b[0m     \u001b[38;5;28;01mif\u001b[39;00m \u001b[38;5;28misinstance\u001b[39m(casted_key, \u001b[38;5;28mslice\u001b[39m) \u001b[38;5;129;01mor\u001b[39;00m (\n\u001b[1;32m   3805\u001b[0m         \u001b[38;5;28misinstance\u001b[39m(casted_key, abc\u001b[38;5;241m.\u001b[39mIterable)\n\u001b[1;32m   3806\u001b[0m         \u001b[38;5;129;01mand\u001b[39;00m \u001b[38;5;28many\u001b[39m(\u001b[38;5;28misinstance\u001b[39m(x, \u001b[38;5;28mslice\u001b[39m) \u001b[38;5;28;01mfor\u001b[39;00m x \u001b[38;5;129;01min\u001b[39;00m casted_key)\n\u001b[1;32m   3807\u001b[0m     ):\n\u001b[1;32m   3808\u001b[0m         \u001b[38;5;28;01mraise\u001b[39;00m InvalidIndexError(key)\n\u001b[0;32m-> 3809\u001b[0m     \u001b[38;5;28;01mraise\u001b[39;00m \u001b[38;5;167;01mKeyError\u001b[39;00m(key) \u001b[38;5;28;01mfrom\u001b[39;00m \u001b[38;5;21;01merr\u001b[39;00m\n\u001b[1;32m   3810\u001b[0m \u001b[38;5;28;01mexcept\u001b[39;00m \u001b[38;5;167;01mTypeError\u001b[39;00m:\n\u001b[1;32m   3811\u001b[0m     \u001b[38;5;66;03m# If we have a listlike key, _check_indexing_error will raise\u001b[39;00m\n\u001b[1;32m   3812\u001b[0m     \u001b[38;5;66;03m#  InvalidIndexError. Otherwise we fall through and re-raise\u001b[39;00m\n\u001b[1;32m   3813\u001b[0m     \u001b[38;5;66;03m#  the TypeError.\u001b[39;00m\n\u001b[1;32m   3814\u001b[0m     \u001b[38;5;28mself\u001b[39m\u001b[38;5;241m.\u001b[39m_check_indexing_error(key)\n",
      "\u001b[0;31mKeyError\u001b[0m: 'Sujets'"
     ]
    },
    {
     "ename": "KeyError",
     "evalue": "'Sujets'",
     "output_type": "error",
     "traceback": [
      "\u001b[0;31m---------------------------------------------------------------------------\u001b[0m",
      "\u001b[0;31mKeyError\u001b[0m                                  Traceback (most recent call last)",
      "File \u001b[0;32m~/miniconda3/lib/python3.10/site-packages/pandas/core/indexes/base.py:3802\u001b[0m, in \u001b[0;36mIndex.get_loc\u001b[0;34m(self, key)\u001b[0m\n\u001b[1;32m   3801\u001b[0m \u001b[38;5;28;01mtry\u001b[39;00m:\n\u001b[0;32m-> 3802\u001b[0m     \u001b[38;5;28;01mreturn\u001b[39;00m \u001b[38;5;28;43mself\u001b[39;49m\u001b[38;5;241;43m.\u001b[39;49m\u001b[43m_engine\u001b[49m\u001b[38;5;241;43m.\u001b[39;49m\u001b[43mget_loc\u001b[49m\u001b[43m(\u001b[49m\u001b[43mcasted_key\u001b[49m\u001b[43m)\u001b[49m\n\u001b[1;32m   3803\u001b[0m \u001b[38;5;28;01mexcept\u001b[39;00m \u001b[38;5;167;01mKeyError\u001b[39;00m \u001b[38;5;28;01mas\u001b[39;00m err:\n",
      "File \u001b[0;32mindex.pyx:153\u001b[0m, in \u001b[0;36mpandas._libs.index.IndexEngine.get_loc\u001b[0;34m()\u001b[0m\n",
      "File \u001b[0;32mindex.pyx:182\u001b[0m, in \u001b[0;36mpandas._libs.index.IndexEngine.get_loc\u001b[0;34m()\u001b[0m\n",
      "File \u001b[0;32mpandas/_libs/hashtable_class_helper.pxi:7081\u001b[0m, in \u001b[0;36mpandas._libs.hashtable.PyObjectHashTable.get_item\u001b[0;34m()\u001b[0m\n",
      "File \u001b[0;32mpandas/_libs/hashtable_class_helper.pxi:7089\u001b[0m, in \u001b[0;36mpandas._libs.hashtable.PyObjectHashTable.get_item\u001b[0;34m()\u001b[0m\n",
      "\u001b[0;31mKeyError\u001b[0m: 'Sujets'",
      "\nThe above exception was the direct cause of the following exception:\n",
      "\u001b[0;31mKeyError\u001b[0m                                  Traceback (most recent call last)",
      "File \u001b[0;32m~/miniconda3/lib/python3.10/site-packages/ipywidgets/widgets/widget.py:773\u001b[0m, in \u001b[0;36mWidget._handle_msg\u001b[0;34m(self, msg)\u001b[0m\n\u001b[1;32m    771\u001b[0m         \u001b[38;5;28;01mif\u001b[39;00m \u001b[38;5;124m'\u001b[39m\u001b[38;5;124mbuffer_paths\u001b[39m\u001b[38;5;124m'\u001b[39m \u001b[38;5;129;01min\u001b[39;00m data:\n\u001b[1;32m    772\u001b[0m             _put_buffers(state, data[\u001b[38;5;124m'\u001b[39m\u001b[38;5;124mbuffer_paths\u001b[39m\u001b[38;5;124m'\u001b[39m], msg[\u001b[38;5;124m'\u001b[39m\u001b[38;5;124mbuffers\u001b[39m\u001b[38;5;124m'\u001b[39m])\n\u001b[0;32m--> 773\u001b[0m         \u001b[38;5;28;43mself\u001b[39;49m\u001b[38;5;241;43m.\u001b[39;49m\u001b[43mset_state\u001b[49m\u001b[43m(\u001b[49m\u001b[43mstate\u001b[49m\u001b[43m)\u001b[49m\n\u001b[1;32m    775\u001b[0m \u001b[38;5;66;03m# Handle a state request.\u001b[39;00m\n\u001b[1;32m    776\u001b[0m \u001b[38;5;28;01melif\u001b[39;00m method \u001b[38;5;241m==\u001b[39m \u001b[38;5;124m'\u001b[39m\u001b[38;5;124mrequest_state\u001b[39m\u001b[38;5;124m'\u001b[39m:\n",
      "File \u001b[0;32m~/miniconda3/lib/python3.10/site-packages/ipywidgets/widgets/widget.py:650\u001b[0m, in \u001b[0;36mWidget.set_state\u001b[0;34m(self, sync_data)\u001b[0m\n\u001b[1;32m    645\u001b[0m         \u001b[38;5;28mself\u001b[39m\u001b[38;5;241m.\u001b[39m_send(msg, buffers\u001b[38;5;241m=\u001b[39mecho_buffers)\n\u001b[1;32m    647\u001b[0m \u001b[38;5;66;03m# The order of these context managers is important. Properties must\u001b[39;00m\n\u001b[1;32m    648\u001b[0m \u001b[38;5;66;03m# be locked when the hold_trait_notification context manager is\u001b[39;00m\n\u001b[1;32m    649\u001b[0m \u001b[38;5;66;03m# released and notifications are fired.\u001b[39;00m\n\u001b[0;32m--> 650\u001b[0m \u001b[38;5;28;01mwith\u001b[39;00m \u001b[38;5;28mself\u001b[39m\u001b[38;5;241m.\u001b[39m_lock_property(\u001b[38;5;241m*\u001b[39m\u001b[38;5;241m*\u001b[39msync_data), \u001b[38;5;28mself\u001b[39m\u001b[38;5;241m.\u001b[39mhold_trait_notifications():\n\u001b[1;32m    651\u001b[0m     \u001b[38;5;28;01mfor\u001b[39;00m name \u001b[38;5;129;01min\u001b[39;00m sync_data:\n\u001b[1;32m    652\u001b[0m         \u001b[38;5;28;01mif\u001b[39;00m name \u001b[38;5;129;01min\u001b[39;00m \u001b[38;5;28mself\u001b[39m\u001b[38;5;241m.\u001b[39mkeys:\n",
      "File \u001b[0;32m~/miniconda3/lib/python3.10/contextlib.py:142\u001b[0m, in \u001b[0;36m_GeneratorContextManager.__exit__\u001b[0;34m(self, typ, value, traceback)\u001b[0m\n\u001b[1;32m    140\u001b[0m \u001b[38;5;28;01mif\u001b[39;00m typ \u001b[38;5;129;01mis\u001b[39;00m \u001b[38;5;28;01mNone\u001b[39;00m:\n\u001b[1;32m    141\u001b[0m     \u001b[38;5;28;01mtry\u001b[39;00m:\n\u001b[0;32m--> 142\u001b[0m         \u001b[38;5;28;43mnext\u001b[39;49m\u001b[43m(\u001b[49m\u001b[38;5;28;43mself\u001b[39;49m\u001b[38;5;241;43m.\u001b[39;49m\u001b[43mgen\u001b[49m\u001b[43m)\u001b[49m\n\u001b[1;32m    143\u001b[0m     \u001b[38;5;28;01mexcept\u001b[39;00m \u001b[38;5;167;01mStopIteration\u001b[39;00m:\n\u001b[1;32m    144\u001b[0m         \u001b[38;5;28;01mreturn\u001b[39;00m \u001b[38;5;28;01mFalse\u001b[39;00m\n",
      "File \u001b[0;32m~/miniconda3/lib/python3.10/site-packages/traitlets/traitlets.py:1510\u001b[0m, in \u001b[0;36mHasTraits.hold_trait_notifications\u001b[0;34m(self)\u001b[0m\n\u001b[1;32m   1508\u001b[0m \u001b[38;5;28;01mfor\u001b[39;00m changes \u001b[38;5;129;01min\u001b[39;00m cache\u001b[38;5;241m.\u001b[39mvalues():\n\u001b[1;32m   1509\u001b[0m     \u001b[38;5;28;01mfor\u001b[39;00m change \u001b[38;5;129;01min\u001b[39;00m changes:\n\u001b[0;32m-> 1510\u001b[0m         \u001b[38;5;28;43mself\u001b[39;49m\u001b[38;5;241;43m.\u001b[39;49m\u001b[43mnotify_change\u001b[49m\u001b[43m(\u001b[49m\u001b[43mchange\u001b[49m\u001b[43m)\u001b[49m\n",
      "File \u001b[0;32m~/miniconda3/lib/python3.10/site-packages/ipywidgets/widgets/widget.py:701\u001b[0m, in \u001b[0;36mWidget.notify_change\u001b[0;34m(self, change)\u001b[0m\n\u001b[1;32m    698\u001b[0m     \u001b[38;5;28;01mif\u001b[39;00m name \u001b[38;5;129;01min\u001b[39;00m \u001b[38;5;28mself\u001b[39m\u001b[38;5;241m.\u001b[39mkeys \u001b[38;5;129;01mand\u001b[39;00m \u001b[38;5;28mself\u001b[39m\u001b[38;5;241m.\u001b[39m_should_send_property(name, \u001b[38;5;28mgetattr\u001b[39m(\u001b[38;5;28mself\u001b[39m, name)):\n\u001b[1;32m    699\u001b[0m         \u001b[38;5;66;03m# Send new state to front-end\u001b[39;00m\n\u001b[1;32m    700\u001b[0m         \u001b[38;5;28mself\u001b[39m\u001b[38;5;241m.\u001b[39msend_state(key\u001b[38;5;241m=\u001b[39mname)\n\u001b[0;32m--> 701\u001b[0m \u001b[38;5;28;43msuper\u001b[39;49m\u001b[43m(\u001b[49m\u001b[43m)\u001b[49m\u001b[38;5;241;43m.\u001b[39;49m\u001b[43mnotify_change\u001b[49m\u001b[43m(\u001b[49m\u001b[43mchange\u001b[49m\u001b[43m)\u001b[49m\n",
      "File \u001b[0;32m~/miniconda3/lib/python3.10/site-packages/traitlets/traitlets.py:1525\u001b[0m, in \u001b[0;36mHasTraits.notify_change\u001b[0;34m(self, change)\u001b[0m\n\u001b[1;32m   1523\u001b[0m \u001b[38;5;28;01mdef\u001b[39;00m \u001b[38;5;21mnotify_change\u001b[39m(\u001b[38;5;28mself\u001b[39m, change: Bunch) \u001b[38;5;241m-\u001b[39m\u001b[38;5;241m>\u001b[39m \u001b[38;5;28;01mNone\u001b[39;00m:\n\u001b[1;32m   1524\u001b[0m \u001b[38;5;250m    \u001b[39m\u001b[38;5;124;03m\"\"\"Notify observers of a change event\"\"\"\u001b[39;00m\n\u001b[0;32m-> 1525\u001b[0m     \u001b[38;5;28;01mreturn\u001b[39;00m \u001b[38;5;28;43mself\u001b[39;49m\u001b[38;5;241;43m.\u001b[39;49m\u001b[43m_notify_observers\u001b[49m\u001b[43m(\u001b[49m\u001b[43mchange\u001b[49m\u001b[43m)\u001b[49m\n",
      "File \u001b[0;32m~/miniconda3/lib/python3.10/site-packages/traitlets/traitlets.py:1568\u001b[0m, in \u001b[0;36mHasTraits._notify_observers\u001b[0;34m(self, event)\u001b[0m\n\u001b[1;32m   1565\u001b[0m \u001b[38;5;28;01melif\u001b[39;00m \u001b[38;5;28misinstance\u001b[39m(c, EventHandler) \u001b[38;5;129;01mand\u001b[39;00m c\u001b[38;5;241m.\u001b[39mname \u001b[38;5;129;01mis\u001b[39;00m \u001b[38;5;129;01mnot\u001b[39;00m \u001b[38;5;28;01mNone\u001b[39;00m:\n\u001b[1;32m   1566\u001b[0m     c \u001b[38;5;241m=\u001b[39m \u001b[38;5;28mgetattr\u001b[39m(\u001b[38;5;28mself\u001b[39m, c\u001b[38;5;241m.\u001b[39mname)\n\u001b[0;32m-> 1568\u001b[0m \u001b[43mc\u001b[49m\u001b[43m(\u001b[49m\u001b[43mevent\u001b[49m\u001b[43m)\u001b[49m\n",
      "File \u001b[0;32m~/miniconda3/lib/python3.10/site-packages/ipywidgets/widgets/widget_selection.py:236\u001b[0m, in \u001b[0;36m_Selection._propagate_index\u001b[0;34m(self, change)\u001b[0m\n\u001b[1;32m    234\u001b[0m     \u001b[38;5;28mself\u001b[39m\u001b[38;5;241m.\u001b[39mlabel \u001b[38;5;241m=\u001b[39m label\n\u001b[1;32m    235\u001b[0m \u001b[38;5;28;01mif\u001b[39;00m \u001b[38;5;28mself\u001b[39m\u001b[38;5;241m.\u001b[39mvalue \u001b[38;5;129;01mis\u001b[39;00m \u001b[38;5;129;01mnot\u001b[39;00m value:\n\u001b[0;32m--> 236\u001b[0m     \u001b[38;5;28;43mself\u001b[39;49m\u001b[38;5;241;43m.\u001b[39;49m\u001b[43mvalue\u001b[49m \u001b[38;5;241m=\u001b[39m value\n",
      "File \u001b[0;32m~/miniconda3/lib/python3.10/site-packages/traitlets/traitlets.py:716\u001b[0m, in \u001b[0;36mTraitType.__set__\u001b[0;34m(self, obj, value)\u001b[0m\n\u001b[1;32m    714\u001b[0m \u001b[38;5;28;01mif\u001b[39;00m \u001b[38;5;28mself\u001b[39m\u001b[38;5;241m.\u001b[39mread_only:\n\u001b[1;32m    715\u001b[0m     \u001b[38;5;28;01mraise\u001b[39;00m TraitError(\u001b[38;5;124m'\u001b[39m\u001b[38;5;124mThe \u001b[39m\u001b[38;5;124m\"\u001b[39m\u001b[38;5;132;01m%s\u001b[39;00m\u001b[38;5;124m\"\u001b[39m\u001b[38;5;124m trait is read-only.\u001b[39m\u001b[38;5;124m'\u001b[39m \u001b[38;5;241m%\u001b[39m \u001b[38;5;28mself\u001b[39m\u001b[38;5;241m.\u001b[39mname)\n\u001b[0;32m--> 716\u001b[0m \u001b[38;5;28;43mself\u001b[39;49m\u001b[38;5;241;43m.\u001b[39;49m\u001b[43mset\u001b[49m\u001b[43m(\u001b[49m\u001b[43mobj\u001b[49m\u001b[43m,\u001b[49m\u001b[43m \u001b[49m\u001b[43mvalue\u001b[49m\u001b[43m)\u001b[49m\n",
      "File \u001b[0;32m~/miniconda3/lib/python3.10/site-packages/traitlets/traitlets.py:706\u001b[0m, in \u001b[0;36mTraitType.set\u001b[0;34m(self, obj, value)\u001b[0m\n\u001b[1;32m    702\u001b[0m     silent \u001b[38;5;241m=\u001b[39m \u001b[38;5;28;01mFalse\u001b[39;00m\n\u001b[1;32m    703\u001b[0m \u001b[38;5;28;01mif\u001b[39;00m silent \u001b[38;5;129;01mis\u001b[39;00m \u001b[38;5;129;01mnot\u001b[39;00m \u001b[38;5;28;01mTrue\u001b[39;00m:\n\u001b[1;32m    704\u001b[0m     \u001b[38;5;66;03m# we explicitly compare silent to True just in case the equality\u001b[39;00m\n\u001b[1;32m    705\u001b[0m     \u001b[38;5;66;03m# comparison above returns something other than True/False\u001b[39;00m\n\u001b[0;32m--> 706\u001b[0m     \u001b[43mobj\u001b[49m\u001b[38;5;241;43m.\u001b[39;49m\u001b[43m_notify_trait\u001b[49m\u001b[43m(\u001b[49m\u001b[38;5;28;43mself\u001b[39;49m\u001b[38;5;241;43m.\u001b[39;49m\u001b[43mname\u001b[49m\u001b[43m,\u001b[49m\u001b[43m \u001b[49m\u001b[43mold_value\u001b[49m\u001b[43m,\u001b[49m\u001b[43m \u001b[49m\u001b[43mnew_value\u001b[49m\u001b[43m)\u001b[49m\n",
      "File \u001b[0;32m~/miniconda3/lib/python3.10/site-packages/traitlets/traitlets.py:1513\u001b[0m, in \u001b[0;36mHasTraits._notify_trait\u001b[0;34m(self, name, old_value, new_value)\u001b[0m\n\u001b[1;32m   1512\u001b[0m \u001b[38;5;28;01mdef\u001b[39;00m \u001b[38;5;21m_notify_trait\u001b[39m(\u001b[38;5;28mself\u001b[39m, name: \u001b[38;5;28mstr\u001b[39m, old_value: t\u001b[38;5;241m.\u001b[39mAny, new_value: t\u001b[38;5;241m.\u001b[39mAny) \u001b[38;5;241m-\u001b[39m\u001b[38;5;241m>\u001b[39m \u001b[38;5;28;01mNone\u001b[39;00m:\n\u001b[0;32m-> 1513\u001b[0m     \u001b[38;5;28;43mself\u001b[39;49m\u001b[38;5;241;43m.\u001b[39;49m\u001b[43mnotify_change\u001b[49m\u001b[43m(\u001b[49m\n\u001b[1;32m   1514\u001b[0m \u001b[43m        \u001b[49m\u001b[43mBunch\u001b[49m\u001b[43m(\u001b[49m\n\u001b[1;32m   1515\u001b[0m \u001b[43m            \u001b[49m\u001b[43mname\u001b[49m\u001b[38;5;241;43m=\u001b[39;49m\u001b[43mname\u001b[49m\u001b[43m,\u001b[49m\n\u001b[1;32m   1516\u001b[0m \u001b[43m            \u001b[49m\u001b[43mold\u001b[49m\u001b[38;5;241;43m=\u001b[39;49m\u001b[43mold_value\u001b[49m\u001b[43m,\u001b[49m\n\u001b[1;32m   1517\u001b[0m \u001b[43m            \u001b[49m\u001b[43mnew\u001b[49m\u001b[38;5;241;43m=\u001b[39;49m\u001b[43mnew_value\u001b[49m\u001b[43m,\u001b[49m\n\u001b[1;32m   1518\u001b[0m \u001b[43m            \u001b[49m\u001b[43mowner\u001b[49m\u001b[38;5;241;43m=\u001b[39;49m\u001b[38;5;28;43mself\u001b[39;49m\u001b[43m,\u001b[49m\n\u001b[1;32m   1519\u001b[0m \u001b[43m            \u001b[49m\u001b[38;5;28;43mtype\u001b[39;49m\u001b[38;5;241;43m=\u001b[39;49m\u001b[38;5;124;43m\"\u001b[39;49m\u001b[38;5;124;43mchange\u001b[39;49m\u001b[38;5;124;43m\"\u001b[39;49m\u001b[43m,\u001b[49m\n\u001b[1;32m   1520\u001b[0m \u001b[43m        \u001b[49m\u001b[43m)\u001b[49m\n\u001b[1;32m   1521\u001b[0m \u001b[43m    \u001b[49m\u001b[43m)\u001b[49m\n",
      "File \u001b[0;32m~/miniconda3/lib/python3.10/site-packages/ipywidgets/widgets/widget.py:701\u001b[0m, in \u001b[0;36mWidget.notify_change\u001b[0;34m(self, change)\u001b[0m\n\u001b[1;32m    698\u001b[0m     \u001b[38;5;28;01mif\u001b[39;00m name \u001b[38;5;129;01min\u001b[39;00m \u001b[38;5;28mself\u001b[39m\u001b[38;5;241m.\u001b[39mkeys \u001b[38;5;129;01mand\u001b[39;00m \u001b[38;5;28mself\u001b[39m\u001b[38;5;241m.\u001b[39m_should_send_property(name, \u001b[38;5;28mgetattr\u001b[39m(\u001b[38;5;28mself\u001b[39m, name)):\n\u001b[1;32m    699\u001b[0m         \u001b[38;5;66;03m# Send new state to front-end\u001b[39;00m\n\u001b[1;32m    700\u001b[0m         \u001b[38;5;28mself\u001b[39m\u001b[38;5;241m.\u001b[39msend_state(key\u001b[38;5;241m=\u001b[39mname)\n\u001b[0;32m--> 701\u001b[0m \u001b[38;5;28;43msuper\u001b[39;49m\u001b[43m(\u001b[49m\u001b[43m)\u001b[49m\u001b[38;5;241;43m.\u001b[39;49m\u001b[43mnotify_change\u001b[49m\u001b[43m(\u001b[49m\u001b[43mchange\u001b[49m\u001b[43m)\u001b[49m\n",
      "File \u001b[0;32m~/miniconda3/lib/python3.10/site-packages/traitlets/traitlets.py:1525\u001b[0m, in \u001b[0;36mHasTraits.notify_change\u001b[0;34m(self, change)\u001b[0m\n\u001b[1;32m   1523\u001b[0m \u001b[38;5;28;01mdef\u001b[39;00m \u001b[38;5;21mnotify_change\u001b[39m(\u001b[38;5;28mself\u001b[39m, change: Bunch) \u001b[38;5;241m-\u001b[39m\u001b[38;5;241m>\u001b[39m \u001b[38;5;28;01mNone\u001b[39;00m:\n\u001b[1;32m   1524\u001b[0m \u001b[38;5;250m    \u001b[39m\u001b[38;5;124;03m\"\"\"Notify observers of a change event\"\"\"\u001b[39;00m\n\u001b[0;32m-> 1525\u001b[0m     \u001b[38;5;28;01mreturn\u001b[39;00m \u001b[38;5;28;43mself\u001b[39;49m\u001b[38;5;241;43m.\u001b[39;49m\u001b[43m_notify_observers\u001b[49m\u001b[43m(\u001b[49m\u001b[43mchange\u001b[49m\u001b[43m)\u001b[49m\n",
      "File \u001b[0;32m~/miniconda3/lib/python3.10/site-packages/traitlets/traitlets.py:1568\u001b[0m, in \u001b[0;36mHasTraits._notify_observers\u001b[0;34m(self, event)\u001b[0m\n\u001b[1;32m   1565\u001b[0m \u001b[38;5;28;01melif\u001b[39;00m \u001b[38;5;28misinstance\u001b[39m(c, EventHandler) \u001b[38;5;129;01mand\u001b[39;00m c\u001b[38;5;241m.\u001b[39mname \u001b[38;5;129;01mis\u001b[39;00m \u001b[38;5;129;01mnot\u001b[39;00m \u001b[38;5;28;01mNone\u001b[39;00m:\n\u001b[1;32m   1566\u001b[0m     c \u001b[38;5;241m=\u001b[39m \u001b[38;5;28mgetattr\u001b[39m(\u001b[38;5;28mself\u001b[39m, c\u001b[38;5;241m.\u001b[39mname)\n\u001b[0;32m-> 1568\u001b[0m \u001b[43mc\u001b[49m\u001b[43m(\u001b[49m\u001b[43mevent\u001b[49m\u001b[43m)\u001b[49m\n",
      "Cell \u001b[0;32mIn[536], line 31\u001b[0m, in \u001b[0;36mupdate_plot\u001b[0;34m(change)\u001b[0m\n\u001b[1;32m     28\u001b[0m \u001b[38;5;28;01mdef\u001b[39;00m \u001b[38;5;21mupdate_plot\u001b[39m(change):\n\u001b[1;32m     29\u001b[0m     \u001b[38;5;66;03m# Filtrer le DataFrame en fonction des valeurs sélectionnées dans les champs de saisie\u001b[39;00m\n\u001b[1;32m     30\u001b[0m     temp_df \u001b[38;5;241m=\u001b[39m df\u001b[38;5;241m.\u001b[39mcopy()\n\u001b[0;32m---> 31\u001b[0m     filter_list \u001b[38;5;241m=\u001b[39m [\u001b[43mtemp_df\u001b[49m\u001b[43m[\u001b[49m\u001b[38;5;124;43m'\u001b[39;49m\u001b[38;5;124;43mSujets\u001b[39;49m\u001b[38;5;124;43m'\u001b[39;49m\u001b[43m]\u001b[49m \u001b[38;5;241m==\u001b[39m sujets\u001b[38;5;241m.\u001b[39mvalue]\n\u001b[1;32m     32\u001b[0m     temp_df \u001b[38;5;241m=\u001b[39m temp_df[reduce(\u001b[38;5;28;01mlambda\u001b[39;00m x, y: x \u001b[38;5;241m&\u001b[39m y, filter_list)]\n\u001b[1;32m     34\u001b[0m     \u001b[38;5;66;03m# Mettre à jour le tableau Plotly avec les données filtrées\u001b[39;00m\n",
      "File \u001b[0;32m~/miniconda3/lib/python3.10/site-packages/pandas/core/frame.py:4090\u001b[0m, in \u001b[0;36mDataFrame.__getitem__\u001b[0;34m(self, key)\u001b[0m\n\u001b[1;32m   4088\u001b[0m \u001b[38;5;28;01mif\u001b[39;00m \u001b[38;5;28mself\u001b[39m\u001b[38;5;241m.\u001b[39mcolumns\u001b[38;5;241m.\u001b[39mnlevels \u001b[38;5;241m>\u001b[39m \u001b[38;5;241m1\u001b[39m:\n\u001b[1;32m   4089\u001b[0m     \u001b[38;5;28;01mreturn\u001b[39;00m \u001b[38;5;28mself\u001b[39m\u001b[38;5;241m.\u001b[39m_getitem_multilevel(key)\n\u001b[0;32m-> 4090\u001b[0m indexer \u001b[38;5;241m=\u001b[39m \u001b[38;5;28;43mself\u001b[39;49m\u001b[38;5;241;43m.\u001b[39;49m\u001b[43mcolumns\u001b[49m\u001b[38;5;241;43m.\u001b[39;49m\u001b[43mget_loc\u001b[49m\u001b[43m(\u001b[49m\u001b[43mkey\u001b[49m\u001b[43m)\u001b[49m\n\u001b[1;32m   4091\u001b[0m \u001b[38;5;28;01mif\u001b[39;00m is_integer(indexer):\n\u001b[1;32m   4092\u001b[0m     indexer \u001b[38;5;241m=\u001b[39m [indexer]\n",
      "File \u001b[0;32m~/miniconda3/lib/python3.10/site-packages/pandas/core/indexes/base.py:3809\u001b[0m, in \u001b[0;36mIndex.get_loc\u001b[0;34m(self, key)\u001b[0m\n\u001b[1;32m   3804\u001b[0m     \u001b[38;5;28;01mif\u001b[39;00m \u001b[38;5;28misinstance\u001b[39m(casted_key, \u001b[38;5;28mslice\u001b[39m) \u001b[38;5;129;01mor\u001b[39;00m (\n\u001b[1;32m   3805\u001b[0m         \u001b[38;5;28misinstance\u001b[39m(casted_key, abc\u001b[38;5;241m.\u001b[39mIterable)\n\u001b[1;32m   3806\u001b[0m         \u001b[38;5;129;01mand\u001b[39;00m \u001b[38;5;28many\u001b[39m(\u001b[38;5;28misinstance\u001b[39m(x, \u001b[38;5;28mslice\u001b[39m) \u001b[38;5;28;01mfor\u001b[39;00m x \u001b[38;5;129;01min\u001b[39;00m casted_key)\n\u001b[1;32m   3807\u001b[0m     ):\n\u001b[1;32m   3808\u001b[0m         \u001b[38;5;28;01mraise\u001b[39;00m InvalidIndexError(key)\n\u001b[0;32m-> 3809\u001b[0m     \u001b[38;5;28;01mraise\u001b[39;00m \u001b[38;5;167;01mKeyError\u001b[39;00m(key) \u001b[38;5;28;01mfrom\u001b[39;00m \u001b[38;5;21;01merr\u001b[39;00m\n\u001b[1;32m   3810\u001b[0m \u001b[38;5;28;01mexcept\u001b[39;00m \u001b[38;5;167;01mTypeError\u001b[39;00m:\n\u001b[1;32m   3811\u001b[0m     \u001b[38;5;66;03m# If we have a listlike key, _check_indexing_error will raise\u001b[39;00m\n\u001b[1;32m   3812\u001b[0m     \u001b[38;5;66;03m#  InvalidIndexError. Otherwise we fall through and re-raise\u001b[39;00m\n\u001b[1;32m   3813\u001b[0m     \u001b[38;5;66;03m#  the TypeError.\u001b[39;00m\n\u001b[1;32m   3814\u001b[0m     \u001b[38;5;28mself\u001b[39m\u001b[38;5;241m.\u001b[39m_check_indexing_error(key)\n",
      "\u001b[0;31mKeyError\u001b[0m: 'Sujets'"
     ]
    }
   ],
   "source": [
    "# import pandas as pd\n",
    "# import plotly.graph_objects as go\n",
    "# import ipywidgets as widgets\n",
    "# from functools import reduce\n",
    "\n",
    "# df = dataframe\n",
    "# # Supposons que vous ayez déjà votre DataFrame df\n",
    "\n",
    "# # Définir des valeurs uniques pour les champs de saisie\n",
    "# sujets_uniques = sorted(df['Sujets'].unique())\n",
    "\n",
    "# # Définir des champs de saisie pour chaque colonne de votre DataFrame\n",
    "# sujets = widgets.Dropdown(options=sujets_uniques, description='Sujets:')\n",
    "\n",
    "# # Créer un tableau Plotly initial\n",
    "# initial_temp_df = df.copy()\n",
    "# initial_fig = go.Figure(data=[go.Table(\n",
    "#     header=dict(values=initial_temp_df.columns),\n",
    "#     cells=dict(values=[initial_temp_df[col] for col in initial_temp_df.columns])\n",
    "# )])\n",
    "\n",
    "# # Créer une sortie pour le tableau Plotly\n",
    "# table_plot = widgets.Output()\n",
    "# with table_plot:\n",
    "#     initial_fig.show(renderer=\"notebook\")\n",
    "\n",
    "# # Définir une fonction pour mettre à jour le tableau Plotly\n",
    "# def update_plot(change):\n",
    "#     # Filtrer le DataFrame en fonction des valeurs sélectionnées dans les champs de saisie\n",
    "#     temp_df = df.copy()\n",
    "#     filter_list = [temp_df['Sujets'] == sujets.value]\n",
    "#     temp_df = temp_df[reduce(lambda x, y: x & y, filter_list)]\n",
    "    \n",
    "#     # Mettre à jour le tableau Plotly avec les données filtrées\n",
    "#     with table_plot:\n",
    "#         table_plot.clear_output(wait=True)\n",
    "#         fig = go.Figure(data=[go.Table(\n",
    "#             header=dict(values=temp_df.columns),\n",
    "#             cells=dict(values=[temp_df[col] for col in temp_df.columns])\n",
    "#         )])\n",
    "#         fig.show(renderer=\"notebook\")\n",
    "\n",
    "# # Observer les changements dans les champs de saisie\n",
    "# sujets.observe(update_plot, names=\"value\")\n",
    "\n",
    "# # Ajouter un bouton Reset pour réinitialiser l'affichage à tous les sujets\n",
    "# reset_button = widgets.Button(description=\"Reset\")\n",
    "\n",
    "# def reset_plot(_):\n",
    "#     with table_plot:\n",
    "#         table_plot.clear_output(wait=True)\n",
    "#         initial_fig.show(renderer=\"notebook\")\n",
    "\n",
    "# reset_button.on_click(reset_plot)\n",
    "\n",
    "# # Afficher les champs de saisie, le bouton Reset et le tableau Plotly\n",
    "# widgets.VBox([sujets, reset_button, table_plot])\n"
   ]
  }
 ],
 "metadata": {
  "kernelspec": {
   "display_name": "base",
   "language": "python",
   "name": "python3"
  },
  "language_info": {
   "codemirror_mode": {
    "name": "ipython",
    "version": 3
   },
   "file_extension": ".py",
   "mimetype": "text/x-python",
   "name": "python",
   "nbconvert_exporter": "python",
   "pygments_lexer": "ipython3",
   "version": "3.10.4"
  }
 },
 "nbformat": 4,
 "nbformat_minor": 2
}
