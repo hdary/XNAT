{
 "cells": [
  {
   "cell_type": "code",
   "execution_count": 2,
   "metadata": {},
   "outputs": [],
   "source": [
    "import pyxnat\n",
    "from pyxnat import Interface\n",
    "import xnat\n",
    "import os"
   ]
  },
  {
   "cell_type": "code",
   "execution_count": null,
   "metadata": {},
   "outputs": [],
   "source": [
    "#The URL of your XNAT\n",
    "xnat_host = os.environ['XNAT_HOST']\n",
    "\n",
    "#A temporary token which can be used as a username\n",
    "user = os.environ['XNAT_USER']\n",
    "\n",
    "#A temporary token which can be used as a password\n",
    "pwd = os.environ['XNAT_PASS']"
   ]
  },
  {
   "cell_type": "code",
   "execution_count": null,
   "metadata": {},
   "outputs": [],
   "source": [
    "session = xnat.connect(xnat_host, user=user, password=pwd)"
   ]
  },
  {
   "cell_type": "code",
   "execution_count": 97,
   "metadata": {},
   "outputs": [],
   "source": [
    "# session = xnat.connect('https://xnat.crmbm.univ-amu.fr', user='hdary')"
   ]
  },
  {
   "cell_type": "markdown",
   "metadata": {},
   "source": [
    "List projects (subjects)"
   ]
  },
  {
   "cell_type": "code",
   "execution_count": 98,
   "metadata": {},
   "outputs": [
    {
     "data": {
      "text/plain": [
       "<XNATListing {(TEST, TEST): <ProjectData TEST (TEST)>, (VIDA_BRAIN_EPINOV, VIDA BRAIN EPINOV): <ProjectData VIDA BRAIN EPINOV (VIDA_BRAIN_EPINOV)>}>"
      ]
     },
     "execution_count": 98,
     "metadata": {},
     "output_type": "execute_result"
    }
   ],
   "source": [
    "session.projects"
   ]
  },
  {
   "cell_type": "markdown",
   "metadata": {},
   "source": [
    "Select your project"
   ]
  },
  {
   "cell_type": "code",
   "execution_count": 99,
   "metadata": {},
   "outputs": [],
   "source": [
    "my_project = session.projects[\"TEST\"]"
   ]
  },
  {
   "cell_type": "markdown",
   "metadata": {},
   "source": [
    "list subjects, experiments and scans"
   ]
  },
  {
   "cell_type": "code",
   "execution_count": 100,
   "metadata": {},
   "outputs": [
    {
     "name": "stdout",
     "output_type": "stream",
     "text": [
      "TOTO  :  XNAT_CRMBM_S00003\n"
     ]
    }
   ],
   "source": [
    "for subject in my_project.subjects.values():\n",
    "    print(subject.label, ' : ', subject.id)"
   ]
  },
  {
   "cell_type": "code",
   "execution_count": 101,
   "metadata": {},
   "outputs": [
    {
     "name": "stdout",
     "output_type": "stream",
     "text": [
      "session-test  :  XNAT_CRMBM_E00003\n"
     ]
    }
   ],
   "source": [
    "subject = my_project.subjects['TOTO']\n",
    "for experiment in subject.experiments.values():\n",
    "    print(experiment.label, ' : ', experiment.id)"
   ]
  },
  {
   "cell_type": "code",
   "execution_count": 102,
   "metadata": {},
   "outputs": [
    {
     "name": "stdout",
     "output_type": "stream",
     "text": [
      "<MrScanData localizer (1)>\n",
      "<MrScanData t1_mp2rage_sag_0p6_INV1 (43)>\n",
      "<MrScanData t1_mp2rage_sag_0p6_INV2 (44)>\n",
      "<MrScanData t1_mp2rage_sag_0p6_UNI_Images (45)>\n",
      "<MrScanData R2* (6004)>\n",
      "<MrScanData UNIDEN - B1 corrected - NOT FOR CLINICAL USE (1045003)>\n"
     ]
    }
   ],
   "source": [
    "experiment = subject.experiments['XNAT_CRMBM_E00003']\n",
    "for scan in experiment.scans.values():\n",
    "    print(scan)"
   ]
  },
  {
   "cell_type": "code",
   "execution_count": null,
   "metadata": {},
   "outputs": [],
   "source": [
    "file_obj = session.projects['TEST'].subjects['TOTO'].experiments['XNAT_CRMBM_E00003'].scans['localizer'].resources['DICOM'].files[0]"
   ]
  },
  {
   "cell_type": "code",
   "execution_count": null,
   "metadata": {},
   "outputs": [],
   "source": [
    "with file_obj.open() as fin:\n",
    "    data = fin.read(3000)\n",
    "print(len(data))"
   ]
  },
  {
   "cell_type": "code",
   "execution_count": null,
   "metadata": {},
   "outputs": [],
   "source": [
    "import pydicom"
   ]
  },
  {
   "cell_type": "code",
   "execution_count": null,
   "metadata": {},
   "outputs": [],
   "source": [
    "with file_obj.open() as fin:\n",
    "    data = pydicom.dcmread(fin, stop_before_pixels=True)"
   ]
  },
  {
   "cell_type": "code",
   "execution_count": null,
   "metadata": {},
   "outputs": [],
   "source": [
    "data"
   ]
  }
 ],
 "metadata": {
  "kernelspec": {
   "display_name": "base",
   "language": "python",
   "name": "python3"
  },
  "language_info": {
   "codemirror_mode": {
    "name": "ipython",
    "version": 3
   },
   "file_extension": ".py",
   "mimetype": "text/x-python",
   "name": "python",
   "nbconvert_exporter": "python",
   "pygments_lexer": "ipython3",
   "version": "3.8.13"
  },
  "orig_nbformat": 4
 },
 "nbformat": 4,
 "nbformat_minor": 2
}
