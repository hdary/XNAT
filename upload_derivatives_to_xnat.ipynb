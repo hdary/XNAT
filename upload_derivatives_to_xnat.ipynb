{
 "cells": [
  {
   "cell_type": "code",
   "execution_count": 1,
   "metadata": {},
   "outputs": [],
   "source": [
    "import pyxnat\n",
    "from pyxnat import Interface\n",
    "import xnat\n",
    "import glob\n",
    "import os"
   ]
  },
  {
   "cell_type": "code",
   "execution_count": 2,
   "metadata": {},
   "outputs": [],
   "source": [
    "my_pyxnat = Interface(server=\"https://xnat.crmbm.univ-amu.fr\",\n",
    "                    user='hdary')"
   ]
  },
  {
   "cell_type": "code",
   "execution_count": 3,
   "metadata": {},
   "outputs": [],
   "source": [
    "# my_xnatpy = xnat.connect('https://xnat.crmbm.univ-amu.fr', user='hdary')"
   ]
  },
  {
   "cell_type": "code",
   "execution_count": 12,
   "metadata": {},
   "outputs": [],
   "source": [
    "project = \"TERRA_BRAIN_EPINOV\"\n",
    "zip_folder = '/ZAZ_users/hdary/test/freesurfer'\n",
    "resource = 'FREESURFER'"
   ]
  },
  {
   "cell_type": "code",
   "execution_count": 24,
   "metadata": {},
   "outputs": [
    {
     "name": "stdout",
     "output_type": "stream",
     "text": [
      "/ZAZ_users/hdary/test/freesurfer/01-59-P-V.zip\n",
      "01-59-P-V\n",
      "XNAT_CRMBM_E00117\n",
      "/ZAZ_users/hdary/test/freesurfer/01-66-L-Q.zip\n",
      "01-66-L-Q\n",
      "XNAT_CRMBM_E00131\n",
      "/ZAZ_users/hdary/test/freesurfer/01-68-P-N.zip\n",
      "01-68-P-N\n",
      "XNAT_CRMBM_E00118\n"
     ]
    }
   ],
   "source": [
    "for zipfile in glob.glob(zip_folder + '/*.zip'):\n",
    "    print(zipfile)\n",
    "    subject = os.path.basename(zipfile.replace('.zip',''))\n",
    "    experiment = my_pyxnat.select('/project/{project}/subject/{subject}/experiments'.format(project=project, subject=subject)).get()[0]\n",
    "    my_experiment = my_pyxnat.select('/project/{project}/subject/{subject}/experiments/{experiment}')\n",
    "    \n",
    "    print(subject)\n",
    "    print(experiment)\n",
    "\n",
    "    id = ''\n",
    "    for exp in my_experiment.resources():\n",
    "        if exp.label() == resource:\n",
    "            id = exp.id()\n",
    "            break\n",
    "    if id != '':\n",
    "        print(resource + ' already exists for subject ' + subject + ' ' + experiment )\n",
    "        continue\n",
    "\n",
    "    p = my_pyxnat.select.project(project)\n",
    "    s = p.subject(subject)\n",
    "    e = s.experiment(experiment) \n",
    "\n",
    "    r = e.resource('FREESURFER')\n",
    "    try:\n",
    "        r.create()\n",
    "    except:\n",
    "        pass\n",
    "\n",
    "    r.put_zip(zipfile, overwrite=False, extract=True, format=None, content=None, tags=None)\n"
   ]
  }
 ],
 "metadata": {
  "kernelspec": {
   "display_name": "base",
   "language": "python",
   "name": "python3"
  },
  "language_info": {
   "codemirror_mode": {
    "name": "ipython",
    "version": 3
   },
   "file_extension": ".py",
   "mimetype": "text/x-python",
   "name": "python",
   "nbconvert_exporter": "python",
   "pygments_lexer": "ipython3",
   "version": "3.10.4"
  }
 },
 "nbformat": 4,
 "nbformat_minor": 2
}
